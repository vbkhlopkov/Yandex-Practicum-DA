{
 "cells": [
  {
   "cell_type": "markdown",
   "metadata": {},
   "source": [
    "### Подготовка данных к анализу"
   ]
  },
  {
   "cell_type": "markdown",
   "metadata": {},
   "source": [
    "#### Изучим данные."
   ]
  },
  {
   "cell_type": "code",
   "execution_count": 1,
   "metadata": {},
   "outputs": [],
   "source": [
    "import pandas as pd\n",
    "import scipy.stats as stats\n",
    "import datetime as dt\n",
    "import numpy as np\n",
    "import matplotlib.pyplot as plt\n",
    "from pandas.plotting import register_matplotlib_converters\n",
    "import warnings\n",
    "# конвертеры, которые позволяют использовать типы pandas в matplotlib  \n",
    "register_matplotlib_converters()"
   ]
  },
  {
   "cell_type": "code",
   "execution_count": 2,
   "metadata": {},
   "outputs": [],
   "source": [
    "hypothesis, orders, visitors = (\n",
    "    pd.read_csv('/datasets/hypothesis.csv'),  # гипотезы\n",
    "    pd.read_csv('/datasets/orders.csv'),  # заказы\n",
    "    pd.read_csv('/datasets/visitors.csv'),  # пользователи"
   ]
  },
  {
   "cell_type": "code",
   "execution_count": 3,
   "metadata": {},
   "outputs": [
    {
     "name": "stdout",
     "output_type": "stream",
     "text": [
      "<class 'pandas.core.frame.DataFrame'>\n",
      "RangeIndex: 9 entries, 0 to 8\n",
      "Data columns (total 5 columns):\n",
      " #   Column      Non-Null Count  Dtype \n",
      "---  ------      --------------  ----- \n",
      " 0   Hypothesis  9 non-null      object\n",
      " 1   Reach       9 non-null      int64 \n",
      " 2   Impact      9 non-null      int64 \n",
      " 3   Confidence  9 non-null      int64 \n",
      " 4   Efforts     9 non-null      int64 \n",
      "dtypes: int64(4), object(1)\n",
      "memory usage: 492.0+ bytes\n"
     ]
    },
    {
     "data": {
      "text/html": [
       "<div>\n",
       "<style scoped>\n",
       "    .dataframe tbody tr th:only-of-type {\n",
       "        vertical-align: middle;\n",
       "    }\n",
       "\n",
       "    .dataframe tbody tr th {\n",
       "        vertical-align: top;\n",
       "    }\n",
       "\n",
       "    .dataframe thead th {\n",
       "        text-align: right;\n",
       "    }\n",
       "</style>\n",
       "<table border=\"1\" class=\"dataframe\">\n",
       "  <thead>\n",
       "    <tr style=\"text-align: right;\">\n",
       "      <th></th>\n",
       "      <th>Hypothesis</th>\n",
       "      <th>Reach</th>\n",
       "      <th>Impact</th>\n",
       "      <th>Confidence</th>\n",
       "      <th>Efforts</th>\n",
       "    </tr>\n",
       "  </thead>\n",
       "  <tbody>\n",
       "    <tr>\n",
       "      <th>0</th>\n",
       "      <td>Добавить два новых канала привлечения трафика, что позволит привлекать на 30% больше пользователей</td>\n",
       "      <td>3</td>\n",
       "      <td>10</td>\n",
       "      <td>8</td>\n",
       "      <td>6</td>\n",
       "    </tr>\n",
       "    <tr>\n",
       "      <th>1</th>\n",
       "      <td>Запустить собственную службу доставки, что сократит срок доставки заказов</td>\n",
       "      <td>2</td>\n",
       "      <td>5</td>\n",
       "      <td>4</td>\n",
       "      <td>10</td>\n",
       "    </tr>\n",
       "    <tr>\n",
       "      <th>2</th>\n",
       "      <td>Добавить блоки рекомендаций товаров на сайт интернет магазина, чтобы повысить конверсию и средний чек заказа</td>\n",
       "      <td>8</td>\n",
       "      <td>3</td>\n",
       "      <td>7</td>\n",
       "      <td>3</td>\n",
       "    </tr>\n",
       "    <tr>\n",
       "      <th>3</th>\n",
       "      <td>Изменить структура категорий, что увеличит конверсию, т.к. пользователи быстрее найдут нужный товар</td>\n",
       "      <td>8</td>\n",
       "      <td>3</td>\n",
       "      <td>3</td>\n",
       "      <td>8</td>\n",
       "    </tr>\n",
       "    <tr>\n",
       "      <th>4</th>\n",
       "      <td>Изменить цвет фона главной страницы, чтобы увеличить вовлеченность пользователей</td>\n",
       "      <td>3</td>\n",
       "      <td>1</td>\n",
       "      <td>1</td>\n",
       "      <td>1</td>\n",
       "    </tr>\n",
       "    <tr>\n",
       "      <th>5</th>\n",
       "      <td>Добавить страницу отзывов клиентов о магазине, что позволит увеличить количество заказов</td>\n",
       "      <td>3</td>\n",
       "      <td>2</td>\n",
       "      <td>2</td>\n",
       "      <td>3</td>\n",
       "    </tr>\n",
       "    <tr>\n",
       "      <th>6</th>\n",
       "      <td>Показать на главной странице баннеры с актуальными акциями и распродажами, чтобы увеличить конверсию</td>\n",
       "      <td>5</td>\n",
       "      <td>3</td>\n",
       "      <td>8</td>\n",
       "      <td>3</td>\n",
       "    </tr>\n",
       "    <tr>\n",
       "      <th>7</th>\n",
       "      <td>Добавить форму подписки на все основные страницы, чтобы собрать базу клиентов для email-рассылок</td>\n",
       "      <td>10</td>\n",
       "      <td>7</td>\n",
       "      <td>8</td>\n",
       "      <td>5</td>\n",
       "    </tr>\n",
       "    <tr>\n",
       "      <th>8</th>\n",
       "      <td>Запустить акцию, дающую скидку на товар в день рождения</td>\n",
       "      <td>1</td>\n",
       "      <td>9</td>\n",
       "      <td>9</td>\n",
       "      <td>5</td>\n",
       "    </tr>\n",
       "  </tbody>\n",
       "</table>\n",
       "</div>"
      ],
      "text/plain": [
       "                                                                                                     Hypothesis  \\\n",
       "0            Добавить два новых канала привлечения трафика, что позволит привлекать на 30% больше пользователей   \n",
       "1                                     Запустить собственную службу доставки, что сократит срок доставки заказов   \n",
       "2  Добавить блоки рекомендаций товаров на сайт интернет магазина, чтобы повысить конверсию и средний чек заказа   \n",
       "3           Изменить структура категорий, что увеличит конверсию, т.к. пользователи быстрее найдут нужный товар   \n",
       "4                              Изменить цвет фона главной страницы, чтобы увеличить вовлеченность пользователей   \n",
       "5                      Добавить страницу отзывов клиентов о магазине, что позволит увеличить количество заказов   \n",
       "6          Показать на главной странице баннеры с актуальными акциями и распродажами, чтобы увеличить конверсию   \n",
       "7              Добавить форму подписки на все основные страницы, чтобы собрать базу клиентов для email-рассылок   \n",
       "8                                                       Запустить акцию, дающую скидку на товар в день рождения   \n",
       "\n",
       "   Reach  Impact  Confidence  Efforts  \n",
       "0      3      10           8        6  \n",
       "1      2       5           4       10  \n",
       "2      8       3           7        3  \n",
       "3      8       3           3        8  \n",
       "4      3       1           1        1  \n",
       "5      3       2           2        3  \n",
       "6      5       3           8        3  \n",
       "7     10       7           8        5  \n",
       "8      1       9           9        5  "
      ]
     },
     "execution_count": 3,
     "metadata": {},
     "output_type": "execute_result"
    }
   ],
   "source": [
    "hypothesis.info()\n",
    "pd.options.display.max_colwidth = 150\n",
    "hypothesis"
   ]
  },
  {
   "cell_type": "code",
   "execution_count": 4,
   "metadata": {},
   "outputs": [
    {
     "name": "stdout",
     "output_type": "stream",
     "text": [
      "<class 'pandas.core.frame.DataFrame'>\n",
      "RangeIndex: 1197 entries, 0 to 1196\n",
      "Data columns (total 5 columns):\n",
      " #   Column         Non-Null Count  Dtype \n",
      "---  ------         --------------  ----- \n",
      " 0   transactionId  1197 non-null   int64 \n",
      " 1   visitorId      1197 non-null   int64 \n",
      " 2   date           1197 non-null   object\n",
      " 3   revenue        1197 non-null   int64 \n",
      " 4   group          1197 non-null   object\n",
      "dtypes: int64(3), object(2)\n",
      "memory usage: 46.9+ KB\n"
     ]
    },
    {
     "data": {
      "text/html": [
       "<div>\n",
       "<style scoped>\n",
       "    .dataframe tbody tr th:only-of-type {\n",
       "        vertical-align: middle;\n",
       "    }\n",
       "\n",
       "    .dataframe tbody tr th {\n",
       "        vertical-align: top;\n",
       "    }\n",
       "\n",
       "    .dataframe thead th {\n",
       "        text-align: right;\n",
       "    }\n",
       "</style>\n",
       "<table border=\"1\" class=\"dataframe\">\n",
       "  <thead>\n",
       "    <tr style=\"text-align: right;\">\n",
       "      <th></th>\n",
       "      <th>transactionId</th>\n",
       "      <th>visitorId</th>\n",
       "      <th>date</th>\n",
       "      <th>revenue</th>\n",
       "      <th>group</th>\n",
       "    </tr>\n",
       "  </thead>\n",
       "  <tbody>\n",
       "    <tr>\n",
       "      <th>123</th>\n",
       "      <td>3268937183</td>\n",
       "      <td>3722682546</td>\n",
       "      <td>2019-08-22</td>\n",
       "      <td>1450</td>\n",
       "      <td>A</td>\n",
       "    </tr>\n",
       "    <tr>\n",
       "      <th>423</th>\n",
       "      <td>4161654914</td>\n",
       "      <td>990904712</td>\n",
       "      <td>2019-08-19</td>\n",
       "      <td>11249</td>\n",
       "      <td>B</td>\n",
       "    </tr>\n",
       "    <tr>\n",
       "      <th>14</th>\n",
       "      <td>3859315276</td>\n",
       "      <td>1565034404</td>\n",
       "      <td>2019-08-15</td>\n",
       "      <td>10980</td>\n",
       "      <td>A</td>\n",
       "    </tr>\n",
       "    <tr>\n",
       "      <th>185</th>\n",
       "      <td>716439623</td>\n",
       "      <td>1129369369</td>\n",
       "      <td>2019-08-23</td>\n",
       "      <td>1840</td>\n",
       "      <td>A</td>\n",
       "    </tr>\n",
       "    <tr>\n",
       "      <th>1043</th>\n",
       "      <td>543733679</td>\n",
       "      <td>4100747010</td>\n",
       "      <td>2019-08-11</td>\n",
       "      <td>1120</td>\n",
       "      <td>B</td>\n",
       "    </tr>\n",
       "  </tbody>\n",
       "</table>\n",
       "</div>"
      ],
      "text/plain": [
       "      transactionId   visitorId        date  revenue group\n",
       "123      3268937183  3722682546  2019-08-22     1450     A\n",
       "423      4161654914   990904712  2019-08-19    11249     B\n",
       "14       3859315276  1565034404  2019-08-15    10980     A\n",
       "185       716439623  1129369369  2019-08-23     1840     A\n",
       "1043      543733679  4100747010  2019-08-11     1120     B"
      ]
     },
     "execution_count": 4,
     "metadata": {},
     "output_type": "execute_result"
    }
   ],
   "source": [
    "orders.info()\n",
    "orders.sample(5)"
   ]
  },
  {
   "cell_type": "code",
   "execution_count": 5,
   "metadata": {},
   "outputs": [
    {
     "name": "stdout",
     "output_type": "stream",
     "text": [
      "<class 'pandas.core.frame.DataFrame'>\n",
      "RangeIndex: 62 entries, 0 to 61\n",
      "Data columns (total 3 columns):\n",
      " #   Column    Non-Null Count  Dtype \n",
      "---  ------    --------------  ----- \n",
      " 0   date      62 non-null     object\n",
      " 1   group     62 non-null     object\n",
      " 2   visitors  62 non-null     int64 \n",
      "dtypes: int64(1), object(2)\n",
      "memory usage: 1.6+ KB\n"
     ]
    },
    {
     "data": {
      "text/html": [
       "<div>\n",
       "<style scoped>\n",
       "    .dataframe tbody tr th:only-of-type {\n",
       "        vertical-align: middle;\n",
       "    }\n",
       "\n",
       "    .dataframe tbody tr th {\n",
       "        vertical-align: top;\n",
       "    }\n",
       "\n",
       "    .dataframe thead th {\n",
       "        text-align: right;\n",
       "    }\n",
       "</style>\n",
       "<table border=\"1\" class=\"dataframe\">\n",
       "  <thead>\n",
       "    <tr style=\"text-align: right;\">\n",
       "      <th></th>\n",
       "      <th>date</th>\n",
       "      <th>group</th>\n",
       "      <th>visitors</th>\n",
       "    </tr>\n",
       "  </thead>\n",
       "  <tbody>\n",
       "    <tr>\n",
       "      <th>24</th>\n",
       "      <td>2019-08-25</td>\n",
       "      <td>A</td>\n",
       "      <td>621</td>\n",
       "    </tr>\n",
       "    <tr>\n",
       "      <th>8</th>\n",
       "      <td>2019-08-09</td>\n",
       "      <td>A</td>\n",
       "      <td>617</td>\n",
       "    </tr>\n",
       "    <tr>\n",
       "      <th>18</th>\n",
       "      <td>2019-08-19</td>\n",
       "      <td>A</td>\n",
       "      <td>502</td>\n",
       "    </tr>\n",
       "    <tr>\n",
       "      <th>60</th>\n",
       "      <td>2019-08-30</td>\n",
       "      <td>B</td>\n",
       "      <td>490</td>\n",
       "    </tr>\n",
       "    <tr>\n",
       "      <th>26</th>\n",
       "      <td>2019-08-27</td>\n",
       "      <td>A</td>\n",
       "      <td>711</td>\n",
       "    </tr>\n",
       "  </tbody>\n",
       "</table>\n",
       "</div>"
      ],
      "text/plain": [
       "          date group  visitors\n",
       "24  2019-08-25     A       621\n",
       "8   2019-08-09     A       617\n",
       "18  2019-08-19     A       502\n",
       "60  2019-08-30     B       490\n",
       "26  2019-08-27     A       711"
      ]
     },
     "execution_count": 5,
     "metadata": {},
     "output_type": "execute_result"
    }
   ],
   "source": [
    "visitors.info()\n",
    "visitors.sample(5)"
   ]
  },
  {
   "cell_type": "markdown",
   "metadata": {},
   "source": [
    "#### Заменим названия столбцов."
   ]
  },
  {
   "cell_type": "code",
   "execution_count": 6,
   "metadata": {},
   "outputs": [
    {
     "data": {
      "text/plain": [
       "Index(['hypothesis', 'reach', 'impact', 'confidence', 'efforts'], dtype='object')"
      ]
     },
     "execution_count": 6,
     "metadata": {},
     "output_type": "execute_result"
    }
   ],
   "source": [
    "# замена названий столбцов\n",
    "hypothesis.columns = hypothesis.columns.str.lower()\n",
    "hypothesis.columns"
   ]
  },
  {
   "cell_type": "markdown",
   "metadata": {},
   "source": [
    "#### Преобразуем данные в нужные типы."
   ]
  },
  {
   "cell_type": "code",
   "execution_count": 7,
   "metadata": {},
   "outputs": [
    {
     "name": "stdout",
     "output_type": "stream",
     "text": [
      "<class 'pandas.core.frame.DataFrame'>\n",
      "RangeIndex: 1197 entries, 0 to 1196\n",
      "Data columns (total 5 columns):\n",
      " #   Column         Non-Null Count  Dtype         \n",
      "---  ------         --------------  -----         \n",
      " 0   transactionId  1197 non-null   int64         \n",
      " 1   visitorId      1197 non-null   int64         \n",
      " 2   date           1197 non-null   datetime64[ns]\n",
      " 3   revenue        1197 non-null   int64         \n",
      " 4   group          1197 non-null   object        \n",
      "dtypes: datetime64[ns](1), int64(3), object(1)\n",
      "memory usage: 46.9+ KB\n",
      "None\n",
      "<class 'pandas.core.frame.DataFrame'>\n",
      "RangeIndex: 62 entries, 0 to 61\n",
      "Data columns (total 3 columns):\n",
      " #   Column    Non-Null Count  Dtype         \n",
      "---  ------    --------------  -----         \n",
      " 0   date      62 non-null     datetime64[ns]\n",
      " 1   group     62 non-null     object        \n",
      " 2   visitors  62 non-null     int64         \n",
      "dtypes: datetime64[ns](1), int64(1), object(1)\n",
      "memory usage: 1.6+ KB\n",
      "None\n"
     ]
    }
   ],
   "source": [
    "# преобразование данных о времени\n",
    "orders['date'] = orders['date'].map(\n",
    "    lambda x: dt.datetime.strptime(x, '%Y-%m-%d')\n",
    ")\n",
    "visitors['date'] = visitors['date'].map(\n",
    "    lambda x: dt.datetime.strptime(x, '%Y-%m-%d')\n",
    ")\n",
    "print(orders.info())\n",
    "print(visitors.info())"
   ]
  },
  {
   "cell_type": "markdown",
   "metadata": {},
   "source": [
    "#### Проверим данные на пропуски."
   ]
  },
  {
   "cell_type": "code",
   "execution_count": 8,
   "metadata": {},
   "outputs": [
    {
     "name": "stdout",
     "output_type": "stream",
     "text": [
      "hypothesis    0\n",
      "reach         0\n",
      "impact        0\n",
      "confidence    0\n",
      "efforts       0\n",
      "dtype: int64\n",
      "transactionId    0\n",
      "visitorId        0\n",
      "date             0\n",
      "revenue          0\n",
      "group            0\n",
      "dtype: int64\n",
      "date        0\n",
      "group       0\n",
      "visitors    0\n",
      "dtype: int64\n"
     ]
    }
   ],
   "source": [
    "# проверка пропусков\n",
    "print(hypothesis.isna().sum())\n",
    "print(orders.isna().sum())\n",
    "print(visitors.isna().sum())"
   ]
  },
  {
   "cell_type": "markdown",
   "metadata": {},
   "source": [
    "В данных отсутствуют пропуски."
   ]
  },
  {
   "cell_type": "markdown",
   "metadata": {},
   "source": [
    "#### Проверим данные на явные и неявные дубликаты."
   ]
  },
  {
   "cell_type": "code",
   "execution_count": 9,
   "metadata": {},
   "outputs": [
    {
     "name": "stdout",
     "output_type": "stream",
     "text": [
      "Количество явных дубликатов в визитах: 0\n",
      "Количество явных дубликатов в заказах: 0\n",
      "Количество явных дубликатов в расходах: 0\n"
     ]
    }
   ],
   "source": [
    "# проверка явных дубликатов\n",
    "print('Количество явных дубликатов в визитах:', hypothesis.duplicated().sum())\n",
    "print('Количество явных дубликатов в заказах:', orders.duplicated().sum())\n",
    "print('Количество явных дубликатов в расходах:', visitors.duplicated().sum())"
   ]
  },
  {
   "cell_type": "code",
   "execution_count": 10,
   "metadata": {},
   "outputs": [
    {
     "data": {
      "text/plain": [
       "array(['Показать на главной странице баннеры с актуальными акциями и распродажами, чтобы увеличить конверсию',\n",
       "       'Изменить цвет фона главной страницы, чтобы увеличить вовлеченность пользователей',\n",
       "       'Изменить структура категорий, что увеличит конверсию, т.к. пользователи быстрее найдут нужный товар',\n",
       "       'Запустить собственную службу доставки, что сократит срок доставки заказов',\n",
       "       'Запустить акцию, дающую скидку на товар в день рождения',\n",
       "       'Добавить форму подписки на все основные страницы, чтобы собрать базу клиентов для email-рассылок',\n",
       "       'Добавить страницу отзывов клиентов о магазине, что позволит увеличить количество заказов',\n",
       "       'Добавить два новых канала привлечения трафика, что позволит привлекать на 30% больше пользователей',\n",
       "       'Добавить блоки рекомендаций товаров на сайт интернет магазина, чтобы повысить конверсию и средний чек заказа'],\n",
       "      dtype=object)"
      ]
     },
     "execution_count": 10,
     "metadata": {},
     "output_type": "execute_result"
    }
   ],
   "source": [
    "# проверка неявных дубликатов в столбце с гипотезами\n",
    "hypothesis['hypothesis'].sort_values(ascending=False).unique()"
   ]
  },
  {
   "cell_type": "markdown",
   "metadata": {},
   "source": [
    "В данных отсутствуют явные и неявные дубликаты."
   ]
  },
  {
   "cell_type": "markdown",
   "metadata": {},
   "source": [
    "### Приоритизация гипотез\n",
    "В файле /datasets/hypothesis.csv 9 гипотез по увеличению выручки интернет-магазина с указанными параметрами Reach, Impact, Confidence, Effort.\n",
    "#### Применим фреймворк ICE для приоритизации гипотез. Отсортируем их по убыванию приоритета."
   ]
  },
  {
   "cell_type": "code",
   "execution_count": 11,
   "metadata": {},
   "outputs": [
    {
     "data": {
      "text/html": [
       "<div>\n",
       "<style scoped>\n",
       "    .dataframe tbody tr th:only-of-type {\n",
       "        vertical-align: middle;\n",
       "    }\n",
       "\n",
       "    .dataframe tbody tr th {\n",
       "        vertical-align: top;\n",
       "    }\n",
       "\n",
       "    .dataframe thead th {\n",
       "        text-align: right;\n",
       "    }\n",
       "</style>\n",
       "<table border=\"1\" class=\"dataframe\">\n",
       "  <thead>\n",
       "    <tr style=\"text-align: right;\">\n",
       "      <th></th>\n",
       "      <th>hypothesis</th>\n",
       "      <th>ICE</th>\n",
       "    </tr>\n",
       "  </thead>\n",
       "  <tbody>\n",
       "    <tr>\n",
       "      <th>8</th>\n",
       "      <td>Запустить акцию, дающую скидку на товар в день рождения</td>\n",
       "      <td>16.200</td>\n",
       "    </tr>\n",
       "    <tr>\n",
       "      <th>0</th>\n",
       "      <td>Добавить два новых канала привлечения трафика, что позволит привлекать на 30% больше пользователей</td>\n",
       "      <td>13.333</td>\n",
       "    </tr>\n",
       "    <tr>\n",
       "      <th>7</th>\n",
       "      <td>Добавить форму подписки на все основные страницы, чтобы собрать базу клиентов для email-рассылок</td>\n",
       "      <td>11.200</td>\n",
       "    </tr>\n",
       "    <tr>\n",
       "      <th>6</th>\n",
       "      <td>Показать на главной странице баннеры с актуальными акциями и распродажами, чтобы увеличить конверсию</td>\n",
       "      <td>8.000</td>\n",
       "    </tr>\n",
       "    <tr>\n",
       "      <th>2</th>\n",
       "      <td>Добавить блоки рекомендаций товаров на сайт интернет магазина, чтобы повысить конверсию и средний чек заказа</td>\n",
       "      <td>7.000</td>\n",
       "    </tr>\n",
       "    <tr>\n",
       "      <th>1</th>\n",
       "      <td>Запустить собственную службу доставки, что сократит срок доставки заказов</td>\n",
       "      <td>2.000</td>\n",
       "    </tr>\n",
       "    <tr>\n",
       "      <th>5</th>\n",
       "      <td>Добавить страницу отзывов клиентов о магазине, что позволит увеличить количество заказов</td>\n",
       "      <td>1.333</td>\n",
       "    </tr>\n",
       "    <tr>\n",
       "      <th>3</th>\n",
       "      <td>Изменить структура категорий, что увеличит конверсию, т.к. пользователи быстрее найдут нужный товар</td>\n",
       "      <td>1.125</td>\n",
       "    </tr>\n",
       "    <tr>\n",
       "      <th>4</th>\n",
       "      <td>Изменить цвет фона главной страницы, чтобы увеличить вовлеченность пользователей</td>\n",
       "      <td>1.000</td>\n",
       "    </tr>\n",
       "  </tbody>\n",
       "</table>\n",
       "</div>"
      ],
      "text/plain": [
       "                                                                                                     hypothesis  \\\n",
       "8                                                       Запустить акцию, дающую скидку на товар в день рождения   \n",
       "0            Добавить два новых канала привлечения трафика, что позволит привлекать на 30% больше пользователей   \n",
       "7              Добавить форму подписки на все основные страницы, чтобы собрать базу клиентов для email-рассылок   \n",
       "6          Показать на главной странице баннеры с актуальными акциями и распродажами, чтобы увеличить конверсию   \n",
       "2  Добавить блоки рекомендаций товаров на сайт интернет магазина, чтобы повысить конверсию и средний чек заказа   \n",
       "1                                     Запустить собственную службу доставки, что сократит срок доставки заказов   \n",
       "5                      Добавить страницу отзывов клиентов о магазине, что позволит увеличить количество заказов   \n",
       "3           Изменить структура категорий, что увеличит конверсию, т.к. пользователи быстрее найдут нужный товар   \n",
       "4                              Изменить цвет фона главной страницы, чтобы увеличить вовлеченность пользователей   \n",
       "\n",
       "      ICE  \n",
       "8  16.200  \n",
       "0  13.333  \n",
       "7  11.200  \n",
       "6   8.000  \n",
       "2   7.000  \n",
       "1   2.000  \n",
       "5   1.333  \n",
       "3   1.125  \n",
       "4   1.000  "
      ]
     },
     "execution_count": 11,
     "metadata": {},
     "output_type": "execute_result"
    }
   ],
   "source": [
    "hypothesis['ICE']=round(hypothesis['impact']*hypothesis['confidence']/hypothesis['efforts'], 3)\n",
    "\n",
    "hypothesis[['hypothesis', 'ICE']].sort_values(by='ICE', ascending=False)"
   ]
  },
  {
   "cell_type": "markdown",
   "metadata": {},
   "source": [
    "Наиболее перспективная гипотеза по ICE: 8 ('Запустить акцию, дающую скидку на товар в день рождения'). Затем идут гипотезы 0, 7, 6 и т.д."
   ]
  },
  {
   "cell_type": "markdown",
   "metadata": {},
   "source": [
    "#### Применим фреймворк RICE для приоритизации гипотез. Отсортируем их по убыванию приоритета."
   ]
  },
  {
   "cell_type": "code",
   "execution_count": 12,
   "metadata": {},
   "outputs": [
    {
     "data": {
      "text/html": [
       "<div>\n",
       "<style scoped>\n",
       "    .dataframe tbody tr th:only-of-type {\n",
       "        vertical-align: middle;\n",
       "    }\n",
       "\n",
       "    .dataframe tbody tr th {\n",
       "        vertical-align: top;\n",
       "    }\n",
       "\n",
       "    .dataframe thead th {\n",
       "        text-align: right;\n",
       "    }\n",
       "</style>\n",
       "<table border=\"1\" class=\"dataframe\">\n",
       "  <thead>\n",
       "    <tr style=\"text-align: right;\">\n",
       "      <th></th>\n",
       "      <th>hypothesis</th>\n",
       "      <th>RICE</th>\n",
       "    </tr>\n",
       "  </thead>\n",
       "  <tbody>\n",
       "    <tr>\n",
       "      <th>7</th>\n",
       "      <td>Добавить форму подписки на все основные страницы, чтобы собрать базу клиентов для email-рассылок</td>\n",
       "      <td>112.0</td>\n",
       "    </tr>\n",
       "    <tr>\n",
       "      <th>2</th>\n",
       "      <td>Добавить блоки рекомендаций товаров на сайт интернет магазина, чтобы повысить конверсию и средний чек заказа</td>\n",
       "      <td>56.0</td>\n",
       "    </tr>\n",
       "    <tr>\n",
       "      <th>0</th>\n",
       "      <td>Добавить два новых канала привлечения трафика, что позволит привлекать на 30% больше пользователей</td>\n",
       "      <td>40.0</td>\n",
       "    </tr>\n",
       "    <tr>\n",
       "      <th>6</th>\n",
       "      <td>Показать на главной странице баннеры с актуальными акциями и распродажами, чтобы увеличить конверсию</td>\n",
       "      <td>40.0</td>\n",
       "    </tr>\n",
       "    <tr>\n",
       "      <th>8</th>\n",
       "      <td>Запустить акцию, дающую скидку на товар в день рождения</td>\n",
       "      <td>16.2</td>\n",
       "    </tr>\n",
       "    <tr>\n",
       "      <th>3</th>\n",
       "      <td>Изменить структура категорий, что увеличит конверсию, т.к. пользователи быстрее найдут нужный товар</td>\n",
       "      <td>9.0</td>\n",
       "    </tr>\n",
       "    <tr>\n",
       "      <th>1</th>\n",
       "      <td>Запустить собственную службу доставки, что сократит срок доставки заказов</td>\n",
       "      <td>4.0</td>\n",
       "    </tr>\n",
       "    <tr>\n",
       "      <th>5</th>\n",
       "      <td>Добавить страницу отзывов клиентов о магазине, что позволит увеличить количество заказов</td>\n",
       "      <td>4.0</td>\n",
       "    </tr>\n",
       "    <tr>\n",
       "      <th>4</th>\n",
       "      <td>Изменить цвет фона главной страницы, чтобы увеличить вовлеченность пользователей</td>\n",
       "      <td>3.0</td>\n",
       "    </tr>\n",
       "  </tbody>\n",
       "</table>\n",
       "</div>"
      ],
      "text/plain": [
       "                                                                                                     hypothesis  \\\n",
       "7              Добавить форму подписки на все основные страницы, чтобы собрать базу клиентов для email-рассылок   \n",
       "2  Добавить блоки рекомендаций товаров на сайт интернет магазина, чтобы повысить конверсию и средний чек заказа   \n",
       "0            Добавить два новых канала привлечения трафика, что позволит привлекать на 30% больше пользователей   \n",
       "6          Показать на главной странице баннеры с актуальными акциями и распродажами, чтобы увеличить конверсию   \n",
       "8                                                       Запустить акцию, дающую скидку на товар в день рождения   \n",
       "3           Изменить структура категорий, что увеличит конверсию, т.к. пользователи быстрее найдут нужный товар   \n",
       "1                                     Запустить собственную службу доставки, что сократит срок доставки заказов   \n",
       "5                      Добавить страницу отзывов клиентов о магазине, что позволит увеличить количество заказов   \n",
       "4                              Изменить цвет фона главной страницы, чтобы увеличить вовлеченность пользователей   \n",
       "\n",
       "    RICE  \n",
       "7  112.0  \n",
       "2   56.0  \n",
       "0   40.0  \n",
       "6   40.0  \n",
       "8   16.2  \n",
       "3    9.0  \n",
       "1    4.0  \n",
       "5    4.0  \n",
       "4    3.0  "
      ]
     },
     "execution_count": 12,
     "metadata": {},
     "output_type": "execute_result"
    }
   ],
   "source": [
    "hypothesis['RICE']=hypothesis['reach']*hypothesis['impact']*hypothesis['confidence']/hypothesis['efforts']\n",
    "\n",
    "hypothesis[['hypothesis', 'RICE']].sort_values(by='RICE', ascending=False)"
   ]
  },
  {
   "cell_type": "markdown",
   "metadata": {},
   "source": [
    "Наиболее перспективная гипотеза по ICE: 7 ('Добавить форму подписки на все основные страницы, чтобы собрать базу клиентов для email-рассылок'). Затем идут гипотезы 2, 0, 6 и т.д."
   ]
  },
  {
   "cell_type": "markdown",
   "metadata": {},
   "source": [
    "#### Укажем, как изменилась приоритизация гипотез при применении RICE вместо ICE. Объясним, почему так произошло."
   ]
  },
  {
   "cell_type": "markdown",
   "metadata": {},
   "source": [
    "Фреймворк ICE (влияние, уверенность, усилия) — один из самых популярных способов приоритизации задач, который рассчитывается по формуле: Влияние * Уверенность в успехе / Объём затраченных на реализацию усилий.  \n",
    "У этого фреймворка есть модификация RICE (охват, влияние, уверенность, усилия), которая рассчитывается по формуле: Охват аудитории * Влияние * Уверенность в успехе / Объём затраченных на реализацию усилий.\n",
    "\n",
    "При применении ICE наиболее перспективной гипотезой оказалась гипотеза под номером 8 ('Запустить акцию, дающую скидку на товар в день рождения').  \n",
    "При применении RICE на первом месте – гипотеза под номером 7 ('Добавить форму подписки на все основные страницы, чтобы собрать базу клиентов для email-рассылок'), так как её параметр Reach (охват пользователей) равен 10, в то время как у других гипотез он меньше. По ICE эта гипотеза находилась на третьем месте."
   ]
  },
  {
   "cell_type": "markdown",
   "metadata": {},
   "source": [
    "### Анализ A/B-теста\n",
    "Был проведен A/B-тест и получены результаты, которые описаны в файлах /datasets/orders.csv и /datasets/visitors.csv. Проанализируем A/B-тест."
   ]
  },
  {
   "cell_type": "markdown",
   "metadata": {},
   "source": [
    "#### Построим график кумулятивной выручки по группам. Сделаем выводы и предположения."
   ]
  },
  {
   "cell_type": "markdown",
   "metadata": {},
   "source": [
    "В А/В тесте пользователи были разделены на две группы: A и B. Так как на одном наборе данных нужно провести несколько тестов, то имеет место множественная проверка гипотез. Узнаем даты начала и окончания теста:"
   ]
  },
  {
   "cell_type": "code",
   "execution_count": 13,
   "metadata": {},
   "outputs": [
    {
     "name": "stdout",
     "output_type": "stream",
     "text": [
      "Дата начала теста: 2019-08-01\n",
      "Дата окончания теста: 2019-08-31\n"
     ]
    }
   ],
   "source": [
    "print('Дата начала теста:', orders['date'].dt.date.min())\n",
    "print('Дата окончания теста:', orders['date'].dt.date.max())"
   ]
  },
  {
   "cell_type": "markdown",
   "metadata": {},
   "source": [
    "Посчитаем количество уникальных пользователей в каждой группе и проверим, нет ли в данных пользователей, участвовавших в нескольких группах теста одновременно."
   ]
  },
  {
   "cell_type": "code",
   "execution_count": 14,
   "metadata": {},
   "outputs": [
    {
     "name": "stdout",
     "output_type": "stream",
     "text": [
      "Количество пользователей в группе A: 503\n",
      "Количество пользователей в группе B: 586\n",
      "Количество пользователей, участвовавших одновременно в двух группах: 58\n"
     ]
    }
   ],
   "source": [
    "group_a = orders[orders['group'] == 'A']['visitorId'].unique()\n",
    "group_b = orders[orders['group'] == 'B']['visitorId'].unique()\n",
    "common_visitors = set(group_a) & set(group_b)\n",
    "\n",
    "print('Количество пользователей в группе A:', len(group_a))\n",
    "print('Количество пользователей в группе B:', len(group_b))\n",
    "print('Количество пользователей, участвовавших одновременно в двух группах:', len(common_visitors))"
   ]
  },
  {
   "cell_type": "markdown",
   "metadata": {},
   "source": [
    "В данных присутствует значительное количество пользователей, участвовавших одновременно в двух группах. Хотя такие пользователи могут повлиять на корректность сравнения среднего количества заказов на посетителя между группами, мы продолжим работать с данными с учётом таких пользователей.  \n",
    "\n",
    "Соберем кумулятивные данные, чтобы построить графики. "
   ]
  },
  {
   "cell_type": "code",
   "execution_count": 15,
   "metadata": {},
   "outputs": [],
   "source": [
    "# создаем массив уникальных пар значений дат и групп теста\n",
    "datesGroups = orders[['date','group']].drop_duplicates()\n",
    "\n",
    "ordersAggregated = datesGroups.apply(lambda x: orders[np.logical_and(orders['date'] <= x['date'], orders['group'] == x['group'])]\\\n",
    ".agg({'date' : 'max', 'group' : 'max', 'transactionId' : 'nunique', 'visitorId' : 'nunique', 'revenue' : 'sum'}), axis=1).sort_values(by=['date','group'])\n",
    "\n",
    "visitorsAggregated = datesGroups.apply(lambda x: visitors[np.logical_and(visitors['date'] <= x['date'], visitors['group'] == x['group'])].agg({'date' : 'max', 'group' : 'max', 'visitors' : 'sum'}), axis=1).sort_values(by=['date','group']) \n",
    "\n",
    "cumulativeData = ordersAggregated.merge(visitorsAggregated, left_on=['date', 'group'], right_on=['date', 'group'])\n",
    "cumulativeData.columns = ['date', 'group', 'orders', 'buyers', 'revenue', 'visitors']"
   ]
  },
  {
   "cell_type": "code",
   "execution_count": 16,
   "metadata": {},
   "outputs": [
    {
     "data": {
      "image/png": "[encoded data removed]",
      "text/plain": [
       "<Figure size 1200x600 with 1 Axes>"
      ]
     },
     "metadata": {},
     "output_type": "display_data"
    }
   ],
   "source": [
    "# датафрейм с кумулятивным количеством заказов и кумулятивной выручкой по дням в группе А\n",
    "cumulativeRevenueA = cumulativeData[cumulativeData['group']=='A'][['date','revenue', 'orders']]\n",
    "\n",
    "# датафрейм с кумулятивным количеством заказов и кумулятивной выручкой по дням в группе B\n",
    "cumulativeRevenueB = cumulativeData[cumulativeData['group']=='B'][['date','revenue', 'orders']]\n",
    "\n",
    "# Строим график выручки группы А\n",
    "plt.figure(figsize=(12,6))\n",
    "plt.plot(cumulativeRevenueA['date'], cumulativeRevenueA['revenue'], label='A')\n",
    "\n",
    "# Строим график выручки группы B\n",
    "plt.plot(cumulativeRevenueB['date'], cumulativeRevenueB['revenue'], label='B')\n",
    "plt.legend()\n",
    "plt.xlabel('Дата')\n",
    "plt.ylabel('Выручка')\n",
    "plt.title('График кумулятивной выручки по группам');"
   ]
  },
  {
   "cell_type": "markdown",
   "metadata": {},
   "source": [
    "Выручка почти равномерно увеличивается в течение всего теста. При эттом график выручки группы B в нескольких точках резко растет. Это может сигнализировать о всплесках числа заказов, либо о появлении очень дорогих заказов в выборке. "
   ]
  },
  {
   "cell_type": "markdown",
   "metadata": {},
   "source": [
    "#### Построим график график кумулятивного среднего чека по группам. Сделаем выводы и предположения."
   ]
  },
  {
   "cell_type": "code",
   "execution_count": 17,
   "metadata": {},
   "outputs": [
    {
     "data": {
      "image/png": "[encoded data removed]",
      "text/plain": [
       "<Figure size 1200x600 with 1 Axes>"
      ]
     },
     "metadata": {},
     "output_type": "display_data"
    }
   ],
   "source": [
    "plt.figure(figsize=(12,6))\n",
    "plt.plot(cumulativeRevenueA['date'], cumulativeRevenueA['revenue']/cumulativeRevenueA['orders'], label='A')\n",
    "plt.plot(cumulativeRevenueB['date'], cumulativeRevenueB['revenue']/cumulativeRevenueB['orders'], label='B')\n",
    "plt.legend()\n",
    "plt.xlabel('Дата')\n",
    "plt.ylabel('Средний чек')\n",
    "plt.title('График кумулятивного среднего чека по группам');"
   ]
  },
  {
   "cell_type": "markdown",
   "metadata": {},
   "source": [
    "В середине теста (18-19 августа) сегмент B резко вырвался вперёд и продолжал лидировать весь остаток теста. Похоже, что аномальные значения влияют на результаты. При заключительном анализе их нужно удалить."
   ]
  },
  {
   "cell_type": "markdown",
   "metadata": {},
   "source": [
    "#### Построим график относительного изменения кумулятивного среднего чека группы B к группе A. Сделаем выводы и предположения."
   ]
  },
  {
   "cell_type": "code",
   "execution_count": 18,
   "metadata": {},
   "outputs": [
    {
     "data": {
      "image/png": "[encoded data removed]",
      "text/plain": [
       "<Figure size 1200x600 with 1 Axes>"
      ]
     },
     "metadata": {},
     "output_type": "display_data"
    }
   ],
   "source": [
    "# собираем данные в одном датафрейме\n",
    "mergedCumulativeRevenue = cumulativeRevenueA.merge(cumulativeRevenueB, left_on='date', right_on='date', how='left', suffixes=['A', 'B'])\n",
    "\n",
    "# cтроим отношение средних чеков\n",
    "plt.figure(figsize=(12,6))\n",
    "plt.plot(mergedCumulativeRevenue['date'], (mergedCumulativeRevenue['revenueB']/mergedCumulativeRevenue['ordersB'])/(mergedCumulativeRevenue['revenueA']/mergedCumulativeRevenue['ordersA'])-1)\n",
    "\n",
    "# добавляем ось X\n",
    "plt.axhline(y=0, color='black', linestyle='--')\n",
    "plt.xlabel('Дата')\n",
    "plt.ylabel('Относительное изменение')\n",
    "plt.title('График относительного изменения кумулятивного среднего чека группы B к группе A');"
   ]
  },
  {
   "cell_type": "markdown",
   "metadata": {},
   "source": [
    "В начале теста группа B значительно проигрывала группе A, затем вырвалась вперёд. Потом средний чек для группы B уменьшился и снова резко вырос, но теперь постепенно падает. Результаты теста значительно и резко менялись в несколько дат из-за аномальных заказов. Сделать из этого графика определённые выводы нельзя."
   ]
  },
  {
   "cell_type": "markdown",
   "metadata": {},
   "source": [
    "#### Построим график кумулятивного среднего количества заказов на посетителя по группам. Сделаем выводы и предположения."
   ]
  },
  {
   "cell_type": "code",
   "execution_count": 19,
   "metadata": {},
   "outputs": [
    {
     "data": {
      "image/png": "[encoded data removed]",
      "text/plain": [
       "<Figure size 1200x600 with 1 Axes>"
      ]
     },
     "metadata": {},
     "output_type": "display_data"
    }
   ],
   "source": [
    "# считаем среднее количество заказов на посетителя\n",
    "cumulativeData['conversion'] = cumulativeData['orders']/cumulativeData['visitors']\n",
    "\n",
    "# отделяем данные по группе A\n",
    "cumulativeDataA = cumulativeData[cumulativeData['group']=='A']\n",
    "\n",
    "# отделяем данные по группе B\n",
    "cumulativeDataB = cumulativeData[cumulativeData['group']=='B']\n",
    "\n",
    "# строим графики\n",
    "plt.figure(figsize=(12,6))\n",
    "plt.plot(cumulativeDataA['date'], cumulativeDataA['conversion'], label='A')\n",
    "plt.plot(cumulativeDataB['date'], cumulativeDataB['conversion'], label='B')\n",
    "plt.legend()\n",
    "\n",
    "# задаем масштаб осей\n",
    "plt.axis([dt.datetime(2019, 8, 1), dt.datetime(2019, 8, 31), 0.028, 0.038])\n",
    "plt.xlabel('Дата')\n",
    "plt.ylabel('Среднее количество заказов')\n",
    "plt.title('График кумулятивного среднего количества заказов на посетителя по группам');"
   ]
  },
  {
   "cell_type": "markdown",
   "metadata": {},
   "source": [
    "У группы B среднее количество заказов на посетителя вырвалось вперёд и зафиксировалось, а у группы A — просело, но тоже зафиксировалось."
   ]
  },
  {
   "cell_type": "markdown",
   "metadata": {},
   "source": [
    "#### Построим график относительного изменения кумулятивного среднего количества заказов на посетителя группы B к группе A. Сделаем выводы и предположения."
   ]
  },
  {
   "cell_type": "code",
   "execution_count": 20,
   "metadata": {},
   "outputs": [
    {
     "data": {
      "image/png": "[encoded data removed]",
      "text/plain": [
       "<Figure size 1200x600 with 1 Axes>"
      ]
     },
     "metadata": {},
     "output_type": "display_data"
    }
   ],
   "source": [
    "mergedCumulativeConversions = cumulativeDataA[['date','conversion']].merge(cumulativeDataB[['date','conversion']], left_on='date', right_on='date', how='left', suffixes=['A', 'B'])\n",
    "\n",
    "plt.figure(figsize=(12,6))\n",
    "plt.plot(mergedCumulativeConversions['date'], mergedCumulativeConversions['conversionB']/mergedCumulativeConversions['conversionA']-1, label=\"Относительный прирост кумулятивного среднего количества заказов на посетителя группы B относительно группы A\")\n",
    "\n",
    "plt.axhline(y=0, color='black', linestyle='--')\n",
    "plt.axhline(y=0.14, color='grey', linestyle='--')\n",
    "plt.axis([\"2019-08-01\", '2019-08-31', -0.5, 0.5])\n",
    "plt.xlabel('Дата')\n",
    "plt.ylabel('Относительное изменение')\n",
    "plt.title('График относительного изменения кумулятивного среднего количества заказов на посетителя группы B к группе A');"
   ]
  },
  {
   "cell_type": "markdown",
   "metadata": {},
   "source": [
    "График относительного изменения кумулятивного среднего количества заказов на посетителя показывает, что результаты группы B лучше группы A: имеют тенденцию к росту, либо зафиксировались около прироста в 14% относительно группы A."
   ]
  },
  {
   "cell_type": "markdown",
   "metadata": {},
   "source": [
    "#### Построим точечный график количества заказов по пользователям. Сделаем выводы и предположения."
   ]
  },
  {
   "cell_type": "code",
   "execution_count": 21,
   "metadata": {},
   "outputs": [
    {
     "name": "stdout",
     "output_type": "stream",
     "text": [
      "       visitorId  orders\n",
      "1023  4256040402      11\n",
      "591   2458001652      11\n",
      "569   2378935119       9\n",
      "487   2038680547       8\n",
      "44     199603092       5\n",
      "744   3062433592       5\n",
      "55     237748145       5\n",
      "917   3803269165       5\n",
      "299   1230306981       5\n",
      "897   3717692402       5\n"
     ]
    }
   ],
   "source": [
    "ordersByVisitors = (\n",
    "    orders.groupby('visitorId', as_index=False)\n",
    "    .agg({'transactionId': 'nunique'})\n",
    ")\n",
    "ordersByVisitors.columns = ['visitorId', 'orders']\n",
    "\n",
    "print(ordersByVisitors.sort_values(by='orders', ascending=False).head(10))"
   ]
  },
  {
   "cell_type": "code",
   "execution_count": 22,
   "metadata": {},
   "outputs": [
    {
     "data": {
      "image/png": "[encoded data removed]",
      "text/plain": [
       "<Figure size 1200x600 with 1 Axes>"
      ]
     },
     "metadata": {},
     "output_type": "display_data"
    }
   ],
   "source": [
    "# серия из чисел от 0 до количества наблюдений в ordersByVisitors\n",
    "x_values = pd.Series(range(0, len(ordersByVisitors)))\n",
    "\n",
    "plt.figure(figsize=(12,6))\n",
    "plt.scatter(x_values, ordersByVisitors['orders'])\n",
    "plt.ylabel('Количнство заказов')\n",
    "plt.title('Точечный график количества заказов по пользователям');"
   ]
  },
  {
   "cell_type": "markdown",
   "metadata": {},
   "source": [
    "Пользователей, заказавших более двух раз, мало. Они вполне могут быть аномальными."
   ]
  },
  {
   "cell_type": "markdown",
   "metadata": {},
   "source": [
    "#### Посчитаем 95-й и 99-й перцентили количества заказов на пользователя. Выберем границу для определения аномальных пользователей."
   ]
  },
  {
   "cell_type": "code",
   "execution_count": 23,
   "metadata": {},
   "outputs": [
    {
     "name": "stdout",
     "output_type": "stream",
     "text": [
      "       visitorId  orders\n",
      "1023  4256040402      11\n",
      "591   2458001652      11\n",
      "569   2378935119       9\n",
      "487   2038680547       8\n",
      "44     199603092       5\n",
      "744   3062433592       5\n",
      "55     237748145       5\n",
      "917   3803269165       5\n",
      "299   1230306981       5\n",
      "897   3717692402       5\n",
      "95-й и 99-й перцентили количества заказов на пользователя: [2. 4.]\n"
     ]
    }
   ],
   "source": [
    "print(ordersByVisitors.sort_values(by='orders', ascending=False).head(10))  \n",
    "print('95-й и 99-й перцентили количества заказов на пользователя:', np.percentile(ordersByVisitors['orders'], [95, 99])) "
   ]
  },
  {
   "cell_type": "markdown",
   "metadata": {},
   "source": [
    "Не более 5% пользователей совершали больше двух заказов. И не более 1% пользователей — больше четырех заказов. Примем за аномальных пользователей тех, кто совершил 3 заказа и более."
   ]
  },
  {
   "cell_type": "markdown",
   "metadata": {},
   "source": [
    "#### Построим точечный график стоимостей заказов. Сделаем выводы и предположения."
   ]
  },
  {
   "cell_type": "code",
   "execution_count": 24,
   "metadata": {},
   "outputs": [
    {
     "name": "stdout",
     "output_type": "stream",
     "text": [
      "      transactionId   visitorId       date  revenue group\n",
      "425       590470918  1920142716 2019-08-19  1294500     B\n",
      "1196     3936777065  2108080724 2019-08-15   202740     B\n",
      "858       192721366  1316129916 2019-08-27    93940     A\n",
      "1136      666610489  1307669133 2019-08-13    92550     A\n",
      "744      3668308183   888512513 2019-08-27    86620     B\n",
      "682      1216533772  4266935830 2019-08-29    78990     B\n",
      "662      1811671147  4266935830 2019-08-29    78990     A\n",
      "743      3603576309  4133034833 2019-08-09    67990     A\n",
      "1103     1348774318  1164614297 2019-08-12    66350     A\n",
      "1099      316924019   148427295 2019-08-12    65710     A\n"
     ]
    }
   ],
   "source": [
    "print(orders.sort_values(by='revenue', ascending=False).head(10))"
   ]
  },
  {
   "cell_type": "code",
   "execution_count": 25,
   "metadata": {},
   "outputs": [
    {
     "data": {
      "image/png": "[encoded data removed]",
      "text/plain": [
       "<Figure size 1200x600 with 1 Axes>"
      ]
     },
     "metadata": {},
     "output_type": "display_data"
    }
   ],
   "source": [
    "x_values = pd.Series(range(0, len(orders['revenue'])))\n",
    "plt.figure(figsize=(12,6))\n",
    "plt.scatter(x_values, orders['revenue'])\n",
    "plt.ylabel('Стоимость заказов')\n",
    "plt.title('Точечный график стоимостей заказов');"
   ]
  },
  {
   "cell_type": "markdown",
   "metadata": {},
   "source": [
    "Заказов стоимостью выше 100 000 рублей не очень много. Есть выбросы в районе 100 000 — 200 000 рублей. \n",
    "Заказ на 1,3 миллиона в интернет-магазине выглядит весьма аномально."
   ]
  },
  {
   "cell_type": "markdown",
   "metadata": {},
   "source": [
    "#### Посчитаем 95-й и 99-й перцентили стоимости заказов. Выберем границу для определения аномальных заказов."
   ]
  },
  {
   "cell_type": "code",
   "execution_count": 26,
   "metadata": {},
   "outputs": [
    {
     "name": "stdout",
     "output_type": "stream",
     "text": [
      "   transactionId   visitorId       date  revenue group\n",
      "0     3667963787  3312258926 2019-08-15     1650     B\n",
      "1     2804400009  3642806036 2019-08-15      730     B\n",
      "2     2961555356  4069496402 2019-08-15      400     A\n",
      "3     3797467345  1196621759 2019-08-15     9759     B\n",
      "4     2282983706  2322279887 2019-08-15     2308     B\n",
      "5      182168103   935554773 2019-08-15     2210     B\n",
      "6      398296753  2900797465 2019-08-15     1860     B\n",
      "7     2626614568    78758296 2019-08-15     1044     A\n",
      "8     1576988021   295230930 2019-08-15    13710     A\n",
      "9     1506739906  1882260405 2019-08-15     1855     B\n",
      "95-й и 99-й перцентили стоимости заказов: [28000.  58233.2]\n"
     ]
    }
   ],
   "source": [
    "print(orders.head(10))\n",
    "print('95-й и 99-й перцентили стоимости заказов:', np.percentile(orders['revenue'], [95, 99])) "
   ]
  },
  {
   "cell_type": "markdown",
   "metadata": {},
   "source": [
    "Не более, чем у 5% заказов чек дороже 28 000 рублей. И не больше, чем у 1% заказов — дороже 58 233 рублей. Примем за аномальных пользователей тех, кто совершил заказ на сумму свыше 28 000 рублей. "
   ]
  },
  {
   "cell_type": "markdown",
   "metadata": {},
   "source": [
    "#### Посчитаем статистическую значимость различий в среднем количестве заказов на посетителя между группами по «сырым» данным. Сделаем выводы и предположения."
   ]
  },
  {
   "cell_type": "markdown",
   "metadata": {},
   "source": [
    "Так как в данных есть большие (по сравнению с нормальным распределением) выбросы, которые могут повлиять на результат, для проверки гипотез воспользуемся критерием Манна-Уитни.  \n",
    "\n",
    "Сформулируем гипотезы.  \n",
    "Нулевая: различий в среднем количестве заказов на посетителя между группами нет.  \n",
    "Альтернативная: различия в среднем количестве заказов на посетителя между группами есть.  "
   ]
  },
  {
   "cell_type": "markdown",
   "metadata": {},
   "source": [
    "Начнём с подготовки данных. "
   ]
  },
  {
   "cell_type": "code",
   "execution_count": 27,
   "metadata": {},
   "outputs": [],
   "source": [
    "visitorsADaily = visitors[visitors['group'] == 'A'][['date', 'visitors']]\n",
    "visitorsADaily.columns = ['date', 'visitorsPerDateA']\n",
    "\n",
    "visitorsACummulative = visitorsADaily.apply(\n",
    "    lambda x: visitorsADaily[visitorsADaily['date'] <= x['date']].agg(\n",
    "        {'date': 'max', 'visitorsPerDateA': 'sum'}\n",
    "    ),\n",
    "    axis=1,\n",
    ")\n",
    "visitorsACummulative.columns = ['date', 'visitorsCummulativeA']\n",
    "\n",
    "visitorsBDaily = visitors[visitors['group'] == 'B'][['date', 'visitors']]\n",
    "visitorsBDaily.columns = ['date', 'visitorsPerDateB']\n",
    "\n",
    "visitorsBCummulative = visitorsBDaily.apply(\n",
    "    lambda x: visitorsBDaily[visitorsBDaily['date'] <= x['date']].agg(\n",
    "        {'date': 'max', 'visitorsPerDateB': 'sum'}\n",
    "    ),\n",
    "    axis=1,\n",
    ")\n",
    "visitorsBCummulative.columns = ['date', 'visitorsCummulativeB']\n",
    "\n",
    "ordersADaily = (\n",
    "    orders[orders['group'] == 'A'][['date', 'transactionId', 'visitorId', 'revenue']]\n",
    "    .groupby('date', as_index=False)\n",
    "    .agg({'transactionId': pd.Series.nunique, 'revenue': 'sum'})\n",
    ")\n",
    "ordersADaily.columns = ['date', 'ordersPerDateA', 'revenuePerDateA']\n",
    "\n",
    "ordersACummulative = ordersADaily.apply(\n",
    "    lambda x: ordersADaily[ordersADaily['date'] <= x['date']].agg(\n",
    "        {'date': 'max', 'ordersPerDateA': 'sum', 'revenuePerDateA': 'sum'}\n",
    "    ),\n",
    "    axis=1,\n",
    ").sort_values(by=['date'])\n",
    "ordersACummulative.columns = [\n",
    "    'date',\n",
    "    'ordersCummulativeA',\n",
    "    'revenueCummulativeA',\n",
    "]\n",
    "\n",
    "ordersBDaily = (\n",
    "    orders[orders['group'] == 'B'][['date', 'transactionId', 'visitorId', 'revenue']]\n",
    "    .groupby('date', as_index=False)\n",
    "    .agg({'transactionId': pd.Series.nunique, 'revenue': 'sum'})\n",
    ")\n",
    "ordersBDaily.columns = ['date', 'ordersPerDateB', 'revenuePerDateB']\n",
    "\n",
    "ordersBCummulative = ordersBDaily.apply(\n",
    "    lambda x: ordersBDaily[ordersBDaily['date'] <= x['date']].agg(\n",
    "        {'date': 'max', 'ordersPerDateB': 'sum', 'revenuePerDateB': 'sum'}\n",
    "    ),\n",
    "    axis=1,\n",
    ").sort_values(by=['date'])\n",
    "ordersBCummulative.columns = [\n",
    "    'date',\n",
    "    'ordersCummulativeB',\n",
    "    'revenueCummulativeB',\n",
    "]"
   ]
  },
  {
   "cell_type": "markdown",
   "metadata": {},
   "source": [
    "Посчитаем статистическую значимость различия в среднем количестве заказов на посетителя между группами."
   ]
  },
  {
   "cell_type": "code",
   "execution_count": 28,
   "metadata": {},
   "outputs": [
    {
     "name": "stdout",
     "output_type": "stream",
     "text": [
      "P-value для сравнения средних чеков между группами: 0.017\n",
      "Относительное различие в среднем между группами: 0.138\n"
     ]
    }
   ],
   "source": [
    "ordersByVisitorsA = (\n",
    "    orders[orders['group'] == 'A']\n",
    "    .groupby('visitorId', as_index=False)\n",
    "    .agg({'transactionId': pd.Series.nunique})\n",
    ")\n",
    "ordersByVisitorsA.columns = ['visitorId', 'orders']\n",
    "\n",
    "ordersByVisitorsB = (\n",
    "    orders[orders['group'] == 'B']\n",
    "    .groupby('visitorId', as_index=False)\n",
    "    .agg({'transactionId': pd.Series.nunique})\n",
    ")\n",
    "ordersByVisitorsB.columns = ['visitorId', 'orders']\n",
    "\n",
    "sampleA = pd.concat(\n",
    "    [\n",
    "        ordersByVisitorsA['orders'],\n",
    "        pd.Series(\n",
    "            0,\n",
    "            index=np.arange(\n",
    "                visitorsADaily['visitorsPerDateA'].sum() - len(ordersByVisitorsA['orders'])\n",
    "            ),\n",
    "            name='orders',\n",
    "        ),\n",
    "    ],\n",
    "    axis=0,\n",
    ")\n",
    "\n",
    "sampleB = pd.concat(\n",
    "    [\n",
    "        ordersByVisitorsB['orders'],\n",
    "        pd.Series(\n",
    "            0,\n",
    "            index=np.arange(\n",
    "                visitorsBDaily['visitorsPerDateB'].sum() - len(ordersByVisitorsB['orders'])\n",
    "            ),\n",
    "            name='orders',\n",
    "        ),\n",
    "    ],\n",
    "    axis=0,\n",
    ")\n",
    "\n",
    "print('P-value для сравнения средних чеков между группами:', \"{0:.3f}\".format(stats.mannwhitneyu(sampleA, sampleB)[1]))\n",
    "print('Относительное различие в среднем между группами:', \"{0:.3f}\".format(sampleB.mean() / sampleA.mean() - 1))"
   ]
  },
  {
   "cell_type": "markdown",
   "metadata": {},
   "source": [
    "P-value значительно меньше 0.05, поэтому нулевую гипотезу отвергаем. Анализ «сырых данных» сообщает, что в среднем количестве заказов на посетителя между группами есть статистически значимые различия. Относительный прирост среднего количества заказов на посетителя группы B к группе A равен 13.8%."
   ]
  },
  {
   "cell_type": "markdown",
   "metadata": {},
   "source": [
    "#### Посчитаем статистическую значимость различий в среднем чеке заказа между группами по «сырым» данным. Сделаем выводы и предположения."
   ]
  },
  {
   "cell_type": "markdown",
   "metadata": {},
   "source": [
    "Сформулируем гипотезы.  \n",
    "Нулевая гипотеза: различий в среднем чеке между группами нет.  \n",
    "Альтернативная гипотеза: различия в среднем чеке между группами есть. "
   ]
  },
  {
   "cell_type": "code",
   "execution_count": 29,
   "metadata": {},
   "outputs": [
    {
     "name": "stdout",
     "output_type": "stream",
     "text": [
      "P-value для сравнения средних чеков между группами: 0.729\n",
      "Относительный прирост среднего чека группы B: 0.259\n"
     ]
    }
   ],
   "source": [
    "print('P-value для сравнения средних чеков между группами:', '{0:.3f}'.format(stats.mannwhitneyu(orders[orders['group']=='A']['revenue'], orders[orders['group']=='B']['revenue'])[1]))\n",
    "print('Относительный прирост среднего чека группы B:', '{0:.3f}'.format(orders[orders['group']=='B']['revenue'].mean()/orders[orders['group']=='A']['revenue'].mean()-1))"
   ]
  },
  {
   "cell_type": "markdown",
   "metadata": {},
   "source": [
    "P-value больше 0.05 — статистически значимых отличий в среднем чеке между группами нет. Относительный прирост среднего чека группы B к группе A равен 26%."
   ]
  },
  {
   "cell_type": "markdown",
   "metadata": {},
   "source": [
    "#### Посчитаем статистическую значимость различий в среднем количестве заказов на посетителя между группами по «очищенным» данным. Сделаем выводы и предположения."
   ]
  },
  {
   "cell_type": "markdown",
   "metadata": {},
   "source": [
    "Подготовим данные, очищенные от аномалий.  \n",
    "\n",
    "95-й и 99-й перцентили средних чеков равны 28 000 и 58 233 рублям. А 95-й и 99-й перцентили числа заказов на одного пользователя равны 2 и 4 заказам на пользователя. Примем за аномальных пользователей тех, кто совершил 3 заказа и более, или совершил заказ на сумму свыше 28 000 рублей. Таким образом мы убрали до 5% пользователей с наибольшим числом заказов и до 5% заказов с наибольшей стоимостью."
   ]
  },
  {
   "cell_type": "code",
   "execution_count": 30,
   "metadata": {},
   "outputs": [
    {
     "name": "stdout",
     "output_type": "stream",
     "text": [
      "1099    148427295\n",
      "18      199603092\n",
      "928     204675465\n",
      "23      237748145\n",
      "37      249864742\n",
      "Name: visitorId, dtype: int64\n",
      "74\n"
     ]
    }
   ],
   "source": [
    "visitorsWithManyOrders = pd.concat(\n",
    "    [\n",
    "        ordersByVisitorsA[ordersByVisitorsA['orders'] > np.percentile(ordersByVisitorsA['orders'], 95)]['visitorId'],\n",
    "        ordersByVisitorsB[ordersByVisitorsB['orders'] > np.percentile(ordersByVisitorsB['orders'], 95)]['visitorId'],\n",
    "    ],\n",
    "    axis=0,\n",
    ")\n",
    "visitorsWithExpensiveOrders = orders[orders['revenue'] > np.percentile(orders['revenue'], 95)]['visitorId']\n",
    "abnormalVisitors = (\n",
    "    pd.concat([visitorsWithManyOrders, visitorsWithExpensiveOrders], axis=0)\n",
    "    .drop_duplicates()\n",
    "    .sort_values()\n",
    ")\n",
    "print(abnormalVisitors.head(5))\n",
    "print(abnormalVisitors.shape[0]) "
   ]
  },
  {
   "cell_type": "markdown",
   "metadata": {},
   "source": [
    "Всего 74 аномальных пользователя. Посчитаем относительные потери пользователей после фильтрации."
   ]
  },
  {
   "cell_type": "code",
   "execution_count": 31,
   "metadata": {},
   "outputs": [
    {
     "name": "stdout",
     "output_type": "stream",
     "text": [
      "Общее количество уникальных пользователей в двух группах: 1089\n",
      "Количество аномальных пользователей: 74\n",
      "Относительные потери: 0.068\n"
     ]
    }
   ],
   "source": [
    "print('Общее количество уникальных пользователей в двух группах:', len(group_a)+len(group_b))\n",
    "print('Количество аномальных пользователей:', abnormalVisitors.shape[0])\n",
    "print('Относительные потери:', round(abnormalVisitors.shape[0]/(len(group_a)+len(group_b)),3))"
   ]
  },
  {
   "cell_type": "markdown",
   "metadata": {},
   "source": [
    "Относительные потери составляют 6.8%.  \n",
    "Подготовим выборки количества заказов по пользователям по группам теста."
   ]
  },
  {
   "cell_type": "code",
   "execution_count": 32,
   "metadata": {},
   "outputs": [],
   "source": [
    "sampleAFiltered = pd.concat(\n",
    "    [\n",
    "        ordersByVisitorsA[\n",
    "            np.logical_not(ordersByVisitorsA['visitorId'].isin(abnormalVisitors))\n",
    "        ]['orders'],\n",
    "        pd.Series(\n",
    "            0,\n",
    "            index=np.arange(\n",
    "                visitorsADaily['visitorsPerDateA'].sum() - len(ordersByVisitorsA['orders'])\n",
    "            ),\n",
    "            name='orders',\n",
    "        ),\n",
    "    ],\n",
    "    axis=0,\n",
    ")\n",
    "\n",
    "sampleBFiltered = pd.concat(\n",
    "    [\n",
    "        ordersByVisitorsB[\n",
    "            np.logical_not(ordersByVisitorsB['visitorId'].isin(abnormalVisitors))\n",
    "        ]['orders'],\n",
    "        pd.Series(\n",
    "            0,\n",
    "            index=np.arange(\n",
    "                visitorsBDaily['visitorsPerDateB'].sum() - len(ordersByVisitorsB['orders'])\n",
    "            ),\n",
    "            name='orders',\n",
    "        ),\n",
    "    ],\n",
    "    axis=0,\n",
    ")"
   ]
  },
  {
   "cell_type": "markdown",
   "metadata": {},
   "source": [
    "Применим статистический критерий Манна-Уитни к полученным выборкам."
   ]
  },
  {
   "cell_type": "code",
   "execution_count": 33,
   "metadata": {},
   "outputs": [
    {
     "name": "stdout",
     "output_type": "stream",
     "text": [
      "P-value для сравнения среднего между очищенными группами: 0.013\n",
      "Относительный прирост среднего очищенной группы B: 0.173\n"
     ]
    }
   ],
   "source": [
    "print('P-value для сравнения среднего между очищенными группами:', '{0:.3f}'.format(stats.mannwhitneyu(sampleAFiltered, sampleBFiltered)[1]))\n",
    "print('Относительный прирост среднего очищенной группы B:', '{0:.3f}'.format(sampleBFiltered.mean()/sampleAFiltered.mean()-1))"
   ]
  },
  {
   "cell_type": "markdown",
   "metadata": {},
   "source": [
    "Результаты по среднему количеству заказов не сильно изменились. Разница между сегментами выросла примерно на 3% и стала 17.3%."
   ]
  },
  {
   "cell_type": "markdown",
   "metadata": {},
   "source": [
    "#### Посчитаем статистическую значимость различий в среднем чеке заказа между группами по «очищенным» данным. Сделаем выводы и предположения."
   ]
  },
  {
   "cell_type": "code",
   "execution_count": 34,
   "metadata": {},
   "outputs": [
    {
     "name": "stdout",
     "output_type": "stream",
     "text": [
      "P-value для сравнения средних чеков между очищенными группами: 0.738\n",
      "Относительный прирост среднего чека очищенной группы B: -0.020\n"
     ]
    }
   ],
   "source": [
    "print('P-value для сравнения средних чеков между очищенными группами:',\n",
    "    '{0:.3f}'.format(\n",
    "        stats.mannwhitneyu(\n",
    "            orders[\n",
    "                np.logical_and(\n",
    "                    orders['group'] == 'A',\n",
    "                    np.logical_not(orders['visitorId'].isin(abnormalVisitors)),\n",
    "                )\n",
    "            ]['revenue'],\n",
    "            orders[\n",
    "                np.logical_and(\n",
    "                    orders['group'] == 'B',\n",
    "                    np.logical_not(orders['visitorId'].isin(abnormalVisitors)),\n",
    "                )\n",
    "            ]['revenue'],\n",
    "        )[1]\n",
    "    )\n",
    ")\n",
    "\n",
    "print('Относительный прирост среднего чека очищенной группы B:',\n",
    "    \"{0:.3f}\".format(\n",
    "        orders[\n",
    "            np.logical_and(\n",
    "                orders['group'] == 'B',\n",
    "                np.logical_not(orders['visitorId'].isin(abnormalVisitors)),\n",
    "            )\n",
    "        ]['revenue'].mean()\n",
    "        / orders[\n",
    "            np.logical_and(\n",
    "                orders['group'] == 'A',\n",
    "                np.logical_not(orders['visitorId'].isin(abnormalVisitors)),\n",
    "            )\n",
    "        ]['revenue'].mean()\n",
    "        - 1\n",
    "    )\n",
    ")"
   ]
  },
  {
   "cell_type": "markdown",
   "metadata": {},
   "source": [
    "P-value немного увеличился. Статистически значимых отличий в среднем чеке между группами нет. Теперь относительный прирост среднего чека группы A к группе B равен 2%."
   ]
  },
  {
   "cell_type": "markdown",
   "metadata": {},
   "source": [
    "#### Примем решение по результатам теста и объясним его. Варианты решений:\n",
    "      1. Остановить тест, зафиксировать победу одной из групп.\n",
    "      2. Остановить тест, зафиксировать отсутствие различий между группами.\n",
    "      3. Продолжить тест."
   ]
  },
  {
   "cell_type": "markdown",
   "metadata": {},
   "source": [
    "Имеющиеся факты:\n",
    "- Есть статистически значимые различия по среднему количеству заказов на посетителя между группами как по «сырым», так и по данным после фильтрации аномалий;\n",
    "- Нет статистически значимого различия по среднему чеку между группами ни по «сырым», ни по данным после фильтрации аномалий;\n",
    "- График относительного изменения кумулятивного среднего количества заказов на посетителя между группами сообщает, что результаты группы B лучше группы A: имеют тенденцию к росту, либо зафиксировались около прироста в 14% относительно группы A;\n",
    "- График различия среднего чека колеблется, сделать из этого графика определённые выводы нельзя.\n",
    "\n",
    "Исходя из обнаруженных фактов, тест следует остановить и признать победу группы B."
   ]
  },
  {
   "cell_type": "markdown",
   "metadata": {},
   "source": [
    "### Общий вывод"
   ]
  },
  {
   "cell_type": "markdown",
   "metadata": {},
   "source": [
    "- Наиболее перспективная гипотеза по ICE – под номером 8: 'Запустить акцию, дающую скидку на товар в день рождения'.  \n",
    "  Наиболее перспективная гипотеза по RICE – под номером 7: 'Добавить форму подписки на все основные страницы, чтобы собрать базу клиентов для email-рассылок'.\n",
    "- По результатам анализа A/B-теста, исходя из обнаруженных фактов, было принято решение о том, что тест следует остановить и признать победу группы B."
   ]
  },
  {
   "cell_type": "code",
   "execution_count": null,
   "metadata": {},
   "outputs": [],
   "source": []
  }
 ],
 "metadata": {
  "ExecuteTimeLog": [
   {
    "duration": 1770,
    "start_time": "2024-05-08T11:32:07.099Z"
   },
   {
    "duration": 37,
    "start_time": "2024-05-08T11:32:32.488Z"
   },
   {
    "duration": 2,
    "start_time": "2024-05-08T11:33:28.537Z"
   },
   {
    "duration": 160,
    "start_time": "2024-05-08T11:36:40.475Z"
   },
   {
    "duration": 10,
    "start_time": "2024-05-08T11:36:45.943Z"
   },
   {
    "duration": 8,
    "start_time": "2024-05-08T11:38:02.868Z"
   },
   {
    "duration": 8,
    "start_time": "2024-05-08T11:38:08.692Z"
   },
   {
    "duration": 5,
    "start_time": "2024-05-08T11:38:19.470Z"
   },
   {
    "duration": 12,
    "start_time": "2024-05-08T11:38:56.210Z"
   },
   {
    "duration": 10,
    "start_time": "2024-05-08T11:39:01.951Z"
   },
   {
    "duration": 9,
    "start_time": "2024-05-08T11:39:29.248Z"
   },
   {
    "duration": 9,
    "start_time": "2024-05-08T11:39:42.403Z"
   },
   {
    "duration": 11,
    "start_time": "2024-05-08T11:40:01.803Z"
   },
   {
    "duration": 10,
    "start_time": "2024-05-08T11:43:02.705Z"
   },
   {
    "duration": 75,
    "start_time": "2024-05-08T17:56:56.329Z"
   },
   {
    "duration": 75,
    "start_time": "2024-05-08T17:57:06.312Z"
   },
   {
    "duration": 54,
    "start_time": "2024-05-08T17:57:10.443Z"
   },
   {
    "duration": 424,
    "start_time": "2024-05-08T17:57:19.509Z"
   },
   {
    "duration": 209,
    "start_time": "2024-05-08T17:57:19.935Z"
   },
   {
    "duration": 17,
    "start_time": "2024-05-08T17:57:20.145Z"
   },
   {
    "duration": 80,
    "start_time": "2024-05-08T17:57:20.164Z"
   },
   {
    "duration": 42,
    "start_time": "2024-05-08T17:57:20.246Z"
   },
   {
    "duration": 97,
    "start_time": "2024-05-08T17:57:20.289Z"
   },
   {
    "duration": 1178,
    "start_time": "2024-05-08T17:57:20.387Z"
   },
   {
    "duration": 10,
    "start_time": "2024-05-08T17:57:39.476Z"
   },
   {
    "duration": 5,
    "start_time": "2024-05-08T17:57:58.124Z"
   },
   {
    "duration": 6,
    "start_time": "2024-05-08T17:59:33.188Z"
   },
   {
    "duration": 7,
    "start_time": "2024-05-08T17:59:50.380Z"
   },
   {
    "duration": 6,
    "start_time": "2024-05-08T18:02:43.022Z"
   },
   {
    "duration": 12,
    "start_time": "2024-05-08T18:07:25.931Z"
   },
   {
    "duration": 436,
    "start_time": "2024-05-08T18:08:06.042Z"
   },
   {
    "duration": 18,
    "start_time": "2024-05-08T18:08:31.288Z"
   },
   {
    "duration": 13,
    "start_time": "2024-05-08T18:09:49.854Z"
   },
   {
    "duration": 46,
    "start_time": "2024-05-09T06:19:07.480Z"
   },
   {
    "duration": 743,
    "start_time": "2024-05-09T06:19:42.876Z"
   },
   {
    "duration": 224,
    "start_time": "2024-05-09T06:19:43.621Z"
   },
   {
    "duration": 12,
    "start_time": "2024-05-09T06:19:43.846Z"
   },
   {
    "duration": 6,
    "start_time": "2024-05-09T06:19:43.859Z"
   },
   {
    "duration": 12,
    "start_time": "2024-05-09T06:19:43.867Z"
   },
   {
    "duration": 11,
    "start_time": "2024-05-09T06:19:43.880Z"
   },
   {
    "duration": 8,
    "start_time": "2024-05-09T06:19:43.893Z"
   },
   {
    "duration": 23,
    "start_time": "2024-05-09T06:19:43.902Z"
   },
   {
    "duration": 105,
    "start_time": "2024-05-09T06:19:43.926Z"
   },
   {
    "duration": 281,
    "start_time": "2024-05-09T06:21:12.389Z"
   },
   {
    "duration": 488,
    "start_time": "2024-05-09T06:22:42.726Z"
   },
   {
    "duration": 8,
    "start_time": "2024-05-09T06:24:09.262Z"
   },
   {
    "duration": 18,
    "start_time": "2024-05-09T06:27:04.179Z"
   },
   {
    "duration": 21,
    "start_time": "2024-05-09T06:27:21.757Z"
   },
   {
    "duration": 923,
    "start_time": "2024-05-09T08:45:46.735Z"
   },
   {
    "duration": 242,
    "start_time": "2024-05-09T08:45:47.661Z"
   },
   {
    "duration": 16,
    "start_time": "2024-05-09T08:45:47.904Z"
   },
   {
    "duration": 31,
    "start_time": "2024-05-09T08:45:47.923Z"
   },
   {
    "duration": 23,
    "start_time": "2024-05-09T08:45:47.956Z"
   },
   {
    "duration": 11,
    "start_time": "2024-05-09T08:45:47.981Z"
   },
   {
    "duration": 14,
    "start_time": "2024-05-09T08:45:47.994Z"
   },
   {
    "duration": 27,
    "start_time": "2024-05-09T08:45:48.010Z"
   },
   {
    "duration": 602,
    "start_time": "2024-05-09T08:45:48.039Z"
   },
   {
    "duration": 300,
    "start_time": "2024-05-09T08:45:48.646Z"
   },
   {
    "duration": 474,
    "start_time": "2024-05-09T08:47:24.480Z"
   },
   {
    "duration": 376,
    "start_time": "2024-05-09T09:14:12.866Z"
   },
   {
    "duration": 708,
    "start_time": "2024-05-09T09:15:24.141Z"
   },
   {
    "duration": 75,
    "start_time": "2024-05-09T09:15:24.851Z"
   },
   {
    "duration": 19,
    "start_time": "2024-05-09T09:15:24.927Z"
   },
   {
    "duration": 20,
    "start_time": "2024-05-09T09:15:24.948Z"
   },
   {
    "duration": 31,
    "start_time": "2024-05-09T09:15:24.971Z"
   },
   {
    "duration": 22,
    "start_time": "2024-05-09T09:15:25.004Z"
   },
   {
    "duration": 35,
    "start_time": "2024-05-09T09:15:25.028Z"
   },
   {
    "duration": 36,
    "start_time": "2024-05-09T09:15:25.065Z"
   },
   {
    "duration": 587,
    "start_time": "2024-05-09T09:15:25.102Z"
   },
   {
    "duration": 337,
    "start_time": "2024-05-09T09:15:25.691Z"
   },
   {
    "duration": 394,
    "start_time": "2024-05-09T09:15:26.029Z"
   },
   {
    "duration": 436,
    "start_time": "2024-05-09T09:15:26.425Z"
   },
   {
    "duration": 314,
    "start_time": "2024-05-09T09:15:59.895Z"
   },
   {
    "duration": 19,
    "start_time": "2024-05-09T09:16:53.419Z"
   },
   {
    "duration": 38,
    "start_time": "2024-05-09T09:17:36.238Z"
   },
   {
    "duration": 266,
    "start_time": "2024-05-09T09:17:53.876Z"
   },
   {
    "duration": 30,
    "start_time": "2024-05-09T09:17:58.894Z"
   },
   {
    "duration": 289,
    "start_time": "2024-05-09T09:17:59.461Z"
   },
   {
    "duration": 397,
    "start_time": "2024-05-09T09:17:59.949Z"
   },
   {
    "duration": 333,
    "start_time": "2024-05-09T09:18:00.425Z"
   },
   {
    "duration": 713,
    "start_time": "2024-05-09T09:18:16.854Z"
   },
   {
    "duration": 92,
    "start_time": "2024-05-09T09:18:17.570Z"
   },
   {
    "duration": 12,
    "start_time": "2024-05-09T09:18:17.663Z"
   },
   {
    "duration": 8,
    "start_time": "2024-05-09T09:18:17.677Z"
   },
   {
    "duration": 27,
    "start_time": "2024-05-09T09:18:17.686Z"
   },
   {
    "duration": 12,
    "start_time": "2024-05-09T09:18:17.714Z"
   },
   {
    "duration": 13,
    "start_time": "2024-05-09T09:18:17.728Z"
   },
   {
    "duration": 21,
    "start_time": "2024-05-09T09:18:17.743Z"
   },
   {
    "duration": 11,
    "start_time": "2024-05-09T09:18:17.766Z"
   },
   {
    "duration": 94,
    "start_time": "2024-05-09T09:18:17.779Z"
   },
   {
    "duration": 101,
    "start_time": "2024-05-09T09:18:17.875Z"
   },
   {
    "duration": 0,
    "start_time": "2024-05-09T09:18:17.977Z"
   },
   {
    "duration": 0,
    "start_time": "2024-05-09T09:18:17.979Z"
   },
   {
    "duration": 0,
    "start_time": "2024-05-09T09:18:17.980Z"
   },
   {
    "duration": 17,
    "start_time": "2024-05-09T09:21:25.066Z"
   },
   {
    "duration": 186,
    "start_time": "2024-05-09T09:21:55.807Z"
   },
   {
    "duration": 730,
    "start_time": "2024-05-09T09:22:02.311Z"
   },
   {
    "duration": 76,
    "start_time": "2024-05-09T09:22:03.044Z"
   },
   {
    "duration": 23,
    "start_time": "2024-05-09T09:22:03.121Z"
   },
   {
    "duration": 6,
    "start_time": "2024-05-09T09:22:03.146Z"
   },
   {
    "duration": 38,
    "start_time": "2024-05-09T09:22:03.153Z"
   },
   {
    "duration": 15,
    "start_time": "2024-05-09T09:22:03.193Z"
   },
   {
    "duration": 16,
    "start_time": "2024-05-09T09:22:03.210Z"
   },
   {
    "duration": 26,
    "start_time": "2024-05-09T09:22:03.231Z"
   },
   {
    "duration": 11,
    "start_time": "2024-05-09T09:22:03.259Z"
   },
   {
    "duration": 279,
    "start_time": "2024-05-09T09:22:03.273Z"
   },
   {
    "duration": 0,
    "start_time": "2024-05-09T09:22:03.554Z"
   },
   {
    "duration": 0,
    "start_time": "2024-05-09T09:22:03.556Z"
   },
   {
    "duration": 0,
    "start_time": "2024-05-09T09:22:03.558Z"
   },
   {
    "duration": 0,
    "start_time": "2024-05-09T09:22:03.560Z"
   },
   {
    "duration": 0,
    "start_time": "2024-05-09T09:22:03.562Z"
   },
   {
    "duration": 168,
    "start_time": "2024-05-09T09:22:43.777Z"
   },
   {
    "duration": 14,
    "start_time": "2024-05-09T09:23:06.244Z"
   },
   {
    "duration": 653,
    "start_time": "2024-05-09T09:23:18.867Z"
   },
   {
    "duration": 76,
    "start_time": "2024-05-09T09:23:19.522Z"
   },
   {
    "duration": 13,
    "start_time": "2024-05-09T09:23:19.600Z"
   },
   {
    "duration": 5,
    "start_time": "2024-05-09T09:23:19.615Z"
   },
   {
    "duration": 30,
    "start_time": "2024-05-09T09:23:19.622Z"
   },
   {
    "duration": 11,
    "start_time": "2024-05-09T09:23:19.654Z"
   },
   {
    "duration": 12,
    "start_time": "2024-05-09T09:23:19.666Z"
   },
   {
    "duration": 20,
    "start_time": "2024-05-09T09:23:19.679Z"
   },
   {
    "duration": 11,
    "start_time": "2024-05-09T09:23:19.701Z"
   },
   {
    "duration": 32,
    "start_time": "2024-05-09T09:23:19.714Z"
   },
   {
    "duration": 15,
    "start_time": "2024-05-09T09:23:19.747Z"
   },
   {
    "duration": 622,
    "start_time": "2024-05-09T09:23:19.764Z"
   },
   {
    "duration": 218,
    "start_time": "2024-05-09T09:23:20.388Z"
   },
   {
    "duration": 312,
    "start_time": "2024-05-09T09:23:20.608Z"
   },
   {
    "duration": 250,
    "start_time": "2024-05-09T09:23:20.930Z"
   },
   {
    "duration": 181,
    "start_time": "2024-05-09T09:27:13.107Z"
   },
   {
    "duration": 345,
    "start_time": "2024-05-09T09:28:13.516Z"
   },
   {
    "duration": 142,
    "start_time": "2024-05-09T09:32:03.586Z"
   },
   {
    "duration": 7,
    "start_time": "2024-05-09T09:33:32.345Z"
   },
   {
    "duration": 9,
    "start_time": "2024-05-09T09:34:00.087Z"
   },
   {
    "duration": 8,
    "start_time": "2024-05-09T09:34:59.589Z"
   },
   {
    "duration": 12,
    "start_time": "2024-05-09T09:35:59.953Z"
   },
   {
    "duration": 175,
    "start_time": "2024-05-09T09:36:07.540Z"
   },
   {
    "duration": 10,
    "start_time": "2024-05-09T09:38:47.343Z"
   },
   {
    "duration": 159,
    "start_time": "2024-05-09T09:38:47.510Z"
   },
   {
    "duration": 10,
    "start_time": "2024-05-09T09:43:10.660Z"
   },
   {
    "duration": 9,
    "start_time": "2024-05-09T09:43:17.505Z"
   },
   {
    "duration": 8,
    "start_time": "2024-05-09T09:43:32.271Z"
   },
   {
    "duration": 41,
    "start_time": "2024-05-09T11:53:50.483Z"
   },
   {
    "duration": 667,
    "start_time": "2024-05-09T11:54:00.043Z"
   },
   {
    "duration": 220,
    "start_time": "2024-05-09T11:54:00.711Z"
   },
   {
    "duration": 10,
    "start_time": "2024-05-09T11:54:00.932Z"
   },
   {
    "duration": 48,
    "start_time": "2024-05-09T11:54:00.944Z"
   },
   {
    "duration": 67,
    "start_time": "2024-05-09T11:54:00.993Z"
   },
   {
    "duration": 54,
    "start_time": "2024-05-09T11:54:01.061Z"
   },
   {
    "duration": 61,
    "start_time": "2024-05-09T11:54:01.116Z"
   },
   {
    "duration": 106,
    "start_time": "2024-05-09T11:54:01.179Z"
   },
   {
    "duration": 45,
    "start_time": "2024-05-09T11:54:01.286Z"
   },
   {
    "duration": 48,
    "start_time": "2024-05-09T11:54:01.333Z"
   },
   {
    "duration": 37,
    "start_time": "2024-05-09T11:54:01.383Z"
   },
   {
    "duration": 458,
    "start_time": "2024-05-09T11:54:01.421Z"
   },
   {
    "duration": 148,
    "start_time": "2024-05-09T11:54:01.884Z"
   },
   {
    "duration": 253,
    "start_time": "2024-05-09T11:54:02.034Z"
   },
   {
    "duration": 173,
    "start_time": "2024-05-09T11:54:02.288Z"
   },
   {
    "duration": 290,
    "start_time": "2024-05-09T11:54:02.462Z"
   },
   {
    "duration": 8,
    "start_time": "2024-05-09T11:54:02.753Z"
   },
   {
    "duration": 107,
    "start_time": "2024-05-09T11:54:02.762Z"
   },
   {
    "duration": 6,
    "start_time": "2024-05-09T11:54:02.870Z"
   },
   {
    "duration": 25,
    "start_time": "2024-05-09T11:54:02.884Z"
   },
   {
    "duration": 112,
    "start_time": "2024-05-09T11:54:02.910Z"
   },
   {
    "duration": 6,
    "start_time": "2024-05-09T11:54:21.084Z"
   },
   {
    "duration": 6,
    "start_time": "2024-05-09T11:54:25.257Z"
   },
   {
    "duration": 5,
    "start_time": "2024-05-09T11:54:30.523Z"
   },
   {
    "duration": 6,
    "start_time": "2024-05-09T11:56:00.565Z"
   },
   {
    "duration": 6,
    "start_time": "2024-05-09T11:56:43.482Z"
   },
   {
    "duration": 6,
    "start_time": "2024-05-09T11:58:07.617Z"
   },
   {
    "duration": 549,
    "start_time": "2024-05-09T12:02:43.501Z"
   },
   {
    "duration": 73,
    "start_time": "2024-05-09T12:02:44.051Z"
   },
   {
    "duration": 9,
    "start_time": "2024-05-09T12:02:44.126Z"
   },
   {
    "duration": 5,
    "start_time": "2024-05-09T12:02:44.136Z"
   },
   {
    "duration": 9,
    "start_time": "2024-05-09T12:02:44.143Z"
   },
   {
    "duration": 9,
    "start_time": "2024-05-09T12:02:44.153Z"
   },
   {
    "duration": 5,
    "start_time": "2024-05-09T12:02:44.163Z"
   },
   {
    "duration": 27,
    "start_time": "2024-05-09T12:02:44.169Z"
   },
   {
    "duration": 35,
    "start_time": "2024-05-09T12:02:44.197Z"
   },
   {
    "duration": 11,
    "start_time": "2024-05-09T12:02:44.234Z"
   },
   {
    "duration": 32,
    "start_time": "2024-05-09T12:02:44.247Z"
   },
   {
    "duration": 450,
    "start_time": "2024-05-09T12:02:44.280Z"
   },
   {
    "duration": 137,
    "start_time": "2024-05-09T12:02:44.731Z"
   },
   {
    "duration": 273,
    "start_time": "2024-05-09T12:02:44.870Z"
   },
   {
    "duration": 178,
    "start_time": "2024-05-09T12:02:45.145Z"
   },
   {
    "duration": 240,
    "start_time": "2024-05-09T12:02:45.324Z"
   },
   {
    "duration": 7,
    "start_time": "2024-05-09T12:02:45.565Z"
   },
   {
    "duration": 85,
    "start_time": "2024-05-09T12:02:45.584Z"
   },
   {
    "duration": 16,
    "start_time": "2024-05-09T12:02:45.670Z"
   },
   {
    "duration": 6,
    "start_time": "2024-05-09T12:02:45.687Z"
   },
   {
    "duration": 109,
    "start_time": "2024-05-09T12:02:45.694Z"
   },
   {
    "duration": 5,
    "start_time": "2024-05-09T12:02:45.804Z"
   },
   {
    "duration": 141,
    "start_time": "2024-05-09T12:04:04.244Z"
   },
   {
    "duration": 82,
    "start_time": "2024-05-09T12:04:22.298Z"
   },
   {
    "duration": 86,
    "start_time": "2024-05-09T12:04:57.983Z"
   },
   {
    "duration": 86,
    "start_time": "2024-05-09T12:05:44.474Z"
   },
   {
    "duration": 184,
    "start_time": "2024-05-09T12:05:57.968Z"
   },
   {
    "duration": 994,
    "start_time": "2024-05-09T12:06:27.980Z"
   },
   {
    "duration": 74,
    "start_time": "2024-05-09T12:06:28.975Z"
   },
   {
    "duration": 9,
    "start_time": "2024-05-09T12:06:29.050Z"
   },
   {
    "duration": 5,
    "start_time": "2024-05-09T12:06:29.060Z"
   },
   {
    "duration": 13,
    "start_time": "2024-05-09T12:06:29.067Z"
   },
   {
    "duration": 8,
    "start_time": "2024-05-09T12:06:29.081Z"
   },
   {
    "duration": 11,
    "start_time": "2024-05-09T12:06:29.090Z"
   },
   {
    "duration": 22,
    "start_time": "2024-05-09T12:06:29.102Z"
   },
   {
    "duration": 8,
    "start_time": "2024-05-09T12:06:29.125Z"
   },
   {
    "duration": 16,
    "start_time": "2024-05-09T12:06:29.134Z"
   },
   {
    "duration": 10,
    "start_time": "2024-05-09T12:06:29.151Z"
   },
   {
    "duration": 452,
    "start_time": "2024-05-09T12:06:29.162Z"
   },
   {
    "duration": 145,
    "start_time": "2024-05-09T12:06:29.615Z"
   },
   {
    "duration": 267,
    "start_time": "2024-05-09T12:06:29.762Z"
   },
   {
    "duration": 142,
    "start_time": "2024-05-09T12:06:30.030Z"
   },
   {
    "duration": 275,
    "start_time": "2024-05-09T12:06:30.173Z"
   },
   {
    "duration": 7,
    "start_time": "2024-05-09T12:06:30.450Z"
   },
   {
    "duration": 172,
    "start_time": "2024-05-09T12:06:30.459Z"
   },
   {
    "duration": 12,
    "start_time": "2024-05-09T12:06:30.632Z"
   },
   {
    "duration": 63,
    "start_time": "2024-05-09T12:06:30.645Z"
   },
   {
    "duration": 135,
    "start_time": "2024-05-09T12:06:30.710Z"
   },
   {
    "duration": 6,
    "start_time": "2024-05-09T12:06:30.846Z"
   },
   {
    "duration": 211,
    "start_time": "2024-05-09T12:06:30.853Z"
   },
   {
    "duration": 174,
    "start_time": "2024-05-09T12:08:13.493Z"
   },
   {
    "duration": 975,
    "start_time": "2024-05-09T12:19:23.309Z"
   },
   {
    "duration": 73,
    "start_time": "2024-05-09T12:19:24.286Z"
   },
   {
    "duration": 9,
    "start_time": "2024-05-09T12:19:24.361Z"
   },
   {
    "duration": 13,
    "start_time": "2024-05-09T12:19:24.371Z"
   },
   {
    "duration": 22,
    "start_time": "2024-05-09T12:19:24.386Z"
   },
   {
    "duration": 15,
    "start_time": "2024-05-09T12:19:24.409Z"
   },
   {
    "duration": 7,
    "start_time": "2024-05-09T12:19:24.425Z"
   },
   {
    "duration": 21,
    "start_time": "2024-05-09T12:19:24.433Z"
   },
   {
    "duration": 9,
    "start_time": "2024-05-09T12:19:24.456Z"
   },
   {
    "duration": 19,
    "start_time": "2024-05-09T12:19:24.466Z"
   },
   {
    "duration": 12,
    "start_time": "2024-05-09T12:19:24.486Z"
   },
   {
    "duration": 442,
    "start_time": "2024-05-09T12:19:24.498Z"
   },
   {
    "duration": 145,
    "start_time": "2024-05-09T12:19:24.941Z"
   },
   {
    "duration": 247,
    "start_time": "2024-05-09T12:19:25.088Z"
   },
   {
    "duration": 142,
    "start_time": "2024-05-09T12:19:25.336Z"
   },
   {
    "duration": 270,
    "start_time": "2024-05-09T12:19:25.480Z"
   },
   {
    "duration": 9,
    "start_time": "2024-05-09T12:19:25.751Z"
   },
   {
    "duration": 96,
    "start_time": "2024-05-09T12:19:25.761Z"
   },
   {
    "duration": 5,
    "start_time": "2024-05-09T12:19:25.859Z"
   },
   {
    "duration": 5,
    "start_time": "2024-05-09T12:19:25.865Z"
   },
   {
    "duration": 104,
    "start_time": "2024-05-09T12:19:25.884Z"
   },
   {
    "duration": 6,
    "start_time": "2024-05-09T12:19:25.989Z"
   },
   {
    "duration": 182,
    "start_time": "2024-05-09T12:19:25.996Z"
   },
   {
    "duration": 174,
    "start_time": "2024-05-09T12:23:47.577Z"
   },
   {
    "duration": 91,
    "start_time": "2024-05-09T12:25:19.082Z"
   },
   {
    "duration": 14,
    "start_time": "2024-05-09T12:26:51.924Z"
   },
   {
    "duration": 150,
    "start_time": "2024-05-09T12:27:16.723Z"
   },
   {
    "duration": 141,
    "start_time": "2024-05-09T12:27:40.721Z"
   },
   {
    "duration": 9,
    "start_time": "2024-05-09T12:29:47.942Z"
   },
   {
    "duration": 8,
    "start_time": "2024-05-09T12:36:26.943Z"
   },
   {
    "duration": 8,
    "start_time": "2024-05-09T12:37:12.281Z"
   },
   {
    "duration": 8,
    "start_time": "2024-05-09T12:37:32.592Z"
   },
   {
    "duration": 1039,
    "start_time": "2024-05-09T12:37:54.904Z"
   },
   {
    "duration": 950,
    "start_time": "2024-05-09T12:39:01.136Z"
   },
   {
    "duration": 73,
    "start_time": "2024-05-09T12:39:02.088Z"
   },
   {
    "duration": 10,
    "start_time": "2024-05-09T12:39:02.163Z"
   },
   {
    "duration": 17,
    "start_time": "2024-05-09T12:39:02.175Z"
   },
   {
    "duration": 23,
    "start_time": "2024-05-09T12:39:02.193Z"
   },
   {
    "duration": 8,
    "start_time": "2024-05-09T12:39:02.217Z"
   },
   {
    "duration": 15,
    "start_time": "2024-05-09T12:39:02.227Z"
   },
   {
    "duration": 26,
    "start_time": "2024-05-09T12:39:02.244Z"
   },
   {
    "duration": 34,
    "start_time": "2024-05-09T12:39:02.271Z"
   },
   {
    "duration": 26,
    "start_time": "2024-05-09T12:39:02.307Z"
   },
   {
    "duration": 26,
    "start_time": "2024-05-09T12:39:02.334Z"
   },
   {
    "duration": 459,
    "start_time": "2024-05-09T12:39:02.361Z"
   },
   {
    "duration": 150,
    "start_time": "2024-05-09T12:39:02.822Z"
   },
   {
    "duration": 256,
    "start_time": "2024-05-09T12:39:02.973Z"
   },
   {
    "duration": 141,
    "start_time": "2024-05-09T12:39:03.230Z"
   },
   {
    "duration": 274,
    "start_time": "2024-05-09T12:39:03.372Z"
   },
   {
    "duration": 7,
    "start_time": "2024-05-09T12:39:03.648Z"
   },
   {
    "duration": 110,
    "start_time": "2024-05-09T12:39:03.656Z"
   },
   {
    "duration": 5,
    "start_time": "2024-05-09T12:39:03.767Z"
   },
   {
    "duration": 21,
    "start_time": "2024-05-09T12:39:03.774Z"
   },
   {
    "duration": 101,
    "start_time": "2024-05-09T12:39:03.796Z"
   },
   {
    "duration": 6,
    "start_time": "2024-05-09T12:39:03.898Z"
   },
   {
    "duration": 178,
    "start_time": "2024-05-09T12:39:03.906Z"
   },
   {
    "duration": 141,
    "start_time": "2024-05-09T12:39:04.085Z"
   },
   {
    "duration": 8,
    "start_time": "2024-05-09T12:39:04.227Z"
   },
   {
    "duration": 1149,
    "start_time": "2024-05-09T12:39:04.236Z"
   },
   {
    "duration": 7,
    "start_time": "2024-05-09T12:39:44.429Z"
   },
   {
    "duration": 926,
    "start_time": "2024-05-09T12:41:17.242Z"
   },
   {
    "duration": 74,
    "start_time": "2024-05-09T12:41:18.170Z"
   },
   {
    "duration": 11,
    "start_time": "2024-05-09T12:41:18.246Z"
   },
   {
    "duration": 49,
    "start_time": "2024-05-09T12:41:18.258Z"
   },
   {
    "duration": 34,
    "start_time": "2024-05-09T12:41:18.308Z"
   },
   {
    "duration": 30,
    "start_time": "2024-05-09T12:41:18.343Z"
   },
   {
    "duration": 21,
    "start_time": "2024-05-09T12:41:18.374Z"
   },
   {
    "duration": 34,
    "start_time": "2024-05-09T12:41:18.396Z"
   },
   {
    "duration": 18,
    "start_time": "2024-05-09T12:41:18.431Z"
   },
   {
    "duration": 13,
    "start_time": "2024-05-09T12:41:18.450Z"
   },
   {
    "duration": 41,
    "start_time": "2024-05-09T12:41:18.464Z"
   },
   {
    "duration": 452,
    "start_time": "2024-05-09T12:41:18.506Z"
   },
   {
    "duration": 136,
    "start_time": "2024-05-09T12:41:18.959Z"
   },
   {
    "duration": 239,
    "start_time": "2024-05-09T12:41:19.097Z"
   },
   {
    "duration": 138,
    "start_time": "2024-05-09T12:41:19.337Z"
   },
   {
    "duration": 269,
    "start_time": "2024-05-09T12:41:19.476Z"
   },
   {
    "duration": 7,
    "start_time": "2024-05-09T12:41:19.746Z"
   },
   {
    "duration": 109,
    "start_time": "2024-05-09T12:41:19.754Z"
   },
   {
    "duration": 5,
    "start_time": "2024-05-09T12:41:19.864Z"
   },
   {
    "duration": 32,
    "start_time": "2024-05-09T12:41:19.870Z"
   },
   {
    "duration": 106,
    "start_time": "2024-05-09T12:41:19.903Z"
   },
   {
    "duration": 6,
    "start_time": "2024-05-09T12:41:20.010Z"
   },
   {
    "duration": 178,
    "start_time": "2024-05-09T12:41:20.017Z"
   },
   {
    "duration": 143,
    "start_time": "2024-05-09T12:41:20.196Z"
   },
   {
    "duration": 8,
    "start_time": "2024-05-09T12:41:20.340Z"
   },
   {
    "duration": 24,
    "start_time": "2024-05-09T12:41:20.349Z"
   },
   {
    "duration": 18,
    "start_time": "2024-05-09T12:41:20.374Z"
   },
   {
    "duration": 89,
    "start_time": "2024-05-09T12:42:57.164Z"
   },
   {
    "duration": 8,
    "start_time": "2024-05-09T12:43:01.883Z"
   },
   {
    "duration": 7,
    "start_time": "2024-05-09T12:43:28.244Z"
   },
   {
    "duration": 7,
    "start_time": "2024-05-09T12:43:35.353Z"
   },
   {
    "duration": 8,
    "start_time": "2024-05-09T12:45:42.172Z"
   },
   {
    "duration": 9,
    "start_time": "2024-05-09T12:46:53.874Z"
   },
   {
    "duration": 6,
    "start_time": "2024-05-09T12:47:07.890Z"
   },
   {
    "duration": 18,
    "start_time": "2024-05-09T12:47:50.950Z"
   },
   {
    "duration": 18,
    "start_time": "2024-05-09T12:48:31.282Z"
   },
   {
    "duration": 11,
    "start_time": "2024-05-09T12:51:39.015Z"
   },
   {
    "duration": 11,
    "start_time": "2024-05-09T12:51:49.887Z"
   },
   {
    "duration": 45,
    "start_time": "2024-05-11T17:43:16.491Z"
   },
   {
    "duration": 1336,
    "start_time": "2024-05-11T17:48:34.995Z"
   },
   {
    "duration": 224,
    "start_time": "2024-05-11T17:48:36.333Z"
   },
   {
    "duration": 29,
    "start_time": "2024-05-11T17:48:36.559Z"
   },
   {
    "duration": 17,
    "start_time": "2024-05-11T17:48:36.590Z"
   },
   {
    "duration": 20,
    "start_time": "2024-05-11T17:48:36.609Z"
   },
   {
    "duration": 14,
    "start_time": "2024-05-11T17:48:36.630Z"
   },
   {
    "duration": 54,
    "start_time": "2024-05-11T17:48:36.645Z"
   },
   {
    "duration": 8,
    "start_time": "2024-05-11T17:48:36.700Z"
   },
   {
    "duration": 25,
    "start_time": "2024-05-11T17:48:36.709Z"
   },
   {
    "duration": 102,
    "start_time": "2024-05-11T17:48:36.737Z"
   },
   {
    "duration": 0,
    "start_time": "2024-05-11T17:48:36.842Z"
   },
   {
    "duration": 0,
    "start_time": "2024-05-11T17:48:36.843Z"
   },
   {
    "duration": 0,
    "start_time": "2024-05-11T17:48:36.844Z"
   },
   {
    "duration": 0,
    "start_time": "2024-05-11T17:48:36.845Z"
   },
   {
    "duration": 0,
    "start_time": "2024-05-11T17:48:36.846Z"
   },
   {
    "duration": 0,
    "start_time": "2024-05-11T17:48:36.847Z"
   },
   {
    "duration": 0,
    "start_time": "2024-05-11T17:48:36.848Z"
   },
   {
    "duration": 0,
    "start_time": "2024-05-11T17:48:36.868Z"
   },
   {
    "duration": 0,
    "start_time": "2024-05-11T17:48:36.869Z"
   },
   {
    "duration": 0,
    "start_time": "2024-05-11T17:48:36.870Z"
   },
   {
    "duration": 0,
    "start_time": "2024-05-11T17:48:36.871Z"
   },
   {
    "duration": 0,
    "start_time": "2024-05-11T17:48:36.871Z"
   },
   {
    "duration": 0,
    "start_time": "2024-05-11T17:48:36.872Z"
   },
   {
    "duration": 0,
    "start_time": "2024-05-11T17:48:36.873Z"
   },
   {
    "duration": 0,
    "start_time": "2024-05-11T17:48:36.873Z"
   },
   {
    "duration": 0,
    "start_time": "2024-05-11T17:48:36.880Z"
   },
   {
    "duration": 2,
    "start_time": "2024-05-11T17:48:36.881Z"
   },
   {
    "duration": 0,
    "start_time": "2024-05-11T17:48:36.884Z"
   },
   {
    "duration": 0,
    "start_time": "2024-05-11T17:48:36.885Z"
   },
   {
    "duration": 0,
    "start_time": "2024-05-11T17:48:36.886Z"
   },
   {
    "duration": 0,
    "start_time": "2024-05-11T17:48:36.888Z"
   },
   {
    "duration": 0,
    "start_time": "2024-05-11T17:48:36.889Z"
   },
   {
    "duration": 0,
    "start_time": "2024-05-11T17:48:36.890Z"
   },
   {
    "duration": 5,
    "start_time": "2024-05-11T17:49:30.954Z"
   },
   {
    "duration": 15,
    "start_time": "2024-05-11T17:54:05.204Z"
   },
   {
    "duration": 14,
    "start_time": "2024-05-11T17:54:09.579Z"
   },
   {
    "duration": 14,
    "start_time": "2024-05-11T17:54:13.681Z"
   },
   {
    "duration": 15,
    "start_time": "2024-05-11T17:54:18.080Z"
   },
   {
    "duration": 15,
    "start_time": "2024-05-11T17:54:25.930Z"
   },
   {
    "duration": 15,
    "start_time": "2024-05-11T17:54:36.635Z"
   },
   {
    "duration": 15,
    "start_time": "2024-05-11T17:54:49.879Z"
   },
   {
    "duration": 1088,
    "start_time": "2024-05-11T17:55:34.173Z"
   },
   {
    "duration": 75,
    "start_time": "2024-05-11T17:55:35.263Z"
   },
   {
    "duration": 17,
    "start_time": "2024-05-11T17:55:35.339Z"
   },
   {
    "duration": 21,
    "start_time": "2024-05-11T17:55:35.358Z"
   },
   {
    "duration": 18,
    "start_time": "2024-05-11T17:55:35.382Z"
   },
   {
    "duration": 19,
    "start_time": "2024-05-11T17:55:35.401Z"
   },
   {
    "duration": 42,
    "start_time": "2024-05-11T17:55:35.421Z"
   },
   {
    "duration": 30,
    "start_time": "2024-05-11T17:55:35.466Z"
   },
   {
    "duration": 9,
    "start_time": "2024-05-11T17:55:35.497Z"
   },
   {
    "duration": 25,
    "start_time": "2024-05-11T17:55:35.508Z"
   },
   {
    "duration": 20,
    "start_time": "2024-05-11T17:55:35.535Z"
   },
   {
    "duration": 35,
    "start_time": "2024-05-11T17:55:35.556Z"
   },
   {
    "duration": 13,
    "start_time": "2024-05-11T17:55:35.593Z"
   },
   {
    "duration": 30,
    "start_time": "2024-05-11T17:55:35.609Z"
   },
   {
    "duration": 31,
    "start_time": "2024-05-11T17:55:35.641Z"
   },
   {
    "duration": 562,
    "start_time": "2024-05-11T17:55:35.676Z"
   },
   {
    "duration": 178,
    "start_time": "2024-05-11T17:55:36.240Z"
   },
   {
    "duration": 268,
    "start_time": "2024-05-11T17:55:36.419Z"
   },
   {
    "duration": 161,
    "start_time": "2024-05-11T17:55:36.689Z"
   },
   {
    "duration": 305,
    "start_time": "2024-05-11T17:55:36.852Z"
   },
   {
    "duration": 24,
    "start_time": "2024-05-11T17:55:37.158Z"
   },
   {
    "duration": 114,
    "start_time": "2024-05-11T17:55:37.184Z"
   },
   {
    "duration": 7,
    "start_time": "2024-05-11T17:55:37.300Z"
   },
   {
    "duration": 12,
    "start_time": "2024-05-11T17:55:37.309Z"
   },
   {
    "duration": 159,
    "start_time": "2024-05-11T17:55:37.322Z"
   },
   {
    "duration": 8,
    "start_time": "2024-05-11T17:55:37.483Z"
   },
   {
    "duration": 284,
    "start_time": "2024-05-11T17:55:37.492Z"
   },
   {
    "duration": 208,
    "start_time": "2024-05-11T17:55:37.784Z"
   },
   {
    "duration": 10,
    "start_time": "2024-05-11T17:55:37.993Z"
   },
   {
    "duration": 20,
    "start_time": "2024-05-11T17:55:38.005Z"
   },
   {
    "duration": 11,
    "start_time": "2024-05-11T17:55:38.026Z"
   },
   {
    "duration": 36,
    "start_time": "2024-05-11T17:55:38.038Z"
   },
   {
    "duration": 17,
    "start_time": "2024-05-11T17:55:38.075Z"
   },
   {
    "duration": 635,
    "start_time": "2024-05-11T18:10:05.028Z"
   },
   {
    "duration": 551,
    "start_time": "2024-05-11T18:10:13.299Z"
   },
   {
    "duration": 545,
    "start_time": "2024-05-11T18:10:45.049Z"
   },
   {
    "duration": 642,
    "start_time": "2024-05-11T18:11:34.894Z"
   },
   {
    "duration": 569,
    "start_time": "2024-05-11T18:12:04.729Z"
   },
   {
    "duration": 636,
    "start_time": "2024-05-11T18:12:51.884Z"
   },
   {
    "duration": 577,
    "start_time": "2024-05-11T18:13:03.682Z"
   },
   {
    "duration": 514,
    "start_time": "2024-05-11T18:13:15.946Z"
   },
   {
    "duration": 551,
    "start_time": "2024-05-11T18:13:25.696Z"
   },
   {
    "duration": 205,
    "start_time": "2024-05-11T18:13:37.618Z"
   },
   {
    "duration": 307,
    "start_time": "2024-05-11T18:13:55.503Z"
   },
   {
    "duration": 1265,
    "start_time": "2024-05-11T19:10:26.102Z"
   },
   {
    "duration": 74,
    "start_time": "2024-05-11T19:10:27.371Z"
   },
   {
    "duration": 20,
    "start_time": "2024-05-11T19:10:27.447Z"
   },
   {
    "duration": 22,
    "start_time": "2024-05-11T19:10:27.470Z"
   },
   {
    "duration": 13,
    "start_time": "2024-05-11T19:10:27.495Z"
   },
   {
    "duration": 4,
    "start_time": "2024-05-11T19:10:27.510Z"
   },
   {
    "duration": 69,
    "start_time": "2024-05-11T19:10:27.516Z"
   },
   {
    "duration": 9,
    "start_time": "2024-05-11T19:10:27.588Z"
   },
   {
    "duration": 10,
    "start_time": "2024-05-11T19:10:27.600Z"
   },
   {
    "duration": 6,
    "start_time": "2024-05-11T19:10:27.614Z"
   },
   {
    "duration": 32,
    "start_time": "2024-05-11T19:10:27.621Z"
   },
   {
    "duration": 21,
    "start_time": "2024-05-11T19:10:27.664Z"
   },
   {
    "duration": 16,
    "start_time": "2024-05-11T19:10:27.687Z"
   },
   {
    "duration": 616,
    "start_time": "2024-05-11T19:10:27.705Z"
   },
   {
    "duration": 209,
    "start_time": "2024-05-11T19:10:28.323Z"
   },
   {
    "duration": 366,
    "start_time": "2024-05-11T19:10:28.534Z"
   },
   {
    "duration": 207,
    "start_time": "2024-05-11T19:10:28.902Z"
   },
   {
    "duration": 324,
    "start_time": "2024-05-11T19:10:29.111Z"
   },
   {
    "duration": 10,
    "start_time": "2024-05-11T19:10:29.437Z"
   },
   {
    "duration": 155,
    "start_time": "2024-05-11T19:10:29.448Z"
   },
   {
    "duration": 7,
    "start_time": "2024-05-11T19:10:29.605Z"
   },
   {
    "duration": 9,
    "start_time": "2024-05-11T19:10:29.614Z"
   },
   {
    "duration": 179,
    "start_time": "2024-05-11T19:10:29.625Z"
   },
   {
    "duration": 10,
    "start_time": "2024-05-11T19:10:29.806Z"
   },
   {
    "duration": 240,
    "start_time": "2024-05-11T19:10:29.818Z"
   },
   {
    "duration": 193,
    "start_time": "2024-05-11T19:10:30.060Z"
   },
   {
    "duration": 19,
    "start_time": "2024-05-11T19:10:30.255Z"
   },
   {
    "duration": 45,
    "start_time": "2024-05-11T19:10:30.278Z"
   },
   {
    "duration": 97,
    "start_time": "2024-05-11T19:10:30.325Z"
   },
   {
    "duration": 66,
    "start_time": "2024-05-11T19:10:30.424Z"
   },
   {
    "duration": 15,
    "start_time": "2024-05-11T19:10:30.492Z"
   },
   {
    "duration": 200,
    "start_time": "2024-05-11T19:11:37.941Z"
   },
   {
    "duration": 337,
    "start_time": "2024-05-11T19:11:47.768Z"
   },
   {
    "duration": 428,
    "start_time": "2024-05-11T19:11:57.875Z"
   },
   {
    "duration": 283,
    "start_time": "2024-05-11T19:12:15.329Z"
   },
   {
    "duration": 134,
    "start_time": "2024-05-11T19:12:51.623Z"
   },
   {
    "duration": 179,
    "start_time": "2024-05-11T19:13:01.417Z"
   },
   {
    "duration": 300,
    "start_time": "2024-05-11T20:17:32.488Z"
   },
   {
    "duration": 248,
    "start_time": "2024-05-11T20:17:43.897Z"
   },
   {
    "duration": 279,
    "start_time": "2024-05-11T20:18:54.198Z"
   },
   {
    "duration": 399,
    "start_time": "2024-05-11T20:19:07.342Z"
   },
   {
    "duration": 319,
    "start_time": "2024-05-11T20:42:33.338Z"
   },
   {
    "duration": 1014,
    "start_time": "2024-05-11T20:52:34.510Z"
   },
   {
    "duration": 73,
    "start_time": "2024-05-11T20:52:35.526Z"
   },
   {
    "duration": 19,
    "start_time": "2024-05-11T20:52:35.600Z"
   },
   {
    "duration": 25,
    "start_time": "2024-05-11T20:52:35.620Z"
   },
   {
    "duration": 13,
    "start_time": "2024-05-11T20:52:35.648Z"
   },
   {
    "duration": 9,
    "start_time": "2024-05-11T20:52:35.663Z"
   },
   {
    "duration": 31,
    "start_time": "2024-05-11T20:52:35.673Z"
   },
   {
    "duration": 13,
    "start_time": "2024-05-11T20:52:35.706Z"
   },
   {
    "duration": 19,
    "start_time": "2024-05-11T20:52:35.720Z"
   },
   {
    "duration": 4,
    "start_time": "2024-05-11T20:52:35.741Z"
   },
   {
    "duration": 11,
    "start_time": "2024-05-11T20:52:35.747Z"
   },
   {
    "duration": 19,
    "start_time": "2024-05-11T20:52:35.759Z"
   },
   {
    "duration": 499,
    "start_time": "2024-05-11T20:52:35.779Z"
   },
   {
    "duration": 171,
    "start_time": "2024-05-11T20:52:36.281Z"
   },
   {
    "duration": 305,
    "start_time": "2024-05-11T20:52:36.453Z"
   },
   {
    "duration": 174,
    "start_time": "2024-05-11T20:52:36.764Z"
   },
   {
    "duration": 302,
    "start_time": "2024-05-11T20:52:36.940Z"
   },
   {
    "duration": 10,
    "start_time": "2024-05-11T20:52:37.243Z"
   },
   {
    "duration": 114,
    "start_time": "2024-05-11T20:52:37.264Z"
   },
   {
    "duration": 7,
    "start_time": "2024-05-11T20:52:37.379Z"
   },
   {
    "duration": 7,
    "start_time": "2024-05-11T20:52:37.387Z"
   },
   {
    "duration": 146,
    "start_time": "2024-05-11T20:52:37.395Z"
   },
   {
    "duration": 7,
    "start_time": "2024-05-11T20:52:37.543Z"
   },
   {
    "duration": 222,
    "start_time": "2024-05-11T20:52:37.551Z"
   },
   {
    "duration": 197,
    "start_time": "2024-05-11T20:52:37.774Z"
   },
   {
    "duration": 11,
    "start_time": "2024-05-11T20:52:37.972Z"
   },
   {
    "duration": 8,
    "start_time": "2024-05-11T20:52:37.985Z"
   },
   {
    "duration": 8,
    "start_time": "2024-05-11T20:52:37.995Z"
   },
   {
    "duration": 23,
    "start_time": "2024-05-11T20:52:38.004Z"
   },
   {
    "duration": 42,
    "start_time": "2024-05-11T20:52:38.028Z"
   },
   {
    "duration": 49,
    "start_time": "2024-05-13T19:30:13.549Z"
   },
   {
    "duration": 1264,
    "start_time": "2024-05-13T19:30:22.334Z"
   },
   {
    "duration": 238,
    "start_time": "2024-05-13T19:30:23.600Z"
   },
   {
    "duration": 14,
    "start_time": "2024-05-13T19:30:23.840Z"
   },
   {
    "duration": 29,
    "start_time": "2024-05-13T19:30:23.856Z"
   },
   {
    "duration": 24,
    "start_time": "2024-05-13T19:30:23.887Z"
   },
   {
    "duration": 20,
    "start_time": "2024-05-13T19:30:23.913Z"
   },
   {
    "duration": 32,
    "start_time": "2024-05-13T19:30:23.934Z"
   },
   {
    "duration": 8,
    "start_time": "2024-05-13T19:30:23.967Z"
   },
   {
    "duration": 8,
    "start_time": "2024-05-13T19:30:23.977Z"
   },
   {
    "duration": 8,
    "start_time": "2024-05-13T19:30:23.987Z"
   },
   {
    "duration": 11,
    "start_time": "2024-05-13T19:30:23.997Z"
   },
   {
    "duration": 10,
    "start_time": "2024-05-13T19:30:24.010Z"
   },
   {
    "duration": 307,
    "start_time": "2024-05-13T19:30:24.022Z"
   },
   {
    "duration": 263,
    "start_time": "2024-05-13T19:30:24.331Z"
   },
   {
    "duration": 178,
    "start_time": "2024-05-13T19:30:24.596Z"
   },
   {
    "duration": 330,
    "start_time": "2024-05-13T19:30:24.776Z"
   },
   {
    "duration": 172,
    "start_time": "2024-05-13T19:30:25.108Z"
   },
   {
    "duration": 285,
    "start_time": "2024-05-13T19:30:25.282Z"
   },
   {
    "duration": 10,
    "start_time": "2024-05-13T19:30:25.568Z"
   },
   {
    "duration": 136,
    "start_time": "2024-05-13T19:30:25.579Z"
   },
   {
    "duration": 7,
    "start_time": "2024-05-13T19:30:25.716Z"
   },
   {
    "duration": 8,
    "start_time": "2024-05-13T19:30:25.724Z"
   },
   {
    "duration": 185,
    "start_time": "2024-05-13T19:30:25.733Z"
   },
   {
    "duration": 6,
    "start_time": "2024-05-13T19:30:25.920Z"
   },
   {
    "duration": 210,
    "start_time": "2024-05-13T19:30:25.928Z"
   },
   {
    "duration": 158,
    "start_time": "2024-05-13T19:30:26.140Z"
   },
   {
    "duration": 10,
    "start_time": "2024-05-13T19:30:26.299Z"
   },
   {
    "duration": 8,
    "start_time": "2024-05-13T19:30:26.312Z"
   },
   {
    "duration": 8,
    "start_time": "2024-05-13T19:30:26.321Z"
   },
   {
    "duration": 51,
    "start_time": "2024-05-13T19:30:26.330Z"
   },
   {
    "duration": 16,
    "start_time": "2024-05-13T19:30:26.383Z"
   },
   {
    "duration": 18,
    "start_time": "2024-05-13T19:34:57.604Z"
   },
   {
    "duration": 199,
    "start_time": "2024-05-13T19:42:52.690Z"
   },
   {
    "duration": 291,
    "start_time": "2024-05-13T19:43:32.225Z"
   },
   {
    "duration": 226,
    "start_time": "2024-05-13T19:44:29.295Z"
   },
   {
    "duration": 42,
    "start_time": "2024-05-13T19:46:48.975Z"
   },
   {
    "duration": 362,
    "start_time": "2024-05-13T19:46:56.161Z"
   },
   {
    "duration": 287,
    "start_time": "2024-05-13T19:47:09.819Z"
   },
   {
    "duration": 185,
    "start_time": "2024-05-13T19:48:11.860Z"
   },
   {
    "duration": 194,
    "start_time": "2024-05-13T19:48:28.440Z"
   },
   {
    "duration": 318,
    "start_time": "2024-05-13T19:48:55.615Z"
   },
   {
    "duration": 285,
    "start_time": "2024-05-13T19:49:35.991Z"
   },
   {
    "duration": 288,
    "start_time": "2024-05-13T19:49:51.604Z"
   },
   {
    "duration": 138,
    "start_time": "2024-05-13T19:51:21.278Z"
   },
   {
    "duration": 127,
    "start_time": "2024-05-13T19:51:33.916Z"
   },
   {
    "duration": 208,
    "start_time": "2024-05-13T19:54:38.292Z"
   },
   {
    "duration": 156,
    "start_time": "2024-05-13T19:55:46.744Z"
   },
   {
    "duration": 136,
    "start_time": "2024-05-13T19:56:19.784Z"
   },
   {
    "duration": 131,
    "start_time": "2024-05-13T19:56:32.218Z"
   },
   {
    "duration": 164,
    "start_time": "2024-05-13T19:56:51.605Z"
   },
   {
    "duration": 195,
    "start_time": "2024-05-13T19:57:40.690Z"
   },
   {
    "duration": 193,
    "start_time": "2024-05-13T19:57:47.361Z"
   },
   {
    "duration": 191,
    "start_time": "2024-05-13T19:57:52.770Z"
   },
   {
    "duration": 237,
    "start_time": "2024-05-13T19:57:58.811Z"
   },
   {
    "duration": 193,
    "start_time": "2024-05-13T19:58:03.001Z"
   },
   {
    "duration": 203,
    "start_time": "2024-05-13T19:59:43.554Z"
   },
   {
    "duration": 192,
    "start_time": "2024-05-13T20:00:13.041Z"
   },
   {
    "duration": 264,
    "start_time": "2024-05-13T20:02:13.230Z"
   },
   {
    "duration": 211,
    "start_time": "2024-05-13T20:02:54.957Z"
   },
   {
    "duration": 195,
    "start_time": "2024-05-13T20:03:04.217Z"
   },
   {
    "duration": 1318,
    "start_time": "2024-05-14T18:58:09.687Z"
   },
   {
    "duration": 217,
    "start_time": "2024-05-14T18:58:11.007Z"
   },
   {
    "duration": 19,
    "start_time": "2024-05-14T18:58:11.226Z"
   },
   {
    "duration": 27,
    "start_time": "2024-05-14T18:58:11.247Z"
   },
   {
    "duration": 23,
    "start_time": "2024-05-14T18:58:11.276Z"
   },
   {
    "duration": 6,
    "start_time": "2024-05-14T18:58:11.301Z"
   },
   {
    "duration": 29,
    "start_time": "2024-05-14T18:58:11.308Z"
   },
   {
    "duration": 14,
    "start_time": "2024-05-14T18:58:11.338Z"
   },
   {
    "duration": 8,
    "start_time": "2024-05-14T18:58:11.354Z"
   },
   {
    "duration": 5,
    "start_time": "2024-05-14T18:58:11.383Z"
   },
   {
    "duration": 20,
    "start_time": "2024-05-14T18:58:11.390Z"
   },
   {
    "duration": 11,
    "start_time": "2024-05-14T18:58:11.412Z"
   },
   {
    "duration": 298,
    "start_time": "2024-05-14T18:58:11.425Z"
   },
   {
    "duration": 321,
    "start_time": "2024-05-14T18:58:11.725Z"
   },
   {
    "duration": 228,
    "start_time": "2024-05-14T18:58:12.048Z"
   },
   {
    "duration": 416,
    "start_time": "2024-05-14T18:58:12.278Z"
   },
   {
    "duration": 222,
    "start_time": "2024-05-14T18:58:12.696Z"
   },
   {
    "duration": 310,
    "start_time": "2024-05-14T18:58:12.919Z"
   },
   {
    "duration": 9,
    "start_time": "2024-05-14T18:58:13.231Z"
   },
   {
    "duration": 163,
    "start_time": "2024-05-14T18:58:13.241Z"
   },
   {
    "duration": 7,
    "start_time": "2024-05-14T18:58:13.406Z"
   },
   {
    "duration": 8,
    "start_time": "2024-05-14T18:58:13.415Z"
   },
   {
    "duration": 177,
    "start_time": "2024-05-14T18:58:13.425Z"
   },
   {
    "duration": 8,
    "start_time": "2024-05-14T18:58:13.604Z"
   },
   {
    "duration": 237,
    "start_time": "2024-05-14T18:58:13.613Z"
   },
   {
    "duration": 173,
    "start_time": "2024-05-14T18:58:13.852Z"
   },
   {
    "duration": 12,
    "start_time": "2024-05-14T18:58:14.026Z"
   },
   {
    "duration": 29,
    "start_time": "2024-05-14T18:58:14.041Z"
   },
   {
    "duration": 69,
    "start_time": "2024-05-14T18:58:14.072Z"
   },
   {
    "duration": 29,
    "start_time": "2024-05-14T18:58:14.143Z"
   },
   {
    "duration": 16,
    "start_time": "2024-05-14T18:58:14.174Z"
   },
   {
    "duration": 4,
    "start_time": "2024-05-14T19:04:45.065Z"
   },
   {
    "duration": 4,
    "start_time": "2024-05-14T19:04:49.470Z"
   },
   {
    "duration": 6,
    "start_time": "2024-05-14T19:04:54.317Z"
   },
   {
    "duration": 766,
    "start_time": "2024-05-14T19:05:15.920Z"
   },
   {
    "duration": 1132,
    "start_time": "2024-05-14T19:05:53.432Z"
   },
   {
    "duration": 73,
    "start_time": "2024-05-14T19:05:54.566Z"
   },
   {
    "duration": 20,
    "start_time": "2024-05-14T19:05:54.641Z"
   },
   {
    "duration": 16,
    "start_time": "2024-05-14T19:05:54.663Z"
   },
   {
    "duration": 15,
    "start_time": "2024-05-14T19:05:54.681Z"
   },
   {
    "duration": 10,
    "start_time": "2024-05-14T19:05:54.697Z"
   },
   {
    "duration": 29,
    "start_time": "2024-05-14T19:05:54.708Z"
   },
   {
    "duration": 8,
    "start_time": "2024-05-14T19:05:54.738Z"
   },
   {
    "duration": 37,
    "start_time": "2024-05-14T19:05:54.748Z"
   },
   {
    "duration": 4,
    "start_time": "2024-05-14T19:05:54.788Z"
   },
   {
    "duration": 13,
    "start_time": "2024-05-14T19:05:54.793Z"
   },
   {
    "duration": 17,
    "start_time": "2024-05-14T19:05:54.807Z"
   },
   {
    "duration": 726,
    "start_time": "2024-05-14T19:05:54.825Z"
   },
   {
    "duration": 0,
    "start_time": "2024-05-14T19:05:55.553Z"
   },
   {
    "duration": 0,
    "start_time": "2024-05-14T19:05:55.554Z"
   },
   {
    "duration": 0,
    "start_time": "2024-05-14T19:05:55.555Z"
   },
   {
    "duration": 0,
    "start_time": "2024-05-14T19:05:55.556Z"
   },
   {
    "duration": 0,
    "start_time": "2024-05-14T19:05:55.557Z"
   },
   {
    "duration": 0,
    "start_time": "2024-05-14T19:05:55.558Z"
   },
   {
    "duration": 0,
    "start_time": "2024-05-14T19:05:55.559Z"
   },
   {
    "duration": 0,
    "start_time": "2024-05-14T19:05:55.560Z"
   },
   {
    "duration": 0,
    "start_time": "2024-05-14T19:05:55.561Z"
   },
   {
    "duration": 0,
    "start_time": "2024-05-14T19:05:55.563Z"
   },
   {
    "duration": 0,
    "start_time": "2024-05-14T19:05:55.564Z"
   },
   {
    "duration": 0,
    "start_time": "2024-05-14T19:05:55.565Z"
   },
   {
    "duration": 0,
    "start_time": "2024-05-14T19:05:55.566Z"
   },
   {
    "duration": 0,
    "start_time": "2024-05-14T19:05:55.567Z"
   },
   {
    "duration": 0,
    "start_time": "2024-05-14T19:05:55.568Z"
   },
   {
    "duration": 0,
    "start_time": "2024-05-14T19:05:55.570Z"
   },
   {
    "duration": 0,
    "start_time": "2024-05-14T19:05:55.571Z"
   },
   {
    "duration": 0,
    "start_time": "2024-05-14T19:05:55.572Z"
   },
   {
    "duration": 0,
    "start_time": "2024-05-14T19:05:55.573Z"
   },
   {
    "duration": 10,
    "start_time": "2024-05-14T19:06:48.518Z"
   },
   {
    "duration": 5,
    "start_time": "2024-05-14T19:07:02.941Z"
   },
   {
    "duration": 7,
    "start_time": "2024-05-14T19:07:51.510Z"
   },
   {
    "duration": 50,
    "start_time": "2024-05-14T19:08:20.130Z"
   },
   {
    "duration": 16,
    "start_time": "2024-05-14T19:08:25.620Z"
   },
   {
    "duration": 12,
    "start_time": "2024-05-14T19:11:01.273Z"
   },
   {
    "duration": 16,
    "start_time": "2024-05-14T19:12:46.092Z"
   },
   {
    "duration": 19,
    "start_time": "2024-05-14T19:20:58.362Z"
   },
   {
    "duration": 14,
    "start_time": "2024-05-14T19:22:27.823Z"
   },
   {
    "duration": 20,
    "start_time": "2024-05-14T19:26:05.459Z"
   },
   {
    "duration": 16,
    "start_time": "2024-05-14T19:27:04.306Z"
   },
   {
    "duration": 12,
    "start_time": "2024-05-14T19:27:35.117Z"
   },
   {
    "duration": 9,
    "start_time": "2024-05-14T19:27:46.761Z"
   },
   {
    "duration": 12,
    "start_time": "2024-05-14T19:28:01.444Z"
   },
   {
    "duration": 18,
    "start_time": "2024-05-14T19:28:22.307Z"
   },
   {
    "duration": 19,
    "start_time": "2024-05-14T19:28:32.182Z"
   },
   {
    "duration": 44,
    "start_time": "2024-05-14T19:29:27.859Z"
   },
   {
    "duration": 16,
    "start_time": "2024-05-14T19:29:32.945Z"
   },
   {
    "duration": 19,
    "start_time": "2024-05-14T19:30:01.105Z"
   },
   {
    "duration": 13,
    "start_time": "2024-05-14T19:30:09.701Z"
   },
   {
    "duration": 14,
    "start_time": "2024-05-14T19:30:15.168Z"
   },
   {
    "duration": 13,
    "start_time": "2024-05-14T19:30:21.484Z"
   },
   {
    "duration": 14,
    "start_time": "2024-05-14T19:30:36.889Z"
   },
   {
    "duration": 15,
    "start_time": "2024-05-14T19:31:27.437Z"
   },
   {
    "duration": 8,
    "start_time": "2024-05-14T19:32:32.078Z"
   },
   {
    "duration": 7,
    "start_time": "2024-05-14T19:32:38.517Z"
   },
   {
    "duration": 7,
    "start_time": "2024-05-14T19:32:43.723Z"
   },
   {
    "duration": 1120,
    "start_time": "2024-05-14T19:32:50.026Z"
   },
   {
    "duration": 73,
    "start_time": "2024-05-14T19:32:51.148Z"
   },
   {
    "duration": 22,
    "start_time": "2024-05-14T19:32:51.222Z"
   },
   {
    "duration": 17,
    "start_time": "2024-05-14T19:32:51.246Z"
   },
   {
    "duration": 15,
    "start_time": "2024-05-14T19:32:51.264Z"
   },
   {
    "duration": 7,
    "start_time": "2024-05-14T19:32:51.281Z"
   },
   {
    "duration": 43,
    "start_time": "2024-05-14T19:32:51.290Z"
   },
   {
    "duration": 9,
    "start_time": "2024-05-14T19:32:51.334Z"
   },
   {
    "duration": 15,
    "start_time": "2024-05-14T19:32:51.345Z"
   },
   {
    "duration": 36,
    "start_time": "2024-05-14T19:32:51.362Z"
   },
   {
    "duration": 41,
    "start_time": "2024-05-14T19:32:51.400Z"
   },
   {
    "duration": 45,
    "start_time": "2024-05-14T19:32:51.442Z"
   },
   {
    "duration": 51,
    "start_time": "2024-05-14T19:32:51.489Z"
   },
   {
    "duration": 306,
    "start_time": "2024-05-14T19:32:51.542Z"
   },
   {
    "duration": 360,
    "start_time": "2024-05-14T19:32:51.850Z"
   },
   {
    "duration": 260,
    "start_time": "2024-05-14T19:32:52.211Z"
   },
   {
    "duration": 351,
    "start_time": "2024-05-14T19:32:52.473Z"
   },
   {
    "duration": 248,
    "start_time": "2024-05-14T19:32:52.826Z"
   },
   {
    "duration": 341,
    "start_time": "2024-05-14T19:32:53.075Z"
   },
   {
    "duration": 9,
    "start_time": "2024-05-14T19:32:53.418Z"
   },
   {
    "duration": 178,
    "start_time": "2024-05-14T19:32:53.428Z"
   },
   {
    "duration": 8,
    "start_time": "2024-05-14T19:32:53.608Z"
   },
   {
    "duration": 9,
    "start_time": "2024-05-14T19:32:53.618Z"
   },
   {
    "duration": 205,
    "start_time": "2024-05-14T19:32:53.629Z"
   },
   {
    "duration": 10,
    "start_time": "2024-05-14T19:32:53.836Z"
   },
   {
    "duration": 305,
    "start_time": "2024-05-14T19:32:53.847Z"
   },
   {
    "duration": 202,
    "start_time": "2024-05-14T19:32:54.153Z"
   },
   {
    "duration": 11,
    "start_time": "2024-05-14T19:32:54.358Z"
   },
   {
    "duration": 10,
    "start_time": "2024-05-14T19:32:54.382Z"
   },
   {
    "duration": 12,
    "start_time": "2024-05-14T19:32:54.393Z"
   },
   {
    "duration": 53,
    "start_time": "2024-05-14T19:32:54.407Z"
   },
   {
    "duration": 14,
    "start_time": "2024-05-14T19:32:54.462Z"
   },
   {
    "duration": 118,
    "start_time": "2024-05-14T19:33:55.173Z"
   },
   {
    "duration": 9,
    "start_time": "2024-05-14T19:34:26.479Z"
   },
   {
    "duration": 9,
    "start_time": "2024-05-14T19:34:36.958Z"
   },
   {
    "duration": 21,
    "start_time": "2024-05-14T19:38:13.353Z"
   },
   {
    "duration": 14,
    "start_time": "2024-05-14T19:46:12.188Z"
   },
   {
    "duration": 11,
    "start_time": "2024-05-14T19:46:39.025Z"
   },
   {
    "duration": 12,
    "start_time": "2024-05-14T19:47:23.147Z"
   },
   {
    "duration": 12,
    "start_time": "2024-05-14T19:47:50.521Z"
   },
   {
    "duration": 9,
    "start_time": "2024-05-14T19:48:46.372Z"
   },
   {
    "duration": 22,
    "start_time": "2024-05-14T19:48:52.841Z"
   },
   {
    "duration": 16,
    "start_time": "2024-05-14T19:49:41.628Z"
   },
   {
    "duration": 16,
    "start_time": "2024-05-14T19:50:06.684Z"
   },
   {
    "duration": 665,
    "start_time": "2024-05-14T19:50:17.260Z"
   },
   {
    "duration": 10,
    "start_time": "2024-05-14T20:01:25.021Z"
   },
   {
    "duration": 7,
    "start_time": "2024-05-14T20:06:33.733Z"
   },
   {
    "duration": 7,
    "start_time": "2024-05-14T20:07:05.814Z"
   },
   {
    "duration": 7,
    "start_time": "2024-05-14T20:08:33.225Z"
   },
   {
    "duration": 8,
    "start_time": "2024-05-14T20:08:48.789Z"
   },
   {
    "duration": 8,
    "start_time": "2024-05-14T20:09:11.211Z"
   },
   {
    "duration": 1072,
    "start_time": "2024-05-14T20:09:17.430Z"
   },
   {
    "duration": 73,
    "start_time": "2024-05-14T20:09:18.504Z"
   },
   {
    "duration": 21,
    "start_time": "2024-05-14T20:09:18.579Z"
   },
   {
    "duration": 21,
    "start_time": "2024-05-14T20:09:18.602Z"
   },
   {
    "duration": 38,
    "start_time": "2024-05-14T20:09:18.625Z"
   },
   {
    "duration": 20,
    "start_time": "2024-05-14T20:09:18.665Z"
   },
   {
    "duration": 40,
    "start_time": "2024-05-14T20:09:18.687Z"
   },
   {
    "duration": 8,
    "start_time": "2024-05-14T20:09:18.729Z"
   },
   {
    "duration": 15,
    "start_time": "2024-05-14T20:09:18.739Z"
   },
   {
    "duration": 6,
    "start_time": "2024-05-14T20:09:18.757Z"
   },
   {
    "duration": 13,
    "start_time": "2024-05-14T20:09:18.782Z"
   },
   {
    "duration": 18,
    "start_time": "2024-05-14T20:09:18.796Z"
   },
   {
    "duration": 8,
    "start_time": "2024-05-14T20:09:18.815Z"
   },
   {
    "duration": 7,
    "start_time": "2024-05-14T20:09:18.824Z"
   },
   {
    "duration": 315,
    "start_time": "2024-05-14T20:09:18.833Z"
   },
   {
    "duration": 305,
    "start_time": "2024-05-14T20:09:19.149Z"
   },
   {
    "duration": 224,
    "start_time": "2024-05-14T20:09:19.456Z"
   },
   {
    "duration": 370,
    "start_time": "2024-05-14T20:09:19.682Z"
   },
   {
    "duration": 230,
    "start_time": "2024-05-14T20:09:20.054Z"
   },
   {
    "duration": 311,
    "start_time": "2024-05-14T20:09:20.286Z"
   },
   {
    "duration": 9,
    "start_time": "2024-05-14T20:09:20.598Z"
   },
   {
    "duration": 164,
    "start_time": "2024-05-14T20:09:20.609Z"
   },
   {
    "duration": 11,
    "start_time": "2024-05-14T20:09:20.775Z"
   },
   {
    "duration": 25,
    "start_time": "2024-05-14T20:09:20.787Z"
   },
   {
    "duration": 158,
    "start_time": "2024-05-14T20:09:20.814Z"
   },
   {
    "duration": 13,
    "start_time": "2024-05-14T20:09:20.973Z"
   },
   {
    "duration": 227,
    "start_time": "2024-05-14T20:09:20.988Z"
   },
   {
    "duration": 188,
    "start_time": "2024-05-14T20:09:21.218Z"
   },
   {
    "duration": 11,
    "start_time": "2024-05-14T20:09:21.408Z"
   },
   {
    "duration": 64,
    "start_time": "2024-05-14T20:09:21.420Z"
   },
   {
    "duration": 8,
    "start_time": "2024-05-14T20:09:21.486Z"
   },
   {
    "duration": 32,
    "start_time": "2024-05-14T20:09:21.495Z"
   },
   {
    "duration": 66,
    "start_time": "2024-05-14T20:09:21.528Z"
   },
   {
    "duration": 9,
    "start_time": "2024-05-14T20:09:37.388Z"
   },
   {
    "duration": 719,
    "start_time": "2024-05-14T20:09:52.110Z"
   },
   {
    "duration": 10,
    "start_time": "2024-05-14T20:10:02.170Z"
   },
   {
    "duration": 8,
    "start_time": "2024-05-14T20:11:08.028Z"
   },
   {
    "duration": 5,
    "start_time": "2024-05-14T20:11:49.141Z"
   },
   {
    "duration": 7,
    "start_time": "2024-05-14T20:12:52.458Z"
   },
   {
    "duration": 8,
    "start_time": "2024-05-14T20:13:03.378Z"
   },
   {
    "duration": 8,
    "start_time": "2024-05-14T20:14:41.887Z"
   },
   {
    "duration": 7,
    "start_time": "2024-05-14T20:14:50.065Z"
   },
   {
    "duration": 7,
    "start_time": "2024-05-14T20:25:56.314Z"
   },
   {
    "duration": 1233,
    "start_time": "2024-05-15T18:38:38.773Z"
   },
   {
    "duration": 225,
    "start_time": "2024-05-15T18:38:40.008Z"
   },
   {
    "duration": 18,
    "start_time": "2024-05-15T18:38:40.235Z"
   },
   {
    "duration": 35,
    "start_time": "2024-05-15T18:38:40.255Z"
   },
   {
    "duration": 18,
    "start_time": "2024-05-15T18:38:40.291Z"
   },
   {
    "duration": 23,
    "start_time": "2024-05-15T18:38:40.311Z"
   },
   {
    "duration": 40,
    "start_time": "2024-05-15T18:38:40.335Z"
   },
   {
    "duration": 20,
    "start_time": "2024-05-15T18:38:40.377Z"
   },
   {
    "duration": 18,
    "start_time": "2024-05-15T18:38:40.399Z"
   },
   {
    "duration": 26,
    "start_time": "2024-05-15T18:38:40.420Z"
   },
   {
    "duration": 37,
    "start_time": "2024-05-15T18:38:40.448Z"
   },
   {
    "duration": 10,
    "start_time": "2024-05-15T18:38:40.486Z"
   },
   {
    "duration": 27,
    "start_time": "2024-05-15T18:38:40.497Z"
   },
   {
    "duration": 31,
    "start_time": "2024-05-15T18:38:40.526Z"
   },
   {
    "duration": 261,
    "start_time": "2024-05-15T18:38:40.559Z"
   },
   {
    "duration": 269,
    "start_time": "2024-05-15T18:38:40.821Z"
   },
   {
    "duration": 217,
    "start_time": "2024-05-15T18:38:41.091Z"
   },
   {
    "duration": 357,
    "start_time": "2024-05-15T18:38:41.310Z"
   },
   {
    "duration": 214,
    "start_time": "2024-05-15T18:38:41.668Z"
   },
   {
    "duration": 279,
    "start_time": "2024-05-15T18:38:41.883Z"
   },
   {
    "duration": 9,
    "start_time": "2024-05-15T18:38:42.164Z"
   },
   {
    "duration": 142,
    "start_time": "2024-05-15T18:38:42.174Z"
   },
   {
    "duration": 6,
    "start_time": "2024-05-15T18:38:42.318Z"
   },
   {
    "duration": 7,
    "start_time": "2024-05-15T18:38:42.326Z"
   },
   {
    "duration": 154,
    "start_time": "2024-05-15T18:38:42.335Z"
   },
   {
    "duration": 7,
    "start_time": "2024-05-15T18:38:42.491Z"
   },
   {
    "duration": 211,
    "start_time": "2024-05-15T18:38:42.499Z"
   },
   {
    "duration": 164,
    "start_time": "2024-05-15T18:38:42.713Z"
   },
   {
    "duration": 11,
    "start_time": "2024-05-15T18:38:42.878Z"
   },
   {
    "duration": 9,
    "start_time": "2024-05-15T18:38:42.890Z"
   },
   {
    "duration": 9,
    "start_time": "2024-05-15T18:38:42.900Z"
   },
   {
    "duration": 49,
    "start_time": "2024-05-15T18:38:42.910Z"
   },
   {
    "duration": 14,
    "start_time": "2024-05-15T18:38:42.961Z"
   },
   {
    "duration": 5,
    "start_time": "2024-05-15T18:40:21.248Z"
   },
   {
    "duration": 4,
    "start_time": "2024-05-15T18:46:36.117Z"
   },
   {
    "duration": 104,
    "start_time": "2024-05-15T18:47:13.724Z"
   },
   {
    "duration": 8,
    "start_time": "2024-05-15T18:47:24.666Z"
   },
   {
    "duration": 10,
    "start_time": "2024-05-15T18:47:50.566Z"
   },
   {
    "duration": 7,
    "start_time": "2024-05-15T18:48:37.411Z"
   },
   {
    "duration": 6,
    "start_time": "2024-05-15T18:48:45.497Z"
   },
   {
    "duration": 8,
    "start_time": "2024-05-15T18:55:34.903Z"
   },
   {
    "duration": 6,
    "start_time": "2024-05-15T18:55:42.584Z"
   },
   {
    "duration": 193,
    "start_time": "2024-05-15T20:18:39.102Z"
   },
   {
    "duration": 1171,
    "start_time": "2024-05-15T20:20:33.554Z"
   },
   {
    "duration": 74,
    "start_time": "2024-05-15T20:20:34.727Z"
   },
   {
    "duration": 19,
    "start_time": "2024-05-15T20:20:34.803Z"
   },
   {
    "duration": 17,
    "start_time": "2024-05-15T20:20:34.824Z"
   },
   {
    "duration": 25,
    "start_time": "2024-05-15T20:20:34.843Z"
   },
   {
    "duration": 7,
    "start_time": "2024-05-15T20:20:34.870Z"
   },
   {
    "duration": 32,
    "start_time": "2024-05-15T20:20:34.878Z"
   },
   {
    "duration": 9,
    "start_time": "2024-05-15T20:20:34.911Z"
   },
   {
    "duration": 8,
    "start_time": "2024-05-15T20:20:34.921Z"
   },
   {
    "duration": 44,
    "start_time": "2024-05-15T20:20:34.931Z"
   },
   {
    "duration": 13,
    "start_time": "2024-05-15T20:20:34.976Z"
   },
   {
    "duration": 10,
    "start_time": "2024-05-15T20:20:34.991Z"
   },
   {
    "duration": 11,
    "start_time": "2024-05-15T20:20:35.003Z"
   },
   {
    "duration": 8,
    "start_time": "2024-05-15T20:20:35.016Z"
   },
   {
    "duration": 321,
    "start_time": "2024-05-15T20:20:35.026Z"
   },
   {
    "duration": 369,
    "start_time": "2024-05-15T20:20:35.349Z"
   },
   {
    "duration": 229,
    "start_time": "2024-05-15T20:20:35.720Z"
   },
   {
    "duration": 351,
    "start_time": "2024-05-15T20:20:35.950Z"
   },
   {
    "duration": 214,
    "start_time": "2024-05-15T20:20:36.302Z"
   },
   {
    "duration": 300,
    "start_time": "2024-05-15T20:20:36.517Z"
   },
   {
    "duration": 8,
    "start_time": "2024-05-15T20:20:36.819Z"
   },
   {
    "duration": 157,
    "start_time": "2024-05-15T20:20:36.828Z"
   },
   {
    "duration": 8,
    "start_time": "2024-05-15T20:20:36.988Z"
   },
   {
    "duration": 9,
    "start_time": "2024-05-15T20:20:36.998Z"
   },
   {
    "duration": 192,
    "start_time": "2024-05-15T20:20:37.009Z"
   },
   {
    "duration": 6,
    "start_time": "2024-05-15T20:20:37.203Z"
   },
   {
    "duration": 211,
    "start_time": "2024-05-15T20:20:37.211Z"
   },
   {
    "duration": 185,
    "start_time": "2024-05-15T20:20:37.425Z"
   },
   {
    "duration": 9,
    "start_time": "2024-05-15T20:20:37.612Z"
   },
   {
    "duration": 8,
    "start_time": "2024-05-15T20:20:37.622Z"
   },
   {
    "duration": 25,
    "start_time": "2024-05-15T20:20:37.631Z"
   },
   {
    "duration": 24,
    "start_time": "2024-05-15T20:20:37.666Z"
   },
   {
    "duration": 12,
    "start_time": "2024-05-15T20:20:37.692Z"
   },
   {
    "duration": 8,
    "start_time": "2024-05-15T20:29:32.568Z"
   },
   {
    "duration": 98,
    "start_time": "2024-05-15T20:33:02.785Z"
   },
   {
    "duration": 9,
    "start_time": "2024-05-15T20:33:08.398Z"
   },
   {
    "duration": 6,
    "start_time": "2024-05-15T20:34:41.468Z"
   },
   {
    "duration": 9,
    "start_time": "2024-05-15T20:35:03.549Z"
   },
   {
    "duration": 5,
    "start_time": "2024-05-15T20:44:34.154Z"
   },
   {
    "duration": 4,
    "start_time": "2024-05-15T20:44:53.556Z"
   },
   {
    "duration": 4,
    "start_time": "2024-05-15T20:45:04.023Z"
   },
   {
    "duration": 4,
    "start_time": "2024-05-15T20:47:08.895Z"
   },
   {
    "duration": 5,
    "start_time": "2024-05-15T20:47:16.623Z"
   },
   {
    "duration": 11,
    "start_time": "2024-05-15T20:47:43.734Z"
   },
   {
    "duration": 10,
    "start_time": "2024-05-15T20:47:47.775Z"
   },
   {
    "duration": 10,
    "start_time": "2024-05-15T20:48:27.037Z"
   },
   {
    "duration": 9,
    "start_time": "2024-05-15T20:48:45.966Z"
   },
   {
    "duration": 10,
    "start_time": "2024-05-15T20:48:54.144Z"
   },
   {
    "duration": 4,
    "start_time": "2024-05-15T20:49:11.446Z"
   },
   {
    "duration": 5,
    "start_time": "2024-05-15T20:49:27.214Z"
   },
   {
    "duration": 10,
    "start_time": "2024-05-15T20:49:53.460Z"
   },
   {
    "duration": 4,
    "start_time": "2024-05-15T20:50:08.688Z"
   },
   {
    "duration": 1029,
    "start_time": "2024-05-15T20:51:46.507Z"
   },
   {
    "duration": 74,
    "start_time": "2024-05-15T20:51:47.537Z"
   },
   {
    "duration": 17,
    "start_time": "2024-05-15T20:51:47.613Z"
   },
   {
    "duration": 13,
    "start_time": "2024-05-15T20:51:47.632Z"
   },
   {
    "duration": 19,
    "start_time": "2024-05-15T20:51:47.647Z"
   },
   {
    "duration": 3,
    "start_time": "2024-05-15T20:51:47.668Z"
   },
   {
    "duration": 34,
    "start_time": "2024-05-15T20:51:47.672Z"
   },
   {
    "duration": 10,
    "start_time": "2024-05-15T20:51:47.708Z"
   },
   {
    "duration": 7,
    "start_time": "2024-05-15T20:51:47.719Z"
   },
   {
    "duration": 7,
    "start_time": "2024-05-15T20:51:47.728Z"
   },
   {
    "duration": 32,
    "start_time": "2024-05-15T20:51:47.737Z"
   },
   {
    "duration": 15,
    "start_time": "2024-05-15T20:51:47.771Z"
   },
   {
    "duration": 7,
    "start_time": "2024-05-15T20:51:47.788Z"
   },
   {
    "duration": 18,
    "start_time": "2024-05-15T20:51:47.797Z"
   },
   {
    "duration": 294,
    "start_time": "2024-05-15T20:51:47.817Z"
   },
   {
    "duration": 323,
    "start_time": "2024-05-15T20:51:48.113Z"
   },
   {
    "duration": 213,
    "start_time": "2024-05-15T20:51:48.439Z"
   },
   {
    "duration": 324,
    "start_time": "2024-05-15T20:51:48.653Z"
   },
   {
    "duration": 189,
    "start_time": "2024-05-15T20:51:48.979Z"
   },
   {
    "duration": 277,
    "start_time": "2024-05-15T20:51:49.170Z"
   },
   {
    "duration": 13,
    "start_time": "2024-05-15T20:51:49.449Z"
   },
   {
    "duration": 147,
    "start_time": "2024-05-15T20:51:49.464Z"
   },
   {
    "duration": 7,
    "start_time": "2024-05-15T20:51:49.612Z"
   },
   {
    "duration": 6,
    "start_time": "2024-05-15T20:51:49.621Z"
   },
   {
    "duration": 170,
    "start_time": "2024-05-15T20:51:49.628Z"
   },
   {
    "duration": 8,
    "start_time": "2024-05-15T20:51:49.800Z"
   },
   {
    "duration": 212,
    "start_time": "2024-05-15T20:51:49.809Z"
   },
   {
    "duration": 149,
    "start_time": "2024-05-15T20:51:50.024Z"
   },
   {
    "duration": 10,
    "start_time": "2024-05-15T20:51:50.175Z"
   },
   {
    "duration": 9,
    "start_time": "2024-05-15T20:51:50.187Z"
   },
   {
    "duration": 8,
    "start_time": "2024-05-15T20:51:50.198Z"
   },
   {
    "duration": 7,
    "start_time": "2024-05-15T20:51:50.208Z"
   },
   {
    "duration": 58,
    "start_time": "2024-05-15T20:51:50.217Z"
   },
   {
    "duration": 12,
    "start_time": "2024-05-15T20:51:50.277Z"
   }
  ],
  "kernelspec": {
   "display_name": "Python 3 (ipykernel)",
   "language": "python",
   "name": "python3"
  },
  "language_info": {
   "codemirror_mode": {
    "name": "ipython",
    "version": 3
   },
   "file_extension": ".py",
   "mimetype": "text/x-python",
   "name": "python",
   "nbconvert_exporter": "python",
   "pygments_lexer": "ipython3",
   "version": "3.11.5"
  },
  "toc": {
   "base_numbering": 1,
   "nav_menu": {
    "height": "112px",
    "width": "184px"
   },
   "number_sections": true,
   "sideBar": true,
   "skip_h1_title": true,
   "title_cell": "Table of Contents",
   "title_sidebar": "Contents",
   "toc_cell": false,
   "toc_position": {
    "height": "calc(100% - 180px)",
    "left": "10px",
    "top": "150px",
    "width": "362.516px"
   },
   "toc_section_display": true,
   "toc_window_display": false
  }
 },
 "nbformat": 4,
 "nbformat_minor": 2
}
