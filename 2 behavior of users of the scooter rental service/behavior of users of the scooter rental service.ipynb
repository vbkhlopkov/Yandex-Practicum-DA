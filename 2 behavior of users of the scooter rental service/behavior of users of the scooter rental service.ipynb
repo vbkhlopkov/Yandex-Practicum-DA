{
 "cells": [
  {
   "cell_type": "markdown",
   "id": "5d47bd73",
   "metadata": {},
   "source": [
    "# Исследование поведения пользователей сервиса аренды самокатов\n",
    "\n",
    "Чтобы совершать поездки по городу, пользователи сервиса GoFast пользуются мобильным приложением. Сервисом можно пользоваться:\n",
    "- без подписки\n",
    "  - абонентская плата отсутствует;\n",
    "  - стоимость одной минуты поездки — 8 рублей;\n",
    "  - стоимость старта (начала поездки) — 50 рублей;\n",
    "- с подпиской Ultra \n",
    "  - абонентская плата — 199 рублей в месяц;\n",
    "  - стоимость одной минуты поездки — 6 рублей;\n",
    "  - стоимость старта — бесплатно.\n",
    "  \n",
    "**Цель исследования** – проанализировать данные о некоторых пользователях сервиса аренды самокатов GoFast из нескольких городов, а также об их поездках и проверить три гипотезы, которые могут помочь бизнесу вырасти. \n",
    "\n",
    "**Ход исследования**\n",
    "\n",
    "Исследование пройдет в 6 этапов:\n",
    "1. Обзор данных.  \n",
    "        1.1 Считаем CSV-файлы с данными с помощью библиотеки pandas и сохраним их в датафреймы.  \n",
    "        1.2 Выведем первые строки каждого набора данных. Изучим общую информацию о каждом датафрейме.  \n",
    "2. Предобработка данных.  \n",
    "        2.1 Приведем столбец date к типу даты pandas.  \n",
    "        2.2 Создадим новый столбец с номером месяца на основе столбца date.  \n",
    "        2.3 Проверим наличие пропущенных значений и дубликатов в датафреймах.  \n",
    "3. Исследовательский анализ данных.  \n",
    "        Опишем и визуализируем общую информацию о пользователях и поездках:  \n",
    "        3.1 частота встречаемости городов;  \n",
    "        3.2 соотношение пользователей с подпиской и без подписки;  \n",
    "        3.3 возраст пользователей;  \n",
    "        3.4 расстояние, которое пользователь преодолел за одну поездку;  \n",
    "        3.5 продолжительность поездок.  \n",
    "4. Объединение данных.  \n",
    "        4.1 Объединим данные о пользователях, поездках и подписках в один датафрейм.  \n",
    "        4.2 Создадим ещё два датафрейма из датафрейма, созданного на этапе 4.1:  \n",
    "        c данными о пользователях без подписки;  \n",
    "        с данными о пользователях с подпиской.  \n",
    "        4.3 Визуализируем информацию о расстоянии и времени поездок для пользователей обеих категорий.  \n",
    "5. Подсчёт выручки.  \n",
    "        5.1 Создадим датафрейм с агрегированными данными о поездках на основе датафрейма с объединёнными данными из шага 4: найдем суммарное расстояние, количество поездок и суммарное время для каждого пользователя за каждый месяц.  \n",
    "        5.2 В этот же датафрейм добавим столбец с помесячной выручкой, которую принёс каждый пользователь.  \n",
    "6. Проверка гипотез.  \n",
    "        Продакт-менеджеры сервиса хотят увеличить количество пользователей с подпиской. Для этого они будут проводить различные акции, но сначала выясним несколько важных моментов.  \n",
    "        6.1 Важно понять, тратят ли пользователи с подпиской больше времени на поездки? Если да, то пользователи с подпиской могут быть «выгоднее» для компании. Проверим гипотезу.  \n",
    "        6.2 Расстояние одной поездки в 3130 метров — оптимальное с точки зрения износа самоката. Можно ли сказать, что среднее расстояние, которое проезжают пользователи с подпиской за одну поездку, не превышает 3130 метров? Проверим гипотезу и сделаем выводы.  \n",
    "        6.3 Проверим гипотезу о том, будет ли помесячная выручка от пользователей с подпиской по месяцам выше, чем выручка от пользователей без подписки. Сделаем вывод.  "
   ]
  },
  {
   "cell_type": "markdown",
   "id": "c42cbe00",
   "metadata": {},
   "source": [
    "### Шаг 1. Загрузка данных"
   ]
  },
  {
   "cell_type": "code",
   "execution_count": 1,
   "id": "72576667",
   "metadata": {},
   "outputs": [],
   "source": [
    "import pandas as pd\n",
    "import matplotlib.pyplot as plt\n",
    "import numpy as np\n",
    "import scipy.stats as st"
   ]
  },
  {
   "cell_type": "markdown",
   "id": "49f2f7db",
   "metadata": {},
   "source": [
    "#### Считаем CSV-файлы с данными и сохраним их в датафреймы."
   ]
  },
  {
   "cell_type": "code",
   "execution_count": 2,
   "id": "eff9f206",
   "metadata": {},
   "outputs": [],
   "source": [
    "try:\n",
    "    data_users = pd.read_csv('/datasets/users_go.csv')\n",
    "    data_rides = pd.read_csv('/datasets/rides_go.csv')\n",
    "    data_subscriptions = pd.read_csv('/datasets/subscriptions_go.csv')\n",
    "except:\n",
    "    data_users = pd.read_csv('https://code.s3.yandex.net/datasets/users_go.csv')\n",
    "    data_rides = pd.read_csv('https://code.s3.yandex.net/datasets/rides_go.csv')\n",
    "    data_subscriptions = pd.read_csv('https://code.s3.yandex.net/datasets/subscriptions_go.csv')"
   ]
  },
  {
   "cell_type": "markdown",
   "id": "999cbc66",
   "metadata": {},
   "source": [
    "#### Выведем первые строки каждого набора данных и изучим общую информацию о каждом датафрейме.\n"
   ]
  },
  {
   "cell_type": "code",
   "execution_count": 3,
   "id": "feeeb7cf",
   "metadata": {},
   "outputs": [],
   "source": [
    "def data_info(dataset):\n",
    "    display(dataset.head())\n",
    "    print(dataset.info())"
   ]
  },
  {
   "cell_type": "code",
   "execution_count": 4,
   "id": "ec157937",
   "metadata": {},
   "outputs": [
    {
     "data": {
      "text/html": [
       "<div>\n",
       "<style scoped>\n",
       "    .dataframe tbody tr th:only-of-type {\n",
       "        vertical-align: middle;\n",
       "    }\n",
       "\n",
       "    .dataframe tbody tr th {\n",
       "        vertical-align: top;\n",
       "    }\n",
       "\n",
       "    .dataframe thead th {\n",
       "        text-align: right;\n",
       "    }\n",
       "</style>\n",
       "<table border=\"1\" class=\"dataframe\">\n",
       "  <thead>\n",
       "    <tr style=\"text-align: right;\">\n",
       "      <th></th>\n",
       "      <th>user_id</th>\n",
       "      <th>name</th>\n",
       "      <th>age</th>\n",
       "      <th>city</th>\n",
       "      <th>subscription_type</th>\n",
       "    </tr>\n",
       "  </thead>\n",
       "  <tbody>\n",
       "    <tr>\n",
       "      <th>0</th>\n",
       "      <td>1</td>\n",
       "      <td>Кира</td>\n",
       "      <td>22</td>\n",
       "      <td>Тюмень</td>\n",
       "      <td>ultra</td>\n",
       "    </tr>\n",
       "    <tr>\n",
       "      <th>1</th>\n",
       "      <td>2</td>\n",
       "      <td>Станислав</td>\n",
       "      <td>31</td>\n",
       "      <td>Омск</td>\n",
       "      <td>ultra</td>\n",
       "    </tr>\n",
       "    <tr>\n",
       "      <th>2</th>\n",
       "      <td>3</td>\n",
       "      <td>Алексей</td>\n",
       "      <td>20</td>\n",
       "      <td>Москва</td>\n",
       "      <td>ultra</td>\n",
       "    </tr>\n",
       "    <tr>\n",
       "      <th>3</th>\n",
       "      <td>4</td>\n",
       "      <td>Константин</td>\n",
       "      <td>26</td>\n",
       "      <td>Ростов-на-Дону</td>\n",
       "      <td>ultra</td>\n",
       "    </tr>\n",
       "    <tr>\n",
       "      <th>4</th>\n",
       "      <td>5</td>\n",
       "      <td>Адель</td>\n",
       "      <td>28</td>\n",
       "      <td>Омск</td>\n",
       "      <td>ultra</td>\n",
       "    </tr>\n",
       "  </tbody>\n",
       "</table>\n",
       "</div>"
      ],
      "text/plain": [
       "   user_id        name  age            city subscription_type\n",
       "0        1        Кира   22          Тюмень             ultra\n",
       "1        2   Станислав   31            Омск             ultra\n",
       "2        3     Алексей   20          Москва             ultra\n",
       "3        4  Константин   26  Ростов-на-Дону             ultra\n",
       "4        5       Адель   28            Омск             ultra"
      ]
     },
     "metadata": {},
     "output_type": "display_data"
    },
    {
     "name": "stdout",
     "output_type": "stream",
     "text": [
      "<class 'pandas.core.frame.DataFrame'>\n",
      "RangeIndex: 1565 entries, 0 to 1564\n",
      "Data columns (total 5 columns):\n",
      " #   Column             Non-Null Count  Dtype \n",
      "---  ------             --------------  ----- \n",
      " 0   user_id            1565 non-null   int64 \n",
      " 1   name               1565 non-null   object\n",
      " 2   age                1565 non-null   int64 \n",
      " 3   city               1565 non-null   object\n",
      " 4   subscription_type  1565 non-null   object\n",
      "dtypes: int64(2), object(3)\n",
      "memory usage: 61.3+ KB\n",
      "None\n"
     ]
    }
   ],
   "source": [
    "data_info(data_users)"
   ]
  },
  {
   "cell_type": "code",
   "execution_count": 5,
   "id": "f87a250d",
   "metadata": {},
   "outputs": [
    {
     "data": {
      "text/html": [
       "<div>\n",
       "<style scoped>\n",
       "    .dataframe tbody tr th:only-of-type {\n",
       "        vertical-align: middle;\n",
       "    }\n",
       "\n",
       "    .dataframe tbody tr th {\n",
       "        vertical-align: top;\n",
       "    }\n",
       "\n",
       "    .dataframe thead th {\n",
       "        text-align: right;\n",
       "    }\n",
       "</style>\n",
       "<table border=\"1\" class=\"dataframe\">\n",
       "  <thead>\n",
       "    <tr style=\"text-align: right;\">\n",
       "      <th></th>\n",
       "      <th>user_id</th>\n",
       "      <th>distance</th>\n",
       "      <th>duration</th>\n",
       "      <th>date</th>\n",
       "    </tr>\n",
       "  </thead>\n",
       "  <tbody>\n",
       "    <tr>\n",
       "      <th>0</th>\n",
       "      <td>1</td>\n",
       "      <td>4409.919140</td>\n",
       "      <td>25.599769</td>\n",
       "      <td>2021-01-01</td>\n",
       "    </tr>\n",
       "    <tr>\n",
       "      <th>1</th>\n",
       "      <td>1</td>\n",
       "      <td>2617.592153</td>\n",
       "      <td>15.816871</td>\n",
       "      <td>2021-01-18</td>\n",
       "    </tr>\n",
       "    <tr>\n",
       "      <th>2</th>\n",
       "      <td>1</td>\n",
       "      <td>754.159807</td>\n",
       "      <td>6.232113</td>\n",
       "      <td>2021-04-20</td>\n",
       "    </tr>\n",
       "    <tr>\n",
       "      <th>3</th>\n",
       "      <td>1</td>\n",
       "      <td>2694.783254</td>\n",
       "      <td>18.511000</td>\n",
       "      <td>2021-08-11</td>\n",
       "    </tr>\n",
       "    <tr>\n",
       "      <th>4</th>\n",
       "      <td>1</td>\n",
       "      <td>4028.687306</td>\n",
       "      <td>26.265803</td>\n",
       "      <td>2021-08-28</td>\n",
       "    </tr>\n",
       "  </tbody>\n",
       "</table>\n",
       "</div>"
      ],
      "text/plain": [
       "   user_id     distance   duration        date\n",
       "0        1  4409.919140  25.599769  2021-01-01\n",
       "1        1  2617.592153  15.816871  2021-01-18\n",
       "2        1   754.159807   6.232113  2021-04-20\n",
       "3        1  2694.783254  18.511000  2021-08-11\n",
       "4        1  4028.687306  26.265803  2021-08-28"
      ]
     },
     "metadata": {},
     "output_type": "display_data"
    },
    {
     "name": "stdout",
     "output_type": "stream",
     "text": [
      "<class 'pandas.core.frame.DataFrame'>\n",
      "RangeIndex: 18068 entries, 0 to 18067\n",
      "Data columns (total 4 columns):\n",
      " #   Column    Non-Null Count  Dtype  \n",
      "---  ------    --------------  -----  \n",
      " 0   user_id   18068 non-null  int64  \n",
      " 1   distance  18068 non-null  float64\n",
      " 2   duration  18068 non-null  float64\n",
      " 3   date      18068 non-null  object \n",
      "dtypes: float64(2), int64(1), object(1)\n",
      "memory usage: 564.8+ KB\n",
      "None\n"
     ]
    }
   ],
   "source": [
    "data_info(data_rides)"
   ]
  },
  {
   "cell_type": "code",
   "execution_count": 6,
   "id": "93bdddef",
   "metadata": {},
   "outputs": [
    {
     "data": {
      "text/html": [
       "<div>\n",
       "<style scoped>\n",
       "    .dataframe tbody tr th:only-of-type {\n",
       "        vertical-align: middle;\n",
       "    }\n",
       "\n",
       "    .dataframe tbody tr th {\n",
       "        vertical-align: top;\n",
       "    }\n",
       "\n",
       "    .dataframe thead th {\n",
       "        text-align: right;\n",
       "    }\n",
       "</style>\n",
       "<table border=\"1\" class=\"dataframe\">\n",
       "  <thead>\n",
       "    <tr style=\"text-align: right;\">\n",
       "      <th></th>\n",
       "      <th>subscription_type</th>\n",
       "      <th>minute_price</th>\n",
       "      <th>start_ride_price</th>\n",
       "      <th>subscription_fee</th>\n",
       "    </tr>\n",
       "  </thead>\n",
       "  <tbody>\n",
       "    <tr>\n",
       "      <th>0</th>\n",
       "      <td>free</td>\n",
       "      <td>8</td>\n",
       "      <td>50</td>\n",
       "      <td>0</td>\n",
       "    </tr>\n",
       "    <tr>\n",
       "      <th>1</th>\n",
       "      <td>ultra</td>\n",
       "      <td>6</td>\n",
       "      <td>0</td>\n",
       "      <td>199</td>\n",
       "    </tr>\n",
       "  </tbody>\n",
       "</table>\n",
       "</div>"
      ],
      "text/plain": [
       "  subscription_type  minute_price  start_ride_price  subscription_fee\n",
       "0              free             8                50                 0\n",
       "1             ultra             6                 0               199"
      ]
     },
     "metadata": {},
     "output_type": "display_data"
    },
    {
     "name": "stdout",
     "output_type": "stream",
     "text": [
      "<class 'pandas.core.frame.DataFrame'>\n",
      "RangeIndex: 2 entries, 0 to 1\n",
      "Data columns (total 4 columns):\n",
      " #   Column             Non-Null Count  Dtype \n",
      "---  ------             --------------  ----- \n",
      " 0   subscription_type  2 non-null      object\n",
      " 1   minute_price       2 non-null      int64 \n",
      " 2   start_ride_price   2 non-null      int64 \n",
      " 3   subscription_fee   2 non-null      int64 \n",
      "dtypes: int64(3), object(1)\n",
      "memory usage: 196.0+ bytes\n",
      "None\n"
     ]
    }
   ],
   "source": [
    "data_info(data_subscriptions)"
   ]
  },
  {
   "cell_type": "markdown",
   "id": "d6c91a27",
   "metadata": {},
   "source": [
    "**Вывод**\n",
    "\n",
    "В основных данных есть информация о пользователях сервиса аренды самокатов GoFast, их поездках и подписках.\n",
    "\n",
    "Датафрейм с данными о пользователях содержит 5 колонок: уникальный идентификатор пользователя, имя пользователя, возраст, город, тип подписки (free, ultra). Датафрейм с данными о поездках содержит 4 колонки: уникальный идентификатор пользователя, расстояние, которое пользователь проехал в текущей сессии (в метрах), продолжительность сессии (в минутах), дата совершения поездки. Датафрейм с данными о подписках содержит всего 2 строчки (тип подписки – free, ultra) и 4 колонки: тип подписки, стоимость одной минуты поездки по данной подписке, стоимость начала поездки, стоимость ежемесячного платежа.\n",
    "\n",
    "В данных нет пропусков. В датафрейме с данными о поездках тип данных столбца `date` нужно изменить."
   ]
  },
  {
   "cell_type": "markdown",
   "id": "e95ebca7",
   "metadata": {},
   "source": [
    "### Шаг 2. Предобработка данных"
   ]
  },
  {
   "cell_type": "markdown",
   "id": "11bf61fe",
   "metadata": {},
   "source": [
    "#### Изменим тип столбца `date` в датафрейме с данными о поездках."
   ]
  },
  {
   "cell_type": "code",
   "execution_count": 7,
   "id": "31f0fa08",
   "metadata": {},
   "outputs": [],
   "source": [
    "data_rides['date'] = pd.to_datetime(data_rides['date'], format='%Y-%m-%d')"
   ]
  },
  {
   "cell_type": "code",
   "execution_count": 8,
   "id": "1180a6a0",
   "metadata": {},
   "outputs": [
    {
     "name": "stdout",
     "output_type": "stream",
     "text": [
      "<class 'pandas.core.frame.DataFrame'>\n",
      "RangeIndex: 18068 entries, 0 to 18067\n",
      "Data columns (total 4 columns):\n",
      " #   Column    Non-Null Count  Dtype         \n",
      "---  ------    --------------  -----         \n",
      " 0   user_id   18068 non-null  int64         \n",
      " 1   distance  18068 non-null  float64       \n",
      " 2   duration  18068 non-null  float64       \n",
      " 3   date      18068 non-null  datetime64[ns]\n",
      "dtypes: datetime64[ns](1), float64(2), int64(1)\n",
      "memory usage: 564.8 KB\n"
     ]
    }
   ],
   "source": [
    "data_rides.info()"
   ]
  },
  {
   "cell_type": "markdown",
   "id": "7ece74d5",
   "metadata": {},
   "source": [
    "#### Создадим новый столбец с номером месяца на основе столбца `date`."
   ]
  },
  {
   "cell_type": "code",
   "execution_count": 9,
   "id": "68a2037c",
   "metadata": {
    "scrolled": true
   },
   "outputs": [
    {
     "name": "stdout",
     "output_type": "stream",
     "text": [
      "Данные собраны за период с 2021-01-01 00:00:00 по 2021-12-30 00:00:00\n"
     ]
    }
   ],
   "source": [
    "print('Данные собраны за период с',data_rides['date'].min(),'по',data_rides['date'].max())"
   ]
  },
  {
   "cell_type": "code",
   "execution_count": 10,
   "id": "33914c96",
   "metadata": {},
   "outputs": [],
   "source": [
    "data_rides['month'] = data_rides['date'].dt.month"
   ]
  },
  {
   "cell_type": "code",
   "execution_count": 11,
   "id": "03c8a09f",
   "metadata": {},
   "outputs": [
    {
     "data": {
      "text/html": [
       "<div>\n",
       "<style scoped>\n",
       "    .dataframe tbody tr th:only-of-type {\n",
       "        vertical-align: middle;\n",
       "    }\n",
       "\n",
       "    .dataframe tbody tr th {\n",
       "        vertical-align: top;\n",
       "    }\n",
       "\n",
       "    .dataframe thead th {\n",
       "        text-align: right;\n",
       "    }\n",
       "</style>\n",
       "<table border=\"1\" class=\"dataframe\">\n",
       "  <thead>\n",
       "    <tr style=\"text-align: right;\">\n",
       "      <th></th>\n",
       "      <th>user_id</th>\n",
       "      <th>distance</th>\n",
       "      <th>duration</th>\n",
       "      <th>date</th>\n",
       "      <th>month</th>\n",
       "    </tr>\n",
       "  </thead>\n",
       "  <tbody>\n",
       "    <tr>\n",
       "      <th>0</th>\n",
       "      <td>1</td>\n",
       "      <td>4409.919140</td>\n",
       "      <td>25.599769</td>\n",
       "      <td>2021-01-01</td>\n",
       "      <td>1</td>\n",
       "    </tr>\n",
       "    <tr>\n",
       "      <th>1</th>\n",
       "      <td>1</td>\n",
       "      <td>2617.592153</td>\n",
       "      <td>15.816871</td>\n",
       "      <td>2021-01-18</td>\n",
       "      <td>1</td>\n",
       "    </tr>\n",
       "    <tr>\n",
       "      <th>2</th>\n",
       "      <td>1</td>\n",
       "      <td>754.159807</td>\n",
       "      <td>6.232113</td>\n",
       "      <td>2021-04-20</td>\n",
       "      <td>4</td>\n",
       "    </tr>\n",
       "    <tr>\n",
       "      <th>3</th>\n",
       "      <td>1</td>\n",
       "      <td>2694.783254</td>\n",
       "      <td>18.511000</td>\n",
       "      <td>2021-08-11</td>\n",
       "      <td>8</td>\n",
       "    </tr>\n",
       "    <tr>\n",
       "      <th>4</th>\n",
       "      <td>1</td>\n",
       "      <td>4028.687306</td>\n",
       "      <td>26.265803</td>\n",
       "      <td>2021-08-28</td>\n",
       "      <td>8</td>\n",
       "    </tr>\n",
       "  </tbody>\n",
       "</table>\n",
       "</div>"
      ],
      "text/plain": [
       "   user_id     distance   duration       date  month\n",
       "0        1  4409.919140  25.599769 2021-01-01      1\n",
       "1        1  2617.592153  15.816871 2021-01-18      1\n",
       "2        1   754.159807   6.232113 2021-04-20      4\n",
       "3        1  2694.783254  18.511000 2021-08-11      8\n",
       "4        1  4028.687306  26.265803 2021-08-28      8"
      ]
     },
     "execution_count": 11,
     "metadata": {},
     "output_type": "execute_result"
    }
   ],
   "source": [
    "data_rides.head()"
   ]
  },
  {
   "cell_type": "markdown",
   "id": "1455a067",
   "metadata": {},
   "source": [
    "#### Проверим наличие пропущенных значений и дубликатов в датафреймах. "
   ]
  },
  {
   "cell_type": "code",
   "execution_count": 12,
   "id": "30fe20a0",
   "metadata": {},
   "outputs": [
    {
     "data": {
      "text/plain": [
       "user_id              0\n",
       "name                 0\n",
       "age                  0\n",
       "city                 0\n",
       "subscription_type    0\n",
       "dtype: int64"
      ]
     },
     "execution_count": 12,
     "metadata": {},
     "output_type": "execute_result"
    }
   ],
   "source": [
    "data_users.isna().sum()"
   ]
  },
  {
   "cell_type": "code",
   "execution_count": 13,
   "id": "f5749bb5",
   "metadata": {},
   "outputs": [
    {
     "data": {
      "text/plain": [
       "user_id     0\n",
       "distance    0\n",
       "duration    0\n",
       "date        0\n",
       "month       0\n",
       "dtype: int64"
      ]
     },
     "execution_count": 13,
     "metadata": {},
     "output_type": "execute_result"
    }
   ],
   "source": [
    "data_rides.isna().sum()"
   ]
  },
  {
   "cell_type": "code",
   "execution_count": 14,
   "id": "2ac73880",
   "metadata": {},
   "outputs": [
    {
     "data": {
      "text/plain": [
       "subscription_type    0\n",
       "minute_price         0\n",
       "start_ride_price     0\n",
       "subscription_fee     0\n",
       "dtype: int64"
      ]
     },
     "execution_count": 14,
     "metadata": {},
     "output_type": "execute_result"
    }
   ],
   "source": [
    "data_subscriptions.isna().sum()"
   ]
  },
  {
   "cell_type": "code",
   "execution_count": 15,
   "id": "ca9c4c4b",
   "metadata": {},
   "outputs": [
    {
     "data": {
      "text/plain": [
       "31"
      ]
     },
     "execution_count": 15,
     "metadata": {},
     "output_type": "execute_result"
    }
   ],
   "source": [
    "data_users.duplicated().sum()"
   ]
  },
  {
   "cell_type": "markdown",
   "id": "39d07a23",
   "metadata": {},
   "source": [
    "Удалим дубликаты в датафрейме с данными о пользователях."
   ]
  },
  {
   "cell_type": "code",
   "execution_count": 16,
   "id": "315c87d8",
   "metadata": {},
   "outputs": [],
   "source": [
    "data_users = data_users.drop_duplicates()"
   ]
  },
  {
   "cell_type": "code",
   "execution_count": 17,
   "id": "751a2482",
   "metadata": {},
   "outputs": [
    {
     "data": {
      "text/plain": [
       "0"
      ]
     },
     "execution_count": 17,
     "metadata": {},
     "output_type": "execute_result"
    }
   ],
   "source": [
    "data_users.duplicated().sum()"
   ]
  },
  {
   "cell_type": "code",
   "execution_count": 18,
   "id": "24a2028f",
   "metadata": {},
   "outputs": [
    {
     "data": {
      "text/plain": [
       "0"
      ]
     },
     "execution_count": 18,
     "metadata": {},
     "output_type": "execute_result"
    }
   ],
   "source": [
    "data_rides.duplicated().sum()"
   ]
  },
  {
   "cell_type": "code",
   "execution_count": 19,
   "id": "9894fe8a",
   "metadata": {},
   "outputs": [
    {
     "data": {
      "text/plain": [
       "0"
      ]
     },
     "execution_count": 19,
     "metadata": {},
     "output_type": "execute_result"
    }
   ],
   "source": [
    "data_subscriptions.duplicated().sum()"
   ]
  },
  {
   "cell_type": "markdown",
   "id": "d8f3e820",
   "metadata": {},
   "source": [
    "**Вывод**\n",
    "\n",
    "На этапе предобработки данных в датафрейме с данными о поездках был изменен тип столбца `date` и добавлен новый столбец с номером месяца. В трех датафреймах пропущенные значения выявлены не были. В датафрейме с данными о пользователях был обнаружен и удален 31 дубликат."
   ]
  },
  {
   "cell_type": "markdown",
   "id": "212593c7",
   "metadata": {},
   "source": [
    "### Шаг 3. Исследовательский анализ данных"
   ]
  },
  {
   "cell_type": "markdown",
   "id": "17f848b9",
   "metadata": {},
   "source": [
    "#### Опишем и визуализируем частоту встречаемости городов."
   ]
  },
  {
   "cell_type": "code",
   "execution_count": 20,
   "id": "fc06dc01",
   "metadata": {},
   "outputs": [
    {
     "name": "stdout",
     "output_type": "stream",
     "text": [
      "count     8.00\n",
      "mean     12.50\n",
      "std       1.02\n",
      "min      11.00\n",
      "25%      11.85\n",
      "50%      12.45\n",
      "75%      13.00\n",
      "max      14.30\n",
      "Name: percent, dtype: float64\n"
     ]
    },
    {
     "data": {
      "text/html": [
       "<div>\n",
       "<style scoped>\n",
       "    .dataframe tbody tr th:only-of-type {\n",
       "        vertical-align: middle;\n",
       "    }\n",
       "\n",
       "    .dataframe tbody tr th {\n",
       "        vertical-align: top;\n",
       "    }\n",
       "\n",
       "    .dataframe thead th {\n",
       "        text-align: right;\n",
       "    }\n",
       "</style>\n",
       "<table border=\"1\" class=\"dataframe\">\n",
       "  <thead>\n",
       "    <tr style=\"text-align: right;\">\n",
       "      <th></th>\n",
       "      <th>user_id</th>\n",
       "      <th>percent</th>\n",
       "    </tr>\n",
       "    <tr>\n",
       "      <th>city</th>\n",
       "      <th></th>\n",
       "      <th></th>\n",
       "    </tr>\n",
       "  </thead>\n",
       "  <tbody>\n",
       "    <tr>\n",
       "      <th>Пятигорск</th>\n",
       "      <td>219</td>\n",
       "      <td>14.3</td>\n",
       "    </tr>\n",
       "    <tr>\n",
       "      <th>Екатеринбург</th>\n",
       "      <td>204</td>\n",
       "      <td>13.3</td>\n",
       "    </tr>\n",
       "    <tr>\n",
       "      <th>Ростов-на-Дону</th>\n",
       "      <td>198</td>\n",
       "      <td>12.9</td>\n",
       "    </tr>\n",
       "    <tr>\n",
       "      <th>Краснодар</th>\n",
       "      <td>193</td>\n",
       "      <td>12.6</td>\n",
       "    </tr>\n",
       "    <tr>\n",
       "      <th>Сочи</th>\n",
       "      <td>189</td>\n",
       "      <td>12.3</td>\n",
       "    </tr>\n",
       "    <tr>\n",
       "      <th>Омск</th>\n",
       "      <td>183</td>\n",
       "      <td>11.9</td>\n",
       "    </tr>\n",
       "    <tr>\n",
       "      <th>Тюмень</th>\n",
       "      <td>180</td>\n",
       "      <td>11.7</td>\n",
       "    </tr>\n",
       "    <tr>\n",
       "      <th>Москва</th>\n",
       "      <td>168</td>\n",
       "      <td>11.0</td>\n",
       "    </tr>\n",
       "  </tbody>\n",
       "</table>\n",
       "</div>"
      ],
      "text/plain": [
       "                user_id  percent\n",
       "city                            \n",
       "Пятигорск           219     14.3\n",
       "Екатеринбург        204     13.3\n",
       "Ростов-на-Дону      198     12.9\n",
       "Краснодар           193     12.6\n",
       "Сочи                189     12.3\n",
       "Омск                183     11.9\n",
       "Тюмень              180     11.7\n",
       "Москва              168     11.0"
      ]
     },
     "metadata": {},
     "output_type": "display_data"
    }
   ],
   "source": [
    "city = (data_users\n",
    " .pivot_table(index = 'city', values = 'user_id', aggfunc = 'count')\n",
    " .sort_values(by='user_id', ascending=False)\n",
    ")\n",
    "city['percent'] = (city['user_id'] * 100 / city['user_id'].sum()).round(1)\n",
    "print(city['percent'].describe().round(2))\n",
    "display(city)"
   ]
  },
  {
   "cell_type": "code",
   "execution_count": 21,
   "id": "8ec72120",
   "metadata": {},
   "outputs": [
    {
     "data": {
      "image/png": "[encoded data removed]",
      "text/plain": [
       "<Figure size 1500x300 with 1 Axes>"
      ]
     },
     "metadata": {},
     "output_type": "display_data"
    }
   ],
   "source": [
    "(data_users\n",
    " .pivot_table(index = 'city', values = 'user_id', aggfunc = 'count')\n",
    " .sort_values(by='user_id', ascending=True)\n",
    " .plot(y = 'user_id', kind = 'barh', figsize=(15, 3), legend=False)\n",
    ")\n",
    "plt.title('Частота встречаемости городов')\n",
    "plt.xlabel('Количество пользователей')\n",
    "plt.ylabel('Города');"
   ]
  },
  {
   "cell_type": "markdown",
   "id": "500d933a",
   "metadata": {},
   "source": [
    "В датафрейме содержатся данные о пользователях из 8 городов. Больше всего пользователей – в Пятигорске (219 человек), меньше всего – в Москве (168 человек). Стандартное отклонение количества пользователей в разных городах составляет 1%, значит, разница между городами небольшая."
   ]
  },
  {
   "cell_type": "markdown",
   "id": "1c9cabe8",
   "metadata": {},
   "source": [
    "#### Опишем и визуализируем соотношение пользователей с подпиской и без подписки."
   ]
  },
  {
   "cell_type": "code",
   "execution_count": 22,
   "id": "3135f793",
   "metadata": {},
   "outputs": [
    {
     "data": {
      "text/html": [
       "<div>\n",
       "<style scoped>\n",
       "    .dataframe tbody tr th:only-of-type {\n",
       "        vertical-align: middle;\n",
       "    }\n",
       "\n",
       "    .dataframe tbody tr th {\n",
       "        vertical-align: top;\n",
       "    }\n",
       "\n",
       "    .dataframe thead th {\n",
       "        text-align: right;\n",
       "    }\n",
       "</style>\n",
       "<table border=\"1\" class=\"dataframe\">\n",
       "  <thead>\n",
       "    <tr style=\"text-align: right;\">\n",
       "      <th></th>\n",
       "      <th>user_id</th>\n",
       "    </tr>\n",
       "    <tr>\n",
       "      <th>subscription_type</th>\n",
       "      <th></th>\n",
       "    </tr>\n",
       "  </thead>\n",
       "  <tbody>\n",
       "    <tr>\n",
       "      <th>free</th>\n",
       "      <td>835</td>\n",
       "    </tr>\n",
       "    <tr>\n",
       "      <th>ultra</th>\n",
       "      <td>699</td>\n",
       "    </tr>\n",
       "  </tbody>\n",
       "</table>\n",
       "</div>"
      ],
      "text/plain": [
       "                   user_id\n",
       "subscription_type         \n",
       "free                   835\n",
       "ultra                  699"
      ]
     },
     "execution_count": 22,
     "metadata": {},
     "output_type": "execute_result"
    }
   ],
   "source": [
    "(data_users\n",
    " .pivot_table(index = 'subscription_type', values = 'user_id', aggfunc = 'count')\n",
    " .sort_values(by='user_id', ascending=False)\n",
    ")"
   ]
  },
  {
   "cell_type": "code",
   "execution_count": 23,
   "id": "fef39d4c",
   "metadata": {},
   "outputs": [
    {
     "data": {
      "image/png": "[encoded data removed]",
      "text/plain": [
       "<Figure size 800x800 with 1 Axes>"
      ]
     },
     "metadata": {},
     "output_type": "display_data"
    }
   ],
   "source": [
    "(data_users\n",
    " .pivot_table(index = 'subscription_type', values = 'user_id', aggfunc = 'count')\n",
    " .sort_values(by='user_id', ascending=True)\n",
    " .plot(y = 'user_id', kind = 'pie', figsize=(8, 8), legend=False)\n",
    ")\n",
    "plt.title('Соотношение пользователей с подпиской и без подписки')\n",
    "plt.ylabel('');"
   ]
  },
  {
   "cell_type": "markdown",
   "id": "7e3b2341",
   "metadata": {},
   "source": [
    "В датафрейме содержатся данные о пользователях с подпиской (699 человек) и без подписки (835 человек). Пользователей без подписки больше, чем с подпиской."
   ]
  },
  {
   "cell_type": "markdown",
   "id": "70aef843",
   "metadata": {},
   "source": [
    "#### Опишем и визуализируем возраст пользователей."
   ]
  },
  {
   "cell_type": "code",
   "execution_count": 24,
   "id": "dceda275",
   "metadata": {},
   "outputs": [
    {
     "data": {
      "text/plain": [
       "count    1534.000000\n",
       "mean       24.903520\n",
       "std         4.572367\n",
       "min        12.000000\n",
       "25%        22.000000\n",
       "50%        25.000000\n",
       "75%        28.000000\n",
       "max        43.000000\n",
       "Name: age, dtype: float64"
      ]
     },
     "execution_count": 24,
     "metadata": {},
     "output_type": "execute_result"
    }
   ],
   "source": [
    "data_users['age'].describe()"
   ]
  },
  {
   "cell_type": "code",
   "execution_count": 25,
   "id": "0633ca72",
   "metadata": {},
   "outputs": [
    {
     "data": {
      "image/png": "[encoded data removed]",
      "text/plain": [
       "<Figure size 1500x300 with 1 Axes>"
      ]
     },
     "metadata": {},
     "output_type": "display_data"
    }
   ],
   "source": [
    "data_users['age'].hist(bins=100, figsize = (15,3))\n",
    "plt.title('Возраст пользователей')\n",
    "plt.xlabel('Возраст')\n",
    "plt.ylabel('Количество пользователей');"
   ]
  },
  {
   "cell_type": "markdown",
   "id": "e9da7e52",
   "metadata": {},
   "source": [
    "Гистограмма имеет вид нормального распределения. В среднем сервисом пользуются люди 22-28 лет (медиана – 25 лет)."
   ]
  },
  {
   "cell_type": "markdown",
   "id": "15525949",
   "metadata": {},
   "source": [
    "#### Опишем и визуализируем расстояние, которое пользователь преодолел за одну поездку."
   ]
  },
  {
   "cell_type": "code",
   "execution_count": 26,
   "id": "14e0fc6a",
   "metadata": {},
   "outputs": [
    {
     "data": {
      "text/plain": [
       "count    18068.000000\n",
       "mean      3070.659976\n",
       "std       1116.831209\n",
       "min          0.855683\n",
       "25%       2543.226360\n",
       "50%       3133.609994\n",
       "75%       3776.222735\n",
       "max       7211.007745\n",
       "Name: distance, dtype: float64"
      ]
     },
     "execution_count": 26,
     "metadata": {},
     "output_type": "execute_result"
    }
   ],
   "source": [
    "data_rides['distance'].describe()"
   ]
  },
  {
   "cell_type": "code",
   "execution_count": 27,
   "id": "93e564e1",
   "metadata": {},
   "outputs": [
    {
     "data": {
      "image/png": "[encoded data removed]",
      "text/plain": [
       "<Figure size 1500x300 with 1 Axes>"
      ]
     },
     "metadata": {},
     "output_type": "display_data"
    }
   ],
   "source": [
    "data_rides['distance'].hist(bins=100, figsize = (15,3))\n",
    "plt.title('Расстояние, которое пользователь преодолел за одну поездку')\n",
    "plt.xlabel('Метры')\n",
    "plt.ylabel('Количество пользователей');"
   ]
  },
  {
   "cell_type": "markdown",
   "id": "c213be41",
   "metadata": {},
   "source": [
    "Гистограмма по виду близка к нормальному распределению. В среднем расстояние, которое пользователи могут преодолеть за одну поездку, составляет 2.5-3.8 км (медиана – 3.1 км). На гистограмме заметен небольшой пик на расстоянии 600 м, который можно объяснить короткими поездками по городу с определенной целью. "
   ]
  },
  {
   "cell_type": "markdown",
   "id": "a1527db1",
   "metadata": {},
   "source": [
    "#### Опишем и визуализируем продолжительность поездок."
   ]
  },
  {
   "cell_type": "code",
   "execution_count": 28,
   "id": "ad102cf1",
   "metadata": {},
   "outputs": [
    {
     "data": {
      "text/plain": [
       "count    18068.000000\n",
       "mean        17.805011\n",
       "std          6.091051\n",
       "min          0.500000\n",
       "25%         13.597563\n",
       "50%         17.678395\n",
       "75%         21.724800\n",
       "max         40.823963\n",
       "Name: duration, dtype: float64"
      ]
     },
     "execution_count": 28,
     "metadata": {},
     "output_type": "execute_result"
    }
   ],
   "source": [
    "data_rides['duration'].describe()"
   ]
  },
  {
   "cell_type": "code",
   "execution_count": 29,
   "id": "e9682d67",
   "metadata": {},
   "outputs": [
    {
     "data": {
      "image/png": "[encoded data removed]",
      "text/plain": [
       "<Figure size 1500x300 with 1 Axes>"
      ]
     },
     "metadata": {},
     "output_type": "display_data"
    }
   ],
   "source": [
    "data_rides['duration'].hist(bins=100, figsize = (15,3))\n",
    "plt.title('Продолжительность поездок')\n",
    "plt.xlabel('Минуты')\n",
    "plt.ylabel('Количество пользователей');"
   ]
  },
  {
   "cell_type": "markdown",
   "id": "afe62b5b",
   "metadata": {},
   "source": [
    "Гистограмма имеет вид нормального распределения. В среднем продолжительность поездок составляет 13.6-21.7 мин (медиана – 17.7 мин). На гистограмме заметен небольшой пик на продолжительности 0.5 мин, который может быть связан с неисправностью самоката."
   ]
  },
  {
   "cell_type": "markdown",
   "id": "f00dd58b",
   "metadata": {},
   "source": [
    "**Вывод**\n",
    "\n",
    "По результатам исследовательского анализа данных можно сделать следующие выводы:\n",
    "- данные содержат информацию о пользователях из 8 городов, больше всего пользователей – в Пятигорске, меньше всего – в Москве;\n",
    "- пользователей без подписки больше, чем с подпиской;\n",
    "- cервисом пользуются люди в среднем 22-28 лет;\n",
    "- среднее расстояние, которое пользователь преодолевает за одну поездку, составляет 2.5-3.8 км;\n",
    "- средняя продолжительность поездок составляет 13.6-21.7 мин."
   ]
  },
  {
   "cell_type": "markdown",
   "id": "4ef51331",
   "metadata": {},
   "source": [
    "### Шаг 4. Объединение данных"
   ]
  },
  {
   "cell_type": "markdown",
   "id": "9ca7b970",
   "metadata": {},
   "source": [
    "#### Объединим данные о пользователях, поездках и подписках в один датафрейм."
   ]
  },
  {
   "cell_type": "code",
   "execution_count": 30,
   "id": "dff4c092",
   "metadata": {},
   "outputs": [],
   "source": [
    "data = data_users.merge(data_rides, on='user_id')\n",
    "data = data.merge(data_subscriptions, on='subscription_type')"
   ]
  },
  {
   "cell_type": "code",
   "execution_count": 31,
   "id": "15f7dca2",
   "metadata": {},
   "outputs": [
    {
     "name": "stdout",
     "output_type": "stream",
     "text": [
      "<class 'pandas.core.frame.DataFrame'>\n",
      "Index: 1534 entries, 0 to 1533\n",
      "Data columns (total 5 columns):\n",
      " #   Column             Non-Null Count  Dtype \n",
      "---  ------             --------------  ----- \n",
      " 0   user_id            1534 non-null   int64 \n",
      " 1   name               1534 non-null   object\n",
      " 2   age                1534 non-null   int64 \n",
      " 3   city               1534 non-null   object\n",
      " 4   subscription_type  1534 non-null   object\n",
      "dtypes: int64(2), object(3)\n",
      "memory usage: 71.9+ KB\n"
     ]
    }
   ],
   "source": [
    "data_users.info()"
   ]
  },
  {
   "cell_type": "code",
   "execution_count": 32,
   "id": "83f507bd",
   "metadata": {
    "scrolled": true
   },
   "outputs": [
    {
     "name": "stdout",
     "output_type": "stream",
     "text": [
      "<class 'pandas.core.frame.DataFrame'>\n",
      "RangeIndex: 18068 entries, 0 to 18067\n",
      "Data columns (total 5 columns):\n",
      " #   Column    Non-Null Count  Dtype         \n",
      "---  ------    --------------  -----         \n",
      " 0   user_id   18068 non-null  int64         \n",
      " 1   distance  18068 non-null  float64       \n",
      " 2   duration  18068 non-null  float64       \n",
      " 3   date      18068 non-null  datetime64[ns]\n",
      " 4   month     18068 non-null  int32         \n",
      "dtypes: datetime64[ns](1), float64(2), int32(1), int64(1)\n",
      "memory usage: 635.3 KB\n"
     ]
    }
   ],
   "source": [
    "data_rides.info()"
   ]
  },
  {
   "cell_type": "code",
   "execution_count": 33,
   "id": "460361e4",
   "metadata": {},
   "outputs": [
    {
     "name": "stdout",
     "output_type": "stream",
     "text": [
      "<class 'pandas.core.frame.DataFrame'>\n",
      "RangeIndex: 2 entries, 0 to 1\n",
      "Data columns (total 4 columns):\n",
      " #   Column             Non-Null Count  Dtype \n",
      "---  ------             --------------  ----- \n",
      " 0   subscription_type  2 non-null      object\n",
      " 1   minute_price       2 non-null      int64 \n",
      " 2   start_ride_price   2 non-null      int64 \n",
      " 3   subscription_fee   2 non-null      int64 \n",
      "dtypes: int64(3), object(1)\n",
      "memory usage: 196.0+ bytes\n"
     ]
    }
   ],
   "source": [
    "data_subscriptions.info()"
   ]
  },
  {
   "cell_type": "code",
   "execution_count": 34,
   "id": "df30ff43",
   "metadata": {
    "scrolled": false
   },
   "outputs": [
    {
     "name": "stdout",
     "output_type": "stream",
     "text": [
      "<class 'pandas.core.frame.DataFrame'>\n",
      "RangeIndex: 18068 entries, 0 to 18067\n",
      "Data columns (total 12 columns):\n",
      " #   Column             Non-Null Count  Dtype         \n",
      "---  ------             --------------  -----         \n",
      " 0   user_id            18068 non-null  int64         \n",
      " 1   name               18068 non-null  object        \n",
      " 2   age                18068 non-null  int64         \n",
      " 3   city               18068 non-null  object        \n",
      " 4   subscription_type  18068 non-null  object        \n",
      " 5   distance           18068 non-null  float64       \n",
      " 6   duration           18068 non-null  float64       \n",
      " 7   date               18068 non-null  datetime64[ns]\n",
      " 8   month              18068 non-null  int32         \n",
      " 9   minute_price       18068 non-null  int64         \n",
      " 10  start_ride_price   18068 non-null  int64         \n",
      " 11  subscription_fee   18068 non-null  int64         \n",
      "dtypes: datetime64[ns](1), float64(2), int32(1), int64(5), object(3)\n",
      "memory usage: 1.6+ MB\n"
     ]
    }
   ],
   "source": [
    "data.info()"
   ]
  },
  {
   "cell_type": "code",
   "execution_count": 35,
   "id": "be54e878",
   "metadata": {
    "scrolled": true
   },
   "outputs": [
    {
     "data": {
      "text/html": [
       "<div>\n",
       "<style scoped>\n",
       "    .dataframe tbody tr th:only-of-type {\n",
       "        vertical-align: middle;\n",
       "    }\n",
       "\n",
       "    .dataframe tbody tr th {\n",
       "        vertical-align: top;\n",
       "    }\n",
       "\n",
       "    .dataframe thead th {\n",
       "        text-align: right;\n",
       "    }\n",
       "</style>\n",
       "<table border=\"1\" class=\"dataframe\">\n",
       "  <thead>\n",
       "    <tr style=\"text-align: right;\">\n",
       "      <th></th>\n",
       "      <th>user_id</th>\n",
       "      <th>name</th>\n",
       "      <th>age</th>\n",
       "      <th>city</th>\n",
       "      <th>subscription_type</th>\n",
       "      <th>distance</th>\n",
       "      <th>duration</th>\n",
       "      <th>date</th>\n",
       "      <th>month</th>\n",
       "      <th>minute_price</th>\n",
       "      <th>start_ride_price</th>\n",
       "      <th>subscription_fee</th>\n",
       "    </tr>\n",
       "  </thead>\n",
       "  <tbody>\n",
       "    <tr>\n",
       "      <th>5084</th>\n",
       "      <td>547</td>\n",
       "      <td>Юрий</td>\n",
       "      <td>26</td>\n",
       "      <td>Тюмень</td>\n",
       "      <td>ultra</td>\n",
       "      <td>2590.861163</td>\n",
       "      <td>26.131970</td>\n",
       "      <td>2021-06-01</td>\n",
       "      <td>6</td>\n",
       "      <td>6</td>\n",
       "      <td>0</td>\n",
       "      <td>199</td>\n",
       "    </tr>\n",
       "    <tr>\n",
       "      <th>11667</th>\n",
       "      <td>1076</td>\n",
       "      <td>Софья</td>\n",
       "      <td>22</td>\n",
       "      <td>Екатеринбург</td>\n",
       "      <td>free</td>\n",
       "      <td>3318.311278</td>\n",
       "      <td>13.295778</td>\n",
       "      <td>2021-09-11</td>\n",
       "      <td>9</td>\n",
       "      <td>8</td>\n",
       "      <td>50</td>\n",
       "      <td>0</td>\n",
       "    </tr>\n",
       "    <tr>\n",
       "      <th>445</th>\n",
       "      <td>48</td>\n",
       "      <td>Ростислав</td>\n",
       "      <td>27</td>\n",
       "      <td>Ростов-на-Дону</td>\n",
       "      <td>ultra</td>\n",
       "      <td>3021.167655</td>\n",
       "      <td>20.943851</td>\n",
       "      <td>2021-06-07</td>\n",
       "      <td>6</td>\n",
       "      <td>6</td>\n",
       "      <td>0</td>\n",
       "      <td>199</td>\n",
       "    </tr>\n",
       "    <tr>\n",
       "      <th>2137</th>\n",
       "      <td>228</td>\n",
       "      <td>Тимур</td>\n",
       "      <td>22</td>\n",
       "      <td>Москва</td>\n",
       "      <td>ultra</td>\n",
       "      <td>3145.377521</td>\n",
       "      <td>21.436133</td>\n",
       "      <td>2021-08-10</td>\n",
       "      <td>8</td>\n",
       "      <td>6</td>\n",
       "      <td>0</td>\n",
       "      <td>199</td>\n",
       "    </tr>\n",
       "    <tr>\n",
       "      <th>13823</th>\n",
       "      <td>1233</td>\n",
       "      <td>Виталий</td>\n",
       "      <td>21</td>\n",
       "      <td>Тюмень</td>\n",
       "      <td>free</td>\n",
       "      <td>2551.343430</td>\n",
       "      <td>17.887716</td>\n",
       "      <td>2021-09-19</td>\n",
       "      <td>9</td>\n",
       "      <td>8</td>\n",
       "      <td>50</td>\n",
       "      <td>0</td>\n",
       "    </tr>\n",
       "  </tbody>\n",
       "</table>\n",
       "</div>"
      ],
      "text/plain": [
       "       user_id       name  age            city subscription_type     distance  \\\n",
       "5084       547       Юрий   26          Тюмень             ultra  2590.861163   \n",
       "11667     1076      Софья   22    Екатеринбург              free  3318.311278   \n",
       "445         48  Ростислав   27  Ростов-на-Дону             ultra  3021.167655   \n",
       "2137       228      Тимур   22          Москва             ultra  3145.377521   \n",
       "13823     1233    Виталий   21          Тюмень              free  2551.343430   \n",
       "\n",
       "        duration       date  month  minute_price  start_ride_price  \\\n",
       "5084   26.131970 2021-06-01      6             6                 0   \n",
       "11667  13.295778 2021-09-11      9             8                50   \n",
       "445    20.943851 2021-06-07      6             6                 0   \n",
       "2137   21.436133 2021-08-10      8             6                 0   \n",
       "13823  17.887716 2021-09-19      9             8                50   \n",
       "\n",
       "       subscription_fee  \n",
       "5084                199  \n",
       "11667                 0  \n",
       "445                 199  \n",
       "2137                199  \n",
       "13823                 0  "
      ]
     },
     "execution_count": 35,
     "metadata": {},
     "output_type": "execute_result"
    }
   ],
   "source": [
    "data.sample(5)"
   ]
  },
  {
   "cell_type": "markdown",
   "id": "0197c57f",
   "metadata": {},
   "source": [
    "Размер нового датафрейма соответствует размеру датафрейма с данными о поездках. В данных нет пропусков."
   ]
  },
  {
   "cell_type": "markdown",
   "id": "c33b5af7",
   "metadata": {},
   "source": [
    "#### Cоздадим ещё два датафрейма из датафрейма, созданного на этапе 4.1:\n",
    "- c данными о пользователях без подписки:"
   ]
  },
  {
   "cell_type": "code",
   "execution_count": 36,
   "id": "cab19f77",
   "metadata": {
    "scrolled": true
   },
   "outputs": [
    {
     "data": {
      "text/html": [
       "<div>\n",
       "<style scoped>\n",
       "    .dataframe tbody tr th:only-of-type {\n",
       "        vertical-align: middle;\n",
       "    }\n",
       "\n",
       "    .dataframe tbody tr th {\n",
       "        vertical-align: top;\n",
       "    }\n",
       "\n",
       "    .dataframe thead th {\n",
       "        text-align: right;\n",
       "    }\n",
       "</style>\n",
       "<table border=\"1\" class=\"dataframe\">\n",
       "  <thead>\n",
       "    <tr style=\"text-align: right;\">\n",
       "      <th></th>\n",
       "      <th>user_id</th>\n",
       "      <th>name</th>\n",
       "      <th>age</th>\n",
       "      <th>city</th>\n",
       "      <th>subscription_type</th>\n",
       "      <th>distance</th>\n",
       "      <th>duration</th>\n",
       "      <th>date</th>\n",
       "      <th>month</th>\n",
       "      <th>minute_price</th>\n",
       "      <th>start_ride_price</th>\n",
       "      <th>subscription_fee</th>\n",
       "    </tr>\n",
       "  </thead>\n",
       "  <tbody>\n",
       "    <tr>\n",
       "      <th>8895</th>\n",
       "      <td>879</td>\n",
       "      <td>Анатолий</td>\n",
       "      <td>23</td>\n",
       "      <td>Екатеринбург</td>\n",
       "      <td>free</td>\n",
       "      <td>2557.285069</td>\n",
       "      <td>17.948828</td>\n",
       "      <td>2021-07-17</td>\n",
       "      <td>7</td>\n",
       "      <td>8</td>\n",
       "      <td>50</td>\n",
       "      <td>0</td>\n",
       "    </tr>\n",
       "    <tr>\n",
       "      <th>13866</th>\n",
       "      <td>1236</td>\n",
       "      <td>Александр</td>\n",
       "      <td>31</td>\n",
       "      <td>Екатеринбург</td>\n",
       "      <td>free</td>\n",
       "      <td>1559.520148</td>\n",
       "      <td>19.238081</td>\n",
       "      <td>2021-04-10</td>\n",
       "      <td>4</td>\n",
       "      <td>8</td>\n",
       "      <td>50</td>\n",
       "      <td>0</td>\n",
       "    </tr>\n",
       "    <tr>\n",
       "      <th>11480</th>\n",
       "      <td>1064</td>\n",
       "      <td>Милана</td>\n",
       "      <td>21</td>\n",
       "      <td>Москва</td>\n",
       "      <td>free</td>\n",
       "      <td>3925.989233</td>\n",
       "      <td>21.629946</td>\n",
       "      <td>2021-02-14</td>\n",
       "      <td>2</td>\n",
       "      <td>8</td>\n",
       "      <td>50</td>\n",
       "      <td>0</td>\n",
       "    </tr>\n",
       "    <tr>\n",
       "      <th>12561</th>\n",
       "      <td>1144</td>\n",
       "      <td>Герман</td>\n",
       "      <td>28</td>\n",
       "      <td>Тюмень</td>\n",
       "      <td>free</td>\n",
       "      <td>2818.991783</td>\n",
       "      <td>15.010731</td>\n",
       "      <td>2021-05-22</td>\n",
       "      <td>5</td>\n",
       "      <td>8</td>\n",
       "      <td>50</td>\n",
       "      <td>0</td>\n",
       "    </tr>\n",
       "    <tr>\n",
       "      <th>14406</th>\n",
       "      <td>1272</td>\n",
       "      <td>Ярослав</td>\n",
       "      <td>16</td>\n",
       "      <td>Тюмень</td>\n",
       "      <td>free</td>\n",
       "      <td>2450.837801</td>\n",
       "      <td>12.002394</td>\n",
       "      <td>2021-09-13</td>\n",
       "      <td>9</td>\n",
       "      <td>8</td>\n",
       "      <td>50</td>\n",
       "      <td>0</td>\n",
       "    </tr>\n",
       "  </tbody>\n",
       "</table>\n",
       "</div>"
      ],
      "text/plain": [
       "       user_id       name  age          city subscription_type     distance  \\\n",
       "8895       879   Анатолий   23  Екатеринбург              free  2557.285069   \n",
       "13866     1236  Александр   31  Екатеринбург              free  1559.520148   \n",
       "11480     1064     Милана   21        Москва              free  3925.989233   \n",
       "12561     1144     Герман   28        Тюмень              free  2818.991783   \n",
       "14406     1272    Ярослав   16        Тюмень              free  2450.837801   \n",
       "\n",
       "        duration       date  month  minute_price  start_ride_price  \\\n",
       "8895   17.948828 2021-07-17      7             8                50   \n",
       "13866  19.238081 2021-04-10      4             8                50   \n",
       "11480  21.629946 2021-02-14      2             8                50   \n",
       "12561  15.010731 2021-05-22      5             8                50   \n",
       "14406  12.002394 2021-09-13      9             8                50   \n",
       "\n",
       "       subscription_fee  \n",
       "8895                  0  \n",
       "13866                 0  \n",
       "11480                 0  \n",
       "12561                 0  \n",
       "14406                 0  "
      ]
     },
     "execution_count": 36,
     "metadata": {},
     "output_type": "execute_result"
    }
   ],
   "source": [
    "data_free = data.query('subscription_type == \"free\"')\n",
    "data_free.sample(5)"
   ]
  },
  {
   "cell_type": "markdown",
   "id": "2d9ee559",
   "metadata": {},
   "source": [
    "- с данными о пользователях с подпиской:"
   ]
  },
  {
   "cell_type": "code",
   "execution_count": 37,
   "id": "91094bcc",
   "metadata": {
    "scrolled": true
   },
   "outputs": [
    {
     "data": {
      "text/html": [
       "<div>\n",
       "<style scoped>\n",
       "    .dataframe tbody tr th:only-of-type {\n",
       "        vertical-align: middle;\n",
       "    }\n",
       "\n",
       "    .dataframe tbody tr th {\n",
       "        vertical-align: top;\n",
       "    }\n",
       "\n",
       "    .dataframe thead th {\n",
       "        text-align: right;\n",
       "    }\n",
       "</style>\n",
       "<table border=\"1\" class=\"dataframe\">\n",
       "  <thead>\n",
       "    <tr style=\"text-align: right;\">\n",
       "      <th></th>\n",
       "      <th>user_id</th>\n",
       "      <th>name</th>\n",
       "      <th>age</th>\n",
       "      <th>city</th>\n",
       "      <th>subscription_type</th>\n",
       "      <th>distance</th>\n",
       "      <th>duration</th>\n",
       "      <th>date</th>\n",
       "      <th>month</th>\n",
       "      <th>minute_price</th>\n",
       "      <th>start_ride_price</th>\n",
       "      <th>subscription_fee</th>\n",
       "    </tr>\n",
       "  </thead>\n",
       "  <tbody>\n",
       "    <tr>\n",
       "      <th>4296</th>\n",
       "      <td>462</td>\n",
       "      <td>Никита</td>\n",
       "      <td>22</td>\n",
       "      <td>Ростов-на-Дону</td>\n",
       "      <td>ultra</td>\n",
       "      <td>4335.904405</td>\n",
       "      <td>22.635343</td>\n",
       "      <td>2021-11-01</td>\n",
       "      <td>11</td>\n",
       "      <td>6</td>\n",
       "      <td>0</td>\n",
       "      <td>199</td>\n",
       "    </tr>\n",
       "    <tr>\n",
       "      <th>962</th>\n",
       "      <td>102</td>\n",
       "      <td>Лилия</td>\n",
       "      <td>21</td>\n",
       "      <td>Краснодар</td>\n",
       "      <td>ultra</td>\n",
       "      <td>2762.461638</td>\n",
       "      <td>20.208205</td>\n",
       "      <td>2021-10-26</td>\n",
       "      <td>10</td>\n",
       "      <td>6</td>\n",
       "      <td>0</td>\n",
       "      <td>199</td>\n",
       "    </tr>\n",
       "    <tr>\n",
       "      <th>4792</th>\n",
       "      <td>515</td>\n",
       "      <td>Руслан</td>\n",
       "      <td>23</td>\n",
       "      <td>Екатеринбург</td>\n",
       "      <td>ultra</td>\n",
       "      <td>2731.412021</td>\n",
       "      <td>9.555389</td>\n",
       "      <td>2021-12-02</td>\n",
       "      <td>12</td>\n",
       "      <td>6</td>\n",
       "      <td>0</td>\n",
       "      <td>199</td>\n",
       "    </tr>\n",
       "    <tr>\n",
       "      <th>4894</th>\n",
       "      <td>527</td>\n",
       "      <td>Арсений</td>\n",
       "      <td>30</td>\n",
       "      <td>Тюмень</td>\n",
       "      <td>ultra</td>\n",
       "      <td>2457.486811</td>\n",
       "      <td>20.744921</td>\n",
       "      <td>2021-04-22</td>\n",
       "      <td>4</td>\n",
       "      <td>6</td>\n",
       "      <td>0</td>\n",
       "      <td>199</td>\n",
       "    </tr>\n",
       "    <tr>\n",
       "      <th>4610</th>\n",
       "      <td>498</td>\n",
       "      <td>Руслан</td>\n",
       "      <td>23</td>\n",
       "      <td>Ростов-на-Дону</td>\n",
       "      <td>ultra</td>\n",
       "      <td>3181.938772</td>\n",
       "      <td>11.342936</td>\n",
       "      <td>2021-02-15</td>\n",
       "      <td>2</td>\n",
       "      <td>6</td>\n",
       "      <td>0</td>\n",
       "      <td>199</td>\n",
       "    </tr>\n",
       "  </tbody>\n",
       "</table>\n",
       "</div>"
      ],
      "text/plain": [
       "      user_id     name  age            city subscription_type     distance  \\\n",
       "4296      462   Никита   22  Ростов-на-Дону             ultra  4335.904405   \n",
       "962       102    Лилия   21       Краснодар             ultra  2762.461638   \n",
       "4792      515   Руслан   23    Екатеринбург             ultra  2731.412021   \n",
       "4894      527  Арсений   30          Тюмень             ultra  2457.486811   \n",
       "4610      498   Руслан   23  Ростов-на-Дону             ultra  3181.938772   \n",
       "\n",
       "       duration       date  month  minute_price  start_ride_price  \\\n",
       "4296  22.635343 2021-11-01     11             6                 0   \n",
       "962   20.208205 2021-10-26     10             6                 0   \n",
       "4792   9.555389 2021-12-02     12             6                 0   \n",
       "4894  20.744921 2021-04-22      4             6                 0   \n",
       "4610  11.342936 2021-02-15      2             6                 0   \n",
       "\n",
       "      subscription_fee  \n",
       "4296               199  \n",
       "962                199  \n",
       "4792               199  \n",
       "4894               199  \n",
       "4610               199  "
      ]
     },
     "execution_count": 37,
     "metadata": {},
     "output_type": "execute_result"
    }
   ],
   "source": [
    "data_ultra = data.query('subscription_type == \"ultra\"')\n",
    "data_ultra.sample(5)"
   ]
  },
  {
   "cell_type": "code",
   "execution_count": 38,
   "id": "ed54a892",
   "metadata": {},
   "outputs": [
    {
     "name": "stdout",
     "output_type": "stream",
     "text": [
      "<class 'pandas.core.frame.DataFrame'>\n",
      "Index: 11568 entries, 6500 to 18067\n",
      "Data columns (total 12 columns):\n",
      " #   Column             Non-Null Count  Dtype         \n",
      "---  ------             --------------  -----         \n",
      " 0   user_id            11568 non-null  int64         \n",
      " 1   name               11568 non-null  object        \n",
      " 2   age                11568 non-null  int64         \n",
      " 3   city               11568 non-null  object        \n",
      " 4   subscription_type  11568 non-null  object        \n",
      " 5   distance           11568 non-null  float64       \n",
      " 6   duration           11568 non-null  float64       \n",
      " 7   date               11568 non-null  datetime64[ns]\n",
      " 8   month              11568 non-null  int32         \n",
      " 9   minute_price       11568 non-null  int64         \n",
      " 10  start_ride_price   11568 non-null  int64         \n",
      " 11  subscription_fee   11568 non-null  int64         \n",
      "dtypes: datetime64[ns](1), float64(2), int32(1), int64(5), object(3)\n",
      "memory usage: 1.1+ MB\n"
     ]
    }
   ],
   "source": [
    "data_free.info()"
   ]
  },
  {
   "cell_type": "code",
   "execution_count": 39,
   "id": "5d4c178d",
   "metadata": {},
   "outputs": [
    {
     "name": "stdout",
     "output_type": "stream",
     "text": [
      "<class 'pandas.core.frame.DataFrame'>\n",
      "Index: 6500 entries, 0 to 6499\n",
      "Data columns (total 12 columns):\n",
      " #   Column             Non-Null Count  Dtype         \n",
      "---  ------             --------------  -----         \n",
      " 0   user_id            6500 non-null   int64         \n",
      " 1   name               6500 non-null   object        \n",
      " 2   age                6500 non-null   int64         \n",
      " 3   city               6500 non-null   object        \n",
      " 4   subscription_type  6500 non-null   object        \n",
      " 5   distance           6500 non-null   float64       \n",
      " 6   duration           6500 non-null   float64       \n",
      " 7   date               6500 non-null   datetime64[ns]\n",
      " 8   month              6500 non-null   int32         \n",
      " 9   minute_price       6500 non-null   int64         \n",
      " 10  start_ride_price   6500 non-null   int64         \n",
      " 11  subscription_fee   6500 non-null   int64         \n",
      "dtypes: datetime64[ns](1), float64(2), int32(1), int64(5), object(3)\n",
      "memory usage: 634.8+ KB\n"
     ]
    }
   ],
   "source": [
    "data_ultra.info()"
   ]
  },
  {
   "cell_type": "code",
   "execution_count": 40,
   "id": "cda108e9",
   "metadata": {},
   "outputs": [
    {
     "data": {
      "text/plain": [
       "18068"
      ]
     },
     "execution_count": 40,
     "metadata": {},
     "output_type": "execute_result"
    }
   ],
   "source": [
    "len(data)"
   ]
  },
  {
   "cell_type": "code",
   "execution_count": 41,
   "id": "5fa88564",
   "metadata": {},
   "outputs": [
    {
     "data": {
      "text/plain": [
       "18068"
      ]
     },
     "execution_count": 41,
     "metadata": {},
     "output_type": "execute_result"
    }
   ],
   "source": [
    "len(data_free)+len(data_ultra)"
   ]
  },
  {
   "cell_type": "markdown",
   "id": "1aebe21b",
   "metadata": {},
   "source": [
    "Размер двух новых датафреймов в сумме соответствует размеру общего датафрейма. В данных нет пропусков."
   ]
  },
  {
   "cell_type": "markdown",
   "id": "2f076dee",
   "metadata": {},
   "source": [
    "#### Визуализируем информацию о расстоянии и времени поездок для пользователей обеих категорий."
   ]
  },
  {
   "cell_type": "code",
   "execution_count": 42,
   "id": "62f9b752",
   "metadata": {},
   "outputs": [
    {
     "data": {
      "text/plain": [
       "count    11568.000000\n",
       "mean      3045.495282\n",
       "std       1246.173806\n",
       "min          0.855683\n",
       "25%       2366.562689\n",
       "50%       3114.648465\n",
       "75%       3905.697894\n",
       "max       7211.007745\n",
       "Name: distance, dtype: float64"
      ]
     },
     "execution_count": 42,
     "metadata": {},
     "output_type": "execute_result"
    }
   ],
   "source": [
    "data_free['distance'].describe()"
   ]
  },
  {
   "cell_type": "code",
   "execution_count": 43,
   "id": "7f9b4f76",
   "metadata": {
    "scrolled": true
   },
   "outputs": [
    {
     "data": {
      "text/plain": [
       "count    6500.000000\n",
       "mean     3115.445388\n",
       "std       836.895330\n",
       "min       244.210438\n",
       "25%      2785.444017\n",
       "50%      3148.637229\n",
       "75%      3560.574425\n",
       "max      5699.769662\n",
       "Name: distance, dtype: float64"
      ]
     },
     "execution_count": 43,
     "metadata": {},
     "output_type": "execute_result"
    }
   ],
   "source": [
    "data_ultra['distance'].describe()"
   ]
  },
  {
   "cell_type": "code",
   "execution_count": 44,
   "id": "8f2c1cf7",
   "metadata": {},
   "outputs": [
    {
     "data": {
      "image/png": "[encoded data removed]",
      "text/plain": [
       "<Figure size 1500x300 with 1 Axes>"
      ]
     },
     "metadata": {},
     "output_type": "display_data"
    }
   ],
   "source": [
    "ax = data_free.plot(\n",
    "    kind='hist',\n",
    "    y='distance',\n",
    "    histtype='step',\n",
    "    bins=100,\n",
    "    linewidth=5,\n",
    "    alpha=0.7,\n",
    "    label='free',\n",
    "    grid=True,\n",
    "    figsize = (15,3),\n",
    ")\n",
    "data_ultra.plot(\n",
    "    kind='hist',\n",
    "    y='distance',\n",
    "    histtype='step',\n",
    "    bins=100,\n",
    "    linewidth=5,\n",
    "    alpha=0.7,\n",
    "    label='ultra',\n",
    "    ax=ax,\n",
    "    grid=True,\n",
    "    figsize = (15,3),\n",
    ")\n",
    "plt.title('Расстояние, которое пользователи обеих категорий преодолели за одну поездку')\n",
    "plt.xlabel('Метры')\n",
    "plt.ylabel('Количество пользователей');"
   ]
  },
  {
   "cell_type": "code",
   "execution_count": 45,
   "id": "3f31c8d4",
   "metadata": {
    "scrolled": true
   },
   "outputs": [
    {
     "data": {
      "text/plain": [
       "count    11568.000000\n",
       "mean        17.390909\n",
       "std          6.326803\n",
       "min          0.500000\n",
       "25%         12.958437\n",
       "50%         17.326890\n",
       "75%         21.594071\n",
       "max         34.948498\n",
       "Name: duration, dtype: float64"
      ]
     },
     "execution_count": 45,
     "metadata": {},
     "output_type": "execute_result"
    }
   ],
   "source": [
    "data_free['duration'].describe()"
   ]
  },
  {
   "cell_type": "code",
   "execution_count": 46,
   "id": "5baf714a",
   "metadata": {},
   "outputs": [
    {
     "data": {
      "text/plain": [
       "count    6500.000000\n",
       "mean       18.541985\n",
       "std         5.572048\n",
       "min         3.760353\n",
       "25%        14.524654\n",
       "50%        18.178153\n",
       "75%        21.884129\n",
       "max        40.823963\n",
       "Name: duration, dtype: float64"
      ]
     },
     "execution_count": 46,
     "metadata": {},
     "output_type": "execute_result"
    }
   ],
   "source": [
    "data_ultra['duration'].describe()"
   ]
  },
  {
   "cell_type": "code",
   "execution_count": 47,
   "id": "b9149b4d",
   "metadata": {},
   "outputs": [
    {
     "data": {
      "image/png": "[encoded data removed]",
      "text/plain": [
       "<Figure size 1500x300 with 1 Axes>"
      ]
     },
     "metadata": {},
     "output_type": "display_data"
    }
   ],
   "source": [
    "ax = data_free.plot(\n",
    "    kind='hist',\n",
    "    y='duration',\n",
    "    histtype='step',\n",
    "    bins=100,\n",
    "    linewidth=5,\n",
    "    alpha=0.7,\n",
    "    label='free',\n",
    "    grid=True,\n",
    "    figsize = (15,3),\n",
    ")\n",
    "data_ultra.plot(\n",
    "    kind='hist',\n",
    "    y='duration',\n",
    "    histtype='step',\n",
    "    bins=100,\n",
    "    linewidth=5,\n",
    "    alpha=0.7,\n",
    "    label='ultra',\n",
    "    ax=ax,\n",
    "    grid=True,\n",
    "    figsize = (15,3),\n",
    ")\n",
    "plt.title('Продолжительность поездок пользователей обеих категорий')\n",
    "plt.xlabel('Минуты')\n",
    "plt.ylabel('Количество пользователей');"
   ]
  },
  {
   "cell_type": "markdown",
   "id": "882b9531",
   "metadata": {},
   "source": [
    "**Вывод**\n",
    "\n",
    "Объединили данные о пользователях, поездках и подписках в один датафрейм. Создали ещё два датафрейма с данными о пользователях без подписки и с подпиской. Визуализировали информацию о расстоянии и времени поездок для пользователей обеих категорий."
   ]
  },
  {
   "cell_type": "markdown",
   "id": "402d620f",
   "metadata": {},
   "source": [
    "### Шаг 5. Подсчёт выручки"
   ]
  },
  {
   "cell_type": "markdown",
   "id": "d6736523",
   "metadata": {},
   "source": [
    "#### Создадим датафрейм с агрегированными данными о поездках на основе датафрейма с объединёнными данными из шага 4, найдем суммарное расстояние, количество поездок и суммарное время для каждого пользователя за каждый месяц."
   ]
  },
  {
   "cell_type": "code",
   "execution_count": 48,
   "id": "b2e7207b",
   "metadata": {},
   "outputs": [
    {
     "data": {
      "text/html": [
       "<div>\n",
       "<style scoped>\n",
       "    .dataframe tbody tr th:only-of-type {\n",
       "        vertical-align: middle;\n",
       "    }\n",
       "\n",
       "    .dataframe tbody tr th {\n",
       "        vertical-align: top;\n",
       "    }\n",
       "\n",
       "    .dataframe thead th {\n",
       "        text-align: right;\n",
       "    }\n",
       "</style>\n",
       "<table border=\"1\" class=\"dataframe\">\n",
       "  <thead>\n",
       "    <tr style=\"text-align: right;\">\n",
       "      <th></th>\n",
       "      <th></th>\n",
       "      <th></th>\n",
       "      <th>total_distance</th>\n",
       "      <th>rides_number</th>\n",
       "      <th>total_duration</th>\n",
       "    </tr>\n",
       "    <tr>\n",
       "      <th>user_id</th>\n",
       "      <th>subscription_type</th>\n",
       "      <th>month</th>\n",
       "      <th></th>\n",
       "      <th></th>\n",
       "      <th></th>\n",
       "    </tr>\n",
       "  </thead>\n",
       "  <tbody>\n",
       "    <tr>\n",
       "      <th rowspan=\"5\" valign=\"top\">1</th>\n",
       "      <th rowspan=\"5\" valign=\"top\">ultra</th>\n",
       "      <th>1</th>\n",
       "      <td>7027.511294</td>\n",
       "      <td>2</td>\n",
       "      <td>42</td>\n",
       "    </tr>\n",
       "    <tr>\n",
       "      <th>4</th>\n",
       "      <td>754.159807</td>\n",
       "      <td>1</td>\n",
       "      <td>7</td>\n",
       "    </tr>\n",
       "    <tr>\n",
       "      <th>8</th>\n",
       "      <td>6723.470560</td>\n",
       "      <td>2</td>\n",
       "      <td>46</td>\n",
       "    </tr>\n",
       "    <tr>\n",
       "      <th>10</th>\n",
       "      <td>5809.911100</td>\n",
       "      <td>2</td>\n",
       "      <td>32</td>\n",
       "    </tr>\n",
       "    <tr>\n",
       "      <th>11</th>\n",
       "      <td>7003.499363</td>\n",
       "      <td>3</td>\n",
       "      <td>56</td>\n",
       "    </tr>\n",
       "    <tr>\n",
       "      <th>...</th>\n",
       "      <th>...</th>\n",
       "      <th>...</th>\n",
       "      <td>...</td>\n",
       "      <td>...</td>\n",
       "      <td>...</td>\n",
       "    </tr>\n",
       "    <tr>\n",
       "      <th rowspan=\"5\" valign=\"top\">1534</th>\n",
       "      <th rowspan=\"5\" valign=\"top\">free</th>\n",
       "      <th>6</th>\n",
       "      <td>3409.468534</td>\n",
       "      <td>2</td>\n",
       "      <td>26</td>\n",
       "    </tr>\n",
       "    <tr>\n",
       "      <th>8</th>\n",
       "      <td>7622.453034</td>\n",
       "      <td>2</td>\n",
       "      <td>48</td>\n",
       "    </tr>\n",
       "    <tr>\n",
       "      <th>9</th>\n",
       "      <td>4928.173852</td>\n",
       "      <td>1</td>\n",
       "      <td>23</td>\n",
       "    </tr>\n",
       "    <tr>\n",
       "      <th>11</th>\n",
       "      <td>13350.015305</td>\n",
       "      <td>4</td>\n",
       "      <td>78</td>\n",
       "    </tr>\n",
       "    <tr>\n",
       "      <th>12</th>\n",
       "      <td>2371.711192</td>\n",
       "      <td>1</td>\n",
       "      <td>16</td>\n",
       "    </tr>\n",
       "  </tbody>\n",
       "</table>\n",
       "<p>11331 rows × 3 columns</p>\n",
       "</div>"
      ],
      "text/plain": [
       "                                 total_distance  rides_number  total_duration\n",
       "user_id subscription_type month                                              \n",
       "1       ultra             1         7027.511294             2              42\n",
       "                          4          754.159807             1               7\n",
       "                          8         6723.470560             2              46\n",
       "                          10        5809.911100             2              32\n",
       "                          11        7003.499363             3              56\n",
       "...                                         ...           ...             ...\n",
       "1534    free              6         3409.468534             2              26\n",
       "                          8         7622.453034             2              48\n",
       "                          9         4928.173852             1              23\n",
       "                          11       13350.015305             4              78\n",
       "                          12        2371.711192             1              16\n",
       "\n",
       "[11331 rows x 3 columns]"
      ]
     },
     "execution_count": 48,
     "metadata": {},
     "output_type": "execute_result"
    }
   ],
   "source": [
    "data['duration'] = np.ceil(data['duration'])\n",
    "data['duration'] = data['duration'].astype(int)\n",
    "\n",
    "data_pivot = data.pivot_table(\n",
    "    index=['user_id', 'subscription_type', 'month'], \n",
    "    values=['distance','duration'], \n",
    "    aggfunc={\"distance\": sum, \"duration\": [len, sum]})\n",
    "data_pivot.columns = ['total_distance', 'rides_number', 'total_duration']\n",
    "data_pivot"
   ]
  },
  {
   "cell_type": "code",
   "execution_count": 49,
   "id": "fc358924",
   "metadata": {},
   "outputs": [
    {
     "name": "stdout",
     "output_type": "stream",
     "text": [
      "Количество пропусков в агрегированных данных:\n",
      "total_distance    0\n",
      "rides_number      0\n",
      "total_duration    0\n",
      "dtype: int64\n"
     ]
    }
   ],
   "source": [
    "print('Количество пропусков в агрегированных данных:')\n",
    "print(data_pivot.isnull().sum())"
   ]
  },
  {
   "cell_type": "markdown",
   "id": "912d4cb2",
   "metadata": {},
   "source": [
    "#### В этот же датафрейм добавим столбец с помесячной выручкой, которую принёс каждый пользователь. "
   ]
  },
  {
   "cell_type": "code",
   "execution_count": 50,
   "id": "9494fb65",
   "metadata": {},
   "outputs": [
    {
     "data": {
      "text/html": [
       "<div>\n",
       "<style scoped>\n",
       "    .dataframe tbody tr th:only-of-type {\n",
       "        vertical-align: middle;\n",
       "    }\n",
       "\n",
       "    .dataframe tbody tr th {\n",
       "        vertical-align: top;\n",
       "    }\n",
       "\n",
       "    .dataframe thead th {\n",
       "        text-align: right;\n",
       "    }\n",
       "</style>\n",
       "<table border=\"1\" class=\"dataframe\">\n",
       "  <thead>\n",
       "    <tr style=\"text-align: right;\">\n",
       "      <th></th>\n",
       "      <th></th>\n",
       "      <th></th>\n",
       "      <th>total_distance</th>\n",
       "      <th>rides_number</th>\n",
       "      <th>total_duration</th>\n",
       "      <th>revenue</th>\n",
       "    </tr>\n",
       "    <tr>\n",
       "      <th>user_id</th>\n",
       "      <th>subscription_type</th>\n",
       "      <th>month</th>\n",
       "      <th></th>\n",
       "      <th></th>\n",
       "      <th></th>\n",
       "      <th></th>\n",
       "    </tr>\n",
       "  </thead>\n",
       "  <tbody>\n",
       "    <tr>\n",
       "      <th rowspan=\"5\" valign=\"top\">1</th>\n",
       "      <th rowspan=\"5\" valign=\"top\">ultra</th>\n",
       "      <th>1</th>\n",
       "      <td>7027.511294</td>\n",
       "      <td>2</td>\n",
       "      <td>42</td>\n",
       "      <td>451</td>\n",
       "    </tr>\n",
       "    <tr>\n",
       "      <th>4</th>\n",
       "      <td>754.159807</td>\n",
       "      <td>1</td>\n",
       "      <td>7</td>\n",
       "      <td>241</td>\n",
       "    </tr>\n",
       "    <tr>\n",
       "      <th>8</th>\n",
       "      <td>6723.470560</td>\n",
       "      <td>2</td>\n",
       "      <td>46</td>\n",
       "      <td>475</td>\n",
       "    </tr>\n",
       "    <tr>\n",
       "      <th>10</th>\n",
       "      <td>5809.911100</td>\n",
       "      <td>2</td>\n",
       "      <td>32</td>\n",
       "      <td>391</td>\n",
       "    </tr>\n",
       "    <tr>\n",
       "      <th>11</th>\n",
       "      <td>7003.499363</td>\n",
       "      <td>3</td>\n",
       "      <td>56</td>\n",
       "      <td>535</td>\n",
       "    </tr>\n",
       "    <tr>\n",
       "      <th>...</th>\n",
       "      <th>...</th>\n",
       "      <th>...</th>\n",
       "      <td>...</td>\n",
       "      <td>...</td>\n",
       "      <td>...</td>\n",
       "      <td>...</td>\n",
       "    </tr>\n",
       "    <tr>\n",
       "      <th rowspan=\"5\" valign=\"top\">1534</th>\n",
       "      <th rowspan=\"5\" valign=\"top\">free</th>\n",
       "      <th>6</th>\n",
       "      <td>3409.468534</td>\n",
       "      <td>2</td>\n",
       "      <td>26</td>\n",
       "      <td>308</td>\n",
       "    </tr>\n",
       "    <tr>\n",
       "      <th>8</th>\n",
       "      <td>7622.453034</td>\n",
       "      <td>2</td>\n",
       "      <td>48</td>\n",
       "      <td>484</td>\n",
       "    </tr>\n",
       "    <tr>\n",
       "      <th>9</th>\n",
       "      <td>4928.173852</td>\n",
       "      <td>1</td>\n",
       "      <td>23</td>\n",
       "      <td>234</td>\n",
       "    </tr>\n",
       "    <tr>\n",
       "      <th>11</th>\n",
       "      <td>13350.015305</td>\n",
       "      <td>4</td>\n",
       "      <td>78</td>\n",
       "      <td>824</td>\n",
       "    </tr>\n",
       "    <tr>\n",
       "      <th>12</th>\n",
       "      <td>2371.711192</td>\n",
       "      <td>1</td>\n",
       "      <td>16</td>\n",
       "      <td>178</td>\n",
       "    </tr>\n",
       "  </tbody>\n",
       "</table>\n",
       "<p>11331 rows × 4 columns</p>\n",
       "</div>"
      ],
      "text/plain": [
       "                                 total_distance  rides_number  total_duration  \\\n",
       "user_id subscription_type month                                                 \n",
       "1       ultra             1         7027.511294             2              42   \n",
       "                          4          754.159807             1               7   \n",
       "                          8         6723.470560             2              46   \n",
       "                          10        5809.911100             2              32   \n",
       "                          11        7003.499363             3              56   \n",
       "...                                         ...           ...             ...   \n",
       "1534    free              6         3409.468534             2              26   \n",
       "                          8         7622.453034             2              48   \n",
       "                          9         4928.173852             1              23   \n",
       "                          11       13350.015305             4              78   \n",
       "                          12        2371.711192             1              16   \n",
       "\n",
       "                                 revenue  \n",
       "user_id subscription_type month           \n",
       "1       ultra             1          451  \n",
       "                          4          241  \n",
       "                          8          475  \n",
       "                          10         391  \n",
       "                          11         535  \n",
       "...                                  ...  \n",
       "1534    free              6          308  \n",
       "                          8          484  \n",
       "                          9          234  \n",
       "                          11         824  \n",
       "                          12         178  \n",
       "\n",
       "[11331 rows x 4 columns]"
      ]
     },
     "execution_count": 50,
     "metadata": {},
     "output_type": "execute_result"
    }
   ],
   "source": [
    "id_prices = data.pivot_table(\n",
    "    index=['user_id', 'subscription_type', 'month'], \n",
    "    values=['minute_price', 'start_ride_price', 'subscription_fee'], \n",
    "    aggfunc='first')\n",
    "data_pivot1 = data_pivot.merge(id_prices, on=['user_id', 'subscription_type', 'month'])\n",
    "data_pivot1['revenue'] = data_pivot1['start_ride_price']*data_pivot1['rides_number']+data_pivot1['minute_price']*data_pivot1['total_duration']+data_pivot1['subscription_fee']\n",
    "revenue = data_pivot1.pivot_table(\n",
    "    index=['user_id', 'subscription_type', 'month'], \n",
    "    values=['revenue'], \n",
    "    aggfunc='first')\n",
    "data_pivot = data_pivot.merge(revenue, on=['user_id', 'subscription_type', 'month'])\n",
    "data_pivot"
   ]
  },
  {
   "cell_type": "markdown",
   "id": "e4bfa028",
   "metadata": {},
   "source": [
    "**Вывод**\n",
    "\n",
    "Создали датафрейм с агрегированными данными о поездках на основе датафрейма с объединёнными данными из шага 4, нашли суммарное расстояние, количество поездок и суммарное время для каждого пользователя за каждый месяц. В этот же датафрейм добавили столбец с помесячной выручкой, которую принёс каждый пользователь."
   ]
  },
  {
   "cell_type": "markdown",
   "id": "41545ac0",
   "metadata": {},
   "source": [
    "### Шаг 6. Проверка гипотез"
   ]
  },
  {
   "cell_type": "markdown",
   "id": "38416d1f",
   "metadata": {},
   "source": [
    "#### Важно понять, тратят ли пользователи с подпиской больше времени на поездки? Если да, то пользователи с подпиской могут быть «выгоднее» для компании. Проверим гипотезу."
   ]
  },
  {
   "cell_type": "markdown",
   "id": "2af4a1ed",
   "metadata": {},
   "source": [
    "Нулевая гипотеза: средние значения продолжительности поездок пользователей с подпиской и без подписки равны.\n",
    "\n",
    "Альтернативная гипотеза: среднее значение продолжительности поездок пользователей с подпиской больше, чем среднее значение продолжительности поездок пользователей без подписки."
   ]
  },
  {
   "cell_type": "code",
   "execution_count": 55,
   "id": "8d1f42d0",
   "metadata": {},
   "outputs": [
    {
     "name": "stdout",
     "output_type": "stream",
     "text": [
      "p-значение: 1.2804098316645618e-34\n",
      "Отвергаем нулевую гипотезу\n"
     ]
    }
   ],
   "source": [
    "alpha = 0.05 # уровень статистической значимости\n",
    "# если p-value окажется меньше него, отвергнем гипотезу\n",
    "\n",
    "results = st.ttest_ind(\n",
    "    data_ultra['duration'], \n",
    "    data_free['duration'], \n",
    "    alternative='greater')\n",
    "\n",
    "print('p-значение:', results.pvalue)\n",
    "\n",
    "if results.pvalue < alpha:\n",
    "    print('Отвергаем нулевую гипотезу')\n",
    "else:\n",
    "    print('Не получилось отвергнуть нулевую гипотезу')"
   ]
  },
  {
   "cell_type": "markdown",
   "id": "f6ebf1d4",
   "metadata": {},
   "source": [
    "Полученное значение p-value меньше заданного уровня значимости, поэтому можно отвергнуть нулевую гипотезу. Есть основания говорить, что в среднем пользователи с подпиской тратят в сервисе больше времени на поездки, поэтому пользователи с подпиской могут быть «выгоднее» для компании."
   ]
  },
  {
   "cell_type": "markdown",
   "id": "b55047f8",
   "metadata": {},
   "source": [
    "#### Расстояние одной поездки в 3130 метров — оптимальное с точки зрения износа самоката. Можно ли сказать, что среднее расстояние, которое проезжают пользователи с подпиской за одну поездку, не превышает 3130 метров? Проверим гипотезу и сделаем выводы."
   ]
  },
  {
   "cell_type": "markdown",
   "id": "21f0eaae",
   "metadata": {},
   "source": [
    "Нулевая гипотеза: среднее расстояние, которое проезжают пользователи с подпиской за одну поездку, составляет 3130 метров.\n",
    "\n",
    "Альтернативная гипотеза: среднее расстояние, которое проезжают пользователи с подпиской за одну поездку, больше 3130 метров."
   ]
  },
  {
   "cell_type": "code",
   "execution_count": 57,
   "id": "ef931e70",
   "metadata": {},
   "outputs": [
    {
     "name": "stdout",
     "output_type": "stream",
     "text": [
      "p-значение: 0.9195368847849785\n",
      "Не отвергаем нулевую гипотезу\n"
     ]
    }
   ],
   "source": [
    "distance_value = 3130\n",
    "\n",
    "alpha = 0.05 # уровень статистической значимости\n",
    "\n",
    "results = st.ttest_1samp(\n",
    "    data_ultra['distance'], \n",
    "    distance_value,\n",
    "      alternative='greater')\n",
    "\n",
    "print('p-значение:', results.pvalue)\n",
    "\n",
    "if (results.pvalue < alpha):\n",
    "    print('Отвергаем нулевую гипотезу')\n",
    "else:\n",
    "    print('Не отвергаем нулевую гипотезу') "
   ]
  },
  {
   "cell_type": "markdown",
   "id": "99e8e3cb",
   "metadata": {},
   "source": [
    "Полученное значение p-value больше заданного уровня значимости, поэтому не отвергаем нулевую гипотезу. Есть основания говорить, что среднее расстояние, которое проезжают пользователи с подпиской за одну поездку, не превышает оптимального с точки зрения износа самоката расстояния. Самокаты медленнее изнашиваются, что «выгоднее» для компании."
   ]
  },
  {
   "cell_type": "markdown",
   "id": "5abe51fd",
   "metadata": {},
   "source": [
    "#### Проверим гипотезу о том, будет ли помесячная выручка от пользователей с подпиской по месяцам выше, чем выручка от пользователей без подписки. Сделаем вывод."
   ]
  },
  {
   "cell_type": "markdown",
   "id": "12dbab54",
   "metadata": {},
   "source": [
    "Нулевая гипотеза: средняя помесячная выручка от пользователей с подпиской и от пользователей без подписки равны.\n",
    "\n",
    "Альтернативная гипотеза: средняя помесячная выручка от пользователей с подпиской по месяцам выше, чем средняя выручка от пользователей без подписки."
   ]
  },
  {
   "cell_type": "code",
   "execution_count": 58,
   "id": "16332e61",
   "metadata": {},
   "outputs": [
    {
     "name": "stdout",
     "output_type": "stream",
     "text": [
      "p-значение: 1.8850394384715216e-31\n",
      "Отвергаем нулевую гипотезу\n"
     ]
    }
   ],
   "source": [
    "alpha = 0.05 # уровень статистической значимости\n",
    "# если p-value окажется меньше него, отвергнем гипотезу\n",
    "\n",
    "results = st.ttest_ind(\n",
    "    data_pivot.query('subscription_type == \"ultra\"')['revenue'], \n",
    "    data_pivot.query('subscription_type == \"free\"')['revenue'], \n",
    "    alternative='greater')\n",
    "\n",
    "print('p-значение:', results.pvalue)\n",
    "\n",
    "if results.pvalue < alpha:\n",
    "    print('Отвергаем нулевую гипотезу')\n",
    "else:\n",
    "    print('Не получилось отвергнуть нулевую гипотезу')"
   ]
  },
  {
   "cell_type": "markdown",
   "id": "995ffd57",
   "metadata": {},
   "source": [
    "Полученное значение p-value меньше заданного уровня значимости, поэтому можно отвергнуть нулевую гипотезу. Есть основания говорить, что средняя помесячная выручка от пользователей с подпиской по месяцам выше, чем средняя выручка от пользователей без подписки, поэтому пользователи с подпиской приносят больше «выгоды» компании."
   ]
  },
  {
   "cell_type": "markdown",
   "id": "29c39c3a",
   "metadata": {},
   "source": [
    "#### Представим такую ситуацию: техническая команда сервиса обновила сервера, с которыми взаимодействует мобильное приложение. Она надеется, что из-за этого количество обращений в техподдержку значимо снизилось. Некоторый файл содержит для каждого пользователя данные о количестве обращений до обновления и после него. Какой тест понадобился бы для проверки этой гипотезы?"
   ]
  },
  {
   "cell_type": "markdown",
   "id": "85327756",
   "metadata": {},
   "source": [
    "Так как мы анализируем одну генеральную совокупность, с которой произошли некоторые изменения, то для проверки односторонней гипотезы нужно изучить, равны ли средние совокупности до и после обновления. Выборки в этом случае будут зависимыми (парными), так как количество обращений в техподдержку измеряется дважды, до и после обновления серверов. Чтобы проверить одностороннюю гипотезу о равенстве среднего генеральной совокупности для зависимых (парных) выборок в Python, нужно применить метод scipy.stats.ttest_rel()."
   ]
  },
  {
   "cell_type": "markdown",
   "id": "cbe8f7aa",
   "metadata": {},
   "source": [
    "**Вывод**\n",
    "\n",
    "По результатам проверки трех гипотез есть основания говорить, что:\n",
    "- пользователи с подпиской в среднем тратят в сервисе больше времени на поездки, поэтому пользователи с подпиской могут быть «выгоднее» для компании;\n",
    "- среднее расстояние, которое проезжают пользователи с подпиской за одну поездку, не превышает оптимального с точки зрения износа самоката расстояния. Самокаты медленнее изнашиваются, что «выгоднее» для компании;\n",
    "- средняя помесячная выручка от пользователей с подпиской по месяцам выше, чем средняя выручка от пользователей без подписки, поэтому пользователи с подпиской приносят больше «выгоды» компании."
   ]
  },
  {
   "cell_type": "markdown",
   "id": "61213c5e",
   "metadata": {},
   "source": [
    "### Общий вывод"
   ]
  },
  {
   "cell_type": "markdown",
   "id": "515f20bc",
   "metadata": {},
   "source": [
    "Целью исследования было проанализировать данные о некоторых пользователях сервиса аренды самокатов GoFast из нескольких городов, а также об их поездках и проверить некоторые гипотезы, которые могут помочь бизнесу вырасти.\n",
    "\n",
    "Были изучены таблицы с исходными данными, в которых содержится информация о пользователях сервиса аренды самокатов GoFast, их поездках и подписках. В данных не были обнаружены пропуски. На этапе предобработки данных был изменен тип одного столбца и добавлен один новый столбец. Также в датафрейме с данными о пользователях был обнаружен и удален 31 дубликат.\n",
    "\n",
    "По результатам исследовательского анализа данных можно сделать следующие выводы:\n",
    "- данные содержат информацию о пользователях из 8 городов, больше всего пользователей – в Пятигорске, меньше всего – в Москве;\n",
    "- пользователей без подписки больше, чем с подпиской;\n",
    "- cервисом пользуются люди в среднем 22-28 лет;\n",
    "- среднее расстояние, которое пользователь преодолевает за одну поездку, составляет 2.5-3.8 км;\n",
    "- средняя продолжительность поездок составляет 13.6-21.7 мин.\n",
    "\n",
    "Данные о пользователях, поездках и подписках были объединены в один датафрейм. Были созданы ещё два датафрейма с данными о пользователях без подписки и с подпиской. Была визуализирована информация о расстоянии и времени поездок для пользователей обеих категорий. Был создан датафрейм с агрегированными данными о поездках, были найдены суммарное расстояние, количество поездок и суммарное время для каждого пользователя за каждый месяц. В этот же датафрейм был добавлен столбец с помесячной выручкой, которую принёс каждый пользователь.\n",
    "\n",
    "По результатам проверки трех гипотез есть основания говорить, что:\n",
    "- пользователи с подпиской в среднем тратят в сервисе больше времени на поездки, поэтому пользователи с подпиской могут быть «выгоднее» для компании;\n",
    "- среднее расстояние, которое проезжают пользователи с подпиской за одну поездку, не превышает оптимального с точки зрения износа самоката расстояния. Самокаты медленнее изнашиваются, что «выгоднее» для компании;\n",
    "- средняя помесячная выручка от пользователей с подпиской по месяцам выше, чем средняя выручка от пользователей без подписки, поэтому пользователи с подпиской приносят больше «выгоды» компании.\n",
    "\n",
    "Поскольку формат подписки на сервис GoFast выгоден как для пользователя, так и для бизнеса, рекомендуется стимулировать пользователей приобретать подписку."
   ]
  }
 ],
 "metadata": {
  "ExecuteTimeLog": [
   {
    "duration": 1394,
    "start_time": "2024-02-26T18:37:24.677Z"
   },
   {
    "duration": 3,
    "start_time": "2024-02-26T18:42:03.420Z"
   },
   {
    "duration": 3,
    "start_time": "2024-02-26T18:42:38.154Z"
   },
   {
    "duration": 307,
    "start_time": "2024-02-26T18:42:38.482Z"
   },
   {
    "duration": 236,
    "start_time": "2024-02-26T18:45:50.349Z"
   },
   {
    "duration": 13,
    "start_time": "2024-02-26T18:46:24.370Z"
   },
   {
    "duration": 10,
    "start_time": "2024-02-26T18:46:29.761Z"
   },
   {
    "duration": 8,
    "start_time": "2024-02-26T18:47:00.869Z"
   },
   {
    "duration": 12,
    "start_time": "2024-02-26T18:47:45.761Z"
   },
   {
    "duration": 102,
    "start_time": "2024-02-26T18:47:51.462Z"
   },
   {
    "duration": 106,
    "start_time": "2024-02-26T18:47:57.746Z"
   },
   {
    "duration": 88,
    "start_time": "2024-02-26T18:48:04.960Z"
   },
   {
    "duration": 15,
    "start_time": "2024-02-26T18:49:04.215Z"
   },
   {
    "duration": 13,
    "start_time": "2024-02-26T18:49:09.753Z"
   },
   {
    "duration": 9,
    "start_time": "2024-02-26T18:49:24.821Z"
   },
   {
    "duration": 9,
    "start_time": "2024-02-26T18:50:05.026Z"
   },
   {
    "duration": 11,
    "start_time": "2024-02-26T18:50:05.397Z"
   },
   {
    "duration": 3,
    "start_time": "2024-02-26T18:50:07.099Z"
   },
   {
    "duration": 65,
    "start_time": "2024-02-26T18:50:07.976Z"
   },
   {
    "duration": 11,
    "start_time": "2024-02-26T18:50:08.341Z"
   },
   {
    "duration": 16,
    "start_time": "2024-02-26T18:50:08.521Z"
   },
   {
    "duration": 11,
    "start_time": "2024-02-26T18:50:08.709Z"
   },
   {
    "duration": 12,
    "start_time": "2024-02-26T18:50:08.902Z"
   },
   {
    "duration": 8,
    "start_time": "2024-02-26T18:50:09.101Z"
   },
   {
    "duration": 10,
    "start_time": "2024-02-26T18:50:09.288Z"
   },
   {
    "duration": 1134,
    "start_time": "2024-02-26T18:58:12.020Z"
   },
   {
    "duration": 71,
    "start_time": "2024-02-26T18:58:13.157Z"
   },
   {
    "duration": 12,
    "start_time": "2024-02-26T18:58:13.230Z"
   },
   {
    "duration": 11,
    "start_time": "2024-02-26T18:58:13.244Z"
   },
   {
    "duration": 20,
    "start_time": "2024-02-26T18:58:13.257Z"
   },
   {
    "duration": 14,
    "start_time": "2024-02-26T18:58:13.278Z"
   },
   {
    "duration": 7,
    "start_time": "2024-02-26T18:58:13.294Z"
   },
   {
    "duration": 16,
    "start_time": "2024-02-26T18:58:13.302Z"
   },
   {
    "duration": 8,
    "start_time": "2024-02-26T19:23:21.959Z"
   },
   {
    "duration": 11,
    "start_time": "2024-02-26T19:23:22.293Z"
   },
   {
    "duration": 5,
    "start_time": "2024-02-26T19:26:15.657Z"
   },
   {
    "duration": 10,
    "start_time": "2024-02-26T19:26:15.866Z"
   },
   {
    "duration": 9,
    "start_time": "2024-02-26T19:28:31.557Z"
   },
   {
    "duration": 6,
    "start_time": "2024-02-26T19:28:42.867Z"
   },
   {
    "duration": 6,
    "start_time": "2024-02-26T19:28:53.119Z"
   },
   {
    "duration": 6,
    "start_time": "2024-02-26T19:29:38.325Z"
   },
   {
    "duration": 6,
    "start_time": "2024-02-26T19:39:06.703Z"
   },
   {
    "duration": 8,
    "start_time": "2024-02-26T19:39:06.936Z"
   },
   {
    "duration": 11,
    "start_time": "2024-02-26T19:39:38.799Z"
   },
   {
    "duration": 4,
    "start_time": "2024-02-26T19:39:51.340Z"
   },
   {
    "duration": 1198,
    "start_time": "2024-02-26T19:47:30.019Z"
   },
   {
    "duration": 77,
    "start_time": "2024-02-26T19:47:31.219Z"
   },
   {
    "duration": 12,
    "start_time": "2024-02-26T19:47:31.298Z"
   },
   {
    "duration": 12,
    "start_time": "2024-02-26T19:47:31.312Z"
   },
   {
    "duration": 24,
    "start_time": "2024-02-26T19:47:31.326Z"
   },
   {
    "duration": 42,
    "start_time": "2024-02-26T19:47:31.352Z"
   },
   {
    "duration": 18,
    "start_time": "2024-02-26T19:47:31.397Z"
   },
   {
    "duration": 23,
    "start_time": "2024-02-26T19:47:31.418Z"
   },
   {
    "duration": 33,
    "start_time": "2024-02-26T19:47:31.443Z"
   },
   {
    "duration": 24,
    "start_time": "2024-02-26T19:47:31.482Z"
   },
   {
    "duration": 18,
    "start_time": "2024-02-26T19:47:31.508Z"
   },
   {
    "duration": 71,
    "start_time": "2024-02-26T19:47:31.527Z"
   },
   {
    "duration": 30,
    "start_time": "2024-02-26T19:47:31.600Z"
   },
   {
    "duration": 23,
    "start_time": "2024-02-26T19:47:31.632Z"
   },
   {
    "duration": 17,
    "start_time": "2024-02-26T19:47:31.656Z"
   },
   {
    "duration": 33,
    "start_time": "2024-02-26T19:47:31.675Z"
   },
   {
    "duration": 13,
    "start_time": "2024-02-26T19:47:31.711Z"
   },
   {
    "duration": 32,
    "start_time": "2024-02-26T19:47:31.726Z"
   },
   {
    "duration": 39,
    "start_time": "2024-02-26T19:47:31.759Z"
   },
   {
    "duration": 17,
    "start_time": "2024-02-26T19:47:31.799Z"
   },
   {
    "duration": 108,
    "start_time": "2024-02-26T19:47:31.817Z"
   },
   {
    "duration": 1595,
    "start_time": "2024-02-26T19:50:27.714Z"
   },
   {
    "duration": 1624,
    "start_time": "2024-02-26T19:50:35.555Z"
   },
   {
    "duration": 232,
    "start_time": "2024-02-26T19:50:56.705Z"
   },
   {
    "duration": 190,
    "start_time": "2024-02-26T19:51:36.204Z"
   },
   {
    "duration": 18,
    "start_time": "2024-02-26T19:53:31.069Z"
   },
   {
    "duration": 21,
    "start_time": "2024-02-26T19:54:19.585Z"
   },
   {
    "duration": 105,
    "start_time": "2024-02-26T19:54:50.744Z"
   },
   {
    "duration": 111,
    "start_time": "2024-02-26T19:54:56.594Z"
   },
   {
    "duration": 99,
    "start_time": "2024-02-26T19:55:23.372Z"
   },
   {
    "duration": 15,
    "start_time": "2024-02-26T19:55:29.464Z"
   },
   {
    "duration": 96,
    "start_time": "2024-02-26T19:55:37.550Z"
   },
   {
    "duration": 14,
    "start_time": "2024-02-26T19:55:53.888Z"
   },
   {
    "duration": 13,
    "start_time": "2024-02-26T19:56:03.625Z"
   },
   {
    "duration": 18,
    "start_time": "2024-02-26T19:58:07.128Z"
   },
   {
    "duration": 17,
    "start_time": "2024-02-26T19:58:14.522Z"
   },
   {
    "duration": 18,
    "start_time": "2024-02-26T20:02:38.798Z"
   },
   {
    "duration": 175,
    "start_time": "2024-02-26T20:03:45.744Z"
   },
   {
    "duration": 20,
    "start_time": "2024-02-26T20:07:14.329Z"
   },
   {
    "duration": 98,
    "start_time": "2024-02-26T20:09:53.425Z"
   },
   {
    "duration": 320,
    "start_time": "2024-02-26T20:10:19.168Z"
   },
   {
    "duration": 282,
    "start_time": "2024-02-26T20:10:52.219Z"
   },
   {
    "duration": 10,
    "start_time": "2024-02-26T20:11:27.972Z"
   },
   {
    "duration": 217,
    "start_time": "2024-02-26T20:12:30.261Z"
   },
   {
    "duration": 392,
    "start_time": "2024-02-26T20:12:39.986Z"
   },
   {
    "duration": 9,
    "start_time": "2024-02-26T20:15:28.382Z"
   },
   {
    "duration": 180,
    "start_time": "2024-02-26T20:15:43.171Z"
   },
   {
    "duration": 168,
    "start_time": "2024-02-26T20:15:51.586Z"
   },
   {
    "duration": 294,
    "start_time": "2024-02-26T20:16:35.206Z"
   },
   {
    "duration": 304,
    "start_time": "2024-02-26T20:21:18.602Z"
   },
   {
    "duration": 180,
    "start_time": "2024-02-26T20:21:27.574Z"
   },
   {
    "duration": 202,
    "start_time": "2024-02-26T20:21:40.046Z"
   },
   {
    "duration": 216,
    "start_time": "2024-02-26T20:21:53.771Z"
   },
   {
    "duration": 410,
    "start_time": "2024-02-26T20:22:06.672Z"
   },
   {
    "duration": 283,
    "start_time": "2024-02-26T20:25:23.587Z"
   },
   {
    "duration": 263,
    "start_time": "2024-02-26T20:25:33.395Z"
   },
   {
    "duration": 220,
    "start_time": "2024-02-26T20:25:41.526Z"
   },
   {
    "duration": 314,
    "start_time": "2024-02-26T20:25:46.692Z"
   },
   {
    "duration": 298,
    "start_time": "2024-02-26T20:26:13.392Z"
   },
   {
    "duration": 10,
    "start_time": "2024-02-26T20:26:44.992Z"
   },
   {
    "duration": 417,
    "start_time": "2024-02-26T20:27:35.250Z"
   },
   {
    "duration": 288,
    "start_time": "2024-02-26T20:31:06.518Z"
   },
   {
    "duration": 277,
    "start_time": "2024-02-26T20:32:47.773Z"
   },
   {
    "duration": 1235,
    "start_time": "2024-02-26T20:40:26.069Z"
   },
   {
    "duration": 70,
    "start_time": "2024-02-26T20:40:27.306Z"
   },
   {
    "duration": 12,
    "start_time": "2024-02-26T20:40:27.378Z"
   },
   {
    "duration": 11,
    "start_time": "2024-02-26T20:40:27.392Z"
   },
   {
    "duration": 11,
    "start_time": "2024-02-26T20:40:27.405Z"
   },
   {
    "duration": 15,
    "start_time": "2024-02-26T20:40:27.417Z"
   },
   {
    "duration": 7,
    "start_time": "2024-02-26T20:40:27.433Z"
   },
   {
    "duration": 44,
    "start_time": "2024-02-26T20:40:27.441Z"
   },
   {
    "duration": 19,
    "start_time": "2024-02-26T20:40:27.487Z"
   },
   {
    "duration": 13,
    "start_time": "2024-02-26T20:40:27.508Z"
   },
   {
    "duration": 5,
    "start_time": "2024-02-26T20:40:27.523Z"
   },
   {
    "duration": 9,
    "start_time": "2024-02-26T20:40:27.529Z"
   },
   {
    "duration": 9,
    "start_time": "2024-02-26T20:40:27.539Z"
   },
   {
    "duration": 32,
    "start_time": "2024-02-26T20:40:27.551Z"
   },
   {
    "duration": 6,
    "start_time": "2024-02-26T20:40:27.585Z"
   },
   {
    "duration": 10,
    "start_time": "2024-02-26T20:40:27.592Z"
   },
   {
    "duration": 7,
    "start_time": "2024-02-26T20:40:27.603Z"
   },
   {
    "duration": 8,
    "start_time": "2024-02-26T20:40:27.611Z"
   },
   {
    "duration": 9,
    "start_time": "2024-02-26T20:40:27.621Z"
   },
   {
    "duration": 5,
    "start_time": "2024-02-26T20:40:27.632Z"
   },
   {
    "duration": 52,
    "start_time": "2024-02-26T20:40:27.638Z"
   },
   {
    "duration": 200,
    "start_time": "2024-02-26T20:40:27.691Z"
   },
   {
    "duration": 13,
    "start_time": "2024-02-26T20:40:27.893Z"
   },
   {
    "duration": 167,
    "start_time": "2024-02-26T20:40:27.907Z"
   },
   {
    "duration": 11,
    "start_time": "2024-02-26T20:40:28.075Z"
   },
   {
    "duration": 279,
    "start_time": "2024-02-26T20:40:28.088Z"
   },
   {
    "duration": 17,
    "start_time": "2024-02-26T20:40:28.368Z"
   },
   {
    "duration": 296,
    "start_time": "2024-02-26T20:40:28.386Z"
   },
   {
    "duration": 9,
    "start_time": "2024-02-26T20:40:28.684Z"
   },
   {
    "duration": 339,
    "start_time": "2024-02-26T20:40:28.695Z"
   },
   {
    "duration": 62,
    "start_time": "2024-02-27T07:06:20.197Z"
   },
   {
    "duration": 1556,
    "start_time": "2024-02-27T07:06:34.224Z"
   },
   {
    "duration": 191,
    "start_time": "2024-02-27T07:06:35.782Z"
   },
   {
    "duration": 15,
    "start_time": "2024-02-27T07:06:35.974Z"
   },
   {
    "duration": 41,
    "start_time": "2024-02-27T07:06:35.991Z"
   },
   {
    "duration": 25,
    "start_time": "2024-02-27T07:06:36.036Z"
   },
   {
    "duration": 30,
    "start_time": "2024-02-27T07:06:36.063Z"
   },
   {
    "duration": 8,
    "start_time": "2024-02-27T07:06:36.095Z"
   },
   {
    "duration": 25,
    "start_time": "2024-02-27T07:06:36.106Z"
   },
   {
    "duration": 14,
    "start_time": "2024-02-27T07:06:36.133Z"
   },
   {
    "duration": 23,
    "start_time": "2024-02-27T07:06:36.149Z"
   },
   {
    "duration": 5,
    "start_time": "2024-02-27T07:06:36.175Z"
   },
   {
    "duration": 18,
    "start_time": "2024-02-27T07:06:36.182Z"
   },
   {
    "duration": 25,
    "start_time": "2024-02-27T07:06:36.202Z"
   },
   {
    "duration": 10,
    "start_time": "2024-02-27T07:06:36.233Z"
   },
   {
    "duration": 18,
    "start_time": "2024-02-27T07:06:36.246Z"
   },
   {
    "duration": 9,
    "start_time": "2024-02-27T07:06:36.266Z"
   },
   {
    "duration": 5,
    "start_time": "2024-02-27T07:06:36.277Z"
   },
   {
    "duration": 6,
    "start_time": "2024-02-27T07:06:36.284Z"
   },
   {
    "duration": 20,
    "start_time": "2024-02-27T07:06:36.324Z"
   },
   {
    "duration": 6,
    "start_time": "2024-02-27T07:06:36.346Z"
   },
   {
    "duration": 17,
    "start_time": "2024-02-27T07:06:36.354Z"
   },
   {
    "duration": 271,
    "start_time": "2024-02-27T07:06:36.373Z"
   },
   {
    "duration": 14,
    "start_time": "2024-02-27T07:06:36.646Z"
   },
   {
    "duration": 207,
    "start_time": "2024-02-27T07:06:36.661Z"
   },
   {
    "duration": 10,
    "start_time": "2024-02-27T07:06:36.869Z"
   },
   {
    "duration": 324,
    "start_time": "2024-02-27T07:06:36.881Z"
   },
   {
    "duration": 23,
    "start_time": "2024-02-27T07:06:37.207Z"
   },
   {
    "duration": 347,
    "start_time": "2024-02-27T07:06:37.232Z"
   },
   {
    "duration": 10,
    "start_time": "2024-02-27T07:06:37.580Z"
   },
   {
    "duration": 341,
    "start_time": "2024-02-27T07:06:37.592Z"
   },
   {
    "duration": 14,
    "start_time": "2024-02-27T07:06:37.937Z"
   },
   {
    "duration": 13,
    "start_time": "2024-02-27T07:06:48.746Z"
   },
   {
    "duration": 111,
    "start_time": "2024-02-27T07:08:53.903Z"
   },
   {
    "duration": 17,
    "start_time": "2024-02-27T07:08:56.577Z"
   },
   {
    "duration": 13,
    "start_time": "2024-02-27T07:08:57.055Z"
   },
   {
    "duration": 17,
    "start_time": "2024-02-27T07:09:05.541Z"
   },
   {
    "duration": 27,
    "start_time": "2024-02-27T07:09:20.136Z"
   },
   {
    "duration": 25,
    "start_time": "2024-02-27T07:09:25.897Z"
   },
   {
    "duration": 14,
    "start_time": "2024-02-27T07:09:42.136Z"
   },
   {
    "duration": 14,
    "start_time": "2024-02-27T07:09:52.196Z"
   },
   {
    "duration": 21,
    "start_time": "2024-02-27T07:10:34.291Z"
   },
   {
    "duration": 14,
    "start_time": "2024-02-27T07:10:56.676Z"
   },
   {
    "duration": 21,
    "start_time": "2024-02-27T07:15:01.365Z"
   },
   {
    "duration": 30,
    "start_time": "2024-02-27T07:15:35.161Z"
   },
   {
    "duration": 39,
    "start_time": "2024-02-27T07:16:04.314Z"
   },
   {
    "duration": 1233,
    "start_time": "2024-02-27T07:18:59.792Z"
   },
   {
    "duration": 71,
    "start_time": "2024-02-27T07:19:01.028Z"
   },
   {
    "duration": 12,
    "start_time": "2024-02-27T07:19:01.101Z"
   },
   {
    "duration": 133,
    "start_time": "2024-02-27T07:19:01.114Z"
   },
   {
    "duration": 105,
    "start_time": "2024-02-27T07:19:01.249Z"
   },
   {
    "duration": 185,
    "start_time": "2024-02-27T07:19:01.356Z"
   },
   {
    "duration": 119,
    "start_time": "2024-02-27T07:19:01.543Z"
   },
   {
    "duration": 187,
    "start_time": "2024-02-27T07:19:01.664Z"
   },
   {
    "duration": 100,
    "start_time": "2024-02-27T07:19:01.852Z"
   },
   {
    "duration": 123,
    "start_time": "2024-02-27T07:19:01.954Z"
   },
   {
    "duration": 108,
    "start_time": "2024-02-27T07:19:02.149Z"
   },
   {
    "duration": 287,
    "start_time": "2024-02-27T07:19:02.260Z"
   },
   {
    "duration": 293,
    "start_time": "2024-02-27T07:19:02.549Z"
   },
   {
    "duration": 283,
    "start_time": "2024-02-27T07:19:02.845Z"
   },
   {
    "duration": 25,
    "start_time": "2024-02-27T07:19:03.131Z"
   },
   {
    "duration": 36,
    "start_time": "2024-02-27T07:19:03.158Z"
   },
   {
    "duration": 54,
    "start_time": "2024-02-27T07:19:03.196Z"
   },
   {
    "duration": 44,
    "start_time": "2024-02-27T07:19:03.252Z"
   },
   {
    "duration": 21,
    "start_time": "2024-02-27T07:19:03.298Z"
   },
   {
    "duration": 24,
    "start_time": "2024-02-27T07:19:03.323Z"
   },
   {
    "duration": 29,
    "start_time": "2024-02-27T07:19:03.348Z"
   },
   {
    "duration": 17,
    "start_time": "2024-02-27T07:19:03.379Z"
   },
   {
    "duration": 22,
    "start_time": "2024-02-27T07:19:03.399Z"
   },
   {
    "duration": 27,
    "start_time": "2024-02-27T07:19:03.423Z"
   },
   {
    "duration": 36,
    "start_time": "2024-02-27T07:19:03.452Z"
   },
   {
    "duration": 26,
    "start_time": "2024-02-27T07:19:03.490Z"
   },
   {
    "duration": 26,
    "start_time": "2024-02-27T07:19:03.518Z"
   },
   {
    "duration": 24,
    "start_time": "2024-02-27T07:19:03.546Z"
   },
   {
    "duration": 34,
    "start_time": "2024-02-27T07:19:03.573Z"
   },
   {
    "duration": 25,
    "start_time": "2024-02-27T07:19:03.609Z"
   },
   {
    "duration": 47,
    "start_time": "2024-02-27T07:19:03.637Z"
   },
   {
    "duration": 212,
    "start_time": "2024-02-27T07:19:03.686Z"
   },
   {
    "duration": 12,
    "start_time": "2024-02-27T07:19:03.900Z"
   },
   {
    "duration": 187,
    "start_time": "2024-02-27T07:19:03.923Z"
   },
   {
    "duration": 21,
    "start_time": "2024-02-27T07:19:04.112Z"
   },
   {
    "duration": 330,
    "start_time": "2024-02-27T07:19:04.135Z"
   },
   {
    "duration": 9,
    "start_time": "2024-02-27T07:19:04.466Z"
   },
   {
    "duration": 328,
    "start_time": "2024-02-27T07:19:04.478Z"
   },
   {
    "duration": 16,
    "start_time": "2024-02-27T07:19:04.808Z"
   },
   {
    "duration": 355,
    "start_time": "2024-02-27T07:19:04.826Z"
   },
   {
    "duration": 22,
    "start_time": "2024-02-27T07:19:05.183Z"
   },
   {
    "duration": 36,
    "start_time": "2024-02-27T07:19:05.207Z"
   },
   {
    "duration": 148,
    "start_time": "2024-02-27T07:19:05.246Z"
   },
   {
    "duration": 3,
    "start_time": "2024-02-27T07:19:14.185Z"
   },
   {
    "duration": 68,
    "start_time": "2024-02-27T07:19:15.023Z"
   },
   {
    "duration": 8,
    "start_time": "2024-02-27T07:19:16.453Z"
   },
   {
    "duration": 13,
    "start_time": "2024-02-27T07:19:16.636Z"
   },
   {
    "duration": 13,
    "start_time": "2024-02-27T07:19:16.821Z"
   },
   {
    "duration": 12,
    "start_time": "2024-02-27T07:19:17.197Z"
   },
   {
    "duration": 7,
    "start_time": "2024-02-27T07:19:17.381Z"
   },
   {
    "duration": 13,
    "start_time": "2024-02-27T07:19:17.545Z"
   },
   {
    "duration": 15,
    "start_time": "2024-02-27T07:19:18.225Z"
   },
   {
    "duration": 10,
    "start_time": "2024-02-27T07:19:18.405Z"
   },
   {
    "duration": 6,
    "start_time": "2024-02-27T07:19:18.735Z"
   },
   {
    "duration": 9,
    "start_time": "2024-02-27T07:19:18.906Z"
   },
   {
    "duration": 6,
    "start_time": "2024-02-27T07:19:19.247Z"
   },
   {
    "duration": 8,
    "start_time": "2024-02-27T07:19:19.425Z"
   },
   {
    "duration": 7,
    "start_time": "2024-02-27T07:19:19.613Z"
   },
   {
    "duration": 6,
    "start_time": "2024-02-27T07:19:19.785Z"
   },
   {
    "duration": 5,
    "start_time": "2024-02-27T07:19:20.145Z"
   },
   {
    "duration": 8,
    "start_time": "2024-02-27T07:19:20.326Z"
   },
   {
    "duration": 8,
    "start_time": "2024-02-27T07:19:20.497Z"
   },
   {
    "duration": 5,
    "start_time": "2024-02-27T07:19:20.681Z"
   },
   {
    "duration": 12,
    "start_time": "2024-02-27T07:19:21.375Z"
   },
   {
    "duration": 195,
    "start_time": "2024-02-27T07:19:21.579Z"
   },
   {
    "duration": 12,
    "start_time": "2024-02-27T07:19:22.147Z"
   },
   {
    "duration": 262,
    "start_time": "2024-02-27T07:19:22.328Z"
   },
   {
    "duration": 7,
    "start_time": "2024-02-27T07:19:22.876Z"
   },
   {
    "duration": 294,
    "start_time": "2024-02-27T07:19:23.069Z"
   },
   {
    "duration": 9,
    "start_time": "2024-02-27T07:19:23.649Z"
   },
   {
    "duration": 327,
    "start_time": "2024-02-27T07:19:23.821Z"
   },
   {
    "duration": 9,
    "start_time": "2024-02-27T07:19:24.385Z"
   },
   {
    "duration": 311,
    "start_time": "2024-02-27T07:19:24.563Z"
   },
   {
    "duration": 16,
    "start_time": "2024-02-27T07:19:25.509Z"
   },
   {
    "duration": 14,
    "start_time": "2024-02-27T07:19:25.703Z"
   },
   {
    "duration": 28,
    "start_time": "2024-02-27T07:19:26.089Z"
   },
   {
    "duration": 27,
    "start_time": "2024-02-27T07:20:24.984Z"
   },
   {
    "duration": 20,
    "start_time": "2024-02-27T07:20:35.277Z"
   },
   {
    "duration": 21,
    "start_time": "2024-02-27T07:20:51.385Z"
   },
   {
    "duration": 16,
    "start_time": "2024-02-27T07:21:11.905Z"
   },
   {
    "duration": 24,
    "start_time": "2024-02-27T07:21:33.587Z"
   },
   {
    "duration": 1339,
    "start_time": "2024-02-27T16:34:43.753Z"
   },
   {
    "duration": 199,
    "start_time": "2024-02-27T16:34:45.094Z"
   },
   {
    "duration": 13,
    "start_time": "2024-02-27T16:34:45.295Z"
   },
   {
    "duration": 23,
    "start_time": "2024-02-27T16:34:45.310Z"
   },
   {
    "duration": 23,
    "start_time": "2024-02-27T16:34:45.334Z"
   },
   {
    "duration": 65,
    "start_time": "2024-02-27T16:34:45.359Z"
   },
   {
    "duration": 21,
    "start_time": "2024-02-27T16:34:45.425Z"
   },
   {
    "duration": 36,
    "start_time": "2024-02-27T16:34:45.447Z"
   },
   {
    "duration": 16,
    "start_time": "2024-02-27T16:34:45.484Z"
   },
   {
    "duration": 11,
    "start_time": "2024-02-27T16:34:45.503Z"
   },
   {
    "duration": 7,
    "start_time": "2024-02-27T16:34:45.515Z"
   },
   {
    "duration": 14,
    "start_time": "2024-02-27T16:34:45.523Z"
   },
   {
    "duration": 22,
    "start_time": "2024-02-27T16:34:45.539Z"
   },
   {
    "duration": 16,
    "start_time": "2024-02-27T16:34:45.563Z"
   },
   {
    "duration": 17,
    "start_time": "2024-02-27T16:34:45.581Z"
   },
   {
    "duration": 15,
    "start_time": "2024-02-27T16:34:45.600Z"
   },
   {
    "duration": 12,
    "start_time": "2024-02-27T16:34:45.616Z"
   },
   {
    "duration": 29,
    "start_time": "2024-02-27T16:34:45.629Z"
   },
   {
    "duration": 20,
    "start_time": "2024-02-27T16:34:45.660Z"
   },
   {
    "duration": 13,
    "start_time": "2024-02-27T16:34:45.682Z"
   },
   {
    "duration": 73,
    "start_time": "2024-02-27T16:34:45.697Z"
   },
   {
    "duration": 185,
    "start_time": "2024-02-27T16:34:45.772Z"
   },
   {
    "duration": 13,
    "start_time": "2024-02-27T16:34:45.959Z"
   },
   {
    "duration": 172,
    "start_time": "2024-02-27T16:34:45.974Z"
   },
   {
    "duration": 8,
    "start_time": "2024-02-27T16:34:46.147Z"
   },
   {
    "duration": 272,
    "start_time": "2024-02-27T16:34:46.156Z"
   },
   {
    "duration": 7,
    "start_time": "2024-02-27T16:34:46.430Z"
   },
   {
    "duration": 291,
    "start_time": "2024-02-27T16:34:46.440Z"
   },
   {
    "duration": 8,
    "start_time": "2024-02-27T16:34:46.733Z"
   },
   {
    "duration": 309,
    "start_time": "2024-02-27T16:34:46.743Z"
   },
   {
    "duration": 18,
    "start_time": "2024-02-27T16:34:47.054Z"
   },
   {
    "duration": 16,
    "start_time": "2024-02-27T16:34:47.073Z"
   },
   {
    "duration": 16,
    "start_time": "2024-02-27T16:34:47.115Z"
   },
   {
    "duration": 17,
    "start_time": "2024-02-27T16:34:47.133Z"
   },
   {
    "duration": 181,
    "start_time": "2024-02-27T16:35:03.392Z"
   },
   {
    "duration": 232,
    "start_time": "2024-02-27T16:35:13.066Z"
   },
   {
    "duration": 74,
    "start_time": "2024-02-27T16:35:21.950Z"
   },
   {
    "duration": 163,
    "start_time": "2024-02-27T16:35:26.288Z"
   },
   {
    "duration": 515,
    "start_time": "2024-02-27T16:38:48.909Z"
   },
   {
    "duration": 463,
    "start_time": "2024-02-27T16:39:12.967Z"
   },
   {
    "duration": 500,
    "start_time": "2024-02-27T16:40:36.229Z"
   },
   {
    "duration": 8,
    "start_time": "2024-02-27T16:41:12.931Z"
   },
   {
    "duration": 9,
    "start_time": "2024-02-27T16:41:28.576Z"
   },
   {
    "duration": 617,
    "start_time": "2024-02-27T16:42:05.543Z"
   },
   {
    "duration": 12,
    "start_time": "2024-02-27T18:03:38.241Z"
   },
   {
    "duration": 11,
    "start_time": "2024-02-27T18:04:33.351Z"
   },
   {
    "duration": 12,
    "start_time": "2024-02-27T18:04:33.658Z"
   },
   {
    "duration": 10,
    "start_time": "2024-02-27T18:11:48.443Z"
   },
   {
    "duration": 13,
    "start_time": "2024-02-27T18:12:32.327Z"
   },
   {
    "duration": 11,
    "start_time": "2024-02-27T18:12:47.216Z"
   },
   {
    "duration": 4,
    "start_time": "2024-02-27T18:13:26.283Z"
   },
   {
    "duration": 4,
    "start_time": "2024-02-27T18:14:37.346Z"
   },
   {
    "duration": 474,
    "start_time": "2024-02-27T18:16:31.891Z"
   },
   {
    "duration": 5,
    "start_time": "2024-02-27T18:18:19.785Z"
   },
   {
    "duration": 4,
    "start_time": "2024-02-27T18:19:19.675Z"
   },
   {
    "duration": 9,
    "start_time": "2024-02-27T18:19:52.105Z"
   },
   {
    "duration": 8,
    "start_time": "2024-02-27T18:20:17.550Z"
   },
   {
    "duration": 5,
    "start_time": "2024-02-27T18:20:33.579Z"
   },
   {
    "duration": 5,
    "start_time": "2024-02-27T18:20:47.444Z"
   },
   {
    "duration": 4,
    "start_time": "2024-02-27T18:21:40.066Z"
   },
   {
    "duration": 4,
    "start_time": "2024-02-27T18:21:50.817Z"
   },
   {
    "duration": 3,
    "start_time": "2024-02-27T18:21:52.222Z"
   },
   {
    "duration": 179,
    "start_time": "2024-02-27T18:23:43.555Z"
   },
   {
    "duration": 184,
    "start_time": "2024-02-27T18:24:11.812Z"
   },
   {
    "duration": 193,
    "start_time": "2024-02-27T18:24:55.568Z"
   },
   {
    "duration": 190,
    "start_time": "2024-02-27T18:25:05.169Z"
   },
   {
    "duration": 177,
    "start_time": "2024-02-27T18:25:19.354Z"
   },
   {
    "duration": 284,
    "start_time": "2024-02-27T18:25:33.688Z"
   },
   {
    "duration": 186,
    "start_time": "2024-02-27T18:25:43.403Z"
   },
   {
    "duration": 175,
    "start_time": "2024-02-27T18:25:55.967Z"
   },
   {
    "duration": 153,
    "start_time": "2024-02-27T18:26:50.546Z"
   },
   {
    "duration": 134,
    "start_time": "2024-02-27T18:27:07.291Z"
   },
   {
    "duration": 179,
    "start_time": "2024-02-27T18:27:57.506Z"
   },
   {
    "duration": 182,
    "start_time": "2024-02-27T18:28:12.153Z"
   },
   {
    "duration": 144,
    "start_time": "2024-02-27T18:28:35.299Z"
   },
   {
    "duration": 132,
    "start_time": "2024-02-27T18:28:44.035Z"
   },
   {
    "duration": 199,
    "start_time": "2024-02-27T18:29:43.093Z"
   },
   {
    "duration": 195,
    "start_time": "2024-02-27T18:29:55.093Z"
   },
   {
    "duration": 276,
    "start_time": "2024-02-27T18:30:03.079Z"
   },
   {
    "duration": 175,
    "start_time": "2024-02-27T18:30:12.635Z"
   },
   {
    "duration": 5,
    "start_time": "2024-02-27T18:30:40.502Z"
   },
   {
    "duration": 179,
    "start_time": "2024-02-27T18:32:48.881Z"
   },
   {
    "duration": 6,
    "start_time": "2024-02-27T18:35:08.474Z"
   },
   {
    "duration": 6,
    "start_time": "2024-02-27T18:35:32.047Z"
   },
   {
    "duration": 5,
    "start_time": "2024-02-27T18:35:39.719Z"
   },
   {
    "duration": 6,
    "start_time": "2024-02-27T18:36:38.442Z"
   },
   {
    "duration": 6,
    "start_time": "2024-02-27T18:36:45.699Z"
   },
   {
    "duration": 219,
    "start_time": "2024-02-27T18:37:28.021Z"
   },
   {
    "duration": 222,
    "start_time": "2024-02-27T18:37:53.334Z"
   },
   {
    "duration": 190,
    "start_time": "2024-02-27T18:38:10.132Z"
   },
   {
    "duration": 5,
    "start_time": "2024-02-27T18:38:26.906Z"
   },
   {
    "duration": 6,
    "start_time": "2024-02-27T18:38:37.995Z"
   },
   {
    "duration": 5,
    "start_time": "2024-02-27T18:38:51.285Z"
   },
   {
    "duration": 5,
    "start_time": "2024-02-27T18:38:55.682Z"
   },
   {
    "duration": 245,
    "start_time": "2024-02-27T18:39:57.894Z"
   },
   {
    "duration": 180,
    "start_time": "2024-02-27T18:40:22.405Z"
   },
   {
    "duration": 233,
    "start_time": "2024-02-27T18:42:17.062Z"
   },
   {
    "duration": 195,
    "start_time": "2024-02-27T18:42:24.654Z"
   },
   {
    "duration": 1201,
    "start_time": "2024-02-27T18:52:13.930Z"
   },
   {
    "duration": 83,
    "start_time": "2024-02-27T18:52:15.133Z"
   },
   {
    "duration": 17,
    "start_time": "2024-02-27T18:52:15.218Z"
   },
   {
    "duration": 35,
    "start_time": "2024-02-27T18:52:15.238Z"
   },
   {
    "duration": 24,
    "start_time": "2024-02-27T18:52:15.274Z"
   },
   {
    "duration": 35,
    "start_time": "2024-02-27T18:52:15.300Z"
   },
   {
    "duration": 18,
    "start_time": "2024-02-27T18:52:15.337Z"
   },
   {
    "duration": 30,
    "start_time": "2024-02-27T18:52:15.357Z"
   },
   {
    "duration": 44,
    "start_time": "2024-02-27T18:52:15.389Z"
   },
   {
    "duration": 48,
    "start_time": "2024-02-27T18:52:15.437Z"
   },
   {
    "duration": 16,
    "start_time": "2024-02-27T18:52:15.487Z"
   },
   {
    "duration": 22,
    "start_time": "2024-02-27T18:52:15.505Z"
   },
   {
    "duration": 59,
    "start_time": "2024-02-27T18:52:15.528Z"
   },
   {
    "duration": 26,
    "start_time": "2024-02-27T18:52:15.588Z"
   },
   {
    "duration": 17,
    "start_time": "2024-02-27T18:52:15.616Z"
   },
   {
    "duration": 16,
    "start_time": "2024-02-27T18:52:15.635Z"
   },
   {
    "duration": 12,
    "start_time": "2024-02-27T18:52:15.653Z"
   },
   {
    "duration": 22,
    "start_time": "2024-02-27T18:52:15.667Z"
   },
   {
    "duration": 20,
    "start_time": "2024-02-27T18:52:15.690Z"
   },
   {
    "duration": 10,
    "start_time": "2024-02-27T18:52:15.712Z"
   },
   {
    "duration": 24,
    "start_time": "2024-02-27T18:52:15.724Z"
   },
   {
    "duration": 204,
    "start_time": "2024-02-27T18:52:15.750Z"
   },
   {
    "duration": 12,
    "start_time": "2024-02-27T18:52:15.955Z"
   },
   {
    "duration": 153,
    "start_time": "2024-02-27T18:52:15.969Z"
   },
   {
    "duration": 11,
    "start_time": "2024-02-27T18:52:16.125Z"
   },
   {
    "duration": 315,
    "start_time": "2024-02-27T18:52:16.138Z"
   },
   {
    "duration": 8,
    "start_time": "2024-02-27T18:52:16.455Z"
   },
   {
    "duration": 338,
    "start_time": "2024-02-27T18:52:16.467Z"
   },
   {
    "duration": 11,
    "start_time": "2024-02-27T18:52:16.807Z"
   },
   {
    "duration": 316,
    "start_time": "2024-02-27T18:52:16.820Z"
   },
   {
    "duration": 17,
    "start_time": "2024-02-27T18:52:17.137Z"
   },
   {
    "duration": 11,
    "start_time": "2024-02-27T18:52:17.155Z"
   },
   {
    "duration": 12,
    "start_time": "2024-02-27T18:52:17.168Z"
   },
   {
    "duration": 36,
    "start_time": "2024-02-27T18:52:17.182Z"
   },
   {
    "duration": 18,
    "start_time": "2024-02-27T18:52:17.220Z"
   },
   {
    "duration": 13,
    "start_time": "2024-02-27T18:52:17.240Z"
   },
   {
    "duration": 15,
    "start_time": "2024-02-27T18:52:17.255Z"
   },
   {
    "duration": 53,
    "start_time": "2024-02-27T18:52:17.272Z"
   },
   {
    "duration": 12,
    "start_time": "2024-02-27T18:52:17.331Z"
   },
   {
    "duration": 13,
    "start_time": "2024-02-27T18:52:17.344Z"
   },
   {
    "duration": 3,
    "start_time": "2024-02-27T18:52:17.359Z"
   },
   {
    "duration": 5,
    "start_time": "2024-02-27T18:52:17.363Z"
   },
   {
    "duration": 6,
    "start_time": "2024-02-27T18:52:17.369Z"
   },
   {
    "duration": 223,
    "start_time": "2024-02-27T18:52:17.376Z"
   },
   {
    "duration": 5,
    "start_time": "2024-02-27T18:52:17.600Z"
   },
   {
    "duration": 331,
    "start_time": "2024-02-27T18:52:17.616Z"
   },
   {
    "duration": 19,
    "start_time": "2024-02-27T18:52:17.949Z"
   },
   {
    "duration": 19,
    "start_time": "2024-02-27T18:59:16.076Z"
   },
   {
    "duration": 137,
    "start_time": "2024-02-27T18:59:40.106Z"
   },
   {
    "duration": 1125,
    "start_time": "2024-02-27T18:59:46.968Z"
   },
   {
    "duration": 21,
    "start_time": "2024-02-27T19:02:06.467Z"
   },
   {
    "duration": 16,
    "start_time": "2024-02-27T19:05:55.590Z"
   },
   {
    "duration": 18,
    "start_time": "2024-02-27T19:06:31.329Z"
   },
   {
    "duration": 20,
    "start_time": "2024-02-27T19:06:36.184Z"
   },
   {
    "duration": 17,
    "start_time": "2024-02-27T19:07:05.675Z"
   },
   {
    "duration": 26,
    "start_time": "2024-02-27T19:07:26.795Z"
   },
   {
    "duration": 24,
    "start_time": "2024-02-27T19:07:32.736Z"
   },
   {
    "duration": 17,
    "start_time": "2024-02-27T19:07:44.954Z"
   },
   {
    "duration": 21,
    "start_time": "2024-02-27T19:10:04.532Z"
   },
   {
    "duration": 34,
    "start_time": "2024-02-27T19:11:38.118Z"
   },
   {
    "duration": 30,
    "start_time": "2024-02-27T19:14:27.092Z"
   },
   {
    "duration": 23,
    "start_time": "2024-02-27T19:15:24.117Z"
   },
   {
    "duration": 31,
    "start_time": "2024-02-27T19:15:31.265Z"
   },
   {
    "duration": 21,
    "start_time": "2024-02-27T19:17:11.563Z"
   },
   {
    "duration": 64,
    "start_time": "2024-02-27T19:17:31.897Z"
   },
   {
    "duration": 57,
    "start_time": "2024-02-27T19:17:37.936Z"
   },
   {
    "duration": 20,
    "start_time": "2024-02-27T19:18:31.568Z"
   },
   {
    "duration": 48,
    "start_time": "2024-02-27T19:18:40.728Z"
   },
   {
    "duration": 32,
    "start_time": "2024-02-27T19:18:51.675Z"
   },
   {
    "duration": 43,
    "start_time": "2024-02-27T19:20:52.322Z"
   },
   {
    "duration": 35,
    "start_time": "2024-02-27T19:21:04.557Z"
   },
   {
    "duration": 60,
    "start_time": "2024-02-27T19:28:42.122Z"
   },
   {
    "duration": 54,
    "start_time": "2024-02-27T19:28:57.011Z"
   },
   {
    "duration": 37,
    "start_time": "2024-02-27T19:29:12.167Z"
   },
   {
    "duration": 35,
    "start_time": "2024-02-27T19:29:31.660Z"
   },
   {
    "duration": 41,
    "start_time": "2024-02-27T19:29:45.917Z"
   },
   {
    "duration": 50,
    "start_time": "2024-02-27T19:33:59.370Z"
   },
   {
    "duration": 39,
    "start_time": "2024-02-27T19:34:17.842Z"
   },
   {
    "duration": 35,
    "start_time": "2024-02-27T19:35:37.308Z"
   },
   {
    "duration": 38,
    "start_time": "2024-02-27T19:35:44.614Z"
   },
   {
    "duration": 32,
    "start_time": "2024-02-27T19:36:02.000Z"
   },
   {
    "duration": 38,
    "start_time": "2024-02-27T19:37:07.030Z"
   },
   {
    "duration": 40,
    "start_time": "2024-02-27T19:37:16.358Z"
   },
   {
    "duration": 39,
    "start_time": "2024-02-27T19:38:40.260Z"
   },
   {
    "duration": 36,
    "start_time": "2024-02-27T19:38:46.748Z"
   },
   {
    "duration": 29,
    "start_time": "2024-02-27T19:39:47.430Z"
   },
   {
    "duration": 27,
    "start_time": "2024-02-27T19:42:10.394Z"
   },
   {
    "duration": 41,
    "start_time": "2024-02-27T19:42:15.597Z"
   },
   {
    "duration": 34,
    "start_time": "2024-02-27T19:46:33.702Z"
   },
   {
    "duration": 36,
    "start_time": "2024-02-27T19:46:43.072Z"
   },
   {
    "duration": 47,
    "start_time": "2024-02-27T19:46:53.547Z"
   },
   {
    "duration": 52,
    "start_time": "2024-02-27T19:47:14.924Z"
   },
   {
    "duration": 43,
    "start_time": "2024-02-27T19:47:26.567Z"
   },
   {
    "duration": 47,
    "start_time": "2024-02-27T19:47:34.535Z"
   },
   {
    "duration": 47,
    "start_time": "2024-02-27T19:48:18.660Z"
   },
   {
    "duration": 46,
    "start_time": "2024-02-27T19:48:21.512Z"
   },
   {
    "duration": 54,
    "start_time": "2024-02-27T19:50:44.788Z"
   },
   {
    "duration": 51,
    "start_time": "2024-02-27T19:50:59.742Z"
   },
   {
    "duration": 54,
    "start_time": "2024-02-27T19:51:14.209Z"
   },
   {
    "duration": 53,
    "start_time": "2024-02-27T19:51:22.826Z"
   },
   {
    "duration": 47,
    "start_time": "2024-02-27T19:51:25.176Z"
   },
   {
    "duration": 47,
    "start_time": "2024-02-27T19:56:58.678Z"
   },
   {
    "duration": 46,
    "start_time": "2024-02-27T19:57:21.466Z"
   },
   {
    "duration": 70,
    "start_time": "2024-02-27T20:04:47.821Z"
   },
   {
    "duration": 75,
    "start_time": "2024-02-27T20:05:14.335Z"
   },
   {
    "duration": 45,
    "start_time": "2024-02-27T20:05:33.705Z"
   },
   {
    "duration": 98,
    "start_time": "2024-02-27T20:07:55.067Z"
   },
   {
    "duration": 11,
    "start_time": "2024-02-27T20:08:16.606Z"
   },
   {
    "duration": 95,
    "start_time": "2024-02-27T20:08:39.264Z"
   },
   {
    "duration": 79,
    "start_time": "2024-02-27T20:08:47.224Z"
   },
   {
    "duration": 171,
    "start_time": "2024-02-27T20:08:55.658Z"
   },
   {
    "duration": 24,
    "start_time": "2024-02-27T20:09:37.757Z"
   },
   {
    "duration": 96,
    "start_time": "2024-02-27T20:10:07.951Z"
   },
   {
    "duration": 106,
    "start_time": "2024-02-27T20:10:40.708Z"
   },
   {
    "duration": 105,
    "start_time": "2024-02-27T20:11:10.508Z"
   },
   {
    "duration": 117,
    "start_time": "2024-02-27T20:11:34.749Z"
   },
   {
    "duration": 100,
    "start_time": "2024-02-27T20:12:03.807Z"
   },
   {
    "duration": 117,
    "start_time": "2024-02-27T20:13:35.531Z"
   },
   {
    "duration": 408,
    "start_time": "2024-02-27T20:17:09.037Z"
   },
   {
    "duration": 103,
    "start_time": "2024-02-27T20:17:25.211Z"
   },
   {
    "duration": 112,
    "start_time": "2024-02-27T20:17:57.246Z"
   },
   {
    "duration": 104,
    "start_time": "2024-02-27T20:18:05.884Z"
   },
   {
    "duration": 98,
    "start_time": "2024-02-27T20:18:11.152Z"
   },
   {
    "duration": 100,
    "start_time": "2024-02-27T20:18:15.220Z"
   },
   {
    "duration": 102,
    "start_time": "2024-02-27T20:18:26.440Z"
   },
   {
    "duration": 101,
    "start_time": "2024-02-27T20:20:10.021Z"
   },
   {
    "duration": 108,
    "start_time": "2024-02-27T20:23:19.759Z"
   },
   {
    "duration": 4,
    "start_time": "2024-02-27T20:23:25.499Z"
   },
   {
    "duration": 1118,
    "start_time": "2024-02-27T20:23:35.460Z"
   },
   {
    "duration": 71,
    "start_time": "2024-02-27T20:23:36.579Z"
   },
   {
    "duration": 12,
    "start_time": "2024-02-27T20:23:36.652Z"
   },
   {
    "duration": 11,
    "start_time": "2024-02-27T20:23:36.666Z"
   },
   {
    "duration": 16,
    "start_time": "2024-02-27T20:23:36.678Z"
   },
   {
    "duration": 11,
    "start_time": "2024-02-27T20:23:36.696Z"
   },
   {
    "duration": 8,
    "start_time": "2024-02-27T20:23:36.708Z"
   },
   {
    "duration": 11,
    "start_time": "2024-02-27T20:23:36.717Z"
   },
   {
    "duration": 17,
    "start_time": "2024-02-27T20:23:36.730Z"
   },
   {
    "duration": 11,
    "start_time": "2024-02-27T20:23:36.750Z"
   },
   {
    "duration": 4,
    "start_time": "2024-02-27T20:23:36.762Z"
   },
   {
    "duration": 15,
    "start_time": "2024-02-27T20:23:36.768Z"
   },
   {
    "duration": 12,
    "start_time": "2024-02-27T20:23:36.784Z"
   },
   {
    "duration": 19,
    "start_time": "2024-02-27T20:23:36.797Z"
   },
   {
    "duration": 6,
    "start_time": "2024-02-27T20:23:36.818Z"
   },
   {
    "duration": 7,
    "start_time": "2024-02-27T20:23:36.825Z"
   },
   {
    "duration": 5,
    "start_time": "2024-02-27T20:23:36.834Z"
   },
   {
    "duration": 18,
    "start_time": "2024-02-27T20:23:36.840Z"
   },
   {
    "duration": 10,
    "start_time": "2024-02-27T20:23:36.859Z"
   },
   {
    "duration": 5,
    "start_time": "2024-02-27T20:23:36.871Z"
   },
   {
    "duration": 44,
    "start_time": "2024-02-27T20:23:36.878Z"
   },
   {
    "duration": 175,
    "start_time": "2024-02-27T20:23:36.924Z"
   },
   {
    "duration": 22,
    "start_time": "2024-02-27T20:23:37.101Z"
   },
   {
    "duration": 151,
    "start_time": "2024-02-27T20:23:37.124Z"
   },
   {
    "duration": 9,
    "start_time": "2024-02-27T20:23:37.277Z"
   },
   {
    "duration": 296,
    "start_time": "2024-02-27T20:23:37.287Z"
   },
   {
    "duration": 9,
    "start_time": "2024-02-27T20:23:37.584Z"
   },
   {
    "duration": 302,
    "start_time": "2024-02-27T20:23:37.597Z"
   },
   {
    "duration": 14,
    "start_time": "2024-02-27T20:23:37.901Z"
   },
   {
    "duration": 308,
    "start_time": "2024-02-27T20:23:37.917Z"
   },
   {
    "duration": 16,
    "start_time": "2024-02-27T20:23:38.227Z"
   },
   {
    "duration": 14,
    "start_time": "2024-02-27T20:23:38.244Z"
   },
   {
    "duration": 10,
    "start_time": "2024-02-27T20:23:38.260Z"
   },
   {
    "duration": 9,
    "start_time": "2024-02-27T20:23:38.272Z"
   },
   {
    "duration": 41,
    "start_time": "2024-02-27T20:23:38.283Z"
   },
   {
    "duration": 14,
    "start_time": "2024-02-27T20:23:38.326Z"
   },
   {
    "duration": 16,
    "start_time": "2024-02-27T20:23:38.342Z"
   },
   {
    "duration": 15,
    "start_time": "2024-02-27T20:23:38.359Z"
   },
   {
    "duration": 42,
    "start_time": "2024-02-27T20:23:38.376Z"
   },
   {
    "duration": 12,
    "start_time": "2024-02-27T20:23:38.420Z"
   },
   {
    "duration": 4,
    "start_time": "2024-02-27T20:23:38.434Z"
   },
   {
    "duration": 5,
    "start_time": "2024-02-27T20:23:38.439Z"
   },
   {
    "duration": 6,
    "start_time": "2024-02-27T20:23:38.445Z"
   },
   {
    "duration": 234,
    "start_time": "2024-02-27T20:23:38.452Z"
   },
   {
    "duration": 6,
    "start_time": "2024-02-27T20:23:38.688Z"
   },
   {
    "duration": 270,
    "start_time": "2024-02-27T20:23:38.695Z"
   },
   {
    "duration": 104,
    "start_time": "2024-02-27T20:23:38.967Z"
   },
   {
    "duration": 4,
    "start_time": "2024-02-27T20:23:39.073Z"
   },
   {
    "duration": 15,
    "start_time": "2024-02-27T20:23:56.159Z"
   },
   {
    "duration": 103,
    "start_time": "2024-02-27T20:24:18.984Z"
   },
   {
    "duration": 101,
    "start_time": "2024-02-27T20:45:51.321Z"
   },
   {
    "duration": 23,
    "start_time": "2024-02-27T20:51:16.812Z"
   },
   {
    "duration": 15,
    "start_time": "2024-02-27T20:54:13.684Z"
   },
   {
    "duration": 14,
    "start_time": "2024-02-27T20:54:20.997Z"
   },
   {
    "duration": 21,
    "start_time": "2024-02-27T20:55:19.728Z"
   },
   {
    "duration": 10,
    "start_time": "2024-02-27T21:00:33.913Z"
   },
   {
    "duration": 13,
    "start_time": "2024-02-27T21:01:06.974Z"
   },
   {
    "duration": 21,
    "start_time": "2024-02-27T21:02:44.755Z"
   },
   {
    "duration": 1183,
    "start_time": "2024-02-27T21:02:54.383Z"
   },
   {
    "duration": 76,
    "start_time": "2024-02-27T21:02:55.569Z"
   },
   {
    "duration": 13,
    "start_time": "2024-02-27T21:02:55.647Z"
   },
   {
    "duration": 20,
    "start_time": "2024-02-27T21:02:55.661Z"
   },
   {
    "duration": 12,
    "start_time": "2024-02-27T21:02:55.684Z"
   },
   {
    "duration": 32,
    "start_time": "2024-02-27T21:02:55.697Z"
   },
   {
    "duration": 37,
    "start_time": "2024-02-27T21:02:55.731Z"
   },
   {
    "duration": 22,
    "start_time": "2024-02-27T21:02:55.771Z"
   },
   {
    "duration": 33,
    "start_time": "2024-02-27T21:02:55.795Z"
   },
   {
    "duration": 11,
    "start_time": "2024-02-27T21:02:55.835Z"
   },
   {
    "duration": 6,
    "start_time": "2024-02-27T21:02:55.848Z"
   },
   {
    "duration": 11,
    "start_time": "2024-02-27T21:02:55.855Z"
   },
   {
    "duration": 12,
    "start_time": "2024-02-27T21:02:55.867Z"
   },
   {
    "duration": 9,
    "start_time": "2024-02-27T21:02:55.882Z"
   },
   {
    "duration": 6,
    "start_time": "2024-02-27T21:02:55.892Z"
   },
   {
    "duration": 21,
    "start_time": "2024-02-27T21:02:55.899Z"
   },
   {
    "duration": 11,
    "start_time": "2024-02-27T21:02:55.922Z"
   },
   {
    "duration": 21,
    "start_time": "2024-02-27T21:02:55.934Z"
   },
   {
    "duration": 27,
    "start_time": "2024-02-27T21:02:55.956Z"
   },
   {
    "duration": 18,
    "start_time": "2024-02-27T21:02:55.984Z"
   },
   {
    "duration": 37,
    "start_time": "2024-02-27T21:02:56.003Z"
   },
   {
    "duration": 185,
    "start_time": "2024-02-27T21:02:56.042Z"
   },
   {
    "duration": 17,
    "start_time": "2024-02-27T21:02:56.232Z"
   },
   {
    "duration": 182,
    "start_time": "2024-02-27T21:02:56.251Z"
   },
   {
    "duration": 8,
    "start_time": "2024-02-27T21:02:56.435Z"
   },
   {
    "duration": 311,
    "start_time": "2024-02-27T21:02:56.445Z"
   },
   {
    "duration": 8,
    "start_time": "2024-02-27T21:02:56.758Z"
   },
   {
    "duration": 331,
    "start_time": "2024-02-27T21:02:56.768Z"
   },
   {
    "duration": 28,
    "start_time": "2024-02-27T21:02:57.101Z"
   },
   {
    "duration": 291,
    "start_time": "2024-02-27T21:02:57.131Z"
   },
   {
    "duration": 19,
    "start_time": "2024-02-27T21:02:57.424Z"
   },
   {
    "duration": 10,
    "start_time": "2024-02-27T21:02:57.444Z"
   },
   {
    "duration": 11,
    "start_time": "2024-02-27T21:02:57.456Z"
   },
   {
    "duration": 9,
    "start_time": "2024-02-27T21:02:57.468Z"
   },
   {
    "duration": 16,
    "start_time": "2024-02-27T21:02:57.479Z"
   },
   {
    "duration": 25,
    "start_time": "2024-02-27T21:02:57.517Z"
   },
   {
    "duration": 25,
    "start_time": "2024-02-27T21:02:57.544Z"
   },
   {
    "duration": 14,
    "start_time": "2024-02-27T21:02:57.571Z"
   },
   {
    "duration": 45,
    "start_time": "2024-02-27T21:02:57.587Z"
   },
   {
    "duration": 12,
    "start_time": "2024-02-27T21:02:57.635Z"
   },
   {
    "duration": 9,
    "start_time": "2024-02-27T21:02:57.651Z"
   },
   {
    "duration": 6,
    "start_time": "2024-02-27T21:02:57.661Z"
   },
   {
    "duration": 13,
    "start_time": "2024-02-27T21:02:57.668Z"
   },
   {
    "duration": 248,
    "start_time": "2024-02-27T21:02:57.684Z"
   },
   {
    "duration": 7,
    "start_time": "2024-02-27T21:02:57.934Z"
   },
   {
    "duration": 313,
    "start_time": "2024-02-27T21:02:57.943Z"
   },
   {
    "duration": 117,
    "start_time": "2024-02-27T21:02:58.258Z"
   },
   {
    "duration": 20,
    "start_time": "2024-02-27T21:02:58.376Z"
   },
   {
    "duration": 29,
    "start_time": "2024-02-27T21:03:45.346Z"
   },
   {
    "duration": 23,
    "start_time": "2024-02-27T21:04:57.183Z"
   },
   {
    "duration": 109,
    "start_time": "2024-02-27T21:05:19.788Z"
   },
   {
    "duration": 77,
    "start_time": "2024-02-27T21:06:37.174Z"
   },
   {
    "duration": 20,
    "start_time": "2024-02-27T21:06:44.690Z"
   },
   {
    "duration": 23,
    "start_time": "2024-02-27T21:07:11.547Z"
   },
   {
    "duration": 23,
    "start_time": "2024-02-27T21:07:26.937Z"
   },
   {
    "duration": 32,
    "start_time": "2024-02-27T21:07:31.995Z"
   },
   {
    "duration": 31,
    "start_time": "2024-02-27T21:08:14.374Z"
   },
   {
    "duration": 36,
    "start_time": "2024-02-27T21:08:19.589Z"
   },
   {
    "duration": 21,
    "start_time": "2024-02-27T21:11:09.763Z"
   },
   {
    "duration": 33,
    "start_time": "2024-02-27T21:11:18.434Z"
   },
   {
    "duration": 35,
    "start_time": "2024-02-27T21:12:34.126Z"
   },
   {
    "duration": 47,
    "start_time": "2024-02-27T21:13:09.391Z"
   },
   {
    "duration": 1126,
    "start_time": "2024-02-27T21:15:30.480Z"
   },
   {
    "duration": 70,
    "start_time": "2024-02-27T21:15:31.608Z"
   },
   {
    "duration": 14,
    "start_time": "2024-02-27T21:15:31.679Z"
   },
   {
    "duration": 27,
    "start_time": "2024-02-27T21:15:31.696Z"
   },
   {
    "duration": 42,
    "start_time": "2024-02-27T21:15:31.725Z"
   },
   {
    "duration": 39,
    "start_time": "2024-02-27T21:15:31.769Z"
   },
   {
    "duration": 30,
    "start_time": "2024-02-27T21:15:31.810Z"
   },
   {
    "duration": 20,
    "start_time": "2024-02-27T21:15:31.842Z"
   },
   {
    "duration": 9,
    "start_time": "2024-02-27T21:15:31.863Z"
   },
   {
    "duration": 10,
    "start_time": "2024-02-27T21:15:31.875Z"
   },
   {
    "duration": 11,
    "start_time": "2024-02-27T21:15:31.886Z"
   },
   {
    "duration": 16,
    "start_time": "2024-02-27T21:15:31.898Z"
   },
   {
    "duration": 24,
    "start_time": "2024-02-27T21:15:31.915Z"
   },
   {
    "duration": 11,
    "start_time": "2024-02-27T21:15:31.941Z"
   },
   {
    "duration": 5,
    "start_time": "2024-02-27T21:15:31.953Z"
   },
   {
    "duration": 6,
    "start_time": "2024-02-27T21:15:31.959Z"
   },
   {
    "duration": 4,
    "start_time": "2024-02-27T21:15:31.966Z"
   },
   {
    "duration": 5,
    "start_time": "2024-02-27T21:15:31.972Z"
   },
   {
    "duration": 14,
    "start_time": "2024-02-27T21:15:31.979Z"
   },
   {
    "duration": 4,
    "start_time": "2024-02-27T21:15:31.995Z"
   },
   {
    "duration": 22,
    "start_time": "2024-02-27T21:15:32.001Z"
   },
   {
    "duration": 176,
    "start_time": "2024-02-27T21:15:32.024Z"
   },
   {
    "duration": 17,
    "start_time": "2024-02-27T21:15:32.201Z"
   },
   {
    "duration": 145,
    "start_time": "2024-02-27T21:15:32.220Z"
   },
   {
    "duration": 7,
    "start_time": "2024-02-27T21:15:32.367Z"
   },
   {
    "duration": 276,
    "start_time": "2024-02-27T21:15:32.376Z"
   },
   {
    "duration": 9,
    "start_time": "2024-02-27T21:15:32.654Z"
   },
   {
    "duration": 284,
    "start_time": "2024-02-27T21:15:32.666Z"
   },
   {
    "duration": 8,
    "start_time": "2024-02-27T21:15:32.951Z"
   },
   {
    "duration": 274,
    "start_time": "2024-02-27T21:15:32.961Z"
   },
   {
    "duration": 15,
    "start_time": "2024-02-27T21:15:33.237Z"
   },
   {
    "duration": 10,
    "start_time": "2024-02-27T21:15:33.253Z"
   },
   {
    "duration": 10,
    "start_time": "2024-02-27T21:15:33.264Z"
   },
   {
    "duration": 8,
    "start_time": "2024-02-27T21:15:33.276Z"
   },
   {
    "duration": 41,
    "start_time": "2024-02-27T21:15:33.286Z"
   },
   {
    "duration": 15,
    "start_time": "2024-02-27T21:15:33.328Z"
   },
   {
    "duration": 15,
    "start_time": "2024-02-27T21:15:33.345Z"
   },
   {
    "duration": 14,
    "start_time": "2024-02-27T21:15:33.362Z"
   },
   {
    "duration": 46,
    "start_time": "2024-02-27T21:15:33.378Z"
   },
   {
    "duration": 11,
    "start_time": "2024-02-27T21:15:33.426Z"
   },
   {
    "duration": 4,
    "start_time": "2024-02-27T21:15:33.439Z"
   },
   {
    "duration": 4,
    "start_time": "2024-02-27T21:15:33.445Z"
   },
   {
    "duration": 6,
    "start_time": "2024-02-27T21:15:33.450Z"
   },
   {
    "duration": 249,
    "start_time": "2024-02-27T21:15:33.458Z"
   },
   {
    "duration": 9,
    "start_time": "2024-02-27T21:15:33.709Z"
   },
   {
    "duration": 269,
    "start_time": "2024-02-27T21:15:33.719Z"
   },
   {
    "duration": 112,
    "start_time": "2024-02-27T21:15:33.990Z"
   },
   {
    "duration": 119,
    "start_time": "2024-02-27T21:15:34.104Z"
   },
   {
    "duration": 49,
    "start_time": "2024-02-27T21:16:02.961Z"
   },
   {
    "duration": 49,
    "start_time": "2024-02-27T21:22:21.188Z"
   },
   {
    "duration": 46,
    "start_time": "2024-02-27T21:22:40.558Z"
   },
   {
    "duration": 1174,
    "start_time": "2024-02-27T21:22:49.004Z"
   },
   {
    "duration": 68,
    "start_time": "2024-02-27T21:22:50.180Z"
   },
   {
    "duration": 13,
    "start_time": "2024-02-27T21:22:50.250Z"
   },
   {
    "duration": 11,
    "start_time": "2024-02-27T21:22:50.265Z"
   },
   {
    "duration": 17,
    "start_time": "2024-02-27T21:22:50.277Z"
   },
   {
    "duration": 16,
    "start_time": "2024-02-27T21:22:50.295Z"
   },
   {
    "duration": 8,
    "start_time": "2024-02-27T21:22:50.313Z"
   },
   {
    "duration": 20,
    "start_time": "2024-02-27T21:22:50.322Z"
   },
   {
    "duration": 9,
    "start_time": "2024-02-27T21:22:50.344Z"
   },
   {
    "duration": 10,
    "start_time": "2024-02-27T21:22:50.356Z"
   },
   {
    "duration": 4,
    "start_time": "2024-02-27T21:22:50.368Z"
   },
   {
    "duration": 26,
    "start_time": "2024-02-27T21:22:50.373Z"
   },
   {
    "duration": 11,
    "start_time": "2024-02-27T21:22:50.400Z"
   },
   {
    "duration": 7,
    "start_time": "2024-02-27T21:22:50.412Z"
   },
   {
    "duration": 9,
    "start_time": "2024-02-27T21:22:50.420Z"
   },
   {
    "duration": 5,
    "start_time": "2024-02-27T21:22:50.430Z"
   },
   {
    "duration": 14,
    "start_time": "2024-02-27T21:22:50.436Z"
   },
   {
    "duration": 5,
    "start_time": "2024-02-27T21:22:50.452Z"
   },
   {
    "duration": 8,
    "start_time": "2024-02-27T21:22:50.458Z"
   },
   {
    "duration": 8,
    "start_time": "2024-02-27T21:22:50.468Z"
   },
   {
    "duration": 39,
    "start_time": "2024-02-27T21:22:50.477Z"
   },
   {
    "duration": 176,
    "start_time": "2024-02-27T21:22:50.517Z"
   },
   {
    "duration": 21,
    "start_time": "2024-02-27T21:22:50.695Z"
   },
   {
    "duration": 149,
    "start_time": "2024-02-27T21:22:50.717Z"
   },
   {
    "duration": 8,
    "start_time": "2024-02-27T21:22:50.868Z"
   },
   {
    "duration": 293,
    "start_time": "2024-02-27T21:22:50.878Z"
   },
   {
    "duration": 9,
    "start_time": "2024-02-27T21:22:51.173Z"
   },
   {
    "duration": 312,
    "start_time": "2024-02-27T21:22:51.187Z"
   },
   {
    "duration": 14,
    "start_time": "2024-02-27T21:22:51.501Z"
   },
   {
    "duration": 285,
    "start_time": "2024-02-27T21:22:51.517Z"
   },
   {
    "duration": 25,
    "start_time": "2024-02-27T21:22:51.803Z"
   },
   {
    "duration": 16,
    "start_time": "2024-02-27T21:22:51.830Z"
   },
   {
    "duration": 11,
    "start_time": "2024-02-27T21:22:51.848Z"
   },
   {
    "duration": 10,
    "start_time": "2024-02-27T21:22:51.861Z"
   },
   {
    "duration": 36,
    "start_time": "2024-02-27T21:22:51.872Z"
   },
   {
    "duration": 17,
    "start_time": "2024-02-27T21:22:51.919Z"
   },
   {
    "duration": 15,
    "start_time": "2024-02-27T21:22:51.938Z"
   },
   {
    "duration": 15,
    "start_time": "2024-02-27T21:22:51.955Z"
   },
   {
    "duration": 12,
    "start_time": "2024-02-27T21:22:51.971Z"
   },
   {
    "duration": 39,
    "start_time": "2024-02-27T21:22:51.984Z"
   },
   {
    "duration": 3,
    "start_time": "2024-02-27T21:22:52.025Z"
   },
   {
    "duration": 10,
    "start_time": "2024-02-27T21:22:52.030Z"
   },
   {
    "duration": 11,
    "start_time": "2024-02-27T21:22:52.042Z"
   },
   {
    "duration": 223,
    "start_time": "2024-02-27T21:22:52.054Z"
   },
   {
    "duration": 5,
    "start_time": "2024-02-27T21:22:52.279Z"
   },
   {
    "duration": 306,
    "start_time": "2024-02-27T21:22:52.286Z"
   },
   {
    "duration": 117,
    "start_time": "2024-02-27T21:22:52.593Z"
   },
   {
    "duration": 43,
    "start_time": "2024-02-27T21:22:52.714Z"
   },
   {
    "duration": 1159,
    "start_time": "2024-02-27T21:25:45.541Z"
   },
   {
    "duration": 80,
    "start_time": "2024-02-27T21:25:46.703Z"
   },
   {
    "duration": 17,
    "start_time": "2024-02-27T21:25:46.785Z"
   },
   {
    "duration": 29,
    "start_time": "2024-02-27T21:25:46.804Z"
   },
   {
    "duration": 12,
    "start_time": "2024-02-27T21:25:46.835Z"
   },
   {
    "duration": 13,
    "start_time": "2024-02-27T21:25:46.849Z"
   },
   {
    "duration": 10,
    "start_time": "2024-02-27T21:25:46.863Z"
   },
   {
    "duration": 19,
    "start_time": "2024-02-27T21:25:46.877Z"
   },
   {
    "duration": 27,
    "start_time": "2024-02-27T21:25:46.898Z"
   },
   {
    "duration": 13,
    "start_time": "2024-02-27T21:25:46.929Z"
   },
   {
    "duration": 6,
    "start_time": "2024-02-27T21:25:46.944Z"
   },
   {
    "duration": 23,
    "start_time": "2024-02-27T21:25:46.951Z"
   },
   {
    "duration": 6,
    "start_time": "2024-02-27T21:25:46.976Z"
   },
   {
    "duration": 18,
    "start_time": "2024-02-27T21:25:46.983Z"
   },
   {
    "duration": 11,
    "start_time": "2024-02-27T21:25:47.014Z"
   },
   {
    "duration": 7,
    "start_time": "2024-02-27T21:25:47.027Z"
   },
   {
    "duration": 5,
    "start_time": "2024-02-27T21:25:47.036Z"
   },
   {
    "duration": 9,
    "start_time": "2024-02-27T21:25:47.043Z"
   },
   {
    "duration": 8,
    "start_time": "2024-02-27T21:25:47.054Z"
   },
   {
    "duration": 16,
    "start_time": "2024-02-27T21:25:47.064Z"
   },
   {
    "duration": 32,
    "start_time": "2024-02-27T21:25:47.082Z"
   },
   {
    "duration": 179,
    "start_time": "2024-02-27T21:25:47.116Z"
   },
   {
    "duration": 26,
    "start_time": "2024-02-27T21:25:47.297Z"
   },
   {
    "duration": 149,
    "start_time": "2024-02-27T21:25:47.325Z"
   },
   {
    "duration": 8,
    "start_time": "2024-02-27T21:25:47.476Z"
   },
   {
    "duration": 299,
    "start_time": "2024-02-27T21:25:47.486Z"
   },
   {
    "duration": 10,
    "start_time": "2024-02-27T21:25:47.787Z"
   },
   {
    "duration": 306,
    "start_time": "2024-02-27T21:25:47.800Z"
   },
   {
    "duration": 16,
    "start_time": "2024-02-27T21:25:48.108Z"
   },
   {
    "duration": 327,
    "start_time": "2024-02-27T21:25:48.126Z"
   },
   {
    "duration": 16,
    "start_time": "2024-02-27T21:25:48.455Z"
   },
   {
    "duration": 11,
    "start_time": "2024-02-27T21:25:48.472Z"
   },
   {
    "duration": 31,
    "start_time": "2024-02-27T21:25:48.484Z"
   },
   {
    "duration": 12,
    "start_time": "2024-02-27T21:25:48.517Z"
   },
   {
    "duration": 37,
    "start_time": "2024-02-27T21:25:48.531Z"
   },
   {
    "duration": 14,
    "start_time": "2024-02-27T21:25:48.570Z"
   },
   {
    "duration": 31,
    "start_time": "2024-02-27T21:25:48.586Z"
   },
   {
    "duration": 23,
    "start_time": "2024-02-27T21:25:48.618Z"
   },
   {
    "duration": 26,
    "start_time": "2024-02-27T21:25:48.643Z"
   },
   {
    "duration": 12,
    "start_time": "2024-02-27T21:25:48.670Z"
   },
   {
    "duration": 54,
    "start_time": "2024-02-27T21:25:48.683Z"
   },
   {
    "duration": 4,
    "start_time": "2024-02-27T21:25:48.739Z"
   },
   {
    "duration": 9,
    "start_time": "2024-02-27T21:25:48.744Z"
   },
   {
    "duration": 233,
    "start_time": "2024-02-27T21:25:48.755Z"
   },
   {
    "duration": 6,
    "start_time": "2024-02-27T21:25:48.990Z"
   },
   {
    "duration": 272,
    "start_time": "2024-02-27T21:25:48.998Z"
   },
   {
    "duration": 144,
    "start_time": "2024-02-27T21:25:49.271Z"
   },
   {
    "duration": 0,
    "start_time": "2024-02-27T21:25:49.417Z"
   },
   {
    "duration": 116,
    "start_time": "2024-02-27T21:26:05.454Z"
   },
   {
    "duration": 62,
    "start_time": "2024-02-27T21:26:37.507Z"
   },
   {
    "duration": 155,
    "start_time": "2024-02-27T21:36:43.511Z"
   },
   {
    "duration": 7,
    "start_time": "2024-02-27T21:37:08.186Z"
   },
   {
    "duration": 6,
    "start_time": "2024-02-27T21:37:59.619Z"
   },
   {
    "duration": 6,
    "start_time": "2024-02-27T21:38:28.063Z"
   },
   {
    "duration": 6,
    "start_time": "2024-02-27T21:38:30.293Z"
   },
   {
    "duration": 6,
    "start_time": "2024-02-27T21:39:23.545Z"
   },
   {
    "duration": 5,
    "start_time": "2024-02-27T21:51:54.935Z"
   },
   {
    "duration": 44,
    "start_time": "2024-02-27T21:59:08.336Z"
   },
   {
    "duration": 12,
    "start_time": "2024-02-27T21:59:41.606Z"
   },
   {
    "duration": 11,
    "start_time": "2024-02-27T22:01:20.560Z"
   },
   {
    "duration": 7,
    "start_time": "2024-02-27T22:01:33.807Z"
   },
   {
    "duration": 1127,
    "start_time": "2024-02-27T22:34:45.829Z"
   },
   {
    "duration": 69,
    "start_time": "2024-02-27T22:34:46.958Z"
   },
   {
    "duration": 11,
    "start_time": "2024-02-27T22:34:47.029Z"
   },
   {
    "duration": 10,
    "start_time": "2024-02-27T22:34:47.042Z"
   },
   {
    "duration": 19,
    "start_time": "2024-02-27T22:34:47.053Z"
   },
   {
    "duration": 17,
    "start_time": "2024-02-27T22:34:47.074Z"
   },
   {
    "duration": 7,
    "start_time": "2024-02-27T22:34:47.092Z"
   },
   {
    "duration": 9,
    "start_time": "2024-02-27T22:34:47.100Z"
   },
   {
    "duration": 6,
    "start_time": "2024-02-27T22:34:47.115Z"
   },
   {
    "duration": 14,
    "start_time": "2024-02-27T22:34:47.123Z"
   },
   {
    "duration": 5,
    "start_time": "2024-02-27T22:34:47.139Z"
   },
   {
    "duration": 10,
    "start_time": "2024-02-27T22:34:47.145Z"
   },
   {
    "duration": 20,
    "start_time": "2024-02-27T22:34:47.157Z"
   },
   {
    "duration": 16,
    "start_time": "2024-02-27T22:34:47.178Z"
   },
   {
    "duration": 9,
    "start_time": "2024-02-27T22:34:47.195Z"
   },
   {
    "duration": 13,
    "start_time": "2024-02-27T22:34:47.205Z"
   },
   {
    "duration": 4,
    "start_time": "2024-02-27T22:34:47.219Z"
   },
   {
    "duration": 9,
    "start_time": "2024-02-27T22:34:47.225Z"
   },
   {
    "duration": 8,
    "start_time": "2024-02-27T22:34:47.235Z"
   },
   {
    "duration": 4,
    "start_time": "2024-02-27T22:34:47.244Z"
   },
   {
    "duration": 15,
    "start_time": "2024-02-27T22:34:47.249Z"
   },
   {
    "duration": 186,
    "start_time": "2024-02-27T22:34:47.266Z"
   },
   {
    "duration": 11,
    "start_time": "2024-02-27T22:34:47.453Z"
   },
   {
    "duration": 147,
    "start_time": "2024-02-27T22:34:47.466Z"
   },
   {
    "duration": 8,
    "start_time": "2024-02-27T22:34:47.614Z"
   },
   {
    "duration": 273,
    "start_time": "2024-02-27T22:34:47.623Z"
   },
   {
    "duration": 22,
    "start_time": "2024-02-27T22:34:47.898Z"
   },
   {
    "duration": 300,
    "start_time": "2024-02-27T22:34:47.925Z"
   },
   {
    "duration": 8,
    "start_time": "2024-02-27T22:34:48.227Z"
   },
   {
    "duration": 278,
    "start_time": "2024-02-27T22:34:48.236Z"
   },
   {
    "duration": 15,
    "start_time": "2024-02-27T22:34:48.516Z"
   },
   {
    "duration": 10,
    "start_time": "2024-02-27T22:34:48.533Z"
   },
   {
    "duration": 11,
    "start_time": "2024-02-27T22:34:48.544Z"
   },
   {
    "duration": 9,
    "start_time": "2024-02-27T22:34:48.557Z"
   },
   {
    "duration": 50,
    "start_time": "2024-02-27T22:34:48.567Z"
   },
   {
    "duration": 14,
    "start_time": "2024-02-27T22:34:48.619Z"
   },
   {
    "duration": 17,
    "start_time": "2024-02-27T22:34:48.634Z"
   },
   {
    "duration": 15,
    "start_time": "2024-02-27T22:34:48.652Z"
   },
   {
    "duration": 23,
    "start_time": "2024-02-27T22:34:48.668Z"
   },
   {
    "duration": 29,
    "start_time": "2024-02-27T22:34:48.693Z"
   },
   {
    "duration": 4,
    "start_time": "2024-02-27T22:34:48.723Z"
   },
   {
    "duration": 8,
    "start_time": "2024-02-27T22:34:48.728Z"
   },
   {
    "duration": 211,
    "start_time": "2024-02-27T22:34:48.737Z"
   },
   {
    "duration": 266,
    "start_time": "2024-02-27T22:34:48.949Z"
   },
   {
    "duration": 118,
    "start_time": "2024-02-27T22:34:49.217Z"
   },
   {
    "duration": 54,
    "start_time": "2024-02-27T22:34:49.336Z"
   },
   {
    "duration": 5,
    "start_time": "2024-02-27T22:34:49.391Z"
   },
   {
    "duration": 19,
    "start_time": "2024-02-27T22:34:49.398Z"
   },
   {
    "duration": 21,
    "start_time": "2024-02-27T22:34:49.418Z"
   },
   {
    "duration": 47,
    "start_time": "2024-02-28T10:38:24.514Z"
   },
   {
    "duration": 1133,
    "start_time": "2024-02-28T10:38:30.177Z"
   },
   {
    "duration": 197,
    "start_time": "2024-02-28T10:38:31.311Z"
   },
   {
    "duration": 11,
    "start_time": "2024-02-28T10:38:31.509Z"
   },
   {
    "duration": 67,
    "start_time": "2024-02-28T10:38:31.521Z"
   },
   {
    "duration": 72,
    "start_time": "2024-02-28T10:38:31.590Z"
   },
   {
    "duration": 54,
    "start_time": "2024-02-28T10:38:31.664Z"
   },
   {
    "duration": 49,
    "start_time": "2024-02-28T10:38:31.721Z"
   },
   {
    "duration": 36,
    "start_time": "2024-02-28T10:38:31.771Z"
   },
   {
    "duration": 49,
    "start_time": "2024-02-28T10:38:31.809Z"
   },
   {
    "duration": 49,
    "start_time": "2024-02-28T10:38:31.860Z"
   },
   {
    "duration": 31,
    "start_time": "2024-02-28T10:38:31.911Z"
   },
   {
    "duration": 40,
    "start_time": "2024-02-28T10:38:31.944Z"
   },
   {
    "duration": 20,
    "start_time": "2024-02-28T10:38:31.986Z"
   },
   {
    "duration": 22,
    "start_time": "2024-02-28T10:38:32.009Z"
   },
   {
    "duration": 7,
    "start_time": "2024-02-28T10:38:32.033Z"
   },
   {
    "duration": 10,
    "start_time": "2024-02-28T10:38:32.041Z"
   },
   {
    "duration": 11,
    "start_time": "2024-02-28T10:38:32.052Z"
   },
   {
    "duration": 15,
    "start_time": "2024-02-28T10:38:32.065Z"
   },
   {
    "duration": 9,
    "start_time": "2024-02-28T10:38:32.082Z"
   },
   {
    "duration": 4,
    "start_time": "2024-02-28T10:38:32.093Z"
   },
   {
    "duration": 49,
    "start_time": "2024-02-28T10:38:32.098Z"
   },
   {
    "duration": 164,
    "start_time": "2024-02-28T10:38:32.148Z"
   },
   {
    "duration": 11,
    "start_time": "2024-02-28T10:38:32.314Z"
   },
   {
    "duration": 143,
    "start_time": "2024-02-28T10:38:32.327Z"
   },
   {
    "duration": 8,
    "start_time": "2024-02-28T10:38:32.471Z"
   },
   {
    "duration": 270,
    "start_time": "2024-02-28T10:38:32.480Z"
   },
   {
    "duration": 16,
    "start_time": "2024-02-28T10:38:32.752Z"
   },
   {
    "duration": 273,
    "start_time": "2024-02-28T10:38:32.770Z"
   },
   {
    "duration": 8,
    "start_time": "2024-02-28T10:38:33.045Z"
   },
   {
    "duration": 292,
    "start_time": "2024-02-28T10:38:33.065Z"
   },
   {
    "duration": 20,
    "start_time": "2024-02-28T10:38:33.359Z"
   },
   {
    "duration": 20,
    "start_time": "2024-02-28T10:38:33.380Z"
   },
   {
    "duration": 40,
    "start_time": "2024-02-28T10:38:33.402Z"
   },
   {
    "duration": 46,
    "start_time": "2024-02-28T10:38:33.443Z"
   },
   {
    "duration": 35,
    "start_time": "2024-02-28T10:38:33.491Z"
   },
   {
    "duration": 30,
    "start_time": "2024-02-28T10:38:33.528Z"
   },
   {
    "duration": 40,
    "start_time": "2024-02-28T10:38:33.560Z"
   },
   {
    "duration": 38,
    "start_time": "2024-02-28T10:38:33.601Z"
   },
   {
    "duration": 93,
    "start_time": "2024-02-28T10:38:33.640Z"
   },
   {
    "duration": 24,
    "start_time": "2024-02-28T10:38:33.735Z"
   },
   {
    "duration": 17,
    "start_time": "2024-02-28T10:38:33.763Z"
   },
   {
    "duration": 23,
    "start_time": "2024-02-28T10:38:33.782Z"
   },
   {
    "duration": 214,
    "start_time": "2024-02-28T10:38:33.806Z"
   },
   {
    "duration": 251,
    "start_time": "2024-02-28T10:38:34.022Z"
   },
   {
    "duration": 112,
    "start_time": "2024-02-28T10:38:34.274Z"
   },
   {
    "duration": 56,
    "start_time": "2024-02-28T10:38:34.387Z"
   },
   {
    "duration": 26,
    "start_time": "2024-02-28T10:38:34.445Z"
   },
   {
    "duration": 19,
    "start_time": "2024-02-28T10:38:34.472Z"
   },
   {
    "duration": 7,
    "start_time": "2024-02-28T10:38:34.492Z"
   },
   {
    "duration": 30,
    "start_time": "2024-02-28T10:38:34.501Z"
   },
   {
    "duration": 22,
    "start_time": "2024-02-28T10:39:20.633Z"
   },
   {
    "duration": 12,
    "start_time": "2024-02-28T10:42:14.382Z"
   },
   {
    "duration": 17,
    "start_time": "2024-02-28T10:42:24.394Z"
   },
   {
    "duration": 15,
    "start_time": "2024-02-28T10:44:54.324Z"
   },
   {
    "duration": 17,
    "start_time": "2024-02-28T10:44:58.268Z"
   },
   {
    "duration": 4,
    "start_time": "2024-02-28T10:46:22.927Z"
   },
   {
    "duration": 1072,
    "start_time": "2024-02-28T11:00:50.549Z"
   },
   {
    "duration": 71,
    "start_time": "2024-02-28T11:00:51.623Z"
   },
   {
    "duration": 12,
    "start_time": "2024-02-28T11:00:51.695Z"
   },
   {
    "duration": 18,
    "start_time": "2024-02-28T11:00:51.708Z"
   },
   {
    "duration": 14,
    "start_time": "2024-02-28T11:00:51.727Z"
   },
   {
    "duration": 12,
    "start_time": "2024-02-28T11:00:51.742Z"
   },
   {
    "duration": 23,
    "start_time": "2024-02-28T11:00:51.756Z"
   },
   {
    "duration": 14,
    "start_time": "2024-02-28T11:00:51.781Z"
   },
   {
    "duration": 24,
    "start_time": "2024-02-28T11:00:51.796Z"
   },
   {
    "duration": 27,
    "start_time": "2024-02-28T11:00:51.821Z"
   },
   {
    "duration": 24,
    "start_time": "2024-02-28T11:00:51.850Z"
   },
   {
    "duration": 16,
    "start_time": "2024-02-28T11:00:51.876Z"
   },
   {
    "duration": 48,
    "start_time": "2024-02-28T11:00:51.893Z"
   },
   {
    "duration": 38,
    "start_time": "2024-02-28T11:00:51.944Z"
   },
   {
    "duration": 7,
    "start_time": "2024-02-28T11:00:51.984Z"
   },
   {
    "duration": 13,
    "start_time": "2024-02-28T11:00:51.993Z"
   },
   {
    "duration": 6,
    "start_time": "2024-02-28T11:00:52.007Z"
   },
   {
    "duration": 10,
    "start_time": "2024-02-28T11:00:52.014Z"
   },
   {
    "duration": 19,
    "start_time": "2024-02-28T11:00:52.025Z"
   },
   {
    "duration": 4,
    "start_time": "2024-02-28T11:00:52.045Z"
   },
   {
    "duration": 16,
    "start_time": "2024-02-28T11:00:52.051Z"
   },
   {
    "duration": 175,
    "start_time": "2024-02-28T11:00:52.069Z"
   },
   {
    "duration": 21,
    "start_time": "2024-02-28T11:00:52.246Z"
   },
   {
    "duration": 157,
    "start_time": "2024-02-28T11:00:52.269Z"
   },
   {
    "duration": 7,
    "start_time": "2024-02-28T11:00:52.428Z"
   },
   {
    "duration": 284,
    "start_time": "2024-02-28T11:00:52.437Z"
   },
   {
    "duration": 8,
    "start_time": "2024-02-28T11:00:52.722Z"
   },
   {
    "duration": 268,
    "start_time": "2024-02-28T11:00:52.732Z"
   },
   {
    "duration": 10,
    "start_time": "2024-02-28T11:00:53.002Z"
   },
   {
    "duration": 270,
    "start_time": "2024-02-28T11:00:53.014Z"
   },
   {
    "duration": 15,
    "start_time": "2024-02-28T11:00:53.286Z"
   },
   {
    "duration": 66,
    "start_time": "2024-02-28T11:00:53.303Z"
   },
   {
    "duration": 52,
    "start_time": "2024-02-28T11:00:53.371Z"
   },
   {
    "duration": 10,
    "start_time": "2024-02-28T11:00:53.425Z"
   },
   {
    "duration": 35,
    "start_time": "2024-02-28T11:00:53.436Z"
   },
   {
    "duration": 20,
    "start_time": "2024-02-28T11:00:53.473Z"
   },
   {
    "duration": 21,
    "start_time": "2024-02-28T11:00:53.495Z"
   },
   {
    "duration": 14,
    "start_time": "2024-02-28T11:00:53.518Z"
   },
   {
    "duration": 11,
    "start_time": "2024-02-28T11:00:53.534Z"
   },
   {
    "duration": 28,
    "start_time": "2024-02-28T11:00:53.547Z"
   },
   {
    "duration": 8,
    "start_time": "2024-02-28T11:00:53.578Z"
   },
   {
    "duration": 8,
    "start_time": "2024-02-28T11:00:53.587Z"
   },
   {
    "duration": 227,
    "start_time": "2024-02-28T11:00:53.596Z"
   },
   {
    "duration": 265,
    "start_time": "2024-02-28T11:00:53.825Z"
   },
   {
    "duration": 114,
    "start_time": "2024-02-28T11:00:54.092Z"
   },
   {
    "duration": 61,
    "start_time": "2024-02-28T11:00:54.208Z"
   },
   {
    "duration": 4,
    "start_time": "2024-02-28T11:00:54.270Z"
   },
   {
    "duration": 9,
    "start_time": "2024-02-28T11:00:54.275Z"
   },
   {
    "duration": 8,
    "start_time": "2024-02-28T11:00:54.286Z"
   },
   {
    "duration": 14,
    "start_time": "2024-02-28T11:00:54.295Z"
   },
   {
    "duration": 72,
    "start_time": "2024-02-28T11:02:00.535Z"
   },
   {
    "duration": 14,
    "start_time": "2024-02-28T11:02:04.888Z"
   },
   {
    "duration": 1126,
    "start_time": "2024-02-28T11:02:25.883Z"
   },
   {
    "duration": 69,
    "start_time": "2024-02-28T11:02:27.011Z"
   },
   {
    "duration": 10,
    "start_time": "2024-02-28T11:02:27.082Z"
   },
   {
    "duration": 18,
    "start_time": "2024-02-28T11:02:27.094Z"
   },
   {
    "duration": 22,
    "start_time": "2024-02-28T11:02:27.113Z"
   },
   {
    "duration": 29,
    "start_time": "2024-02-28T11:02:27.137Z"
   },
   {
    "duration": 61,
    "start_time": "2024-02-28T11:02:27.167Z"
   },
   {
    "duration": 29,
    "start_time": "2024-02-28T11:02:27.229Z"
   },
   {
    "duration": 13,
    "start_time": "2024-02-28T11:02:27.259Z"
   },
   {
    "duration": 18,
    "start_time": "2024-02-28T11:02:27.274Z"
   },
   {
    "duration": 12,
    "start_time": "2024-02-28T11:02:27.293Z"
   },
   {
    "duration": 18,
    "start_time": "2024-02-28T11:02:27.306Z"
   },
   {
    "duration": 12,
    "start_time": "2024-02-28T11:02:27.325Z"
   },
   {
    "duration": 12,
    "start_time": "2024-02-28T11:02:27.338Z"
   },
   {
    "duration": 6,
    "start_time": "2024-02-28T11:02:27.352Z"
   },
   {
    "duration": 16,
    "start_time": "2024-02-28T11:02:27.359Z"
   },
   {
    "duration": 7,
    "start_time": "2024-02-28T11:02:27.377Z"
   },
   {
    "duration": 14,
    "start_time": "2024-02-28T11:02:27.386Z"
   },
   {
    "duration": 15,
    "start_time": "2024-02-28T11:02:27.402Z"
   },
   {
    "duration": 11,
    "start_time": "2024-02-28T11:02:27.418Z"
   },
   {
    "duration": 24,
    "start_time": "2024-02-28T11:02:27.430Z"
   },
   {
    "duration": 160,
    "start_time": "2024-02-28T11:02:27.456Z"
   },
   {
    "duration": 11,
    "start_time": "2024-02-28T11:02:27.618Z"
   },
   {
    "duration": 142,
    "start_time": "2024-02-28T11:02:27.631Z"
   },
   {
    "duration": 7,
    "start_time": "2024-02-28T11:02:27.775Z"
   },
   {
    "duration": 275,
    "start_time": "2024-02-28T11:02:27.784Z"
   },
   {
    "duration": 9,
    "start_time": "2024-02-28T11:02:28.061Z"
   },
   {
    "duration": 269,
    "start_time": "2024-02-28T11:02:28.074Z"
   },
   {
    "duration": 8,
    "start_time": "2024-02-28T11:02:28.344Z"
   },
   {
    "duration": 265,
    "start_time": "2024-02-28T11:02:28.354Z"
   },
   {
    "duration": 15,
    "start_time": "2024-02-28T11:02:28.620Z"
   },
   {
    "duration": 10,
    "start_time": "2024-02-28T11:02:28.637Z"
   },
   {
    "duration": 11,
    "start_time": "2024-02-28T11:02:28.665Z"
   },
   {
    "duration": 13,
    "start_time": "2024-02-28T11:02:28.677Z"
   },
   {
    "duration": 26,
    "start_time": "2024-02-28T11:02:28.692Z"
   },
   {
    "duration": 28,
    "start_time": "2024-02-28T11:02:28.719Z"
   },
   {
    "duration": 24,
    "start_time": "2024-02-28T11:02:28.749Z"
   },
   {
    "duration": 13,
    "start_time": "2024-02-28T11:02:28.775Z"
   },
   {
    "duration": 11,
    "start_time": "2024-02-28T11:02:28.790Z"
   },
   {
    "duration": 10,
    "start_time": "2024-02-28T11:02:28.802Z"
   },
   {
    "duration": 12,
    "start_time": "2024-02-28T11:02:28.813Z"
   },
   {
    "duration": 6,
    "start_time": "2024-02-28T11:02:28.826Z"
   },
   {
    "duration": 215,
    "start_time": "2024-02-28T11:02:28.834Z"
   },
   {
    "duration": 271,
    "start_time": "2024-02-28T11:02:29.050Z"
   },
   {
    "duration": 122,
    "start_time": "2024-02-28T11:02:29.323Z"
   },
   {
    "duration": 73,
    "start_time": "2024-02-28T11:02:29.447Z"
   },
   {
    "duration": 4,
    "start_time": "2024-02-28T11:02:29.522Z"
   },
   {
    "duration": 10,
    "start_time": "2024-02-28T11:02:29.528Z"
   },
   {
    "duration": 6,
    "start_time": "2024-02-28T11:02:29.540Z"
   },
   {
    "duration": 26,
    "start_time": "2024-02-28T11:02:29.548Z"
   },
   {
    "duration": 8,
    "start_time": "2024-02-28T19:49:42.483Z"
   },
   {
    "duration": 3,
    "start_time": "2024-02-28T19:49:46.067Z"
   },
   {
    "duration": 43,
    "start_time": "2024-02-28T19:52:04.349Z"
   },
   {
    "duration": 3,
    "start_time": "2024-02-28T19:52:17.442Z"
   },
   {
    "duration": 5,
    "start_time": "2024-02-28T19:52:18.709Z"
   },
   {
    "duration": 1359,
    "start_time": "2024-02-28T19:52:29.345Z"
   },
   {
    "duration": 209,
    "start_time": "2024-02-28T19:52:30.706Z"
   },
   {
    "duration": 3,
    "start_time": "2024-02-28T19:52:30.918Z"
   },
   {
    "duration": 76,
    "start_time": "2024-02-28T19:52:30.923Z"
   },
   {
    "duration": 65,
    "start_time": "2024-02-28T19:52:31.000Z"
   },
   {
    "duration": 24,
    "start_time": "2024-02-28T19:52:31.067Z"
   },
   {
    "duration": 25,
    "start_time": "2024-02-28T19:52:31.093Z"
   },
   {
    "duration": 43,
    "start_time": "2024-02-28T19:52:31.119Z"
   },
   {
    "duration": 40,
    "start_time": "2024-02-28T19:52:31.164Z"
   },
   {
    "duration": 44,
    "start_time": "2024-02-28T19:52:31.207Z"
   },
   {
    "duration": 27,
    "start_time": "2024-02-28T19:52:31.253Z"
   },
   {
    "duration": 23,
    "start_time": "2024-02-28T19:52:31.282Z"
   },
   {
    "duration": 16,
    "start_time": "2024-02-28T19:52:31.306Z"
   },
   {
    "duration": 21,
    "start_time": "2024-02-28T19:52:31.324Z"
   },
   {
    "duration": 20,
    "start_time": "2024-02-28T19:52:31.346Z"
   },
   {
    "duration": 17,
    "start_time": "2024-02-28T19:52:31.367Z"
   },
   {
    "duration": 11,
    "start_time": "2024-02-28T19:52:31.386Z"
   },
   {
    "duration": 24,
    "start_time": "2024-02-28T19:52:31.399Z"
   },
   {
    "duration": 16,
    "start_time": "2024-02-28T19:52:31.425Z"
   },
   {
    "duration": 35,
    "start_time": "2024-02-28T19:52:31.443Z"
   },
   {
    "duration": 27,
    "start_time": "2024-02-28T19:52:31.479Z"
   },
   {
    "duration": 5,
    "start_time": "2024-02-28T19:52:31.508Z"
   },
   {
    "duration": 46,
    "start_time": "2024-02-28T19:52:31.514Z"
   },
   {
    "duration": 178,
    "start_time": "2024-02-28T19:52:31.561Z"
   },
   {
    "duration": 12,
    "start_time": "2024-02-28T19:52:31.741Z"
   },
   {
    "duration": 150,
    "start_time": "2024-02-28T19:52:31.754Z"
   },
   {
    "duration": 14,
    "start_time": "2024-02-28T19:52:31.905Z"
   },
   {
    "duration": 285,
    "start_time": "2024-02-28T19:52:31.923Z"
   },
   {
    "duration": 8,
    "start_time": "2024-02-28T19:52:32.214Z"
   },
   {
    "duration": 297,
    "start_time": "2024-02-28T19:52:32.224Z"
   },
   {
    "duration": 9,
    "start_time": "2024-02-28T19:52:32.522Z"
   },
   {
    "duration": 278,
    "start_time": "2024-02-28T19:52:32.532Z"
   },
   {
    "duration": 16,
    "start_time": "2024-02-28T19:52:32.812Z"
   },
   {
    "duration": 11,
    "start_time": "2024-02-28T19:52:32.830Z"
   },
   {
    "duration": 11,
    "start_time": "2024-02-28T19:52:32.843Z"
   },
   {
    "duration": 10,
    "start_time": "2024-02-28T19:52:32.856Z"
   },
   {
    "duration": 48,
    "start_time": "2024-02-28T19:52:32.867Z"
   },
   {
    "duration": 15,
    "start_time": "2024-02-28T19:52:32.916Z"
   },
   {
    "duration": 17,
    "start_time": "2024-02-28T19:52:32.933Z"
   },
   {
    "duration": 15,
    "start_time": "2024-02-28T19:52:32.952Z"
   },
   {
    "duration": 13,
    "start_time": "2024-02-28T19:52:32.969Z"
   },
   {
    "duration": 13,
    "start_time": "2024-02-28T19:52:33.015Z"
   },
   {
    "duration": 4,
    "start_time": "2024-02-28T19:52:33.029Z"
   },
   {
    "duration": 6,
    "start_time": "2024-02-28T19:52:33.035Z"
   },
   {
    "duration": 215,
    "start_time": "2024-02-28T19:52:33.042Z"
   },
   {
    "duration": 271,
    "start_time": "2024-02-28T19:52:33.259Z"
   },
   {
    "duration": 131,
    "start_time": "2024-02-28T19:52:33.532Z"
   },
   {
    "duration": 64,
    "start_time": "2024-02-28T19:52:33.665Z"
   },
   {
    "duration": 4,
    "start_time": "2024-02-28T19:52:33.731Z"
   },
   {
    "duration": 8,
    "start_time": "2024-02-28T19:52:33.737Z"
   },
   {
    "duration": 6,
    "start_time": "2024-02-28T19:52:33.747Z"
   },
   {
    "duration": 12,
    "start_time": "2024-02-28T19:52:33.755Z"
   },
   {
    "duration": 3,
    "start_time": "2024-02-28T19:53:14.830Z"
   },
   {
    "duration": 17,
    "start_time": "2024-02-28T19:53:15.223Z"
   },
   {
    "duration": 2,
    "start_time": "2024-02-28T19:53:40.199Z"
   },
   {
    "duration": 16,
    "start_time": "2024-02-28T19:53:40.692Z"
   },
   {
    "duration": 16,
    "start_time": "2024-02-28T19:54:10.671Z"
   },
   {
    "duration": 15,
    "start_time": "2024-02-28T19:54:35.744Z"
   },
   {
    "duration": 127,
    "start_time": "2024-02-28T19:57:37.402Z"
   },
   {
    "duration": 87,
    "start_time": "2024-02-28T19:58:02.484Z"
   },
   {
    "duration": 87,
    "start_time": "2024-02-28T19:58:19.388Z"
   },
   {
    "duration": 85,
    "start_time": "2024-02-28T19:58:24.885Z"
   },
   {
    "duration": 156,
    "start_time": "2024-02-28T19:58:37.747Z"
   },
   {
    "duration": 115,
    "start_time": "2024-02-28T19:58:45.033Z"
   },
   {
    "duration": 97,
    "start_time": "2024-02-28T19:58:51.255Z"
   },
   {
    "duration": 86,
    "start_time": "2024-02-28T19:59:17.446Z"
   },
   {
    "duration": 138,
    "start_time": "2024-02-28T19:59:38.160Z"
   },
   {
    "duration": 94,
    "start_time": "2024-02-28T19:59:46.143Z"
   },
   {
    "duration": 14,
    "start_time": "2024-02-28T19:59:54.437Z"
   },
   {
    "duration": 90,
    "start_time": "2024-02-28T19:59:57.549Z"
   },
   {
    "duration": 91,
    "start_time": "2024-02-28T20:00:49.346Z"
   },
   {
    "duration": 87,
    "start_time": "2024-02-28T20:01:02.883Z"
   },
   {
    "duration": 53,
    "start_time": "2024-02-29T08:37:58.084Z"
   },
   {
    "duration": 1417,
    "start_time": "2024-02-29T08:39:36.464Z"
   },
   {
    "duration": 294,
    "start_time": "2024-02-29T08:39:37.883Z"
   },
   {
    "duration": 3,
    "start_time": "2024-02-29T08:39:38.179Z"
   },
   {
    "duration": 25,
    "start_time": "2024-02-29T08:39:38.184Z"
   },
   {
    "duration": 16,
    "start_time": "2024-02-29T08:39:38.210Z"
   },
   {
    "duration": 13,
    "start_time": "2024-02-29T08:39:38.228Z"
   },
   {
    "duration": 7,
    "start_time": "2024-02-29T08:39:38.243Z"
   },
   {
    "duration": 16,
    "start_time": "2024-02-29T08:39:38.281Z"
   },
   {
    "duration": 5,
    "start_time": "2024-02-29T08:39:38.298Z"
   },
   {
    "duration": 11,
    "start_time": "2024-02-29T08:39:38.305Z"
   },
   {
    "duration": 12,
    "start_time": "2024-02-29T08:39:38.317Z"
   },
   {
    "duration": 16,
    "start_time": "2024-02-29T08:39:38.330Z"
   },
   {
    "duration": 7,
    "start_time": "2024-02-29T08:39:38.348Z"
   },
   {
    "duration": 25,
    "start_time": "2024-02-29T08:39:38.356Z"
   },
   {
    "duration": 5,
    "start_time": "2024-02-29T08:39:38.383Z"
   },
   {
    "duration": 12,
    "start_time": "2024-02-29T08:39:38.389Z"
   },
   {
    "duration": 11,
    "start_time": "2024-02-29T08:39:38.403Z"
   },
   {
    "duration": 4,
    "start_time": "2024-02-29T08:39:38.416Z"
   },
   {
    "duration": 16,
    "start_time": "2024-02-29T08:39:38.422Z"
   },
   {
    "duration": 200,
    "start_time": "2024-02-29T08:39:38.439Z"
   },
   {
    "duration": 13,
    "start_time": "2024-02-29T08:39:38.640Z"
   },
   {
    "duration": 171,
    "start_time": "2024-02-29T08:39:38.655Z"
   },
   {
    "duration": 8,
    "start_time": "2024-02-29T08:39:38.827Z"
   },
   {
    "duration": 293,
    "start_time": "2024-02-29T08:39:38.836Z"
   },
   {
    "duration": 8,
    "start_time": "2024-02-29T08:39:39.131Z"
   },
   {
    "duration": 301,
    "start_time": "2024-02-29T08:39:39.141Z"
   },
   {
    "duration": 8,
    "start_time": "2024-02-29T08:39:39.444Z"
   },
   {
    "duration": 296,
    "start_time": "2024-02-29T08:39:39.456Z"
   },
   {
    "duration": 17,
    "start_time": "2024-02-29T08:39:39.753Z"
   },
   {
    "duration": 11,
    "start_time": "2024-02-29T08:39:39.779Z"
   },
   {
    "duration": 18,
    "start_time": "2024-02-29T08:39:39.791Z"
   },
   {
    "duration": 10,
    "start_time": "2024-02-29T08:39:39.811Z"
   },
   {
    "duration": 32,
    "start_time": "2024-02-29T08:39:39.822Z"
   },
   {
    "duration": 25,
    "start_time": "2024-02-29T08:39:39.856Z"
   },
   {
    "duration": 17,
    "start_time": "2024-02-29T08:39:39.883Z"
   },
   {
    "duration": 15,
    "start_time": "2024-02-29T08:39:39.901Z"
   },
   {
    "duration": 13,
    "start_time": "2024-02-29T08:39:39.918Z"
   },
   {
    "duration": 12,
    "start_time": "2024-02-29T08:39:39.932Z"
   },
   {
    "duration": 35,
    "start_time": "2024-02-29T08:39:39.946Z"
   },
   {
    "duration": 13,
    "start_time": "2024-02-29T08:39:39.983Z"
   },
   {
    "duration": 224,
    "start_time": "2024-02-29T08:39:39.998Z"
   },
   {
    "duration": 292,
    "start_time": "2024-02-29T08:39:40.224Z"
   },
   {
    "duration": 128,
    "start_time": "2024-02-29T08:39:40.518Z"
   },
   {
    "duration": 72,
    "start_time": "2024-02-29T08:39:40.647Z"
   },
   {
    "duration": 5,
    "start_time": "2024-02-29T08:39:40.720Z"
   },
   {
    "duration": 6,
    "start_time": "2024-02-29T08:39:40.726Z"
   },
   {
    "duration": 6,
    "start_time": "2024-02-29T08:39:40.734Z"
   },
   {
    "duration": 12,
    "start_time": "2024-02-29T08:39:40.741Z"
   },
   {
    "duration": 152,
    "start_time": "2024-02-29T08:39:59.875Z"
   },
   {
    "duration": 145,
    "start_time": "2024-02-29T08:40:05.268Z"
   },
   {
    "duration": 107,
    "start_time": "2024-02-29T08:40:31.585Z"
   },
   {
    "duration": 105,
    "start_time": "2024-02-29T08:40:39.844Z"
   },
   {
    "duration": 106,
    "start_time": "2024-02-29T09:00:50.783Z"
   },
   {
    "duration": 12,
    "start_time": "2024-02-29T09:00:54.479Z"
   },
   {
    "duration": 8,
    "start_time": "2024-02-29T09:00:55.004Z"
   },
   {
    "duration": 6,
    "start_time": "2024-02-29T09:16:44.293Z"
   },
   {
    "duration": 9,
    "start_time": "2024-02-29T09:16:52.108Z"
   },
   {
    "duration": 12,
    "start_time": "2024-02-29T09:18:35.605Z"
   },
   {
    "duration": 101,
    "start_time": "2024-02-29T09:19:25.875Z"
   },
   {
    "duration": 106,
    "start_time": "2024-02-29T09:19:31.826Z"
   },
   {
    "duration": 10,
    "start_time": "2024-02-29T09:19:38.986Z"
   },
   {
    "duration": 3,
    "start_time": "2024-02-29T09:22:32.876Z"
   },
   {
    "duration": 9,
    "start_time": "2024-02-29T09:22:39.265Z"
   },
   {
    "duration": 1121,
    "start_time": "2024-02-29T09:23:13.330Z"
   },
   {
    "duration": 69,
    "start_time": "2024-02-29T09:23:14.454Z"
   },
   {
    "duration": 5,
    "start_time": "2024-02-29T09:23:14.524Z"
   },
   {
    "duration": 43,
    "start_time": "2024-02-29T09:23:14.531Z"
   },
   {
    "duration": 19,
    "start_time": "2024-02-29T09:23:14.575Z"
   },
   {
    "duration": 43,
    "start_time": "2024-02-29T09:23:14.596Z"
   },
   {
    "duration": 34,
    "start_time": "2024-02-29T09:23:14.641Z"
   },
   {
    "duration": 22,
    "start_time": "2024-02-29T09:23:14.677Z"
   },
   {
    "duration": 11,
    "start_time": "2024-02-29T09:23:14.701Z"
   },
   {
    "duration": 32,
    "start_time": "2024-02-29T09:23:14.715Z"
   },
   {
    "duration": 13,
    "start_time": "2024-02-29T09:23:14.749Z"
   },
   {
    "duration": 14,
    "start_time": "2024-02-29T09:23:14.764Z"
   },
   {
    "duration": 6,
    "start_time": "2024-02-29T09:23:14.779Z"
   },
   {
    "duration": 10,
    "start_time": "2024-02-29T09:23:14.787Z"
   },
   {
    "duration": 18,
    "start_time": "2024-02-29T09:23:14.798Z"
   },
   {
    "duration": 23,
    "start_time": "2024-02-29T09:23:14.818Z"
   },
   {
    "duration": 12,
    "start_time": "2024-02-29T09:23:14.843Z"
   },
   {
    "duration": 18,
    "start_time": "2024-02-29T09:23:14.857Z"
   },
   {
    "duration": 16,
    "start_time": "2024-02-29T09:23:14.877Z"
   },
   {
    "duration": 11,
    "start_time": "2024-02-29T09:23:14.894Z"
   },
   {
    "duration": 176,
    "start_time": "2024-02-29T09:23:14.906Z"
   },
   {
    "duration": 12,
    "start_time": "2024-02-29T09:23:15.084Z"
   },
   {
    "duration": 146,
    "start_time": "2024-02-29T09:23:15.097Z"
   },
   {
    "duration": 8,
    "start_time": "2024-02-29T09:23:15.244Z"
   },
   {
    "duration": 317,
    "start_time": "2024-02-29T09:23:15.253Z"
   },
   {
    "duration": 15,
    "start_time": "2024-02-29T09:23:15.572Z"
   },
   {
    "duration": 354,
    "start_time": "2024-02-29T09:23:15.588Z"
   },
   {
    "duration": 9,
    "start_time": "2024-02-29T09:23:15.945Z"
   },
   {
    "duration": 342,
    "start_time": "2024-02-29T09:23:15.956Z"
   },
   {
    "duration": 16,
    "start_time": "2024-02-29T09:23:16.300Z"
   },
   {
    "duration": 16,
    "start_time": "2024-02-29T09:23:16.317Z"
   },
   {
    "duration": 151,
    "start_time": "2024-02-29T09:23:16.334Z"
   },
   {
    "duration": 44,
    "start_time": "2024-02-29T09:23:16.488Z"
   },
   {
    "duration": 38,
    "start_time": "2024-02-29T09:23:16.537Z"
   },
   {
    "duration": 44,
    "start_time": "2024-02-29T09:23:16.577Z"
   },
   {
    "duration": 34,
    "start_time": "2024-02-29T09:23:16.622Z"
   },
   {
    "duration": 29,
    "start_time": "2024-02-29T09:23:16.658Z"
   },
   {
    "duration": 13,
    "start_time": "2024-02-29T09:23:16.689Z"
   },
   {
    "duration": 45,
    "start_time": "2024-02-29T09:23:16.704Z"
   },
   {
    "duration": 22,
    "start_time": "2024-02-29T09:23:16.751Z"
   },
   {
    "duration": 27,
    "start_time": "2024-02-29T09:23:16.775Z"
   },
   {
    "duration": 207,
    "start_time": "2024-02-29T09:23:16.804Z"
   },
   {
    "duration": 282,
    "start_time": "2024-02-29T09:23:17.013Z"
   },
   {
    "duration": 140,
    "start_time": "2024-02-29T09:23:17.298Z"
   },
   {
    "duration": 68,
    "start_time": "2024-02-29T09:23:17.439Z"
   },
   {
    "duration": 4,
    "start_time": "2024-02-29T09:23:17.509Z"
   },
   {
    "duration": 13,
    "start_time": "2024-02-29T09:23:17.515Z"
   },
   {
    "duration": 5,
    "start_time": "2024-02-29T09:23:17.530Z"
   },
   {
    "duration": 17,
    "start_time": "2024-02-29T09:23:17.537Z"
   },
   {
    "duration": 10,
    "start_time": "2024-02-29T09:23:57.211Z"
   },
   {
    "duration": 10,
    "start_time": "2024-02-29T09:24:08.227Z"
   },
   {
    "duration": 107,
    "start_time": "2024-02-29T09:24:14.600Z"
   },
   {
    "duration": 9,
    "start_time": "2024-02-29T09:24:19.800Z"
   },
   {
    "duration": 9,
    "start_time": "2024-02-29T09:24:23.710Z"
   },
   {
    "duration": 97,
    "start_time": "2024-02-29T09:25:48.162Z"
   },
   {
    "duration": 100,
    "start_time": "2024-02-29T09:25:57.155Z"
   },
   {
    "duration": 9,
    "start_time": "2024-02-29T09:26:00.620Z"
   },
   {
    "duration": 17,
    "start_time": "2024-02-29T09:28:26.001Z"
   },
   {
    "duration": 7,
    "start_time": "2024-02-29T09:31:41.315Z"
   },
   {
    "duration": 4,
    "start_time": "2024-02-29T09:32:07.790Z"
   },
   {
    "duration": 8,
    "start_time": "2024-02-29T09:34:53.157Z"
   },
   {
    "duration": 21,
    "start_time": "2024-02-29T09:40:49.994Z"
   },
   {
    "duration": 21,
    "start_time": "2024-02-29T10:00:39.885Z"
   },
   {
    "duration": 120,
    "start_time": "2024-02-29T10:03:08.176Z"
   },
   {
    "duration": 35,
    "start_time": "2024-02-29T10:10:31.801Z"
   },
   {
    "duration": 9,
    "start_time": "2024-02-29T10:10:48.596Z"
   },
   {
    "duration": 9,
    "start_time": "2024-02-29T10:11:10.122Z"
   },
   {
    "duration": 1299,
    "start_time": "2024-02-29T10:50:10.562Z"
   },
   {
    "duration": 73,
    "start_time": "2024-02-29T10:50:11.863Z"
   },
   {
    "duration": 3,
    "start_time": "2024-02-29T10:50:11.938Z"
   },
   {
    "duration": 34,
    "start_time": "2024-02-29T10:50:11.943Z"
   },
   {
    "duration": 22,
    "start_time": "2024-02-29T10:50:11.979Z"
   },
   {
    "duration": 30,
    "start_time": "2024-02-29T10:50:12.003Z"
   },
   {
    "duration": 9,
    "start_time": "2024-02-29T10:50:12.035Z"
   },
   {
    "duration": 14,
    "start_time": "2024-02-29T10:50:12.048Z"
   },
   {
    "duration": 16,
    "start_time": "2024-02-29T10:50:12.064Z"
   },
   {
    "duration": 10,
    "start_time": "2024-02-29T10:50:12.083Z"
   },
   {
    "duration": 9,
    "start_time": "2024-02-29T10:50:12.096Z"
   },
   {
    "duration": 17,
    "start_time": "2024-02-29T10:50:12.107Z"
   },
   {
    "duration": 6,
    "start_time": "2024-02-29T10:50:12.126Z"
   },
   {
    "duration": 11,
    "start_time": "2024-02-29T10:50:12.134Z"
   },
   {
    "duration": 58,
    "start_time": "2024-02-29T10:50:12.147Z"
   },
   {
    "duration": 9,
    "start_time": "2024-02-29T10:50:12.207Z"
   },
   {
    "duration": 8,
    "start_time": "2024-02-29T10:50:12.218Z"
   },
   {
    "duration": 10,
    "start_time": "2024-02-29T10:50:12.227Z"
   },
   {
    "duration": 35,
    "start_time": "2024-02-29T10:50:12.239Z"
   },
   {
    "duration": 188,
    "start_time": "2024-02-29T10:50:12.276Z"
   },
   {
    "duration": 21,
    "start_time": "2024-02-29T10:50:12.466Z"
   },
   {
    "duration": 140,
    "start_time": "2024-02-29T10:50:12.489Z"
   },
   {
    "duration": 11,
    "start_time": "2024-02-29T10:50:12.632Z"
   },
   {
    "duration": 312,
    "start_time": "2024-02-29T10:50:12.646Z"
   },
   {
    "duration": 20,
    "start_time": "2024-02-29T10:50:12.960Z"
   },
   {
    "duration": 298,
    "start_time": "2024-02-29T10:50:12.982Z"
   },
   {
    "duration": 8,
    "start_time": "2024-02-29T10:50:13.282Z"
   },
   {
    "duration": 292,
    "start_time": "2024-02-29T10:50:13.294Z"
   },
   {
    "duration": 17,
    "start_time": "2024-02-29T10:50:13.587Z"
   },
   {
    "duration": 16,
    "start_time": "2024-02-29T10:50:13.606Z"
   },
   {
    "duration": 20,
    "start_time": "2024-02-29T10:50:13.624Z"
   },
   {
    "duration": 10,
    "start_time": "2024-02-29T10:50:13.645Z"
   },
   {
    "duration": 30,
    "start_time": "2024-02-29T10:50:13.657Z"
   },
   {
    "duration": 26,
    "start_time": "2024-02-29T10:50:13.689Z"
   },
   {
    "duration": 18,
    "start_time": "2024-02-29T10:50:13.717Z"
   },
   {
    "duration": 15,
    "start_time": "2024-02-29T10:50:13.737Z"
   },
   {
    "duration": 30,
    "start_time": "2024-02-29T10:50:13.754Z"
   },
   {
    "duration": 12,
    "start_time": "2024-02-29T10:50:13.786Z"
   },
   {
    "duration": 12,
    "start_time": "2024-02-29T10:50:13.801Z"
   },
   {
    "duration": 24,
    "start_time": "2024-02-29T10:50:13.814Z"
   },
   {
    "duration": 22,
    "start_time": "2024-02-29T10:50:13.841Z"
   },
   {
    "duration": 8,
    "start_time": "2024-02-29T10:50:13.864Z"
   },
   {
    "duration": 205,
    "start_time": "2024-02-29T10:50:13.880Z"
   },
   {
    "duration": 2349,
    "start_time": "2024-02-29T10:50:14.086Z"
   },
   {
    "duration": 0,
    "start_time": "2024-02-29T10:50:16.437Z"
   },
   {
    "duration": 0,
    "start_time": "2024-02-29T10:50:16.438Z"
   },
   {
    "duration": 0,
    "start_time": "2024-02-29T10:50:16.440Z"
   },
   {
    "duration": 0,
    "start_time": "2024-02-29T10:50:16.441Z"
   },
   {
    "duration": 0,
    "start_time": "2024-02-29T10:50:16.442Z"
   },
   {
    "duration": 0,
    "start_time": "2024-02-29T10:50:16.443Z"
   },
   {
    "duration": 0,
    "start_time": "2024-02-29T10:50:16.444Z"
   },
   {
    "duration": 0,
    "start_time": "2024-02-29T10:50:16.445Z"
   },
   {
    "duration": 0,
    "start_time": "2024-02-29T10:50:16.446Z"
   },
   {
    "duration": 7,
    "start_time": "2024-02-29T10:57:48.981Z"
   },
   {
    "duration": 1662,
    "start_time": "2024-02-29T11:01:31.726Z"
   },
   {
    "duration": 1866,
    "start_time": "2024-02-29T11:01:33.687Z"
   },
   {
    "duration": 1119,
    "start_time": "2024-02-29T11:02:53.037Z"
   },
   {
    "duration": 69,
    "start_time": "2024-02-29T11:02:54.157Z"
   },
   {
    "duration": 5,
    "start_time": "2024-02-29T11:02:54.227Z"
   },
   {
    "duration": 22,
    "start_time": "2024-02-29T11:02:54.235Z"
   },
   {
    "duration": 17,
    "start_time": "2024-02-29T11:02:54.259Z"
   },
   {
    "duration": 15,
    "start_time": "2024-02-29T11:02:54.278Z"
   },
   {
    "duration": 7,
    "start_time": "2024-02-29T11:02:54.294Z"
   },
   {
    "duration": 10,
    "start_time": "2024-02-29T11:02:54.303Z"
   },
   {
    "duration": 4,
    "start_time": "2024-02-29T11:02:54.314Z"
   },
   {
    "duration": 5,
    "start_time": "2024-02-29T11:02:54.321Z"
   },
   {
    "duration": 9,
    "start_time": "2024-02-29T11:02:54.327Z"
   },
   {
    "duration": 43,
    "start_time": "2024-02-29T11:02:54.337Z"
   },
   {
    "duration": 7,
    "start_time": "2024-02-29T11:02:54.382Z"
   },
   {
    "duration": 6,
    "start_time": "2024-02-29T11:02:54.391Z"
   },
   {
    "duration": 6,
    "start_time": "2024-02-29T11:02:54.398Z"
   },
   {
    "duration": 5,
    "start_time": "2024-02-29T11:02:54.405Z"
   },
   {
    "duration": 9,
    "start_time": "2024-02-29T11:02:54.412Z"
   },
   {
    "duration": 18,
    "start_time": "2024-02-29T11:02:54.423Z"
   },
   {
    "duration": 6,
    "start_time": "2024-02-29T11:02:54.443Z"
   },
   {
    "duration": 49,
    "start_time": "2024-02-29T11:02:54.450Z"
   },
   {
    "duration": 209,
    "start_time": "2024-02-29T11:02:54.501Z"
   },
   {
    "duration": 12,
    "start_time": "2024-02-29T11:02:54.711Z"
   },
   {
    "duration": 110,
    "start_time": "2024-02-29T11:02:54.724Z"
   },
   {
    "duration": 7,
    "start_time": "2024-02-29T11:02:54.836Z"
   },
   {
    "duration": 288,
    "start_time": "2024-02-29T11:02:54.844Z"
   },
   {
    "duration": 8,
    "start_time": "2024-02-29T11:02:55.133Z"
   },
   {
    "duration": 296,
    "start_time": "2024-02-29T11:02:55.143Z"
   },
   {
    "duration": 9,
    "start_time": "2024-02-29T11:02:55.442Z"
   },
   {
    "duration": 310,
    "start_time": "2024-02-29T11:02:55.452Z"
   },
   {
    "duration": 25,
    "start_time": "2024-02-29T11:02:55.763Z"
   },
   {
    "duration": 10,
    "start_time": "2024-02-29T11:02:55.789Z"
   },
   {
    "duration": 18,
    "start_time": "2024-02-29T11:02:55.801Z"
   },
   {
    "duration": 10,
    "start_time": "2024-02-29T11:02:55.821Z"
   },
   {
    "duration": 14,
    "start_time": "2024-02-29T11:02:55.833Z"
   },
   {
    "duration": 40,
    "start_time": "2024-02-29T11:02:55.849Z"
   },
   {
    "duration": 17,
    "start_time": "2024-02-29T11:02:55.890Z"
   },
   {
    "duration": 34,
    "start_time": "2024-02-29T11:02:55.909Z"
   },
   {
    "duration": 22,
    "start_time": "2024-02-29T11:02:55.944Z"
   },
   {
    "duration": 17,
    "start_time": "2024-02-29T11:02:55.967Z"
   },
   {
    "duration": 6,
    "start_time": "2024-02-29T11:02:55.985Z"
   },
   {
    "duration": 28,
    "start_time": "2024-02-29T11:02:55.993Z"
   },
   {
    "duration": 21,
    "start_time": "2024-02-29T11:02:56.023Z"
   },
   {
    "duration": 9,
    "start_time": "2024-02-29T11:02:56.045Z"
   },
   {
    "duration": 202,
    "start_time": "2024-02-29T11:02:56.056Z"
   },
   {
    "duration": 2041,
    "start_time": "2024-02-29T11:02:56.259Z"
   },
   {
    "duration": 0,
    "start_time": "2024-02-29T11:02:58.302Z"
   },
   {
    "duration": 0,
    "start_time": "2024-02-29T11:02:58.303Z"
   },
   {
    "duration": 0,
    "start_time": "2024-02-29T11:02:58.304Z"
   },
   {
    "duration": 0,
    "start_time": "2024-02-29T11:02:58.305Z"
   },
   {
    "duration": 0,
    "start_time": "2024-02-29T11:02:58.307Z"
   },
   {
    "duration": 0,
    "start_time": "2024-02-29T11:02:58.308Z"
   },
   {
    "duration": 0,
    "start_time": "2024-02-29T11:02:58.309Z"
   },
   {
    "duration": 0,
    "start_time": "2024-02-29T11:02:58.311Z"
   },
   {
    "duration": 0,
    "start_time": "2024-02-29T11:02:58.311Z"
   },
   {
    "duration": 9,
    "start_time": "2024-02-29T11:04:01.620Z"
   },
   {
    "duration": 11,
    "start_time": "2024-02-29T11:04:02.482Z"
   },
   {
    "duration": 269,
    "start_time": "2024-02-29T11:04:09.338Z"
   },
   {
    "duration": 10,
    "start_time": "2024-02-29T11:11:16.400Z"
   },
   {
    "duration": 120,
    "start_time": "2024-02-29T11:11:21.415Z"
   },
   {
    "duration": 7,
    "start_time": "2024-02-29T11:11:21.727Z"
   },
   {
    "duration": 6,
    "start_time": "2024-02-29T11:13:21.723Z"
   },
   {
    "duration": 110,
    "start_time": "2024-02-29T11:14:24.069Z"
   },
   {
    "duration": 114,
    "start_time": "2024-02-29T11:14:28.855Z"
   },
   {
    "duration": 103,
    "start_time": "2024-02-29T11:14:34.343Z"
   },
   {
    "duration": 107,
    "start_time": "2024-02-29T11:14:38.743Z"
   },
   {
    "duration": 260,
    "start_time": "2024-02-29T11:14:44.627Z"
   },
   {
    "duration": 5,
    "start_time": "2024-02-29T11:14:48.839Z"
   },
   {
    "duration": 6,
    "start_time": "2024-02-29T11:15:18.994Z"
   },
   {
    "duration": 1163,
    "start_time": "2024-02-29T11:17:42.405Z"
   },
   {
    "duration": 71,
    "start_time": "2024-02-29T11:17:43.570Z"
   },
   {
    "duration": 4,
    "start_time": "2024-02-29T11:17:43.643Z"
   },
   {
    "duration": 25,
    "start_time": "2024-02-29T11:17:43.649Z"
   },
   {
    "duration": 17,
    "start_time": "2024-02-29T11:17:43.676Z"
   },
   {
    "duration": 14,
    "start_time": "2024-02-29T11:17:43.694Z"
   },
   {
    "duration": 7,
    "start_time": "2024-02-29T11:17:43.710Z"
   },
   {
    "duration": 20,
    "start_time": "2024-02-29T11:17:43.719Z"
   },
   {
    "duration": 4,
    "start_time": "2024-02-29T11:17:43.741Z"
   },
   {
    "duration": 33,
    "start_time": "2024-02-29T11:17:43.748Z"
   },
   {
    "duration": 10,
    "start_time": "2024-02-29T11:17:43.783Z"
   },
   {
    "duration": 20,
    "start_time": "2024-02-29T11:17:43.795Z"
   },
   {
    "duration": 8,
    "start_time": "2024-02-29T11:17:43.817Z"
   },
   {
    "duration": 8,
    "start_time": "2024-02-29T11:17:43.827Z"
   },
   {
    "duration": 9,
    "start_time": "2024-02-29T11:17:43.836Z"
   },
   {
    "duration": 12,
    "start_time": "2024-02-29T11:17:43.847Z"
   },
   {
    "duration": 22,
    "start_time": "2024-02-29T11:17:43.861Z"
   },
   {
    "duration": 13,
    "start_time": "2024-02-29T11:17:43.885Z"
   },
   {
    "duration": 6,
    "start_time": "2024-02-29T11:17:43.901Z"
   },
   {
    "duration": 33,
    "start_time": "2024-02-29T11:17:43.909Z"
   },
   {
    "duration": 215,
    "start_time": "2024-02-29T11:17:43.943Z"
   },
   {
    "duration": 21,
    "start_time": "2024-02-29T11:17:44.159Z"
   },
   {
    "duration": 114,
    "start_time": "2024-02-29T11:17:44.182Z"
   },
   {
    "duration": 8,
    "start_time": "2024-02-29T11:17:44.298Z"
   },
   {
    "duration": 317,
    "start_time": "2024-02-29T11:17:44.308Z"
   },
   {
    "duration": 11,
    "start_time": "2024-02-29T11:17:44.627Z"
   },
   {
    "duration": 327,
    "start_time": "2024-02-29T11:17:44.640Z"
   },
   {
    "duration": 18,
    "start_time": "2024-02-29T11:17:44.972Z"
   },
   {
    "duration": 312,
    "start_time": "2024-02-29T11:17:44.992Z"
   },
   {
    "duration": 29,
    "start_time": "2024-02-29T11:17:45.305Z"
   },
   {
    "duration": 296,
    "start_time": "2024-02-29T11:17:45.336Z"
   },
   {
    "duration": 84,
    "start_time": "2024-02-29T11:17:45.634Z"
   },
   {
    "duration": 44,
    "start_time": "2024-02-29T11:17:45.720Z"
   },
   {
    "duration": 63,
    "start_time": "2024-02-29T11:17:45.766Z"
   },
   {
    "duration": 72,
    "start_time": "2024-02-29T11:17:45.830Z"
   },
   {
    "duration": 75,
    "start_time": "2024-02-29T11:17:45.904Z"
   },
   {
    "duration": 62,
    "start_time": "2024-02-29T11:17:45.981Z"
   },
   {
    "duration": 39,
    "start_time": "2024-02-29T11:17:46.045Z"
   },
   {
    "duration": 35,
    "start_time": "2024-02-29T11:17:46.086Z"
   },
   {
    "duration": 24,
    "start_time": "2024-02-29T11:17:46.123Z"
   },
   {
    "duration": 36,
    "start_time": "2024-02-29T11:17:46.149Z"
   },
   {
    "duration": 50,
    "start_time": "2024-02-29T11:17:46.187Z"
   },
   {
    "duration": 20,
    "start_time": "2024-02-29T11:17:46.239Z"
   },
   {
    "duration": 211,
    "start_time": "2024-02-29T11:17:46.261Z"
   },
   {
    "duration": 15,
    "start_time": "2024-02-29T11:17:46.474Z"
   },
   {
    "duration": 11,
    "start_time": "2024-02-29T11:17:46.491Z"
   },
   {
    "duration": 308,
    "start_time": "2024-02-29T11:17:46.504Z"
   },
   {
    "duration": 128,
    "start_time": "2024-02-29T11:17:46.814Z"
   },
   {
    "duration": 5,
    "start_time": "2024-02-29T11:17:46.944Z"
   },
   {
    "duration": 81,
    "start_time": "2024-02-29T11:17:46.951Z"
   },
   {
    "duration": 5,
    "start_time": "2024-02-29T11:17:47.034Z"
   },
   {
    "duration": 19,
    "start_time": "2024-02-29T11:17:47.040Z"
   },
   {
    "duration": 19,
    "start_time": "2024-02-29T11:17:47.061Z"
   },
   {
    "duration": 12,
    "start_time": "2024-02-29T11:17:47.082Z"
   },
   {
    "duration": 1178,
    "start_time": "2024-02-29T12:33:02.190Z"
   },
   {
    "duration": 69,
    "start_time": "2024-02-29T12:33:03.370Z"
   },
   {
    "duration": 4,
    "start_time": "2024-02-29T12:33:03.441Z"
   },
   {
    "duration": 69,
    "start_time": "2024-02-29T12:33:03.447Z"
   },
   {
    "duration": 36,
    "start_time": "2024-02-29T12:33:03.518Z"
   },
   {
    "duration": 15,
    "start_time": "2024-02-29T12:33:03.555Z"
   },
   {
    "duration": 27,
    "start_time": "2024-02-29T12:33:03.571Z"
   },
   {
    "duration": 72,
    "start_time": "2024-02-29T12:33:03.600Z"
   },
   {
    "duration": 6,
    "start_time": "2024-02-29T12:33:03.674Z"
   },
   {
    "duration": 38,
    "start_time": "2024-02-29T12:33:03.682Z"
   },
   {
    "duration": 23,
    "start_time": "2024-02-29T12:33:03.722Z"
   },
   {
    "duration": 18,
    "start_time": "2024-02-29T12:33:03.747Z"
   },
   {
    "duration": 15,
    "start_time": "2024-02-29T12:33:03.768Z"
   },
   {
    "duration": 10,
    "start_time": "2024-02-29T12:33:03.785Z"
   },
   {
    "duration": 16,
    "start_time": "2024-02-29T12:33:03.797Z"
   },
   {
    "duration": 8,
    "start_time": "2024-02-29T12:33:03.815Z"
   },
   {
    "duration": 11,
    "start_time": "2024-02-29T12:33:03.825Z"
   },
   {
    "duration": 9,
    "start_time": "2024-02-29T12:33:03.838Z"
   },
   {
    "duration": 6,
    "start_time": "2024-02-29T12:33:03.849Z"
   },
   {
    "duration": 41,
    "start_time": "2024-02-29T12:33:03.857Z"
   },
   {
    "duration": 188,
    "start_time": "2024-02-29T12:33:03.900Z"
   },
   {
    "duration": 13,
    "start_time": "2024-02-29T12:33:04.090Z"
   },
   {
    "duration": 111,
    "start_time": "2024-02-29T12:33:04.105Z"
   },
   {
    "duration": 7,
    "start_time": "2024-02-29T12:33:04.218Z"
   },
   {
    "duration": 293,
    "start_time": "2024-02-29T12:33:04.227Z"
   },
   {
    "duration": 12,
    "start_time": "2024-02-29T12:33:04.522Z"
   },
   {
    "duration": 335,
    "start_time": "2024-02-29T12:33:04.536Z"
   },
   {
    "duration": 12,
    "start_time": "2024-02-29T12:33:04.875Z"
   },
   {
    "duration": 295,
    "start_time": "2024-02-29T12:33:04.889Z"
   },
   {
    "duration": 16,
    "start_time": "2024-02-29T12:33:05.186Z"
   },
   {
    "duration": 11,
    "start_time": "2024-02-29T12:33:05.204Z"
   },
   {
    "duration": 28,
    "start_time": "2024-02-29T12:33:05.217Z"
   },
   {
    "duration": 11,
    "start_time": "2024-02-29T12:33:05.246Z"
   },
   {
    "duration": 32,
    "start_time": "2024-02-29T12:33:05.258Z"
   },
   {
    "duration": 17,
    "start_time": "2024-02-29T12:33:05.291Z"
   },
   {
    "duration": 17,
    "start_time": "2024-02-29T12:33:05.309Z"
   },
   {
    "duration": 16,
    "start_time": "2024-02-29T12:33:05.327Z"
   },
   {
    "duration": 41,
    "start_time": "2024-02-29T12:33:05.345Z"
   },
   {
    "duration": 12,
    "start_time": "2024-02-29T12:33:05.387Z"
   },
   {
    "duration": 15,
    "start_time": "2024-02-29T12:33:05.400Z"
   },
   {
    "duration": 10,
    "start_time": "2024-02-29T12:33:05.416Z"
   },
   {
    "duration": 24,
    "start_time": "2024-02-29T12:33:05.428Z"
   },
   {
    "duration": 8,
    "start_time": "2024-02-29T12:33:05.454Z"
   },
   {
    "duration": 208,
    "start_time": "2024-02-29T12:33:05.463Z"
   },
   {
    "duration": 14,
    "start_time": "2024-02-29T12:33:05.672Z"
   },
   {
    "duration": 8,
    "start_time": "2024-02-29T12:33:05.688Z"
   },
   {
    "duration": 292,
    "start_time": "2024-02-29T12:33:05.697Z"
   },
   {
    "duration": 139,
    "start_time": "2024-02-29T12:33:05.991Z"
   },
   {
    "duration": 7,
    "start_time": "2024-02-29T12:33:06.132Z"
   },
   {
    "duration": 1749,
    "start_time": "2024-02-29T12:33:06.141Z"
   },
   {
    "duration": 0,
    "start_time": "2024-02-29T12:33:07.892Z"
   },
   {
    "duration": 0,
    "start_time": "2024-02-29T12:33:07.894Z"
   },
   {
    "duration": 0,
    "start_time": "2024-02-29T12:33:07.895Z"
   },
   {
    "duration": 0,
    "start_time": "2024-02-29T12:33:07.896Z"
   },
   {
    "duration": 60,
    "start_time": "2024-02-29T12:33:40.716Z"
   },
   {
    "duration": 84,
    "start_time": "2024-02-29T12:34:24.567Z"
   },
   {
    "duration": 1202,
    "start_time": "2024-02-29T12:34:34.241Z"
   },
   {
    "duration": 69,
    "start_time": "2024-02-29T12:34:35.445Z"
   },
   {
    "duration": 3,
    "start_time": "2024-02-29T12:34:35.515Z"
   },
   {
    "duration": 35,
    "start_time": "2024-02-29T12:34:35.522Z"
   },
   {
    "duration": 18,
    "start_time": "2024-02-29T12:34:35.558Z"
   },
   {
    "duration": 14,
    "start_time": "2024-02-29T12:34:35.578Z"
   },
   {
    "duration": 7,
    "start_time": "2024-02-29T12:34:35.594Z"
   },
   {
    "duration": 22,
    "start_time": "2024-02-29T12:34:35.603Z"
   },
   {
    "duration": 5,
    "start_time": "2024-02-29T12:34:35.627Z"
   },
   {
    "duration": 6,
    "start_time": "2024-02-29T12:34:35.636Z"
   },
   {
    "duration": 38,
    "start_time": "2024-02-29T12:34:35.643Z"
   },
   {
    "duration": 10,
    "start_time": "2024-02-29T12:34:35.683Z"
   },
   {
    "duration": 20,
    "start_time": "2024-02-29T12:34:35.695Z"
   },
   {
    "duration": 11,
    "start_time": "2024-02-29T12:34:35.716Z"
   },
   {
    "duration": 11,
    "start_time": "2024-02-29T12:34:35.729Z"
   },
   {
    "duration": 6,
    "start_time": "2024-02-29T12:34:35.742Z"
   },
   {
    "duration": 8,
    "start_time": "2024-02-29T12:34:35.750Z"
   },
   {
    "duration": 24,
    "start_time": "2024-02-29T12:34:35.759Z"
   },
   {
    "duration": 7,
    "start_time": "2024-02-29T12:34:35.785Z"
   },
   {
    "duration": 26,
    "start_time": "2024-02-29T12:34:35.793Z"
   },
   {
    "duration": 198,
    "start_time": "2024-02-29T12:34:35.821Z"
   },
   {
    "duration": 13,
    "start_time": "2024-02-29T12:34:36.021Z"
   },
   {
    "duration": 113,
    "start_time": "2024-02-29T12:34:36.036Z"
   },
   {
    "duration": 8,
    "start_time": "2024-02-29T12:34:36.151Z"
   },
   {
    "duration": 316,
    "start_time": "2024-02-29T12:34:36.160Z"
   },
   {
    "duration": 11,
    "start_time": "2024-02-29T12:34:36.479Z"
   },
   {
    "duration": 330,
    "start_time": "2024-02-29T12:34:36.493Z"
   },
   {
    "duration": 9,
    "start_time": "2024-02-29T12:34:36.827Z"
   },
   {
    "duration": 304,
    "start_time": "2024-02-29T12:34:36.837Z"
   },
   {
    "duration": 17,
    "start_time": "2024-02-29T12:34:37.143Z"
   },
   {
    "duration": 25,
    "start_time": "2024-02-29T12:34:37.161Z"
   },
   {
    "duration": 12,
    "start_time": "2024-02-29T12:34:37.187Z"
   },
   {
    "duration": 14,
    "start_time": "2024-02-29T12:34:37.201Z"
   },
   {
    "duration": 22,
    "start_time": "2024-02-29T12:34:37.217Z"
   },
   {
    "duration": 19,
    "start_time": "2024-02-29T12:34:37.241Z"
   },
   {
    "duration": 21,
    "start_time": "2024-02-29T12:34:37.282Z"
   },
   {
    "duration": 15,
    "start_time": "2024-02-29T12:34:37.305Z"
   },
   {
    "duration": 13,
    "start_time": "2024-02-29T12:34:37.322Z"
   },
   {
    "duration": 26,
    "start_time": "2024-02-29T12:34:37.337Z"
   },
   {
    "duration": 3,
    "start_time": "2024-02-29T12:34:37.380Z"
   },
   {
    "duration": 10,
    "start_time": "2024-02-29T12:34:37.385Z"
   },
   {
    "duration": 11,
    "start_time": "2024-02-29T12:34:37.396Z"
   },
   {
    "duration": 9,
    "start_time": "2024-02-29T12:34:37.408Z"
   },
   {
    "duration": 218,
    "start_time": "2024-02-29T12:34:37.419Z"
   },
   {
    "duration": 8,
    "start_time": "2024-02-29T12:34:37.639Z"
   },
   {
    "duration": 8,
    "start_time": "2024-02-29T12:34:37.649Z"
   },
   {
    "duration": 289,
    "start_time": "2024-02-29T12:34:37.658Z"
   },
   {
    "duration": 128,
    "start_time": "2024-02-29T12:34:37.949Z"
   },
   {
    "duration": 5,
    "start_time": "2024-02-29T12:34:38.079Z"
   },
   {
    "duration": 64,
    "start_time": "2024-02-29T12:34:38.085Z"
   },
   {
    "duration": 5,
    "start_time": "2024-02-29T12:34:38.151Z"
   },
   {
    "duration": 30,
    "start_time": "2024-02-29T12:34:38.157Z"
   },
   {
    "duration": 39,
    "start_time": "2024-02-29T12:34:38.189Z"
   },
   {
    "duration": 41,
    "start_time": "2024-02-29T12:34:38.231Z"
   },
   {
    "duration": 7,
    "start_time": "2024-02-29T13:00:03.462Z"
   },
   {
    "duration": 6,
    "start_time": "2024-02-29T13:00:09.148Z"
   },
   {
    "duration": 7,
    "start_time": "2024-02-29T13:20:20.650Z"
   },
   {
    "duration": 6,
    "start_time": "2024-02-29T13:22:18.625Z"
   },
   {
    "duration": 6,
    "start_time": "2024-02-29T13:28:18.624Z"
   },
   {
    "duration": 6,
    "start_time": "2024-02-29T13:28:27.484Z"
   },
   {
    "duration": 5,
    "start_time": "2024-02-29T13:28:36.357Z"
   },
   {
    "duration": 6,
    "start_time": "2024-02-29T13:28:40.774Z"
   },
   {
    "duration": 108,
    "start_time": "2024-02-29T13:59:26.552Z"
   },
   {
    "duration": 9,
    "start_time": "2024-02-29T13:59:35.895Z"
   },
   {
    "duration": 120,
    "start_time": "2024-02-29T13:59:52.133Z"
   },
   {
    "duration": 10,
    "start_time": "2024-02-29T14:00:41.106Z"
   },
   {
    "duration": 10,
    "start_time": "2024-02-29T14:00:52.757Z"
   },
   {
    "duration": 11,
    "start_time": "2024-02-29T14:00:58.168Z"
   },
   {
    "duration": 12,
    "start_time": "2024-02-29T14:02:31.249Z"
   },
   {
    "duration": 12,
    "start_time": "2024-02-29T14:04:10.153Z"
   },
   {
    "duration": 15,
    "start_time": "2024-02-29T14:04:20.954Z"
   },
   {
    "duration": 13,
    "start_time": "2024-02-29T14:04:38.124Z"
   },
   {
    "duration": 1227,
    "start_time": "2024-02-29T14:19:05.014Z"
   },
   {
    "duration": 68,
    "start_time": "2024-02-29T14:19:06.244Z"
   },
   {
    "duration": 4,
    "start_time": "2024-02-29T14:19:06.314Z"
   },
   {
    "duration": 28,
    "start_time": "2024-02-29T14:19:06.321Z"
   },
   {
    "duration": 29,
    "start_time": "2024-02-29T14:19:06.351Z"
   },
   {
    "duration": 19,
    "start_time": "2024-02-29T14:19:06.382Z"
   },
   {
    "duration": 10,
    "start_time": "2024-02-29T14:19:06.403Z"
   },
   {
    "duration": 13,
    "start_time": "2024-02-29T14:19:06.415Z"
   },
   {
    "duration": 5,
    "start_time": "2024-02-29T14:19:06.430Z"
   },
   {
    "duration": 5,
    "start_time": "2024-02-29T14:19:06.438Z"
   },
   {
    "duration": 46,
    "start_time": "2024-02-29T14:19:06.445Z"
   },
   {
    "duration": 24,
    "start_time": "2024-02-29T14:19:06.493Z"
   },
   {
    "duration": 12,
    "start_time": "2024-02-29T14:19:06.519Z"
   },
   {
    "duration": 7,
    "start_time": "2024-02-29T14:19:06.534Z"
   },
   {
    "duration": 8,
    "start_time": "2024-02-29T14:19:06.543Z"
   },
   {
    "duration": 31,
    "start_time": "2024-02-29T14:19:06.553Z"
   },
   {
    "duration": 18,
    "start_time": "2024-02-29T14:19:06.586Z"
   },
   {
    "duration": 13,
    "start_time": "2024-02-29T14:19:06.606Z"
   },
   {
    "duration": 6,
    "start_time": "2024-02-29T14:19:06.621Z"
   },
   {
    "duration": 22,
    "start_time": "2024-02-29T14:19:06.628Z"
   },
   {
    "duration": 276,
    "start_time": "2024-02-29T14:19:06.652Z"
   },
   {
    "duration": 18,
    "start_time": "2024-02-29T14:19:06.930Z"
   },
   {
    "duration": 143,
    "start_time": "2024-02-29T14:19:06.950Z"
   },
   {
    "duration": 8,
    "start_time": "2024-02-29T14:19:07.095Z"
   },
   {
    "duration": 320,
    "start_time": "2024-02-29T14:19:07.105Z"
   },
   {
    "duration": 9,
    "start_time": "2024-02-29T14:19:07.427Z"
   },
   {
    "duration": 305,
    "start_time": "2024-02-29T14:19:07.437Z"
   },
   {
    "duration": 9,
    "start_time": "2024-02-29T14:19:07.746Z"
   },
   {
    "duration": 316,
    "start_time": "2024-02-29T14:19:07.757Z"
   },
   {
    "duration": 18,
    "start_time": "2024-02-29T14:19:08.075Z"
   },
   {
    "duration": 11,
    "start_time": "2024-02-29T14:19:08.095Z"
   },
   {
    "duration": 14,
    "start_time": "2024-02-29T14:19:08.107Z"
   },
   {
    "duration": 11,
    "start_time": "2024-02-29T14:19:08.122Z"
   },
   {
    "duration": 48,
    "start_time": "2024-02-29T14:19:08.135Z"
   },
   {
    "duration": 16,
    "start_time": "2024-02-29T14:19:08.185Z"
   },
   {
    "duration": 19,
    "start_time": "2024-02-29T14:19:08.202Z"
   },
   {
    "duration": 16,
    "start_time": "2024-02-29T14:19:08.222Z"
   },
   {
    "duration": 48,
    "start_time": "2024-02-29T14:19:08.240Z"
   },
   {
    "duration": 14,
    "start_time": "2024-02-29T14:19:08.290Z"
   },
   {
    "duration": 4,
    "start_time": "2024-02-29T14:19:08.306Z"
   },
   {
    "duration": 6,
    "start_time": "2024-02-29T14:19:08.312Z"
   },
   {
    "duration": 12,
    "start_time": "2024-02-29T14:19:08.320Z"
   },
   {
    "duration": 8,
    "start_time": "2024-02-29T14:19:08.334Z"
   },
   {
    "duration": 241,
    "start_time": "2024-02-29T14:19:08.380Z"
   },
   {
    "duration": 10,
    "start_time": "2024-02-29T14:19:08.623Z"
   },
   {
    "duration": 12,
    "start_time": "2024-02-29T14:19:08.634Z"
   },
   {
    "duration": 300,
    "start_time": "2024-02-29T14:19:08.649Z"
   },
   {
    "duration": 124,
    "start_time": "2024-02-29T14:19:08.950Z"
   },
   {
    "duration": 6,
    "start_time": "2024-02-29T14:19:09.079Z"
   },
   {
    "duration": 62,
    "start_time": "2024-02-29T14:19:09.086Z"
   },
   {
    "duration": 16,
    "start_time": "2024-02-29T14:19:09.150Z"
   },
   {
    "duration": 20,
    "start_time": "2024-02-29T14:19:09.168Z"
   },
   {
    "duration": 10,
    "start_time": "2024-02-29T14:19:09.190Z"
   },
   {
    "duration": 13,
    "start_time": "2024-02-29T14:19:09.202Z"
   },
   {
    "duration": 1291,
    "start_time": "2024-03-01T11:32:21.469Z"
   },
   {
    "duration": 183,
    "start_time": "2024-03-01T11:32:22.762Z"
   },
   {
    "duration": 3,
    "start_time": "2024-03-01T11:32:22.946Z"
   },
   {
    "duration": 40,
    "start_time": "2024-03-01T11:32:22.950Z"
   },
   {
    "duration": 36,
    "start_time": "2024-03-01T11:32:22.992Z"
   },
   {
    "duration": 46,
    "start_time": "2024-03-01T11:32:23.030Z"
   },
   {
    "duration": 23,
    "start_time": "2024-03-01T11:32:23.078Z"
   },
   {
    "duration": 33,
    "start_time": "2024-03-01T11:32:23.102Z"
   },
   {
    "duration": 44,
    "start_time": "2024-03-01T11:32:23.136Z"
   },
   {
    "duration": 6,
    "start_time": "2024-03-01T11:32:23.183Z"
   },
   {
    "duration": 17,
    "start_time": "2024-03-01T11:32:23.191Z"
   },
   {
    "duration": 25,
    "start_time": "2024-03-01T11:32:23.209Z"
   },
   {
    "duration": 15,
    "start_time": "2024-03-01T11:32:23.235Z"
   },
   {
    "duration": 21,
    "start_time": "2024-03-01T11:32:23.251Z"
   },
   {
    "duration": 24,
    "start_time": "2024-03-01T11:32:23.273Z"
   },
   {
    "duration": 24,
    "start_time": "2024-03-01T11:32:23.299Z"
   },
   {
    "duration": 14,
    "start_time": "2024-03-01T11:32:23.324Z"
   },
   {
    "duration": 29,
    "start_time": "2024-03-01T11:32:23.339Z"
   },
   {
    "duration": 13,
    "start_time": "2024-03-01T11:32:23.370Z"
   },
   {
    "duration": 42,
    "start_time": "2024-03-01T11:32:23.384Z"
   },
   {
    "duration": 172,
    "start_time": "2024-03-01T11:32:23.428Z"
   },
   {
    "duration": 11,
    "start_time": "2024-03-01T11:32:23.602Z"
   },
   {
    "duration": 114,
    "start_time": "2024-03-01T11:32:23.614Z"
   },
   {
    "duration": 7,
    "start_time": "2024-03-01T11:32:23.729Z"
   },
   {
    "duration": 301,
    "start_time": "2024-03-01T11:32:23.738Z"
   },
   {
    "duration": 8,
    "start_time": "2024-03-01T11:32:24.042Z"
   },
   {
    "duration": 276,
    "start_time": "2024-03-01T11:32:24.052Z"
   },
   {
    "duration": 7,
    "start_time": "2024-03-01T11:32:24.331Z"
   },
   {
    "duration": 255,
    "start_time": "2024-03-01T11:32:24.340Z"
   },
   {
    "duration": 14,
    "start_time": "2024-03-01T11:32:24.596Z"
   },
   {
    "duration": 8,
    "start_time": "2024-03-01T11:32:24.612Z"
   },
   {
    "duration": 9,
    "start_time": "2024-03-01T11:32:24.622Z"
   },
   {
    "duration": 8,
    "start_time": "2024-03-01T11:32:24.632Z"
   },
   {
    "duration": 12,
    "start_time": "2024-03-01T11:32:24.642Z"
   },
   {
    "duration": 14,
    "start_time": "2024-03-01T11:32:24.681Z"
   },
   {
    "duration": 14,
    "start_time": "2024-03-01T11:32:24.697Z"
   },
   {
    "duration": 13,
    "start_time": "2024-03-01T11:32:24.712Z"
   },
   {
    "duration": 11,
    "start_time": "2024-03-01T11:32:24.726Z"
   },
   {
    "duration": 10,
    "start_time": "2024-03-01T11:32:24.738Z"
   },
   {
    "duration": 3,
    "start_time": "2024-03-01T11:32:24.782Z"
   },
   {
    "duration": 7,
    "start_time": "2024-03-01T11:32:24.786Z"
   },
   {
    "duration": 8,
    "start_time": "2024-03-01T11:32:24.794Z"
   },
   {
    "duration": 6,
    "start_time": "2024-03-01T11:32:24.803Z"
   },
   {
    "duration": 196,
    "start_time": "2024-03-01T11:32:24.811Z"
   },
   {
    "duration": 7,
    "start_time": "2024-03-01T11:32:25.009Z"
   },
   {
    "duration": 10,
    "start_time": "2024-03-01T11:32:25.017Z"
   },
   {
    "duration": 267,
    "start_time": "2024-03-01T11:32:25.028Z"
   },
   {
    "duration": 108,
    "start_time": "2024-03-01T11:32:25.297Z"
   },
   {
    "duration": 5,
    "start_time": "2024-03-01T11:32:25.406Z"
   },
   {
    "duration": 79,
    "start_time": "2024-03-01T11:32:25.412Z"
   },
   {
    "duration": 4,
    "start_time": "2024-03-01T11:32:25.492Z"
   },
   {
    "duration": 8,
    "start_time": "2024-03-01T11:32:25.497Z"
   },
   {
    "duration": 15,
    "start_time": "2024-03-01T11:32:25.506Z"
   },
   {
    "duration": 14,
    "start_time": "2024-03-01T11:32:25.522Z"
   },
   {
    "duration": 12,
    "start_time": "2024-03-01T11:38:45.134Z"
   },
   {
    "duration": 3,
    "start_time": "2024-03-01T11:38:50.014Z"
   },
   {
    "duration": 4,
    "start_time": "2024-03-01T11:40:26.639Z"
   },
   {
    "duration": 4,
    "start_time": "2024-03-01T11:41:12.235Z"
   },
   {
    "duration": 4,
    "start_time": "2024-03-01T11:41:25.395Z"
   },
   {
    "duration": 6,
    "start_time": "2024-03-01T11:41:38.331Z"
   },
   {
    "duration": 4,
    "start_time": "2024-03-01T11:41:44.739Z"
   },
   {
    "duration": 20,
    "start_time": "2024-03-01T11:44:45.483Z"
   },
   {
    "duration": 8,
    "start_time": "2024-03-01T11:45:00.236Z"
   },
   {
    "duration": 5,
    "start_time": "2024-03-01T11:45:12.181Z"
   },
   {
    "duration": 5,
    "start_time": "2024-03-01T11:45:18.237Z"
   },
   {
    "duration": 10,
    "start_time": "2024-03-01T11:47:00.872Z"
   },
   {
    "duration": 13,
    "start_time": "2024-03-01T11:47:18.969Z"
   },
   {
    "duration": 19,
    "start_time": "2024-03-01T11:47:53.322Z"
   },
   {
    "duration": 1266,
    "start_time": "2024-03-01T11:48:30.930Z"
   },
   {
    "duration": 1124,
    "start_time": "2024-03-01T11:48:45.788Z"
   },
   {
    "duration": 7,
    "start_time": "2024-03-01T11:48:53.548Z"
   },
   {
    "duration": 7,
    "start_time": "2024-03-01T11:49:04.203Z"
   },
   {
    "duration": 8,
    "start_time": "2024-03-01T11:49:09.284Z"
   },
   {
    "duration": 1116,
    "start_time": "2024-03-01T11:49:13.292Z"
   },
   {
    "duration": 5,
    "start_time": "2024-03-01T11:49:18.749Z"
   },
   {
    "duration": 8,
    "start_time": "2024-03-01T11:49:22.931Z"
   },
   {
    "duration": 6,
    "start_time": "2024-03-01T11:49:30.237Z"
   },
   {
    "duration": 1142,
    "start_time": "2024-03-01T11:49:40.853Z"
   },
   {
    "duration": 6,
    "start_time": "2024-03-01T11:49:46.437Z"
   },
   {
    "duration": 1187,
    "start_time": "2024-03-01T11:49:52.757Z"
   },
   {
    "duration": 5,
    "start_time": "2024-03-01T11:49:56.757Z"
   },
   {
    "duration": 20,
    "start_time": "2024-03-01T11:50:23.887Z"
   },
   {
    "duration": 17,
    "start_time": "2024-03-01T11:50:43.232Z"
   },
   {
    "duration": 15,
    "start_time": "2024-03-01T11:51:18.826Z"
   },
   {
    "duration": 14,
    "start_time": "2024-03-01T11:51:33.265Z"
   },
   {
    "duration": 10,
    "start_time": "2024-03-01T11:52:21.419Z"
   },
   {
    "duration": 17,
    "start_time": "2024-03-01T11:53:00.821Z"
   },
   {
    "duration": 1149,
    "start_time": "2024-03-01T11:53:06.947Z"
   },
   {
    "duration": 69,
    "start_time": "2024-03-01T11:53:08.099Z"
   },
   {
    "duration": 2,
    "start_time": "2024-03-01T11:53:08.170Z"
   },
   {
    "duration": 24,
    "start_time": "2024-03-01T11:53:08.174Z"
   },
   {
    "duration": 15,
    "start_time": "2024-03-01T11:53:08.201Z"
   },
   {
    "duration": 16,
    "start_time": "2024-03-01T11:53:08.218Z"
   },
   {
    "duration": 14,
    "start_time": "2024-03-01T11:53:08.235Z"
   },
   {
    "duration": 32,
    "start_time": "2024-03-01T11:53:08.250Z"
   },
   {
    "duration": 4,
    "start_time": "2024-03-01T11:53:08.284Z"
   },
   {
    "duration": 32,
    "start_time": "2024-03-01T11:53:08.290Z"
   },
   {
    "duration": 11,
    "start_time": "2024-03-01T11:53:08.324Z"
   },
   {
    "duration": 13,
    "start_time": "2024-03-01T11:53:08.337Z"
   },
   {
    "duration": 7,
    "start_time": "2024-03-01T11:53:08.352Z"
   },
   {
    "duration": 5,
    "start_time": "2024-03-01T11:53:08.364Z"
   },
   {
    "duration": 7,
    "start_time": "2024-03-01T11:53:08.381Z"
   },
   {
    "duration": 6,
    "start_time": "2024-03-01T11:53:08.389Z"
   },
   {
    "duration": 8,
    "start_time": "2024-03-01T11:53:08.396Z"
   },
   {
    "duration": 27,
    "start_time": "2024-03-01T11:53:08.405Z"
   },
   {
    "duration": 5,
    "start_time": "2024-03-01T11:53:08.434Z"
   },
   {
    "duration": 21,
    "start_time": "2024-03-01T11:53:08.441Z"
   },
   {
    "duration": 190,
    "start_time": "2024-03-01T11:53:08.464Z"
   },
   {
    "duration": 22,
    "start_time": "2024-03-01T11:53:08.656Z"
   },
   {
    "duration": 128,
    "start_time": "2024-03-01T11:53:08.682Z"
   },
   {
    "duration": 8,
    "start_time": "2024-03-01T11:53:08.812Z"
   },
   {
    "duration": 290,
    "start_time": "2024-03-01T11:53:08.821Z"
   },
   {
    "duration": 8,
    "start_time": "2024-03-01T11:53:09.113Z"
   },
   {
    "duration": 296,
    "start_time": "2024-03-01T11:53:09.123Z"
   },
   {
    "duration": 9,
    "start_time": "2024-03-01T11:53:09.420Z"
   },
   {
    "duration": 297,
    "start_time": "2024-03-01T11:53:09.431Z"
   },
   {
    "duration": 16,
    "start_time": "2024-03-01T11:53:09.730Z"
   },
   {
    "duration": 10,
    "start_time": "2024-03-01T11:53:09.747Z"
   },
   {
    "duration": 30,
    "start_time": "2024-03-01T11:53:09.759Z"
   },
   {
    "duration": 9,
    "start_time": "2024-03-01T11:53:09.791Z"
   },
   {
    "duration": 22,
    "start_time": "2024-03-01T11:53:09.802Z"
   },
   {
    "duration": 32,
    "start_time": "2024-03-01T11:53:09.826Z"
   },
   {
    "duration": 32,
    "start_time": "2024-03-01T11:53:09.860Z"
   },
   {
    "duration": 21,
    "start_time": "2024-03-01T11:53:09.894Z"
   },
   {
    "duration": 15,
    "start_time": "2024-03-01T11:53:09.917Z"
   },
   {
    "duration": 13,
    "start_time": "2024-03-01T11:53:09.933Z"
   },
   {
    "duration": 4,
    "start_time": "2024-03-01T11:53:09.948Z"
   },
   {
    "duration": 34,
    "start_time": "2024-03-01T11:53:09.957Z"
   },
   {
    "duration": 14,
    "start_time": "2024-03-01T11:53:09.993Z"
   },
   {
    "duration": 12,
    "start_time": "2024-03-01T11:53:10.009Z"
   },
   {
    "duration": 211,
    "start_time": "2024-03-01T11:53:10.023Z"
   },
   {
    "duration": 8,
    "start_time": "2024-03-01T11:53:10.235Z"
   },
   {
    "duration": 10,
    "start_time": "2024-03-01T11:53:10.245Z"
   },
   {
    "duration": 283,
    "start_time": "2024-03-01T11:53:10.256Z"
   },
   {
    "duration": 118,
    "start_time": "2024-03-01T11:53:10.540Z"
   },
   {
    "duration": 5,
    "start_time": "2024-03-01T11:53:10.659Z"
   },
   {
    "duration": 95,
    "start_time": "2024-03-01T11:53:10.665Z"
   },
   {
    "duration": 4,
    "start_time": "2024-03-01T11:53:10.761Z"
   },
   {
    "duration": 22,
    "start_time": "2024-03-01T11:53:10.767Z"
   },
   {
    "duration": 17,
    "start_time": "2024-03-01T11:53:10.790Z"
   },
   {
    "duration": 22,
    "start_time": "2024-03-01T11:53:10.808Z"
   },
   {
    "duration": 104,
    "start_time": "2024-03-01T11:53:10.832Z"
   },
   {
    "duration": 0,
    "start_time": "2024-03-01T11:53:10.937Z"
   },
   {
    "duration": 0,
    "start_time": "2024-03-01T11:53:10.938Z"
   },
   {
    "duration": 0,
    "start_time": "2024-03-01T11:53:10.939Z"
   },
   {
    "duration": 0,
    "start_time": "2024-03-01T11:53:10.940Z"
   },
   {
    "duration": 11,
    "start_time": "2024-03-01T11:54:29.618Z"
   },
   {
    "duration": 15,
    "start_time": "2024-03-01T11:55:06.238Z"
   },
   {
    "duration": 13,
    "start_time": "2024-03-01T11:57:25.470Z"
   },
   {
    "duration": 19,
    "start_time": "2024-03-01T11:57:29.310Z"
   },
   {
    "duration": 4,
    "start_time": "2024-03-01T11:57:40.422Z"
   },
   {
    "duration": 17,
    "start_time": "2024-03-01T12:01:00.334Z"
   },
   {
    "duration": 25,
    "start_time": "2024-03-01T12:03:10.714Z"
   },
   {
    "duration": 23,
    "start_time": "2024-03-01T12:05:58.642Z"
   },
   {
    "duration": 16,
    "start_time": "2024-03-01T12:06:23.402Z"
   },
   {
    "duration": 20,
    "start_time": "2024-03-01T12:06:32.466Z"
   },
   {
    "duration": 10,
    "start_time": "2024-03-01T12:07:00.597Z"
   },
   {
    "duration": 10,
    "start_time": "2024-03-01T12:07:58.597Z"
   },
   {
    "duration": 10,
    "start_time": "2024-03-01T12:08:08.846Z"
   },
   {
    "duration": 10,
    "start_time": "2024-03-01T12:08:38.750Z"
   },
   {
    "duration": 15,
    "start_time": "2024-03-01T12:08:52.463Z"
   },
   {
    "duration": 5,
    "start_time": "2024-03-01T12:09:24.296Z"
   },
   {
    "duration": 4,
    "start_time": "2024-03-01T12:10:45.779Z"
   },
   {
    "duration": 6,
    "start_time": "2024-03-01T12:10:56.092Z"
   },
   {
    "duration": 7,
    "start_time": "2024-03-01T12:10:59.723Z"
   },
   {
    "duration": 10,
    "start_time": "2024-03-01T12:11:33.786Z"
   },
   {
    "duration": 117,
    "start_time": "2024-03-01T12:11:43.472Z"
   },
   {
    "duration": 9209,
    "start_time": "2024-03-01T12:13:04.328Z"
   },
   {
    "duration": 9262,
    "start_time": "2024-03-01T12:13:35.899Z"
   },
   {
    "duration": 18192,
    "start_time": "2024-03-01T12:14:10.276Z"
   },
   {
    "duration": 5,
    "start_time": "2024-03-01T12:14:54.974Z"
   },
   {
    "duration": 18169,
    "start_time": "2024-03-01T12:15:01.501Z"
   },
   {
    "duration": 13,
    "start_time": "2024-03-01T12:16:27.057Z"
   },
   {
    "duration": 14,
    "start_time": "2024-03-01T12:16:52.967Z"
   },
   {
    "duration": 17980,
    "start_time": "2024-03-01T12:19:10.462Z"
   },
   {
    "duration": 1114,
    "start_time": "2024-03-01T12:19:38.438Z"
   },
   {
    "duration": 68,
    "start_time": "2024-03-01T12:19:39.555Z"
   },
   {
    "duration": 3,
    "start_time": "2024-03-01T12:19:39.625Z"
   },
   {
    "duration": 55,
    "start_time": "2024-03-01T12:19:39.629Z"
   },
   {
    "duration": 16,
    "start_time": "2024-03-01T12:19:39.686Z"
   },
   {
    "duration": 13,
    "start_time": "2024-03-01T12:19:39.704Z"
   },
   {
    "duration": 7,
    "start_time": "2024-03-01T12:19:39.718Z"
   },
   {
    "duration": 12,
    "start_time": "2024-03-01T12:19:39.726Z"
   },
   {
    "duration": 4,
    "start_time": "2024-03-01T12:19:39.739Z"
   },
   {
    "duration": 39,
    "start_time": "2024-03-01T12:19:39.744Z"
   },
   {
    "duration": 9,
    "start_time": "2024-03-01T12:19:39.785Z"
   },
   {
    "duration": 11,
    "start_time": "2024-03-01T12:19:39.795Z"
   },
   {
    "duration": 14,
    "start_time": "2024-03-01T12:19:39.807Z"
   },
   {
    "duration": 5,
    "start_time": "2024-03-01T12:19:39.824Z"
   },
   {
    "duration": 18,
    "start_time": "2024-03-01T12:19:39.831Z"
   },
   {
    "duration": 16,
    "start_time": "2024-03-01T12:19:39.851Z"
   },
   {
    "duration": 18,
    "start_time": "2024-03-01T12:19:39.868Z"
   },
   {
    "duration": 8,
    "start_time": "2024-03-01T12:19:39.888Z"
   },
   {
    "duration": 4,
    "start_time": "2024-03-01T12:19:39.898Z"
   },
   {
    "duration": 26,
    "start_time": "2024-03-01T12:19:39.904Z"
   },
   {
    "duration": 205,
    "start_time": "2024-03-01T12:19:39.931Z"
   },
   {
    "duration": 13,
    "start_time": "2024-03-01T12:19:40.137Z"
   },
   {
    "duration": 153,
    "start_time": "2024-03-01T12:19:40.152Z"
   },
   {
    "duration": 10,
    "start_time": "2024-03-01T12:19:40.307Z"
   },
   {
    "duration": 327,
    "start_time": "2024-03-01T12:19:40.319Z"
   },
   {
    "duration": 8,
    "start_time": "2024-03-01T12:19:40.648Z"
   },
   {
    "duration": 296,
    "start_time": "2024-03-01T12:19:40.658Z"
   },
   {
    "duration": 8,
    "start_time": "2024-03-01T12:19:40.956Z"
   },
   {
    "duration": 281,
    "start_time": "2024-03-01T12:19:40.965Z"
   },
   {
    "duration": 15,
    "start_time": "2024-03-01T12:19:41.248Z"
   },
   {
    "duration": 20,
    "start_time": "2024-03-01T12:19:41.264Z"
   },
   {
    "duration": 24,
    "start_time": "2024-03-01T12:19:41.285Z"
   },
   {
    "duration": 8,
    "start_time": "2024-03-01T12:19:41.311Z"
   },
   {
    "duration": 15,
    "start_time": "2024-03-01T12:19:41.321Z"
   },
   {
    "duration": 13,
    "start_time": "2024-03-01T12:19:41.337Z"
   },
   {
    "duration": 34,
    "start_time": "2024-03-01T12:19:41.351Z"
   },
   {
    "duration": 14,
    "start_time": "2024-03-01T12:19:41.387Z"
   },
   {
    "duration": 12,
    "start_time": "2024-03-01T12:19:41.402Z"
   },
   {
    "duration": 12,
    "start_time": "2024-03-01T12:19:41.415Z"
   },
   {
    "duration": 3,
    "start_time": "2024-03-01T12:19:41.429Z"
   },
   {
    "duration": 3,
    "start_time": "2024-03-01T12:19:41.436Z"
   },
   {
    "duration": 52,
    "start_time": "2024-03-01T12:19:41.441Z"
   },
   {
    "duration": 9,
    "start_time": "2024-03-01T12:19:41.495Z"
   },
   {
    "duration": 199,
    "start_time": "2024-03-01T12:19:41.505Z"
   },
   {
    "duration": 10,
    "start_time": "2024-03-01T12:19:41.706Z"
   },
   {
    "duration": 16,
    "start_time": "2024-03-01T12:19:41.717Z"
   },
   {
    "duration": 282,
    "start_time": "2024-03-01T12:19:41.735Z"
   },
   {
    "duration": 120,
    "start_time": "2024-03-01T12:19:42.018Z"
   },
   {
    "duration": 5,
    "start_time": "2024-03-01T12:19:42.140Z"
   },
   {
    "duration": 72,
    "start_time": "2024-03-01T12:19:42.146Z"
   },
   {
    "duration": 10,
    "start_time": "2024-03-01T12:19:42.219Z"
   },
   {
    "duration": 6,
    "start_time": "2024-03-01T12:19:42.231Z"
   },
   {
    "duration": 18206,
    "start_time": "2024-03-01T12:19:42.238Z"
   },
   {
    "duration": 4,
    "start_time": "2024-03-01T12:20:00.446Z"
   },
   {
    "duration": 67,
    "start_time": "2024-03-01T12:20:00.452Z"
   },
   {
    "duration": 90,
    "start_time": "2024-03-01T12:20:00.521Z"
   },
   {
    "duration": 44,
    "start_time": "2024-03-01T12:20:00.613Z"
   },
   {
    "duration": 18120,
    "start_time": "2024-03-01T12:20:58.635Z"
   },
   {
    "duration": 9,
    "start_time": "2024-03-01T12:22:39.351Z"
   },
   {
    "duration": 4,
    "start_time": "2024-03-01T12:27:23.930Z"
   },
   {
    "duration": 4,
    "start_time": "2024-03-01T12:27:32.344Z"
   },
   {
    "duration": 3,
    "start_time": "2024-03-01T12:27:32.706Z"
   },
   {
    "duration": 3,
    "start_time": "2024-03-01T12:27:33.026Z"
   },
   {
    "duration": 10,
    "start_time": "2024-03-01T12:27:33.386Z"
   },
   {
    "duration": 809,
    "start_time": "2024-03-01T12:27:33.921Z"
   },
   {
    "duration": 3,
    "start_time": "2024-03-01T12:27:34.732Z"
   },
   {
    "duration": 16,
    "start_time": "2024-03-01T12:27:34.736Z"
   },
   {
    "duration": 17,
    "start_time": "2024-03-01T12:27:35.250Z"
   },
   {
    "duration": 12,
    "start_time": "2024-03-01T12:27:35.467Z"
   },
   {
    "duration": 10,
    "start_time": "2024-03-01T12:27:35.657Z"
   },
   {
    "duration": 899,
    "start_time": "2024-03-01T12:27:35.898Z"
   },
   {
    "duration": 1131,
    "start_time": "2024-03-01T12:28:03.851Z"
   },
   {
    "duration": 68,
    "start_time": "2024-03-01T12:28:04.983Z"
   },
   {
    "duration": 4,
    "start_time": "2024-03-01T12:28:05.053Z"
   },
   {
    "duration": 42,
    "start_time": "2024-03-01T12:28:05.058Z"
   },
   {
    "duration": 16,
    "start_time": "2024-03-01T12:28:05.101Z"
   },
   {
    "duration": 32,
    "start_time": "2024-03-01T12:28:05.118Z"
   },
   {
    "duration": 7,
    "start_time": "2024-03-01T12:28:05.151Z"
   },
   {
    "duration": 21,
    "start_time": "2024-03-01T12:28:05.159Z"
   },
   {
    "duration": 4,
    "start_time": "2024-03-01T12:28:05.181Z"
   },
   {
    "duration": 6,
    "start_time": "2024-03-01T12:28:05.187Z"
   },
   {
    "duration": 10,
    "start_time": "2024-03-01T12:28:05.194Z"
   },
   {
    "duration": 7,
    "start_time": "2024-03-01T12:28:05.205Z"
   },
   {
    "duration": 22,
    "start_time": "2024-03-01T12:28:05.213Z"
   },
   {
    "duration": 13,
    "start_time": "2024-03-01T12:28:05.236Z"
   },
   {
    "duration": 6,
    "start_time": "2024-03-01T12:28:05.251Z"
   },
   {
    "duration": 5,
    "start_time": "2024-03-01T12:28:05.258Z"
   },
   {
    "duration": 19,
    "start_time": "2024-03-01T12:28:05.264Z"
   },
   {
    "duration": 9,
    "start_time": "2024-03-01T12:28:05.284Z"
   },
   {
    "duration": 18,
    "start_time": "2024-03-01T12:28:05.295Z"
   },
   {
    "duration": 40,
    "start_time": "2024-03-01T12:28:05.315Z"
   },
   {
    "duration": 178,
    "start_time": "2024-03-01T12:28:05.357Z"
   },
   {
    "duration": 13,
    "start_time": "2024-03-01T12:28:05.536Z"
   },
   {
    "duration": 126,
    "start_time": "2024-03-01T12:28:05.550Z"
   },
   {
    "duration": 9,
    "start_time": "2024-03-01T12:28:05.678Z"
   },
   {
    "duration": 293,
    "start_time": "2024-03-01T12:28:05.689Z"
   },
   {
    "duration": 9,
    "start_time": "2024-03-01T12:28:05.984Z"
   },
   {
    "duration": 311,
    "start_time": "2024-03-01T12:28:05.994Z"
   },
   {
    "duration": 9,
    "start_time": "2024-03-01T12:28:06.310Z"
   },
   {
    "duration": 290,
    "start_time": "2024-03-01T12:28:06.320Z"
   },
   {
    "duration": 15,
    "start_time": "2024-03-01T12:28:06.612Z"
   },
   {
    "duration": 10,
    "start_time": "2024-03-01T12:28:06.629Z"
   },
   {
    "duration": 16,
    "start_time": "2024-03-01T12:28:06.640Z"
   },
   {
    "duration": 25,
    "start_time": "2024-03-01T12:28:06.657Z"
   },
   {
    "duration": 16,
    "start_time": "2024-03-01T12:28:06.684Z"
   },
   {
    "duration": 14,
    "start_time": "2024-03-01T12:28:06.701Z"
   },
   {
    "duration": 16,
    "start_time": "2024-03-01T12:28:06.716Z"
   },
   {
    "duration": 50,
    "start_time": "2024-03-01T12:28:06.733Z"
   },
   {
    "duration": 13,
    "start_time": "2024-03-01T12:28:06.785Z"
   },
   {
    "duration": 13,
    "start_time": "2024-03-01T12:28:06.800Z"
   },
   {
    "duration": 4,
    "start_time": "2024-03-01T12:28:06.815Z"
   },
   {
    "duration": 14,
    "start_time": "2024-03-01T12:28:06.821Z"
   },
   {
    "duration": 9,
    "start_time": "2024-03-01T12:28:06.837Z"
   },
   {
    "duration": 39,
    "start_time": "2024-03-01T12:28:06.849Z"
   },
   {
    "duration": 214,
    "start_time": "2024-03-01T12:28:06.890Z"
   },
   {
    "duration": 8,
    "start_time": "2024-03-01T12:28:07.106Z"
   },
   {
    "duration": 7,
    "start_time": "2024-03-01T12:28:07.116Z"
   },
   {
    "duration": 289,
    "start_time": "2024-03-01T12:28:07.125Z"
   },
   {
    "duration": 138,
    "start_time": "2024-03-01T12:28:07.416Z"
   },
   {
    "duration": 6,
    "start_time": "2024-03-01T12:28:07.555Z"
   },
   {
    "duration": 67,
    "start_time": "2024-03-01T12:28:07.563Z"
   },
   {
    "duration": 10,
    "start_time": "2024-03-01T12:28:07.632Z"
   },
   {
    "duration": 30,
    "start_time": "2024-03-01T12:28:07.643Z"
   },
   {
    "duration": 17531,
    "start_time": "2024-03-01T12:28:07.675Z"
   },
   {
    "duration": 4,
    "start_time": "2024-03-01T12:28:25.207Z"
   },
   {
    "duration": 10,
    "start_time": "2024-03-01T12:28:25.213Z"
   },
   {
    "duration": 7,
    "start_time": "2024-03-01T12:28:25.225Z"
   },
   {
    "duration": 5,
    "start_time": "2024-03-01T12:28:25.233Z"
   },
   {
    "duration": 43,
    "start_time": "2024-03-01T12:28:25.239Z"
   },
   {
    "duration": 8,
    "start_time": "2024-03-01T12:28:25.284Z"
   },
   {
    "duration": 8,
    "start_time": "2024-03-01T12:28:25.293Z"
   },
   {
    "duration": 6,
    "start_time": "2024-03-01T12:28:25.303Z"
   },
   {
    "duration": 16,
    "start_time": "2024-03-01T12:28:25.310Z"
   },
   {
    "duration": 13,
    "start_time": "2024-03-01T12:28:25.328Z"
   },
   {
    "duration": 44,
    "start_time": "2024-03-01T12:28:25.343Z"
   },
   {
    "duration": 15,
    "start_time": "2024-03-01T12:28:25.389Z"
   },
   {
    "duration": 14,
    "start_time": "2024-03-01T12:28:25.405Z"
   },
   {
    "duration": 4,
    "start_time": "2024-03-01T12:28:25.421Z"
   },
   {
    "duration": 6,
    "start_time": "2024-03-01T12:28:25.427Z"
   },
   {
    "duration": 4,
    "start_time": "2024-03-01T12:28:25.434Z"
   },
   {
    "duration": 3,
    "start_time": "2024-03-01T12:28:25.440Z"
   },
   {
    "duration": 41,
    "start_time": "2024-03-01T12:28:25.444Z"
   },
   {
    "duration": 800,
    "start_time": "2024-03-01T12:28:25.486Z"
   },
   {
    "duration": 4,
    "start_time": "2024-03-01T12:28:26.287Z"
   },
   {
    "duration": 15,
    "start_time": "2024-03-01T12:28:26.292Z"
   },
   {
    "duration": 14,
    "start_time": "2024-03-01T12:28:26.309Z"
   },
   {
    "duration": 10,
    "start_time": "2024-03-01T12:28:26.324Z"
   },
   {
    "duration": 10,
    "start_time": "2024-03-01T12:28:26.336Z"
   },
   {
    "duration": 898,
    "start_time": "2024-03-01T12:28:26.348Z"
   }
  ],
  "kernelspec": {
   "display_name": "Python 3 (ipykernel)",
   "language": "python",
   "name": "python3"
  },
  "language_info": {
   "codemirror_mode": {
    "name": "ipython",
    "version": 3
   },
   "file_extension": ".py",
   "mimetype": "text/x-python",
   "name": "python",
   "nbconvert_exporter": "python",
   "pygments_lexer": "ipython3",
   "version": "3.11.5"
  },
  "toc": {
   "base_numbering": 1,
   "nav_menu": {},
   "number_sections": true,
   "sideBar": true,
   "skip_h1_title": true,
   "title_cell": "Table of Contents",
   "title_sidebar": "Contents",
   "toc_cell": false,
   "toc_position": {
    "height": "416.359px",
    "left": "99px",
    "top": "210.125px",
    "width": "271px"
   },
   "toc_section_display": true,
   "toc_window_display": true
  }
 },
 "nbformat": 4,
 "nbformat_minor": 5
}
