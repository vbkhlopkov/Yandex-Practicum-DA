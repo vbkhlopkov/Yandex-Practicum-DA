{
 "cells": [
  {
   "cell_type": "markdown",
   "metadata": {},
   "source": [
    "# Исследования рынка общепита в Москве для принятия решения об открытии нового заведения\n",
    "\n",
    "**Описание проекта**  \n",
    "Инвесторы из фонда «Shut Up and Take My Money» решили попробовать себя в новой области и открыть заведение общественного питания в Москве. Заказчики ещё не знают, что это будет за место: кафе, ресторан, пиццерия, паб или бар, — и какими будут расположение, меню и цены.\n",
    "\n",
    "Вам доступен датасет с заведениями общественного питания Москвы, составленный на основе данных сервисов Яндекс Карты и Яндекс Бизнес на лето 2022 года. Информация, размещённая в сервисе Яндекс Бизнес, могла быть добавлена пользователями или найдена в общедоступных источниках. Она носит исключительно справочный характер.\n",
    "\n",
    "**Цель исследования**  \n",
    "Подготовить исследование рынка Москвы, найти интересные особенности и презентовать полученные результаты, которые в будущем помогут в выборе подходящего инвесторам места.\n",
    "\n",
    "**Описание данных**  \n",
    "Файл moscow_places.csv:  \n",
    "- name — название заведения;\n",
    "- address — адрес заведения;\n",
    "- category — категория заведения, например «кафе», «пиццерия» или «кофейня»;\n",
    "- hours — информация о днях и часах работы;\n",
    "- lat — широта географической точки, в которой находится заведение;\n",
    "- lng — долгота географической точки, в которой находится заведение;\n",
    "- rating — рейтинг заведения по оценкам пользователей в Яндекс Картах (высшая оценка — 5.0);\n",
    "- price — категория цен в заведении, например «средние», «ниже среднего», «выше среднего» и так далее;\n",
    "- avg_bill — строка, которая хранит среднюю стоимость заказа в виде диапазона, например:  \n",
    "«Средний счёт: 1000–1500 ₽»;  \n",
    "«Цена чашки капучино: 130–220 ₽»;  \n",
    "«Цена бокала пива: 400–600 ₽».  \n",
    "и так далее;  \n",
    "- middle_avg_bill — число с оценкой среднего чека, которое указано только для значений из столбца avg_bill, начинающихся с подстроки «Средний счёт»:  \n",
    "Если в строке указан ценовой диапазон из двух значений, в столбец войдёт медиана этих двух значений.  \n",
    "Если в строке указано одно число — цена без диапазона, то в столбец войдёт это число.  \n",
    "Если значения нет или оно не начинается с подстроки «Средний счёт», то в столбец ничего не войдёт.  \n",
    "- middle_coffee_cup — число с оценкой одной чашки капучино, которое указано только для значений из столбца avg_bill, начинающихся с подстроки «Цена одной чашки капучино»:  \n",
    "Если в строке указан ценовой диапазон из двух значений, в столбец войдёт медиана этих двух значений.  \n",
    "Если в строке указано одно число — цена без диапазона, то в столбец войдёт это число.  \n",
    "Если значения нет или оно не начинается с подстроки «Цена одной чашки капучино», то в столбец ничего не войдёт.  \n",
    "- chain — число, выраженное 0 или 1, которое показывает, является ли заведение сетевым (для маленьких сетей могут встречаться ошибки):  \n",
    "0 — заведение не является сетевым  \n",
    "1 — заведение является сетевым  \n",
    "- district — административный район, в котором находится заведение, например Центральный административный округ;\n",
    "- seats — количество посадочных мест.\n",
    "\n",
    "**Ход исследования**  \n",
    "Исследование пройдет в 6 этапов:  \n",
    "1. [Загрузим данные и изучим общую информацию.](#Загрузим-данные-и-изучим-общую-информацию)\n",
    "2. [Выполним предобработку данных.](#Выполним-предобработку-данных)\n",
    "3. [Анализ данных.](#Анализ-данных)\n",
    "4. [Детализируем исследование: открытие кофейни.](#Детализируем-исследование:-открытие-кофейни)\n",
    "5. [Подготовка презентации.](#Подготовка-презентации)\n",
    "6. [Общий вывод.](#Общий-вывод)"
   ]
  },
  {
   "cell_type": "markdown",
   "metadata": {},
   "source": [
    "### Загрузим данные и изучим общую информацию"
   ]
  },
  {
   "cell_type": "code",
   "execution_count": 2,
   "metadata": {},
   "outputs": [
    {
     "ename": "ModuleNotFoundError",
     "evalue": "No module named 'folium'",
     "output_type": "error",
     "traceback": [
      "\u001b[0;31m---------------------------------------------------------------------------\u001b[0m",
      "\u001b[0;31mModuleNotFoundError\u001b[0m                       Traceback (most recent call last)",
      "Cell \u001b[0;32mIn[2], line 8\u001b[0m\n\u001b[1;32m      6\u001b[0m \u001b[38;5;28;01mimport\u001b[39;00m \u001b[38;5;21;01mplotly\u001b[39;00m\u001b[38;5;21;01m.\u001b[39;00m\u001b[38;5;21;01mexpress\u001b[39;00m \u001b[38;5;28;01mas\u001b[39;00m \u001b[38;5;21;01mpx\u001b[39;00m\n\u001b[1;32m      7\u001b[0m \u001b[38;5;28;01mfrom\u001b[39;00m \u001b[38;5;21;01mplotly\u001b[39;00m \u001b[38;5;28;01mimport\u001b[39;00m graph_objects \u001b[38;5;28;01mas\u001b[39;00m go\n\u001b[0;32m----> 8\u001b[0m \u001b[38;5;28;01mfrom\u001b[39;00m \u001b[38;5;21;01mfolium\u001b[39;00m \u001b[38;5;28;01mimport\u001b[39;00m Map, Marker, Choropleth\n\u001b[1;32m      9\u001b[0m \u001b[38;5;28;01mfrom\u001b[39;00m \u001b[38;5;21;01mfolium\u001b[39;00m\u001b[38;5;21;01m.\u001b[39;00m\u001b[38;5;21;01mplugins\u001b[39;00m \u001b[38;5;28;01mimport\u001b[39;00m MarkerCluster\n",
      "\u001b[0;31mModuleNotFoundError\u001b[0m: No module named 'folium'"
     ]
    }
   ],
   "source": [
    "import pandas as pd\n",
    "import numpy as np\n",
    "from numpy import median\n",
    "import matplotlib.pyplot as plt\n",
    "import seaborn as sns\n",
    "import plotly.express as px\n",
    "from plotly import graph_objects as go\n",
    "from folium import Map, Marker, Choropleth\n",
    "from folium.plugins import MarkerCluster"
   ]
  },
  {
   "cell_type": "code",
   "execution_count": null,
   "metadata": {},
   "outputs": [],
   "source": [
    "try:\n",
    "    data = pd.read_csv('/datasets/moscow_places.csv')\n",
    "except:\n",
    "    data = pd.read_csv('https://code.s3.yandex.net/datasets/moscow_places.csv')"
   ]
  },
  {
   "cell_type": "code",
   "execution_count": null,
   "metadata": {},
   "outputs": [],
   "source": [
    "data.info()\n",
    "data.head()"
   ]
  },
  {
   "cell_type": "markdown",
   "metadata": {},
   "source": [
    "По результатам изучения общей информации можно сделать следующие выводы:\n",
    "\n",
    "- В данных представлено 8406 заведений.\n",
    "- В столбцах представлено 14 столбцов с типами данных `object`, `float64`, `int64`.\n",
    "- Количество строк в столбцах различается. Значит, в данных есть пропущенные значения."
   ]
  },
  {
   "cell_type": "markdown",
   "metadata": {},
   "source": [
    "### Выполним предобработку данных\n",
    "#### Проверим данные на явные и неявные дубликаты"
   ]
  },
  {
   "cell_type": "code",
   "execution_count": null,
   "metadata": {},
   "outputs": [],
   "source": [
    "print('Количество явных дубликатов:', data.duplicated().sum())"
   ]
  },
  {
   "cell_type": "code",
   "execution_count": null,
   "metadata": {},
   "outputs": [],
   "source": [
    "# приведем названия заведений к нижнему регистрку и проверим неявные дубликаты\n",
    "data['name'] = data['name'].str.lower()\n",
    "print('Количество неявных дубликатов в столбцах с названием и адресом:', data.duplicated(subset=['name', 'address']).sum())"
   ]
  },
  {
   "cell_type": "code",
   "execution_count": null,
   "metadata": {},
   "outputs": [],
   "source": [
    "# проверка неявных дубликатов в столбце с категорией заведения\n",
    "data['category'].unique()"
   ]
  },
  {
   "cell_type": "code",
   "execution_count": null,
   "metadata": {},
   "outputs": [],
   "source": [
    "# проверка неявных дубликатов в столбце с административным районом\n",
    "data['district'].unique()"
   ]
  },
  {
   "cell_type": "code",
   "execution_count": null,
   "metadata": {},
   "outputs": [],
   "source": [
    "# проверка неявных дубликатов в столбце с категорией цен\n",
    "data['price'].unique()"
   ]
  },
  {
   "cell_type": "markdown",
   "metadata": {},
   "source": [
    "В данных отсутствуют явные дубликаты. Были найдены 3 неявных дубликата, которые мы оставим как есть."
   ]
  },
  {
   "cell_type": "markdown",
   "metadata": {},
   "source": [
    "#### Проверим данные на пропуски"
   ]
  },
  {
   "cell_type": "code",
   "execution_count": null,
   "metadata": {},
   "outputs": [],
   "source": [
    "data.isna().sum()"
   ]
  },
  {
   "cell_type": "markdown",
   "metadata": {},
   "source": [
    "В данных встречаются пропуски в столбцах с информацией о днях и часах работы, с категориями цен, со средней стоимостью заказа, с оценкой среднего чека, с оценкой одной чашки капучино и с количеством посадочных мест. Так как в столбцах большая доля пропусков, на данный момент оставим как есть."
   ]
  },
  {
   "cell_type": "markdown",
   "metadata": {},
   "source": [
    "#### Добавим отдельный столбец с названиями улиц из столбца с адресом"
   ]
  },
  {
   "cell_type": "code",
   "execution_count": null,
   "metadata": {},
   "outputs": [],
   "source": [
    "data['street'] = data['address'].str.split(pat = \", \").str[1]\n",
    "data.sample(5)"
   ]
  },
  {
   "cell_type": "markdown",
   "metadata": {},
   "source": [
    "#### Добавим отдельный столбец с обозначением, что заведение работает ежедневно и круглосуточно (24/7)"
   ]
  },
  {
   "cell_type": "code",
   "execution_count": null,
   "metadata": {},
   "outputs": [],
   "source": [
    "data['is_24_7'] = data['hours'].apply(lambda x: True if x == 'ежедневно, круглосуточно' else False)\n",
    "data.query('hours == \"ежедневно, круглосуточно\"').head()"
   ]
  },
  {
   "cell_type": "markdown",
   "metadata": {},
   "source": [
    "**Вывод**\n",
    "\n",
    "На этапе предобработки данных мы проверили данные на дубликаты и пропуски. В данных отсутствуют явные и неявные дубликаты. В данных встречаются пропуски в столбцах. Так как доля пропусков высокая, на данный момент оставим как есть. Также были добавлен столбец с названиями улиц и столбец с обозначением, что заведение работает ежедневно и круглосуточно (24/7)."
   ]
  },
  {
   "cell_type": "markdown",
   "metadata": {},
   "source": [
    "### Анализ данных\n",
    "#### Какие категории заведений представлены в данных? Исследуем количество объектов общественного питания по категориям: рестораны, кофейни, пиццерии, бары и так далее. Построим визуализации."
   ]
  },
  {
   "cell_type": "code",
   "execution_count": null,
   "metadata": {},
   "outputs": [],
   "source": [
    "data_cat = (data\n",
    "              .groupby('category', as_index=False)['name']\n",
    "              .agg('count')\n",
    "              .sort_values(by='name', ascending=False)\n",
    "            )\n",
    "fig = px.bar(data_cat, x='category', y='name', color='category', title='Количество объектов общественного питания по категориям',\n",
    "            labels={\n",
    "                     \"category\": \"Категория\",\n",
    "                     \"name\": \"Количество заведений\"\n",
    "                 }\n",
    "            )\n",
    "fig.update_layout(showlegend = False)\n",
    "fig.show()"
   ]
  },
  {
   "cell_type": "markdown",
   "metadata": {},
   "source": [
    "Больше всего объектов общественного питания встречается в категории кафе, затем идут ресторан, кофейня, бар/паб, пиццерия, быстрое питание, столовая и булочная."
   ]
  },
  {
   "cell_type": "markdown",
   "metadata": {},
   "source": [
    "#### Исследуем количество посадочных мест в местах по категориям: рестораны, кофейни, пиццерии, бары и так далее. Построим визуализации. Проанализируем результаты и сделаем выводы."
   ]
  },
  {
   "cell_type": "code",
   "execution_count": null,
   "metadata": {},
   "outputs": [],
   "source": [
    "plt.figure(figsize=(15, 8))\n",
    "ax = sns.boxplot(x='category', y='seats', data=data)\n",
    "plt.title('Количество посадочных мест в заведениях по категориям')\n",
    "plt.xlabel('Категория')\n",
    "plt.ylabel('Количество посадочных мест');"
   ]
  },
  {
   "cell_type": "markdown",
   "metadata": {},
   "source": [
    "Так как в данных много выбросов, для визуализации используем медианные значения."
   ]
  },
  {
   "cell_type": "code",
   "execution_count": null,
   "metadata": {},
   "outputs": [],
   "source": [
    "data_seats = (data\n",
    "              .groupby('category', as_index=False)['seats']\n",
    "              .agg('median')\n",
    "              .round(1)\n",
    "              .sort_values(by='seats', ascending=False)\n",
    "             )\n",
    "fig = px.bar(data_seats, x='category', y='seats', color='category', title='Распределение количества посадочных мест в заведениях по категориям',\n",
    "            labels={\n",
    "                     \"category\": \"Категория\",\n",
    "                     \"seats\": \"Количество посадочных мест\"\n",
    "                 }\n",
    "            )\n",
    "fig.update_layout(showlegend = False)\n",
    "fig.show()"
   ]
  },
  {
   "cell_type": "markdown",
   "metadata": {},
   "source": [
    "Больше всего посадочных мест – в заведениях в категории ресторан, затем идут бар/паб, кофейня, столовая, быстрое питания, кафе, пиццерия и булочная."
   ]
  },
  {
   "cell_type": "markdown",
   "metadata": {},
   "source": [
    "#### Рассмотрим и изобразим соотношение сетевых и несетевых заведений в датасете. Каких заведений больше?"
   ]
  },
  {
   "cell_type": "code",
   "execution_count": null,
   "metadata": {
    "scrolled": false
   },
   "outputs": [],
   "source": [
    "data_chain = (data\n",
    "              .pivot_table(index='chain', values='name', aggfunc='count')\n",
    "              .sort_values(by='chain', ascending=False)\n",
    "              .reset_index()\n",
    "             )\n",
    "fig = go.Figure(data=[go.Pie(labels=['сетевые', 'несетевые'], values=data_chain['name'], textinfo='label+percent')])\n",
    "fig.update_layout(title_text = 'Cоотношение сетевых и несетевых заведений', showlegend = False)\n",
    "fig.show() "
   ]
  },
  {
   "cell_type": "markdown",
   "metadata": {},
   "source": [
    "Несетевых заведений больше, чем сетевых."
   ]
  },
  {
   "cell_type": "markdown",
   "metadata": {},
   "source": [
    "#### Какие категории заведений чаще являются сетевыми? Исследуем данные и ответим на вопрос графиком."
   ]
  },
  {
   "cell_type": "code",
   "execution_count": null,
   "metadata": {
    "scrolled": false
   },
   "outputs": [],
   "source": [
    "data_chain_cat = (data\n",
    "                  .groupby('category', as_index=False)\n",
    "                  .agg(count=('chain', 'count'), sum=('chain', 'sum'))\n",
    "                 )\n",
    "data_chain_cat['ratio'] = round(data_chain_cat['sum'] / data_chain_cat['count'], 3)\n",
    "data_chain_cat = data_chain_cat.sort_values(by='ratio', ascending=False)\n",
    "fig = px.bar(data_chain_cat, x='category', y='ratio', color='category', title='Распределение доли сетевых заведений по категориям',\n",
    "            labels={\n",
    "                     \"category\": \"Категория\",\n",
    "                     \"ratio\": \"Доля сетевых заведений\"\n",
    "            }\n",
    "            )\n",
    "fig.update_layout(showlegend = False)\n",
    "fig.show()"
   ]
  },
  {
   "cell_type": "markdown",
   "metadata": {},
   "source": [
    "Доля сетевых заведений больше в категории булочная, затем идут пиццерия, кофейня, быстрое питание, ресторан, кафе, столовая, бар/паб."
   ]
  },
  {
   "cell_type": "markdown",
   "metadata": {},
   "source": [
    "#### Сгруппируем данные по названиям заведений и найдем топ-15 популярных сетей в Москве. Под популярностью понимается количество заведений этой сети в регионе. Построим подходящую для такой информации визуализацию. Знакомы ли нам эти сети? Есть ли какой-то признак, который их объединяет? К какой категории заведений они относятся?"
   ]
  },
  {
   "cell_type": "code",
   "execution_count": null,
   "metadata": {},
   "outputs": [],
   "source": [
    "data_name = (data[data['chain'] == 1]\n",
    "             .groupby(['name', 'category'], as_index=False)\n",
    "             .agg(count=('category', 'count'))\n",
    "             .sort_values(by = 'count', ascending = False)\n",
    "             .head(15)\n",
    "            )\n",
    "fig = px.bar(data_name, x='name', y='count', color='count', title='Топ-15 популярных сетей в Москве',\n",
    "             labels={\n",
    "                     \"name\": \"Название заведения\",\n",
    "                     \"count\": \"Количество заведений\"\n",
    "                 }\n",
    "            )\n",
    "fig.update_layout(showlegend = False)\n",
    "fig.show()"
   ]
  },
  {
   "cell_type": "code",
   "execution_count": null,
   "metadata": {},
   "outputs": [],
   "source": [
    "fig = px.bar(data_name, x='name', y='count', color = 'category', title='Топ-15 популярных сетей в Москве по категориям',\n",
    "             labels={\n",
    "                     \"name\": \"Название заведения\",\n",
    "                     \"count\": \"Количество заведений\",\n",
    "                     \"category\": \"Категория\"\n",
    "                 }\n",
    "            )\n",
    "fig.show()"
   ]
  },
  {
   "cell_type": "markdown",
   "metadata": {},
   "source": [
    "Большую часть заведений, входящих в топ-15 популярных сетей, составляют кофейни. На первом месте – Шоколадница."
   ]
  },
  {
   "cell_type": "markdown",
   "metadata": {},
   "source": [
    "#### Какие административные районы Москвы присутствуют в датасете? Отобразим общее количество заведений и количество заведений каждой категории по районам. Проиллюстрируем эту информацию одним графиком."
   ]
  },
  {
   "cell_type": "code",
   "execution_count": null,
   "metadata": {},
   "outputs": [],
   "source": [
    "data['district'].unique()"
   ]
  },
  {
   "cell_type": "code",
   "execution_count": null,
   "metadata": {},
   "outputs": [],
   "source": [
    "data_disctrict = (data\n",
    "                  .groupby(['district', 'category'], as_index=False)\n",
    "                  .agg(count=('name', 'count'))\n",
    "                  .sort_values(by='count', ascending=True)\n",
    "                 )\n",
    "fig = px.bar(data_disctrict, x='count', y='district', color = 'category', orientation='h', title='Количество заведений каждой категории по районам',\n",
    "             labels={\n",
    "                     \"district\": \"Район\",\n",
    "                     \"count\": \"Количество заведений\",\n",
    "                     \"category\": \"Категория\"\n",
    "                 }\n",
    "            )\n",
    "fig.show()"
   ]
  },
  {
   "cell_type": "markdown",
   "metadata": {},
   "source": [
    "В датасете присутствует 9 административных районов: ЦАО, САО, ЗАО, ЮАО, ВАО, СВАО, ЮЗАО, ЮВАО и СЗАО. Больше всего заведений представлено в ЦАО. При этом в ЦАО представлено больше ресторанов, тогда как в других районах первое место занимают кафе."
   ]
  },
  {
   "cell_type": "markdown",
   "metadata": {},
   "source": [
    "#### Визуализируем распределение средних рейтингов по категориям заведений. Сильно ли различаются усреднённые рейтинги в разных типах общепита?"
   ]
  },
  {
   "cell_type": "code",
   "execution_count": null,
   "metadata": {
    "scrolled": false
   },
   "outputs": [],
   "source": [
    "plt.figure(figsize=(15, 8))\n",
    "data_rating = (data\n",
    "              .groupby('category', as_index=False)['rating']\n",
    "              .agg('mean')\n",
    "              .sort_values(by='rating', ascending=False)\n",
    "             )\n",
    "ax = sns.barplot(x='category', y='rating', data=data_rating)\n",
    "ax.set_ylim(3, 5)\n",
    "plt.title('Распределение средних рейтингов по категориям заведений')\n",
    "plt.xlabel('Категория')\n",
    "plt.ylabel('Средний рейтинг')\n",
    "plt.grid();"
   ]
  },
  {
   "cell_type": "markdown",
   "metadata": {},
   "source": [
    "Усреднённые рейтинги не сильно различаются в разных типах общепита. Средний рейтинг во всех категориях находится в диапазоне 4-4.5. На первом месте по среднему рейтингу находится бар/паб, затем идут пиццерия, ресторан, кофейня, булочная, столовая, кафе и быстрое питание."
   ]
  },
  {
   "cell_type": "markdown",
   "metadata": {},
   "source": [
    "#### Построим фоновую картограмму (хороплет) со средним рейтингом заведений каждого района. Границы районов Москвы, которые встречаются в датасете, хранятся в файле admin_level_geomap.geojson."
   ]
  },
  {
   "cell_type": "code",
   "execution_count": null,
   "metadata": {},
   "outputs": [],
   "source": [
    "data_dist_rat = (data\n",
    "                 .groupby('district', as_index=False)['rating']\n",
    "                 .agg('mean')\n",
    "                 .sort_values(by='rating', ascending=False)\n",
    "                )"
   ]
  },
  {
   "cell_type": "code",
   "execution_count": null,
   "metadata": {},
   "outputs": [],
   "source": [
    "# загружаем JSON-файл с границами округов Москвы\n",
    "state_geo = '/datasets/admin_level_geomap.geojson'\n",
    "# moscow_lat - широта центра Москвы, moscow_lng - долгота центра Москвы\n",
    "moscow_lat, moscow_lng = 55.751244, 37.618423\n",
    "\n",
    "# создаём карту Москвы\n",
    "m = Map(location=[moscow_lat, moscow_lng], zoom_start=10, tiles='Cartodb Positron')\n",
    "\n",
    "# создаём хороплет с помощью конструктора Choropleth и добавляем его на карту\n",
    "Choropleth(\n",
    "    geo_data=state_geo,\n",
    "    data=data_dist_rat,\n",
    "    columns=['district', 'rating'],\n",
    "    key_on='feature.name',\n",
    "    fill_color='YlGn',\n",
    "    fill_opacity=0.8,\n",
    "    legend_name='Средний рейтинг заведений',\n",
    ").add_to(m)\n",
    "\n",
    "# выводим карту\n",
    "m"
   ]
  },
  {
   "cell_type": "markdown",
   "metadata": {},
   "source": [
    "Самый высокий рейтинг – у заведений в районе ЦАО. Самый низкий - у заведений в районе ЮВАО."
   ]
  },
  {
   "cell_type": "markdown",
   "metadata": {},
   "source": [
    "#### Отобразим все заведения датасета на карте с помощью кластеров средствами библиотеки folium."
   ]
  },
  {
   "cell_type": "code",
   "execution_count": null,
   "metadata": {
    "scrolled": false
   },
   "outputs": [],
   "source": [
    "# создаём пустой кластер, добавляем его на карту\n",
    "marker_cluster = MarkerCluster().add_to(m)\n",
    "# пишем функцию, которая принимает строку датафрейма,\n",
    "# создаёт маркер в текущей точке и добавляет его в кластер marker_cluster\n",
    "def create_clusters(row):\n",
    "    Marker(\n",
    "        [row['lat'], row['lng']],\n",
    "        popup=f\"{row['name']} {row['rating']}\",\n",
    "    ).add_to(marker_cluster)\n",
    "\n",
    "# применяем функцию create_clusters() к каждой строке датафрейма\n",
    "data.apply(create_clusters, axis=1)\n",
    "\n",
    "# выводим карту\n",
    "m"
   ]
  },
  {
   "cell_type": "markdown",
   "metadata": {},
   "source": [
    "#### Найдем топ-15 улиц по количеству заведений. Построим график распределения количества заведений и их категорий по этим улицам. Проиллюстрируем эту информацию одним графиком."
   ]
  },
  {
   "cell_type": "code",
   "execution_count": null,
   "metadata": {},
   "outputs": [],
   "source": [
    "data_street = data['street'].value_counts().head(15)\n",
    "data_street"
   ]
  },
  {
   "cell_type": "markdown",
   "metadata": {},
   "source": [
    "Первое место в топ-15 улиц по количеству заведений занимает проспект Мира (184 заведения). На последнем месте в списке – Пятницкая улица (48 заведений)."
   ]
  },
  {
   "cell_type": "code",
   "execution_count": null,
   "metadata": {},
   "outputs": [],
   "source": [
    "data_str_cat = (data[data['street'].isin(data_street.index)]\n",
    "                .groupby(['street', 'category'], as_index=False)\n",
    "                .agg(count=('name', 'count'))\n",
    "                .sort_values('count', ascending = False)\n",
    "               )\n",
    "fig = px.bar(data_str_cat, x='count', y='street', color = 'category', orientation='h', title='Распределение количества заведений и их категорий по улицам, входящим в топ-15',\n",
    "             labels={\n",
    "                     \"street\": \"Название улицы\",\n",
    "                     \"count\": \"Количество заведений\"\n",
    "                 }\n",
    "            )\n",
    "fig.show()"
   ]
  },
  {
   "cell_type": "markdown",
   "metadata": {},
   "source": [
    "В топ-15 улиц по количеству заведений большую часть категорий составляют кафе, ресторан и кофейня."
   ]
  },
  {
   "cell_type": "markdown",
   "metadata": {},
   "source": [
    "#### Найдем улицы, на которых находится только один объект общепита. Что можно сказать об этих заведениях?"
   ]
  },
  {
   "cell_type": "code",
   "execution_count": null,
   "metadata": {},
   "outputs": [],
   "source": [
    "data_one = data.groupby(['street'], as_index=False)['name'].nunique()\n",
    "data_one = data_one[data_one['name'] == 1]\n",
    "print('Всего в датасете', len(data_one), 'улиц, на которых находится только один объект общепита.')"
   ]
  },
  {
   "cell_type": "code",
   "execution_count": null,
   "metadata": {},
   "outputs": [],
   "source": [
    "data_district_one = (data[data['street'].isin(list(data_one['street']))]\n",
    "                .groupby(['district'], as_index=False)\n",
    "                .agg(count=('street', 'count'))\n",
    "                .sort_values('count', ascending = False)\n",
    "               )\n",
    "fig = px.bar(data_district_one, x='district', y='count', color='district', title='Распределение количества улиц, на которых только один объект общепита, по районам',\n",
    "                labels={\n",
    "                     \"district\": \"Район\",\n",
    "                     \"count\": \"Количество заведений\"\n",
    "                 }\n",
    "            )\n",
    "fig.update_layout(showlegend = False)\n",
    "fig.show()"
   ]
  },
  {
   "cell_type": "markdown",
   "metadata": {},
   "source": [
    "Больше всего улиц с одним объектом общепита находится в ЦАО, меньше всего – в ЮЗАО."
   ]
  },
  {
   "cell_type": "code",
   "execution_count": null,
   "metadata": {},
   "outputs": [],
   "source": [
    "data_category_one = (data[data['street'].isin(list(data_one['street']))]\n",
    "                .groupby(['category'], as_index=False)\n",
    "                .agg(count=('street', 'count'))\n",
    "                .sort_values('count', ascending = False)\n",
    "               )\n",
    "fig = px.bar(data_category_one, x='category', y='count', color='category', title='Количество улиц, на которых только один объект общепита, по категориям',\n",
    "             labels={\n",
    "                     \"category\": \"Категория\",\n",
    "                     \"count\": \"Количество заведений\"\n",
    "                 }\n",
    "            )\n",
    "fig.update_layout(showlegend = False)\n",
    "fig.show()"
   ]
  },
  {
   "cell_type": "markdown",
   "metadata": {},
   "source": [
    "Чаще всего на улицах с одним объектом общепита расположены кафе, ресторан, кофейня, реже всего – булочная."
   ]
  },
  {
   "cell_type": "markdown",
   "metadata": {},
   "source": [
    "#### Значения средних чеков заведений хранятся в столбце `middle_avg_bill`. Эти числа показывают примерную стоимость заказа в рублях, которая чаще всего выражена диапазоном. Посчитаем медиану этого столбца для каждого района. Используем это значение в качестве ценового индикатора района. Построим фоновую картограмму (хороплет) с полученными значениями для каждого района. Проанализируем цены в центральном административном округе и других. Как удалённость от центра влияет на цены в заведениях?"
   ]
  },
  {
   "cell_type": "code",
   "execution_count": null,
   "metadata": {},
   "outputs": [],
   "source": [
    "data_avg_bill = (data\n",
    "              .groupby('district', as_index=False)['middle_avg_bill']\n",
    "              .agg('median')\n",
    "              .round(1)\n",
    "              .sort_values(by='middle_avg_bill', ascending=False)\n",
    "             )\n",
    "\n",
    "# создаём карту Москвы\n",
    "m = Map(location=[moscow_lat, moscow_lng], zoom_start=10, tiles='Cartodb Positron')\n",
    "\n",
    "# создаём хороплет с помощью конструктора Choropleth и добавляем его на карту\n",
    "Choropleth(\n",
    "    geo_data=state_geo,\n",
    "    data=data_avg_bill,\n",
    "    columns=['district', 'middle_avg_bill'],\n",
    "    key_on='feature.name',\n",
    "    fill_color='YlGn',\n",
    "    fill_opacity=0.8,\n",
    "    legend_name='Средний чек заведений',\n",
    ").add_to(m)\n",
    "\n",
    "# выводим карту\n",
    "m"
   ]
  },
  {
   "cell_type": "markdown",
   "metadata": {},
   "source": [
    "Самый высокий средний чек – в ЦАО и ЗАО. Самый низкий – в СВАО, ЮАО и ЮВАО."
   ]
  },
  {
   "cell_type": "markdown",
   "metadata": {},
   "source": [
    "#### Проиллюстрируем другие взаимосвязи, которые мы нашли в данных. Исследуем часы работы заведений и их зависимость от расположения и категории заведения. Также исследуем особенности заведений с плохими рейтингами, средние чеки в таких местах и распределение по категориям заведений."
   ]
  },
  {
   "cell_type": "markdown",
   "metadata": {},
   "source": [
    "Исследуем часы работы заведений и их зависимость от расположения заведения."
   ]
  },
  {
   "cell_type": "code",
   "execution_count": null,
   "metadata": {},
   "outputs": [],
   "source": [
    "data_is_24_7_dist = (data.query('is_24_7 == True')\n",
    "                .groupby(['district', 'is_24_7'], as_index=False)\n",
    "                .agg(count=('name', 'count'))\n",
    "                .sort_values('count', ascending = False)\n",
    "               )\n",
    "# создаём карту Москвы\n",
    "m = Map(location=[moscow_lat, moscow_lng], zoom_start=10, tiles='Cartodb Positron')\n",
    "\n",
    "# создаём хороплет с помощью конструктора Choropleth и добавляем его на карту\n",
    "Choropleth(\n",
    "    geo_data=state_geo,\n",
    "    data=data_is_24_7_dist,\n",
    "    columns=['district', 'count'],\n",
    "    key_on='feature.name',\n",
    "    fill_color='YlGn',\n",
    "    fill_opacity=0.8,\n",
    "    legend_name='Количество круглосуточных заведений',\n",
    ").add_to(m)\n",
    "\n",
    "# выводим карту\n",
    "m"
   ]
  },
  {
   "cell_type": "markdown",
   "metadata": {},
   "source": [
    "Больше всего круглосуточных заведений – в ЦАО, меньше всего – в СЗАО.  \n",
    "\n",
    "Исследуем часы работы заведений и их зависимость от категории заведения."
   ]
  },
  {
   "cell_type": "code",
   "execution_count": null,
   "metadata": {},
   "outputs": [],
   "source": [
    "data_is_24_7_cat = (data.query('is_24_7 == True')\n",
    "                .groupby('category', as_index=False)\n",
    "                .agg(count=('is_24_7', 'count'))\n",
    "                .sort_values('count', ascending = False)\n",
    "               )\n",
    "fig = px.bar(data_is_24_7_cat, x='category', y='count', color='category', title='Распределение количества круглосуточных заведений по категориям',\n",
    "             labels={\n",
    "                     \"category\": \"Категория\",\n",
    "                     \"count\": \"Количество заведений\"\n",
    "                 }\n",
    "            )\n",
    "fig.update_layout(showlegend = False)\n",
    "fig.show()"
   ]
  },
  {
   "cell_type": "markdown",
   "metadata": {},
   "source": [
    "Больше всего круглосуточных заведений – в категории кафе, меньше всего – в категории столовая.  \n",
    "\n",
    "Исследуем особенности заведений с плохими рейтингами."
   ]
  },
  {
   "cell_type": "code",
   "execution_count": null,
   "metadata": {},
   "outputs": [],
   "source": [
    "data['rating'].describe()"
   ]
  },
  {
   "cell_type": "markdown",
   "metadata": {},
   "source": [
    "Верхней границей плохого рейтинга будем считать 4.1."
   ]
  },
  {
   "cell_type": "code",
   "execution_count": null,
   "metadata": {
    "scrolled": false
   },
   "outputs": [],
   "source": [
    "data_avg_bill_badrate = (data.query('rating < 4.1')\n",
    "              .groupby('district', as_index=False)['middle_avg_bill']\n",
    "              .agg('median')\n",
    "              .round(1)\n",
    "              .sort_values(by='middle_avg_bill', ascending=False)\n",
    "             )\n",
    "\n",
    "# создаём карту Москвы\n",
    "m = Map(location=[moscow_lat, moscow_lng], zoom_start=10, tiles='Cartodb Positron')\n",
    "\n",
    "# создаём хороплет с помощью конструктора Choropleth и добавляем его на карту\n",
    "Choropleth(\n",
    "    geo_data=state_geo,\n",
    "    data=data_avg_bill_badrate,\n",
    "    columns=['district', 'middle_avg_bill'],\n",
    "    key_on='feature.name',\n",
    "    fill_color='YlGn',\n",
    "    fill_opacity=0.8,\n",
    "    legend_name='Средний чек заведений с плохим рейтингом',\n",
    ").add_to(m)\n",
    "\n",
    "# выводим карту\n",
    "m"
   ]
  },
  {
   "cell_type": "markdown",
   "metadata": {},
   "source": [
    "У заведений с плохим рейтингом самый высокий средний чек – в ЦАО. Самый низкий средний чек теперь в ЮВАО и СЗАО."
   ]
  },
  {
   "cell_type": "code",
   "execution_count": null,
   "metadata": {},
   "outputs": [],
   "source": [
    "data_cat_goodrate = (data\n",
    "                     .query('rating >= 4.1')\n",
    "                     .groupby('category', as_index=False)['name']\n",
    "                     .agg('count')\n",
    "                     .sort_values(by='name', ascending=False)\n",
    "                    )\n",
    "fig = px.bar(data_cat_goodrate, x='category', y='name', color='category', title='Количество объектов общественного питания с хорошим рейтингом по категориям',\n",
    "            labels={\n",
    "                     \"category\": \"Категория\",\n",
    "                     \"name\": \"Количество заведений\"\n",
    "                 }\n",
    "            )\n",
    "fig.update_layout(showlegend = False)\n",
    "fig.show()"
   ]
  },
  {
   "cell_type": "code",
   "execution_count": null,
   "metadata": {
    "scrolled": false
   },
   "outputs": [],
   "source": [
    "data_cat_badrate = (data\n",
    "                     .query('rating < 4.1')\n",
    "                     .groupby('category', as_index=False)['name']\n",
    "                     .agg('count')\n",
    "                     .sort_values(by='name', ascending=False)\n",
    "                    )\n",
    "fig = px.bar(data_cat_badrate, x='category', y='name', color='category', title='Количество объектов общественного питания с плохим рейтингом по категориям',\n",
    "            labels={\n",
    "                     \"category\": \"Категория\",\n",
    "                     \"name\": \"Количество заведений\"\n",
    "                 }\n",
    "            )\n",
    "fig.update_layout(showlegend = False)\n",
    "fig.show()"
   ]
  },
  {
   "cell_type": "markdown",
   "metadata": {},
   "source": [
    "Больше всего объектов общественного питания с плохим рейтингом встречается в категориях кафе, ресторан, быстрое питание, кофейня. По сравнению с заведениями с хорошим рейтингом, которые чаще встречаются в категории ресторан, заведения с плохим рейтингом чаще встречаются в категории кафе."
   ]
  },
  {
   "cell_type": "markdown",
   "metadata": {},
   "source": [
    "#### Соберем наблюдения по вопросам выше в один общий вывод."
   ]
  },
  {
   "cell_type": "markdown",
   "metadata": {},
   "source": [
    "- Больше всего объектов общественного питания встречается в категориях кафе, ресторан и кофейня.\n",
    "- Больше всего посадочных мест – в заведениях в категориях ресторан, бар/паб, кофейня.\n",
    "- Несетевых заведений больше, чем сетевых. Доля сетевых заведений больше в категориях булочная, пиццерия, кофейня.\n",
    "- Большую часть заведений, входящих в топ-15 популярных сетей, составляют кофейни. На первом месте – Шоколадница.\n",
    "- Больше всего заведений представлено в ЦАО. При этом в ЦАО представлено больше ресторанов, тогда как в других районах первое место занимают кафе.\n",
    "- Усреднённые рейтинги не сильно различаются в разных типах общепита. Средний рейтинг во всех категориях находится в диапазоне 4-4.5. На первых местах по среднему рейтингу находятся бар/паб, пиццерия, ресторан. Самый высокий рейтинг – у заведений в районе ЦАО. Самый низкий - у заведений в районе ЮВАО.\n",
    "- Первое место в топ-15 улиц по количеству заведений занимает проспект Мира (184 заведения). На последнем месте в топе – Пятницкая улица (48 заведений). В топ-15 улиц по количеству заведений большую часть категорий составляют кафе, ресторан и кофейня.\n",
    "- Больше всего улиц с одним объектом общепита находится в ЦАО, меньше всего – в ЮЗАО. Чаще всего на улицах с одним объектом общепита расположены кафе, рестораны, кофейни.\n",
    "- Самый высокий средний чек – в ЦАО и ЗАО. Самый низкий – в СВАО, ЮАО и ЮВАО.\n",
    "- Больше всего круглосуточных заведений – в ЦАО, меньше всего – в СЗАО. Больше всего круглосуточных заведений – в категории кафе, быстрое питание, ресторан.\n",
    "- У заведений с плохим рейтингом самый высокий средний чек – в ЦАО. Самый низкий средний чек теперь в ЮВАО и СЗАО. По сравнению с заведениями с хорошим рейтингом, которые чаще встречаются в категории ресторан, заведения с плохим рейтингом чаще встречаются в категории кафе."
   ]
  },
  {
   "cell_type": "markdown",
   "metadata": {},
   "source": [
    "### Детализируем исследование: открытие кофейни"
   ]
  },
  {
   "cell_type": "markdown",
   "metadata": {},
   "source": [
    "Основателям фонда «Shut Up and Take My Money» не даёт покоя успех сериала «Друзья». Их мечта — открыть такую же крутую и доступную, как «Central Perk», кофейню в Москве. Будем считать, что заказчики не боятся конкуренции в этой сфере, ведь кофеен в больших городах уже достаточно. Попробуем определить, осуществима ли мечта клиентов.\n",
    "#### Сколько всего кофеен в датасете? В каких районах их больше всего, каковы особенности их расположения?"
   ]
  },
  {
   "cell_type": "code",
   "execution_count": null,
   "metadata": {},
   "outputs": [],
   "source": [
    "print('Всего в датасете', data.query('category == \"кофейня\"')['name'].count(), 'кофеен.')"
   ]
  },
  {
   "cell_type": "code",
   "execution_count": null,
   "metadata": {
    "scrolled": false
   },
   "outputs": [],
   "source": [
    "data_dist_coff = (data\n",
    "                  .query('category == \"кофейня\"')\n",
    "                  .groupby('district', as_index=False)\n",
    "                  .agg(count=('name', 'count'))\n",
    "                  .sort_values(by = 'count', ascending = False)\n",
    "                 )\n",
    "\n",
    "# создаём карту Москвы\n",
    "m = Map(location=[moscow_lat, moscow_lng], zoom_start=10, tiles='Cartodb Positron')\n",
    "\n",
    "# создаём хороплет с помощью конструктора Choropleth и добавляем его на карту\n",
    "Choropleth(\n",
    "    geo_data=state_geo,\n",
    "    data=data_dist_coff,\n",
    "    columns=['district', 'count'],\n",
    "    key_on='feature.name',\n",
    "    fill_color='YlGn',\n",
    "    fill_opacity=0.8,\n",
    "    legend_name='Количество кофеен',\n",
    ").add_to(m)\n",
    "\n",
    "# создаём пустой кластер, добавляем его на карту\n",
    "marker_cluster = MarkerCluster().add_to(m)\n",
    "# пишем функцию, которая принимает строку датафрейма,\n",
    "# создаёт маркер в текущей точке и добавляет его в кластер marker_cluster\n",
    "def create_clusters(row):\n",
    "    Marker(\n",
    "        [row['lat'], row['lng']],\n",
    "        popup=f\"{row['name']}\",\n",
    "    ).add_to(marker_cluster)\n",
    "\n",
    "# применяем функцию create_clusters() к каждой строке датафрейма\n",
    "data.query('category == \"кофейня\"').apply(create_clusters, axis=1)\n",
    "\n",
    "# выводим карту\n",
    "m"
   ]
  },
  {
   "cell_type": "markdown",
   "metadata": {},
   "source": [
    "Больше всего кофеен находится в районе ЦАО, на втором месте - САО, там в два раза меньше кофеен. Меньше всего кофеен – в районе СЗАО."
   ]
  },
  {
   "cell_type": "markdown",
   "metadata": {},
   "source": [
    "#### Есть ли круглосуточные кофейни?"
   ]
  },
  {
   "cell_type": "code",
   "execution_count": null,
   "metadata": {},
   "outputs": [],
   "source": [
    "print('Количество круглосуточных кофеен:', data.query('category == \"кофейня\" & is_24_7 == True')['is_24_7'].count())\n",
    "print('Доля круглосуточных кофеен:', (data.query('category == \"кофейня\" & is_24_7 == True')['is_24_7'].count()/data.query('category == \"кофейня\"')['name'].count()*100).round(1), '%')"
   ]
  },
  {
   "cell_type": "markdown",
   "metadata": {},
   "source": [
    "#### Какие у кофеен рейтинги? Как они распределяются по районам?"
   ]
  },
  {
   "cell_type": "code",
   "execution_count": null,
   "metadata": {
    "scrolled": false
   },
   "outputs": [],
   "source": [
    "data_dist_rat_cup = (data\n",
    "                      .query('category == \"кофейня\"')\n",
    "                      .groupby('district', as_index=False)['rating']\n",
    "                      .agg('mean')\n",
    "                      .sort_values(by='rating', ascending=False)\n",
    "                     )\n",
    "# создаём карту Москвы\n",
    "m = Map(location=[moscow_lat, moscow_lng], zoom_start=10, tiles='Cartodb Positron')\n",
    "\n",
    "# создаём хороплет с помощью конструктора Choropleth и добавляем его на карту\n",
    "Choropleth(\n",
    "    geo_data=state_geo,\n",
    "    data=data_dist_rat_cup,\n",
    "    columns=['district', 'rating'],\n",
    "    key_on='feature.name',\n",
    "    fill_color='YlGn',\n",
    "    fill_opacity=0.8,\n",
    "    legend_name='Средний рейтинг кофеен',\n",
    ").add_to(m)\n",
    "\n",
    "# выводим карту\n",
    "m"
   ]
  },
  {
   "cell_type": "markdown",
   "metadata": {},
   "source": [
    "Самый высокий рейтинг – у кофеен в районах ЦАО и СЗАО. Самый низкий - у кофеен в районах СВАО и ЗАО. Средний рейтинг во всех районах находится в диапазоне 4.2-4.3."
   ]
  },
  {
   "cell_type": "markdown",
   "metadata": {},
   "source": [
    "#### На какую стоимость чашки капучино стоит ориентироваться при открытии и почему?"
   ]
  },
  {
   "cell_type": "code",
   "execution_count": null,
   "metadata": {},
   "outputs": [],
   "source": [
    "print('Средняя стоимость чашки капучино во всех заведениях составляет', data.query('category == \"кофейня\"')['middle_coffee_cup'].mean().round(), 'рублей.')\n",
    "print('Медианная стоимость чашки капучино во всех кофейнях составляет', data.query('category == \"кофейня\"')['middle_coffee_cup'].median(), 'рублей.')"
   ]
  },
  {
   "cell_type": "code",
   "execution_count": null,
   "metadata": {},
   "outputs": [],
   "source": [
    "data_dist_cup = (data\n",
    "            .query('category == \"кофейня\"')\n",
    "            .groupby('district', as_index=False)['middle_coffee_cup']\n",
    "            .agg('median')\n",
    "            .sort_values(by='middle_coffee_cup', ascending=False)\n",
    "            )\n",
    "fig = px.bar(data_dist_cup, x='middle_coffee_cup', y='district', color='district', orientation='h', title='Распределение стоимости чашки капучино по районам',\n",
    "             labels={\n",
    "                     \"middle_coffee_cup\": \"Стоимость чашки капучино\",\n",
    "                     \"district\": \"Район\"\n",
    "                 }\n",
    "            )\n",
    "fig.update_layout(showlegend = False)\n",
    "fig.show()"
   ]
  },
  {
   "cell_type": "markdown",
   "metadata": {},
   "source": [
    "Стоимость чашки капучино зависит от района. В районах ЮЗАО, ЦАО и ЗАО нужно ориентироваться на стоимость 190-200 рублей за чашку капучино. В остальных районах нужно ориентироваться на стоимость от 135 до 165 рублей за чашку капучино."
   ]
  },
  {
   "cell_type": "markdown",
   "metadata": {},
   "source": [
    "**Рекомендации**\n",
    "\n",
    "При открытии кофейни нужно учитывать, что:\n",
    "- больше всего кофеен находится в районе ЦАО, на втором месте - САО, там в два раза меньше кофеен. Меньше всего кофеен – в районе СЗАО;\n",
    "- доля круглосуточных кофеен в Москве крайне мала и составляет около 4%;\n",
    "- самый высокий рейтинг – у кофеен в районах ЦАО и СЗАО. Самый низкий - у кофеен в районах СВАО и ЗАО;\n",
    "- в районах ЮЗАО, ЦАО и ЗАО нужно ориентироваться на стоимость 190-200 рублей за чашку капучино. В остальных районах нужно ориентироваться на стоимость от 135 до 165 рублей за чашку капучино. Медианная стоимость чашки капучино во всех кофейнях составляет 170 рублей.\n",
    "\n",
    "Подводя итог, для открытия кофейни рекомендуем рассмотреть район ЦАО и установить стоимость за чашку капучино не менее 170 рублей. При этом не рекомендуем делать кофейню круглосуточной."
   ]
  },
  {
   "cell_type": "markdown",
   "metadata": {},
   "source": [
    "### Подготовка презентации"
   ]
  },
  {
   "cell_type": "markdown",
   "metadata": {},
   "source": [
    "Презентация: https://drive.google.com/file/d/1hGJahso-bL2yw1ukETaO0W0mlJcFs0Sm/view?usp=sharing"
   ]
  },
  {
   "cell_type": "markdown",
   "metadata": {},
   "source": [
    "### Общий вывод "
   ]
  },
  {
   "cell_type": "markdown",
   "metadata": {},
   "source": [
    "**При анализе всех имеющихся данных были сделаны следующие выводы:**  \n",
    "- Больше всего объектов общественного питания встречается в категориях кафе, ресторан и кофейня.\n",
    "- Больше всего посадочных мест – в заведениях в категориях ресторан, бар/паб, кофейня.\n",
    "- Несетевых заведений больше, чем сетевых. Доля сетевых заведений больше в категориях булочная, пиццерия, кофейня.\n",
    "- Большую часть заведений, входящих в топ-15 популярных сетей, составляют кофейни. На первом месте – Шоколадница.\n",
    "- Больше всего заведений представлено в ЦАО. При этом в ЦАО представлено больше ресторанов, тогда как в других районах первое место занимают кафе.\n",
    "- Усреднённые рейтинги не сильно различаются в разных типах общепита. Средний рейтинг во всех категориях находится в диапазоне 4-4.5. На первых местах по среднему рейтингу находятся бар/паб, пиццерия, ресторан. Самый высокий рейтинг – у заведений в районе ЦАО. Самый низкий - у заведений в районе ЮВАО.\n",
    "- Первое место в топ-15 улиц по количеству заведений занимает проспект Мира (184 заведения). На последнем месте в топе – Пятницкая улица (48 заведений). В топ-15 улиц по количеству заведений большую часть категорий составляют кафе, ресторан и кофейня.\n",
    "- Больше всего улиц с одним объектом общепита находится в ЦАО, меньше всего – в ЮЗАО. Чаще всего на улицах с одним объектом общепита расположены кафе, рестораны, кофейни.\n",
    "- Самый высокий средний чек – в ЦАО и ЗАО. Самый низкий – в СВАО, ЮАО и ЮВАО.\n",
    "- Больше всего круглосуточных заведений – в ЦАО, меньше всего – в СЗАО. Больше всего круглосуточных заведений – в категории кафе, быстрое питание, ресторан.\n",
    "- У заведений с плохим рейтингом самый высокий средний чек – в ЦАО. Самый низкий средний чек теперь в ЮВАО и СЗАО. По сравнению с заведениями с хорошим рейтингом, которые чаще встречаются в категории ресторан, заведения с плохим рейтингом чаще встречаются в категории кафе.\n",
    "\n",
    "**При детализированном исследовании кофеен были даны следующие рекомендации:**  \n",
    "При открытии кофейни нужно учитывать, что:\n",
    "- больше всего кофеен находится в районе ЦАО, на втором месте - САО, там в два раза меньше кофеен. Меньше всего кофеен – в районе СЗАО;\n",
    "- доля круглосуточных кофеен в Москве крайне мала и составляет около 4%;\n",
    "- самый высокий рейтинг – у кофеен в районах ЦАО и СЗАО. Самый низкий - у кофеен в районах СВАО и ЗАО;\n",
    "- в районах ЮЗАО, ЦАО и ЗАО нужно ориентироваться на стоимость 190-200 рублей за чашку капучино. В остальных районах нужно ориентироваться на стоимость от 135 до 165 рублей за чашку капучино. Медианная стоимость чашки капучино во всех кофейнях составляет 170 рублей.  \n",
    "\n",
    "Подводя итог, для открытия кофейни рекомендуем рассмотреть район ЦАО и установить стоимость за чашку капучино не менее 170 рублей. При этом не рекомендуем делать кофейню круглосуточной."
   ]
  }
 ],
 "metadata": {
  "ExecuteTimeLog": [
   {
    "duration": 1556,
    "start_time": "2024-05-29T18:50:08.724Z"
   },
   {
    "duration": 151,
    "start_time": "2024-05-29T18:52:41.022Z"
   },
   {
    "duration": 68,
    "start_time": "2024-05-29T18:53:11.321Z"
   },
   {
    "duration": 28,
    "start_time": "2024-05-29T18:53:16.830Z"
   },
   {
    "duration": 9,
    "start_time": "2024-05-29T18:56:34.612Z"
   },
   {
    "duration": 14,
    "start_time": "2024-05-29T18:57:19.513Z"
   },
   {
    "duration": 9,
    "start_time": "2024-05-29T19:01:21.237Z"
   },
   {
    "duration": 5,
    "start_time": "2024-05-29T19:02:33.253Z"
   },
   {
    "duration": 6,
    "start_time": "2024-05-29T19:03:15.318Z"
   },
   {
    "duration": 7,
    "start_time": "2024-05-29T19:04:02.866Z"
   },
   {
    "duration": 5,
    "start_time": "2024-05-29T19:04:34.134Z"
   },
   {
    "duration": 4,
    "start_time": "2024-05-29T19:04:53.436Z"
   },
   {
    "duration": 7,
    "start_time": "2024-05-29T19:06:05.593Z"
   },
   {
    "duration": 4,
    "start_time": "2024-05-29T19:06:49.433Z"
   },
   {
    "duration": 6,
    "start_time": "2024-05-29T19:07:26.916Z"
   },
   {
    "duration": 5,
    "start_time": "2024-05-29T19:07:42.752Z"
   },
   {
    "duration": 5,
    "start_time": "2024-05-29T19:10:11.401Z"
   },
   {
    "duration": 5,
    "start_time": "2024-05-29T19:10:23.348Z"
   },
   {
    "duration": 4,
    "start_time": "2024-05-29T19:10:44.473Z"
   },
   {
    "duration": 6,
    "start_time": "2024-05-29T19:13:36.792Z"
   },
   {
    "duration": 109,
    "start_time": "2024-05-29T19:13:52.053Z"
   },
   {
    "duration": 5,
    "start_time": "2024-05-29T19:13:59.175Z"
   },
   {
    "duration": 5,
    "start_time": "2024-05-29T19:14:10.073Z"
   },
   {
    "duration": 6,
    "start_time": "2024-05-29T19:14:45.712Z"
   },
   {
    "duration": 6,
    "start_time": "2024-05-29T19:22:06.337Z"
   },
   {
    "duration": 1538,
    "start_time": "2024-05-30T15:06:20.463Z"
   },
   {
    "duration": 573,
    "start_time": "2024-05-30T15:06:22.003Z"
   },
   {
    "duration": 33,
    "start_time": "2024-05-30T15:06:22.577Z"
   },
   {
    "duration": 16,
    "start_time": "2024-05-30T15:06:22.612Z"
   },
   {
    "duration": 5,
    "start_time": "2024-05-30T15:06:22.629Z"
   },
   {
    "duration": 7,
    "start_time": "2024-05-30T15:06:22.635Z"
   },
   {
    "duration": 14,
    "start_time": "2024-05-30T15:06:22.644Z"
   },
   {
    "duration": 9,
    "start_time": "2024-05-30T15:06:22.659Z"
   },
   {
    "duration": 42,
    "start_time": "2024-05-30T15:06:22.670Z"
   },
   {
    "duration": 37,
    "start_time": "2024-05-30T15:06:36.883Z"
   },
   {
    "duration": 51,
    "start_time": "2024-05-30T15:07:42.593Z"
   },
   {
    "duration": 38,
    "start_time": "2024-05-30T15:07:53.625Z"
   },
   {
    "duration": 38,
    "start_time": "2024-05-30T15:08:28.310Z"
   },
   {
    "duration": 34,
    "start_time": "2024-05-30T15:09:23.265Z"
   },
   {
    "duration": 38,
    "start_time": "2024-05-30T15:09:51.356Z"
   },
   {
    "duration": 104,
    "start_time": "2024-05-30T15:10:00.184Z"
   },
   {
    "duration": 47,
    "start_time": "2024-05-30T15:10:10.058Z"
   },
   {
    "duration": 41,
    "start_time": "2024-05-30T15:10:17.947Z"
   },
   {
    "duration": 40,
    "start_time": "2024-05-30T15:11:03.381Z"
   },
   {
    "duration": 42,
    "start_time": "2024-05-30T15:15:37.068Z"
   },
   {
    "duration": 37,
    "start_time": "2024-05-30T15:16:50.756Z"
   },
   {
    "duration": 32,
    "start_time": "2024-05-30T15:17:00.644Z"
   },
   {
    "duration": 5,
    "start_time": "2024-05-30T15:24:11.240Z"
   },
   {
    "duration": 34,
    "start_time": "2024-05-30T15:26:28.160Z"
   },
   {
    "duration": 31,
    "start_time": "2024-05-30T15:29:16.113Z"
   },
   {
    "duration": 6,
    "start_time": "2024-05-30T15:31:19.447Z"
   },
   {
    "duration": 52,
    "start_time": "2024-05-30T17:49:32.197Z"
   },
   {
    "duration": 1580,
    "start_time": "2024-05-30T17:49:39.493Z"
   },
   {
    "duration": 574,
    "start_time": "2024-05-30T17:49:41.075Z"
   },
   {
    "duration": 31,
    "start_time": "2024-05-30T17:49:41.651Z"
   },
   {
    "duration": 17,
    "start_time": "2024-05-30T17:49:41.683Z"
   },
   {
    "duration": 5,
    "start_time": "2024-05-30T17:49:41.702Z"
   },
   {
    "duration": 11,
    "start_time": "2024-05-30T17:49:41.709Z"
   },
   {
    "duration": 5,
    "start_time": "2024-05-30T17:49:41.722Z"
   },
   {
    "duration": 13,
    "start_time": "2024-05-30T17:49:41.728Z"
   },
   {
    "duration": 49,
    "start_time": "2024-05-30T17:49:41.742Z"
   },
   {
    "duration": 23,
    "start_time": "2024-05-30T17:49:41.793Z"
   },
   {
    "duration": 4,
    "start_time": "2024-05-30T17:49:41.818Z"
   },
   {
    "duration": 133,
    "start_time": "2024-05-30T17:49:41.824Z"
   },
   {
    "duration": 6,
    "start_time": "2024-05-30T17:50:06.817Z"
   },
   {
    "duration": 6,
    "start_time": "2024-05-30T17:50:41.452Z"
   },
   {
    "duration": 202,
    "start_time": "2024-05-30T17:50:49.087Z"
   },
   {
    "duration": 36,
    "start_time": "2024-05-30T17:56:18.818Z"
   },
   {
    "duration": 8,
    "start_time": "2024-05-30T17:57:47.076Z"
   },
   {
    "duration": 35,
    "start_time": "2024-05-30T17:59:52.295Z"
   },
   {
    "duration": 15,
    "start_time": "2024-05-30T18:00:33.952Z"
   },
   {
    "duration": 7,
    "start_time": "2024-05-30T18:00:39.483Z"
   },
   {
    "duration": 6,
    "start_time": "2024-05-30T18:01:28.753Z"
   },
   {
    "duration": 16,
    "start_time": "2024-05-30T18:01:38.884Z"
   },
   {
    "duration": 8,
    "start_time": "2024-05-30T18:01:54.742Z"
   },
   {
    "duration": 11,
    "start_time": "2024-05-30T18:02:16.075Z"
   },
   {
    "duration": 63,
    "start_time": "2024-05-30T18:03:03.427Z"
   },
   {
    "duration": 14,
    "start_time": "2024-05-30T18:03:10.612Z"
   },
   {
    "duration": 11,
    "start_time": "2024-05-30T18:03:15.790Z"
   },
   {
    "duration": 13,
    "start_time": "2024-05-30T18:03:23.878Z"
   },
   {
    "duration": 10,
    "start_time": "2024-05-30T18:03:54.297Z"
   },
   {
    "duration": 233,
    "start_time": "2024-05-30T18:04:04.271Z"
   },
   {
    "duration": 257,
    "start_time": "2024-05-30T18:06:19.483Z"
   },
   {
    "duration": 13,
    "start_time": "2024-05-30T18:08:37.539Z"
   },
   {
    "duration": 11,
    "start_time": "2024-05-30T18:08:45.749Z"
   },
   {
    "duration": 48,
    "start_time": "2024-05-30T18:08:48.191Z"
   },
   {
    "duration": 12,
    "start_time": "2024-05-30T18:09:02.818Z"
   },
   {
    "duration": 52,
    "start_time": "2024-05-30T18:09:50.601Z"
   },
   {
    "duration": 46,
    "start_time": "2024-05-30T18:10:16.820Z"
   },
   {
    "duration": 56,
    "start_time": "2024-05-30T18:10:25.102Z"
   },
   {
    "duration": 48,
    "start_time": "2024-05-30T18:10:33.358Z"
   },
   {
    "duration": 48,
    "start_time": "2024-05-30T18:12:16.548Z"
   },
   {
    "duration": 46,
    "start_time": "2024-05-30T18:13:07.318Z"
   },
   {
    "duration": 49,
    "start_time": "2024-05-30T18:13:38.931Z"
   },
   {
    "duration": 13,
    "start_time": "2024-05-30T18:14:02.510Z"
   },
   {
    "duration": 11,
    "start_time": "2024-05-30T18:15:24.842Z"
   },
   {
    "duration": 46,
    "start_time": "2024-05-30T18:16:41.821Z"
   },
   {
    "duration": 48,
    "start_time": "2024-05-30T18:17:04.952Z"
   },
   {
    "duration": 209,
    "start_time": "2024-05-30T18:24:38.356Z"
   },
   {
    "duration": 11,
    "start_time": "2024-05-30T18:24:58.780Z"
   },
   {
    "duration": 263,
    "start_time": "2024-05-30T18:25:17.812Z"
   },
   {
    "duration": 220,
    "start_time": "2024-05-30T18:26:48.994Z"
   },
   {
    "duration": 125,
    "start_time": "2024-05-30T18:28:09.425Z"
   },
   {
    "duration": 353,
    "start_time": "2024-05-30T18:28:46.441Z"
   },
   {
    "duration": 264,
    "start_time": "2024-05-30T18:28:53.204Z"
   },
   {
    "duration": 362,
    "start_time": "2024-05-30T18:29:09.908Z"
   },
   {
    "duration": 179,
    "start_time": "2024-05-30T18:31:20.430Z"
   },
   {
    "duration": 171,
    "start_time": "2024-05-30T18:31:29.838Z"
   },
   {
    "duration": 48,
    "start_time": "2024-05-30T18:31:38.477Z"
   },
   {
    "duration": 49,
    "start_time": "2024-05-30T18:32:45.169Z"
   },
   {
    "duration": 249,
    "start_time": "2024-05-30T18:33:07.908Z"
   },
   {
    "duration": 265,
    "start_time": "2024-05-30T18:33:20.362Z"
   },
   {
    "duration": 23,
    "start_time": "2024-05-30T18:35:27.537Z"
   },
   {
    "duration": 21,
    "start_time": "2024-05-30T18:35:36.705Z"
   },
   {
    "duration": 28,
    "start_time": "2024-05-30T18:37:07.538Z"
   },
   {
    "duration": 49,
    "start_time": "2024-05-30T18:37:22.106Z"
   },
   {
    "duration": 12,
    "start_time": "2024-05-30T18:37:35.961Z"
   },
   {
    "duration": 19,
    "start_time": "2024-05-30T18:38:47.305Z"
   },
   {
    "duration": 40,
    "start_time": "2024-05-30T18:40:52.903Z"
   },
   {
    "duration": 26,
    "start_time": "2024-05-30T18:41:56.298Z"
   },
   {
    "duration": 24,
    "start_time": "2024-05-30T18:42:20.298Z"
   },
   {
    "duration": 21,
    "start_time": "2024-05-30T18:42:37.698Z"
   },
   {
    "duration": 13,
    "start_time": "2024-05-30T18:42:55.951Z"
   },
   {
    "duration": 21,
    "start_time": "2024-05-30T18:43:25.691Z"
   },
   {
    "duration": 13,
    "start_time": "2024-05-30T18:43:30.556Z"
   },
   {
    "duration": 13,
    "start_time": "2024-05-30T18:43:41.095Z"
   },
   {
    "duration": 26,
    "start_time": "2024-05-30T19:00:04.852Z"
   },
   {
    "duration": 244,
    "start_time": "2024-05-30T19:00:53.513Z"
   },
   {
    "duration": 236,
    "start_time": "2024-05-30T19:02:55.598Z"
   },
   {
    "duration": 29,
    "start_time": "2024-05-30T19:03:07.709Z"
   },
   {
    "duration": 34,
    "start_time": "2024-05-30T19:03:44.581Z"
   },
   {
    "duration": 32,
    "start_time": "2024-05-30T19:04:06.222Z"
   },
   {
    "duration": 27,
    "start_time": "2024-05-30T19:04:25.603Z"
   },
   {
    "duration": 42,
    "start_time": "2024-05-30T19:05:11.246Z"
   },
   {
    "duration": 1392,
    "start_time": "2024-05-30T19:05:22.567Z"
   },
   {
    "duration": 74,
    "start_time": "2024-05-30T19:05:23.961Z"
   },
   {
    "duration": 40,
    "start_time": "2024-05-30T19:05:24.037Z"
   },
   {
    "duration": 27,
    "start_time": "2024-05-30T19:05:24.079Z"
   },
   {
    "duration": 5,
    "start_time": "2024-05-30T19:05:24.109Z"
   },
   {
    "duration": 14,
    "start_time": "2024-05-30T19:05:24.118Z"
   },
   {
    "duration": 8,
    "start_time": "2024-05-30T19:05:24.133Z"
   },
   {
    "duration": 17,
    "start_time": "2024-05-30T19:05:24.142Z"
   },
   {
    "duration": 50,
    "start_time": "2024-05-30T19:05:24.161Z"
   },
   {
    "duration": 24,
    "start_time": "2024-05-30T19:05:24.212Z"
   },
   {
    "duration": 228,
    "start_time": "2024-05-30T19:05:24.238Z"
   },
   {
    "duration": 371,
    "start_time": "2024-05-30T19:05:24.467Z"
   },
   {
    "duration": 316,
    "start_time": "2024-05-30T19:05:24.840Z"
   },
   {
    "duration": 45,
    "start_time": "2024-05-30T19:05:25.159Z"
   },
   {
    "duration": 43,
    "start_time": "2024-05-30T19:05:25.206Z"
   },
   {
    "duration": 0,
    "start_time": "2024-05-30T19:05:25.251Z"
   },
   {
    "duration": 18,
    "start_time": "2024-05-30T19:06:11.852Z"
   },
   {
    "duration": 179,
    "start_time": "2024-05-30T19:06:38.333Z"
   },
   {
    "duration": 22,
    "start_time": "2024-05-30T19:06:58.263Z"
   },
   {
    "duration": 20,
    "start_time": "2024-05-30T19:07:03.316Z"
   },
   {
    "duration": 10,
    "start_time": "2024-05-30T19:07:59.673Z"
   },
   {
    "duration": 21,
    "start_time": "2024-05-30T19:08:13.825Z"
   },
   {
    "duration": 21,
    "start_time": "2024-05-30T19:08:19.336Z"
   },
   {
    "duration": 14,
    "start_time": "2024-05-30T19:08:24.270Z"
   },
   {
    "duration": 20,
    "start_time": "2024-05-30T19:08:34.475Z"
   },
   {
    "duration": 15,
    "start_time": "2024-05-30T19:08:35.526Z"
   },
   {
    "duration": 15,
    "start_time": "2024-05-30T19:08:47.949Z"
   },
   {
    "duration": 1285,
    "start_time": "2024-05-30T19:09:09.736Z"
   },
   {
    "duration": 76,
    "start_time": "2024-05-30T19:09:11.024Z"
   },
   {
    "duration": 32,
    "start_time": "2024-05-30T19:09:11.102Z"
   },
   {
    "duration": 22,
    "start_time": "2024-05-30T19:09:11.136Z"
   },
   {
    "duration": 4,
    "start_time": "2024-05-30T19:09:11.161Z"
   },
   {
    "duration": 25,
    "start_time": "2024-05-30T19:09:11.167Z"
   },
   {
    "duration": 5,
    "start_time": "2024-05-30T19:09:11.194Z"
   },
   {
    "duration": 25,
    "start_time": "2024-05-30T19:09:11.201Z"
   },
   {
    "duration": 40,
    "start_time": "2024-05-30T19:09:11.228Z"
   },
   {
    "duration": 33,
    "start_time": "2024-05-30T19:09:11.270Z"
   },
   {
    "duration": 214,
    "start_time": "2024-05-30T19:09:11.304Z"
   },
   {
    "duration": 366,
    "start_time": "2024-05-30T19:09:11.519Z"
   },
   {
    "duration": 315,
    "start_time": "2024-05-30T19:09:11.891Z"
   },
   {
    "duration": 24,
    "start_time": "2024-05-30T19:09:12.208Z"
   },
   {
    "duration": 17,
    "start_time": "2024-05-30T19:09:12.234Z"
   },
   {
    "duration": 11,
    "start_time": "2024-05-30T19:09:12.253Z"
   },
   {
    "duration": 17,
    "start_time": "2024-05-30T19:09:57.904Z"
   },
   {
    "duration": 166,
    "start_time": "2024-05-30T19:12:35.307Z"
   },
   {
    "duration": 25,
    "start_time": "2024-05-30T19:12:53.187Z"
   },
   {
    "duration": 18,
    "start_time": "2024-05-30T19:13:07.960Z"
   },
   {
    "duration": 1305,
    "start_time": "2024-06-01T08:38:29.126Z"
   },
   {
    "duration": 247,
    "start_time": "2024-06-01T08:38:30.433Z"
   },
   {
    "duration": 30,
    "start_time": "2024-06-01T08:38:30.682Z"
   },
   {
    "duration": 35,
    "start_time": "2024-06-01T08:38:30.713Z"
   },
   {
    "duration": 16,
    "start_time": "2024-06-01T08:38:30.750Z"
   },
   {
    "duration": 41,
    "start_time": "2024-06-01T08:38:30.767Z"
   },
   {
    "duration": 38,
    "start_time": "2024-06-01T08:38:30.809Z"
   },
   {
    "duration": 31,
    "start_time": "2024-06-01T08:38:30.849Z"
   },
   {
    "duration": 66,
    "start_time": "2024-06-01T08:38:30.881Z"
   },
   {
    "duration": 20,
    "start_time": "2024-06-01T08:38:30.949Z"
   },
   {
    "duration": 184,
    "start_time": "2024-06-01T08:38:30.971Z"
   },
   {
    "duration": 384,
    "start_time": "2024-06-01T08:38:31.157Z"
   },
   {
    "duration": 289,
    "start_time": "2024-06-01T08:38:31.543Z"
   },
   {
    "duration": 20,
    "start_time": "2024-06-01T08:38:31.835Z"
   },
   {
    "duration": 16,
    "start_time": "2024-06-01T08:38:31.856Z"
   },
   {
    "duration": 47,
    "start_time": "2024-06-01T08:39:06.933Z"
   },
   {
    "duration": 6,
    "start_time": "2024-06-01T08:42:53.099Z"
   },
   {
    "duration": 59,
    "start_time": "2024-06-01T08:43:27.640Z"
   },
   {
    "duration": 41,
    "start_time": "2024-06-01T08:43:38.912Z"
   },
   {
    "duration": 9,
    "start_time": "2024-06-01T08:45:36.664Z"
   },
   {
    "duration": 1388,
    "start_time": "2024-06-01T11:17:57.877Z"
   },
   {
    "duration": 136,
    "start_time": "2024-06-01T11:17:59.266Z"
   },
   {
    "duration": 27,
    "start_time": "2024-06-01T11:17:59.403Z"
   },
   {
    "duration": 15,
    "start_time": "2024-06-01T11:17:59.431Z"
   },
   {
    "duration": 4,
    "start_time": "2024-06-01T11:17:59.447Z"
   },
   {
    "duration": 10,
    "start_time": "2024-06-01T11:17:59.452Z"
   },
   {
    "duration": 12,
    "start_time": "2024-06-01T11:17:59.463Z"
   },
   {
    "duration": 10,
    "start_time": "2024-06-01T11:17:59.476Z"
   },
   {
    "duration": 45,
    "start_time": "2024-06-01T11:17:59.488Z"
   },
   {
    "duration": 21,
    "start_time": "2024-06-01T11:17:59.534Z"
   },
   {
    "duration": 5,
    "start_time": "2024-06-01T11:17:59.556Z"
   },
   {
    "duration": 206,
    "start_time": "2024-06-01T11:17:59.562Z"
   },
   {
    "duration": 338,
    "start_time": "2024-06-01T11:17:59.770Z"
   },
   {
    "duration": 262,
    "start_time": "2024-06-01T11:18:00.112Z"
   },
   {
    "duration": 20,
    "start_time": "2024-06-01T11:18:00.376Z"
   },
   {
    "duration": 140,
    "start_time": "2024-06-01T11:18:00.398Z"
   },
   {
    "duration": 17,
    "start_time": "2024-06-01T11:19:23.940Z"
   },
   {
    "duration": 59,
    "start_time": "2024-06-01T11:20:34.025Z"
   },
   {
    "duration": 17,
    "start_time": "2024-06-01T11:20:39.848Z"
   },
   {
    "duration": 1123,
    "start_time": "2024-06-01T11:25:03.639Z"
   },
   {
    "duration": 63,
    "start_time": "2024-06-01T11:25:04.764Z"
   },
   {
    "duration": 26,
    "start_time": "2024-06-01T11:25:04.829Z"
   },
   {
    "duration": 14,
    "start_time": "2024-06-01T11:25:04.856Z"
   },
   {
    "duration": 7,
    "start_time": "2024-06-01T11:25:04.872Z"
   },
   {
    "duration": 5,
    "start_time": "2024-06-01T11:25:04.880Z"
   },
   {
    "duration": 26,
    "start_time": "2024-06-01T11:25:04.887Z"
   },
   {
    "duration": 7,
    "start_time": "2024-06-01T11:25:04.914Z"
   },
   {
    "duration": 28,
    "start_time": "2024-06-01T11:25:04.923Z"
   },
   {
    "duration": 20,
    "start_time": "2024-06-01T11:25:04.952Z"
   },
   {
    "duration": 5,
    "start_time": "2024-06-01T11:25:04.973Z"
   },
   {
    "duration": 231,
    "start_time": "2024-06-01T11:25:04.979Z"
   },
   {
    "duration": 314,
    "start_time": "2024-06-01T11:25:05.211Z"
   },
   {
    "duration": 253,
    "start_time": "2024-06-01T11:25:05.527Z"
   },
   {
    "duration": 17,
    "start_time": "2024-06-01T11:25:05.782Z"
   },
   {
    "duration": 30,
    "start_time": "2024-06-01T11:25:05.800Z"
   },
   {
    "duration": 17,
    "start_time": "2024-06-01T11:25:23.976Z"
   },
   {
    "duration": 15,
    "start_time": "2024-06-01T11:25:26.713Z"
   },
   {
    "duration": 1149,
    "start_time": "2024-06-01T11:28:09.909Z"
   },
   {
    "duration": 68,
    "start_time": "2024-06-01T11:28:11.060Z"
   },
   {
    "duration": 27,
    "start_time": "2024-06-01T11:28:11.130Z"
   },
   {
    "duration": 14,
    "start_time": "2024-06-01T11:28:11.159Z"
   },
   {
    "duration": 4,
    "start_time": "2024-06-01T11:28:11.174Z"
   },
   {
    "duration": 5,
    "start_time": "2024-06-01T11:28:11.179Z"
   },
   {
    "duration": 5,
    "start_time": "2024-06-01T11:28:11.186Z"
   },
   {
    "duration": 22,
    "start_time": "2024-06-01T11:28:11.192Z"
   },
   {
    "duration": 30,
    "start_time": "2024-06-01T11:28:11.215Z"
   },
   {
    "duration": 20,
    "start_time": "2024-06-01T11:28:11.247Z"
   },
   {
    "duration": 5,
    "start_time": "2024-06-01T11:28:11.268Z"
   },
   {
    "duration": 210,
    "start_time": "2024-06-01T11:28:11.274Z"
   },
   {
    "duration": 326,
    "start_time": "2024-06-01T11:28:11.486Z"
   },
   {
    "duration": 253,
    "start_time": "2024-06-01T11:28:11.813Z"
   },
   {
    "duration": 60,
    "start_time": "2024-06-01T11:28:12.067Z"
   },
   {
    "duration": 0,
    "start_time": "2024-06-01T11:28:12.128Z"
   },
   {
    "duration": 64,
    "start_time": "2024-06-01T11:38:38.192Z"
   },
   {
    "duration": 1244,
    "start_time": "2024-06-01T11:39:02.562Z"
   },
   {
    "duration": 3,
    "start_time": "2024-06-01T11:39:03.847Z"
   },
   {
    "duration": 88,
    "start_time": "2024-06-01T11:39:03.852Z"
   },
   {
    "duration": 26,
    "start_time": "2024-06-01T11:39:03.942Z"
   },
   {
    "duration": 14,
    "start_time": "2024-06-01T11:39:03.969Z"
   },
   {
    "duration": 16,
    "start_time": "2024-06-01T11:39:03.985Z"
   },
   {
    "duration": 8,
    "start_time": "2024-06-01T11:39:04.003Z"
   },
   {
    "duration": 11,
    "start_time": "2024-06-01T11:39:04.022Z"
   },
   {
    "duration": 34,
    "start_time": "2024-06-01T11:39:04.034Z"
   },
   {
    "duration": 37,
    "start_time": "2024-06-01T11:39:04.070Z"
   },
   {
    "duration": 41,
    "start_time": "2024-06-01T11:39:04.109Z"
   },
   {
    "duration": 11,
    "start_time": "2024-06-01T11:39:04.152Z"
   },
   {
    "duration": 217,
    "start_time": "2024-06-01T11:39:04.164Z"
   },
   {
    "duration": 371,
    "start_time": "2024-06-01T11:39:04.383Z"
   },
   {
    "duration": 281,
    "start_time": "2024-06-01T11:39:04.755Z"
   },
   {
    "duration": 18,
    "start_time": "2024-06-01T11:39:05.037Z"
   },
   {
    "duration": 32,
    "start_time": "2024-06-01T11:39:05.056Z"
   },
   {
    "duration": 18,
    "start_time": "2024-06-01T11:40:11.915Z"
   },
   {
    "duration": 21,
    "start_time": "2024-06-01T11:40:25.663Z"
   },
   {
    "duration": 1279,
    "start_time": "2024-06-01T11:40:50.802Z"
   },
   {
    "duration": 65,
    "start_time": "2024-06-01T11:40:52.083Z"
   },
   {
    "duration": 26,
    "start_time": "2024-06-01T11:40:52.150Z"
   },
   {
    "duration": 15,
    "start_time": "2024-06-01T11:40:52.178Z"
   },
   {
    "duration": 20,
    "start_time": "2024-06-01T11:40:52.195Z"
   },
   {
    "duration": 6,
    "start_time": "2024-06-01T11:40:52.217Z"
   },
   {
    "duration": 4,
    "start_time": "2024-06-01T11:40:52.225Z"
   },
   {
    "duration": 8,
    "start_time": "2024-06-01T11:40:52.231Z"
   },
   {
    "duration": 34,
    "start_time": "2024-06-01T11:40:52.241Z"
   },
   {
    "duration": 56,
    "start_time": "2024-06-01T11:40:52.276Z"
   },
   {
    "duration": 5,
    "start_time": "2024-06-01T11:40:52.334Z"
   },
   {
    "duration": 224,
    "start_time": "2024-06-01T11:40:52.341Z"
   },
   {
    "duration": 348,
    "start_time": "2024-06-01T11:40:52.566Z"
   },
   {
    "duration": 275,
    "start_time": "2024-06-01T11:40:52.916Z"
   },
   {
    "duration": 25,
    "start_time": "2024-06-01T11:40:53.192Z"
   },
   {
    "duration": 20,
    "start_time": "2024-06-01T11:40:53.219Z"
   },
   {
    "duration": 255,
    "start_time": "2024-06-01T11:43:54.318Z"
   },
   {
    "duration": 238,
    "start_time": "2024-06-01T11:44:36.254Z"
   },
   {
    "duration": 187,
    "start_time": "2024-06-01T11:46:16.855Z"
   },
   {
    "duration": 32,
    "start_time": "2024-06-01T11:46:28.212Z"
   },
   {
    "duration": 24,
    "start_time": "2024-06-01T11:46:37.409Z"
   },
   {
    "duration": 23,
    "start_time": "2024-06-01T11:46:52.367Z"
   },
   {
    "duration": 23,
    "start_time": "2024-06-01T11:47:10.151Z"
   },
   {
    "duration": 17,
    "start_time": "2024-06-01T11:47:28.118Z"
   },
   {
    "duration": 26,
    "start_time": "2024-06-01T11:48:01.701Z"
   },
   {
    "duration": 50,
    "start_time": "2024-06-01T11:48:08.722Z"
   },
   {
    "duration": 51,
    "start_time": "2024-06-01T11:48:59.847Z"
   },
   {
    "duration": 72,
    "start_time": "2024-06-01T11:49:50.066Z"
   },
   {
    "duration": 61,
    "start_time": "2024-06-01T11:53:18.086Z"
   },
   {
    "duration": 59,
    "start_time": "2024-06-01T11:56:24.362Z"
   },
   {
    "duration": 27,
    "start_time": "2024-06-01T11:58:31.522Z"
   },
   {
    "duration": 11,
    "start_time": "2024-06-01T11:58:54.699Z"
   },
   {
    "duration": 12,
    "start_time": "2024-06-01T11:59:04.078Z"
   },
   {
    "duration": 7,
    "start_time": "2024-06-01T11:59:36.483Z"
   },
   {
    "duration": 7,
    "start_time": "2024-06-01T12:00:11.247Z"
   },
   {
    "duration": 6,
    "start_time": "2024-06-01T12:00:23.626Z"
   },
   {
    "duration": 7,
    "start_time": "2024-06-01T12:00:29.322Z"
   },
   {
    "duration": 10,
    "start_time": "2024-06-01T12:02:11.611Z"
   },
   {
    "duration": 11,
    "start_time": "2024-06-01T12:03:46.056Z"
   },
   {
    "duration": 60,
    "start_time": "2024-06-01T12:05:21.114Z"
   },
   {
    "duration": 1006,
    "start_time": "2024-06-01T12:08:30.704Z"
   },
   {
    "duration": 44,
    "start_time": "2024-06-01T12:08:53.723Z"
   },
   {
    "duration": 903,
    "start_time": "2024-06-01T12:13:00.716Z"
   },
   {
    "duration": 897,
    "start_time": "2024-06-01T12:13:09.366Z"
   },
   {
    "duration": 915,
    "start_time": "2024-06-01T12:13:19.898Z"
   },
   {
    "duration": 29,
    "start_time": "2024-06-01T12:14:13.230Z"
   },
   {
    "duration": 19,
    "start_time": "2024-06-01T12:14:57.351Z"
   },
   {
    "duration": 25,
    "start_time": "2024-06-01T12:15:18.163Z"
   },
   {
    "duration": 26,
    "start_time": "2024-06-01T12:15:23.437Z"
   },
   {
    "duration": 30,
    "start_time": "2024-06-01T12:16:10.800Z"
   },
   {
    "duration": 53,
    "start_time": "2024-06-01T12:16:24.158Z"
   },
   {
    "duration": 6,
    "start_time": "2024-06-01T12:23:28.019Z"
   },
   {
    "duration": 4,
    "start_time": "2024-06-01T12:23:46.965Z"
   },
   {
    "duration": 10,
    "start_time": "2024-06-01T12:27:22.483Z"
   },
   {
    "duration": 64,
    "start_time": "2024-06-01T12:29:12.933Z"
   },
   {
    "duration": 55,
    "start_time": "2024-06-01T12:30:20.175Z"
   },
   {
    "duration": 4,
    "start_time": "2024-06-01T12:37:16.213Z"
   },
   {
    "duration": 15,
    "start_time": "2024-06-01T12:39:09.344Z"
   },
   {
    "duration": 18,
    "start_time": "2024-06-01T12:39:23.180Z"
   },
   {
    "duration": 28,
    "start_time": "2024-06-01T12:40:13.891Z"
   },
   {
    "duration": 17,
    "start_time": "2024-06-01T12:40:58.920Z"
   },
   {
    "duration": 19,
    "start_time": "2024-06-01T12:41:00.960Z"
   },
   {
    "duration": 13,
    "start_time": "2024-06-01T12:42:45.668Z"
   },
   {
    "duration": 19,
    "start_time": "2024-06-01T12:42:50.346Z"
   },
   {
    "duration": 19,
    "start_time": "2024-06-01T12:42:58.716Z"
   },
   {
    "duration": 12,
    "start_time": "2024-06-01T12:45:36.566Z"
   },
   {
    "duration": 13,
    "start_time": "2024-06-01T12:45:45.644Z"
   },
   {
    "duration": 69,
    "start_time": "2024-06-01T12:46:50.418Z"
   },
   {
    "duration": 25,
    "start_time": "2024-06-01T12:47:54.285Z"
   },
   {
    "duration": 18,
    "start_time": "2024-06-01T12:47:56.107Z"
   },
   {
    "duration": 56,
    "start_time": "2024-06-01T12:48:05.920Z"
   },
   {
    "duration": 66,
    "start_time": "2024-06-01T12:48:11.687Z"
   },
   {
    "duration": 17,
    "start_time": "2024-06-01T12:48:32.283Z"
   },
   {
    "duration": 20,
    "start_time": "2024-06-01T12:48:40.414Z"
   },
   {
    "duration": 7,
    "start_time": "2024-06-01T12:49:00.330Z"
   },
   {
    "duration": 14,
    "start_time": "2024-06-01T12:49:20.048Z"
   },
   {
    "duration": 75,
    "start_time": "2024-06-01T12:49:30.602Z"
   },
   {
    "duration": 10,
    "start_time": "2024-06-01T12:50:01.831Z"
   },
   {
    "duration": 71,
    "start_time": "2024-06-01T12:50:48.160Z"
   },
   {
    "duration": 70,
    "start_time": "2024-06-01T12:52:46.700Z"
   },
   {
    "duration": 75,
    "start_time": "2024-06-01T12:53:15.514Z"
   },
   {
    "duration": 14,
    "start_time": "2024-06-01T12:54:29.685Z"
   },
   {
    "duration": 77,
    "start_time": "2024-06-01T12:54:47.489Z"
   },
   {
    "duration": 69,
    "start_time": "2024-06-01T12:55:02.022Z"
   },
   {
    "duration": 1497,
    "start_time": "2024-06-01T17:25:21.712Z"
   },
   {
    "duration": 133,
    "start_time": "2024-06-01T17:25:23.212Z"
   },
   {
    "duration": 32,
    "start_time": "2024-06-01T17:25:23.347Z"
   },
   {
    "duration": 39,
    "start_time": "2024-06-01T17:25:23.381Z"
   },
   {
    "duration": 5,
    "start_time": "2024-06-01T17:25:23.422Z"
   },
   {
    "duration": 25,
    "start_time": "2024-06-01T17:25:23.428Z"
   },
   {
    "duration": 24,
    "start_time": "2024-06-01T17:25:23.454Z"
   },
   {
    "duration": 37,
    "start_time": "2024-06-01T17:25:23.480Z"
   },
   {
    "duration": 51,
    "start_time": "2024-06-01T17:25:23.519Z"
   },
   {
    "duration": 25,
    "start_time": "2024-06-01T17:25:23.573Z"
   },
   {
    "duration": 9,
    "start_time": "2024-06-01T17:25:23.600Z"
   },
   {
    "duration": 233,
    "start_time": "2024-06-01T17:25:23.611Z"
   },
   {
    "duration": 373,
    "start_time": "2024-06-01T17:25:23.845Z"
   },
   {
    "duration": 321,
    "start_time": "2024-06-01T17:25:24.220Z"
   },
   {
    "duration": 32,
    "start_time": "2024-06-01T17:25:24.543Z"
   },
   {
    "duration": 22,
    "start_time": "2024-06-01T17:25:24.577Z"
   },
   {
    "duration": 74,
    "start_time": "2024-06-01T17:25:24.601Z"
   },
   {
    "duration": 57,
    "start_time": "2024-06-01T17:25:24.677Z"
   },
   {
    "duration": 83,
    "start_time": "2024-06-01T17:25:24.736Z"
   },
   {
    "duration": 5,
    "start_time": "2024-06-01T17:25:24.821Z"
   },
   {
    "duration": 108,
    "start_time": "2024-06-01T17:25:24.828Z"
   },
   {
    "duration": 52,
    "start_time": "2024-06-01T18:12:25.414Z"
   },
   {
    "duration": 208,
    "start_time": "2024-06-01T18:43:24.899Z"
   },
   {
    "duration": 1347,
    "start_time": "2024-06-01T19:18:37.457Z"
   },
   {
    "duration": 73,
    "start_time": "2024-06-01T19:18:38.806Z"
   },
   {
    "duration": 31,
    "start_time": "2024-06-01T19:18:38.881Z"
   },
   {
    "duration": 22,
    "start_time": "2024-06-01T19:18:38.914Z"
   },
   {
    "duration": 5,
    "start_time": "2024-06-01T19:18:38.938Z"
   },
   {
    "duration": 21,
    "start_time": "2024-06-01T19:18:38.944Z"
   },
   {
    "duration": 6,
    "start_time": "2024-06-01T19:18:38.967Z"
   },
   {
    "duration": 13,
    "start_time": "2024-06-01T19:18:38.975Z"
   },
   {
    "duration": 46,
    "start_time": "2024-06-01T19:18:38.990Z"
   },
   {
    "duration": 25,
    "start_time": "2024-06-01T19:18:39.063Z"
   },
   {
    "duration": 6,
    "start_time": "2024-06-01T19:18:39.090Z"
   },
   {
    "duration": 221,
    "start_time": "2024-06-01T19:18:39.098Z"
   },
   {
    "duration": 379,
    "start_time": "2024-06-01T19:18:39.320Z"
   },
   {
    "duration": 310,
    "start_time": "2024-06-01T19:18:39.701Z"
   },
   {
    "duration": 21,
    "start_time": "2024-06-01T19:18:40.012Z"
   },
   {
    "duration": 36,
    "start_time": "2024-06-01T19:18:40.035Z"
   },
   {
    "duration": 60,
    "start_time": "2024-06-01T19:18:40.073Z"
   },
   {
    "duration": 81,
    "start_time": "2024-06-01T19:18:40.134Z"
   },
   {
    "duration": 75,
    "start_time": "2024-06-01T19:18:40.216Z"
   },
   {
    "duration": 5,
    "start_time": "2024-06-01T19:18:40.293Z"
   },
   {
    "duration": 89,
    "start_time": "2024-06-01T19:18:40.299Z"
   },
   {
    "duration": 158,
    "start_time": "2024-06-01T19:18:40.390Z"
   },
   {
    "duration": 13,
    "start_time": "2024-06-01T19:18:53.445Z"
   },
   {
    "duration": 14,
    "start_time": "2024-06-01T19:19:02.803Z"
   },
   {
    "duration": 3941,
    "start_time": "2024-06-01T19:19:11.387Z"
   },
   {
    "duration": 22093,
    "start_time": "2024-06-01T19:19:18.056Z"
   },
   {
    "duration": 52,
    "start_time": "2024-06-01T19:20:54.011Z"
   },
   {
    "duration": 51,
    "start_time": "2024-06-01T19:21:04.079Z"
   },
   {
    "duration": 158,
    "start_time": "2024-06-01T19:23:30.848Z"
   },
   {
    "duration": 21,
    "start_time": "2024-06-01T19:24:45.203Z"
   },
   {
    "duration": 4,
    "start_time": "2024-06-01T19:25:02.989Z"
   },
   {
    "duration": 140,
    "start_time": "2024-06-01T19:25:05.376Z"
   },
   {
    "duration": 182,
    "start_time": "2024-06-01T19:26:51.933Z"
   },
   {
    "duration": 193,
    "start_time": "2024-06-01T19:27:33.675Z"
   },
   {
    "duration": 177,
    "start_time": "2024-06-01T19:27:53.158Z"
   },
   {
    "duration": 194,
    "start_time": "2024-06-01T19:28:01.376Z"
   },
   {
    "duration": 200,
    "start_time": "2024-06-01T19:29:14.450Z"
   },
   {
    "duration": 334,
    "start_time": "2024-06-01T19:29:22.747Z"
   },
   {
    "duration": 354,
    "start_time": "2024-06-01T19:30:15.931Z"
   },
   {
    "duration": 361,
    "start_time": "2024-06-01T19:35:53.630Z"
   },
   {
    "duration": 346,
    "start_time": "2024-06-01T19:37:49.750Z"
   },
   {
    "duration": 576,
    "start_time": "2024-06-01T19:38:07.976Z"
   },
   {
    "duration": 337,
    "start_time": "2024-06-01T19:38:22.972Z"
   },
   {
    "duration": 342,
    "start_time": "2024-06-01T19:38:36.326Z"
   },
   {
    "duration": 360,
    "start_time": "2024-06-01T19:38:40.623Z"
   },
   {
    "duration": 218,
    "start_time": "2024-06-01T19:42:01.336Z"
   },
   {
    "duration": 220,
    "start_time": "2024-06-01T19:42:16.572Z"
   },
   {
    "duration": 217,
    "start_time": "2024-06-01T19:42:28.333Z"
   },
   {
    "duration": 214,
    "start_time": "2024-06-01T19:50:40.300Z"
   },
   {
    "duration": 25,
    "start_time": "2024-06-01T19:51:35.190Z"
   },
   {
    "duration": 68,
    "start_time": "2024-06-01T19:51:47.574Z"
   },
   {
    "duration": 21,
    "start_time": "2024-06-01T19:51:54.646Z"
   },
   {
    "duration": 133,
    "start_time": "2024-06-01T19:52:42.595Z"
   },
   {
    "duration": 143,
    "start_time": "2024-06-01T19:53:19.250Z"
   },
   {
    "duration": 18,
    "start_time": "2024-06-01T19:55:35.592Z"
   },
   {
    "duration": 123,
    "start_time": "2024-06-01T19:55:55.085Z"
   },
   {
    "duration": 11,
    "start_time": "2024-06-01T19:57:05.640Z"
   },
   {
    "duration": 12,
    "start_time": "2024-06-01T19:57:10.698Z"
   },
   {
    "duration": 11,
    "start_time": "2024-06-01T19:57:17.366Z"
   },
   {
    "duration": 14,
    "start_time": "2024-06-01T19:58:01.309Z"
   },
   {
    "duration": 13,
    "start_time": "2024-06-01T19:58:13.583Z"
   },
   {
    "duration": 123,
    "start_time": "2024-06-01T19:58:21.589Z"
   },
   {
    "duration": 218,
    "start_time": "2024-06-01T19:59:09.546Z"
   },
   {
    "duration": 12,
    "start_time": "2024-06-01T20:00:01.162Z"
   },
   {
    "duration": 62,
    "start_time": "2024-06-01T20:01:15.551Z"
   },
   {
    "duration": 48,
    "start_time": "2024-06-01T20:01:50.768Z"
   },
   {
    "duration": 395,
    "start_time": "2024-06-01T20:03:56.520Z"
   },
   {
    "duration": 84,
    "start_time": "2024-06-01T20:05:44.645Z"
   },
   {
    "duration": 27,
    "start_time": "2024-06-01T20:06:30.118Z"
   },
   {
    "duration": 4,
    "start_time": "2024-06-01T20:07:32.773Z"
   },
   {
    "duration": 9971,
    "start_time": "2024-06-01T20:07:36.378Z"
   },
   {
    "duration": 19955,
    "start_time": "2024-06-01T20:09:57.574Z"
   },
   {
    "duration": 1621,
    "start_time": "2024-06-01T20:11:13.773Z"
   },
   {
    "duration": 78,
    "start_time": "2024-06-01T20:11:15.396Z"
   },
   {
    "duration": 38,
    "start_time": "2024-06-01T20:11:15.476Z"
   },
   {
    "duration": 15,
    "start_time": "2024-06-01T20:11:15.515Z"
   },
   {
    "duration": 4,
    "start_time": "2024-06-01T20:11:15.533Z"
   },
   {
    "duration": 9,
    "start_time": "2024-06-01T20:11:15.561Z"
   },
   {
    "duration": 7,
    "start_time": "2024-06-01T20:11:15.575Z"
   },
   {
    "duration": 10,
    "start_time": "2024-06-01T20:11:15.584Z"
   },
   {
    "duration": 36,
    "start_time": "2024-06-01T20:11:15.596Z"
   },
   {
    "duration": 50,
    "start_time": "2024-06-01T20:11:15.633Z"
   },
   {
    "duration": 6,
    "start_time": "2024-06-01T20:11:15.685Z"
   },
   {
    "duration": 206,
    "start_time": "2024-06-01T20:11:15.692Z"
   },
   {
    "duration": 506,
    "start_time": "2024-06-01T20:11:15.901Z"
   },
   {
    "duration": 237,
    "start_time": "2024-06-01T20:11:16.410Z"
   },
   {
    "duration": 25,
    "start_time": "2024-06-01T20:11:16.649Z"
   },
   {
    "duration": 26,
    "start_time": "2024-06-01T20:11:16.675Z"
   },
   {
    "duration": 73,
    "start_time": "2024-06-01T20:11:16.703Z"
   },
   {
    "duration": 57,
    "start_time": "2024-06-01T20:11:16.778Z"
   },
   {
    "duration": 78,
    "start_time": "2024-06-01T20:11:16.836Z"
   },
   {
    "duration": 6,
    "start_time": "2024-06-01T20:11:16.916Z"
   },
   {
    "duration": 96,
    "start_time": "2024-06-01T20:11:16.923Z"
   },
   {
    "duration": 267,
    "start_time": "2024-06-01T20:11:17.021Z"
   },
   {
    "duration": 13,
    "start_time": "2024-06-01T20:11:17.290Z"
   },
   {
    "duration": 125,
    "start_time": "2024-06-01T20:11:17.305Z"
   },
   {
    "duration": 10998,
    "start_time": "2024-06-01T20:11:17.432Z"
   },
   {
    "duration": 19602,
    "start_time": "2024-06-01T20:11:38.821Z"
   },
   {
    "duration": 169,
    "start_time": "2024-06-01T20:13:50.302Z"
   },
   {
    "duration": 1588,
    "start_time": "2024-06-01T20:14:28.843Z"
   },
   {
    "duration": 72,
    "start_time": "2024-06-01T20:14:30.433Z"
   },
   {
    "duration": 33,
    "start_time": "2024-06-01T20:14:30.507Z"
   },
   {
    "duration": 50,
    "start_time": "2024-06-01T20:14:30.543Z"
   },
   {
    "duration": 52,
    "start_time": "2024-06-01T20:14:30.595Z"
   },
   {
    "duration": 62,
    "start_time": "2024-06-01T20:14:30.649Z"
   },
   {
    "duration": 58,
    "start_time": "2024-06-01T20:14:30.713Z"
   },
   {
    "duration": 52,
    "start_time": "2024-06-01T20:14:30.773Z"
   },
   {
    "duration": 73,
    "start_time": "2024-06-01T20:14:30.826Z"
   },
   {
    "duration": 67,
    "start_time": "2024-06-01T20:14:30.902Z"
   },
   {
    "duration": 17,
    "start_time": "2024-06-01T20:14:30.971Z"
   },
   {
    "duration": 214,
    "start_time": "2024-06-01T20:14:30.990Z"
   },
   {
    "duration": 467,
    "start_time": "2024-06-01T20:14:31.206Z"
   },
   {
    "duration": 222,
    "start_time": "2024-06-01T20:14:31.674Z"
   },
   {
    "duration": 21,
    "start_time": "2024-06-01T20:14:31.898Z"
   },
   {
    "duration": 43,
    "start_time": "2024-06-01T20:14:31.921Z"
   },
   {
    "duration": 62,
    "start_time": "2024-06-01T20:14:31.966Z"
   },
   {
    "duration": 78,
    "start_time": "2024-06-01T20:14:32.030Z"
   },
   {
    "duration": 73,
    "start_time": "2024-06-01T20:14:32.110Z"
   },
   {
    "duration": 5,
    "start_time": "2024-06-01T20:14:32.185Z"
   },
   {
    "duration": 95,
    "start_time": "2024-06-01T20:14:32.192Z"
   },
   {
    "duration": 249,
    "start_time": "2024-06-01T20:14:32.288Z"
   },
   {
    "duration": 12,
    "start_time": "2024-06-01T20:14:32.538Z"
   },
   {
    "duration": 132,
    "start_time": "2024-06-01T20:14:32.552Z"
   },
   {
    "duration": 10764,
    "start_time": "2024-06-01T20:14:32.686Z"
   },
   {
    "duration": 188,
    "start_time": "2024-06-01T20:16:45.823Z"
   },
   {
    "duration": 19524,
    "start_time": "2024-06-01T20:16:59.284Z"
   },
   {
    "duration": 1620,
    "start_time": "2024-06-01T20:19:44.693Z"
   },
   {
    "duration": 74,
    "start_time": "2024-06-01T20:19:46.315Z"
   },
   {
    "duration": 31,
    "start_time": "2024-06-01T20:19:46.390Z"
   },
   {
    "duration": 16,
    "start_time": "2024-06-01T20:19:46.423Z"
   },
   {
    "duration": 19,
    "start_time": "2024-06-01T20:19:46.442Z"
   },
   {
    "duration": 5,
    "start_time": "2024-06-01T20:19:46.463Z"
   },
   {
    "duration": 15,
    "start_time": "2024-06-01T20:19:46.470Z"
   },
   {
    "duration": 11,
    "start_time": "2024-06-01T20:19:46.487Z"
   },
   {
    "duration": 34,
    "start_time": "2024-06-01T20:19:46.499Z"
   },
   {
    "duration": 45,
    "start_time": "2024-06-01T20:19:46.534Z"
   },
   {
    "duration": 6,
    "start_time": "2024-06-01T20:19:46.581Z"
   },
   {
    "duration": 192,
    "start_time": "2024-06-01T20:19:46.588Z"
   },
   {
    "duration": 486,
    "start_time": "2024-06-01T20:19:46.782Z"
   },
   {
    "duration": 245,
    "start_time": "2024-06-01T20:19:47.272Z"
   },
   {
    "duration": 24,
    "start_time": "2024-06-01T20:19:47.519Z"
   },
   {
    "duration": 37,
    "start_time": "2024-06-01T20:19:47.545Z"
   },
   {
    "duration": 80,
    "start_time": "2024-06-01T20:19:47.584Z"
   },
   {
    "duration": 66,
    "start_time": "2024-06-01T20:19:47.666Z"
   },
   {
    "duration": 94,
    "start_time": "2024-06-01T20:19:47.734Z"
   },
   {
    "duration": 5,
    "start_time": "2024-06-01T20:19:47.829Z"
   },
   {
    "duration": 112,
    "start_time": "2024-06-01T20:19:47.836Z"
   },
   {
    "duration": 216,
    "start_time": "2024-06-01T20:19:47.950Z"
   },
   {
    "duration": 12,
    "start_time": "2024-06-01T20:19:48.167Z"
   },
   {
    "duration": 131,
    "start_time": "2024-06-01T20:19:48.180Z"
   },
   {
    "duration": 194,
    "start_time": "2024-06-01T20:19:48.313Z"
   },
   {
    "duration": 1523,
    "start_time": "2024-06-02T13:36:30.540Z"
   },
   {
    "duration": 120,
    "start_time": "2024-06-02T13:36:32.065Z"
   },
   {
    "duration": 24,
    "start_time": "2024-06-02T13:36:32.186Z"
   },
   {
    "duration": 12,
    "start_time": "2024-06-02T13:36:32.211Z"
   },
   {
    "duration": 4,
    "start_time": "2024-06-02T13:36:32.225Z"
   },
   {
    "duration": 8,
    "start_time": "2024-06-02T13:36:32.230Z"
   },
   {
    "duration": 4,
    "start_time": "2024-06-02T13:36:32.239Z"
   },
   {
    "duration": 7,
    "start_time": "2024-06-02T13:36:32.244Z"
   },
   {
    "duration": 56,
    "start_time": "2024-06-02T13:36:32.252Z"
   },
   {
    "duration": 18,
    "start_time": "2024-06-02T13:36:32.309Z"
   },
   {
    "duration": 51,
    "start_time": "2024-06-02T13:36:32.329Z"
   },
   {
    "duration": 172,
    "start_time": "2024-06-02T13:36:32.381Z"
   },
   {
    "duration": 348,
    "start_time": "2024-06-02T13:36:32.555Z"
   },
   {
    "duration": 190,
    "start_time": "2024-06-02T13:36:32.905Z"
   },
   {
    "duration": 19,
    "start_time": "2024-06-02T13:36:33.096Z"
   },
   {
    "duration": 31,
    "start_time": "2024-06-02T13:36:33.116Z"
   },
   {
    "duration": 61,
    "start_time": "2024-06-02T13:36:33.148Z"
   },
   {
    "duration": 51,
    "start_time": "2024-06-02T13:36:33.210Z"
   },
   {
    "duration": 64,
    "start_time": "2024-06-02T13:36:33.263Z"
   },
   {
    "duration": 4,
    "start_time": "2024-06-02T13:36:33.329Z"
   },
   {
    "duration": 74,
    "start_time": "2024-06-02T13:36:33.334Z"
   },
   {
    "duration": 197,
    "start_time": "2024-06-02T13:36:33.410Z"
   },
   {
    "duration": 10,
    "start_time": "2024-06-02T13:36:33.609Z"
   },
   {
    "duration": 181,
    "start_time": "2024-06-02T13:36:33.620Z"
   },
   {
    "duration": 7912,
    "start_time": "2024-06-02T13:36:33.802Z"
   },
   {
    "duration": 67,
    "start_time": "2024-06-02T13:45:01.926Z"
   },
   {
    "duration": 157,
    "start_time": "2024-06-02T13:45:14.394Z"
   },
   {
    "duration": 21,
    "start_time": "2024-06-02T14:04:48.310Z"
   },
   {
    "duration": 46,
    "start_time": "2024-06-02T14:04:58.365Z"
   },
   {
    "duration": 3,
    "start_time": "2024-06-02T14:06:41.399Z"
   },
   {
    "duration": 48,
    "start_time": "2024-06-02T14:07:01.128Z"
   },
   {
    "duration": 45,
    "start_time": "2024-06-02T14:08:01.005Z"
   },
   {
    "duration": 47,
    "start_time": "2024-06-02T14:08:15.558Z"
   },
   {
    "duration": 1403,
    "start_time": "2024-06-02T14:41:25.734Z"
   },
   {
    "duration": 65,
    "start_time": "2024-06-02T14:41:27.139Z"
   },
   {
    "duration": 34,
    "start_time": "2024-06-02T14:41:27.206Z"
   },
   {
    "duration": 19,
    "start_time": "2024-06-02T14:41:27.242Z"
   },
   {
    "duration": 5,
    "start_time": "2024-06-02T14:41:27.263Z"
   },
   {
    "duration": 22,
    "start_time": "2024-06-02T14:41:27.269Z"
   },
   {
    "duration": 19,
    "start_time": "2024-06-02T14:41:27.292Z"
   },
   {
    "duration": 17,
    "start_time": "2024-06-02T14:41:27.313Z"
   },
   {
    "duration": 28,
    "start_time": "2024-06-02T14:41:27.332Z"
   },
   {
    "duration": 23,
    "start_time": "2024-06-02T14:41:27.362Z"
   },
   {
    "duration": 18,
    "start_time": "2024-06-02T14:41:27.387Z"
   },
   {
    "duration": 212,
    "start_time": "2024-06-02T14:41:27.406Z"
   },
   {
    "duration": 408,
    "start_time": "2024-06-02T14:41:27.619Z"
   },
   {
    "duration": 184,
    "start_time": "2024-06-02T14:41:28.031Z"
   },
   {
    "duration": 17,
    "start_time": "2024-06-02T14:41:28.216Z"
   },
   {
    "duration": 47,
    "start_time": "2024-06-02T14:41:28.235Z"
   },
   {
    "duration": 57,
    "start_time": "2024-06-02T14:41:28.283Z"
   },
   {
    "duration": 45,
    "start_time": "2024-06-02T14:41:28.341Z"
   },
   {
    "duration": 58,
    "start_time": "2024-06-02T14:41:28.388Z"
   },
   {
    "duration": 5,
    "start_time": "2024-06-02T14:41:28.447Z"
   },
   {
    "duration": 79,
    "start_time": "2024-06-02T14:41:28.453Z"
   },
   {
    "duration": 181,
    "start_time": "2024-06-02T14:41:28.533Z"
   },
   {
    "duration": 14,
    "start_time": "2024-06-02T14:41:28.715Z"
   },
   {
    "duration": 107,
    "start_time": "2024-06-02T14:41:28.731Z"
   },
   {
    "duration": 8027,
    "start_time": "2024-06-02T14:41:28.840Z"
   },
   {
    "duration": 74,
    "start_time": "2024-06-02T14:41:36.869Z"
   },
   {
    "duration": 165,
    "start_time": "2024-06-02T14:41:36.945Z"
   },
   {
    "duration": 47,
    "start_time": "2024-06-02T14:42:56.810Z"
   },
   {
    "duration": 59,
    "start_time": "2024-06-02T14:44:26.855Z"
   },
   {
    "duration": 7,
    "start_time": "2024-06-02T14:49:56.492Z"
   },
   {
    "duration": 11,
    "start_time": "2024-06-02T14:52:17.272Z"
   },
   {
    "duration": 7,
    "start_time": "2024-06-02T14:52:22.022Z"
   },
   {
    "duration": 14,
    "start_time": "2024-06-02T14:59:43.493Z"
   },
   {
    "duration": 4,
    "start_time": "2024-06-02T15:00:08.937Z"
   },
   {
    "duration": 59,
    "start_time": "2024-06-02T15:02:11.215Z"
   },
   {
    "duration": 141,
    "start_time": "2024-06-02T15:02:17.489Z"
   },
   {
    "duration": 14,
    "start_time": "2024-06-02T15:03:28.961Z"
   },
   {
    "duration": 43,
    "start_time": "2024-06-02T15:04:53.894Z"
   },
   {
    "duration": 17,
    "start_time": "2024-06-02T15:09:55.296Z"
   },
   {
    "duration": 44,
    "start_time": "2024-06-02T15:11:11.791Z"
   },
   {
    "duration": 55,
    "start_time": "2024-06-02T15:11:20.790Z"
   },
   {
    "duration": 16,
    "start_time": "2024-06-02T15:11:32.530Z"
   },
   {
    "duration": 59,
    "start_time": "2024-06-02T15:11:37.658Z"
   },
   {
    "duration": 15,
    "start_time": "2024-06-02T15:13:07.641Z"
   },
   {
    "duration": 62,
    "start_time": "2024-06-02T15:13:11.330Z"
   },
   {
    "duration": 24,
    "start_time": "2024-06-02T15:14:00.092Z"
   },
   {
    "duration": 71,
    "start_time": "2024-06-02T15:14:09.768Z"
   },
   {
    "duration": 61,
    "start_time": "2024-06-02T15:14:30.039Z"
   },
   {
    "duration": 74,
    "start_time": "2024-06-02T15:15:33.160Z"
   },
   {
    "duration": 79,
    "start_time": "2024-06-02T15:15:38.363Z"
   },
   {
    "duration": 63,
    "start_time": "2024-06-02T15:15:45.233Z"
   },
   {
    "duration": 69,
    "start_time": "2024-06-02T15:16:51.058Z"
   },
   {
    "duration": 70,
    "start_time": "2024-06-02T15:16:59.682Z"
   },
   {
    "duration": 57,
    "start_time": "2024-06-02T15:19:53.986Z"
   },
   {
    "duration": 75,
    "start_time": "2024-06-02T15:20:12.787Z"
   },
   {
    "duration": 80,
    "start_time": "2024-06-02T15:20:49.642Z"
   },
   {
    "duration": 945,
    "start_time": "2024-06-02T15:21:07.949Z"
   },
   {
    "duration": 19,
    "start_time": "2024-06-02T15:23:55.400Z"
   },
   {
    "duration": 26,
    "start_time": "2024-06-02T15:24:52.021Z"
   },
   {
    "duration": 3,
    "start_time": "2024-06-02T15:25:10.697Z"
   },
   {
    "duration": 27,
    "start_time": "2024-06-02T15:25:14.317Z"
   },
   {
    "duration": 46,
    "start_time": "2024-06-02T15:26:01.176Z"
   },
   {
    "duration": 7,
    "start_time": "2024-06-02T15:26:16.798Z"
   },
   {
    "duration": 36,
    "start_time": "2024-06-02T15:26:34.353Z"
   },
   {
    "duration": 19,
    "start_time": "2024-06-02T15:29:07.828Z"
   },
   {
    "duration": 18,
    "start_time": "2024-06-02T15:29:27.788Z"
   },
   {
    "duration": 16,
    "start_time": "2024-06-02T15:29:37.582Z"
   },
   {
    "duration": 20,
    "start_time": "2024-06-02T15:30:41.073Z"
   },
   {
    "duration": 910,
    "start_time": "2024-06-02T15:31:49.073Z"
   },
   {
    "duration": 25,
    "start_time": "2024-06-02T15:31:57.815Z"
   },
   {
    "duration": 14,
    "start_time": "2024-06-02T15:32:22.882Z"
   },
   {
    "duration": 13,
    "start_time": "2024-06-02T15:32:32.720Z"
   },
   {
    "duration": 20,
    "start_time": "2024-06-02T15:32:51.774Z"
   },
   {
    "duration": 17,
    "start_time": "2024-06-02T15:33:16.563Z"
   },
   {
    "duration": 16,
    "start_time": "2024-06-02T15:35:22.526Z"
   },
   {
    "duration": 23,
    "start_time": "2024-06-02T15:35:45.796Z"
   },
   {
    "duration": 17,
    "start_time": "2024-06-02T15:36:08.657Z"
   },
   {
    "duration": 23,
    "start_time": "2024-06-02T15:36:42.472Z"
   },
   {
    "duration": 67,
    "start_time": "2024-06-02T15:36:49.926Z"
   },
   {
    "duration": 187,
    "start_time": "2024-06-02T15:38:01.666Z"
   },
   {
    "duration": 7,
    "start_time": "2024-06-02T15:38:25.273Z"
   },
   {
    "duration": 73,
    "start_time": "2024-06-02T15:38:30.113Z"
   },
   {
    "duration": 24,
    "start_time": "2024-06-02T15:40:11.314Z"
   },
   {
    "duration": 62,
    "start_time": "2024-06-02T15:40:22.324Z"
   },
   {
    "duration": 1356,
    "start_time": "2024-06-02T15:45:10.783Z"
   },
   {
    "duration": 61,
    "start_time": "2024-06-02T15:45:12.140Z"
   },
   {
    "duration": 25,
    "start_time": "2024-06-02T15:45:12.203Z"
   },
   {
    "duration": 12,
    "start_time": "2024-06-02T15:45:12.230Z"
   },
   {
    "duration": 7,
    "start_time": "2024-06-02T15:45:12.243Z"
   },
   {
    "duration": 9,
    "start_time": "2024-06-02T15:45:12.251Z"
   },
   {
    "duration": 7,
    "start_time": "2024-06-02T15:45:12.261Z"
   },
   {
    "duration": 11,
    "start_time": "2024-06-02T15:45:12.269Z"
   },
   {
    "duration": 44,
    "start_time": "2024-06-02T15:45:12.281Z"
   },
   {
    "duration": 18,
    "start_time": "2024-06-02T15:45:12.327Z"
   },
   {
    "duration": 5,
    "start_time": "2024-06-02T15:45:12.347Z"
   },
   {
    "duration": 185,
    "start_time": "2024-06-02T15:45:12.353Z"
   },
   {
    "duration": 351,
    "start_time": "2024-06-02T15:45:12.540Z"
   },
   {
    "duration": 182,
    "start_time": "2024-06-02T15:45:12.893Z"
   },
   {
    "duration": 16,
    "start_time": "2024-06-02T15:45:13.076Z"
   },
   {
    "duration": 45,
    "start_time": "2024-06-02T15:45:13.093Z"
   },
   {
    "duration": 66,
    "start_time": "2024-06-02T15:45:13.139Z"
   },
   {
    "duration": 50,
    "start_time": "2024-06-02T15:45:13.206Z"
   },
   {
    "duration": 71,
    "start_time": "2024-06-02T15:45:13.258Z"
   },
   {
    "duration": 5,
    "start_time": "2024-06-02T15:45:13.331Z"
   },
   {
    "duration": 78,
    "start_time": "2024-06-02T15:45:13.337Z"
   },
   {
    "duration": 176,
    "start_time": "2024-06-02T15:45:13.416Z"
   },
   {
    "duration": 14,
    "start_time": "2024-06-02T15:45:13.594Z"
   },
   {
    "duration": 103,
    "start_time": "2024-06-02T15:45:13.610Z"
   },
   {
    "duration": 8065,
    "start_time": "2024-06-02T15:45:13.715Z"
   },
   {
    "duration": 20,
    "start_time": "2024-06-02T15:45:21.782Z"
   },
   {
    "duration": 141,
    "start_time": "2024-06-02T15:45:21.804Z"
   },
   {
    "duration": 6,
    "start_time": "2024-06-02T15:45:44.452Z"
   },
   {
    "duration": 66,
    "start_time": "2024-06-02T15:45:44.809Z"
   },
   {
    "duration": 71,
    "start_time": "2024-06-02T15:45:55.563Z"
   },
   {
    "duration": 64,
    "start_time": "2024-06-02T15:46:56.954Z"
   },
   {
    "duration": 4,
    "start_time": "2024-06-02T15:47:19.184Z"
   },
   {
    "duration": 62,
    "start_time": "2024-06-02T15:47:48.085Z"
   },
   {
    "duration": 71,
    "start_time": "2024-06-02T15:48:01.549Z"
   },
   {
    "duration": 70,
    "start_time": "2024-06-02T15:48:23.072Z"
   },
   {
    "duration": 1300,
    "start_time": "2024-06-02T15:48:39.061Z"
   },
   {
    "duration": 64,
    "start_time": "2024-06-02T15:48:40.363Z"
   },
   {
    "duration": 23,
    "start_time": "2024-06-02T15:48:40.428Z"
   },
   {
    "duration": 13,
    "start_time": "2024-06-02T15:48:40.453Z"
   },
   {
    "duration": 4,
    "start_time": "2024-06-02T15:48:40.467Z"
   },
   {
    "duration": 10,
    "start_time": "2024-06-02T15:48:40.473Z"
   },
   {
    "duration": 18,
    "start_time": "2024-06-02T15:48:40.484Z"
   },
   {
    "duration": 16,
    "start_time": "2024-06-02T15:48:40.503Z"
   },
   {
    "duration": 26,
    "start_time": "2024-06-02T15:48:40.520Z"
   },
   {
    "duration": 17,
    "start_time": "2024-06-02T15:48:40.548Z"
   },
   {
    "duration": 9,
    "start_time": "2024-06-02T15:48:40.566Z"
   },
   {
    "duration": 182,
    "start_time": "2024-06-02T15:48:40.576Z"
   },
   {
    "duration": 327,
    "start_time": "2024-06-02T15:48:40.760Z"
   },
   {
    "duration": 197,
    "start_time": "2024-06-02T15:48:41.088Z"
   },
   {
    "duration": 21,
    "start_time": "2024-06-02T15:48:41.291Z"
   },
   {
    "duration": 132,
    "start_time": "2024-06-02T15:48:41.314Z"
   },
   {
    "duration": 152,
    "start_time": "2024-06-02T15:48:41.448Z"
   },
   {
    "duration": 47,
    "start_time": "2024-06-02T15:48:41.601Z"
   },
   {
    "duration": 60,
    "start_time": "2024-06-02T15:48:41.650Z"
   },
   {
    "duration": 4,
    "start_time": "2024-06-02T15:48:41.712Z"
   },
   {
    "duration": 64,
    "start_time": "2024-06-02T15:48:41.717Z"
   },
   {
    "duration": 195,
    "start_time": "2024-06-02T15:48:41.783Z"
   },
   {
    "duration": 10,
    "start_time": "2024-06-02T15:48:41.980Z"
   },
   {
    "duration": 104,
    "start_time": "2024-06-02T15:48:42.002Z"
   },
   {
    "duration": 7873,
    "start_time": "2024-06-02T15:48:42.107Z"
   },
   {
    "duration": 7,
    "start_time": "2024-06-02T15:48:49.982Z"
   },
   {
    "duration": 121,
    "start_time": "2024-06-02T15:48:50.002Z"
   },
   {
    "duration": 1869,
    "start_time": "2024-06-03T06:58:22.151Z"
   },
   {
    "duration": 239,
    "start_time": "2024-06-03T06:58:24.023Z"
   },
   {
    "duration": 34,
    "start_time": "2024-06-03T06:58:24.263Z"
   },
   {
    "duration": 17,
    "start_time": "2024-06-03T06:58:24.300Z"
   },
   {
    "duration": 5,
    "start_time": "2024-06-03T06:58:24.319Z"
   },
   {
    "duration": 9,
    "start_time": "2024-06-03T06:58:24.325Z"
   },
   {
    "duration": 4,
    "start_time": "2024-06-03T06:58:24.359Z"
   },
   {
    "duration": 10,
    "start_time": "2024-06-03T06:58:24.365Z"
   },
   {
    "duration": 35,
    "start_time": "2024-06-03T06:58:24.377Z"
   },
   {
    "duration": 49,
    "start_time": "2024-06-03T06:58:24.414Z"
   },
   {
    "duration": 7,
    "start_time": "2024-06-03T06:58:24.465Z"
   },
   {
    "duration": 218,
    "start_time": "2024-06-03T06:58:24.473Z"
   },
   {
    "duration": 474,
    "start_time": "2024-06-03T06:58:24.692Z"
   },
   {
    "duration": 265,
    "start_time": "2024-06-03T06:58:25.169Z"
   },
   {
    "duration": 27,
    "start_time": "2024-06-03T06:58:25.435Z"
   },
   {
    "duration": 41,
    "start_time": "2024-06-03T06:58:25.464Z"
   },
   {
    "duration": 66,
    "start_time": "2024-06-03T06:58:25.507Z"
   },
   {
    "duration": 61,
    "start_time": "2024-06-03T06:58:25.575Z"
   },
   {
    "duration": 83,
    "start_time": "2024-06-03T06:58:25.637Z"
   },
   {
    "duration": 5,
    "start_time": "2024-06-03T06:58:25.722Z"
   },
   {
    "duration": 101,
    "start_time": "2024-06-03T06:58:25.729Z"
   },
   {
    "duration": 243,
    "start_time": "2024-06-03T06:58:25.832Z"
   },
   {
    "duration": 12,
    "start_time": "2024-06-03T06:58:26.077Z"
   },
   {
    "duration": 227,
    "start_time": "2024-06-03T06:58:26.091Z"
   },
   {
    "duration": 10668,
    "start_time": "2024-06-03T06:58:26.319Z"
   },
   {
    "duration": 71,
    "start_time": "2024-06-03T06:58:36.990Z"
   },
   {
    "duration": 139,
    "start_time": "2024-06-03T06:58:37.063Z"
   },
   {
    "duration": 190,
    "start_time": "2024-06-03T07:00:41.809Z"
   },
   {
    "duration": 15,
    "start_time": "2024-06-03T07:01:07.974Z"
   },
   {
    "duration": 11,
    "start_time": "2024-06-03T07:03:00.363Z"
   },
   {
    "duration": 14,
    "start_time": "2024-06-03T07:15:12.008Z"
   },
   {
    "duration": 19,
    "start_time": "2024-06-03T07:15:52.470Z"
   },
   {
    "duration": 62,
    "start_time": "2024-06-03T07:16:31.235Z"
   },
   {
    "duration": 21,
    "start_time": "2024-06-03T07:16:35.778Z"
   },
   {
    "duration": 17,
    "start_time": "2024-06-03T07:17:04.737Z"
   },
   {
    "duration": 13,
    "start_time": "2024-06-03T07:18:02.024Z"
   },
   {
    "duration": 42,
    "start_time": "2024-06-03T07:18:54.587Z"
   },
   {
    "duration": 30,
    "start_time": "2024-06-03T07:18:59.657Z"
   },
   {
    "duration": 22,
    "start_time": "2024-06-03T07:21:47.999Z"
   },
   {
    "duration": 30,
    "start_time": "2024-06-03T07:22:11.533Z"
   },
   {
    "duration": 54,
    "start_time": "2024-06-03T07:22:19.197Z"
   },
   {
    "duration": 11,
    "start_time": "2024-06-03T07:22:42.646Z"
   },
   {
    "duration": 3,
    "start_time": "2024-06-03T07:22:54.744Z"
   },
   {
    "duration": 5,
    "start_time": "2024-06-03T07:22:59.409Z"
   },
   {
    "duration": 10,
    "start_time": "2024-06-03T07:23:20.196Z"
   },
   {
    "duration": 4,
    "start_time": "2024-06-03T07:23:34.820Z"
   },
   {
    "duration": 5,
    "start_time": "2024-06-03T07:23:46.807Z"
   },
   {
    "duration": 46,
    "start_time": "2024-06-03T07:23:55.359Z"
   },
   {
    "duration": 75,
    "start_time": "2024-06-03T07:24:10.415Z"
   },
   {
    "duration": 46,
    "start_time": "2024-06-03T07:24:25.352Z"
   },
   {
    "duration": 5,
    "start_time": "2024-06-03T07:24:40.342Z"
   },
   {
    "duration": 65,
    "start_time": "2024-06-03T07:24:55.315Z"
   },
   {
    "duration": 61,
    "start_time": "2024-06-03T07:25:17.392Z"
   },
   {
    "duration": 63,
    "start_time": "2024-06-03T07:25:36.065Z"
   },
   {
    "duration": 58,
    "start_time": "2024-06-03T07:25:43.166Z"
   },
   {
    "duration": 4,
    "start_time": "2024-06-03T07:27:08.001Z"
   },
   {
    "duration": 60,
    "start_time": "2024-06-03T07:27:16.201Z"
   },
   {
    "duration": 69,
    "start_time": "2024-06-03T07:27:50.609Z"
   },
   {
    "duration": 69,
    "start_time": "2024-06-03T07:28:22.868Z"
   },
   {
    "duration": 77,
    "start_time": "2024-06-03T07:28:30.870Z"
   },
   {
    "duration": 58,
    "start_time": "2024-06-03T07:30:16.993Z"
   },
   {
    "duration": 26,
    "start_time": "2024-06-03T07:34:34.373Z"
   },
   {
    "duration": 49,
    "start_time": "2024-06-03T07:34:50.872Z"
   },
   {
    "duration": 1813,
    "start_time": "2024-06-03T12:57:46.685Z"
   },
   {
    "duration": 143,
    "start_time": "2024-06-03T12:57:48.501Z"
   },
   {
    "duration": 36,
    "start_time": "2024-06-03T12:57:48.646Z"
   },
   {
    "duration": 16,
    "start_time": "2024-06-03T12:57:48.684Z"
   },
   {
    "duration": 4,
    "start_time": "2024-06-03T12:57:48.703Z"
   },
   {
    "duration": 15,
    "start_time": "2024-06-03T12:57:48.709Z"
   },
   {
    "duration": 5,
    "start_time": "2024-06-03T12:57:48.745Z"
   },
   {
    "duration": 13,
    "start_time": "2024-06-03T12:57:48.751Z"
   },
   {
    "duration": 35,
    "start_time": "2024-06-03T12:57:48.766Z"
   },
   {
    "duration": 44,
    "start_time": "2024-06-03T12:57:48.803Z"
   },
   {
    "duration": 7,
    "start_time": "2024-06-03T12:57:48.849Z"
   },
   {
    "duration": 252,
    "start_time": "2024-06-03T12:57:48.858Z"
   },
   {
    "duration": 459,
    "start_time": "2024-06-03T12:57:49.112Z"
   },
   {
    "duration": 258,
    "start_time": "2024-06-03T12:57:49.575Z"
   },
   {
    "duration": 29,
    "start_time": "2024-06-03T12:57:49.835Z"
   },
   {
    "duration": 38,
    "start_time": "2024-06-03T12:57:49.867Z"
   },
   {
    "duration": 66,
    "start_time": "2024-06-03T12:57:49.907Z"
   },
   {
    "duration": 77,
    "start_time": "2024-06-03T12:57:49.975Z"
   },
   {
    "duration": 69,
    "start_time": "2024-06-03T12:57:50.054Z"
   },
   {
    "duration": 21,
    "start_time": "2024-06-03T12:57:50.125Z"
   },
   {
    "duration": 116,
    "start_time": "2024-06-03T12:57:50.147Z"
   },
   {
    "duration": 234,
    "start_time": "2024-06-03T12:57:50.265Z"
   },
   {
    "duration": 13,
    "start_time": "2024-06-03T12:57:50.501Z"
   },
   {
    "duration": 191,
    "start_time": "2024-06-03T12:57:50.516Z"
   },
   {
    "duration": 10927,
    "start_time": "2024-06-03T12:57:50.709Z"
   },
   {
    "duration": 12,
    "start_time": "2024-06-03T12:58:01.639Z"
   },
   {
    "duration": 295,
    "start_time": "2024-06-03T12:58:01.652Z"
   },
   {
    "duration": 209,
    "start_time": "2024-06-03T12:58:01.949Z"
   },
   {
    "duration": 104,
    "start_time": "2024-06-03T12:58:02.159Z"
   },
   {
    "duration": 87,
    "start_time": "2024-06-03T12:58:02.265Z"
   },
   {
    "duration": 130,
    "start_time": "2024-06-03T12:58:02.354Z"
   },
   {
    "duration": 304,
    "start_time": "2024-06-03T12:58:02.486Z"
   },
   {
    "duration": 52,
    "start_time": "2024-06-03T12:58:30.229Z"
   },
   {
    "duration": 1673,
    "start_time": "2024-06-03T18:21:13.868Z"
   },
   {
    "duration": 133,
    "start_time": "2024-06-03T18:21:15.543Z"
   },
   {
    "duration": 31,
    "start_time": "2024-06-03T18:21:15.677Z"
   },
   {
    "duration": 18,
    "start_time": "2024-06-03T18:21:15.711Z"
   },
   {
    "duration": 6,
    "start_time": "2024-06-03T18:21:15.731Z"
   },
   {
    "duration": 10,
    "start_time": "2024-06-03T18:21:15.738Z"
   },
   {
    "duration": 33,
    "start_time": "2024-06-03T18:21:15.749Z"
   },
   {
    "duration": 81,
    "start_time": "2024-06-03T18:21:15.784Z"
   },
   {
    "duration": 45,
    "start_time": "2024-06-03T18:21:15.866Z"
   },
   {
    "duration": 21,
    "start_time": "2024-06-03T18:21:15.913Z"
   },
   {
    "duration": 23,
    "start_time": "2024-06-03T18:21:15.936Z"
   },
   {
    "duration": 264,
    "start_time": "2024-06-03T18:21:15.961Z"
   },
   {
    "duration": 407,
    "start_time": "2024-06-03T18:21:16.227Z"
   },
   {
    "duration": 226,
    "start_time": "2024-06-03T18:21:16.635Z"
   },
   {
    "duration": 20,
    "start_time": "2024-06-03T18:21:16.864Z"
   },
   {
    "duration": 30,
    "start_time": "2024-06-03T18:21:16.886Z"
   },
   {
    "duration": 67,
    "start_time": "2024-06-03T18:21:16.917Z"
   },
   {
    "duration": 55,
    "start_time": "2024-06-03T18:21:16.986Z"
   },
   {
    "duration": 88,
    "start_time": "2024-06-03T18:21:17.042Z"
   },
   {
    "duration": 5,
    "start_time": "2024-06-03T18:21:17.132Z"
   },
   {
    "duration": 75,
    "start_time": "2024-06-03T18:21:17.138Z"
   },
   {
    "duration": 251,
    "start_time": "2024-06-03T18:21:17.214Z"
   },
   {
    "duration": 13,
    "start_time": "2024-06-03T18:21:17.467Z"
   },
   {
    "duration": 177,
    "start_time": "2024-06-03T18:21:17.481Z"
   },
   {
    "duration": 9617,
    "start_time": "2024-06-03T18:21:17.664Z"
   },
   {
    "duration": 8,
    "start_time": "2024-06-03T18:21:27.283Z"
   },
   {
    "duration": 120,
    "start_time": "2024-06-03T18:21:27.292Z"
   },
   {
    "duration": 13,
    "start_time": "2024-06-03T18:21:27.465Z"
   },
   {
    "duration": 102,
    "start_time": "2024-06-03T18:21:27.479Z"
   },
   {
    "duration": 106,
    "start_time": "2024-06-03T18:21:27.583Z"
   },
   {
    "duration": 43,
    "start_time": "2024-06-03T18:21:27.690Z"
   },
   {
    "duration": 128,
    "start_time": "2024-06-03T18:24:55.126Z"
   },
   {
    "duration": 167,
    "start_time": "2024-06-03T18:37:54.179Z"
   },
   {
    "duration": 27,
    "start_time": "2024-06-03T18:38:00.593Z"
   },
   {
    "duration": 56,
    "start_time": "2024-06-03T18:38:09.519Z"
   },
   {
    "duration": 61,
    "start_time": "2024-06-03T18:38:36.701Z"
   },
   {
    "duration": 22,
    "start_time": "2024-06-03T18:40:11.986Z"
   },
   {
    "duration": 54,
    "start_time": "2024-06-03T18:40:26.891Z"
   },
   {
    "duration": 10,
    "start_time": "2024-06-03T18:40:38.456Z"
   },
   {
    "duration": 25,
    "start_time": "2024-06-03T18:40:43.357Z"
   },
   {
    "duration": 17,
    "start_time": "2024-06-03T18:40:58.023Z"
   },
   {
    "duration": 247,
    "start_time": "2024-06-03T18:41:03.446Z"
   },
   {
    "duration": 50,
    "start_time": "2024-06-03T18:45:02.043Z"
   },
   {
    "duration": 143,
    "start_time": "2024-06-03T18:56:00.454Z"
   },
   {
    "duration": 52,
    "start_time": "2024-06-03T18:57:30.444Z"
   },
   {
    "duration": 120,
    "start_time": "2024-06-03T18:57:55.562Z"
   },
   {
    "duration": 128,
    "start_time": "2024-06-03T18:58:43.643Z"
   },
   {
    "duration": 124,
    "start_time": "2024-06-03T18:59:19.987Z"
   },
   {
    "duration": 9,
    "start_time": "2024-06-03T18:59:57.225Z"
   },
   {
    "duration": 27,
    "start_time": "2024-06-03T19:02:30.094Z"
   },
   {
    "duration": 71,
    "start_time": "2024-06-03T19:02:52.280Z"
   },
   {
    "duration": 51,
    "start_time": "2024-06-03T19:03:19.042Z"
   },
   {
    "duration": 79,
    "start_time": "2024-06-03T19:03:25.512Z"
   },
   {
    "duration": 56,
    "start_time": "2024-06-03T19:03:59.777Z"
   },
   {
    "duration": 126,
    "start_time": "2024-06-03T19:04:52.599Z"
   },
   {
    "duration": 119,
    "start_time": "2024-06-03T19:05:00.980Z"
   },
   {
    "duration": 118,
    "start_time": "2024-06-03T19:05:16.751Z"
   },
   {
    "duration": 1466,
    "start_time": "2024-06-03T19:05:49.524Z"
   },
   {
    "duration": 72,
    "start_time": "2024-06-03T19:05:50.992Z"
   },
   {
    "duration": 31,
    "start_time": "2024-06-03T19:05:51.069Z"
   },
   {
    "duration": 15,
    "start_time": "2024-06-03T19:05:51.102Z"
   },
   {
    "duration": 4,
    "start_time": "2024-06-03T19:05:51.119Z"
   },
   {
    "duration": 14,
    "start_time": "2024-06-03T19:05:51.125Z"
   },
   {
    "duration": 8,
    "start_time": "2024-06-03T19:05:51.141Z"
   },
   {
    "duration": 8,
    "start_time": "2024-06-03T19:05:51.165Z"
   },
   {
    "duration": 81,
    "start_time": "2024-06-03T19:05:51.175Z"
   },
   {
    "duration": 20,
    "start_time": "2024-06-03T19:05:51.257Z"
   },
   {
    "duration": 9,
    "start_time": "2024-06-03T19:05:51.279Z"
   },
   {
    "duration": 200,
    "start_time": "2024-06-03T19:05:51.289Z"
   },
   {
    "duration": 447,
    "start_time": "2024-06-03T19:05:51.491Z"
   },
   {
    "duration": 217,
    "start_time": "2024-06-03T19:05:51.940Z"
   },
   {
    "duration": 19,
    "start_time": "2024-06-03T19:05:52.164Z"
   },
   {
    "duration": 40,
    "start_time": "2024-06-03T19:05:52.184Z"
   },
   {
    "duration": 48,
    "start_time": "2024-06-03T19:05:52.226Z"
   },
   {
    "duration": 52,
    "start_time": "2024-06-03T19:05:52.275Z"
   },
   {
    "duration": 80,
    "start_time": "2024-06-03T19:05:52.328Z"
   },
   {
    "duration": 6,
    "start_time": "2024-06-03T19:05:52.410Z"
   },
   {
    "duration": 79,
    "start_time": "2024-06-03T19:05:52.417Z"
   },
   {
    "duration": 214,
    "start_time": "2024-06-03T19:05:52.498Z"
   },
   {
    "duration": 11,
    "start_time": "2024-06-03T19:05:52.713Z"
   },
   {
    "duration": 112,
    "start_time": "2024-06-03T19:05:52.725Z"
   },
   {
    "duration": 9525,
    "start_time": "2024-06-03T19:05:52.838Z"
   },
   {
    "duration": 9,
    "start_time": "2024-06-03T19:06:02.364Z"
   },
   {
    "duration": 203,
    "start_time": "2024-06-03T19:06:02.375Z"
   },
   {
    "duration": 16,
    "start_time": "2024-06-03T19:06:02.580Z"
   },
   {
    "duration": 111,
    "start_time": "2024-06-03T19:06:02.598Z"
   },
   {
    "duration": 66,
    "start_time": "2024-06-03T19:06:02.710Z"
   },
   {
    "duration": 119,
    "start_time": "2024-06-03T19:06:02.778Z"
   },
   {
    "duration": 376,
    "start_time": "2024-06-03T19:06:02.898Z"
   },
   {
    "duration": 51,
    "start_time": "2024-06-03T19:06:03.276Z"
   },
   {
    "duration": 5,
    "start_time": "2024-06-03T19:09:42.421Z"
   },
   {
    "duration": 7,
    "start_time": "2024-06-03T19:09:48.021Z"
   },
   {
    "duration": 6,
    "start_time": "2024-06-03T19:10:38.936Z"
   },
   {
    "duration": 21,
    "start_time": "2024-06-03T19:10:55.262Z"
   },
   {
    "duration": 33,
    "start_time": "2024-06-03T19:11:14.492Z"
   },
   {
    "duration": 9,
    "start_time": "2024-06-03T19:11:19.257Z"
   },
   {
    "duration": 166,
    "start_time": "2024-06-03T19:14:00.376Z"
   },
   {
    "duration": 30,
    "start_time": "2024-06-03T19:14:17.799Z"
   },
   {
    "duration": 28,
    "start_time": "2024-06-03T19:14:42.542Z"
   },
   {
    "duration": 1541,
    "start_time": "2024-06-04T07:45:08.847Z"
   },
   {
    "duration": 225,
    "start_time": "2024-06-04T07:45:10.389Z"
   },
   {
    "duration": 24,
    "start_time": "2024-06-04T07:45:10.616Z"
   },
   {
    "duration": 13,
    "start_time": "2024-06-04T07:45:10.641Z"
   },
   {
    "duration": 4,
    "start_time": "2024-06-04T07:45:10.655Z"
   },
   {
    "duration": 4,
    "start_time": "2024-06-04T07:45:10.660Z"
   },
   {
    "duration": 3,
    "start_time": "2024-06-04T07:45:10.665Z"
   },
   {
    "duration": 7,
    "start_time": "2024-06-04T07:45:10.685Z"
   },
   {
    "duration": 26,
    "start_time": "2024-06-04T07:45:10.693Z"
   },
   {
    "duration": 17,
    "start_time": "2024-06-04T07:45:10.721Z"
   },
   {
    "duration": 4,
    "start_time": "2024-06-04T07:45:10.739Z"
   },
   {
    "duration": 195,
    "start_time": "2024-06-04T07:45:10.745Z"
   },
   {
    "duration": 358,
    "start_time": "2024-06-04T07:45:10.941Z"
   },
   {
    "duration": 201,
    "start_time": "2024-06-04T07:45:11.300Z"
   },
   {
    "duration": 16,
    "start_time": "2024-06-04T07:45:11.503Z"
   },
   {
    "duration": 16,
    "start_time": "2024-06-04T07:45:11.521Z"
   },
   {
    "duration": 69,
    "start_time": "2024-06-04T07:45:11.539Z"
   },
   {
    "duration": 51,
    "start_time": "2024-06-04T07:45:11.609Z"
   },
   {
    "duration": 67,
    "start_time": "2024-06-04T07:45:11.661Z"
   },
   {
    "duration": 3,
    "start_time": "2024-06-04T07:45:11.730Z"
   },
   {
    "duration": 72,
    "start_time": "2024-06-04T07:45:11.734Z"
   },
   {
    "duration": 190,
    "start_time": "2024-06-04T07:45:11.808Z"
   },
   {
    "duration": 10,
    "start_time": "2024-06-04T07:45:11.999Z"
   },
   {
    "duration": 208,
    "start_time": "2024-06-04T07:45:12.010Z"
   },
   {
    "duration": 8138,
    "start_time": "2024-06-04T07:45:12.219Z"
   },
   {
    "duration": 7,
    "start_time": "2024-06-04T07:45:20.358Z"
   },
   {
    "duration": 132,
    "start_time": "2024-06-04T07:45:20.366Z"
   },
   {
    "duration": 10,
    "start_time": "2024-06-04T07:45:20.501Z"
   },
   {
    "duration": 96,
    "start_time": "2024-06-04T07:45:20.512Z"
   },
   {
    "duration": 104,
    "start_time": "2024-06-04T07:45:20.609Z"
   },
   {
    "duration": 105,
    "start_time": "2024-06-04T07:45:20.714Z"
   },
   {
    "duration": 230,
    "start_time": "2024-06-04T07:45:20.821Z"
   },
   {
    "duration": 61,
    "start_time": "2024-06-04T07:45:21.052Z"
   },
   {
    "duration": 7,
    "start_time": "2024-06-04T07:45:21.114Z"
   },
   {
    "duration": 39,
    "start_time": "2024-06-04T07:45:21.122Z"
   },
   {
    "duration": 113,
    "start_time": "2024-06-04T07:51:29.196Z"
   },
   {
    "duration": 112,
    "start_time": "2024-06-04T07:52:15.339Z"
   },
   {
    "duration": 105,
    "start_time": "2024-06-04T07:52:42.254Z"
   },
   {
    "duration": 137,
    "start_time": "2024-06-04T07:57:55.448Z"
   },
   {
    "duration": 106,
    "start_time": "2024-06-04T07:58:09.426Z"
   },
   {
    "duration": 8,
    "start_time": "2024-06-04T07:58:09.658Z"
   },
   {
    "duration": 46,
    "start_time": "2024-06-04T08:02:37.908Z"
   },
   {
    "duration": 10,
    "start_time": "2024-06-04T08:02:49.232Z"
   },
   {
    "duration": 15,
    "start_time": "2024-06-04T08:07:00.538Z"
   },
   {
    "duration": 188,
    "start_time": "2024-06-04T08:07:09.332Z"
   },
   {
    "duration": 50,
    "start_time": "2024-06-04T08:08:29.511Z"
   },
   {
    "duration": 48,
    "start_time": "2024-06-04T08:08:42.055Z"
   },
   {
    "duration": 45,
    "start_time": "2024-06-04T08:09:13.126Z"
   },
   {
    "duration": 45,
    "start_time": "2024-06-04T08:09:24.902Z"
   },
   {
    "duration": 47,
    "start_time": "2024-06-04T08:09:38.133Z"
   },
   {
    "duration": 22,
    "start_time": "2024-06-04T08:10:13.861Z"
   },
   {
    "duration": 26,
    "start_time": "2024-06-04T08:10:22.889Z"
   },
   {
    "duration": 44,
    "start_time": "2024-06-04T08:10:33.046Z"
   },
   {
    "duration": 52,
    "start_time": "2024-06-04T08:11:49.281Z"
   },
   {
    "duration": 61,
    "start_time": "2024-06-04T08:11:58.585Z"
   },
   {
    "duration": 54,
    "start_time": "2024-06-04T08:19:16.889Z"
   },
   {
    "duration": 1864,
    "start_time": "2024-06-04T14:40:46.440Z"
   },
   {
    "duration": 129,
    "start_time": "2024-06-04T14:40:48.306Z"
   },
   {
    "duration": 35,
    "start_time": "2024-06-04T14:40:48.437Z"
   },
   {
    "duration": 16,
    "start_time": "2024-06-04T14:40:48.474Z"
   },
   {
    "duration": 4,
    "start_time": "2024-06-04T14:40:48.492Z"
   },
   {
    "duration": 14,
    "start_time": "2024-06-04T14:40:48.497Z"
   },
   {
    "duration": 8,
    "start_time": "2024-06-04T14:40:48.513Z"
   },
   {
    "duration": 26,
    "start_time": "2024-06-04T14:40:48.522Z"
   },
   {
    "duration": 43,
    "start_time": "2024-06-04T14:40:48.549Z"
   },
   {
    "duration": 24,
    "start_time": "2024-06-04T14:40:48.594Z"
   },
   {
    "duration": 8,
    "start_time": "2024-06-04T14:40:48.619Z"
   },
   {
    "duration": 218,
    "start_time": "2024-06-04T14:40:48.629Z"
   },
   {
    "duration": 455,
    "start_time": "2024-06-04T14:40:48.848Z"
   },
   {
    "duration": 251,
    "start_time": "2024-06-04T14:40:49.304Z"
   },
   {
    "duration": 23,
    "start_time": "2024-06-04T14:40:49.556Z"
   },
   {
    "duration": 22,
    "start_time": "2024-06-04T14:40:49.581Z"
   },
   {
    "duration": 90,
    "start_time": "2024-06-04T14:40:49.606Z"
   },
   {
    "duration": 75,
    "start_time": "2024-06-04T14:40:49.698Z"
   },
   {
    "duration": 70,
    "start_time": "2024-06-04T14:40:49.775Z"
   },
   {
    "duration": 17,
    "start_time": "2024-06-04T14:40:49.847Z"
   },
   {
    "duration": 96,
    "start_time": "2024-06-04T14:40:49.866Z"
   },
   {
    "duration": 227,
    "start_time": "2024-06-04T14:40:49.964Z"
   },
   {
    "duration": 12,
    "start_time": "2024-06-04T14:40:50.193Z"
   },
   {
    "duration": 192,
    "start_time": "2024-06-04T14:40:50.207Z"
   },
   {
    "duration": 10261,
    "start_time": "2024-06-04T14:40:50.401Z"
   },
   {
    "duration": 10,
    "start_time": "2024-06-04T14:41:00.664Z"
   },
   {
    "duration": 323,
    "start_time": "2024-06-04T14:41:00.676Z"
   },
   {
    "duration": 67,
    "start_time": "2024-06-04T14:41:01.003Z"
   },
   {
    "duration": 125,
    "start_time": "2024-06-04T14:41:01.072Z"
   },
   {
    "duration": 80,
    "start_time": "2024-06-04T14:41:01.199Z"
   },
   {
    "duration": 263,
    "start_time": "2024-06-04T14:41:01.281Z"
   },
   {
    "duration": 322,
    "start_time": "2024-06-04T14:41:01.546Z"
   },
   {
    "duration": 60,
    "start_time": "2024-06-04T14:41:01.870Z"
   },
   {
    "duration": 35,
    "start_time": "2024-06-04T14:41:01.932Z"
   },
   {
    "duration": 127,
    "start_time": "2024-06-04T14:41:01.969Z"
   },
   {
    "duration": 71,
    "start_time": "2024-06-04T14:41:02.098Z"
   },
   {
    "duration": 8,
    "start_time": "2024-06-04T14:41:02.171Z"
   },
   {
    "duration": 1595,
    "start_time": "2024-06-04T14:43:47.682Z"
   },
   {
    "duration": 70,
    "start_time": "2024-06-04T14:43:49.279Z"
   },
   {
    "duration": 32,
    "start_time": "2024-06-04T14:43:49.350Z"
   },
   {
    "duration": 15,
    "start_time": "2024-06-04T14:43:49.384Z"
   },
   {
    "duration": 5,
    "start_time": "2024-06-04T14:43:49.401Z"
   },
   {
    "duration": 23,
    "start_time": "2024-06-04T14:43:49.407Z"
   },
   {
    "duration": 16,
    "start_time": "2024-06-04T14:43:49.432Z"
   },
   {
    "duration": 25,
    "start_time": "2024-06-04T14:43:49.450Z"
   },
   {
    "duration": 80,
    "start_time": "2024-06-04T14:43:49.477Z"
   },
   {
    "duration": 37,
    "start_time": "2024-06-04T14:43:49.559Z"
   },
   {
    "duration": 10,
    "start_time": "2024-06-04T14:43:49.598Z"
   },
   {
    "duration": 351,
    "start_time": "2024-06-04T14:43:49.610Z"
   },
   {
    "duration": 482,
    "start_time": "2024-06-04T14:43:49.963Z"
   },
   {
    "duration": 225,
    "start_time": "2024-06-04T14:43:50.446Z"
   },
   {
    "duration": 20,
    "start_time": "2024-06-04T14:43:50.673Z"
   },
   {
    "duration": 124,
    "start_time": "2024-06-04T14:43:50.695Z"
   },
   {
    "duration": 64,
    "start_time": "2024-06-04T14:43:50.821Z"
   },
   {
    "duration": 56,
    "start_time": "2024-06-04T14:43:50.887Z"
   },
   {
    "duration": 76,
    "start_time": "2024-06-04T14:43:50.944Z"
   },
   {
    "duration": 6,
    "start_time": "2024-06-04T14:43:51.021Z"
   },
   {
    "duration": 119,
    "start_time": "2024-06-04T14:43:51.028Z"
   },
   {
    "duration": 223,
    "start_time": "2024-06-04T14:43:51.149Z"
   },
   {
    "duration": 14,
    "start_time": "2024-06-04T14:43:51.374Z"
   },
   {
    "duration": 141,
    "start_time": "2024-06-04T14:43:51.390Z"
   },
   {
    "duration": 10014,
    "start_time": "2024-06-04T14:43:51.533Z"
   },
   {
    "duration": 18,
    "start_time": "2024-06-04T14:44:01.550Z"
   },
   {
    "duration": 254,
    "start_time": "2024-06-04T14:44:01.569Z"
   },
   {
    "duration": 40,
    "start_time": "2024-06-04T14:44:01.826Z"
   },
   {
    "duration": 123,
    "start_time": "2024-06-04T14:44:01.868Z"
   },
   {
    "duration": 71,
    "start_time": "2024-06-04T14:44:01.994Z"
   },
   {
    "duration": 167,
    "start_time": "2024-06-04T14:44:02.067Z"
   },
   {
    "duration": 314,
    "start_time": "2024-06-04T14:44:02.236Z"
   },
   {
    "duration": 63,
    "start_time": "2024-06-04T14:44:02.552Z"
   },
   {
    "duration": 9,
    "start_time": "2024-06-04T14:44:02.617Z"
   },
   {
    "duration": 157,
    "start_time": "2024-06-04T14:44:02.628Z"
   },
   {
    "duration": 87,
    "start_time": "2024-06-04T14:44:02.787Z"
   },
   {
    "duration": 9,
    "start_time": "2024-06-04T14:44:02.877Z"
   },
   {
    "duration": 8,
    "start_time": "2024-06-04T14:45:05.304Z"
   },
   {
    "duration": 7,
    "start_time": "2024-06-04T14:45:32.422Z"
   },
   {
    "duration": 62,
    "start_time": "2024-06-04T14:46:12.180Z"
   },
   {
    "duration": 56,
    "start_time": "2024-06-04T14:46:47.975Z"
   },
   {
    "duration": 53,
    "start_time": "2024-06-04T14:47:03.064Z"
   },
   {
    "duration": 49,
    "start_time": "2024-06-04T14:47:10.654Z"
   },
   {
    "duration": 257,
    "start_time": "2024-06-04T14:47:30.198Z"
   },
   {
    "duration": 8,
    "start_time": "2024-06-04T14:48:18.660Z"
   },
   {
    "duration": 59,
    "start_time": "2024-06-04T14:48:46.997Z"
   },
   {
    "duration": 10,
    "start_time": "2024-06-04T14:48:49.744Z"
   },
   {
    "duration": 21,
    "start_time": "2024-06-04T14:51:50.228Z"
   },
   {
    "duration": 6,
    "start_time": "2024-06-04T14:52:12.612Z"
   },
   {
    "duration": 172,
    "start_time": "2024-06-04T14:52:42.128Z"
   },
   {
    "duration": 29,
    "start_time": "2024-06-04T14:53:00.660Z"
   },
   {
    "duration": 6,
    "start_time": "2024-06-04T14:53:14.189Z"
   },
   {
    "duration": 21,
    "start_time": "2024-06-04T14:53:19.621Z"
   },
   {
    "duration": 2543,
    "start_time": "2024-06-04T14:53:38.649Z"
   },
   {
    "duration": 76,
    "start_time": "2024-06-04T14:53:41.194Z"
   },
   {
    "duration": 34,
    "start_time": "2024-06-04T14:53:41.272Z"
   },
   {
    "duration": 17,
    "start_time": "2024-06-04T14:53:41.308Z"
   },
   {
    "duration": 5,
    "start_time": "2024-06-04T14:53:41.327Z"
   },
   {
    "duration": 5,
    "start_time": "2024-06-04T14:53:41.361Z"
   },
   {
    "duration": 6,
    "start_time": "2024-06-04T14:53:41.367Z"
   },
   {
    "duration": 14,
    "start_time": "2024-06-04T14:53:41.375Z"
   },
   {
    "duration": 35,
    "start_time": "2024-06-04T14:53:41.391Z"
   },
   {
    "duration": 51,
    "start_time": "2024-06-04T14:53:41.429Z"
   },
   {
    "duration": 6,
    "start_time": "2024-06-04T14:53:41.482Z"
   },
   {
    "duration": 237,
    "start_time": "2024-06-04T14:53:41.490Z"
   },
   {
    "duration": 475,
    "start_time": "2024-06-04T14:53:41.729Z"
   },
   {
    "duration": 245,
    "start_time": "2024-06-04T14:53:42.206Z"
   },
   {
    "duration": 20,
    "start_time": "2024-06-04T14:53:42.460Z"
   },
   {
    "duration": 22,
    "start_time": "2024-06-04T14:53:42.482Z"
   },
   {
    "duration": 73,
    "start_time": "2024-06-04T14:53:42.506Z"
   },
   {
    "duration": 56,
    "start_time": "2024-06-04T14:53:42.581Z"
   },
   {
    "duration": 79,
    "start_time": "2024-06-04T14:53:42.639Z"
   },
   {
    "duration": 5,
    "start_time": "2024-06-04T14:53:42.719Z"
   },
   {
    "duration": 146,
    "start_time": "2024-06-04T14:53:42.726Z"
   },
   {
    "duration": 233,
    "start_time": "2024-06-04T14:53:42.874Z"
   },
   {
    "duration": 12,
    "start_time": "2024-06-04T14:53:43.109Z"
   },
   {
    "duration": 135,
    "start_time": "2024-06-04T14:53:43.122Z"
   },
   {
    "duration": 10786,
    "start_time": "2024-06-04T14:53:43.261Z"
   },
   {
    "duration": 23,
    "start_time": "2024-06-04T14:53:54.049Z"
   },
   {
    "duration": 291,
    "start_time": "2024-06-04T14:53:54.074Z"
   },
   {
    "duration": 19,
    "start_time": "2024-06-04T14:53:54.370Z"
   },
   {
    "duration": 110,
    "start_time": "2024-06-04T14:53:54.391Z"
   },
   {
    "duration": 89,
    "start_time": "2024-06-04T14:53:54.503Z"
   },
   {
    "duration": 128,
    "start_time": "2024-06-04T14:53:54.593Z"
   },
   {
    "duration": 296,
    "start_time": "2024-06-04T14:53:54.722Z"
   },
   {
    "duration": 68,
    "start_time": "2024-06-04T14:53:55.020Z"
   },
   {
    "duration": 8,
    "start_time": "2024-06-04T14:53:55.090Z"
   },
   {
    "duration": 123,
    "start_time": "2024-06-04T14:53:55.099Z"
   },
   {
    "duration": 37,
    "start_time": "2024-06-04T14:53:55.224Z"
   },
   {
    "duration": 6,
    "start_time": "2024-06-04T14:53:55.262Z"
   },
   {
    "duration": 179,
    "start_time": "2024-06-04T14:58:43.771Z"
   },
   {
    "duration": 48,
    "start_time": "2024-06-04T15:03:29.433Z"
   },
   {
    "duration": 11,
    "start_time": "2024-06-04T15:05:03.494Z"
   },
   {
    "duration": 5,
    "start_time": "2024-06-04T15:05:06.877Z"
   },
   {
    "duration": 80,
    "start_time": "2024-06-04T15:05:07.085Z"
   },
   {
    "duration": 10,
    "start_time": "2024-06-04T15:05:07.555Z"
   },
   {
    "duration": 5,
    "start_time": "2024-06-04T15:05:16.633Z"
   },
   {
    "duration": 7,
    "start_time": "2024-06-04T15:05:46.902Z"
   },
   {
    "duration": 17,
    "start_time": "2024-06-04T15:05:47.004Z"
   },
   {
    "duration": 22,
    "start_time": "2024-06-04T15:07:32.342Z"
   },
   {
    "duration": 16,
    "start_time": "2024-06-04T15:09:39.119Z"
   },
   {
    "duration": 18,
    "start_time": "2024-06-04T15:09:45.173Z"
   },
   {
    "duration": 1510,
    "start_time": "2024-06-04T15:20:43.911Z"
   },
   {
    "duration": 71,
    "start_time": "2024-06-04T15:20:45.423Z"
   },
   {
    "duration": 31,
    "start_time": "2024-06-04T15:20:45.496Z"
   },
   {
    "duration": 15,
    "start_time": "2024-06-04T15:20:45.529Z"
   },
   {
    "duration": 8,
    "start_time": "2024-06-04T15:20:45.560Z"
   },
   {
    "duration": 49,
    "start_time": "2024-06-04T15:20:45.570Z"
   },
   {
    "duration": 19,
    "start_time": "2024-06-04T15:20:45.621Z"
   },
   {
    "duration": 40,
    "start_time": "2024-06-04T15:20:45.642Z"
   },
   {
    "duration": 39,
    "start_time": "2024-06-04T15:20:45.684Z"
   },
   {
    "duration": 33,
    "start_time": "2024-06-04T15:20:45.726Z"
   },
   {
    "duration": 6,
    "start_time": "2024-06-04T15:20:45.761Z"
   },
   {
    "duration": 225,
    "start_time": "2024-06-04T15:20:45.769Z"
   },
   {
    "duration": 440,
    "start_time": "2024-06-04T15:20:45.996Z"
   },
   {
    "duration": 229,
    "start_time": "2024-06-04T15:20:46.438Z"
   },
   {
    "duration": 20,
    "start_time": "2024-06-04T15:20:46.668Z"
   },
   {
    "duration": 28,
    "start_time": "2024-06-04T15:20:46.689Z"
   },
   {
    "duration": 74,
    "start_time": "2024-06-04T15:20:46.718Z"
   },
   {
    "duration": 70,
    "start_time": "2024-06-04T15:20:46.793Z"
   },
   {
    "duration": 70,
    "start_time": "2024-06-04T15:20:46.865Z"
   },
   {
    "duration": 5,
    "start_time": "2024-06-04T15:20:46.937Z"
   },
   {
    "duration": 97,
    "start_time": "2024-06-04T15:20:46.943Z"
   },
   {
    "duration": 258,
    "start_time": "2024-06-04T15:20:47.042Z"
   },
   {
    "duration": 13,
    "start_time": "2024-06-04T15:20:47.302Z"
   },
   {
    "duration": 232,
    "start_time": "2024-06-04T15:20:47.317Z"
   },
   {
    "duration": 10024,
    "start_time": "2024-06-04T15:20:47.551Z"
   },
   {
    "duration": 9,
    "start_time": "2024-06-04T15:20:57.578Z"
   },
   {
    "duration": 198,
    "start_time": "2024-06-04T15:20:57.589Z"
   },
   {
    "duration": 14,
    "start_time": "2024-06-04T15:20:57.790Z"
   },
   {
    "duration": 118,
    "start_time": "2024-06-04T15:20:57.862Z"
   },
   {
    "duration": 88,
    "start_time": "2024-06-04T15:20:57.982Z"
   },
   {
    "duration": 136,
    "start_time": "2024-06-04T15:20:58.072Z"
   },
   {
    "duration": 311,
    "start_time": "2024-06-04T15:20:58.210Z"
   },
   {
    "duration": 68,
    "start_time": "2024-06-04T15:20:58.522Z"
   },
   {
    "duration": 9,
    "start_time": "2024-06-04T15:20:58.592Z"
   },
   {
    "duration": 125,
    "start_time": "2024-06-04T15:20:58.602Z"
   },
   {
    "duration": 35,
    "start_time": "2024-06-04T15:20:58.728Z"
   },
   {
    "duration": 14,
    "start_time": "2024-06-04T15:20:58.765Z"
   },
   {
    "duration": 1931,
    "start_time": "2024-06-04T18:47:00.346Z"
   },
   {
    "duration": 128,
    "start_time": "2024-06-04T18:47:02.280Z"
   },
   {
    "duration": 30,
    "start_time": "2024-06-04T18:47:02.410Z"
   },
   {
    "duration": 57,
    "start_time": "2024-06-04T18:47:02.442Z"
   },
   {
    "duration": 42,
    "start_time": "2024-06-04T18:47:02.500Z"
   },
   {
    "duration": 11,
    "start_time": "2024-06-04T18:47:02.544Z"
   },
   {
    "duration": 11,
    "start_time": "2024-06-04T18:47:02.557Z"
   },
   {
    "duration": 23,
    "start_time": "2024-06-04T18:47:02.569Z"
   },
   {
    "duration": 42,
    "start_time": "2024-06-04T18:47:02.594Z"
   },
   {
    "duration": 25,
    "start_time": "2024-06-04T18:47:02.639Z"
   },
   {
    "duration": 18,
    "start_time": "2024-06-04T18:47:02.665Z"
   },
   {
    "duration": 155,
    "start_time": "2024-06-04T18:47:02.685Z"
   },
   {
    "duration": 456,
    "start_time": "2024-06-04T18:47:02.841Z"
   },
   {
    "duration": 251,
    "start_time": "2024-06-04T18:47:03.300Z"
   },
   {
    "duration": 30,
    "start_time": "2024-06-04T18:47:03.553Z"
   },
   {
    "duration": 22,
    "start_time": "2024-06-04T18:47:03.585Z"
   },
   {
    "duration": 76,
    "start_time": "2024-06-04T18:47:03.609Z"
   },
   {
    "duration": 67,
    "start_time": "2024-06-04T18:47:03.686Z"
   },
   {
    "duration": 86,
    "start_time": "2024-06-04T18:47:03.755Z"
   },
   {
    "duration": 5,
    "start_time": "2024-06-04T18:47:03.842Z"
   },
   {
    "duration": 95,
    "start_time": "2024-06-04T18:47:03.848Z"
   },
   {
    "duration": 230,
    "start_time": "2024-06-04T18:47:03.944Z"
   },
   {
    "duration": 15,
    "start_time": "2024-06-04T18:47:04.176Z"
   },
   {
    "duration": 171,
    "start_time": "2024-06-04T18:47:04.192Z"
   },
   {
    "duration": 10255,
    "start_time": "2024-06-04T18:47:04.364Z"
   },
   {
    "duration": 9,
    "start_time": "2024-06-04T18:47:14.620Z"
   },
   {
    "duration": 170,
    "start_time": "2024-06-04T18:47:14.631Z"
   },
   {
    "duration": 18,
    "start_time": "2024-06-04T18:47:14.805Z"
   },
   {
    "duration": 120,
    "start_time": "2024-06-04T18:47:14.881Z"
   },
   {
    "duration": 55,
    "start_time": "2024-06-04T18:47:15.002Z"
   },
   {
    "duration": 223,
    "start_time": "2024-06-04T18:47:15.059Z"
   },
   {
    "duration": 340,
    "start_time": "2024-06-04T18:47:15.283Z"
   },
   {
    "duration": 77,
    "start_time": "2024-06-04T18:47:15.624Z"
   },
   {
    "duration": 9,
    "start_time": "2024-06-04T18:47:15.703Z"
   },
   {
    "duration": 137,
    "start_time": "2024-06-04T18:47:15.714Z"
   },
   {
    "duration": 34,
    "start_time": "2024-06-04T18:47:15.852Z"
   },
   {
    "duration": 16,
    "start_time": "2024-06-04T18:47:15.887Z"
   },
   {
    "duration": 13,
    "start_time": "2024-06-04T18:50:25.863Z"
   },
   {
    "duration": 8,
    "start_time": "2024-06-04T18:50:42.274Z"
   },
   {
    "duration": 9,
    "start_time": "2024-06-04T18:50:55.485Z"
   },
   {
    "duration": 81,
    "start_time": "2024-06-04T19:17:30.511Z"
   },
   {
    "duration": 171,
    "start_time": "2024-06-04T19:17:47.522Z"
   },
   {
    "duration": 12,
    "start_time": "2024-06-04T19:18:06.880Z"
   },
   {
    "duration": 38,
    "start_time": "2024-06-04T19:18:23.749Z"
   },
   {
    "duration": 39,
    "start_time": "2024-06-04T19:18:47.239Z"
   },
   {
    "duration": 7,
    "start_time": "2024-06-04T19:19:09.110Z"
   },
   {
    "duration": 148,
    "start_time": "2024-06-04T19:23:24.446Z"
   },
   {
    "duration": 129,
    "start_time": "2024-06-04T19:24:14.410Z"
   },
   {
    "duration": 128,
    "start_time": "2024-06-04T19:27:10.373Z"
   },
   {
    "duration": 7,
    "start_time": "2024-06-04T19:28:17.179Z"
   },
   {
    "duration": 10,
    "start_time": "2024-06-04T19:28:50.889Z"
   },
   {
    "duration": 7,
    "start_time": "2024-06-04T19:29:52.604Z"
   },
   {
    "duration": 60,
    "start_time": "2024-06-04T19:34:24.652Z"
   },
   {
    "duration": 63,
    "start_time": "2024-06-04T19:34:28.800Z"
   },
   {
    "duration": 28,
    "start_time": "2024-06-04T19:34:39.748Z"
   },
   {
    "duration": 8,
    "start_time": "2024-06-04T19:35:04.736Z"
   },
   {
    "duration": 14,
    "start_time": "2024-06-04T19:37:33.148Z"
   },
   {
    "duration": 9,
    "start_time": "2024-06-04T19:37:40.450Z"
   },
   {
    "duration": 8,
    "start_time": "2024-06-04T19:41:09.592Z"
   },
   {
    "duration": 7,
    "start_time": "2024-06-04T19:41:15.657Z"
   },
   {
    "duration": 27,
    "start_time": "2024-06-04T19:43:33.307Z"
   },
   {
    "duration": 31,
    "start_time": "2024-06-04T19:43:49.047Z"
   },
   {
    "duration": 24,
    "start_time": "2024-06-04T19:43:57.818Z"
   },
   {
    "duration": 134,
    "start_time": "2024-06-04T19:44:30.999Z"
   },
   {
    "duration": 8,
    "start_time": "2024-06-04T19:44:32.220Z"
   },
   {
    "duration": 26,
    "start_time": "2024-06-04T19:44:32.623Z"
   },
   {
    "duration": 17,
    "start_time": "2024-06-04T19:44:48.459Z"
   },
   {
    "duration": 284,
    "start_time": "2024-06-04T19:46:02.534Z"
   },
   {
    "duration": 267,
    "start_time": "2024-06-04T19:46:41.817Z"
   },
   {
    "duration": 77,
    "start_time": "2024-06-04T19:48:00.843Z"
   },
   {
    "duration": 55,
    "start_time": "2024-06-04T19:48:08.442Z"
   },
   {
    "duration": 68,
    "start_time": "2024-06-04T19:48:38.783Z"
   },
   {
    "duration": 51,
    "start_time": "2024-06-04T19:48:50.503Z"
   },
   {
    "duration": 61,
    "start_time": "2024-06-04T19:49:01.691Z"
   },
   {
    "duration": 7,
    "start_time": "2024-06-04T19:53:36.983Z"
   },
   {
    "duration": 131,
    "start_time": "2024-06-04T19:57:51.272Z"
   },
   {
    "duration": 132,
    "start_time": "2024-06-04T19:58:11.553Z"
   },
   {
    "duration": 54,
    "start_time": "2024-06-04T20:00:31.737Z"
   },
   {
    "duration": 59,
    "start_time": "2024-06-04T20:00:40.697Z"
   },
   {
    "duration": 19,
    "start_time": "2024-06-04T20:04:57.816Z"
   },
   {
    "duration": 156,
    "start_time": "2024-06-04T20:06:20.033Z"
   },
   {
    "duration": 1969,
    "start_time": "2024-06-04T20:09:27.309Z"
   },
   {
    "duration": 7,
    "start_time": "2024-06-04T20:11:00.964Z"
   },
   {
    "duration": 10,
    "start_time": "2024-06-04T20:15:25.542Z"
   },
   {
    "duration": 14,
    "start_time": "2024-06-04T20:20:46.321Z"
   },
   {
    "duration": 66,
    "start_time": "2024-06-04T20:21:08.453Z"
   },
   {
    "duration": 16,
    "start_time": "2024-06-04T20:21:26.383Z"
   },
   {
    "duration": 21,
    "start_time": "2024-06-04T20:21:38.639Z"
   },
   {
    "duration": 84,
    "start_time": "2024-06-04T20:43:49.883Z"
   },
   {
    "duration": 82,
    "start_time": "2024-06-04T20:44:00.319Z"
   },
   {
    "duration": 82,
    "start_time": "2024-06-04T20:44:14.928Z"
   },
   {
    "duration": 85,
    "start_time": "2024-06-04T20:44:29.693Z"
   },
   {
    "duration": 82,
    "start_time": "2024-06-04T20:44:39.026Z"
   },
   {
    "duration": 96,
    "start_time": "2024-06-04T20:44:47.792Z"
   },
   {
    "duration": 27,
    "start_time": "2024-06-04T20:45:29.687Z"
   },
   {
    "duration": 83,
    "start_time": "2024-06-04T20:45:32.757Z"
   },
   {
    "duration": 24,
    "start_time": "2024-06-04T20:45:40.865Z"
   },
   {
    "duration": 85,
    "start_time": "2024-06-04T20:45:46.616Z"
   },
   {
    "duration": 83,
    "start_time": "2024-06-04T20:46:00.328Z"
   },
   {
    "duration": 83,
    "start_time": "2024-06-04T20:46:10.407Z"
   },
   {
    "duration": 78,
    "start_time": "2024-06-04T20:46:37.164Z"
   },
   {
    "duration": 78,
    "start_time": "2024-06-04T20:46:46.224Z"
   },
   {
    "duration": 94,
    "start_time": "2024-06-04T20:47:01.814Z"
   },
   {
    "duration": 85,
    "start_time": "2024-06-04T20:47:27.763Z"
   },
   {
    "duration": 87,
    "start_time": "2024-06-04T20:47:43.917Z"
   },
   {
    "duration": 89,
    "start_time": "2024-06-04T20:47:49.192Z"
   },
   {
    "duration": 76,
    "start_time": "2024-06-04T20:50:38.905Z"
   },
   {
    "duration": 98,
    "start_time": "2024-06-04T20:50:49.333Z"
   },
   {
    "duration": 1689,
    "start_time": "2024-06-05T07:27:56.925Z"
   },
   {
    "duration": 117,
    "start_time": "2024-06-05T07:27:58.617Z"
   },
   {
    "duration": 27,
    "start_time": "2024-06-05T07:27:58.736Z"
   },
   {
    "duration": 14,
    "start_time": "2024-06-05T07:27:58.765Z"
   },
   {
    "duration": 16,
    "start_time": "2024-06-05T07:27:58.781Z"
   },
   {
    "duration": 8,
    "start_time": "2024-06-05T07:27:58.799Z"
   },
   {
    "duration": 11,
    "start_time": "2024-06-05T07:27:58.808Z"
   },
   {
    "duration": 11,
    "start_time": "2024-06-05T07:27:58.820Z"
   },
   {
    "duration": 45,
    "start_time": "2024-06-05T07:27:58.832Z"
   },
   {
    "duration": 21,
    "start_time": "2024-06-05T07:27:58.879Z"
   },
   {
    "duration": 5,
    "start_time": "2024-06-05T07:27:58.901Z"
   },
   {
    "duration": 206,
    "start_time": "2024-06-05T07:27:58.908Z"
   },
   {
    "duration": 361,
    "start_time": "2024-06-05T07:27:59.115Z"
   },
   {
    "duration": 232,
    "start_time": "2024-06-05T07:27:59.478Z"
   },
   {
    "duration": 35,
    "start_time": "2024-06-05T07:27:59.713Z"
   },
   {
    "duration": 51,
    "start_time": "2024-06-05T07:27:59.749Z"
   },
   {
    "duration": 52,
    "start_time": "2024-06-05T07:27:59.802Z"
   },
   {
    "duration": 52,
    "start_time": "2024-06-05T07:27:59.855Z"
   },
   {
    "duration": 85,
    "start_time": "2024-06-05T07:27:59.908Z"
   },
   {
    "duration": 5,
    "start_time": "2024-06-05T07:27:59.994Z"
   },
   {
    "duration": 182,
    "start_time": "2024-06-05T07:28:00.000Z"
   },
   {
    "duration": 218,
    "start_time": "2024-06-05T07:28:00.184Z"
   },
   {
    "duration": 8,
    "start_time": "2024-06-05T07:28:00.404Z"
   },
   {
    "duration": 214,
    "start_time": "2024-06-05T07:28:00.413Z"
   },
   {
    "duration": 9336,
    "start_time": "2024-06-05T07:28:00.628Z"
   },
   {
    "duration": 9,
    "start_time": "2024-06-05T07:28:09.966Z"
   },
   {
    "duration": 193,
    "start_time": "2024-06-05T07:28:09.977Z"
   },
   {
    "duration": 12,
    "start_time": "2024-06-05T07:28:10.174Z"
   },
   {
    "duration": 103,
    "start_time": "2024-06-05T07:28:10.188Z"
   },
   {
    "duration": 72,
    "start_time": "2024-06-05T07:28:10.292Z"
   },
   {
    "duration": 133,
    "start_time": "2024-06-05T07:28:10.365Z"
   },
   {
    "duration": 272,
    "start_time": "2024-06-05T07:28:10.500Z"
   },
   {
    "duration": 48,
    "start_time": "2024-06-05T07:28:10.774Z"
   },
   {
    "duration": 26,
    "start_time": "2024-06-05T07:28:10.824Z"
   },
   {
    "duration": 110,
    "start_time": "2024-06-05T07:28:10.851Z"
   },
   {
    "duration": 13,
    "start_time": "2024-06-05T07:28:10.963Z"
   },
   {
    "duration": 12,
    "start_time": "2024-06-05T07:28:10.978Z"
   },
   {
    "duration": 84,
    "start_time": "2024-06-05T07:28:10.991Z"
   },
   {
    "duration": 1563,
    "start_time": "2024-06-05T07:28:11.076Z"
   },
   {
    "duration": 13,
    "start_time": "2024-06-05T07:28:12.644Z"
   },
   {
    "duration": 138,
    "start_time": "2024-06-05T07:28:12.658Z"
   },
   {
    "duration": 7,
    "start_time": "2024-06-05T07:28:12.798Z"
   },
   {
    "duration": 67,
    "start_time": "2024-06-05T07:28:12.806Z"
   },
   {
    "duration": 170,
    "start_time": "2024-06-05T07:31:58.154Z"
   },
   {
    "duration": 48,
    "start_time": "2024-06-05T07:32:34.756Z"
   },
   {
    "duration": 50,
    "start_time": "2024-06-05T07:35:04.376Z"
   },
   {
    "duration": 59,
    "start_time": "2024-06-05T07:36:31.202Z"
   },
   {
    "duration": 69,
    "start_time": "2024-06-05T07:36:36.049Z"
   },
   {
    "duration": 71,
    "start_time": "2024-06-05T07:37:16.980Z"
   },
   {
    "duration": 50,
    "start_time": "2024-06-05T07:38:11.797Z"
   },
   {
    "duration": 67,
    "start_time": "2024-06-05T07:38:31.865Z"
   },
   {
    "duration": 64,
    "start_time": "2024-06-05T07:38:50.064Z"
   },
   {
    "duration": 73,
    "start_time": "2024-06-05T07:39:30.369Z"
   },
   {
    "duration": 141,
    "start_time": "2024-06-05T07:39:51.432Z"
   },
   {
    "duration": 77,
    "start_time": "2024-06-05T07:40:07.470Z"
   },
   {
    "duration": 55,
    "start_time": "2024-06-05T07:40:17.829Z"
   },
   {
    "duration": 105,
    "start_time": "2024-06-05T07:44:08.062Z"
   },
   {
    "duration": 54,
    "start_time": "2024-06-05T07:44:18.750Z"
   },
   {
    "duration": 74,
    "start_time": "2024-06-05T07:45:27.054Z"
   },
   {
    "duration": 73,
    "start_time": "2024-06-05T07:45:53.750Z"
   },
   {
    "duration": 40,
    "start_time": "2024-06-05T07:50:21.028Z"
   },
   {
    "duration": 17,
    "start_time": "2024-06-05T07:50:37.018Z"
   },
   {
    "duration": 63,
    "start_time": "2024-06-05T07:52:27.925Z"
   },
   {
    "duration": 68,
    "start_time": "2024-06-05T07:52:47.925Z"
   },
   {
    "duration": 7,
    "start_time": "2024-06-05T07:54:21.647Z"
   },
   {
    "duration": 62,
    "start_time": "2024-06-05T07:55:51.763Z"
   },
   {
    "duration": 72,
    "start_time": "2024-06-05T07:55:59.873Z"
   },
   {
    "duration": 70,
    "start_time": "2024-06-05T07:56:08.323Z"
   },
   {
    "duration": 51,
    "start_time": "2024-06-05T07:56:55.689Z"
   },
   {
    "duration": 53,
    "start_time": "2024-06-05T07:59:27.882Z"
   },
   {
    "duration": 1693,
    "start_time": "2024-06-05T12:34:17.908Z"
   },
   {
    "duration": 279,
    "start_time": "2024-06-05T12:34:19.603Z"
   },
   {
    "duration": 31,
    "start_time": "2024-06-05T12:34:19.884Z"
   },
   {
    "duration": 34,
    "start_time": "2024-06-05T12:34:19.917Z"
   },
   {
    "duration": 5,
    "start_time": "2024-06-05T12:34:19.953Z"
   },
   {
    "duration": 5,
    "start_time": "2024-06-05T12:34:19.960Z"
   },
   {
    "duration": 7,
    "start_time": "2024-06-05T12:34:19.966Z"
   },
   {
    "duration": 25,
    "start_time": "2024-06-05T12:34:19.974Z"
   },
   {
    "duration": 41,
    "start_time": "2024-06-05T12:34:20.001Z"
   },
   {
    "duration": 30,
    "start_time": "2024-06-05T12:34:20.045Z"
   },
   {
    "duration": 8,
    "start_time": "2024-06-05T12:34:20.076Z"
   },
   {
    "duration": 189,
    "start_time": "2024-06-05T12:34:20.086Z"
   },
   {
    "duration": 457,
    "start_time": "2024-06-05T12:34:20.276Z"
   },
   {
    "duration": 260,
    "start_time": "2024-06-05T12:34:20.734Z"
   },
   {
    "duration": 20,
    "start_time": "2024-06-05T12:34:20.996Z"
   },
   {
    "duration": 37,
    "start_time": "2024-06-05T12:34:21.018Z"
   },
   {
    "duration": 77,
    "start_time": "2024-06-05T12:34:21.057Z"
   },
   {
    "duration": 77,
    "start_time": "2024-06-05T12:34:21.136Z"
   },
   {
    "duration": 69,
    "start_time": "2024-06-05T12:34:21.215Z"
   },
   {
    "duration": 5,
    "start_time": "2024-06-05T12:34:21.285Z"
   },
   {
    "duration": 103,
    "start_time": "2024-06-05T12:34:21.291Z"
   },
   {
    "duration": 216,
    "start_time": "2024-06-05T12:34:21.396Z"
   },
   {
    "duration": 7,
    "start_time": "2024-06-05T12:34:21.613Z"
   },
   {
    "duration": 317,
    "start_time": "2024-06-05T12:34:21.622Z"
   },
   {
    "duration": 11037,
    "start_time": "2024-06-05T12:34:21.941Z"
   },
   {
    "duration": 10,
    "start_time": "2024-06-05T12:34:32.979Z"
   },
   {
    "duration": 173,
    "start_time": "2024-06-05T12:34:32.990Z"
   },
   {
    "duration": 13,
    "start_time": "2024-06-05T12:34:33.166Z"
   },
   {
    "duration": 184,
    "start_time": "2024-06-05T12:34:33.180Z"
   },
   {
    "duration": 122,
    "start_time": "2024-06-05T12:34:33.365Z"
   },
   {
    "duration": 296,
    "start_time": "2024-06-05T12:34:33.489Z"
   },
   {
    "duration": 139,
    "start_time": "2024-06-05T12:34:33.786Z"
   },
   {
    "duration": 102,
    "start_time": "2024-06-05T12:34:33.926Z"
   },
   {
    "duration": 26,
    "start_time": "2024-06-05T12:34:34.030Z"
   },
   {
    "duration": 126,
    "start_time": "2024-06-05T12:34:34.058Z"
   },
   {
    "duration": 16,
    "start_time": "2024-06-05T12:34:34.186Z"
   },
   {
    "duration": 14,
    "start_time": "2024-06-05T12:34:34.204Z"
   },
   {
    "duration": 7,
    "start_time": "2024-06-05T12:34:34.256Z"
   },
   {
    "duration": 1773,
    "start_time": "2024-06-05T12:34:34.265Z"
   },
   {
    "duration": 21,
    "start_time": "2024-06-05T12:34:36.041Z"
   },
   {
    "duration": 154,
    "start_time": "2024-06-05T12:34:36.063Z"
   },
   {
    "duration": 8,
    "start_time": "2024-06-05T12:34:36.218Z"
   },
   {
    "duration": 71,
    "start_time": "2024-06-05T12:34:36.228Z"
   },
   {
    "duration": 84,
    "start_time": "2024-06-05T12:35:25.307Z"
   },
   {
    "duration": 83,
    "start_time": "2024-06-05T12:37:40.539Z"
   },
   {
    "duration": 52,
    "start_time": "2024-06-05T12:39:24.791Z"
   },
   {
    "duration": 80,
    "start_time": "2024-06-05T12:39:36.430Z"
   },
   {
    "duration": 80,
    "start_time": "2024-06-05T12:40:07.243Z"
   },
   {
    "duration": 89,
    "start_time": "2024-06-05T12:40:54.197Z"
   },
   {
    "duration": 78,
    "start_time": "2024-06-05T12:41:33.244Z"
   },
   {
    "duration": 86,
    "start_time": "2024-06-05T12:42:38.826Z"
   },
   {
    "duration": 78,
    "start_time": "2024-06-05T12:44:27.381Z"
   },
   {
    "duration": 75,
    "start_time": "2024-06-05T12:44:41.616Z"
   },
   {
    "duration": 87,
    "start_time": "2024-06-05T12:47:26.045Z"
   },
   {
    "duration": 1680,
    "start_time": "2024-06-05T12:54:29.580Z"
   },
   {
    "duration": 71,
    "start_time": "2024-06-05T12:54:31.263Z"
   },
   {
    "duration": 33,
    "start_time": "2024-06-05T12:54:31.336Z"
   },
   {
    "duration": 18,
    "start_time": "2024-06-05T12:54:31.371Z"
   },
   {
    "duration": 30,
    "start_time": "2024-06-05T12:54:31.390Z"
   },
   {
    "duration": 33,
    "start_time": "2024-06-05T12:54:31.422Z"
   },
   {
    "duration": 23,
    "start_time": "2024-06-05T12:54:31.457Z"
   },
   {
    "duration": 33,
    "start_time": "2024-06-05T12:54:31.482Z"
   },
   {
    "duration": 54,
    "start_time": "2024-06-05T12:54:31.517Z"
   },
   {
    "duration": 32,
    "start_time": "2024-06-05T12:54:31.575Z"
   },
   {
    "duration": 15,
    "start_time": "2024-06-05T12:54:31.609Z"
   },
   {
    "duration": 174,
    "start_time": "2024-06-05T12:54:31.626Z"
   },
   {
    "duration": 434,
    "start_time": "2024-06-05T12:54:31.801Z"
   },
   {
    "duration": 268,
    "start_time": "2024-06-05T12:54:32.237Z"
   },
   {
    "duration": 19,
    "start_time": "2024-06-05T12:54:32.507Z"
   },
   {
    "duration": 39,
    "start_time": "2024-06-05T12:54:32.528Z"
   },
   {
    "duration": 106,
    "start_time": "2024-06-05T12:54:32.569Z"
   },
   {
    "duration": 88,
    "start_time": "2024-06-05T12:54:32.676Z"
   },
   {
    "duration": 62,
    "start_time": "2024-06-05T12:54:32.766Z"
   },
   {
    "duration": 4,
    "start_time": "2024-06-05T12:54:32.830Z"
   },
   {
    "duration": 118,
    "start_time": "2024-06-05T12:54:32.836Z"
   },
   {
    "duration": 232,
    "start_time": "2024-06-05T12:54:32.956Z"
   },
   {
    "duration": 7,
    "start_time": "2024-06-05T12:54:33.190Z"
   },
   {
    "duration": 127,
    "start_time": "2024-06-05T12:54:33.198Z"
   },
   {
    "duration": 11109,
    "start_time": "2024-06-05T12:54:33.327Z"
   },
   {
    "duration": 20,
    "start_time": "2024-06-05T12:54:44.437Z"
   },
   {
    "duration": 219,
    "start_time": "2024-06-05T12:54:44.458Z"
   },
   {
    "duration": 19,
    "start_time": "2024-06-05T12:54:44.681Z"
   },
   {
    "duration": 179,
    "start_time": "2024-06-05T12:54:44.702Z"
   },
   {
    "duration": 93,
    "start_time": "2024-06-05T12:54:44.883Z"
   },
   {
    "duration": 142,
    "start_time": "2024-06-05T12:54:44.978Z"
   },
   {
    "duration": 299,
    "start_time": "2024-06-05T12:54:45.122Z"
   },
   {
    "duration": 92,
    "start_time": "2024-06-05T12:54:45.423Z"
   },
   {
    "duration": 7,
    "start_time": "2024-06-05T12:54:45.517Z"
   },
   {
    "duration": 147,
    "start_time": "2024-06-05T12:54:45.526Z"
   },
   {
    "duration": 16,
    "start_time": "2024-06-05T12:54:45.674Z"
   },
   {
    "duration": 87,
    "start_time": "2024-06-05T12:54:45.691Z"
   },
   {
    "duration": 49,
    "start_time": "2024-06-05T12:54:45.781Z"
   },
   {
    "duration": 1774,
    "start_time": "2024-06-05T12:54:45.831Z"
   },
   {
    "duration": 13,
    "start_time": "2024-06-05T12:54:47.607Z"
   },
   {
    "duration": 158,
    "start_time": "2024-06-05T12:54:47.622Z"
   },
   {
    "duration": 7,
    "start_time": "2024-06-05T12:54:47.782Z"
   },
   {
    "duration": 102,
    "start_time": "2024-06-05T12:54:47.791Z"
   },
   {
    "duration": 1504,
    "start_time": "2024-06-05T18:30:19.746Z"
   },
   {
    "duration": 232,
    "start_time": "2024-06-05T18:30:21.252Z"
   },
   {
    "duration": 35,
    "start_time": "2024-06-05T18:30:21.485Z"
   },
   {
    "duration": 18,
    "start_time": "2024-06-05T18:30:21.521Z"
   },
   {
    "duration": 5,
    "start_time": "2024-06-05T18:30:21.541Z"
   },
   {
    "duration": 5,
    "start_time": "2024-06-05T18:30:21.548Z"
   },
   {
    "duration": 31,
    "start_time": "2024-06-05T18:30:21.554Z"
   },
   {
    "duration": 17,
    "start_time": "2024-06-05T18:30:21.587Z"
   },
   {
    "duration": 25,
    "start_time": "2024-06-05T18:30:21.605Z"
   },
   {
    "duration": 31,
    "start_time": "2024-06-05T18:30:21.632Z"
   },
   {
    "duration": 5,
    "start_time": "2024-06-05T18:30:21.665Z"
   },
   {
    "duration": 179,
    "start_time": "2024-06-05T18:30:21.671Z"
   },
   {
    "duration": 363,
    "start_time": "2024-06-05T18:30:21.851Z"
   },
   {
    "duration": 211,
    "start_time": "2024-06-05T18:30:22.217Z"
   },
   {
    "duration": 15,
    "start_time": "2024-06-05T18:30:22.429Z"
   },
   {
    "duration": 19,
    "start_time": "2024-06-05T18:30:22.445Z"
   },
   {
    "duration": 86,
    "start_time": "2024-06-05T18:30:22.465Z"
   },
   {
    "duration": 69,
    "start_time": "2024-06-05T18:30:22.552Z"
   },
   {
    "duration": 98,
    "start_time": "2024-06-05T18:30:22.622Z"
   },
   {
    "duration": 6,
    "start_time": "2024-06-05T18:30:22.723Z"
   },
   {
    "duration": 107,
    "start_time": "2024-06-05T18:30:22.731Z"
   },
   {
    "duration": 187,
    "start_time": "2024-06-05T18:30:22.839Z"
   },
   {
    "duration": 7,
    "start_time": "2024-06-05T18:30:23.028Z"
   },
   {
    "duration": 257,
    "start_time": "2024-06-05T18:30:23.036Z"
   },
   {
    "duration": 7912,
    "start_time": "2024-06-05T18:30:23.295Z"
   },
   {
    "duration": 9,
    "start_time": "2024-06-05T18:30:31.209Z"
   },
   {
    "duration": 200,
    "start_time": "2024-06-05T18:30:31.220Z"
   },
   {
    "duration": 10,
    "start_time": "2024-06-05T18:30:31.422Z"
   },
   {
    "duration": 70,
    "start_time": "2024-06-05T18:30:31.485Z"
   },
   {
    "duration": 83,
    "start_time": "2024-06-05T18:30:31.556Z"
   },
   {
    "duration": 233,
    "start_time": "2024-06-05T18:30:31.641Z"
   },
   {
    "duration": 113,
    "start_time": "2024-06-05T18:30:31.876Z"
   },
   {
    "duration": 69,
    "start_time": "2024-06-05T18:30:31.991Z"
   },
   {
    "duration": 7,
    "start_time": "2024-06-05T18:30:32.084Z"
   },
   {
    "duration": 110,
    "start_time": "2024-06-05T18:30:32.092Z"
   },
   {
    "duration": 17,
    "start_time": "2024-06-05T18:30:32.204Z"
   },
   {
    "duration": 11,
    "start_time": "2024-06-05T18:30:32.223Z"
   },
   {
    "duration": 6,
    "start_time": "2024-06-05T18:30:32.236Z"
   },
   {
    "duration": 1458,
    "start_time": "2024-06-05T18:30:32.244Z"
   },
   {
    "duration": 11,
    "start_time": "2024-06-05T18:30:33.703Z"
   },
   {
    "duration": 126,
    "start_time": "2024-06-05T18:30:33.717Z"
   },
   {
    "duration": 6,
    "start_time": "2024-06-05T18:30:33.844Z"
   },
   {
    "duration": 79,
    "start_time": "2024-06-05T18:30:33.851Z"
   },
   {
    "duration": 11,
    "start_time": "2024-06-05T18:49:57.211Z"
   },
   {
    "duration": 11,
    "start_time": "2024-06-05T18:50:13.477Z"
   },
   {
    "duration": 9,
    "start_time": "2024-06-05T18:54:04.270Z"
   },
   {
    "duration": 9,
    "start_time": "2024-06-05T18:56:53.278Z"
   },
   {
    "duration": 1313,
    "start_time": "2024-06-05T19:05:29.426Z"
   },
   {
    "duration": 58,
    "start_time": "2024-06-05T19:05:30.741Z"
   },
   {
    "duration": 30,
    "start_time": "2024-06-05T19:05:30.800Z"
   },
   {
    "duration": 48,
    "start_time": "2024-06-05T19:05:30.831Z"
   },
   {
    "duration": 43,
    "start_time": "2024-06-05T19:05:30.880Z"
   },
   {
    "duration": 34,
    "start_time": "2024-06-05T19:05:30.924Z"
   },
   {
    "duration": 44,
    "start_time": "2024-06-05T19:05:30.959Z"
   },
   {
    "duration": 73,
    "start_time": "2024-06-05T19:05:31.004Z"
   },
   {
    "duration": 46,
    "start_time": "2024-06-05T19:05:31.078Z"
   },
   {
    "duration": 46,
    "start_time": "2024-06-05T19:05:31.125Z"
   },
   {
    "duration": 64,
    "start_time": "2024-06-05T19:05:31.172Z"
   },
   {
    "duration": 180,
    "start_time": "2024-06-05T19:05:31.237Z"
   },
   {
    "duration": 354,
    "start_time": "2024-06-05T19:05:31.418Z"
   },
   {
    "duration": 202,
    "start_time": "2024-06-05T19:05:31.774Z"
   },
   {
    "duration": 20,
    "start_time": "2024-06-05T19:05:31.977Z"
   },
   {
    "duration": 35,
    "start_time": "2024-06-05T19:05:31.998Z"
   },
   {
    "duration": 66,
    "start_time": "2024-06-05T19:05:32.035Z"
   },
   {
    "duration": 55,
    "start_time": "2024-06-05T19:05:32.102Z"
   },
   {
    "duration": 70,
    "start_time": "2024-06-05T19:05:32.158Z"
   },
   {
    "duration": 3,
    "start_time": "2024-06-05T19:05:32.230Z"
   },
   {
    "duration": 76,
    "start_time": "2024-06-05T19:05:32.235Z"
   },
   {
    "duration": 186,
    "start_time": "2024-06-05T19:05:32.312Z"
   },
   {
    "duration": 6,
    "start_time": "2024-06-05T19:05:32.500Z"
   },
   {
    "duration": 110,
    "start_time": "2024-06-05T19:05:32.507Z"
   },
   {
    "duration": 7841,
    "start_time": "2024-06-05T19:05:32.618Z"
   },
   {
    "duration": 24,
    "start_time": "2024-06-05T19:05:40.461Z"
   },
   {
    "duration": 117,
    "start_time": "2024-06-05T19:05:40.486Z"
   },
   {
    "duration": 10,
    "start_time": "2024-06-05T19:05:40.604Z"
   },
   {
    "duration": 124,
    "start_time": "2024-06-05T19:05:40.615Z"
   },
   {
    "duration": 102,
    "start_time": "2024-06-05T19:05:40.740Z"
   },
   {
    "duration": 106,
    "start_time": "2024-06-05T19:05:40.844Z"
   },
   {
    "duration": 240,
    "start_time": "2024-06-05T19:05:40.952Z"
   },
   {
    "duration": 61,
    "start_time": "2024-06-05T19:05:41.193Z"
   },
   {
    "duration": 31,
    "start_time": "2024-06-05T19:05:41.255Z"
   },
   {
    "duration": 85,
    "start_time": "2024-06-05T19:05:41.287Z"
   },
   {
    "duration": 19,
    "start_time": "2024-06-05T19:05:41.373Z"
   },
   {
    "duration": 11,
    "start_time": "2024-06-05T19:05:41.393Z"
   },
   {
    "duration": 5,
    "start_time": "2024-06-05T19:05:41.405Z"
   },
   {
    "duration": 1400,
    "start_time": "2024-06-05T19:05:41.411Z"
   },
   {
    "duration": 11,
    "start_time": "2024-06-05T19:05:42.812Z"
   },
   {
    "duration": 122,
    "start_time": "2024-06-05T19:05:42.826Z"
   },
   {
    "duration": 6,
    "start_time": "2024-06-05T19:05:42.949Z"
   },
   {
    "duration": 75,
    "start_time": "2024-06-05T19:05:42.956Z"
   },
   {
    "duration": 162,
    "start_time": "2024-06-05T19:36:06.279Z"
   },
   {
    "duration": 167,
    "start_time": "2024-06-05T19:36:29.971Z"
   },
   {
    "duration": 66,
    "start_time": "2024-06-05T19:41:37.094Z"
   },
   {
    "duration": 49,
    "start_time": "2024-06-05T19:43:04.378Z"
   },
   {
    "duration": 1350,
    "start_time": "2024-06-05T20:23:59.196Z"
   },
   {
    "duration": 61,
    "start_time": "2024-06-05T20:24:00.547Z"
   },
   {
    "duration": 23,
    "start_time": "2024-06-05T20:24:00.609Z"
   },
   {
    "duration": 55,
    "start_time": "2024-06-05T20:24:00.633Z"
   },
   {
    "duration": 39,
    "start_time": "2024-06-05T20:24:00.690Z"
   },
   {
    "duration": 50,
    "start_time": "2024-06-05T20:24:00.730Z"
   },
   {
    "duration": 38,
    "start_time": "2024-06-05T20:24:00.781Z"
   },
   {
    "duration": 54,
    "start_time": "2024-06-05T20:24:00.820Z"
   },
   {
    "duration": 66,
    "start_time": "2024-06-05T20:24:00.875Z"
   },
   {
    "duration": 84,
    "start_time": "2024-06-05T20:24:00.943Z"
   },
   {
    "duration": 52,
    "start_time": "2024-06-05T20:24:01.028Z"
   },
   {
    "duration": 207,
    "start_time": "2024-06-05T20:24:01.081Z"
   },
   {
    "duration": 343,
    "start_time": "2024-06-05T20:24:01.289Z"
   },
   {
    "duration": 217,
    "start_time": "2024-06-05T20:24:01.634Z"
   },
   {
    "duration": 17,
    "start_time": "2024-06-05T20:24:01.852Z"
   },
   {
    "duration": 37,
    "start_time": "2024-06-05T20:24:01.870Z"
   },
   {
    "duration": 101,
    "start_time": "2024-06-05T20:24:01.908Z"
   },
   {
    "duration": 50,
    "start_time": "2024-06-05T20:24:02.010Z"
   },
   {
    "duration": 65,
    "start_time": "2024-06-05T20:24:02.061Z"
   },
   {
    "duration": 5,
    "start_time": "2024-06-05T20:24:02.127Z"
   },
   {
    "duration": 90,
    "start_time": "2024-06-05T20:24:02.133Z"
   },
   {
    "duration": 182,
    "start_time": "2024-06-05T20:24:02.224Z"
   },
   {
    "duration": 5,
    "start_time": "2024-06-05T20:24:02.408Z"
   },
   {
    "duration": 115,
    "start_time": "2024-06-05T20:24:02.414Z"
   },
   {
    "duration": 8583,
    "start_time": "2024-06-05T20:24:02.531Z"
   },
   {
    "duration": 1802,
    "start_time": "2024-06-06T04:28:12.152Z"
   },
   {
    "duration": 129,
    "start_time": "2024-06-06T04:28:13.956Z"
   },
   {
    "duration": 31,
    "start_time": "2024-06-06T04:28:14.087Z"
   },
   {
    "duration": 15,
    "start_time": "2024-06-06T04:28:14.120Z"
   },
   {
    "duration": 4,
    "start_time": "2024-06-06T04:28:14.138Z"
   },
   {
    "duration": 13,
    "start_time": "2024-06-06T04:28:14.144Z"
   },
   {
    "duration": 23,
    "start_time": "2024-06-06T04:28:14.159Z"
   },
   {
    "duration": 8,
    "start_time": "2024-06-06T04:28:14.184Z"
   },
   {
    "duration": 33,
    "start_time": "2024-06-06T04:28:14.194Z"
   },
   {
    "duration": 22,
    "start_time": "2024-06-06T04:28:14.228Z"
   },
   {
    "duration": 33,
    "start_time": "2024-06-06T04:28:14.252Z"
   },
   {
    "duration": 911,
    "start_time": "2024-06-06T04:28:14.287Z"
   },
   {
    "duration": 414,
    "start_time": "2024-06-06T04:28:15.200Z"
   },
   {
    "duration": 292,
    "start_time": "2024-06-06T04:28:15.617Z"
   },
   {
    "duration": 22,
    "start_time": "2024-06-06T04:28:15.910Z"
   },
   {
    "duration": 41,
    "start_time": "2024-06-06T04:28:15.933Z"
   },
   {
    "duration": 79,
    "start_time": "2024-06-06T04:28:15.981Z"
   },
   {
    "duration": 79,
    "start_time": "2024-06-06T04:28:16.061Z"
   },
   {
    "duration": 74,
    "start_time": "2024-06-06T04:28:16.142Z"
   },
   {
    "duration": 6,
    "start_time": "2024-06-06T04:28:16.218Z"
   },
   {
    "duration": 104,
    "start_time": "2024-06-06T04:28:16.226Z"
   },
   {
    "duration": 220,
    "start_time": "2024-06-06T04:28:16.332Z"
   },
   {
    "duration": 7,
    "start_time": "2024-06-06T04:28:16.554Z"
   },
   {
    "duration": 180,
    "start_time": "2024-06-06T04:28:16.562Z"
   },
   {
    "duration": 9932,
    "start_time": "2024-06-06T04:28:16.743Z"
   },
   {
    "duration": 10,
    "start_time": "2024-06-06T04:28:26.677Z"
   },
   {
    "duration": 136,
    "start_time": "2024-06-06T04:28:26.689Z"
   },
   {
    "duration": 64,
    "start_time": "2024-06-06T04:28:26.827Z"
   },
   {
    "duration": 125,
    "start_time": "2024-06-06T04:28:26.893Z"
   },
   {
    "duration": 171,
    "start_time": "2024-06-06T04:28:27.020Z"
   },
   {
    "duration": 129,
    "start_time": "2024-06-06T04:28:27.192Z"
   },
   {
    "duration": 325,
    "start_time": "2024-06-06T04:28:27.322Z"
   },
   {
    "duration": 102,
    "start_time": "2024-06-06T04:28:27.649Z"
   },
   {
    "duration": 9,
    "start_time": "2024-06-06T04:28:27.753Z"
   },
   {
    "duration": 126,
    "start_time": "2024-06-06T04:28:27.763Z"
   },
   {
    "duration": 16,
    "start_time": "2024-06-06T04:28:27.890Z"
   },
   {
    "duration": 26,
    "start_time": "2024-06-06T04:28:27.908Z"
   },
   {
    "duration": 9,
    "start_time": "2024-06-06T04:28:27.937Z"
   },
   {
    "duration": 1674,
    "start_time": "2024-06-06T04:28:27.948Z"
   },
   {
    "duration": 14,
    "start_time": "2024-06-06T04:28:29.623Z"
   },
   {
    "duration": 159,
    "start_time": "2024-06-06T04:28:29.640Z"
   },
   {
    "duration": 8,
    "start_time": "2024-06-06T04:28:29.801Z"
   },
   {
    "duration": 113,
    "start_time": "2024-06-06T04:28:29.811Z"
   },
   {
    "duration": 1552,
    "start_time": "2024-06-06T14:38:50.310Z"
   },
   {
    "duration": 224,
    "start_time": "2024-06-06T14:38:51.864Z"
   },
   {
    "duration": 26,
    "start_time": "2024-06-06T14:38:52.089Z"
   },
   {
    "duration": 15,
    "start_time": "2024-06-06T14:38:52.117Z"
   },
   {
    "duration": 16,
    "start_time": "2024-06-06T14:38:52.134Z"
   },
   {
    "duration": 6,
    "start_time": "2024-06-06T14:38:52.151Z"
   },
   {
    "duration": 14,
    "start_time": "2024-06-06T14:38:52.158Z"
   },
   {
    "duration": 15,
    "start_time": "2024-06-06T14:38:52.174Z"
   },
   {
    "duration": 33,
    "start_time": "2024-06-06T14:38:52.190Z"
   },
   {
    "duration": 38,
    "start_time": "2024-06-06T14:38:52.226Z"
   },
   {
    "duration": 9,
    "start_time": "2024-06-06T14:38:52.266Z"
   },
   {
    "duration": 172,
    "start_time": "2024-06-06T14:38:52.276Z"
   },
   {
    "duration": 365,
    "start_time": "2024-06-06T14:38:52.450Z"
   },
   {
    "duration": 218,
    "start_time": "2024-06-06T14:38:52.816Z"
   },
   {
    "duration": 15,
    "start_time": "2024-06-06T14:38:53.036Z"
   },
   {
    "duration": 31,
    "start_time": "2024-06-06T14:38:53.053Z"
   },
   {
    "duration": 67,
    "start_time": "2024-06-06T14:38:53.086Z"
   },
   {
    "duration": 75,
    "start_time": "2024-06-06T14:38:53.155Z"
   },
   {
    "duration": 64,
    "start_time": "2024-06-06T14:38:53.232Z"
   },
   {
    "duration": 7,
    "start_time": "2024-06-06T14:38:53.297Z"
   },
   {
    "duration": 83,
    "start_time": "2024-06-06T14:38:53.306Z"
   },
   {
    "duration": 204,
    "start_time": "2024-06-06T14:38:53.390Z"
   },
   {
    "duration": 6,
    "start_time": "2024-06-06T14:38:53.595Z"
   },
   {
    "duration": 208,
    "start_time": "2024-06-06T14:38:53.602Z"
   },
   {
    "duration": 8424,
    "start_time": "2024-06-06T14:38:53.812Z"
   },
   {
    "duration": 8,
    "start_time": "2024-06-06T14:39:02.238Z"
   },
   {
    "duration": 154,
    "start_time": "2024-06-06T14:39:02.247Z"
   },
   {
    "duration": 12,
    "start_time": "2024-06-06T14:39:02.404Z"
   },
   {
    "duration": 167,
    "start_time": "2024-06-06T14:39:02.417Z"
   },
   {
    "duration": 70,
    "start_time": "2024-06-06T14:39:02.586Z"
   },
   {
    "duration": 141,
    "start_time": "2024-06-06T14:39:02.658Z"
   },
   {
    "duration": 238,
    "start_time": "2024-06-06T14:39:02.801Z"
   },
   {
    "duration": 91,
    "start_time": "2024-06-06T14:39:03.040Z"
   },
   {
    "duration": 8,
    "start_time": "2024-06-06T14:39:03.133Z"
   },
   {
    "duration": 112,
    "start_time": "2024-06-06T14:39:03.143Z"
   },
   {
    "duration": 32,
    "start_time": "2024-06-06T14:39:03.257Z"
   },
   {
    "duration": 13,
    "start_time": "2024-06-06T14:39:03.291Z"
   },
   {
    "duration": 7,
    "start_time": "2024-06-06T14:39:03.306Z"
   },
   {
    "duration": 1453,
    "start_time": "2024-06-06T14:39:03.315Z"
   },
   {
    "duration": 24,
    "start_time": "2024-06-06T14:39:04.770Z"
   },
   {
    "duration": 136,
    "start_time": "2024-06-06T14:39:04.795Z"
   },
   {
    "duration": 8,
    "start_time": "2024-06-06T14:39:04.933Z"
   },
   {
    "duration": 95,
    "start_time": "2024-06-06T14:39:04.942Z"
   },
   {
    "duration": 15,
    "start_time": "2024-06-06T14:40:37.748Z"
   },
   {
    "duration": 1770,
    "start_time": "2024-06-06T17:08:29.851Z"
   },
   {
    "duration": 151,
    "start_time": "2024-06-06T17:08:31.624Z"
   },
   {
    "duration": 31,
    "start_time": "2024-06-06T17:08:31.777Z"
   },
   {
    "duration": 21,
    "start_time": "2024-06-06T17:08:31.810Z"
   },
   {
    "duration": 15,
    "start_time": "2024-06-06T17:08:31.832Z"
   },
   {
    "duration": 6,
    "start_time": "2024-06-06T17:08:31.849Z"
   },
   {
    "duration": 37,
    "start_time": "2024-06-06T17:08:31.857Z"
   },
   {
    "duration": 9,
    "start_time": "2024-06-06T17:08:31.896Z"
   },
   {
    "duration": 13,
    "start_time": "2024-06-06T17:08:31.907Z"
   },
   {
    "duration": 34,
    "start_time": "2024-06-06T17:08:31.924Z"
   },
   {
    "duration": 23,
    "start_time": "2024-06-06T17:08:31.959Z"
   },
   {
    "duration": 7,
    "start_time": "2024-06-06T17:08:31.984Z"
   },
   {
    "duration": 161,
    "start_time": "2024-06-06T17:08:32.011Z"
   },
   {
    "duration": 410,
    "start_time": "2024-06-06T17:08:32.174Z"
   },
   {
    "duration": 256,
    "start_time": "2024-06-06T17:08:32.586Z"
   },
   {
    "duration": 18,
    "start_time": "2024-06-06T17:08:32.843Z"
   },
   {
    "duration": 23,
    "start_time": "2024-06-06T17:08:32.862Z"
   },
   {
    "duration": 102,
    "start_time": "2024-06-06T17:08:32.887Z"
   },
   {
    "duration": 89,
    "start_time": "2024-06-06T17:08:32.990Z"
   },
   {
    "duration": 70,
    "start_time": "2024-06-06T17:08:33.081Z"
   },
   {
    "duration": 5,
    "start_time": "2024-06-06T17:08:33.152Z"
   },
   {
    "duration": 105,
    "start_time": "2024-06-06T17:08:33.159Z"
   },
   {
    "duration": 213,
    "start_time": "2024-06-06T17:08:33.266Z"
   },
   {
    "duration": 6,
    "start_time": "2024-06-06T17:08:33.481Z"
   },
   {
    "duration": 185,
    "start_time": "2024-06-06T17:08:33.488Z"
   },
   {
    "duration": 9320,
    "start_time": "2024-06-06T17:08:33.675Z"
   },
   {
    "duration": 21,
    "start_time": "2024-06-06T17:08:42.997Z"
   },
   {
    "duration": 201,
    "start_time": "2024-06-06T17:08:43.022Z"
   },
   {
    "duration": 14,
    "start_time": "2024-06-06T17:08:43.225Z"
   },
   {
    "duration": 184,
    "start_time": "2024-06-06T17:08:43.240Z"
   },
   {
    "duration": 108,
    "start_time": "2024-06-06T17:08:43.425Z"
   },
   {
    "duration": 163,
    "start_time": "2024-06-06T17:08:43.534Z"
   },
   {
    "duration": 290,
    "start_time": "2024-06-06T17:08:43.699Z"
   },
   {
    "duration": 86,
    "start_time": "2024-06-06T17:08:43.991Z"
   },
   {
    "duration": 7,
    "start_time": "2024-06-06T17:08:44.079Z"
   },
   {
    "duration": 133,
    "start_time": "2024-06-06T17:08:44.087Z"
   },
   {
    "duration": 18,
    "start_time": "2024-06-06T17:08:44.222Z"
   },
   {
    "duration": 17,
    "start_time": "2024-06-06T17:08:44.241Z"
   },
   {
    "duration": 7,
    "start_time": "2024-06-06T17:08:44.259Z"
   },
   {
    "duration": 1651,
    "start_time": "2024-06-06T17:08:44.267Z"
   },
   {
    "duration": 14,
    "start_time": "2024-06-06T17:08:45.920Z"
   },
   {
    "duration": 145,
    "start_time": "2024-06-06T17:08:45.936Z"
   },
   {
    "duration": 8,
    "start_time": "2024-06-06T17:08:46.082Z"
   },
   {
    "duration": 92,
    "start_time": "2024-06-06T17:08:46.091Z"
   },
   {
    "duration": 7,
    "start_time": "2024-06-06T17:16:08.829Z"
   },
   {
    "duration": 64,
    "start_time": "2024-06-06T17:19:12.496Z"
   },
   {
    "duration": 56,
    "start_time": "2024-06-06T17:19:50.054Z"
   },
   {
    "duration": 61,
    "start_time": "2024-06-06T17:21:12.410Z"
   },
   {
    "duration": 62,
    "start_time": "2024-06-06T17:21:23.758Z"
   },
   {
    "duration": 55,
    "start_time": "2024-06-06T17:21:37.034Z"
   },
   {
    "duration": 172,
    "start_time": "2024-06-06T18:14:25.958Z"
   },
   {
    "duration": 248,
    "start_time": "2024-06-06T18:14:46.033Z"
   },
   {
    "duration": 222,
    "start_time": "2024-06-06T18:14:55.033Z"
   },
   {
    "duration": 266,
    "start_time": "2024-06-06T18:17:05.657Z"
   },
   {
    "duration": 278,
    "start_time": "2024-06-06T18:17:21.162Z"
   },
   {
    "duration": 266,
    "start_time": "2024-06-06T18:18:33.685Z"
   },
   {
    "duration": 254,
    "start_time": "2024-06-06T18:19:59.620Z"
   },
   {
    "duration": 429,
    "start_time": "2024-06-06T18:20:04.613Z"
   },
   {
    "duration": 198,
    "start_time": "2024-06-06T18:21:42.819Z"
   },
   {
    "duration": 238,
    "start_time": "2024-06-06T18:22:00.934Z"
   },
   {
    "duration": 5,
    "start_time": "2024-06-06T18:39:14.301Z"
   },
   {
    "duration": 132,
    "start_time": "2024-06-06T18:39:46.611Z"
   },
   {
    "duration": 21,
    "start_time": "2024-06-06T18:39:52.997Z"
   },
   {
    "duration": 28,
    "start_time": "2024-06-06T18:41:57.439Z"
   },
   {
    "duration": 21,
    "start_time": "2024-06-06T18:47:29.100Z"
   },
   {
    "duration": 1683,
    "start_time": "2024-06-07T03:04:17.745Z"
   },
   {
    "duration": 130,
    "start_time": "2024-06-07T03:04:19.430Z"
   },
   {
    "duration": 30,
    "start_time": "2024-06-07T03:04:19.562Z"
   },
   {
    "duration": 15,
    "start_time": "2024-06-07T03:04:19.593Z"
   },
   {
    "duration": 24,
    "start_time": "2024-06-07T03:04:19.609Z"
   },
   {
    "duration": 8,
    "start_time": "2024-06-07T03:04:19.634Z"
   },
   {
    "duration": 15,
    "start_time": "2024-06-07T03:04:19.644Z"
   },
   {
    "duration": 14,
    "start_time": "2024-06-07T03:04:19.661Z"
   },
   {
    "duration": 11,
    "start_time": "2024-06-07T03:04:19.677Z"
   },
   {
    "duration": 32,
    "start_time": "2024-06-07T03:04:19.691Z"
   },
   {
    "duration": 30,
    "start_time": "2024-06-07T03:04:19.725Z"
   },
   {
    "duration": 5,
    "start_time": "2024-06-07T03:04:19.757Z"
   },
   {
    "duration": 169,
    "start_time": "2024-06-07T03:04:19.764Z"
   },
   {
    "duration": 397,
    "start_time": "2024-06-07T03:04:19.935Z"
   },
   {
    "duration": 276,
    "start_time": "2024-06-07T03:04:20.334Z"
   },
   {
    "duration": 22,
    "start_time": "2024-06-07T03:04:20.611Z"
   },
   {
    "duration": 34,
    "start_time": "2024-06-07T03:04:20.645Z"
   },
   {
    "duration": 18,
    "start_time": "2024-06-07T03:04:20.681Z"
   },
   {
    "duration": 421,
    "start_time": "2024-06-07T03:04:20.700Z"
   },
   {
    "duration": 0,
    "start_time": "2024-06-07T03:04:21.123Z"
   },
   {
    "duration": 0,
    "start_time": "2024-06-07T03:04:21.125Z"
   },
   {
    "duration": 0,
    "start_time": "2024-06-07T03:04:21.126Z"
   },
   {
    "duration": 0,
    "start_time": "2024-06-07T03:04:21.127Z"
   },
   {
    "duration": 0,
    "start_time": "2024-06-07T03:04:21.128Z"
   },
   {
    "duration": 0,
    "start_time": "2024-06-07T03:04:21.129Z"
   },
   {
    "duration": 0,
    "start_time": "2024-06-07T03:04:21.130Z"
   },
   {
    "duration": 0,
    "start_time": "2024-06-07T03:04:21.145Z"
   },
   {
    "duration": 0,
    "start_time": "2024-06-07T03:04:21.147Z"
   },
   {
    "duration": 0,
    "start_time": "2024-06-07T03:04:21.148Z"
   },
   {
    "duration": 0,
    "start_time": "2024-06-07T03:04:21.149Z"
   },
   {
    "duration": 0,
    "start_time": "2024-06-07T03:04:21.150Z"
   },
   {
    "duration": 0,
    "start_time": "2024-06-07T03:04:21.152Z"
   },
   {
    "duration": 0,
    "start_time": "2024-06-07T03:04:21.153Z"
   },
   {
    "duration": 0,
    "start_time": "2024-06-07T03:04:21.155Z"
   },
   {
    "duration": 0,
    "start_time": "2024-06-07T03:04:21.156Z"
   },
   {
    "duration": 0,
    "start_time": "2024-06-07T03:04:21.158Z"
   },
   {
    "duration": 0,
    "start_time": "2024-06-07T03:04:21.159Z"
   },
   {
    "duration": 0,
    "start_time": "2024-06-07T03:04:21.161Z"
   },
   {
    "duration": 0,
    "start_time": "2024-06-07T03:04:21.162Z"
   },
   {
    "duration": 0,
    "start_time": "2024-06-07T03:04:21.164Z"
   },
   {
    "duration": 0,
    "start_time": "2024-06-07T03:04:21.165Z"
   },
   {
    "duration": 0,
    "start_time": "2024-06-07T03:04:21.166Z"
   },
   {
    "duration": 0,
    "start_time": "2024-06-07T03:04:21.167Z"
   },
   {
    "duration": 0,
    "start_time": "2024-06-07T03:04:21.168Z"
   },
   {
    "duration": 0,
    "start_time": "2024-06-07T03:04:21.169Z"
   },
   {
    "duration": 17,
    "start_time": "2024-06-07T03:10:29.359Z"
   },
   {
    "duration": 1585,
    "start_time": "2024-06-07T03:10:56.219Z"
   },
   {
    "duration": 68,
    "start_time": "2024-06-07T03:10:57.806Z"
   },
   {
    "duration": 28,
    "start_time": "2024-06-07T03:10:57.876Z"
   },
   {
    "duration": 15,
    "start_time": "2024-06-07T03:10:57.907Z"
   },
   {
    "duration": 29,
    "start_time": "2024-06-07T03:10:57.924Z"
   },
   {
    "duration": 4,
    "start_time": "2024-06-07T03:10:57.955Z"
   },
   {
    "duration": 6,
    "start_time": "2024-06-07T03:10:57.960Z"
   },
   {
    "duration": 12,
    "start_time": "2024-06-07T03:10:57.967Z"
   },
   {
    "duration": 14,
    "start_time": "2024-06-07T03:10:57.980Z"
   },
   {
    "duration": 50,
    "start_time": "2024-06-07T03:10:57.996Z"
   },
   {
    "duration": 21,
    "start_time": "2024-06-07T03:10:58.048Z"
   },
   {
    "duration": 6,
    "start_time": "2024-06-07T03:10:58.071Z"
   },
   {
    "duration": 189,
    "start_time": "2024-06-07T03:10:58.078Z"
   },
   {
    "duration": 395,
    "start_time": "2024-06-07T03:10:58.269Z"
   },
   {
    "duration": 238,
    "start_time": "2024-06-07T03:10:58.666Z"
   },
   {
    "duration": 17,
    "start_time": "2024-06-07T03:10:58.905Z"
   },
   {
    "duration": 51,
    "start_time": "2024-06-07T03:10:58.923Z"
   },
   {
    "duration": 415,
    "start_time": "2024-06-07T03:10:58.975Z"
   },
   {
    "duration": 0,
    "start_time": "2024-06-07T03:10:59.392Z"
   },
   {
    "duration": 0,
    "start_time": "2024-06-07T03:10:59.393Z"
   },
   {
    "duration": 0,
    "start_time": "2024-06-07T03:10:59.394Z"
   },
   {
    "duration": 0,
    "start_time": "2024-06-07T03:10:59.395Z"
   },
   {
    "duration": 0,
    "start_time": "2024-06-07T03:10:59.396Z"
   },
   {
    "duration": 0,
    "start_time": "2024-06-07T03:10:59.397Z"
   },
   {
    "duration": 0,
    "start_time": "2024-06-07T03:10:59.398Z"
   },
   {
    "duration": 0,
    "start_time": "2024-06-07T03:10:59.399Z"
   },
   {
    "duration": 0,
    "start_time": "2024-06-07T03:10:59.400Z"
   },
   {
    "duration": 0,
    "start_time": "2024-06-07T03:10:59.401Z"
   },
   {
    "duration": 0,
    "start_time": "2024-06-07T03:10:59.402Z"
   },
   {
    "duration": 0,
    "start_time": "2024-06-07T03:10:59.403Z"
   },
   {
    "duration": 0,
    "start_time": "2024-06-07T03:10:59.404Z"
   },
   {
    "duration": 0,
    "start_time": "2024-06-07T03:10:59.405Z"
   },
   {
    "duration": 0,
    "start_time": "2024-06-07T03:10:59.406Z"
   },
   {
    "duration": 0,
    "start_time": "2024-06-07T03:10:59.407Z"
   },
   {
    "duration": 0,
    "start_time": "2024-06-07T03:10:59.408Z"
   },
   {
    "duration": 0,
    "start_time": "2024-06-07T03:10:59.409Z"
   },
   {
    "duration": 0,
    "start_time": "2024-06-07T03:10:59.410Z"
   },
   {
    "duration": 0,
    "start_time": "2024-06-07T03:10:59.411Z"
   },
   {
    "duration": 1,
    "start_time": "2024-06-07T03:10:59.411Z"
   },
   {
    "duration": 0,
    "start_time": "2024-06-07T03:10:59.412Z"
   },
   {
    "duration": 0,
    "start_time": "2024-06-07T03:10:59.413Z"
   },
   {
    "duration": 0,
    "start_time": "2024-06-07T03:10:59.445Z"
   },
   {
    "duration": 0,
    "start_time": "2024-06-07T03:10:59.446Z"
   },
   {
    "duration": 0,
    "start_time": "2024-06-07T03:10:59.447Z"
   },
   {
    "duration": 7,
    "start_time": "2024-06-07T03:11:49.016Z"
   },
   {
    "duration": 51,
    "start_time": "2024-06-07T03:13:32.467Z"
   },
   {
    "duration": 57,
    "start_time": "2024-06-07T03:13:44.851Z"
   },
   {
    "duration": 58,
    "start_time": "2024-06-07T03:13:53.368Z"
   },
   {
    "duration": 138,
    "start_time": "2024-06-07T03:15:01.194Z"
   },
   {
    "duration": 14,
    "start_time": "2024-06-07T03:15:18.357Z"
   },
   {
    "duration": 11,
    "start_time": "2024-06-07T03:16:23.104Z"
   },
   {
    "duration": 16,
    "start_time": "2024-06-07T03:16:38.284Z"
   },
   {
    "duration": 8,
    "start_time": "2024-06-07T03:17:29.725Z"
   },
   {
    "duration": 16,
    "start_time": "2024-06-07T03:18:06.914Z"
   },
   {
    "duration": 17,
    "start_time": "2024-06-07T03:19:43.679Z"
   },
   {
    "duration": 16,
    "start_time": "2024-06-07T03:19:52.316Z"
   },
   {
    "duration": 56,
    "start_time": "2024-06-07T03:22:06.492Z"
   },
   {
    "duration": 71,
    "start_time": "2024-06-07T03:22:13.883Z"
   },
   {
    "duration": 72,
    "start_time": "2024-06-07T03:22:45.036Z"
   },
   {
    "duration": 73,
    "start_time": "2024-06-07T03:23:22.687Z"
   },
   {
    "duration": 82,
    "start_time": "2024-06-07T03:24:03.034Z"
   },
   {
    "duration": 75,
    "start_time": "2024-06-07T03:24:13.018Z"
   },
   {
    "duration": 73,
    "start_time": "2024-06-07T03:24:54.199Z"
   },
   {
    "duration": 163,
    "start_time": "2024-06-07T03:25:10.243Z"
   },
   {
    "duration": 69,
    "start_time": "2024-06-07T03:25:13.902Z"
   },
   {
    "duration": 71,
    "start_time": "2024-06-07T03:28:00.716Z"
   },
   {
    "duration": 215,
    "start_time": "2024-06-07T03:29:14.379Z"
   },
   {
    "duration": 6,
    "start_time": "2024-06-07T03:36:26.364Z"
   },
   {
    "duration": 67,
    "start_time": "2024-06-07T03:38:55.714Z"
   },
   {
    "duration": 9,
    "start_time": "2024-06-07T03:39:41.062Z"
   },
   {
    "duration": 66,
    "start_time": "2024-06-07T03:41:11.463Z"
   },
   {
    "duration": 1478,
    "start_time": "2024-06-07T03:44:19.602Z"
   },
   {
    "duration": 65,
    "start_time": "2024-06-07T03:44:21.082Z"
   },
   {
    "duration": 27,
    "start_time": "2024-06-07T03:44:21.148Z"
   },
   {
    "duration": 15,
    "start_time": "2024-06-07T03:44:21.176Z"
   },
   {
    "duration": 12,
    "start_time": "2024-06-07T03:44:21.192Z"
   },
   {
    "duration": 9,
    "start_time": "2024-06-07T03:44:21.205Z"
   },
   {
    "duration": 31,
    "start_time": "2024-06-07T03:44:21.215Z"
   },
   {
    "duration": 9,
    "start_time": "2024-06-07T03:44:21.248Z"
   },
   {
    "duration": 19,
    "start_time": "2024-06-07T03:44:21.259Z"
   },
   {
    "duration": 29,
    "start_time": "2024-06-07T03:44:21.281Z"
   },
   {
    "duration": 20,
    "start_time": "2024-06-07T03:44:21.311Z"
   },
   {
    "duration": 442,
    "start_time": "2024-06-07T03:44:21.333Z"
   },
   {
    "duration": 311,
    "start_time": "2024-06-07T03:44:21.777Z"
   },
   {
    "duration": 72,
    "start_time": "2024-06-07T03:44:22.089Z"
   },
   {
    "duration": 15,
    "start_time": "2024-06-07T03:44:22.163Z"
   },
   {
    "duration": 83,
    "start_time": "2024-06-07T03:44:22.180Z"
   },
   {
    "duration": 59,
    "start_time": "2024-06-07T03:44:22.265Z"
   },
   {
    "duration": 55,
    "start_time": "2024-06-07T03:44:22.345Z"
   },
   {
    "duration": 4,
    "start_time": "2024-06-07T03:44:22.402Z"
   },
   {
    "duration": 88,
    "start_time": "2024-06-07T03:44:22.407Z"
   },
   {
    "duration": 195,
    "start_time": "2024-06-07T03:44:22.497Z"
   },
   {
    "duration": 6,
    "start_time": "2024-06-07T03:44:22.694Z"
   },
   {
    "duration": 170,
    "start_time": "2024-06-07T03:44:22.701Z"
   },
   {
    "duration": 9532,
    "start_time": "2024-06-07T03:44:22.872Z"
   },
   {
    "duration": 7,
    "start_time": "2024-06-07T03:44:32.410Z"
   },
   {
    "duration": 127,
    "start_time": "2024-06-07T03:44:32.445Z"
   },
   {
    "duration": 12,
    "start_time": "2024-06-07T03:44:32.574Z"
   },
   {
    "duration": 184,
    "start_time": "2024-06-07T03:44:32.590Z"
   },
   {
    "duration": 125,
    "start_time": "2024-06-07T03:44:32.775Z"
   },
   {
    "duration": 126,
    "start_time": "2024-06-07T03:44:32.902Z"
   },
   {
    "duration": 284,
    "start_time": "2024-06-07T03:44:33.030Z"
   },
   {
    "duration": 91,
    "start_time": "2024-06-07T03:44:33.316Z"
   },
   {
    "duration": 8,
    "start_time": "2024-06-07T03:44:33.408Z"
   },
   {
    "duration": 152,
    "start_time": "2024-06-07T03:44:33.417Z"
   },
   {
    "duration": 14,
    "start_time": "2024-06-07T03:44:33.571Z"
   },
   {
    "duration": 13,
    "start_time": "2024-06-07T03:44:33.587Z"
   },
   {
    "duration": 9,
    "start_time": "2024-06-07T03:44:33.601Z"
   },
   {
    "duration": 1591,
    "start_time": "2024-06-07T03:44:33.611Z"
   },
   {
    "duration": 12,
    "start_time": "2024-06-07T03:44:35.204Z"
   },
   {
    "duration": 147,
    "start_time": "2024-06-07T03:44:35.217Z"
   },
   {
    "duration": 9,
    "start_time": "2024-06-07T03:44:35.366Z"
   },
   {
    "duration": 99,
    "start_time": "2024-06-07T03:44:35.377Z"
   },
   {
    "duration": 78,
    "start_time": "2024-06-07T03:46:25.480Z"
   },
   {
    "duration": 69,
    "start_time": "2024-06-07T03:46:53.558Z"
   },
   {
    "duration": 78,
    "start_time": "2024-06-07T03:47:30.303Z"
   },
   {
    "duration": 66,
    "start_time": "2024-06-07T03:49:38.263Z"
   },
   {
    "duration": 65,
    "start_time": "2024-06-07T03:49:48.215Z"
   },
   {
    "duration": 68,
    "start_time": "2024-06-07T03:50:07.904Z"
   },
   {
    "duration": 65,
    "start_time": "2024-06-07T03:50:11.018Z"
   },
   {
    "duration": 1785,
    "start_time": "2024-06-07T11:42:34.034Z"
   },
   {
    "duration": 245,
    "start_time": "2024-06-07T11:42:35.821Z"
   },
   {
    "duration": 32,
    "start_time": "2024-06-07T11:42:36.068Z"
   },
   {
    "duration": 16,
    "start_time": "2024-06-07T11:42:36.102Z"
   },
   {
    "duration": 15,
    "start_time": "2024-06-07T11:42:36.120Z"
   },
   {
    "duration": 4,
    "start_time": "2024-06-07T11:42:36.137Z"
   },
   {
    "duration": 6,
    "start_time": "2024-06-07T11:42:36.143Z"
   },
   {
    "duration": 6,
    "start_time": "2024-06-07T11:42:36.151Z"
   },
   {
    "duration": 49,
    "start_time": "2024-06-07T11:42:36.159Z"
   },
   {
    "duration": 36,
    "start_time": "2024-06-07T11:42:36.211Z"
   },
   {
    "duration": 51,
    "start_time": "2024-06-07T11:42:36.249Z"
   },
   {
    "duration": 473,
    "start_time": "2024-06-07T11:42:36.303Z"
   },
   {
    "duration": 374,
    "start_time": "2024-06-07T11:42:36.778Z"
   },
   {
    "duration": 102,
    "start_time": "2024-06-07T11:42:37.154Z"
   },
   {
    "duration": 19,
    "start_time": "2024-06-07T11:42:37.258Z"
   },
   {
    "duration": 96,
    "start_time": "2024-06-07T11:42:37.279Z"
   },
   {
    "duration": 81,
    "start_time": "2024-06-07T11:42:37.377Z"
   },
   {
    "duration": 70,
    "start_time": "2024-06-07T11:42:37.459Z"
   },
   {
    "duration": 5,
    "start_time": "2024-06-07T11:42:37.530Z"
   },
   {
    "duration": 97,
    "start_time": "2024-06-07T11:42:37.537Z"
   },
   {
    "duration": 223,
    "start_time": "2024-06-07T11:42:37.636Z"
   },
   {
    "duration": 7,
    "start_time": "2024-06-07T11:42:37.861Z"
   },
   {
    "duration": 231,
    "start_time": "2024-06-07T11:42:37.869Z"
   },
   {
    "duration": 10166,
    "start_time": "2024-06-07T11:42:38.102Z"
   },
   {
    "duration": 30,
    "start_time": "2024-06-07T11:42:48.270Z"
   },
   {
    "duration": 137,
    "start_time": "2024-06-07T11:42:48.302Z"
   },
   {
    "duration": 67,
    "start_time": "2024-06-07T11:42:48.441Z"
   },
   {
    "duration": 189,
    "start_time": "2024-06-07T11:42:48.511Z"
   },
   {
    "duration": 103,
    "start_time": "2024-06-07T11:42:48.701Z"
   },
   {
    "duration": 134,
    "start_time": "2024-06-07T11:42:48.805Z"
   },
   {
    "duration": 293,
    "start_time": "2024-06-07T11:42:48.941Z"
   },
   {
    "duration": 97,
    "start_time": "2024-06-07T11:42:49.235Z"
   },
   {
    "duration": 11,
    "start_time": "2024-06-07T11:42:49.333Z"
   },
   {
    "duration": 137,
    "start_time": "2024-06-07T11:42:49.346Z"
   },
   {
    "duration": 83,
    "start_time": "2024-06-07T11:42:49.485Z"
   },
   {
    "duration": 87,
    "start_time": "2024-06-07T11:42:49.570Z"
   },
   {
    "duration": 7,
    "start_time": "2024-06-07T11:42:49.659Z"
   },
   {
    "duration": 1707,
    "start_time": "2024-06-07T11:42:49.668Z"
   },
   {
    "duration": 24,
    "start_time": "2024-06-07T11:42:51.376Z"
   },
   {
    "duration": 165,
    "start_time": "2024-06-07T11:42:51.402Z"
   },
   {
    "duration": 8,
    "start_time": "2024-06-07T11:42:51.569Z"
   },
   {
    "duration": 91,
    "start_time": "2024-06-07T11:42:51.579Z"
   },
   {
    "duration": 9,
    "start_time": "2024-06-07T11:50:48.362Z"
   },
   {
    "duration": 12,
    "start_time": "2024-06-07T11:51:14.069Z"
   },
   {
    "duration": 13,
    "start_time": "2024-06-07T11:51:25.754Z"
   },
   {
    "duration": 9,
    "start_time": "2024-06-07T11:51:47.736Z"
   },
   {
    "duration": 12,
    "start_time": "2024-06-07T11:51:54.882Z"
   },
   {
    "duration": 1573,
    "start_time": "2024-06-07T18:03:40.048Z"
   },
   {
    "duration": 118,
    "start_time": "2024-06-07T18:03:41.623Z"
   },
   {
    "duration": 26,
    "start_time": "2024-06-07T18:03:41.743Z"
   },
   {
    "duration": 14,
    "start_time": "2024-06-07T18:03:41.771Z"
   },
   {
    "duration": 13,
    "start_time": "2024-06-07T18:03:41.786Z"
   },
   {
    "duration": 4,
    "start_time": "2024-06-07T18:03:41.800Z"
   },
   {
    "duration": 4,
    "start_time": "2024-06-07T18:03:41.811Z"
   },
   {
    "duration": 3,
    "start_time": "2024-06-07T18:03:41.817Z"
   },
   {
    "duration": 7,
    "start_time": "2024-06-07T18:03:41.822Z"
   },
   {
    "duration": 28,
    "start_time": "2024-06-07T18:03:41.832Z"
   },
   {
    "duration": 19,
    "start_time": "2024-06-07T18:03:41.861Z"
   },
   {
    "duration": 451,
    "start_time": "2024-06-07T18:03:41.881Z"
   },
   {
    "duration": 310,
    "start_time": "2024-06-07T18:03:42.334Z"
   },
   {
    "duration": 72,
    "start_time": "2024-06-07T18:03:42.646Z"
   },
   {
    "duration": 16,
    "start_time": "2024-06-07T18:03:42.719Z"
   },
   {
    "duration": 87,
    "start_time": "2024-06-07T18:03:42.737Z"
   },
   {
    "duration": 56,
    "start_time": "2024-06-07T18:03:42.825Z"
   },
   {
    "duration": 69,
    "start_time": "2024-06-07T18:03:42.882Z"
   },
   {
    "duration": 4,
    "start_time": "2024-06-07T18:03:42.953Z"
   },
   {
    "duration": 83,
    "start_time": "2024-06-07T18:03:42.958Z"
   },
   {
    "duration": 198,
    "start_time": "2024-06-07T18:03:43.042Z"
   },
   {
    "duration": 6,
    "start_time": "2024-06-07T18:03:43.242Z"
   },
   {
    "duration": 157,
    "start_time": "2024-06-07T18:03:43.250Z"
   },
   {
    "duration": 8667,
    "start_time": "2024-06-07T18:03:43.409Z"
   },
   {
    "duration": 9,
    "start_time": "2024-06-07T18:03:52.078Z"
   },
   {
    "duration": 155,
    "start_time": "2024-06-07T18:03:52.088Z"
   },
   {
    "duration": 12,
    "start_time": "2024-06-07T18:03:52.244Z"
   },
   {
    "duration": 183,
    "start_time": "2024-06-07T18:03:52.259Z"
   },
   {
    "duration": 103,
    "start_time": "2024-06-07T18:03:52.444Z"
   },
   {
    "duration": 119,
    "start_time": "2024-06-07T18:03:52.549Z"
   },
   {
    "duration": 244,
    "start_time": "2024-06-07T18:03:52.670Z"
   },
   {
    "duration": 69,
    "start_time": "2024-06-07T18:03:52.915Z"
   },
   {
    "duration": 27,
    "start_time": "2024-06-07T18:03:52.986Z"
   },
   {
    "duration": 103,
    "start_time": "2024-06-07T18:03:53.014Z"
   },
   {
    "duration": 67,
    "start_time": "2024-06-07T18:03:53.119Z"
   },
   {
    "duration": 84,
    "start_time": "2024-06-07T18:03:53.187Z"
   },
   {
    "duration": 6,
    "start_time": "2024-06-07T18:03:53.273Z"
   },
   {
    "duration": 1493,
    "start_time": "2024-06-07T18:03:53.280Z"
   },
   {
    "duration": 12,
    "start_time": "2024-06-07T18:03:54.774Z"
   },
   {
    "duration": 140,
    "start_time": "2024-06-07T18:03:54.788Z"
   },
   {
    "duration": 10,
    "start_time": "2024-06-07T18:03:54.929Z"
   },
   {
    "duration": 93,
    "start_time": "2024-06-07T18:03:54.940Z"
   },
   {
    "duration": 19,
    "start_time": "2024-06-07T18:16:07.307Z"
   },
   {
    "duration": 13,
    "start_time": "2024-06-07T18:16:27.923Z"
   },
   {
    "duration": 12,
    "start_time": "2024-06-07T18:16:38.914Z"
   },
   {
    "duration": 20,
    "start_time": "2024-06-07T18:17:36.183Z"
   },
   {
    "duration": 12,
    "start_time": "2024-06-07T18:17:47.269Z"
   },
   {
    "duration": 1471,
    "start_time": "2024-06-07T18:18:10.771Z"
   },
   {
    "duration": 67,
    "start_time": "2024-06-07T18:18:12.243Z"
   },
   {
    "duration": 26,
    "start_time": "2024-06-07T18:18:12.312Z"
   },
   {
    "duration": 14,
    "start_time": "2024-06-07T18:18:12.340Z"
   },
   {
    "duration": 7,
    "start_time": "2024-06-07T18:18:12.356Z"
   },
   {
    "duration": 5,
    "start_time": "2024-06-07T18:18:12.365Z"
   },
   {
    "duration": 5,
    "start_time": "2024-06-07T18:18:12.372Z"
   },
   {
    "duration": 34,
    "start_time": "2024-06-07T18:18:12.378Z"
   },
   {
    "duration": 12,
    "start_time": "2024-06-07T18:18:12.414Z"
   },
   {
    "duration": 31,
    "start_time": "2024-06-07T18:18:12.429Z"
   },
   {
    "duration": 22,
    "start_time": "2024-06-07T18:18:12.461Z"
   },
   {
    "duration": 453,
    "start_time": "2024-06-07T18:18:12.485Z"
   },
   {
    "duration": 332,
    "start_time": "2024-06-07T18:18:12.940Z"
   },
   {
    "duration": 73,
    "start_time": "2024-06-07T18:18:13.274Z"
   },
   {
    "duration": 17,
    "start_time": "2024-06-07T18:18:13.348Z"
   },
   {
    "duration": 89,
    "start_time": "2024-06-07T18:18:13.367Z"
   },
   {
    "duration": 68,
    "start_time": "2024-06-07T18:18:13.457Z"
   },
   {
    "duration": 60,
    "start_time": "2024-06-07T18:18:13.527Z"
   },
   {
    "duration": 25,
    "start_time": "2024-06-07T18:18:13.588Z"
   },
   {
    "duration": 74,
    "start_time": "2024-06-07T18:18:13.615Z"
   },
   {
    "duration": 204,
    "start_time": "2024-06-07T18:18:13.690Z"
   },
   {
    "duration": 7,
    "start_time": "2024-06-07T18:18:13.895Z"
   },
   {
    "duration": 125,
    "start_time": "2024-06-07T18:18:13.903Z"
   },
   {
    "duration": 8866,
    "start_time": "2024-06-07T18:18:14.029Z"
   },
   {
    "duration": 18,
    "start_time": "2024-06-07T18:18:22.897Z"
   },
   {
    "duration": 133,
    "start_time": "2024-06-07T18:18:22.917Z"
   },
   {
    "duration": 67,
    "start_time": "2024-06-07T18:18:23.052Z"
   },
   {
    "duration": 125,
    "start_time": "2024-06-07T18:18:23.122Z"
   },
   {
    "duration": 121,
    "start_time": "2024-06-07T18:18:23.248Z"
   },
   {
    "duration": 125,
    "start_time": "2024-06-07T18:18:23.370Z"
   },
   {
    "duration": 280,
    "start_time": "2024-06-07T18:18:23.497Z"
   },
   {
    "duration": 87,
    "start_time": "2024-06-07T18:18:23.778Z"
   },
   {
    "duration": 8,
    "start_time": "2024-06-07T18:18:23.866Z"
   },
   {
    "duration": 116,
    "start_time": "2024-06-07T18:18:23.875Z"
   },
   {
    "duration": 86,
    "start_time": "2024-06-07T18:18:23.993Z"
   },
   {
    "duration": 90,
    "start_time": "2024-06-07T18:18:24.081Z"
   },
   {
    "duration": 6,
    "start_time": "2024-06-07T18:18:24.173Z"
   },
   {
    "duration": 1547,
    "start_time": "2024-06-07T18:18:24.180Z"
   },
   {
    "duration": 12,
    "start_time": "2024-06-07T18:18:25.729Z"
   },
   {
    "duration": 147,
    "start_time": "2024-06-07T18:18:25.743Z"
   },
   {
    "duration": 25,
    "start_time": "2024-06-07T18:18:25.892Z"
   },
   {
    "duration": 72,
    "start_time": "2024-06-07T18:18:25.919Z"
   },
   {
    "duration": 163,
    "start_time": "2024-06-07T18:22:23.196Z"
   },
   {
    "duration": 12,
    "start_time": "2024-06-07T18:22:27.248Z"
   },
   {
    "duration": 12,
    "start_time": "2024-06-07T18:22:56.009Z"
   },
   {
    "duration": 22,
    "start_time": "2024-06-07T18:23:19.445Z"
   },
   {
    "duration": 25,
    "start_time": "2024-06-07T18:25:04.017Z"
   },
   {
    "duration": 13,
    "start_time": "2024-06-07T18:35:14.223Z"
   },
   {
    "duration": 14,
    "start_time": "2024-06-07T18:35:29.415Z"
   },
   {
    "duration": 14,
    "start_time": "2024-06-07T18:36:13.233Z"
   },
   {
    "duration": 12,
    "start_time": "2024-06-07T18:37:02.349Z"
   },
   {
    "duration": 1415,
    "start_time": "2024-06-07T18:37:35.034Z"
   },
   {
    "duration": 67,
    "start_time": "2024-06-07T18:37:36.450Z"
   },
   {
    "duration": 27,
    "start_time": "2024-06-07T18:37:36.518Z"
   },
   {
    "duration": 15,
    "start_time": "2024-06-07T18:37:36.546Z"
   },
   {
    "duration": 12,
    "start_time": "2024-06-07T18:37:36.562Z"
   },
   {
    "duration": 4,
    "start_time": "2024-06-07T18:37:36.576Z"
   },
   {
    "duration": 31,
    "start_time": "2024-06-07T18:37:36.581Z"
   },
   {
    "duration": 4,
    "start_time": "2024-06-07T18:37:36.613Z"
   },
   {
    "duration": 8,
    "start_time": "2024-06-07T18:37:36.619Z"
   },
   {
    "duration": 29,
    "start_time": "2024-06-07T18:37:36.629Z"
   },
   {
    "duration": 21,
    "start_time": "2024-06-07T18:37:36.659Z"
   },
   {
    "duration": 449,
    "start_time": "2024-06-07T18:37:36.682Z"
   },
   {
    "duration": 316,
    "start_time": "2024-06-07T18:37:37.132Z"
   },
   {
    "duration": 73,
    "start_time": "2024-06-07T18:37:37.450Z"
   },
   {
    "duration": 17,
    "start_time": "2024-06-07T18:37:37.524Z"
   },
   {
    "duration": 85,
    "start_time": "2024-06-07T18:37:37.542Z"
   },
   {
    "duration": 55,
    "start_time": "2024-06-07T18:37:37.628Z"
   },
   {
    "duration": 70,
    "start_time": "2024-06-07T18:37:37.685Z"
   },
   {
    "duration": 4,
    "start_time": "2024-06-07T18:37:37.757Z"
   },
   {
    "duration": 89,
    "start_time": "2024-06-07T18:37:37.762Z"
   },
   {
    "duration": 197,
    "start_time": "2024-06-07T18:37:37.853Z"
   },
   {
    "duration": 6,
    "start_time": "2024-06-07T18:37:38.051Z"
   },
   {
    "duration": 112,
    "start_time": "2024-06-07T18:37:38.058Z"
   },
   {
    "duration": 8713,
    "start_time": "2024-06-07T18:37:38.172Z"
   },
   {
    "duration": 29,
    "start_time": "2024-06-07T18:37:46.886Z"
   },
   {
    "duration": 136,
    "start_time": "2024-06-07T18:37:46.916Z"
   },
   {
    "duration": 69,
    "start_time": "2024-06-07T18:37:47.053Z"
   },
   {
    "duration": 130,
    "start_time": "2024-06-07T18:37:47.126Z"
   },
   {
    "duration": 100,
    "start_time": "2024-06-07T18:37:47.258Z"
   },
   {
    "duration": 129,
    "start_time": "2024-06-07T18:37:47.359Z"
   },
   {
    "duration": 270,
    "start_time": "2024-06-07T18:37:47.490Z"
   },
   {
    "duration": 90,
    "start_time": "2024-06-07T18:37:47.762Z"
   },
   {
    "duration": 6,
    "start_time": "2024-06-07T18:37:47.854Z"
   },
   {
    "duration": 114,
    "start_time": "2024-06-07T18:37:47.862Z"
   },
   {
    "duration": 82,
    "start_time": "2024-06-07T18:37:47.978Z"
   },
   {
    "duration": 92,
    "start_time": "2024-06-07T18:37:48.061Z"
   },
   {
    "duration": 6,
    "start_time": "2024-06-07T18:37:48.155Z"
   },
   {
    "duration": 1460,
    "start_time": "2024-06-07T18:37:48.162Z"
   },
   {
    "duration": 12,
    "start_time": "2024-06-07T18:37:49.624Z"
   },
   {
    "duration": 138,
    "start_time": "2024-06-07T18:37:49.637Z"
   },
   {
    "duration": 9,
    "start_time": "2024-06-07T18:37:49.777Z"
   },
   {
    "duration": 84,
    "start_time": "2024-06-07T18:37:49.788Z"
   },
   {
    "duration": 13,
    "start_time": "2024-06-07T18:42:14.873Z"
   },
   {
    "duration": 1436,
    "start_time": "2024-06-07T18:42:21.467Z"
   },
   {
    "duration": 64,
    "start_time": "2024-06-07T18:42:22.905Z"
   },
   {
    "duration": 25,
    "start_time": "2024-06-07T18:42:22.971Z"
   },
   {
    "duration": 16,
    "start_time": "2024-06-07T18:42:22.998Z"
   },
   {
    "duration": 12,
    "start_time": "2024-06-07T18:42:23.015Z"
   },
   {
    "duration": 4,
    "start_time": "2024-06-07T18:42:23.029Z"
   },
   {
    "duration": 5,
    "start_time": "2024-06-07T18:42:23.034Z"
   },
   {
    "duration": 4,
    "start_time": "2024-06-07T18:42:23.040Z"
   },
   {
    "duration": 8,
    "start_time": "2024-06-07T18:42:23.045Z"
   },
   {
    "duration": 60,
    "start_time": "2024-06-07T18:42:23.056Z"
   },
   {
    "duration": 25,
    "start_time": "2024-06-07T18:42:23.117Z"
   },
   {
    "duration": 453,
    "start_time": "2024-06-07T18:42:23.143Z"
   },
   {
    "duration": 353,
    "start_time": "2024-06-07T18:42:23.598Z"
   },
   {
    "duration": 83,
    "start_time": "2024-06-07T18:42:23.953Z"
   },
   {
    "duration": 16,
    "start_time": "2024-06-07T18:42:24.038Z"
   },
   {
    "duration": 84,
    "start_time": "2024-06-07T18:42:24.055Z"
   },
   {
    "duration": 54,
    "start_time": "2024-06-07T18:42:24.140Z"
   },
   {
    "duration": 66,
    "start_time": "2024-06-07T18:42:24.196Z"
   },
   {
    "duration": 5,
    "start_time": "2024-06-07T18:42:24.263Z"
   },
   {
    "duration": 88,
    "start_time": "2024-06-07T18:42:24.269Z"
   },
   {
    "duration": 193,
    "start_time": "2024-06-07T18:42:24.359Z"
   },
   {
    "duration": 6,
    "start_time": "2024-06-07T18:42:24.553Z"
   },
   {
    "duration": 115,
    "start_time": "2024-06-07T18:42:24.560Z"
   },
   {
    "duration": 9352,
    "start_time": "2024-06-07T18:42:24.676Z"
   },
   {
    "duration": 10,
    "start_time": "2024-06-07T18:42:34.030Z"
   },
   {
    "duration": 185,
    "start_time": "2024-06-07T18:42:34.042Z"
   },
   {
    "duration": 12,
    "start_time": "2024-06-07T18:42:34.228Z"
   },
   {
    "duration": 172,
    "start_time": "2024-06-07T18:42:34.243Z"
   },
   {
    "duration": 66,
    "start_time": "2024-06-07T18:42:34.416Z"
   },
   {
    "duration": 142,
    "start_time": "2024-06-07T18:42:34.484Z"
   },
   {
    "duration": 252,
    "start_time": "2024-06-07T18:42:34.628Z"
   },
   {
    "duration": 85,
    "start_time": "2024-06-07T18:42:34.881Z"
   },
   {
    "duration": 6,
    "start_time": "2024-06-07T18:42:34.968Z"
   },
   {
    "duration": 119,
    "start_time": "2024-06-07T18:42:34.975Z"
   },
   {
    "duration": 79,
    "start_time": "2024-06-07T18:42:35.095Z"
   },
   {
    "duration": 83,
    "start_time": "2024-06-07T18:42:35.176Z"
   },
   {
    "duration": 6,
    "start_time": "2024-06-07T18:42:35.261Z"
   },
   {
    "duration": 1424,
    "start_time": "2024-06-07T18:42:35.268Z"
   },
   {
    "duration": 19,
    "start_time": "2024-06-07T18:42:36.693Z"
   },
   {
    "duration": 132,
    "start_time": "2024-06-07T18:42:36.714Z"
   },
   {
    "duration": 9,
    "start_time": "2024-06-07T18:42:36.847Z"
   },
   {
    "duration": 85,
    "start_time": "2024-06-07T18:42:36.858Z"
   },
   {
    "duration": 1405,
    "start_time": "2024-06-07T18:50:08.224Z"
   },
   {
    "duration": 66,
    "start_time": "2024-06-07T18:50:09.631Z"
   },
   {
    "duration": 28,
    "start_time": "2024-06-07T18:50:09.698Z"
   },
   {
    "duration": 40,
    "start_time": "2024-06-07T18:50:09.728Z"
   },
   {
    "duration": 13,
    "start_time": "2024-06-07T18:50:09.770Z"
   },
   {
    "duration": 4,
    "start_time": "2024-06-07T18:50:09.785Z"
   },
   {
    "duration": 6,
    "start_time": "2024-06-07T18:50:09.790Z"
   },
   {
    "duration": 6,
    "start_time": "2024-06-07T18:50:09.797Z"
   },
   {
    "duration": 8,
    "start_time": "2024-06-07T18:50:09.811Z"
   },
   {
    "duration": 30,
    "start_time": "2024-06-07T18:50:09.821Z"
   },
   {
    "duration": 20,
    "start_time": "2024-06-07T18:50:09.852Z"
   },
   {
    "duration": 469,
    "start_time": "2024-06-07T18:50:09.873Z"
   },
   {
    "duration": 312,
    "start_time": "2024-06-07T18:50:10.344Z"
   },
   {
    "duration": 73,
    "start_time": "2024-06-07T18:50:10.658Z"
   },
   {
    "duration": 17,
    "start_time": "2024-06-07T18:50:10.732Z"
   },
   {
    "duration": 88,
    "start_time": "2024-06-07T18:50:10.750Z"
   },
   {
    "duration": 56,
    "start_time": "2024-06-07T18:50:10.840Z"
   },
   {
    "duration": 67,
    "start_time": "2024-06-07T18:50:10.912Z"
   },
   {
    "duration": 5,
    "start_time": "2024-06-07T18:50:10.981Z"
   },
   {
    "duration": 91,
    "start_time": "2024-06-07T18:50:10.988Z"
   },
   {
    "duration": 203,
    "start_time": "2024-06-07T18:50:11.080Z"
   },
   {
    "duration": 6,
    "start_time": "2024-06-07T18:50:11.285Z"
   },
   {
    "duration": 112,
    "start_time": "2024-06-07T18:50:11.292Z"
   },
   {
    "duration": 8566,
    "start_time": "2024-06-07T18:50:11.406Z"
   },
   {
    "duration": 10,
    "start_time": "2024-06-07T18:50:19.974Z"
   },
   {
    "duration": 166,
    "start_time": "2024-06-07T18:50:19.986Z"
   },
   {
    "duration": 67,
    "start_time": "2024-06-07T18:50:20.154Z"
   },
   {
    "duration": 129,
    "start_time": "2024-06-07T18:50:20.224Z"
   },
   {
    "duration": 109,
    "start_time": "2024-06-07T18:50:20.354Z"
   },
   {
    "duration": 165,
    "start_time": "2024-06-07T18:50:20.465Z"
   },
   {
    "duration": 268,
    "start_time": "2024-06-07T18:50:20.631Z"
   },
   {
    "duration": 87,
    "start_time": "2024-06-07T18:50:20.900Z"
   },
   {
    "duration": 27,
    "start_time": "2024-06-07T18:50:20.988Z"
   },
   {
    "duration": 107,
    "start_time": "2024-06-07T18:50:21.016Z"
   },
   {
    "duration": 101,
    "start_time": "2024-06-07T18:50:21.125Z"
   },
   {
    "duration": 65,
    "start_time": "2024-06-07T18:50:21.227Z"
   },
   {
    "duration": 23,
    "start_time": "2024-06-07T18:50:21.293Z"
   },
   {
    "duration": 1475,
    "start_time": "2024-06-07T18:50:21.318Z"
   },
   {
    "duration": 28,
    "start_time": "2024-06-07T18:50:22.794Z"
   },
   {
    "duration": 145,
    "start_time": "2024-06-07T18:50:22.823Z"
   },
   {
    "duration": 11,
    "start_time": "2024-06-07T18:50:22.970Z"
   },
   {
    "duration": 94,
    "start_time": "2024-06-07T18:50:22.983Z"
   },
   {
    "duration": 1442,
    "start_time": "2024-06-07T19:12:07.881Z"
   },
   {
    "duration": 64,
    "start_time": "2024-06-07T19:12:09.324Z"
   },
   {
    "duration": 25,
    "start_time": "2024-06-07T19:12:09.390Z"
   },
   {
    "duration": 14,
    "start_time": "2024-06-07T19:12:09.418Z"
   },
   {
    "duration": 13,
    "start_time": "2024-06-07T19:12:09.433Z"
   },
   {
    "duration": 5,
    "start_time": "2024-06-07T19:12:09.447Z"
   },
   {
    "duration": 6,
    "start_time": "2024-06-07T19:12:09.453Z"
   },
   {
    "duration": 4,
    "start_time": "2024-06-07T19:12:09.460Z"
   },
   {
    "duration": 47,
    "start_time": "2024-06-07T19:12:09.466Z"
   },
   {
    "duration": 28,
    "start_time": "2024-06-07T19:12:09.516Z"
   },
   {
    "duration": 20,
    "start_time": "2024-06-07T19:12:09.546Z"
   },
   {
    "duration": 446,
    "start_time": "2024-06-07T19:12:09.568Z"
   },
   {
    "duration": 314,
    "start_time": "2024-06-07T19:12:10.015Z"
   },
   {
    "duration": 64,
    "start_time": "2024-06-07T19:12:10.330Z"
   },
   {
    "duration": 25,
    "start_time": "2024-06-07T19:12:10.396Z"
   },
   {
    "duration": 68,
    "start_time": "2024-06-07T19:12:10.422Z"
   },
   {
    "duration": 69,
    "start_time": "2024-06-07T19:12:10.491Z"
   },
   {
    "duration": 63,
    "start_time": "2024-06-07T19:12:10.561Z"
   },
   {
    "duration": 4,
    "start_time": "2024-06-07T19:12:10.626Z"
   },
   {
    "duration": 84,
    "start_time": "2024-06-07T19:12:10.631Z"
   },
   {
    "duration": 196,
    "start_time": "2024-06-07T19:12:10.716Z"
   },
   {
    "duration": 6,
    "start_time": "2024-06-07T19:12:10.914Z"
   },
   {
    "duration": 116,
    "start_time": "2024-06-07T19:12:10.921Z"
   },
   {
    "duration": 8526,
    "start_time": "2024-06-07T19:12:11.039Z"
   },
   {
    "duration": 7,
    "start_time": "2024-06-07T19:12:19.567Z"
   },
   {
    "duration": 151,
    "start_time": "2024-06-07T19:12:19.575Z"
   },
   {
    "duration": 13,
    "start_time": "2024-06-07T19:12:19.728Z"
   },
   {
    "duration": 172,
    "start_time": "2024-06-07T19:12:19.744Z"
   },
   {
    "duration": 69,
    "start_time": "2024-06-07T19:12:19.918Z"
   },
   {
    "duration": 133,
    "start_time": "2024-06-07T19:12:19.989Z"
   },
   {
    "duration": 250,
    "start_time": "2024-06-07T19:12:20.123Z"
   },
   {
    "duration": 81,
    "start_time": "2024-06-07T19:12:20.375Z"
   },
   {
    "duration": 7,
    "start_time": "2024-06-07T19:12:20.458Z"
   },
   {
    "duration": 107,
    "start_time": "2024-06-07T19:12:20.466Z"
   },
   {
    "duration": 75,
    "start_time": "2024-06-07T19:12:20.575Z"
   },
   {
    "duration": 75,
    "start_time": "2024-06-07T19:12:20.652Z"
   },
   {
    "duration": 6,
    "start_time": "2024-06-07T19:12:20.728Z"
   },
   {
    "duration": 1522,
    "start_time": "2024-06-07T19:12:20.736Z"
   },
   {
    "duration": 14,
    "start_time": "2024-06-07T19:12:22.259Z"
   },
   {
    "duration": 151,
    "start_time": "2024-06-07T19:12:22.274Z"
   },
   {
    "duration": 11,
    "start_time": "2024-06-07T19:12:22.427Z"
   },
   {
    "duration": 124,
    "start_time": "2024-06-07T19:12:22.440Z"
   },
   {
    "duration": 1634,
    "start_time": "2024-06-07T20:12:13.066Z"
   },
   {
    "duration": 128,
    "start_time": "2024-06-07T20:12:14.702Z"
   },
   {
    "duration": 36,
    "start_time": "2024-06-07T20:12:14.832Z"
   },
   {
    "duration": 15,
    "start_time": "2024-06-07T20:12:14.870Z"
   },
   {
    "duration": 16,
    "start_time": "2024-06-07T20:12:14.886Z"
   },
   {
    "duration": 28,
    "start_time": "2024-06-07T20:12:14.904Z"
   },
   {
    "duration": 27,
    "start_time": "2024-06-07T20:12:14.934Z"
   },
   {
    "duration": 5,
    "start_time": "2024-06-07T20:12:14.963Z"
   },
   {
    "duration": 11,
    "start_time": "2024-06-07T20:12:14.970Z"
   },
   {
    "duration": 43,
    "start_time": "2024-06-07T20:12:14.984Z"
   },
   {
    "duration": 42,
    "start_time": "2024-06-07T20:12:15.028Z"
   },
   {
    "duration": 1105,
    "start_time": "2024-06-07T20:12:15.071Z"
   },
   {
    "duration": 349,
    "start_time": "2024-06-07T20:12:16.177Z"
   },
   {
    "duration": 70,
    "start_time": "2024-06-07T20:12:16.528Z"
   },
   {
    "duration": 16,
    "start_time": "2024-06-07T20:12:16.600Z"
   },
   {
    "duration": 90,
    "start_time": "2024-06-07T20:12:16.617Z"
   },
   {
    "duration": 69,
    "start_time": "2024-06-07T20:12:16.709Z"
   },
   {
    "duration": 53,
    "start_time": "2024-06-07T20:12:16.779Z"
   },
   {
    "duration": 5,
    "start_time": "2024-06-07T20:12:16.833Z"
   },
   {
    "duration": 97,
    "start_time": "2024-06-07T20:12:16.839Z"
   },
   {
    "duration": 201,
    "start_time": "2024-06-07T20:12:16.937Z"
   },
   {
    "duration": 6,
    "start_time": "2024-06-07T20:12:17.139Z"
   },
   {
    "duration": 245,
    "start_time": "2024-06-07T20:12:17.147Z"
   },
   {
    "duration": 9129,
    "start_time": "2024-06-07T20:12:17.393Z"
   },
   {
    "duration": 8,
    "start_time": "2024-06-07T20:12:26.525Z"
   },
   {
    "duration": 147,
    "start_time": "2024-06-07T20:12:26.535Z"
   },
   {
    "duration": 12,
    "start_time": "2024-06-07T20:12:26.683Z"
   },
   {
    "duration": 178,
    "start_time": "2024-06-07T20:12:26.698Z"
   },
   {
    "duration": 69,
    "start_time": "2024-06-07T20:12:26.877Z"
   },
   {
    "duration": 295,
    "start_time": "2024-06-07T20:12:26.947Z"
   },
   {
    "duration": 124,
    "start_time": "2024-06-07T20:12:27.244Z"
   },
   {
    "duration": 67,
    "start_time": "2024-06-07T20:12:27.370Z"
   },
   {
    "duration": 36,
    "start_time": "2024-06-07T20:12:27.439Z"
   },
   {
    "duration": 129,
    "start_time": "2024-06-07T20:12:27.477Z"
   },
   {
    "duration": 84,
    "start_time": "2024-06-07T20:12:27.607Z"
   },
   {
    "duration": 88,
    "start_time": "2024-06-07T20:12:27.693Z"
   },
   {
    "duration": 6,
    "start_time": "2024-06-07T20:12:27.783Z"
   },
   {
    "duration": 1561,
    "start_time": "2024-06-07T20:12:27.791Z"
   },
   {
    "duration": 20,
    "start_time": "2024-06-07T20:12:29.354Z"
   },
   {
    "duration": 148,
    "start_time": "2024-06-07T20:12:29.376Z"
   },
   {
    "duration": 10,
    "start_time": "2024-06-07T20:12:29.526Z"
   },
   {
    "duration": 85,
    "start_time": "2024-06-07T20:12:29.538Z"
   }
  ],
  "kernelspec": {
   "display_name": "Python 3 (ipykernel)",
   "language": "python",
   "name": "python3"
  },
  "language_info": {
   "codemirror_mode": {
    "name": "ipython",
    "version": 3
   },
   "file_extension": ".py",
   "mimetype": "text/x-python",
   "name": "python",
   "nbconvert_exporter": "python",
   "pygments_lexer": "ipython3",
   "version": "3.11.5"
  },
  "toc": {
   "base_numbering": 1,
   "nav_menu": {
    "height": "370px",
    "width": "652px"
   },
   "number_sections": true,
   "sideBar": true,
   "skip_h1_title": true,
   "title_cell": "Table of Contents",
   "title_sidebar": "Contents",
   "toc_cell": false,
   "toc_position": {
    "height": "466px",
    "left": "25px",
    "top": "149.125px",
    "width": "184.391px"
   },
   "toc_section_display": true,
   "toc_window_display": true
  }
 },
 "nbformat": 4,
 "nbformat_minor": 2
}
