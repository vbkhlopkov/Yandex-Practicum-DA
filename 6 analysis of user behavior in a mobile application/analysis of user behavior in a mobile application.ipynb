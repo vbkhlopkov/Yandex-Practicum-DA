{
 "cells": [
  {
   "cell_type": "markdown",
   "metadata": {},
   "source": [
    "### Откроем файл с данными и изучим общую информацию"
   ]
  },
  {
   "cell_type": "code",
   "execution_count": 1,
   "metadata": {},
   "outputs": [],
   "source": [
    "import pandas as pd\n",
    "import scipy.stats as st\n",
    "import datetime as dt\n",
    "import numpy as np\n",
    "import math as mth\n",
    "import matplotlib.pyplot as plt"
   ]
  },
  {
   "cell_type": "code",
   "execution_count": 2,
   "metadata": {},
   "outputs": [],
   "source": [
    "data = pd.read_csv('/datasets/logs_exp.csv', sep='\\t')"
   ]
  },
  {
   "cell_type": "code",
   "execution_count": 3,
   "metadata": {},
   "outputs": [
    {
     "name": "stdout",
     "output_type": "stream",
     "text": [
      "<class 'pandas.core.frame.DataFrame'>\n",
      "RangeIndex: 244126 entries, 0 to 244125\n",
      "Data columns (total 4 columns):\n",
      " #   Column          Non-Null Count   Dtype \n",
      "---  ------          --------------   ----- \n",
      " 0   EventName       244126 non-null  object\n",
      " 1   DeviceIDHash    244126 non-null  int64 \n",
      " 2   EventTimestamp  244126 non-null  int64 \n",
      " 3   ExpId           244126 non-null  int64 \n",
      "dtypes: int64(3), object(1)\n",
      "memory usage: 7.5+ MB\n"
     ]
    },
    {
     "data": {
      "text/html": [
       "<div>\n",
       "<style scoped>\n",
       "    .dataframe tbody tr th:only-of-type {\n",
       "        vertical-align: middle;\n",
       "    }\n",
       "\n",
       "    .dataframe tbody tr th {\n",
       "        vertical-align: top;\n",
       "    }\n",
       "\n",
       "    .dataframe thead th {\n",
       "        text-align: right;\n",
       "    }\n",
       "</style>\n",
       "<table border=\"1\" class=\"dataframe\">\n",
       "  <thead>\n",
       "    <tr style=\"text-align: right;\">\n",
       "      <th></th>\n",
       "      <th>EventName</th>\n",
       "      <th>DeviceIDHash</th>\n",
       "      <th>EventTimestamp</th>\n",
       "      <th>ExpId</th>\n",
       "    </tr>\n",
       "  </thead>\n",
       "  <tbody>\n",
       "    <tr>\n",
       "      <th>0</th>\n",
       "      <td>MainScreenAppear</td>\n",
       "      <td>4575588528974610257</td>\n",
       "      <td>1564029816</td>\n",
       "      <td>246</td>\n",
       "    </tr>\n",
       "    <tr>\n",
       "      <th>1</th>\n",
       "      <td>MainScreenAppear</td>\n",
       "      <td>7416695313311560658</td>\n",
       "      <td>1564053102</td>\n",
       "      <td>246</td>\n",
       "    </tr>\n",
       "    <tr>\n",
       "      <th>2</th>\n",
       "      <td>PaymentScreenSuccessful</td>\n",
       "      <td>3518123091307005509</td>\n",
       "      <td>1564054127</td>\n",
       "      <td>248</td>\n",
       "    </tr>\n",
       "    <tr>\n",
       "      <th>3</th>\n",
       "      <td>CartScreenAppear</td>\n",
       "      <td>3518123091307005509</td>\n",
       "      <td>1564054127</td>\n",
       "      <td>248</td>\n",
       "    </tr>\n",
       "    <tr>\n",
       "      <th>4</th>\n",
       "      <td>PaymentScreenSuccessful</td>\n",
       "      <td>6217807653094995999</td>\n",
       "      <td>1564055322</td>\n",
       "      <td>248</td>\n",
       "    </tr>\n",
       "  </tbody>\n",
       "</table>\n",
       "</div>"
      ],
      "text/plain": [
       "                 EventName         DeviceIDHash  EventTimestamp  ExpId\n",
       "0         MainScreenAppear  4575588528974610257      1564029816    246\n",
       "1         MainScreenAppear  7416695313311560658      1564053102    246\n",
       "2  PaymentScreenSuccessful  3518123091307005509      1564054127    248\n",
       "3         CartScreenAppear  3518123091307005509      1564054127    248\n",
       "4  PaymentScreenSuccessful  6217807653094995999      1564055322    248"
      ]
     },
     "execution_count": 3,
     "metadata": {},
     "output_type": "execute_result"
    }
   ],
   "source": [
    "data.info()\n",
    "data.head()"
   ]
  },
  {
   "cell_type": "markdown",
   "metadata": {},
   "source": [
    "По результатам изучения общей информации можно сделать следующие выводы:  \n",
    "- Количество строк в столбцах не различается. Значит, в данных нет пропущенных значений. \n",
    "- В данных присутствуют некорректные названия столбцов и некорректный тип данных в столбце `EventTimestamp`, которые нужно исправить."
   ]
  },
  {
   "cell_type": "markdown",
   "metadata": {},
   "source": [
    "### Подготовим данные\n",
    "#### Заменим названия столбцов."
   ]
  },
  {
   "cell_type": "code",
   "execution_count": 4,
   "metadata": {},
   "outputs": [
    {
     "data": {
      "text/plain": [
       "Index(['event_name', 'device_id_hash', 'event_timestamp', 'exp_id'], dtype='object')"
      ]
     },
     "execution_count": 4,
     "metadata": {},
     "output_type": "execute_result"
    }
   ],
   "source": [
    "data = data.rename(columns={\n",
    "                            'EventName':'event_name',\n",
    "                            'DeviceIDHash':'device_id_hash',\n",
    "                            'EventTimestamp':'event_timestamp',\n",
    "                            'ExpId':'exp_id'\n",
    "                            })\n",
    "data.columns"
   ]
  },
  {
   "cell_type": "markdown",
   "metadata": {},
   "source": [
    "#### Преобразуем данные в нужные типы."
   ]
  },
  {
   "cell_type": "code",
   "execution_count": 5,
   "metadata": {},
   "outputs": [
    {
     "name": "stdout",
     "output_type": "stream",
     "text": [
      "<class 'pandas.core.frame.DataFrame'>\n",
      "RangeIndex: 244126 entries, 0 to 244125\n",
      "Data columns (total 4 columns):\n",
      " #   Column           Non-Null Count   Dtype         \n",
      "---  ------           --------------   -----         \n",
      " 0   event_name       244126 non-null  object        \n",
      " 1   device_id_hash   244126 non-null  int64         \n",
      " 2   event_timestamp  244126 non-null  datetime64[ns]\n",
      " 3   exp_id           244126 non-null  int64         \n",
      "dtypes: datetime64[ns](1), int64(2), object(1)\n",
      "memory usage: 7.5+ MB\n"
     ]
    },
    {
     "data": {
      "text/html": [
       "<div>\n",
       "<style scoped>\n",
       "    .dataframe tbody tr th:only-of-type {\n",
       "        vertical-align: middle;\n",
       "    }\n",
       "\n",
       "    .dataframe tbody tr th {\n",
       "        vertical-align: top;\n",
       "    }\n",
       "\n",
       "    .dataframe thead th {\n",
       "        text-align: right;\n",
       "    }\n",
       "</style>\n",
       "<table border=\"1\" class=\"dataframe\">\n",
       "  <thead>\n",
       "    <tr style=\"text-align: right;\">\n",
       "      <th></th>\n",
       "      <th>event_name</th>\n",
       "      <th>device_id_hash</th>\n",
       "      <th>event_timestamp</th>\n",
       "      <th>exp_id</th>\n",
       "    </tr>\n",
       "  </thead>\n",
       "  <tbody>\n",
       "    <tr>\n",
       "      <th>0</th>\n",
       "      <td>MainScreenAppear</td>\n",
       "      <td>4575588528974610257</td>\n",
       "      <td>2019-07-25 04:43:36</td>\n",
       "      <td>246</td>\n",
       "    </tr>\n",
       "    <tr>\n",
       "      <th>1</th>\n",
       "      <td>MainScreenAppear</td>\n",
       "      <td>7416695313311560658</td>\n",
       "      <td>2019-07-25 11:11:42</td>\n",
       "      <td>246</td>\n",
       "    </tr>\n",
       "    <tr>\n",
       "      <th>2</th>\n",
       "      <td>PaymentScreenSuccessful</td>\n",
       "      <td>3518123091307005509</td>\n",
       "      <td>2019-07-25 11:28:47</td>\n",
       "      <td>248</td>\n",
       "    </tr>\n",
       "    <tr>\n",
       "      <th>3</th>\n",
       "      <td>CartScreenAppear</td>\n",
       "      <td>3518123091307005509</td>\n",
       "      <td>2019-07-25 11:28:47</td>\n",
       "      <td>248</td>\n",
       "    </tr>\n",
       "    <tr>\n",
       "      <th>4</th>\n",
       "      <td>PaymentScreenSuccessful</td>\n",
       "      <td>6217807653094995999</td>\n",
       "      <td>2019-07-25 11:48:42</td>\n",
       "      <td>248</td>\n",
       "    </tr>\n",
       "  </tbody>\n",
       "</table>\n",
       "</div>"
      ],
      "text/plain": [
       "                event_name       device_id_hash     event_timestamp  exp_id\n",
       "0         MainScreenAppear  4575588528974610257 2019-07-25 04:43:36     246\n",
       "1         MainScreenAppear  7416695313311560658 2019-07-25 11:11:42     246\n",
       "2  PaymentScreenSuccessful  3518123091307005509 2019-07-25 11:28:47     248\n",
       "3         CartScreenAppear  3518123091307005509 2019-07-25 11:28:47     248\n",
       "4  PaymentScreenSuccessful  6217807653094995999 2019-07-25 11:48:42     248"
      ]
     },
     "execution_count": 5,
     "metadata": {},
     "output_type": "execute_result"
    }
   ],
   "source": [
    "data['event_timestamp'] = pd.to_datetime(data['event_timestamp'], unit='s')\n",
    "data.info()\n",
    "data.head()"
   ]
  },
  {
   "cell_type": "markdown",
   "metadata": {},
   "source": [
    "#### Проверим данные на пропуски."
   ]
  },
  {
   "cell_type": "code",
   "execution_count": 6,
   "metadata": {},
   "outputs": [
    {
     "data": {
      "text/plain": [
       "event_name         0\n",
       "device_id_hash     0\n",
       "event_timestamp    0\n",
       "exp_id             0\n",
       "dtype: int64"
      ]
     },
     "execution_count": 6,
     "metadata": {},
     "output_type": "execute_result"
    }
   ],
   "source": [
    "data.isna().sum()"
   ]
  },
  {
   "cell_type": "markdown",
   "metadata": {},
   "source": [
    "В данных отсутствуют пропуски."
   ]
  },
  {
   "cell_type": "markdown",
   "metadata": {},
   "source": [
    "#### Проверим данные на явные и неявные дубликаты."
   ]
  },
  {
   "cell_type": "code",
   "execution_count": 7,
   "metadata": {},
   "outputs": [
    {
     "name": "stdout",
     "output_type": "stream",
     "text": [
      "Количество явных дубликатов: 413\n"
     ]
    }
   ],
   "source": [
    "print('Количество явных дубликатов:', data.duplicated().sum())"
   ]
  },
  {
   "cell_type": "markdown",
   "metadata": {},
   "source": [
    "Так как явных дубликатов относительно мало, удалим их."
   ]
  },
  {
   "cell_type": "code",
   "execution_count": 8,
   "metadata": {},
   "outputs": [
    {
     "name": "stdout",
     "output_type": "stream",
     "text": [
      "Количество явных дубликатов: 0\n"
     ]
    }
   ],
   "source": [
    "data = data.drop_duplicates()\n",
    "print('Количество явных дубликатов:', data.duplicated().sum())"
   ]
  },
  {
   "cell_type": "code",
   "execution_count": 9,
   "metadata": {},
   "outputs": [
    {
     "data": {
      "text/plain": [
       "array(['MainScreenAppear', 'PaymentScreenSuccessful', 'CartScreenAppear',\n",
       "       'OffersScreenAppear', 'Tutorial'], dtype=object)"
      ]
     },
     "execution_count": 9,
     "metadata": {},
     "output_type": "execute_result"
    }
   ],
   "source": [
    "# проверка неявных дубликатов в столбце с событиями\n",
    "data['event_name'].unique()"
   ]
  },
  {
   "cell_type": "markdown",
   "metadata": {},
   "source": [
    "В данных отсутствуют неявные дубликаты."
   ]
  },
  {
   "cell_type": "markdown",
   "metadata": {},
   "source": [
    "#### Добавим отдельный столбец дат."
   ]
  },
  {
   "cell_type": "code",
   "execution_count": 10,
   "metadata": {},
   "outputs": [
    {
     "data": {
      "text/html": [
       "<div>\n",
       "<style scoped>\n",
       "    .dataframe tbody tr th:only-of-type {\n",
       "        vertical-align: middle;\n",
       "    }\n",
       "\n",
       "    .dataframe tbody tr th {\n",
       "        vertical-align: top;\n",
       "    }\n",
       "\n",
       "    .dataframe thead th {\n",
       "        text-align: right;\n",
       "    }\n",
       "</style>\n",
       "<table border=\"1\" class=\"dataframe\">\n",
       "  <thead>\n",
       "    <tr style=\"text-align: right;\">\n",
       "      <th></th>\n",
       "      <th>event_name</th>\n",
       "      <th>device_id_hash</th>\n",
       "      <th>event_timestamp</th>\n",
       "      <th>exp_id</th>\n",
       "      <th>event_date</th>\n",
       "    </tr>\n",
       "  </thead>\n",
       "  <tbody>\n",
       "    <tr>\n",
       "      <th>0</th>\n",
       "      <td>MainScreenAppear</td>\n",
       "      <td>4575588528974610257</td>\n",
       "      <td>2019-07-25 04:43:36</td>\n",
       "      <td>246</td>\n",
       "      <td>2019-07-25</td>\n",
       "    </tr>\n",
       "    <tr>\n",
       "      <th>1</th>\n",
       "      <td>MainScreenAppear</td>\n",
       "      <td>7416695313311560658</td>\n",
       "      <td>2019-07-25 11:11:42</td>\n",
       "      <td>246</td>\n",
       "      <td>2019-07-25</td>\n",
       "    </tr>\n",
       "    <tr>\n",
       "      <th>2</th>\n",
       "      <td>PaymentScreenSuccessful</td>\n",
       "      <td>3518123091307005509</td>\n",
       "      <td>2019-07-25 11:28:47</td>\n",
       "      <td>248</td>\n",
       "      <td>2019-07-25</td>\n",
       "    </tr>\n",
       "    <tr>\n",
       "      <th>3</th>\n",
       "      <td>CartScreenAppear</td>\n",
       "      <td>3518123091307005509</td>\n",
       "      <td>2019-07-25 11:28:47</td>\n",
       "      <td>248</td>\n",
       "      <td>2019-07-25</td>\n",
       "    </tr>\n",
       "    <tr>\n",
       "      <th>4</th>\n",
       "      <td>PaymentScreenSuccessful</td>\n",
       "      <td>6217807653094995999</td>\n",
       "      <td>2019-07-25 11:48:42</td>\n",
       "      <td>248</td>\n",
       "      <td>2019-07-25</td>\n",
       "    </tr>\n",
       "  </tbody>\n",
       "</table>\n",
       "</div>"
      ],
      "text/plain": [
       "                event_name       device_id_hash     event_timestamp  exp_id  \\\n",
       "0         MainScreenAppear  4575588528974610257 2019-07-25 04:43:36     246   \n",
       "1         MainScreenAppear  7416695313311560658 2019-07-25 11:11:42     246   \n",
       "2  PaymentScreenSuccessful  3518123091307005509 2019-07-25 11:28:47     248   \n",
       "3         CartScreenAppear  3518123091307005509 2019-07-25 11:28:47     248   \n",
       "4  PaymentScreenSuccessful  6217807653094995999 2019-07-25 11:48:42     248   \n",
       "\n",
       "   event_date  \n",
       "0  2019-07-25  \n",
       "1  2019-07-25  \n",
       "2  2019-07-25  \n",
       "3  2019-07-25  \n",
       "4  2019-07-25  "
      ]
     },
     "execution_count": 10,
     "metadata": {},
     "output_type": "execute_result"
    }
   ],
   "source": [
    "data['event_date'] = pd.to_datetime(data['event_timestamp'].dt.date)\n",
    "data['event_date'] = data['event_date'].dt.strftime('%Y-%m-%d')\n",
    "data.head()"
   ]
  },
  {
   "cell_type": "markdown",
   "metadata": {},
   "source": [
    "### Изучим и проверим данные\n",
    "#### Изучим, сколько всего событий в логе."
   ]
  },
  {
   "cell_type": "code",
   "execution_count": 11,
   "metadata": {},
   "outputs": [
    {
     "name": "stdout",
     "output_type": "stream",
     "text": [
      "Общее количество событий в логе: 243713\n"
     ]
    }
   ],
   "source": [
    "print('Общее количество событий в логе:', len(data['event_name']))"
   ]
  },
  {
   "cell_type": "code",
   "execution_count": 12,
   "metadata": {},
   "outputs": [
    {
     "name": "stdout",
     "output_type": "stream",
     "text": [
      "Количество уникальных событий в логе: 5\n"
     ]
    }
   ],
   "source": [
    "print('Количество уникальных событий в логе:', len(data['event_name'].unique()))"
   ]
  },
  {
   "cell_type": "code",
   "execution_count": 13,
   "metadata": {},
   "outputs": [
    {
     "name": "stdout",
     "output_type": "stream",
     "text": [
      "Количество записей по событиям:\n"
     ]
    },
    {
     "data": {
      "text/plain": [
       "event_name\n",
       "MainScreenAppear           119101\n",
       "OffersScreenAppear          46808\n",
       "CartScreenAppear            42668\n",
       "PaymentScreenSuccessful     34118\n",
       "Tutorial                     1018\n",
       "Name: count, dtype: int64"
      ]
     },
     "execution_count": 13,
     "metadata": {},
     "output_type": "execute_result"
    }
   ],
   "source": [
    "print('Количество записей по событиям:')\n",
    "data['event_name'].value_counts()"
   ]
  },
  {
   "cell_type": "markdown",
   "metadata": {},
   "source": [
    "#### Изучим, сколько всего пользователей в логе."
   ]
  },
  {
   "cell_type": "code",
   "execution_count": 14,
   "metadata": {},
   "outputs": [
    {
     "name": "stdout",
     "output_type": "stream",
     "text": [
      "Количество уникальных пользователей в логе: 7551\n"
     ]
    }
   ],
   "source": [
    "print('Количество уникальных пользователей в логе:', data['device_id_hash'].nunique())"
   ]
  },
  {
   "cell_type": "markdown",
   "metadata": {},
   "source": [
    "#### Изучим, сколько в среднем событий приходится на пользователя."
   ]
  },
  {
   "cell_type": "code",
   "execution_count": 15,
   "metadata": {},
   "outputs": [
    {
     "name": "stdout",
     "output_type": "stream",
     "text": [
      "Среднее количество событий на пользователя: 32.28\n"
     ]
    }
   ],
   "source": [
    "print('Среднее количество событий на пользователя:', data.groupby('device_id_hash')['event_name'].count().mean().round(2))"
   ]
  },
  {
   "cell_type": "markdown",
   "metadata": {},
   "source": [
    "#### Изучим, данными за какой период мы располагаем."
   ]
  },
  {
   "cell_type": "code",
   "execution_count": 16,
   "metadata": {},
   "outputs": [
    {
     "name": "stdout",
     "output_type": "stream",
     "text": [
      "Дата первого события: 2019-07-25\n",
      "Дата последнего события: 2019-08-07\n"
     ]
    }
   ],
   "source": [
    "print('Дата первого события:', data['event_date'].min())\n",
    "print('Дата последнего события:', data['event_date'].max())"
   ]
  },
  {
   "cell_type": "code",
   "execution_count": 17,
   "metadata": {},
   "outputs": [
    {
     "data": {
      "image/png": "[encoded data removed]",
      "text/plain": [
       "<Figure size 1500x800 with 1 Axes>"
      ]
     },
     "metadata": {},
     "output_type": "display_data"
    }
   ],
   "source": [
    "(data\n",
    " .pivot_table(index='event_date', columns='exp_id', values='event_name', aggfunc='count')\n",
    " .plot(kind='bar', figsize=(15, 8), legend=True, grid=True)\n",
    ")\n",
    "plt.title('Количество событий в зависимости от времени в разрезе групп')\n",
    "plt.xlabel('Дата')\n",
    "plt.ylabel('Количество событий');"
   ]
  },
  {
   "cell_type": "markdown",
   "metadata": {},
   "source": [
    "График показывает, что не за весь период у нас одинаково полные данные. По некоторым пользователям могут «доезжать» события из прошлого — это может «перекашивать данные».  \n",
    "На самом деле мы располагаем данными за период с 1 по 7 августа. Отбросим старые данные."
   ]
  },
  {
   "cell_type": "code",
   "execution_count": 18,
   "metadata": {},
   "outputs": [
    {
     "name": "stdout",
     "output_type": "stream",
     "text": [
      "Дата первого события за актуальный период: 2019-08-01\n",
      "Дата последнего события за актуальный период: 2019-08-07\n"
     ]
    }
   ],
   "source": [
    "actual_data = data[data['event_date'] >= '2019-08-01']\n",
    "print('Дата первого события за актуальный период:', actual_data['event_date'].min())\n",
    "print('Дата последнего события за актуальный период:', actual_data['event_date'].max())"
   ]
  },
  {
   "cell_type": "markdown",
   "metadata": {},
   "source": [
    "#### Проверим, много ли событий и пользователей мы потеряли, отбросив старые данные."
   ]
  },
  {
   "cell_type": "code",
   "execution_count": 19,
   "metadata": {},
   "outputs": [
    {
     "name": "stdout",
     "output_type": "stream",
     "text": [
      "Количество потерянных событий: 2826\n",
      "Количество потерянных пользователей: 17\n",
      "Относительные потери событий: 0.012\n",
      "Относительные потери пользователей: 0.002\n"
     ]
    }
   ],
   "source": [
    "print('Количество потерянных событий:', len(data['event_name'])-len(actual_data['event_name']))\n",
    "print('Количество потерянных пользователей:', data['device_id_hash'].nunique()-actual_data['device_id_hash'].nunique())\n",
    "print('Относительные потери событий:', round((len(data['event_name'])-len(actual_data['event_name']))/len(data['event_name']), 3))\n",
    "print('Относительные потери пользователей:', round((data['device_id_hash'].nunique()-actual_data['device_id_hash'].nunique())/data['device_id_hash'].nunique(), 3))"
   ]
  },
  {
   "cell_type": "markdown",
   "metadata": {},
   "source": [
    "Относительные потери событий и пользователей составляют меньше 2%."
   ]
  },
  {
   "cell_type": "markdown",
   "metadata": {},
   "source": [
    "#### Проверим, что у нас есть пользователи из всех трёх экспериментальных групп."
   ]
  },
  {
   "cell_type": "code",
   "execution_count": 20,
   "metadata": {},
   "outputs": [
    {
     "name": "stdout",
     "output_type": "stream",
     "text": [
      "Количество пользователей по экспериментальным группам:\n"
     ]
    },
    {
     "data": {
      "text/html": [
       "<div>\n",
       "<style scoped>\n",
       "    .dataframe tbody tr th:only-of-type {\n",
       "        vertical-align: middle;\n",
       "    }\n",
       "\n",
       "    .dataframe tbody tr th {\n",
       "        vertical-align: top;\n",
       "    }\n",
       "\n",
       "    .dataframe thead th {\n",
       "        text-align: right;\n",
       "    }\n",
       "</style>\n",
       "<table border=\"1\" class=\"dataframe\">\n",
       "  <thead>\n",
       "    <tr style=\"text-align: right;\">\n",
       "      <th></th>\n",
       "      <th>device_id_hash</th>\n",
       "    </tr>\n",
       "    <tr>\n",
       "      <th>exp_id</th>\n",
       "      <th></th>\n",
       "    </tr>\n",
       "  </thead>\n",
       "  <tbody>\n",
       "    <tr>\n",
       "      <th>246</th>\n",
       "      <td>2484</td>\n",
       "    </tr>\n",
       "    <tr>\n",
       "      <th>247</th>\n",
       "      <td>2513</td>\n",
       "    </tr>\n",
       "    <tr>\n",
       "      <th>248</th>\n",
       "      <td>2537</td>\n",
       "    </tr>\n",
       "  </tbody>\n",
       "</table>\n",
       "</div>"
      ],
      "text/plain": [
       "        device_id_hash\n",
       "exp_id                \n",
       "246               2484\n",
       "247               2513\n",
       "248               2537"
      ]
     },
     "execution_count": 20,
     "metadata": {},
     "output_type": "execute_result"
    }
   ],
   "source": [
    "print('Количество пользователей по экспериментальным группам:')\n",
    "actual_data.groupby('exp_id').agg({'device_id_hash': 'nunique'})"
   ]
  },
  {
   "cell_type": "markdown",
   "metadata": {},
   "source": [
    "В данных за актуальный период у нас есть пользователи из всех трёх экспериментальных групп."
   ]
  },
  {
   "cell_type": "markdown",
   "metadata": {},
   "source": [
    "### Изучим воронку событий\n",
    "#### Посмотрим, какие события есть в логах, как часто они встречаются. Отсортируем события по частоте."
   ]
  },
  {
   "cell_type": "code",
   "execution_count": 21,
   "metadata": {},
   "outputs": [
    {
     "data": {
      "image/png": "[encoded data removed]",
      "text/plain": [
       "<Figure size 1000x300 with 1 Axes>"
      ]
     },
     "metadata": {},
     "output_type": "display_data"
    }
   ],
   "source": [
    "(actual_data\n",
    " .groupby('event_name').agg({'device_id_hash': 'count'})\n",
    " .sort_values(by='device_id_hash', ascending=True)\n",
    " .plot(kind = 'barh', figsize=(10, 3), legend=False)\n",
    ")\n",
    "plt.title('Частота событий в логах')\n",
    "plt.xlabel('Количество событий')\n",
    "plt.ylabel('События');"
   ]
  },
  {
   "cell_type": "markdown",
   "metadata": {},
   "source": [
    "Чаще всего в логах встречается событие MainScreenAppear, затем идут события OffersScreenAppear, CartScreenAppear, PaymentScreenSuccessful, Tutorial."
   ]
  },
  {
   "cell_type": "markdown",
   "metadata": {},
   "source": [
    "#### Посчитаем, сколько пользователей совершали каждое из этих событий. Отсортируем события по числу пользователей. Посчитаем долю пользователей, которые хоть раз совершали событие."
   ]
  },
  {
   "cell_type": "code",
   "execution_count": 22,
   "metadata": {},
   "outputs": [
    {
     "data": {
      "text/html": [
       "<div>\n",
       "<style scoped>\n",
       "    .dataframe tbody tr th:only-of-type {\n",
       "        vertical-align: middle;\n",
       "    }\n",
       "\n",
       "    .dataframe tbody tr th {\n",
       "        vertical-align: top;\n",
       "    }\n",
       "\n",
       "    .dataframe thead th {\n",
       "        text-align: right;\n",
       "    }\n",
       "</style>\n",
       "<table border=\"1\" class=\"dataframe\">\n",
       "  <thead>\n",
       "    <tr style=\"text-align: right;\">\n",
       "      <th></th>\n",
       "      <th>event_name</th>\n",
       "      <th>users</th>\n",
       "      <th>ratio</th>\n",
       "    </tr>\n",
       "  </thead>\n",
       "  <tbody>\n",
       "    <tr>\n",
       "      <th>0</th>\n",
       "      <td>MainScreenAppear</td>\n",
       "      <td>7419</td>\n",
       "      <td>0.985</td>\n",
       "    </tr>\n",
       "    <tr>\n",
       "      <th>1</th>\n",
       "      <td>OffersScreenAppear</td>\n",
       "      <td>4593</td>\n",
       "      <td>0.610</td>\n",
       "    </tr>\n",
       "    <tr>\n",
       "      <th>2</th>\n",
       "      <td>CartScreenAppear</td>\n",
       "      <td>3734</td>\n",
       "      <td>0.496</td>\n",
       "    </tr>\n",
       "    <tr>\n",
       "      <th>3</th>\n",
       "      <td>PaymentScreenSuccessful</td>\n",
       "      <td>3539</td>\n",
       "      <td>0.470</td>\n",
       "    </tr>\n",
       "    <tr>\n",
       "      <th>4</th>\n",
       "      <td>Tutorial</td>\n",
       "      <td>840</td>\n",
       "      <td>0.111</td>\n",
       "    </tr>\n",
       "  </tbody>\n",
       "</table>\n",
       "</div>"
      ],
      "text/plain": [
       "                event_name  users  ratio\n",
       "0         MainScreenAppear   7419  0.985\n",
       "1       OffersScreenAppear   4593  0.610\n",
       "2         CartScreenAppear   3734  0.496\n",
       "3  PaymentScreenSuccessful   3539  0.470\n",
       "4                 Tutorial    840  0.111"
      ]
     },
     "execution_count": 22,
     "metadata": {},
     "output_type": "execute_result"
    }
   ],
   "source": [
    "users_count = actual_data.groupby('event_name').agg(users=('device_id_hash', 'nunique'))\n",
    "users_count['ratio']=round(users_count['users']/actual_data['device_id_hash'].nunique(), 3)\n",
    "users_count = users_count.sort_values(by='ratio', ascending=False).reset_index()\n",
    "users_count"
   ]
  },
  {
   "cell_type": "markdown",
   "metadata": {},
   "source": [
    "При подсчете количества пользователей по событиям ситуация такая же: чаще всего встречается событие MainScreenAppear, затем идут события OffersScreenAppear, CartScreenAppear, PaymentScreenSuccessful, Tutorial."
   ]
  },
  {
   "cell_type": "markdown",
   "metadata": {},
   "source": [
    "#### Предположим, в каком порядке происходят события. Все ли они выстраиваются в последовательную цепочку? Не будем их учитывать при расчёте воронки."
   ]
  },
  {
   "cell_type": "markdown",
   "metadata": {},
   "source": [
    "Можно предположить, что события происходят в следующем порядке:  \n",
    "MainScreenAppear → OffersScreenAppear → CartScreenAppear → PaymentScreenSuccessful  \n",
    "Событие Tutorial выбивается из этой цепочки, это наименее частое событие, поэтому не будем учитывать его при расчете воронки."
   ]
  },
  {
   "cell_type": "code",
   "execution_count": 23,
   "metadata": {},
   "outputs": [
    {
     "data": {
      "text/html": [
       "<div>\n",
       "<style scoped>\n",
       "    .dataframe tbody tr th:only-of-type {\n",
       "        vertical-align: middle;\n",
       "    }\n",
       "\n",
       "    .dataframe tbody tr th {\n",
       "        vertical-align: top;\n",
       "    }\n",
       "\n",
       "    .dataframe thead th {\n",
       "        text-align: right;\n",
       "    }\n",
       "</style>\n",
       "<table border=\"1\" class=\"dataframe\">\n",
       "  <thead>\n",
       "    <tr style=\"text-align: right;\">\n",
       "      <th></th>\n",
       "      <th>event_name</th>\n",
       "      <th>users</th>\n",
       "      <th>ratio</th>\n",
       "    </tr>\n",
       "  </thead>\n",
       "  <tbody>\n",
       "    <tr>\n",
       "      <th>0</th>\n",
       "      <td>MainScreenAppear</td>\n",
       "      <td>7419</td>\n",
       "      <td>0.985</td>\n",
       "    </tr>\n",
       "    <tr>\n",
       "      <th>1</th>\n",
       "      <td>OffersScreenAppear</td>\n",
       "      <td>4593</td>\n",
       "      <td>0.610</td>\n",
       "    </tr>\n",
       "    <tr>\n",
       "      <th>2</th>\n",
       "      <td>CartScreenAppear</td>\n",
       "      <td>3734</td>\n",
       "      <td>0.496</td>\n",
       "    </tr>\n",
       "    <tr>\n",
       "      <th>3</th>\n",
       "      <td>PaymentScreenSuccessful</td>\n",
       "      <td>3539</td>\n",
       "      <td>0.470</td>\n",
       "    </tr>\n",
       "  </tbody>\n",
       "</table>\n",
       "</div>"
      ],
      "text/plain": [
       "                event_name  users  ratio\n",
       "0         MainScreenAppear   7419  0.985\n",
       "1       OffersScreenAppear   4593  0.610\n",
       "2         CartScreenAppear   3734  0.496\n",
       "3  PaymentScreenSuccessful   3539  0.470"
      ]
     },
     "execution_count": 23,
     "metadata": {},
     "output_type": "execute_result"
    }
   ],
   "source": [
    "users_count = users_count.query('event_name != \"Tutorial\"')\n",
    "users_count"
   ]
  },
  {
   "cell_type": "markdown",
   "metadata": {},
   "source": [
    "#### По воронке событий посчитаем, какая доля пользователей проходит на следующий шаг воронки (от числа пользователей на предыдущем). То есть для последовательности событий A → B → C посчитаем отношение числа пользователей с событием B к количеству пользователей с событием A, а также отношение числа пользователей с событием C к количеству пользователей с событием B."
   ]
  },
  {
   "cell_type": "code",
   "execution_count": 24,
   "metadata": {},
   "outputs": [
    {
     "name": "stdout",
     "output_type": "stream",
     "text": [
      "Доля пользователей, которая прошла с шага MainScreenAppear на OffersScreenAppear: 62 %\n",
      "Доля пользователей, которая прошла с шага OffersScreenAppear на CartScreenAppear: 81 %\n",
      "Доля пользователей, которая прошла с шага CartScreenAppear на PaymentScreenSuccessful: 95 %\n"
     ]
    },
    {
     "name": "stderr",
     "output_type": "stream",
     "text": [
      "/var/folders/nh/pz2rjlzx14ld7ljqbx27n70w0000gn/T/ipykernel_63766/3869790611.py:1: FutureWarning: Calling int on a single element Series is deprecated and will raise a TypeError in the future. Use int(ser.iloc[0]) instead\n",
      "  print('Доля пользователей, которая прошла с шага MainScreenAppear на OffersScreenAppear:', round(int(users_count[users_count['event_name'] == 'OffersScreenAppear']['users']) / int(users_count[users_count['event_name'] == 'MainScreenAppear']['users'])*100),'%')\n",
      "/var/folders/nh/pz2rjlzx14ld7ljqbx27n70w0000gn/T/ipykernel_63766/3869790611.py:2: FutureWarning: Calling int on a single element Series is deprecated and will raise a TypeError in the future. Use int(ser.iloc[0]) instead\n",
      "  print('Доля пользователей, которая прошла с шага OffersScreenAppear на CartScreenAppear:', round(int(users_count[users_count['event_name'] == 'CartScreenAppear']['users']) / int(users_count[users_count['event_name'] == 'OffersScreenAppear']['users'])*100),'%')\n",
      "/var/folders/nh/pz2rjlzx14ld7ljqbx27n70w0000gn/T/ipykernel_63766/3869790611.py:3: FutureWarning: Calling int on a single element Series is deprecated and will raise a TypeError in the future. Use int(ser.iloc[0]) instead\n",
      "  print('Доля пользователей, которая прошла с шага CartScreenAppear на PaymentScreenSuccessful:', round(int(users_count[users_count['event_name'] == 'PaymentScreenSuccessful']['users']) / int(users_count[users_count['event_name'] == 'CartScreenAppear']['users'])*100),'%')\n"
     ]
    }
   ],
   "source": [
    "print('Доля пользователей, которая прошла с шага MainScreenAppear на OffersScreenAppear:', round(int(users_count[users_count['event_name'] == 'OffersScreenAppear']['users']) / int(users_count[users_count['event_name'] == 'MainScreenAppear']['users'])*100),'%')\n",
    "print('Доля пользователей, которая прошла с шага OffersScreenAppear на CartScreenAppear:', round(int(users_count[users_count['event_name'] == 'CartScreenAppear']['users']) / int(users_count[users_count['event_name'] == 'OffersScreenAppear']['users'])*100),'%')\n",
    "print('Доля пользователей, которая прошла с шага CartScreenAppear на PaymentScreenSuccessful:', round(int(users_count[users_count['event_name'] == 'PaymentScreenSuccessful']['users']) / int(users_count[users_count['event_name'] == 'CartScreenAppear']['users'])*100),'%')"
   ]
  },
  {
   "cell_type": "markdown",
   "metadata": {},
   "source": [
    "#### Изучим, на каком шаге теряются больше всего пользователей."
   ]
  },
  {
   "cell_type": "markdown",
   "metadata": {},
   "source": [
    "При переходе с MainScreenAppear на OffersScreenAppear теряется больше всего пользователей (примерно 38%)."
   ]
  },
  {
   "cell_type": "markdown",
   "metadata": {},
   "source": [
    "#### Изучим, какая доля пользователей доходит от первого события до оплаты."
   ]
  },
  {
   "cell_type": "code",
   "execution_count": 25,
   "metadata": {},
   "outputs": [
    {
     "name": "stdout",
     "output_type": "stream",
     "text": [
      "Доля пользователей, которая прошла от первого события до оплаты: 48 %\n"
     ]
    },
    {
     "name": "stderr",
     "output_type": "stream",
     "text": [
      "/var/folders/nh/pz2rjlzx14ld7ljqbx27n70w0000gn/T/ipykernel_63766/4003201578.py:1: FutureWarning: Calling int on a single element Series is deprecated and will raise a TypeError in the future. Use int(ser.iloc[0]) instead\n",
      "  print('Доля пользователей, которая прошла от первого события до оплаты:', round(int(users_count[users_count['event_name'] == 'PaymentScreenSuccessful']['users']) / int(users_count[users_count['event_name'] == 'MainScreenAppear']['users'])*100),'%')\n"
     ]
    }
   ],
   "source": [
    "print('Доля пользователей, которая прошла от первого события до оплаты:', round(int(users_count[users_count['event_name'] == 'PaymentScreenSuccessful']['users']) / int(users_count[users_count['event_name'] == 'MainScreenAppear']['users'])*100),'%')"
   ]
  },
  {
   "cell_type": "markdown",
   "metadata": {},
   "source": [
    "По результатам изучения воронки событий можно сделать следующие выводы:  \n",
    "- Чаще всего в логах встречается событие MainScreenAppear, затем идут события OffersScreenAppear, CartScreenAppear, PaymentScreenSuccessful, Tutorial.\n",
    "- Мы предположили, что события происходят в следующем порядке: MainScreenAppear → OffersScreenAppear → CartScreenAppear → PaymentScreenSuccessful. Событие Tutorial выбивается из этой цепочки, это наименее частое событие, поэтому мы не учитывали его при расчете воронки.\n",
    "- При переходе с события MainScreenAppear на OffersScreenAppear теряется больше всего пользователей (примерно 38%).\n",
    "- Доля пользователей, которая прошла от первого события до оплаты составляет 48%.\n",
    "\n",
    "Рекомендуем обратить внимание на высокий процент потерь пользователей при переходе с события MainScreenAppear на событие OffersScreenAppear. После улучшения перехода на это событие доля пользователей, дошедших до оплаты, может увеличиться."
   ]
  },
  {
   "cell_type": "markdown",
   "metadata": {},
   "source": [
    "### Изучим результаты эксперимента\n",
    "#### Изучим, сколько пользователей в каждой экспериментальной группе."
   ]
  },
  {
   "cell_type": "markdown",
   "metadata": {},
   "source": [
    "Посчитаем количество уникальных пользователей в каждой группе."
   ]
  },
  {
   "cell_type": "code",
   "execution_count": 26,
   "metadata": {},
   "outputs": [
    {
     "data": {
      "text/html": [
       "<div>\n",
       "<style scoped>\n",
       "    .dataframe tbody tr th:only-of-type {\n",
       "        vertical-align: middle;\n",
       "    }\n",
       "\n",
       "    .dataframe tbody tr th {\n",
       "        vertical-align: top;\n",
       "    }\n",
       "\n",
       "    .dataframe thead th {\n",
       "        text-align: right;\n",
       "    }\n",
       "</style>\n",
       "<table border=\"1\" class=\"dataframe\">\n",
       "  <thead>\n",
       "    <tr style=\"text-align: right;\">\n",
       "      <th></th>\n",
       "      <th>exp_id</th>\n",
       "      <th>nunique</th>\n",
       "    </tr>\n",
       "  </thead>\n",
       "  <tbody>\n",
       "    <tr>\n",
       "      <th>0</th>\n",
       "      <td>246</td>\n",
       "      <td>2484</td>\n",
       "    </tr>\n",
       "    <tr>\n",
       "      <th>1</th>\n",
       "      <td>247</td>\n",
       "      <td>2513</td>\n",
       "    </tr>\n",
       "    <tr>\n",
       "      <th>2</th>\n",
       "      <td>248</td>\n",
       "      <td>2537</td>\n",
       "    </tr>\n",
       "  </tbody>\n",
       "</table>\n",
       "</div>"
      ],
      "text/plain": [
       "   exp_id  nunique\n",
       "0     246     2484\n",
       "1     247     2513\n",
       "2     248     2537"
      ]
     },
     "execution_count": 26,
     "metadata": {},
     "output_type": "execute_result"
    }
   ],
   "source": [
    "users_in_groups = actual_data.pivot_table(index='exp_id', values='device_id_hash', aggfunc={'nunique'}).reset_index()\n",
    "users_in_groups"
   ]
  },
  {
   "cell_type": "markdown",
   "metadata": {},
   "source": [
    "Проверим, нет ли в данных пользователей, участвовавших в нескольких группах теста одновременно."
   ]
  },
  {
   "cell_type": "code",
   "execution_count": 27,
   "metadata": {},
   "outputs": [
    {
     "name": "stdout",
     "output_type": "stream",
     "text": [
      "Количество пользователей, участвовавших одновременно в группах 246 и 247: 0\n",
      "Количество пользователей, участвовавших одновременно в группах 247 и 248: 0\n",
      "Количество пользователей, участвовавших одновременно в группах 246 и 248: 0\n"
     ]
    }
   ],
   "source": [
    "users_246 = actual_data[actual_data['exp_id'] == 246]['device_id_hash'].unique()\n",
    "users_247 = actual_data[actual_data['exp_id'] == 247]['device_id_hash'].unique()\n",
    "users_248 = actual_data[actual_data['exp_id'] == 248]['device_id_hash'].unique()\n",
    "print('Количество пользователей, участвовавших одновременно в группах 246 и 247:', len(set(users_246) & set(users_247)))\n",
    "print('Количество пользователей, участвовавших одновременно в группах 247 и 248:', len(set(users_247) & set(users_248)))\n",
    "print('Количество пользователей, участвовавших одновременно в группах 246 и 248:', len(set(users_246) & set(users_248)))"
   ]
  },
  {
   "cell_type": "markdown",
   "metadata": {},
   "source": [
    "#### Есть 2 контрольные группы для А/А-эксперимента, чтобы проверить корректность всех механизмов и расчётов. Проверим, находят ли статистические критерии разницу между выборками 246 и 247.  "
   ]
  },
  {
   "cell_type": "markdown",
   "metadata": {},
   "source": [
    "Выберем самое популярное событие. Посчитаем число пользователей, совершивших это событие в каждой из контрольных групп. Посчитаем долю пользователей, совершивших это событие. "
   ]
  },
  {
   "cell_type": "code",
   "execution_count": 28,
   "metadata": {},
   "outputs": [
    {
     "data": {
      "text/html": [
       "<div>\n",
       "<style scoped>\n",
       "    .dataframe tbody tr th:only-of-type {\n",
       "        vertical-align: middle;\n",
       "    }\n",
       "\n",
       "    .dataframe tbody tr th {\n",
       "        vertical-align: top;\n",
       "    }\n",
       "\n",
       "    .dataframe thead th {\n",
       "        text-align: right;\n",
       "    }\n",
       "</style>\n",
       "<table border=\"1\" class=\"dataframe\">\n",
       "  <thead>\n",
       "    <tr style=\"text-align: right;\">\n",
       "      <th></th>\n",
       "      <th>event_name</th>\n",
       "      <th>exp_id</th>\n",
       "      <th>nunique</th>\n",
       "    </tr>\n",
       "  </thead>\n",
       "  <tbody>\n",
       "    <tr>\n",
       "      <th>4</th>\n",
       "      <td>MainScreenAppear</td>\n",
       "      <td>247</td>\n",
       "      <td>2476</td>\n",
       "    </tr>\n",
       "    <tr>\n",
       "      <th>3</th>\n",
       "      <td>MainScreenAppear</td>\n",
       "      <td>246</td>\n",
       "      <td>2450</td>\n",
       "    </tr>\n",
       "  </tbody>\n",
       "</table>\n",
       "</div>"
      ],
      "text/plain": [
       "         event_name  exp_id  nunique\n",
       "4  MainScreenAppear     247     2476\n",
       "3  MainScreenAppear     246     2450"
      ]
     },
     "execution_count": 28,
     "metadata": {},
     "output_type": "execute_result"
    }
   ],
   "source": [
    "events_groups = actual_data.pivot_table(index=['event_name', 'exp_id'], values='device_id_hash', aggfunc={'nunique'}).reset_index()\n",
    "events_groups = events_groups.query('event_name != \"Tutorial\"')\n",
    "events_groups.query('exp_id\t!= 248').sort_values(by='nunique', ascending=False).head(2)"
   ]
  },
  {
   "cell_type": "code",
   "execution_count": 29,
   "metadata": {},
   "outputs": [
    {
     "name": "stdout",
     "output_type": "stream",
     "text": [
      "Доля пользователей в группе 246, совершивших событие MainScreenAppear: 0.986\n",
      "Доля пользователей в группе 247, совершивших событие MainScreenAppear: 0.985\n"
     ]
    },
    {
     "name": "stderr",
     "output_type": "stream",
     "text": [
      "/var/folders/nh/pz2rjlzx14ld7ljqbx27n70w0000gn/T/ipykernel_63766/219834676.py:1: FutureWarning: Calling int on a single element Series is deprecated and will raise a TypeError in the future. Use int(ser.iloc[0]) instead\n",
      "  print('Доля пользователей в группе 246, совершивших событие MainScreenAppear:', round(int(events_groups.query('exp_id == 246 & event_name == \"MainScreenAppear\"')['nunique']) / int(users_in_groups.query('exp_id == 246')['nunique']), 3))\n",
      "/var/folders/nh/pz2rjlzx14ld7ljqbx27n70w0000gn/T/ipykernel_63766/219834676.py:2: FutureWarning: Calling int on a single element Series is deprecated and will raise a TypeError in the future. Use int(ser.iloc[0]) instead\n",
      "  print('Доля пользователей в группе 247, совершивших событие MainScreenAppear:', round(int(events_groups.query('exp_id == 247 & event_name == \"MainScreenAppear\"')['nunique']) / int(users_in_groups.query('exp_id == 247')['nunique']), 3))\n"
     ]
    }
   ],
   "source": [
    "print('Доля пользователей в группе 246, совершивших событие MainScreenAppear:', round(int(events_groups.query('exp_id == 246 & event_name == \"MainScreenAppear\"')['nunique']) / int(users_in_groups.query('exp_id == 246')['nunique']), 3))\n",
    "print('Доля пользователей в группе 247, совершивших событие MainScreenAppear:', round(int(events_groups.query('exp_id == 247 & event_name == \"MainScreenAppear\"')['nunique']) / int(users_in_groups.query('exp_id == 247')['nunique']), 3))"
   ]
  },
  {
   "cell_type": "markdown",
   "metadata": {},
   "source": [
    "Проверим, будет ли отличие между группами статистически достоверным с помощью отдельной функции. Проделаем то же самое для всех других событий. Можно ли сказать, что разбиение на группы работает корректно?\n",
    "\n",
    "Для проверки гипотезы о равенстве долей будем использовать z-тест. Установим уровень значимости 0.05. Так как будет проведена множественная проверка гипотез, то для коррекции уровня значимости используем поправку Бонферрони.\n",
    "\n",
    "Сформулируем гипотезы.  \n",
    "Нулевая: нет оснований считать доли разными.  \n",
    "Альтернативная: между долями есть значимая разница.  "
   ]
  },
  {
   "cell_type": "code",
   "execution_count": 30,
   "metadata": {},
   "outputs": [],
   "source": [
    "def stat_function(data1, data2, event_name, alpha, n):\n",
    "    \n",
    "    # считаем поправку Бонферрони\n",
    "    alpha_bonf = alpha / n\n",
    "    \n",
    "    #число пользователей в 1 и 2 группе\n",
    "    users = np.array([data1['device_id_hash'].nunique(), \n",
    "                        data2['device_id_hash'].nunique()])\n",
    "    \n",
    "    # число пользователей, которые совершили событие в 1 и 2 группе\n",
    "    event = np.array([data1[data1['event_name'] == event_name]['device_id_hash'].nunique(), \n",
    "                        data2[data2['event_name'] == event_name]['device_id_hash'].nunique()])\n",
    "    \n",
    "    # пропорция событий в первой группе:\n",
    "    p1 = event[0]/users[0]\n",
    "\n",
    "    # пропорция событий во второй группе:\n",
    "    p2 = event[1]/users[1]\n",
    "\n",
    "    # пропорция событий в комбинированном датасете:\n",
    "    p_combined = (event[0] + event[1]) / (users[0] + users[1])\n",
    "\n",
    "    # разница пропорций в датасетах\n",
    "    difference = p1 - p2 \n",
    "\n",
    "    # считаем статистику в ст.отклонениях стандартного нормального распределения\n",
    "    z_value = difference / mth.sqrt(p_combined * (1 - p_combined) * (1/users[0] + 1/users[1]))\n",
    "\n",
    "    # задаем стандартное нормальное распределение (среднее 0, ст.отклонение 1)\n",
    "    distr = st.norm(0, 1)  \n",
    "\n",
    "    p_value = (1 - distr.cdf(abs(z_value))) * 2\n",
    "\n",
    "    print('p-значение: ', p_value)\n",
    "\n",
    "    if p_value < alpha_bonf:\n",
    "        print('Отвергаем нулевую гипотезу: между долями в событии', event_name, 'есть значимая разница')\n",
    "    else:\n",
    "        print('Не получилось отвергнуть нулевую гипотезу, нет оснований считать доли в событии', event_name, 'разными')"
   ]
  },
  {
   "cell_type": "code",
   "execution_count": 31,
   "metadata": {},
   "outputs": [
    {
     "name": "stdout",
     "output_type": "stream",
     "text": [
      "p-значение:  0.7570597232046099\n",
      "Не получилось отвергнуть нулевую гипотезу, нет оснований считать доли в событии MainScreenAppear разными\n",
      "\n",
      "p-значение:  0.2480954578522181\n",
      "Не получилось отвергнуть нулевую гипотезу, нет оснований считать доли в событии OffersScreenAppear разными\n",
      "\n",
      "p-значение:  0.22883372237997213\n",
      "Не получилось отвергнуть нулевую гипотезу, нет оснований считать доли в событии CartScreenAppear разными\n",
      "\n",
      "p-значение:  0.11456679313141849\n",
      "Не получилось отвергнуть нулевую гипотезу, нет оснований считать доли в событии PaymentScreenSuccessful разными\n",
      "\n"
     ]
    }
   ],
   "source": [
    "for event_name in users_count['event_name'].unique():\n",
    "    stat_function(actual_data[actual_data['exp_id'] == 246], actual_data[actual_data['exp_id'] == 247], event_name, .05, 16)\n",
    "    print()"
   ]
  },
  {
   "cell_type": "markdown",
   "metadata": {},
   "source": [
    "Анализ результатов A/A-теста сообщает, что нет оснований считать доли в событиях разными. Значит, разбиение на группы работает корректно."
   ]
  },
  {
   "cell_type": "markdown",
   "metadata": {},
   "source": [
    "#### Аналогично поступим с группой с изменённым шрифтом. Сравним результаты с каждой из контрольных групп в отдельности по каждому событию. Сравним результаты с объединённой контрольной группой. Какие выводы из эксперимента можно сделать?"
   ]
  },
  {
   "cell_type": "markdown",
   "metadata": {},
   "source": [
    "Сформулируем гипотезы.  \n",
    "Нулевая: нет оснований считать доли разными.  \n",
    "Альтернативная: между долями есть значимая разница."
   ]
  },
  {
   "cell_type": "code",
   "execution_count": 32,
   "metadata": {},
   "outputs": [
    {
     "name": "stdout",
     "output_type": "stream",
     "text": [
      "p-значение:  0.2949721933554552\n",
      "Не получилось отвергнуть нулевую гипотезу, нет оснований считать доли в событии MainScreenAppear разными\n",
      "\n",
      "p-значение:  0.20836205402738917\n",
      "Не получилось отвергнуть нулевую гипотезу, нет оснований считать доли в событии OffersScreenAppear разными\n",
      "\n",
      "p-значение:  0.07842923237520116\n",
      "Не получилось отвергнуть нулевую гипотезу, нет оснований считать доли в событии CartScreenAppear разными\n",
      "\n",
      "p-значение:  0.2122553275697796\n",
      "Не получилось отвергнуть нулевую гипотезу, нет оснований считать доли в событии PaymentScreenSuccessful разными\n",
      "\n"
     ]
    }
   ],
   "source": [
    "for event_name in users_count['event_name'].unique():\n",
    "    stat_function(actual_data[actual_data['exp_id'] == 246], actual_data[actual_data['exp_id'] == 248], event_name, .05, 16)\n",
    "    print()"
   ]
  },
  {
   "cell_type": "markdown",
   "metadata": {},
   "source": [
    "Анализ результатов A/B-теста для групп 246 и 248 сообщает, что нет оснований считать доли в событиях разными."
   ]
  },
  {
   "cell_type": "code",
   "execution_count": 33,
   "metadata": {},
   "outputs": [
    {
     "name": "stdout",
     "output_type": "stream",
     "text": [
      "p-значение:  0.4587053616621515\n",
      "Не получилось отвергнуть нулевую гипотезу, нет оснований считать доли в событии MainScreenAppear разными\n",
      "\n",
      "p-значение:  0.9197817830592261\n",
      "Не получилось отвергнуть нулевую гипотезу, нет оснований считать доли в событии OffersScreenAppear разными\n",
      "\n",
      "p-значение:  0.5786197879539783\n",
      "Не получилось отвергнуть нулевую гипотезу, нет оснований считать доли в событии CartScreenAppear разными\n",
      "\n",
      "p-значение:  0.7373415053803964\n",
      "Не получилось отвергнуть нулевую гипотезу, нет оснований считать доли в событии PaymentScreenSuccessful разными\n",
      "\n"
     ]
    }
   ],
   "source": [
    "for event_name in users_count['event_name'].unique():\n",
    "    stat_function(actual_data[actual_data['exp_id'] == 247], actual_data[actual_data['exp_id'] == 248], event_name, .05, 16)\n",
    "    print()"
   ]
  },
  {
   "cell_type": "markdown",
   "metadata": {},
   "source": [
    "Анализ результатов A/B-теста для групп 247 и 248 сообщает, что нет оснований считать доли в событиях разными."
   ]
  },
  {
   "cell_type": "code",
   "execution_count": 34,
   "metadata": {},
   "outputs": [
    {
     "name": "stdout",
     "output_type": "stream",
     "text": [
      "p-значение:  0.29424526837179577\n",
      "Не получилось отвергнуть нулевую гипотезу, нет оснований считать доли в событии MainScreenAppear разными\n",
      "\n",
      "p-значение:  0.43425549655188256\n",
      "Не получилось отвергнуть нулевую гипотезу, нет оснований считать доли в событии OffersScreenAppear разными\n",
      "\n",
      "p-значение:  0.18175875284404386\n",
      "Не получилось отвергнуть нулевую гипотезу, нет оснований считать доли в событии CartScreenAppear разными\n",
      "\n",
      "p-значение:  0.6004294282308704\n",
      "Не получилось отвергнуть нулевую гипотезу, нет оснований считать доли в событии PaymentScreenSuccessful разными\n",
      "\n"
     ]
    }
   ],
   "source": [
    "for event_name in users_count['event_name'].unique():\n",
    "    stat_function(actual_data[actual_data['exp_id'] != 248], actual_data[actual_data['exp_id'] == 248], event_name, .05, 16)\n",
    "    print()"
   ]
  },
  {
   "cell_type": "markdown",
   "metadata": {},
   "source": [
    "Анализ результатов A/B-теста для объединенной группы 246+247 и группы 248 сообщает, что нет оснований считать доли в событиях разными."
   ]
  },
  {
   "cell_type": "markdown",
   "metadata": {},
   "source": [
    "#### Какой уровень значимости был выбран при проверке статистических гипотез выше? Посчитаем, сколько проверок статистических гипотез мы сделали. При уровне значимости 0.1 в 10% случаев можно ошибочно отклонить нулевую гипотезу при условии, что она верна. Какой уровень значимости стоит применить?"
   ]
  },
  {
   "cell_type": "markdown",
   "metadata": {},
   "source": [
    "При проверке статистических гипотез выше был выбран уровень значимости 0.05. Мы провели 16 проверок статистических гипотез. Проведем проверку гипотез при уровне значимости 0.1."
   ]
  },
  {
   "cell_type": "markdown",
   "metadata": {},
   "source": [
    "Сформулируем гипотезы.  \n",
    "Нулевая: нет оснований считать доли разными.  \n",
    "Альтернативная: между долями есть значимая разница."
   ]
  },
  {
   "cell_type": "code",
   "execution_count": 35,
   "metadata": {},
   "outputs": [
    {
     "name": "stdout",
     "output_type": "stream",
     "text": [
      "p-значение:  0.2949721933554552\n",
      "Не получилось отвергнуть нулевую гипотезу, нет оснований считать доли в событии MainScreenAppear разными\n",
      "\n",
      "p-значение:  0.20836205402738917\n",
      "Не получилось отвергнуть нулевую гипотезу, нет оснований считать доли в событии OffersScreenAppear разными\n",
      "\n",
      "p-значение:  0.07842923237520116\n",
      "Не получилось отвергнуть нулевую гипотезу, нет оснований считать доли в событии CartScreenAppear разными\n",
      "\n",
      "p-значение:  0.2122553275697796\n",
      "Не получилось отвергнуть нулевую гипотезу, нет оснований считать доли в событии PaymentScreenSuccessful разными\n",
      "\n"
     ]
    }
   ],
   "source": [
    "for event_name in users_count['event_name'].unique():\n",
    "    stat_function(actual_data[actual_data['exp_id'] == 246], actual_data[actual_data['exp_id'] == 248], event_name, .1, 16)\n",
    "    print()"
   ]
  },
  {
   "cell_type": "markdown",
   "metadata": {},
   "source": [
    "Анализ результатов A/B-теста для групп 246 и 248 при уровне значимости 0.1 сообщает, что нет оснований считать доли в событиях разными."
   ]
  },
  {
   "cell_type": "code",
   "execution_count": 36,
   "metadata": {},
   "outputs": [
    {
     "name": "stdout",
     "output_type": "stream",
     "text": [
      "p-значение:  0.4587053616621515\n",
      "Не получилось отвергнуть нулевую гипотезу, нет оснований считать доли в событии MainScreenAppear разными\n",
      "\n",
      "p-значение:  0.9197817830592261\n",
      "Не получилось отвергнуть нулевую гипотезу, нет оснований считать доли в событии OffersScreenAppear разными\n",
      "\n",
      "p-значение:  0.5786197879539783\n",
      "Не получилось отвергнуть нулевую гипотезу, нет оснований считать доли в событии CartScreenAppear разными\n",
      "\n",
      "p-значение:  0.7373415053803964\n",
      "Не получилось отвергнуть нулевую гипотезу, нет оснований считать доли в событии PaymentScreenSuccessful разными\n",
      "\n"
     ]
    }
   ],
   "source": [
    "for event_name in users_count['event_name'].unique():\n",
    "    stat_function(actual_data[actual_data['exp_id'] == 247], actual_data[actual_data['exp_id'] == 248], event_name, .1, 16)\n",
    "    print()"
   ]
  },
  {
   "cell_type": "markdown",
   "metadata": {},
   "source": [
    "Анализ результатов A/B-теста для групп 247 и 248 при уровне значимости 0.1 сообщает, что нет оснований считать доли в событиях разными."
   ]
  },
  {
   "cell_type": "code",
   "execution_count": 37,
   "metadata": {},
   "outputs": [
    {
     "name": "stdout",
     "output_type": "stream",
     "text": [
      "p-значение:  0.29424526837179577\n",
      "Не получилось отвергнуть нулевую гипотезу, нет оснований считать доли в событии MainScreenAppear разными\n",
      "\n",
      "p-значение:  0.43425549655188256\n",
      "Не получилось отвергнуть нулевую гипотезу, нет оснований считать доли в событии OffersScreenAppear разными\n",
      "\n",
      "p-значение:  0.18175875284404386\n",
      "Не получилось отвергнуть нулевую гипотезу, нет оснований считать доли в событии CartScreenAppear разными\n",
      "\n",
      "p-значение:  0.6004294282308704\n",
      "Не получилось отвергнуть нулевую гипотезу, нет оснований считать доли в событии PaymentScreenSuccessful разными\n",
      "\n"
     ]
    }
   ],
   "source": [
    "for event_name in users_count['event_name'].unique():\n",
    "    stat_function(actual_data[actual_data['exp_id'] != 248], actual_data[actual_data['exp_id'] == 248], event_name, .1, 16)\n",
    "    print()"
   ]
  },
  {
   "cell_type": "markdown",
   "metadata": {},
   "source": [
    "Анализ результатов A/B-теста для объединенной группы 246+247 и группы 248 при уровне значимости 0.1 сообщает, что нет оснований считать доли в событиях разными. Увеличение уровня значимости до 0.1 не повлияло на результаты проверок статистических гипотез."
   ]
  },
  {
   "cell_type": "markdown",
   "metadata": {},
   "source": [
    "### Общий вывод"
   ]
  },
  {
   "cell_type": "markdown",
   "metadata": {},
   "source": [
    "Задачей исследования было изучить воронку продаж и результаты A/A/B-эксперимента для 2 контрольных групп со старыми шрифтами и одной экспериментальной группы с новыми шрифтами. В результате исследования были получены следующие выводы:\n",
    "- Данные представлены за период с 25 июля по 7 августа 2019 года. Не за весь период содержатся одинаково полные данные, поэтому исследование было ограничено периодом с 1 по 7 августа. Относительные потери событий и пользователей при этом составили меньше 2%.\n",
    "- Чаще всего в логах встречается событие MainScreenAppear, затем идут события OffersScreenAppear, CartScreenAppear, PaymentScreenSuccessful, Tutorial.\n",
    "- Мы предположили, что события происходят в следующем порядке: MainScreenAppear → OffersScreenAppear → CartScreenAppear → PaymentScreenSuccessful. Событие Tutorial выбивается из этой цепочки, это наименее частое событие, поэтому мы не учитывали его при расчете воронки.\n",
    "- При переходе с события MainScreenAppear на OffersScreenAppear теряется больше всего пользователей (примерно 38%).\n",
    "- Доля пользователей, которая прошла от первого события до оплаты составляет 48%.\n",
    "- Анализ результатов A/A-теста двух контрольных групп показал, что нет оснований считать доли в событиях разными. Значит, разбиение на группы 246 и 247 работает корректно.\n",
    "- Анализ результатов A/B-теста 2 контрольных групп со старыми шрифтами и одной экспериментальной группы с новыми шрифтами показал, что нет оснований считать доли в событиях разными. Значит, изменение шрифта не повлияло на поведение пользователей."
   ]
  }
 ],
 "metadata": {
  "ExecuteTimeLog": [
   {
    "duration": 1239,
    "start_time": "2024-05-16T19:13:02.072Z"
   },
   {
    "duration": 424,
    "start_time": "2024-05-16T19:14:01.407Z"
   },
   {
    "duration": 14,
    "start_time": "2024-05-16T19:14:03.807Z"
   },
   {
    "duration": 176,
    "start_time": "2024-05-16T19:14:55.244Z"
   },
   {
    "duration": 9,
    "start_time": "2024-05-16T19:14:57.066Z"
   },
   {
    "duration": 105,
    "start_time": "2024-05-16T19:18:58.761Z"
   },
   {
    "duration": 26,
    "start_time": "2024-05-16T19:19:07.872Z"
   },
   {
    "duration": 7,
    "start_time": "2024-05-16T19:27:57.682Z"
   },
   {
    "duration": 7,
    "start_time": "2024-05-16T19:28:21.683Z"
   },
   {
    "duration": 15,
    "start_time": "2024-05-16T19:30:36.862Z"
   },
   {
    "duration": 8,
    "start_time": "2024-05-16T19:31:46.564Z"
   },
   {
    "duration": 1055,
    "start_time": "2024-05-16T19:32:00.194Z"
   },
   {
    "duration": 173,
    "start_time": "2024-05-16T19:32:01.250Z"
   },
   {
    "duration": 32,
    "start_time": "2024-05-16T19:32:01.424Z"
   },
   {
    "duration": 25,
    "start_time": "2024-05-16T19:32:01.457Z"
   },
   {
    "duration": 63,
    "start_time": "2024-05-16T19:32:01.483Z"
   },
   {
    "duration": 100,
    "start_time": "2024-05-16T19:32:01.548Z"
   },
   {
    "duration": 9,
    "start_time": "2024-05-16T19:36:00.871Z"
   },
   {
    "duration": 52,
    "start_time": "2024-05-16T19:36:06.068Z"
   },
   {
    "duration": 20,
    "start_time": "2024-05-16T19:39:44.556Z"
   },
   {
    "duration": 1090,
    "start_time": "2024-05-16T19:40:01.229Z"
   },
   {
    "duration": 182,
    "start_time": "2024-05-16T19:40:02.321Z"
   },
   {
    "duration": 31,
    "start_time": "2024-05-16T19:40:02.504Z"
   },
   {
    "duration": 27,
    "start_time": "2024-05-16T19:40:02.537Z"
   },
   {
    "duration": 38,
    "start_time": "2024-05-16T19:40:02.567Z"
   },
   {
    "duration": 26,
    "start_time": "2024-05-16T19:40:02.607Z"
   },
   {
    "duration": 16,
    "start_time": "2024-05-16T19:40:12.725Z"
   },
   {
    "duration": 58,
    "start_time": "2024-05-16T19:41:40.863Z"
   },
   {
    "duration": 26,
    "start_time": "2024-05-16T19:42:58.358Z"
   },
   {
    "duration": 33,
    "start_time": "2024-05-16T19:43:07.830Z"
   },
   {
    "duration": 124,
    "start_time": "2024-05-16T19:49:01.164Z"
   },
   {
    "duration": 174,
    "start_time": "2024-05-16T19:49:58.603Z"
   },
   {
    "duration": 89,
    "start_time": "2024-05-16T19:54:34.528Z"
   },
   {
    "duration": 110,
    "start_time": "2024-05-16T19:54:41.792Z"
   },
   {
    "duration": 1076,
    "start_time": "2024-05-16T19:57:12.358Z"
   },
   {
    "duration": 171,
    "start_time": "2024-05-16T19:57:13.436Z"
   },
   {
    "duration": 31,
    "start_time": "2024-05-16T19:57:13.609Z"
   },
   {
    "duration": 25,
    "start_time": "2024-05-16T19:57:13.641Z"
   },
   {
    "duration": 36,
    "start_time": "2024-05-16T19:57:13.667Z"
   },
   {
    "duration": 15,
    "start_time": "2024-05-16T19:57:13.705Z"
   },
   {
    "duration": 87,
    "start_time": "2024-05-16T19:57:13.721Z"
   },
   {
    "duration": 121,
    "start_time": "2024-05-16T19:57:13.809Z"
   },
   {
    "duration": 186,
    "start_time": "2024-05-16T19:57:13.932Z"
   },
   {
    "duration": 109,
    "start_time": "2024-05-16T19:57:14.120Z"
   },
   {
    "duration": 16,
    "start_time": "2024-05-16T20:01:09.043Z"
   },
   {
    "duration": 17,
    "start_time": "2024-05-16T20:01:49.578Z"
   },
   {
    "duration": 4,
    "start_time": "2024-05-16T20:02:45.392Z"
   },
   {
    "duration": 5,
    "start_time": "2024-05-16T20:03:14.090Z"
   },
   {
    "duration": 16,
    "start_time": "2024-05-16T20:03:19.743Z"
   },
   {
    "duration": 19,
    "start_time": "2024-05-16T20:03:23.749Z"
   },
   {
    "duration": 48,
    "start_time": "2024-05-16T20:06:21.334Z"
   },
   {
    "duration": 67,
    "start_time": "2024-05-16T20:06:28.370Z"
   },
   {
    "duration": 49,
    "start_time": "2024-05-16T20:06:32.842Z"
   },
   {
    "duration": 14,
    "start_time": "2024-05-16T20:06:59.368Z"
   },
   {
    "duration": 17,
    "start_time": "2024-05-16T20:06:59.550Z"
   },
   {
    "duration": 26,
    "start_time": "2024-05-16T20:06:59.719Z"
   },
   {
    "duration": 37,
    "start_time": "2024-05-16T20:07:42.723Z"
   },
   {
    "duration": 3,
    "start_time": "2024-05-16T20:08:54.819Z"
   },
   {
    "duration": 26,
    "start_time": "2024-05-16T20:08:59.284Z"
   },
   {
    "duration": 13,
    "start_time": "2024-05-16T20:09:17.972Z"
   },
   {
    "duration": 33,
    "start_time": "2024-05-16T20:09:18.478Z"
   },
   {
    "duration": 25,
    "start_time": "2024-05-16T20:09:18.686Z"
   },
   {
    "duration": 23,
    "start_time": "2024-05-16T20:09:38.928Z"
   },
   {
    "duration": 9,
    "start_time": "2024-05-16T20:11:07.654Z"
   },
   {
    "duration": 832,
    "start_time": "2024-05-16T20:11:14.566Z"
   },
   {
    "duration": 1097,
    "start_time": "2024-05-16T20:11:21.843Z"
   },
   {
    "duration": 190,
    "start_time": "2024-05-16T20:11:22.942Z"
   },
   {
    "duration": 36,
    "start_time": "2024-05-16T20:11:23.135Z"
   },
   {
    "duration": 9,
    "start_time": "2024-05-16T20:11:23.174Z"
   },
   {
    "duration": 36,
    "start_time": "2024-05-16T20:11:23.184Z"
   },
   {
    "duration": 15,
    "start_time": "2024-05-16T20:11:23.222Z"
   },
   {
    "duration": 79,
    "start_time": "2024-05-16T20:11:23.238Z"
   },
   {
    "duration": 135,
    "start_time": "2024-05-16T20:11:23.319Z"
   },
   {
    "duration": 180,
    "start_time": "2024-05-16T20:11:23.455Z"
   },
   {
    "duration": 127,
    "start_time": "2024-05-16T20:11:23.638Z"
   },
   {
    "duration": 18,
    "start_time": "2024-05-16T20:11:23.767Z"
   },
   {
    "duration": 18,
    "start_time": "2024-05-16T20:11:23.787Z"
   },
   {
    "duration": 34,
    "start_time": "2024-05-16T20:11:23.807Z"
   },
   {
    "duration": 25,
    "start_time": "2024-05-16T20:11:23.842Z"
   },
   {
    "duration": 6,
    "start_time": "2024-05-16T20:11:37.627Z"
   },
   {
    "duration": 7,
    "start_time": "2024-05-16T20:11:51.209Z"
   },
   {
    "duration": 16,
    "start_time": "2024-05-16T20:13:37.548Z"
   },
   {
    "duration": 31,
    "start_time": "2024-05-16T20:13:37.956Z"
   },
   {
    "duration": 5,
    "start_time": "2024-05-16T20:13:38.298Z"
   },
   {
    "duration": 31,
    "start_time": "2024-05-16T20:15:59.824Z"
   },
   {
    "duration": 18,
    "start_time": "2024-05-16T20:16:12.819Z"
   },
   {
    "duration": 29,
    "start_time": "2024-05-16T20:16:32.382Z"
   },
   {
    "duration": 65,
    "start_time": "2024-05-16T20:19:30.069Z"
   },
   {
    "duration": 20,
    "start_time": "2024-05-16T20:19:47.978Z"
   },
   {
    "duration": 46,
    "start_time": "2024-05-17T11:18:49.526Z"
   },
   {
    "duration": 1277,
    "start_time": "2024-05-17T11:41:54.780Z"
   },
   {
    "duration": 289,
    "start_time": "2024-05-17T11:41:56.061Z"
   },
   {
    "duration": 30,
    "start_time": "2024-05-17T11:41:56.352Z"
   },
   {
    "duration": 9,
    "start_time": "2024-05-17T11:41:56.385Z"
   },
   {
    "duration": 72,
    "start_time": "2024-05-17T11:41:56.396Z"
   },
   {
    "duration": 16,
    "start_time": "2024-05-17T11:41:56.470Z"
   },
   {
    "duration": 71,
    "start_time": "2024-05-17T11:41:56.487Z"
   },
   {
    "duration": 118,
    "start_time": "2024-05-17T11:41:56.560Z"
   },
   {
    "duration": 186,
    "start_time": "2024-05-17T11:41:56.680Z"
   },
   {
    "duration": 123,
    "start_time": "2024-05-17T11:41:56.868Z"
   },
   {
    "duration": 62,
    "start_time": "2024-05-17T11:41:56.993Z"
   },
   {
    "duration": 25,
    "start_time": "2024-05-17T11:41:57.057Z"
   },
   {
    "duration": 7,
    "start_time": "2024-05-17T11:41:57.083Z"
   },
   {
    "duration": 81,
    "start_time": "2024-05-17T11:41:57.092Z"
   },
   {
    "duration": 185,
    "start_time": "2024-05-17T11:41:57.175Z"
   },
   {
    "duration": 271,
    "start_time": "2024-05-17T11:48:10.709Z"
   },
   {
    "duration": 353,
    "start_time": "2024-05-17T11:49:47.359Z"
   },
   {
    "duration": 1033,
    "start_time": "2024-05-17T11:50:18.421Z"
   },
   {
    "duration": 169,
    "start_time": "2024-05-17T11:50:19.455Z"
   },
   {
    "duration": 29,
    "start_time": "2024-05-17T11:50:19.625Z"
   },
   {
    "duration": 13,
    "start_time": "2024-05-17T11:50:19.656Z"
   },
   {
    "duration": 52,
    "start_time": "2024-05-17T11:50:19.671Z"
   },
   {
    "duration": 17,
    "start_time": "2024-05-17T11:50:19.725Z"
   },
   {
    "duration": 81,
    "start_time": "2024-05-17T11:50:19.744Z"
   },
   {
    "duration": 131,
    "start_time": "2024-05-17T11:50:19.828Z"
   },
   {
    "duration": 181,
    "start_time": "2024-05-17T11:50:19.965Z"
   },
   {
    "duration": 136,
    "start_time": "2024-05-17T11:50:20.148Z"
   },
   {
    "duration": 30,
    "start_time": "2024-05-17T11:50:20.286Z"
   },
   {
    "duration": 64,
    "start_time": "2024-05-17T11:50:20.318Z"
   },
   {
    "duration": 30,
    "start_time": "2024-05-17T11:50:20.384Z"
   },
   {
    "duration": 37,
    "start_time": "2024-05-17T11:50:20.417Z"
   },
   {
    "duration": 174,
    "start_time": "2024-05-17T11:50:20.456Z"
   },
   {
    "duration": 366,
    "start_time": "2024-05-17T11:50:20.632Z"
   },
   {
    "duration": 1319,
    "start_time": "2024-05-17T17:23:49.796Z"
   },
   {
    "duration": 283,
    "start_time": "2024-05-17T17:23:51.117Z"
   },
   {
    "duration": 32,
    "start_time": "2024-05-17T17:23:51.401Z"
   },
   {
    "duration": 8,
    "start_time": "2024-05-17T17:23:51.435Z"
   },
   {
    "duration": 50,
    "start_time": "2024-05-17T17:23:51.445Z"
   },
   {
    "duration": 17,
    "start_time": "2024-05-17T17:23:51.497Z"
   },
   {
    "duration": 74,
    "start_time": "2024-05-17T17:23:51.515Z"
   },
   {
    "duration": 122,
    "start_time": "2024-05-17T17:23:51.591Z"
   },
   {
    "duration": 209,
    "start_time": "2024-05-17T17:23:51.715Z"
   },
   {
    "duration": 148,
    "start_time": "2024-05-17T17:23:51.927Z"
   },
   {
    "duration": 18,
    "start_time": "2024-05-17T17:23:52.077Z"
   },
   {
    "duration": 27,
    "start_time": "2024-05-17T17:23:52.096Z"
   },
   {
    "duration": 7,
    "start_time": "2024-05-17T17:23:52.125Z"
   },
   {
    "duration": 21,
    "start_time": "2024-05-17T17:23:52.161Z"
   },
   {
    "duration": 181,
    "start_time": "2024-05-17T17:23:52.184Z"
   },
   {
    "duration": 348,
    "start_time": "2024-05-17T17:23:52.367Z"
   },
   {
    "duration": 338,
    "start_time": "2024-05-17T17:24:00.263Z"
   },
   {
    "duration": 1035,
    "start_time": "2024-05-17T17:26:21.710Z"
   },
   {
    "duration": 183,
    "start_time": "2024-05-17T17:26:22.747Z"
   },
   {
    "duration": 38,
    "start_time": "2024-05-17T17:26:22.932Z"
   },
   {
    "duration": 8,
    "start_time": "2024-05-17T17:26:22.972Z"
   },
   {
    "duration": 57,
    "start_time": "2024-05-17T17:26:22.981Z"
   },
   {
    "duration": 22,
    "start_time": "2024-05-17T17:26:23.040Z"
   },
   {
    "duration": 73,
    "start_time": "2024-05-17T17:26:23.064Z"
   },
   {
    "duration": 136,
    "start_time": "2024-05-17T17:26:23.139Z"
   },
   {
    "duration": 184,
    "start_time": "2024-05-17T17:26:23.277Z"
   },
   {
    "duration": 115,
    "start_time": "2024-05-17T17:26:23.464Z"
   },
   {
    "duration": 17,
    "start_time": "2024-05-17T17:26:23.580Z"
   },
   {
    "duration": 34,
    "start_time": "2024-05-17T17:26:23.599Z"
   },
   {
    "duration": 5,
    "start_time": "2024-05-17T17:26:23.635Z"
   },
   {
    "duration": 31,
    "start_time": "2024-05-17T17:26:23.641Z"
   },
   {
    "duration": 191,
    "start_time": "2024-05-17T17:26:23.673Z"
   },
   {
    "duration": 1132,
    "start_time": "2024-05-17T17:27:16.072Z"
   },
   {
    "duration": 204,
    "start_time": "2024-05-17T17:27:17.206Z"
   },
   {
    "duration": 29,
    "start_time": "2024-05-17T17:27:17.412Z"
   },
   {
    "duration": 19,
    "start_time": "2024-05-17T17:27:17.443Z"
   },
   {
    "duration": 38,
    "start_time": "2024-05-17T17:27:17.463Z"
   },
   {
    "duration": 17,
    "start_time": "2024-05-17T17:27:17.502Z"
   },
   {
    "duration": 86,
    "start_time": "2024-05-17T17:27:17.520Z"
   },
   {
    "duration": 125,
    "start_time": "2024-05-17T17:27:17.607Z"
   },
   {
    "duration": 192,
    "start_time": "2024-05-17T17:27:17.733Z"
   },
   {
    "duration": 119,
    "start_time": "2024-05-17T17:27:17.927Z"
   },
   {
    "duration": 27,
    "start_time": "2024-05-17T17:27:18.048Z"
   },
   {
    "duration": 26,
    "start_time": "2024-05-17T17:27:18.077Z"
   },
   {
    "duration": 6,
    "start_time": "2024-05-17T17:27:18.105Z"
   },
   {
    "duration": 19,
    "start_time": "2024-05-17T17:27:18.112Z"
   },
   {
    "duration": 199,
    "start_time": "2024-05-17T17:27:18.133Z"
   },
   {
    "duration": 372,
    "start_time": "2024-05-17T17:27:18.334Z"
   },
   {
    "duration": 371,
    "start_time": "2024-05-17T17:29:06.034Z"
   },
   {
    "duration": 460,
    "start_time": "2024-05-17T17:30:40.900Z"
   },
   {
    "duration": 349,
    "start_time": "2024-05-17T17:31:00.124Z"
   },
   {
    "duration": 49,
    "start_time": "2024-05-17T17:32:37.605Z"
   },
   {
    "duration": 376,
    "start_time": "2024-05-17T17:32:48.095Z"
   },
   {
    "duration": 40,
    "start_time": "2024-05-17T18:28:22.127Z"
   },
   {
    "duration": 55,
    "start_time": "2024-05-17T18:29:00.491Z"
   },
   {
    "duration": 48,
    "start_time": "2024-05-17T18:29:06.781Z"
   },
   {
    "duration": 42,
    "start_time": "2024-05-17T18:29:14.598Z"
   },
   {
    "duration": 64,
    "start_time": "2024-05-17T18:29:36.648Z"
   },
   {
    "duration": 198,
    "start_time": "2024-05-17T18:30:05.964Z"
   },
   {
    "duration": 206,
    "start_time": "2024-05-17T18:31:11.898Z"
   },
   {
    "duration": 39,
    "start_time": "2024-05-17T18:37:31.227Z"
   },
   {
    "duration": 51,
    "start_time": "2024-05-17T18:38:10.709Z"
   },
   {
    "duration": 3,
    "start_time": "2024-05-17T18:38:16.603Z"
   },
   {
    "duration": 3,
    "start_time": "2024-05-17T18:38:31.586Z"
   },
   {
    "duration": 12,
    "start_time": "2024-05-17T18:38:55.102Z"
   },
   {
    "duration": 47,
    "start_time": "2024-05-17T18:43:49.556Z"
   },
   {
    "duration": 48,
    "start_time": "2024-05-17T18:44:06.694Z"
   },
   {
    "duration": 91,
    "start_time": "2024-05-17T18:45:12.411Z"
   },
   {
    "duration": 54,
    "start_time": "2024-05-17T18:45:47.382Z"
   },
   {
    "duration": 15,
    "start_time": "2024-05-17T18:46:46.861Z"
   },
   {
    "duration": 15,
    "start_time": "2024-05-17T18:47:08.851Z"
   },
   {
    "duration": 15,
    "start_time": "2024-05-17T18:47:22.045Z"
   },
   {
    "duration": 15,
    "start_time": "2024-05-17T18:49:38.584Z"
   },
   {
    "duration": 8,
    "start_time": "2024-05-17T18:52:33.999Z"
   },
   {
    "duration": 7,
    "start_time": "2024-05-17T18:52:54.217Z"
   },
   {
    "duration": 8,
    "start_time": "2024-05-17T18:52:58.212Z"
   },
   {
    "duration": 53,
    "start_time": "2024-05-17T18:54:01.017Z"
   },
   {
    "duration": 448,
    "start_time": "2024-05-17T18:59:23.224Z"
   },
   {
    "duration": 352,
    "start_time": "2024-05-17T18:59:36.897Z"
   },
   {
    "duration": 21,
    "start_time": "2024-05-17T19:00:44.506Z"
   },
   {
    "duration": 23,
    "start_time": "2024-05-17T19:01:47.905Z"
   },
   {
    "duration": 17,
    "start_time": "2024-05-17T19:01:58.599Z"
   },
   {
    "duration": 825,
    "start_time": "2024-05-17T19:02:30.195Z"
   },
   {
    "duration": 209,
    "start_time": "2024-05-17T19:02:45.229Z"
   },
   {
    "duration": 196,
    "start_time": "2024-05-17T19:03:21.367Z"
   },
   {
    "duration": 199,
    "start_time": "2024-05-17T19:03:36.170Z"
   },
   {
    "duration": 208,
    "start_time": "2024-05-17T19:03:55.693Z"
   },
   {
    "duration": 173,
    "start_time": "2024-05-17T19:04:06.117Z"
   },
   {
    "duration": 192,
    "start_time": "2024-05-17T19:04:14.960Z"
   },
   {
    "duration": 167,
    "start_time": "2024-05-17T19:05:45.352Z"
   },
   {
    "duration": 41,
    "start_time": "2024-05-17T19:12:46.994Z"
   },
   {
    "duration": 30,
    "start_time": "2024-05-17T19:12:55.785Z"
   },
   {
    "duration": 64,
    "start_time": "2024-05-17T19:13:07.313Z"
   },
   {
    "duration": 46,
    "start_time": "2024-05-17T19:14:20.679Z"
   },
   {
    "duration": 80,
    "start_time": "2024-05-17T19:14:28.776Z"
   },
   {
    "duration": 70,
    "start_time": "2024-05-17T19:14:43.505Z"
   },
   {
    "duration": 65,
    "start_time": "2024-05-17T19:21:52.435Z"
   },
   {
    "duration": 65,
    "start_time": "2024-05-17T19:21:54.839Z"
   },
   {
    "duration": 63,
    "start_time": "2024-05-17T19:22:23.667Z"
   },
   {
    "duration": 70,
    "start_time": "2024-05-17T19:22:31.132Z"
   },
   {
    "duration": 70,
    "start_time": "2024-05-17T19:22:45.832Z"
   },
   {
    "duration": 72,
    "start_time": "2024-05-17T19:23:01.926Z"
   },
   {
    "duration": 73,
    "start_time": "2024-05-17T19:23:40.693Z"
   },
   {
    "duration": 151,
    "start_time": "2024-05-17T19:24:51.667Z"
   },
   {
    "duration": 84,
    "start_time": "2024-05-17T19:25:03.392Z"
   },
   {
    "duration": 73,
    "start_time": "2024-05-17T19:25:24.618Z"
   },
   {
    "duration": 72,
    "start_time": "2024-05-17T19:25:32.487Z"
   },
   {
    "duration": 84,
    "start_time": "2024-05-17T19:25:50.353Z"
   },
   {
    "duration": 72,
    "start_time": "2024-05-17T19:25:57.775Z"
   },
   {
    "duration": 19,
    "start_time": "2024-05-17T19:33:07.071Z"
   },
   {
    "duration": 24,
    "start_time": "2024-05-17T19:33:23.483Z"
   },
   {
    "duration": 41,
    "start_time": "2024-05-17T19:33:52.607Z"
   },
   {
    "duration": 475,
    "start_time": "2024-05-17T19:34:58.347Z"
   },
   {
    "duration": 448,
    "start_time": "2024-05-17T19:35:07.576Z"
   },
   {
    "duration": 162,
    "start_time": "2024-05-17T19:35:28.964Z"
   },
   {
    "duration": 77,
    "start_time": "2024-05-17T19:40:34.503Z"
   },
   {
    "duration": 91,
    "start_time": "2024-05-17T19:40:38.205Z"
   },
   {
    "duration": 11,
    "start_time": "2024-05-17T19:48:52.124Z"
   },
   {
    "duration": 10,
    "start_time": "2024-05-17T19:49:41.330Z"
   },
   {
    "duration": 371,
    "start_time": "2024-05-17T19:49:50.276Z"
   },
   {
    "duration": 336,
    "start_time": "2024-05-17T19:49:59.043Z"
   },
   {
    "duration": 351,
    "start_time": "2024-05-17T19:50:21.803Z"
   },
   {
    "duration": 274,
    "start_time": "2024-05-17T19:53:41.105Z"
   },
   {
    "duration": 471,
    "start_time": "2024-05-17T19:53:58.751Z"
   },
   {
    "duration": 350,
    "start_time": "2024-05-17T19:54:02.997Z"
   },
   {
    "duration": 373,
    "start_time": "2024-05-17T19:54:08.306Z"
   },
   {
    "duration": 82,
    "start_time": "2024-05-17T19:55:47.691Z"
   },
   {
    "duration": 1059,
    "start_time": "2024-05-17T19:56:40.587Z"
   },
   {
    "duration": 1136,
    "start_time": "2024-05-17T19:56:57.983Z"
   },
   {
    "duration": 190,
    "start_time": "2024-05-17T19:56:59.121Z"
   },
   {
    "duration": 31,
    "start_time": "2024-05-17T19:56:59.312Z"
   },
   {
    "duration": 20,
    "start_time": "2024-05-17T19:56:59.345Z"
   },
   {
    "duration": 40,
    "start_time": "2024-05-17T19:56:59.368Z"
   },
   {
    "duration": 17,
    "start_time": "2024-05-17T19:56:59.410Z"
   },
   {
    "duration": 93,
    "start_time": "2024-05-17T19:56:59.428Z"
   },
   {
    "duration": 154,
    "start_time": "2024-05-17T19:56:59.523Z"
   },
   {
    "duration": 247,
    "start_time": "2024-05-17T19:56:59.680Z"
   },
   {
    "duration": 1118,
    "start_time": "2024-05-17T19:56:59.929Z"
   },
   {
    "duration": 12,
    "start_time": "2024-05-17T19:57:01.049Z"
   },
   {
    "duration": 112,
    "start_time": "2024-05-17T19:57:01.063Z"
   },
   {
    "duration": 58,
    "start_time": "2024-05-17T19:57:01.177Z"
   },
   {
    "duration": 48,
    "start_time": "2024-05-17T19:57:01.239Z"
   },
   {
    "duration": 54,
    "start_time": "2024-05-17T19:57:01.289Z"
   },
   {
    "duration": 131,
    "start_time": "2024-05-17T19:57:01.345Z"
   },
   {
    "duration": 0,
    "start_time": "2024-05-17T19:57:01.478Z"
   },
   {
    "duration": 0,
    "start_time": "2024-05-17T19:57:01.479Z"
   },
   {
    "duration": 0,
    "start_time": "2024-05-17T19:57:01.481Z"
   },
   {
    "duration": 0,
    "start_time": "2024-05-17T19:57:01.482Z"
   },
   {
    "duration": 0,
    "start_time": "2024-05-17T19:57:01.483Z"
   },
   {
    "duration": 0,
    "start_time": "2024-05-17T19:57:01.485Z"
   },
   {
    "duration": 0,
    "start_time": "2024-05-17T19:57:01.486Z"
   },
   {
    "duration": 39,
    "start_time": "2024-05-17T19:57:22.482Z"
   },
   {
    "duration": 1150,
    "start_time": "2024-05-17T19:57:36.655Z"
   },
   {
    "duration": 207,
    "start_time": "2024-05-17T19:57:37.807Z"
   },
   {
    "duration": 34,
    "start_time": "2024-05-17T19:57:38.015Z"
   },
   {
    "duration": 9,
    "start_time": "2024-05-17T19:57:38.062Z"
   },
   {
    "duration": 52,
    "start_time": "2024-05-17T19:57:38.073Z"
   },
   {
    "duration": 34,
    "start_time": "2024-05-17T19:57:38.127Z"
   },
   {
    "duration": 103,
    "start_time": "2024-05-17T19:57:38.162Z"
   },
   {
    "duration": 143,
    "start_time": "2024-05-17T19:57:38.267Z"
   },
   {
    "duration": 233,
    "start_time": "2024-05-17T19:57:38.412Z"
   },
   {
    "duration": 1189,
    "start_time": "2024-05-17T19:57:38.648Z"
   },
   {
    "duration": 5,
    "start_time": "2024-05-17T19:57:39.839Z"
   },
   {
    "duration": 31,
    "start_time": "2024-05-17T19:57:39.846Z"
   },
   {
    "duration": 35,
    "start_time": "2024-05-17T19:57:39.879Z"
   },
   {
    "duration": 6,
    "start_time": "2024-05-17T19:57:39.917Z"
   },
   {
    "duration": 51,
    "start_time": "2024-05-17T19:57:39.926Z"
   },
   {
    "duration": 52,
    "start_time": "2024-05-17T19:57:39.979Z"
   },
   {
    "duration": 458,
    "start_time": "2024-05-17T19:57:40.033Z"
   },
   {
    "duration": 140,
    "start_time": "2024-05-17T19:57:40.493Z"
   },
   {
    "duration": 0,
    "start_time": "2024-05-17T19:57:40.634Z"
   },
   {
    "duration": 0,
    "start_time": "2024-05-17T19:57:40.635Z"
   },
   {
    "duration": 0,
    "start_time": "2024-05-17T19:57:40.636Z"
   },
   {
    "duration": 0,
    "start_time": "2024-05-17T19:57:40.638Z"
   },
   {
    "duration": 0,
    "start_time": "2024-05-17T19:57:40.639Z"
   },
   {
    "duration": 68,
    "start_time": "2024-05-17T19:58:12.631Z"
   },
   {
    "duration": 1235,
    "start_time": "2024-05-17T19:58:19.661Z"
   },
   {
    "duration": 192,
    "start_time": "2024-05-17T19:58:20.899Z"
   },
   {
    "duration": 34,
    "start_time": "2024-05-17T19:58:21.093Z"
   },
   {
    "duration": 8,
    "start_time": "2024-05-17T19:58:21.129Z"
   },
   {
    "duration": 60,
    "start_time": "2024-05-17T19:58:21.139Z"
   },
   {
    "duration": 18,
    "start_time": "2024-05-17T19:58:21.201Z"
   },
   {
    "duration": 94,
    "start_time": "2024-05-17T19:58:21.221Z"
   },
   {
    "duration": 139,
    "start_time": "2024-05-17T19:58:21.317Z"
   },
   {
    "duration": 207,
    "start_time": "2024-05-17T19:58:21.460Z"
   },
   {
    "duration": 1143,
    "start_time": "2024-05-17T19:58:21.670Z"
   },
   {
    "duration": 4,
    "start_time": "2024-05-17T19:58:22.814Z"
   },
   {
    "duration": 20,
    "start_time": "2024-05-17T19:58:22.819Z"
   },
   {
    "duration": 44,
    "start_time": "2024-05-17T19:58:22.841Z"
   },
   {
    "duration": 6,
    "start_time": "2024-05-17T19:58:22.886Z"
   },
   {
    "duration": 21,
    "start_time": "2024-05-17T19:58:22.894Z"
   },
   {
    "duration": 67,
    "start_time": "2024-05-17T19:58:22.918Z"
   },
   {
    "duration": 421,
    "start_time": "2024-05-17T19:58:22.987Z"
   },
   {
    "duration": 77,
    "start_time": "2024-05-17T19:58:23.409Z"
   },
   {
    "duration": 18,
    "start_time": "2024-05-17T19:58:23.488Z"
   },
   {
    "duration": 84,
    "start_time": "2024-05-17T19:58:23.508Z"
   },
   {
    "duration": 212,
    "start_time": "2024-05-17T19:58:23.594Z"
   },
   {
    "duration": 88,
    "start_time": "2024-05-17T19:58:23.808Z"
   },
   {
    "duration": 68,
    "start_time": "2024-05-17T19:58:23.898Z"
   },
   {
    "duration": 0,
    "start_time": "2024-05-18T12:25:00.671Z"
   },
   {
    "duration": 0,
    "start_time": "2024-05-18T12:25:00.673Z"
   },
   {
    "duration": 0,
    "start_time": "2024-05-18T12:25:00.674Z"
   },
   {
    "duration": 0,
    "start_time": "2024-05-18T12:25:00.675Z"
   },
   {
    "duration": 0,
    "start_time": "2024-05-18T12:25:00.676Z"
   },
   {
    "duration": 0,
    "start_time": "2024-05-18T12:25:00.681Z"
   },
   {
    "duration": 0,
    "start_time": "2024-05-18T12:25:00.682Z"
   },
   {
    "duration": 0,
    "start_time": "2024-05-18T12:25:00.683Z"
   },
   {
    "duration": 0,
    "start_time": "2024-05-18T12:25:00.684Z"
   },
   {
    "duration": 0,
    "start_time": "2024-05-18T12:25:00.686Z"
   },
   {
    "duration": 0,
    "start_time": "2024-05-18T12:25:00.687Z"
   },
   {
    "duration": 0,
    "start_time": "2024-05-18T12:25:00.688Z"
   },
   {
    "duration": 0,
    "start_time": "2024-05-18T12:25:00.689Z"
   },
   {
    "duration": 0,
    "start_time": "2024-05-18T12:25:00.690Z"
   },
   {
    "duration": 0,
    "start_time": "2024-05-18T12:25:00.692Z"
   },
   {
    "duration": 0,
    "start_time": "2024-05-18T12:25:00.693Z"
   },
   {
    "duration": 0,
    "start_time": "2024-05-18T12:25:00.694Z"
   },
   {
    "duration": 0,
    "start_time": "2024-05-18T12:25:00.695Z"
   },
   {
    "duration": 0,
    "start_time": "2024-05-18T12:25:00.696Z"
   },
   {
    "duration": 0,
    "start_time": "2024-05-18T12:25:00.698Z"
   },
   {
    "duration": 0,
    "start_time": "2024-05-18T12:25:00.699Z"
   },
   {
    "duration": 0,
    "start_time": "2024-05-18T12:25:00.701Z"
   },
   {
    "duration": 0,
    "start_time": "2024-05-18T12:25:00.702Z"
   },
   {
    "duration": 0,
    "start_time": "2024-05-18T12:25:00.704Z"
   },
   {
    "duration": 3,
    "start_time": "2024-05-18T12:25:08.074Z"
   },
   {
    "duration": 176,
    "start_time": "2024-05-18T12:25:08.252Z"
   },
   {
    "duration": 26,
    "start_time": "2024-05-18T12:25:11.222Z"
   },
   {
    "duration": 7,
    "start_time": "2024-05-18T12:25:11.584Z"
   },
   {
    "duration": 33,
    "start_time": "2024-05-18T12:25:11.904Z"
   },
   {
    "duration": 18,
    "start_time": "2024-05-18T12:25:12.226Z"
   },
   {
    "duration": 64,
    "start_time": "2024-05-18T12:25:12.736Z"
   },
   {
    "duration": 139,
    "start_time": "2024-05-18T12:25:13.070Z"
   },
   {
    "duration": 196,
    "start_time": "2024-05-18T12:25:13.232Z"
   },
   {
    "duration": 1101,
    "start_time": "2024-05-18T12:25:13.738Z"
   },
   {
    "duration": 3,
    "start_time": "2024-05-18T12:25:14.841Z"
   },
   {
    "duration": 58,
    "start_time": "2024-05-18T12:25:14.846Z"
   },
   {
    "duration": 27,
    "start_time": "2024-05-18T12:25:14.906Z"
   },
   {
    "duration": 6,
    "start_time": "2024-05-18T12:25:14.935Z"
   },
   {
    "duration": 21,
    "start_time": "2024-05-18T12:25:15.374Z"
   },
   {
    "duration": 40,
    "start_time": "2024-05-18T12:25:15.740Z"
   },
   {
    "duration": 397,
    "start_time": "2024-05-18T12:25:15.928Z"
   },
   {
    "duration": 64,
    "start_time": "2024-05-18T12:25:16.356Z"
   },
   {
    "duration": 15,
    "start_time": "2024-05-18T12:25:16.767Z"
   },
   {
    "duration": 54,
    "start_time": "2024-05-18T12:25:17.386Z"
   },
   {
    "duration": 178,
    "start_time": "2024-05-18T12:25:17.940Z"
   },
   {
    "duration": 78,
    "start_time": "2024-05-18T12:25:18.520Z"
   },
   {
    "duration": 42,
    "start_time": "2024-05-18T12:25:23.302Z"
   },
   {
    "duration": 10,
    "start_time": "2024-05-18T12:25:23.667Z"
   },
   {
    "duration": 10,
    "start_time": "2024-05-18T12:25:52.430Z"
   },
   {
    "duration": 58,
    "start_time": "2024-05-18T12:31:16.594Z"
   },
   {
    "duration": 11,
    "start_time": "2024-05-18T12:31:39.061Z"
   },
   {
    "duration": 10,
    "start_time": "2024-05-18T12:32:42.418Z"
   },
   {
    "duration": 21,
    "start_time": "2024-05-18T12:33:09.368Z"
   },
   {
    "duration": 18,
    "start_time": "2024-05-18T12:34:27.774Z"
   },
   {
    "duration": 49,
    "start_time": "2024-05-18T12:35:21.926Z"
   },
   {
    "duration": 46,
    "start_time": "2024-05-18T12:35:47.912Z"
   },
   {
    "duration": 90,
    "start_time": "2024-05-18T12:36:30.505Z"
   },
   {
    "duration": 88,
    "start_time": "2024-05-18T12:36:43.153Z"
   },
   {
    "duration": 1077,
    "start_time": "2024-05-18T12:41:41.202Z"
   },
   {
    "duration": 100,
    "start_time": "2024-05-18T12:42:52.595Z"
   },
   {
    "duration": 74,
    "start_time": "2024-05-18T12:43:19.173Z"
   },
   {
    "duration": 1074,
    "start_time": "2024-05-18T12:43:26.223Z"
   },
   {
    "duration": 1156,
    "start_time": "2024-05-18T12:43:56.371Z"
   },
   {
    "duration": 209,
    "start_time": "2024-05-18T12:43:57.529Z"
   },
   {
    "duration": 47,
    "start_time": "2024-05-18T12:43:57.739Z"
   },
   {
    "duration": 10,
    "start_time": "2024-05-18T12:43:57.788Z"
   },
   {
    "duration": 43,
    "start_time": "2024-05-18T12:43:57.800Z"
   },
   {
    "duration": 40,
    "start_time": "2024-05-18T12:43:57.845Z"
   },
   {
    "duration": 70,
    "start_time": "2024-05-18T12:43:57.886Z"
   },
   {
    "duration": 139,
    "start_time": "2024-05-18T12:43:57.957Z"
   },
   {
    "duration": 200,
    "start_time": "2024-05-18T12:43:58.098Z"
   },
   {
    "duration": 1154,
    "start_time": "2024-05-18T12:43:58.299Z"
   },
   {
    "duration": 3,
    "start_time": "2024-05-18T12:43:59.455Z"
   },
   {
    "duration": 79,
    "start_time": "2024-05-18T12:43:59.460Z"
   },
   {
    "duration": 38,
    "start_time": "2024-05-18T12:43:59.541Z"
   },
   {
    "duration": 47,
    "start_time": "2024-05-18T12:43:59.581Z"
   },
   {
    "duration": 22,
    "start_time": "2024-05-18T12:43:59.631Z"
   },
   {
    "duration": 43,
    "start_time": "2024-05-18T12:43:59.655Z"
   },
   {
    "duration": 410,
    "start_time": "2024-05-18T12:43:59.700Z"
   },
   {
    "duration": 75,
    "start_time": "2024-05-18T12:44:00.111Z"
   },
   {
    "duration": 159,
    "start_time": "2024-05-18T12:44:00.187Z"
   },
   {
    "duration": 317,
    "start_time": "2024-05-18T12:44:00.349Z"
   },
   {
    "duration": 188,
    "start_time": "2024-05-18T12:44:00.668Z"
   },
   {
    "duration": 86,
    "start_time": "2024-05-18T12:44:00.857Z"
   },
   {
    "duration": 69,
    "start_time": "2024-05-18T12:44:00.945Z"
   },
   {
    "duration": 1121,
    "start_time": "2024-05-18T12:44:01.016Z"
   },
   {
    "duration": 8,
    "start_time": "2024-05-18T12:44:28.015Z"
   },
   {
    "duration": 11,
    "start_time": "2024-05-18T12:45:00.385Z"
   },
   {
    "duration": 91,
    "start_time": "2024-05-18T12:45:22.888Z"
   },
   {
    "duration": 77,
    "start_time": "2024-05-18T12:45:41.689Z"
   },
   {
    "duration": 18,
    "start_time": "2024-05-18T12:45:44.574Z"
   },
   {
    "duration": 8,
    "start_time": "2024-05-18T12:45:58.469Z"
   },
   {
    "duration": 12,
    "start_time": "2024-05-18T12:46:41.421Z"
   },
   {
    "duration": 9,
    "start_time": "2024-05-18T12:47:11.661Z"
   },
   {
    "duration": 82,
    "start_time": "2024-05-18T12:48:07.274Z"
   },
   {
    "duration": 8,
    "start_time": "2024-05-18T13:00:01.843Z"
   },
   {
    "duration": 6,
    "start_time": "2024-05-18T13:00:52.818Z"
   },
   {
    "duration": 6,
    "start_time": "2024-05-18T13:00:57.837Z"
   },
   {
    "duration": 94,
    "start_time": "2024-05-18T13:01:58.504Z"
   },
   {
    "duration": 13,
    "start_time": "2024-05-18T13:02:34.615Z"
   },
   {
    "duration": 7,
    "start_time": "2024-05-18T13:08:20.834Z"
   },
   {
    "duration": 68,
    "start_time": "2024-05-18T13:09:10.705Z"
   },
   {
    "duration": 9,
    "start_time": "2024-05-18T13:09:55.387Z"
   },
   {
    "duration": 8,
    "start_time": "2024-05-18T13:10:05.654Z"
   },
   {
    "duration": 75,
    "start_time": "2024-05-18T13:10:19.149Z"
   },
   {
    "duration": 10,
    "start_time": "2024-05-18T13:10:38.757Z"
   },
   {
    "duration": 13,
    "start_time": "2024-05-18T13:12:27.997Z"
   },
   {
    "duration": 7,
    "start_time": "2024-05-18T13:12:52.880Z"
   },
   {
    "duration": 12,
    "start_time": "2024-05-18T13:13:04.274Z"
   },
   {
    "duration": 4,
    "start_time": "2024-05-18T13:13:21.231Z"
   },
   {
    "duration": 44,
    "start_time": "2024-05-18T16:22:01.660Z"
   },
   {
    "duration": 1146,
    "start_time": "2024-05-18T16:22:10.510Z"
   },
   {
    "duration": 804,
    "start_time": "2024-05-18T16:22:11.658Z"
   },
   {
    "duration": 23,
    "start_time": "2024-05-18T16:22:12.463Z"
   },
   {
    "duration": 7,
    "start_time": "2024-05-18T16:22:12.487Z"
   },
   {
    "duration": 30,
    "start_time": "2024-05-18T16:22:12.496Z"
   },
   {
    "duration": 13,
    "start_time": "2024-05-18T16:22:12.527Z"
   },
   {
    "duration": 73,
    "start_time": "2024-05-18T16:22:12.541Z"
   },
   {
    "duration": 123,
    "start_time": "2024-05-18T16:22:12.616Z"
   },
   {
    "duration": 150,
    "start_time": "2024-05-18T16:22:12.740Z"
   },
   {
    "duration": 970,
    "start_time": "2024-05-18T16:22:12.891Z"
   },
   {
    "duration": 2,
    "start_time": "2024-05-18T16:22:13.863Z"
   },
   {
    "duration": 24,
    "start_time": "2024-05-18T16:22:13.866Z"
   },
   {
    "duration": 17,
    "start_time": "2024-05-18T16:22:13.891Z"
   },
   {
    "duration": 89,
    "start_time": "2024-05-18T16:22:13.910Z"
   },
   {
    "duration": 42,
    "start_time": "2024-05-18T16:22:14.000Z"
   },
   {
    "duration": 25,
    "start_time": "2024-05-18T16:22:14.043Z"
   },
   {
    "duration": 369,
    "start_time": "2024-05-18T16:22:14.069Z"
   },
   {
    "duration": 52,
    "start_time": "2024-05-18T16:22:14.439Z"
   },
   {
    "duration": 15,
    "start_time": "2024-05-18T16:22:14.492Z"
   },
   {
    "duration": 46,
    "start_time": "2024-05-18T16:22:14.508Z"
   },
   {
    "duration": 131,
    "start_time": "2024-05-18T16:22:14.556Z"
   },
   {
    "duration": 0,
    "start_time": "2024-05-18T16:22:14.689Z"
   },
   {
    "duration": 0,
    "start_time": "2024-05-18T16:22:14.690Z"
   },
   {
    "duration": 0,
    "start_time": "2024-05-18T16:22:14.692Z"
   },
   {
    "duration": 140,
    "start_time": "2024-05-18T16:22:35.811Z"
   },
   {
    "duration": 66,
    "start_time": "2024-05-18T16:23:29.370Z"
   },
   {
    "duration": 10,
    "start_time": "2024-05-18T16:23:30.404Z"
   },
   {
    "duration": 71,
    "start_time": "2024-05-18T16:24:25.025Z"
   },
   {
    "duration": 8,
    "start_time": "2024-05-18T16:24:26.359Z"
   },
   {
    "duration": 3,
    "start_time": "2024-05-18T16:24:26.682Z"
   },
   {
    "duration": 8,
    "start_time": "2024-05-18T16:25:35.858Z"
   },
   {
    "duration": 126,
    "start_time": "2024-05-18T16:26:51.009Z"
   },
   {
    "duration": 125,
    "start_time": "2024-05-18T16:26:59.714Z"
   },
   {
    "duration": 125,
    "start_time": "2024-05-18T16:27:07.670Z"
   },
   {
    "duration": 136,
    "start_time": "2024-05-18T16:27:15.902Z"
   },
   {
    "duration": 127,
    "start_time": "2024-05-18T16:27:31.274Z"
   },
   {
    "duration": 124,
    "start_time": "2024-05-18T16:27:53.566Z"
   },
   {
    "duration": 1033,
    "start_time": "2024-05-18T16:28:34.099Z"
   },
   {
    "duration": 45,
    "start_time": "2024-05-18T16:29:28.384Z"
   },
   {
    "duration": 51,
    "start_time": "2024-05-18T16:30:05.363Z"
   },
   {
    "duration": 56,
    "start_time": "2024-05-18T16:30:13.240Z"
   },
   {
    "duration": 49,
    "start_time": "2024-05-18T16:30:20.154Z"
   },
   {
    "duration": 47,
    "start_time": "2024-05-18T16:30:25.770Z"
   },
   {
    "duration": 48,
    "start_time": "2024-05-18T16:31:04.703Z"
   },
   {
    "duration": 51,
    "start_time": "2024-05-18T16:31:09.231Z"
   },
   {
    "duration": 48,
    "start_time": "2024-05-18T16:31:46.205Z"
   },
   {
    "duration": 53,
    "start_time": "2024-05-18T16:31:52.609Z"
   },
   {
    "duration": 52,
    "start_time": "2024-05-18T16:32:09.155Z"
   },
   {
    "duration": 1001,
    "start_time": "2024-05-18T16:32:21.260Z"
   },
   {
    "duration": 141,
    "start_time": "2024-05-18T16:32:22.262Z"
   },
   {
    "duration": 23,
    "start_time": "2024-05-18T16:32:22.404Z"
   },
   {
    "duration": 22,
    "start_time": "2024-05-18T16:32:22.428Z"
   },
   {
    "duration": 36,
    "start_time": "2024-05-18T16:32:22.452Z"
   },
   {
    "duration": 12,
    "start_time": "2024-05-18T16:32:22.490Z"
   },
   {
    "duration": 54,
    "start_time": "2024-05-18T16:32:22.503Z"
   },
   {
    "duration": 117,
    "start_time": "2024-05-18T16:32:22.558Z"
   },
   {
    "duration": 156,
    "start_time": "2024-05-18T16:32:22.676Z"
   },
   {
    "duration": 941,
    "start_time": "2024-05-18T16:32:22.834Z"
   },
   {
    "duration": 3,
    "start_time": "2024-05-18T16:32:23.776Z"
   },
   {
    "duration": 31,
    "start_time": "2024-05-18T16:32:23.784Z"
   },
   {
    "duration": 18,
    "start_time": "2024-05-18T16:32:23.816Z"
   },
   {
    "duration": 21,
    "start_time": "2024-05-18T16:32:23.836Z"
   },
   {
    "duration": 14,
    "start_time": "2024-05-18T16:32:23.858Z"
   },
   {
    "duration": 26,
    "start_time": "2024-05-18T16:32:23.873Z"
   },
   {
    "duration": 311,
    "start_time": "2024-05-18T16:32:23.900Z"
   },
   {
    "duration": 42,
    "start_time": "2024-05-18T16:32:24.212Z"
   },
   {
    "duration": 117,
    "start_time": "2024-05-18T16:32:24.255Z"
   },
   {
    "duration": 53,
    "start_time": "2024-05-18T16:32:24.373Z"
   },
   {
    "duration": 133,
    "start_time": "2024-05-18T16:32:24.428Z"
   },
   {
    "duration": 55,
    "start_time": "2024-05-18T16:32:24.563Z"
   },
   {
    "duration": 8,
    "start_time": "2024-05-18T16:32:24.619Z"
   },
   {
    "duration": 43,
    "start_time": "2024-05-18T16:32:24.628Z"
   },
   {
    "duration": 3,
    "start_time": "2024-05-18T16:33:34.607Z"
   },
   {
    "duration": 1090,
    "start_time": "2024-05-18T16:33:42.518Z"
   },
   {
    "duration": 8,
    "start_time": "2024-05-18T19:12:21.298Z"
   },
   {
    "duration": 8,
    "start_time": "2024-05-18T19:12:44.797Z"
   },
   {
    "duration": 8,
    "start_time": "2024-05-18T19:12:53.850Z"
   },
   {
    "duration": 9,
    "start_time": "2024-05-18T19:13:32.181Z"
   },
   {
    "duration": 8,
    "start_time": "2024-05-18T19:13:44.928Z"
   },
   {
    "duration": 12,
    "start_time": "2024-05-18T19:14:28.911Z"
   },
   {
    "duration": 7,
    "start_time": "2024-05-18T19:15:15.093Z"
   },
   {
    "duration": 8,
    "start_time": "2024-05-18T19:15:30.519Z"
   },
   {
    "duration": 8,
    "start_time": "2024-05-18T19:15:37.012Z"
   },
   {
    "duration": 57,
    "start_time": "2024-05-18T19:16:28.460Z"
   },
   {
    "duration": 4,
    "start_time": "2024-05-18T19:16:46.272Z"
   },
   {
    "duration": 4,
    "start_time": "2024-05-18T19:17:21.043Z"
   },
   {
    "duration": 8,
    "start_time": "2024-05-18T19:17:26.738Z"
   },
   {
    "duration": 941,
    "start_time": "2024-05-18T19:17:38.318Z"
   },
   {
    "duration": 137,
    "start_time": "2024-05-18T19:17:39.260Z"
   },
   {
    "duration": 22,
    "start_time": "2024-05-18T19:17:39.398Z"
   },
   {
    "duration": 7,
    "start_time": "2024-05-18T19:17:39.422Z"
   },
   {
    "duration": 29,
    "start_time": "2024-05-18T19:17:39.430Z"
   },
   {
    "duration": 32,
    "start_time": "2024-05-18T19:17:39.460Z"
   },
   {
    "duration": 53,
    "start_time": "2024-05-18T19:17:39.493Z"
   },
   {
    "duration": 112,
    "start_time": "2024-05-18T19:17:39.547Z"
   },
   {
    "duration": 144,
    "start_time": "2024-05-18T19:17:39.661Z"
   },
   {
    "duration": 924,
    "start_time": "2024-05-18T19:17:39.806Z"
   },
   {
    "duration": 3,
    "start_time": "2024-05-18T19:17:40.731Z"
   },
   {
    "duration": 28,
    "start_time": "2024-05-18T19:17:40.736Z"
   },
   {
    "duration": 27,
    "start_time": "2024-05-18T19:17:40.765Z"
   },
   {
    "duration": 133,
    "start_time": "2024-05-18T19:17:40.795Z"
   },
   {
    "duration": 30,
    "start_time": "2024-05-18T19:17:40.930Z"
   },
   {
    "duration": 168,
    "start_time": "2024-05-18T19:17:40.961Z"
   },
   {
    "duration": 318,
    "start_time": "2024-05-18T19:17:41.131Z"
   },
   {
    "duration": 49,
    "start_time": "2024-05-18T19:17:41.451Z"
   },
   {
    "duration": 13,
    "start_time": "2024-05-18T19:17:41.501Z"
   },
   {
    "duration": 42,
    "start_time": "2024-05-18T19:17:41.516Z"
   },
   {
    "duration": 137,
    "start_time": "2024-05-18T19:17:41.559Z"
   },
   {
    "duration": 51,
    "start_time": "2024-05-18T19:17:41.697Z"
   },
   {
    "duration": 7,
    "start_time": "2024-05-18T19:17:41.749Z"
   },
   {
    "duration": 7,
    "start_time": "2024-05-18T19:17:41.757Z"
   },
   {
    "duration": 20,
    "start_time": "2024-05-18T19:17:41.766Z"
   },
   {
    "duration": 61,
    "start_time": "2024-05-18T19:18:33.876Z"
   },
   {
    "duration": 8,
    "start_time": "2024-05-18T19:18:43.204Z"
   },
   {
    "duration": 8,
    "start_time": "2024-05-18T19:18:50.660Z"
   },
   {
    "duration": 8,
    "start_time": "2024-05-18T19:19:10.269Z"
   },
   {
    "duration": 8,
    "start_time": "2024-05-18T19:19:21.279Z"
   },
   {
    "duration": 957,
    "start_time": "2024-05-18T19:19:48.205Z"
   },
   {
    "duration": 145,
    "start_time": "2024-05-18T19:19:49.164Z"
   },
   {
    "duration": 26,
    "start_time": "2024-05-18T19:19:49.311Z"
   },
   {
    "duration": 7,
    "start_time": "2024-05-18T19:19:49.338Z"
   },
   {
    "duration": 54,
    "start_time": "2024-05-18T19:19:49.347Z"
   },
   {
    "duration": 12,
    "start_time": "2024-05-18T19:19:49.402Z"
   },
   {
    "duration": 69,
    "start_time": "2024-05-18T19:19:49.415Z"
   },
   {
    "duration": 111,
    "start_time": "2024-05-18T19:19:49.486Z"
   },
   {
    "duration": 147,
    "start_time": "2024-05-18T19:19:49.598Z"
   },
   {
    "duration": 919,
    "start_time": "2024-05-18T19:19:49.746Z"
   },
   {
    "duration": 3,
    "start_time": "2024-05-18T19:19:50.666Z"
   },
   {
    "duration": 58,
    "start_time": "2024-05-18T19:19:50.670Z"
   },
   {
    "duration": 24,
    "start_time": "2024-05-18T19:19:50.730Z"
   },
   {
    "duration": 15,
    "start_time": "2024-05-18T19:19:50.756Z"
   },
   {
    "duration": 147,
    "start_time": "2024-05-18T19:19:50.773Z"
   },
   {
    "duration": 29,
    "start_time": "2024-05-18T19:19:50.921Z"
   },
   {
    "duration": 314,
    "start_time": "2024-05-18T19:19:50.951Z"
   },
   {
    "duration": 43,
    "start_time": "2024-05-18T19:19:51.267Z"
   },
   {
    "duration": 13,
    "start_time": "2024-05-18T19:19:51.311Z"
   },
   {
    "duration": 41,
    "start_time": "2024-05-18T19:19:51.326Z"
   },
   {
    "duration": 128,
    "start_time": "2024-05-18T19:19:51.384Z"
   },
   {
    "duration": 50,
    "start_time": "2024-05-18T19:19:51.513Z"
   },
   {
    "duration": 6,
    "start_time": "2024-05-18T19:19:51.564Z"
   },
   {
    "duration": 20,
    "start_time": "2024-05-18T19:19:51.571Z"
   },
   {
    "duration": 27,
    "start_time": "2024-05-18T19:19:51.592Z"
   },
   {
    "duration": 9,
    "start_time": "2024-05-18T19:20:24.572Z"
   },
   {
    "duration": 1011,
    "start_time": "2024-05-18T19:21:07.564Z"
   },
   {
    "duration": 152,
    "start_time": "2024-05-18T19:21:08.577Z"
   },
   {
    "duration": 25,
    "start_time": "2024-05-18T19:21:08.731Z"
   },
   {
    "duration": 6,
    "start_time": "2024-05-18T19:21:08.757Z"
   },
   {
    "duration": 40,
    "start_time": "2024-05-18T19:21:08.765Z"
   },
   {
    "duration": 11,
    "start_time": "2024-05-18T19:21:08.806Z"
   },
   {
    "duration": 144,
    "start_time": "2024-05-18T19:21:08.818Z"
   },
   {
    "duration": 103,
    "start_time": "2024-05-18T19:21:08.963Z"
   },
   {
    "duration": 145,
    "start_time": "2024-05-18T19:21:09.068Z"
   },
   {
    "duration": 949,
    "start_time": "2024-05-18T19:21:09.214Z"
   },
   {
    "duration": 3,
    "start_time": "2024-05-18T19:21:10.164Z"
   },
   {
    "duration": 30,
    "start_time": "2024-05-18T19:21:10.169Z"
   },
   {
    "duration": 19,
    "start_time": "2024-05-18T19:21:10.200Z"
   },
   {
    "duration": 8,
    "start_time": "2024-05-18T19:21:10.221Z"
   },
   {
    "duration": 15,
    "start_time": "2024-05-18T19:21:10.230Z"
   },
   {
    "duration": 43,
    "start_time": "2024-05-18T19:21:10.247Z"
   },
   {
    "duration": 320,
    "start_time": "2024-05-18T19:21:10.291Z"
   },
   {
    "duration": 43,
    "start_time": "2024-05-18T19:21:10.613Z"
   },
   {
    "duration": 28,
    "start_time": "2024-05-18T19:21:10.657Z"
   },
   {
    "duration": 45,
    "start_time": "2024-05-18T19:21:10.687Z"
   },
   {
    "duration": 145,
    "start_time": "2024-05-18T19:21:10.733Z"
   },
   {
    "duration": 54,
    "start_time": "2024-05-18T19:21:10.880Z"
   },
   {
    "duration": 7,
    "start_time": "2024-05-18T19:21:10.936Z"
   },
   {
    "duration": 8,
    "start_time": "2024-05-18T19:21:10.944Z"
   },
   {
    "duration": 4,
    "start_time": "2024-05-18T19:21:10.953Z"
   },
   {
    "duration": 83,
    "start_time": "2024-05-18T19:24:12.526Z"
   },
   {
    "duration": 8,
    "start_time": "2024-05-18T19:24:20.290Z"
   },
   {
    "duration": 8,
    "start_time": "2024-05-18T19:24:41.460Z"
   },
   {
    "duration": 7,
    "start_time": "2024-05-18T19:25:14.066Z"
   },
   {
    "duration": 4,
    "start_time": "2024-05-18T19:25:53.277Z"
   },
   {
    "duration": 5,
    "start_time": "2024-05-18T19:26:39.436Z"
   },
   {
    "duration": 7,
    "start_time": "2024-05-18T19:27:05.460Z"
   },
   {
    "duration": 4,
    "start_time": "2024-05-18T19:27:22.118Z"
   },
   {
    "duration": 996,
    "start_time": "2024-05-18T19:31:39.180Z"
   },
   {
    "duration": 138,
    "start_time": "2024-05-18T19:31:40.178Z"
   },
   {
    "duration": 23,
    "start_time": "2024-05-18T19:31:40.317Z"
   },
   {
    "duration": 6,
    "start_time": "2024-05-18T19:31:40.341Z"
   },
   {
    "duration": 44,
    "start_time": "2024-05-18T19:31:40.349Z"
   },
   {
    "duration": 12,
    "start_time": "2024-05-18T19:31:40.394Z"
   },
   {
    "duration": 62,
    "start_time": "2024-05-18T19:31:40.407Z"
   },
   {
    "duration": 100,
    "start_time": "2024-05-18T19:31:40.471Z"
   },
   {
    "duration": 154,
    "start_time": "2024-05-18T19:31:40.572Z"
   },
   {
    "duration": 943,
    "start_time": "2024-05-18T19:31:40.727Z"
   },
   {
    "duration": 3,
    "start_time": "2024-05-18T19:31:41.671Z"
   },
   {
    "duration": 24,
    "start_time": "2024-05-18T19:31:41.675Z"
   },
   {
    "duration": 31,
    "start_time": "2024-05-18T19:31:41.700Z"
   },
   {
    "duration": 4,
    "start_time": "2024-05-18T19:31:41.733Z"
   },
   {
    "duration": 29,
    "start_time": "2024-05-18T19:31:41.738Z"
   },
   {
    "duration": 26,
    "start_time": "2024-05-18T19:31:41.768Z"
   },
   {
    "duration": 320,
    "start_time": "2024-05-18T19:31:41.795Z"
   },
   {
    "duration": 44,
    "start_time": "2024-05-18T19:31:42.116Z"
   },
   {
    "duration": 32,
    "start_time": "2024-05-18T19:31:42.162Z"
   },
   {
    "duration": 45,
    "start_time": "2024-05-18T19:31:42.195Z"
   },
   {
    "duration": 146,
    "start_time": "2024-05-18T19:31:42.241Z"
   },
   {
    "duration": 53,
    "start_time": "2024-05-18T19:31:42.389Z"
   },
   {
    "duration": 9,
    "start_time": "2024-05-18T19:31:42.443Z"
   },
   {
    "duration": 10,
    "start_time": "2024-05-18T19:31:42.453Z"
   },
   {
    "duration": 41,
    "start_time": "2024-05-18T19:31:42.464Z"
   },
   {
    "duration": 9,
    "start_time": "2024-05-18T19:31:49.909Z"
   },
   {
    "duration": 9,
    "start_time": "2024-05-18T19:31:59.144Z"
   },
   {
    "duration": 9,
    "start_time": "2024-05-18T19:32:14.148Z"
   },
   {
    "duration": 56,
    "start_time": "2024-05-18T19:32:34.235Z"
   },
   {
    "duration": 935,
    "start_time": "2024-05-18T19:32:39.549Z"
   },
   {
    "duration": 143,
    "start_time": "2024-05-18T19:32:40.486Z"
   },
   {
    "duration": 25,
    "start_time": "2024-05-18T19:32:40.631Z"
   },
   {
    "duration": 8,
    "start_time": "2024-05-18T19:32:40.657Z"
   },
   {
    "duration": 46,
    "start_time": "2024-05-18T19:32:40.667Z"
   },
   {
    "duration": 12,
    "start_time": "2024-05-18T19:32:40.714Z"
   },
   {
    "duration": 67,
    "start_time": "2024-05-18T19:32:40.727Z"
   },
   {
    "duration": 110,
    "start_time": "2024-05-18T19:32:40.795Z"
   },
   {
    "duration": 140,
    "start_time": "2024-05-18T19:32:40.906Z"
   },
   {
    "duration": 940,
    "start_time": "2024-05-18T19:32:41.047Z"
   },
   {
    "duration": 2,
    "start_time": "2024-05-18T19:32:41.988Z"
   },
   {
    "duration": 27,
    "start_time": "2024-05-18T19:32:41.992Z"
   },
   {
    "duration": 34,
    "start_time": "2024-05-18T19:32:42.021Z"
   },
   {
    "duration": 5,
    "start_time": "2024-05-18T19:32:42.057Z"
   },
   {
    "duration": 15,
    "start_time": "2024-05-18T19:32:42.063Z"
   },
   {
    "duration": 73,
    "start_time": "2024-05-18T19:32:42.079Z"
   },
   {
    "duration": 311,
    "start_time": "2024-05-18T19:32:42.154Z"
   },
   {
    "duration": 53,
    "start_time": "2024-05-18T19:32:42.467Z"
   },
   {
    "duration": 13,
    "start_time": "2024-05-18T19:32:42.521Z"
   },
   {
    "duration": 54,
    "start_time": "2024-05-18T19:32:42.535Z"
   },
   {
    "duration": 151,
    "start_time": "2024-05-18T19:32:42.590Z"
   },
   {
    "duration": 62,
    "start_time": "2024-05-18T19:32:42.742Z"
   },
   {
    "duration": 8,
    "start_time": "2024-05-18T19:32:42.805Z"
   },
   {
    "duration": 84,
    "start_time": "2024-05-18T19:32:42.814Z"
   },
   {
    "duration": 0,
    "start_time": "2024-05-18T19:32:42.899Z"
   },
   {
    "duration": 10,
    "start_time": "2024-05-18T19:32:56.393Z"
   },
   {
    "duration": 8,
    "start_time": "2024-05-18T19:33:17.977Z"
   },
   {
    "duration": 986,
    "start_time": "2024-05-18T19:33:24.201Z"
   },
   {
    "duration": 137,
    "start_time": "2024-05-18T19:33:25.189Z"
   },
   {
    "duration": 22,
    "start_time": "2024-05-18T19:33:25.327Z"
   },
   {
    "duration": 7,
    "start_time": "2024-05-18T19:33:25.350Z"
   },
   {
    "duration": 41,
    "start_time": "2024-05-18T19:33:25.359Z"
   },
   {
    "duration": 12,
    "start_time": "2024-05-18T19:33:25.401Z"
   },
   {
    "duration": 70,
    "start_time": "2024-05-18T19:33:25.414Z"
   },
   {
    "duration": 107,
    "start_time": "2024-05-18T19:33:25.486Z"
   },
   {
    "duration": 143,
    "start_time": "2024-05-18T19:33:25.594Z"
   },
   {
    "duration": 920,
    "start_time": "2024-05-18T19:33:25.739Z"
   },
   {
    "duration": 3,
    "start_time": "2024-05-18T19:33:26.661Z"
   },
   {
    "duration": 30,
    "start_time": "2024-05-18T19:33:26.665Z"
   },
   {
    "duration": 37,
    "start_time": "2024-05-18T19:33:26.697Z"
   },
   {
    "duration": 4,
    "start_time": "2024-05-18T19:33:26.737Z"
   },
   {
    "duration": 15,
    "start_time": "2024-05-18T19:33:26.742Z"
   },
   {
    "duration": 29,
    "start_time": "2024-05-18T19:33:26.758Z"
   },
   {
    "duration": 322,
    "start_time": "2024-05-18T19:33:26.788Z"
   },
   {
    "duration": 45,
    "start_time": "2024-05-18T19:33:27.111Z"
   },
   {
    "duration": 27,
    "start_time": "2024-05-18T19:33:27.157Z"
   },
   {
    "duration": 46,
    "start_time": "2024-05-18T19:33:27.186Z"
   },
   {
    "duration": 143,
    "start_time": "2024-05-18T19:33:27.233Z"
   },
   {
    "duration": 58,
    "start_time": "2024-05-18T19:33:27.378Z"
   },
   {
    "duration": 9,
    "start_time": "2024-05-18T19:33:27.438Z"
   },
   {
    "duration": 17,
    "start_time": "2024-05-18T19:33:27.448Z"
   },
   {
    "duration": 18,
    "start_time": "2024-05-18T19:33:27.466Z"
   },
   {
    "duration": 52,
    "start_time": "2024-05-18T19:35:00.036Z"
   },
   {
    "duration": 959,
    "start_time": "2024-05-18T19:35:09.501Z"
   },
   {
    "duration": 139,
    "start_time": "2024-05-18T19:35:10.461Z"
   },
   {
    "duration": 23,
    "start_time": "2024-05-18T19:35:10.601Z"
   },
   {
    "duration": 7,
    "start_time": "2024-05-18T19:35:10.625Z"
   },
   {
    "duration": 50,
    "start_time": "2024-05-18T19:35:10.634Z"
   },
   {
    "duration": 12,
    "start_time": "2024-05-18T19:35:10.686Z"
   },
   {
    "duration": 82,
    "start_time": "2024-05-18T19:35:10.700Z"
   },
   {
    "duration": 102,
    "start_time": "2024-05-18T19:35:10.783Z"
   },
   {
    "duration": 142,
    "start_time": "2024-05-18T19:35:10.886Z"
   },
   {
    "duration": 932,
    "start_time": "2024-05-18T19:35:11.030Z"
   },
   {
    "duration": 3,
    "start_time": "2024-05-18T19:35:11.963Z"
   },
   {
    "duration": 51,
    "start_time": "2024-05-18T19:35:11.967Z"
   },
   {
    "duration": 36,
    "start_time": "2024-05-18T19:35:12.020Z"
   },
   {
    "duration": 4,
    "start_time": "2024-05-18T19:35:12.058Z"
   },
   {
    "duration": 14,
    "start_time": "2024-05-18T19:35:12.063Z"
   },
   {
    "duration": 24,
    "start_time": "2024-05-18T19:35:12.078Z"
   },
   {
    "duration": 345,
    "start_time": "2024-05-18T19:35:12.103Z"
   },
   {
    "duration": 46,
    "start_time": "2024-05-18T19:35:12.449Z"
   },
   {
    "duration": 13,
    "start_time": "2024-05-18T19:35:12.497Z"
   },
   {
    "duration": 44,
    "start_time": "2024-05-18T19:35:12.511Z"
   },
   {
    "duration": 143,
    "start_time": "2024-05-18T19:35:12.557Z"
   },
   {
    "duration": 62,
    "start_time": "2024-05-18T19:35:12.702Z"
   },
   {
    "duration": 20,
    "start_time": "2024-05-18T19:35:12.765Z"
   },
   {
    "duration": 8,
    "start_time": "2024-05-18T19:35:12.786Z"
   },
   {
    "duration": 6,
    "start_time": "2024-05-18T19:35:12.795Z"
   },
   {
    "duration": 10,
    "start_time": "2024-05-18T19:35:34.871Z"
   },
   {
    "duration": 8,
    "start_time": "2024-05-18T19:35:48.479Z"
   },
   {
    "duration": 978,
    "start_time": "2024-05-18T19:35:56.193Z"
   },
   {
    "duration": 142,
    "start_time": "2024-05-18T19:35:57.173Z"
   },
   {
    "duration": 23,
    "start_time": "2024-05-18T19:35:57.316Z"
   },
   {
    "duration": 22,
    "start_time": "2024-05-18T19:35:57.341Z"
   },
   {
    "duration": 29,
    "start_time": "2024-05-18T19:35:57.364Z"
   },
   {
    "duration": 11,
    "start_time": "2024-05-18T19:35:57.395Z"
   },
   {
    "duration": 54,
    "start_time": "2024-05-18T19:35:57.407Z"
   },
   {
    "duration": 114,
    "start_time": "2024-05-18T19:35:57.462Z"
   },
   {
    "duration": 146,
    "start_time": "2024-05-18T19:35:57.577Z"
   },
   {
    "duration": 924,
    "start_time": "2024-05-18T19:35:57.725Z"
   },
   {
    "duration": 2,
    "start_time": "2024-05-18T19:35:58.651Z"
   },
   {
    "duration": 17,
    "start_time": "2024-05-18T19:35:58.654Z"
   },
   {
    "duration": 23,
    "start_time": "2024-05-18T19:35:58.684Z"
   },
   {
    "duration": 6,
    "start_time": "2024-05-18T19:35:58.708Z"
   },
   {
    "duration": 13,
    "start_time": "2024-05-18T19:35:58.716Z"
   },
   {
    "duration": 25,
    "start_time": "2024-05-18T19:35:58.730Z"
   },
   {
    "duration": 330,
    "start_time": "2024-05-18T19:35:58.756Z"
   },
   {
    "duration": 45,
    "start_time": "2024-05-18T19:35:59.088Z"
   },
   {
    "duration": 14,
    "start_time": "2024-05-18T19:35:59.135Z"
   },
   {
    "duration": 63,
    "start_time": "2024-05-18T19:35:59.150Z"
   },
   {
    "duration": 130,
    "start_time": "2024-05-18T19:35:59.215Z"
   },
   {
    "duration": 57,
    "start_time": "2024-05-18T19:35:59.346Z"
   },
   {
    "duration": 7,
    "start_time": "2024-05-18T19:35:59.405Z"
   },
   {
    "duration": 9,
    "start_time": "2024-05-18T19:35:59.413Z"
   },
   {
    "duration": 3,
    "start_time": "2024-05-18T19:35:59.424Z"
   },
   {
    "duration": 9,
    "start_time": "2024-05-18T19:38:13.145Z"
   },
   {
    "duration": 9,
    "start_time": "2024-05-18T19:38:22.127Z"
   },
   {
    "duration": 9,
    "start_time": "2024-05-18T19:38:26.943Z"
   },
   {
    "duration": 9,
    "start_time": "2024-05-18T19:38:38.219Z"
   },
   {
    "duration": 1010,
    "start_time": "2024-05-18T19:40:23.994Z"
   },
   {
    "duration": 146,
    "start_time": "2024-05-18T19:40:25.006Z"
   },
   {
    "duration": 24,
    "start_time": "2024-05-18T19:40:25.154Z"
   },
   {
    "duration": 10,
    "start_time": "2024-05-18T19:40:25.179Z"
   },
   {
    "duration": 34,
    "start_time": "2024-05-18T19:40:25.191Z"
   },
   {
    "duration": 12,
    "start_time": "2024-05-18T19:40:25.227Z"
   },
   {
    "duration": 115,
    "start_time": "2024-05-18T19:40:25.241Z"
   },
   {
    "duration": 110,
    "start_time": "2024-05-18T19:40:25.362Z"
   },
   {
    "duration": 147,
    "start_time": "2024-05-18T19:40:25.473Z"
   },
   {
    "duration": 983,
    "start_time": "2024-05-18T19:40:25.621Z"
   },
   {
    "duration": 3,
    "start_time": "2024-05-18T19:40:26.606Z"
   },
   {
    "duration": 22,
    "start_time": "2024-05-18T19:40:26.610Z"
   },
   {
    "duration": 19,
    "start_time": "2024-05-18T19:40:26.634Z"
   },
   {
    "duration": 5,
    "start_time": "2024-05-18T19:40:26.656Z"
   },
   {
    "duration": 18,
    "start_time": "2024-05-18T19:40:26.685Z"
   },
   {
    "duration": 34,
    "start_time": "2024-05-18T19:40:26.705Z"
   },
   {
    "duration": 345,
    "start_time": "2024-05-18T19:40:26.741Z"
   },
   {
    "duration": 46,
    "start_time": "2024-05-18T19:40:27.088Z"
   },
   {
    "duration": 15,
    "start_time": "2024-05-18T19:40:27.136Z"
   },
   {
    "duration": 63,
    "start_time": "2024-05-18T19:40:27.152Z"
   },
   {
    "duration": 138,
    "start_time": "2024-05-18T19:40:27.217Z"
   },
   {
    "duration": 58,
    "start_time": "2024-05-18T19:40:27.357Z"
   },
   {
    "duration": 8,
    "start_time": "2024-05-18T19:40:27.417Z"
   },
   {
    "duration": 5,
    "start_time": "2024-05-18T19:40:27.426Z"
   },
   {
    "duration": 8,
    "start_time": "2024-05-18T19:40:27.432Z"
   },
   {
    "duration": 3,
    "start_time": "2024-05-18T19:42:20.018Z"
   },
   {
    "duration": 9,
    "start_time": "2024-05-18T19:42:26.800Z"
   },
   {
    "duration": 964,
    "start_time": "2024-05-18T19:42:32.216Z"
   },
   {
    "duration": 137,
    "start_time": "2024-05-18T19:42:33.181Z"
   },
   {
    "duration": 23,
    "start_time": "2024-05-18T19:42:33.319Z"
   },
   {
    "duration": 7,
    "start_time": "2024-05-18T19:42:33.343Z"
   },
   {
    "duration": 43,
    "start_time": "2024-05-18T19:42:33.351Z"
   },
   {
    "duration": 12,
    "start_time": "2024-05-18T19:42:33.395Z"
   },
   {
    "duration": 79,
    "start_time": "2024-05-18T19:42:33.408Z"
   },
   {
    "duration": 112,
    "start_time": "2024-05-18T19:42:33.488Z"
   },
   {
    "duration": 151,
    "start_time": "2024-05-18T19:42:33.601Z"
   },
   {
    "duration": 947,
    "start_time": "2024-05-18T19:42:33.754Z"
   },
   {
    "duration": 3,
    "start_time": "2024-05-18T19:42:34.702Z"
   },
   {
    "duration": 16,
    "start_time": "2024-05-18T19:42:34.707Z"
   },
   {
    "duration": 19,
    "start_time": "2024-05-18T19:42:34.724Z"
   },
   {
    "duration": 7,
    "start_time": "2024-05-18T19:42:34.744Z"
   },
   {
    "duration": 38,
    "start_time": "2024-05-18T19:42:34.752Z"
   },
   {
    "duration": 26,
    "start_time": "2024-05-18T19:42:34.791Z"
   },
   {
    "duration": 326,
    "start_time": "2024-05-18T19:42:34.818Z"
   },
   {
    "duration": 50,
    "start_time": "2024-05-18T19:42:35.145Z"
   },
   {
    "duration": 15,
    "start_time": "2024-05-18T19:42:35.205Z"
   },
   {
    "duration": 46,
    "start_time": "2024-05-18T19:42:35.221Z"
   },
   {
    "duration": 137,
    "start_time": "2024-05-18T19:42:35.268Z"
   },
   {
    "duration": 54,
    "start_time": "2024-05-18T19:42:35.406Z"
   },
   {
    "duration": 9,
    "start_time": "2024-05-18T19:42:35.461Z"
   },
   {
    "duration": 100,
    "start_time": "2024-05-18T19:42:35.471Z"
   },
   {
    "duration": 0,
    "start_time": "2024-05-18T19:42:35.572Z"
   },
   {
    "duration": 10,
    "start_time": "2024-05-18T19:42:43.201Z"
   },
   {
    "duration": 12,
    "start_time": "2024-05-18T19:43:02.726Z"
   },
   {
    "duration": 8,
    "start_time": "2024-05-18T19:43:16.072Z"
   },
   {
    "duration": 986,
    "start_time": "2024-05-18T19:45:08.108Z"
   },
   {
    "duration": 932,
    "start_time": "2024-05-18T19:45:27.147Z"
   },
   {
    "duration": 140,
    "start_time": "2024-05-18T19:45:28.080Z"
   },
   {
    "duration": 22,
    "start_time": "2024-05-18T19:45:28.221Z"
   },
   {
    "duration": 7,
    "start_time": "2024-05-18T19:45:28.244Z"
   },
   {
    "duration": 41,
    "start_time": "2024-05-18T19:45:28.253Z"
   },
   {
    "duration": 13,
    "start_time": "2024-05-18T19:45:28.295Z"
   },
   {
    "duration": 53,
    "start_time": "2024-05-18T19:45:28.309Z"
   },
   {
    "duration": 123,
    "start_time": "2024-05-18T19:45:28.364Z"
   },
   {
    "duration": 154,
    "start_time": "2024-05-18T19:45:28.488Z"
   },
   {
    "duration": 914,
    "start_time": "2024-05-18T19:45:28.644Z"
   },
   {
    "duration": 2,
    "start_time": "2024-05-18T19:45:29.560Z"
   },
   {
    "duration": 34,
    "start_time": "2024-05-18T19:45:29.564Z"
   },
   {
    "duration": 32,
    "start_time": "2024-05-18T19:45:29.599Z"
   },
   {
    "duration": 5,
    "start_time": "2024-05-18T19:45:29.633Z"
   },
   {
    "duration": 13,
    "start_time": "2024-05-18T19:45:29.639Z"
   },
   {
    "duration": 38,
    "start_time": "2024-05-18T19:45:29.653Z"
   },
   {
    "duration": 320,
    "start_time": "2024-05-18T19:45:29.692Z"
   },
   {
    "duration": 44,
    "start_time": "2024-05-18T19:45:30.013Z"
   },
   {
    "duration": 57,
    "start_time": "2024-05-18T19:45:30.058Z"
   },
   {
    "duration": 147,
    "start_time": "2024-05-18T19:45:30.116Z"
   },
   {
    "duration": 150,
    "start_time": "2024-05-18T19:45:30.265Z"
   },
   {
    "duration": 52,
    "start_time": "2024-05-18T19:45:30.417Z"
   },
   {
    "duration": 34,
    "start_time": "2024-05-18T19:45:30.470Z"
   },
   {
    "duration": 104,
    "start_time": "2024-05-18T19:45:30.505Z"
   },
   {
    "duration": 41,
    "start_time": "2024-05-18T19:45:30.611Z"
   },
   {
    "duration": 11,
    "start_time": "2024-05-18T19:46:47.377Z"
   },
   {
    "duration": 4,
    "start_time": "2024-05-18T19:46:47.525Z"
   },
   {
    "duration": 976,
    "start_time": "2024-05-18T19:46:58.560Z"
   },
   {
    "duration": 136,
    "start_time": "2024-05-18T19:46:59.538Z"
   },
   {
    "duration": 24,
    "start_time": "2024-05-18T19:46:59.675Z"
   },
   {
    "duration": 8,
    "start_time": "2024-05-18T19:46:59.700Z"
   },
   {
    "duration": 29,
    "start_time": "2024-05-18T19:46:59.709Z"
   },
   {
    "duration": 12,
    "start_time": "2024-05-18T19:46:59.739Z"
   },
   {
    "duration": 72,
    "start_time": "2024-05-18T19:46:59.752Z"
   },
   {
    "duration": 108,
    "start_time": "2024-05-18T19:46:59.825Z"
   },
   {
    "duration": 145,
    "start_time": "2024-05-18T19:46:59.934Z"
   },
   {
    "duration": 933,
    "start_time": "2024-05-18T19:47:00.080Z"
   },
   {
    "duration": 3,
    "start_time": "2024-05-18T19:47:01.014Z"
   },
   {
    "duration": 313,
    "start_time": "2024-05-18T19:47:01.018Z"
   },
   {
    "duration": 33,
    "start_time": "2024-05-18T19:47:01.332Z"
   },
   {
    "duration": 24,
    "start_time": "2024-05-18T19:47:01.367Z"
   },
   {
    "duration": 62,
    "start_time": "2024-05-18T19:47:01.393Z"
   },
   {
    "duration": 33,
    "start_time": "2024-05-18T19:47:01.457Z"
   },
   {
    "duration": 328,
    "start_time": "2024-05-18T19:47:01.491Z"
   },
   {
    "duration": 45,
    "start_time": "2024-05-18T19:47:01.820Z"
   },
   {
    "duration": 26,
    "start_time": "2024-05-18T19:47:01.866Z"
   },
   {
    "duration": 44,
    "start_time": "2024-05-18T19:47:01.893Z"
   },
   {
    "duration": 158,
    "start_time": "2024-05-18T19:47:01.938Z"
   },
   {
    "duration": 57,
    "start_time": "2024-05-18T19:47:02.098Z"
   },
   {
    "duration": 9,
    "start_time": "2024-05-18T19:47:02.156Z"
   },
   {
    "duration": 28,
    "start_time": "2024-05-18T19:47:02.166Z"
   },
   {
    "duration": 4,
    "start_time": "2024-05-18T19:47:02.195Z"
   },
   {
    "duration": 4,
    "start_time": "2024-05-18T19:49:59.586Z"
   },
   {
    "duration": 9,
    "start_time": "2024-05-18T19:51:24.655Z"
   },
   {
    "duration": 8,
    "start_time": "2024-05-18T19:51:38.000Z"
   },
   {
    "duration": 8,
    "start_time": "2024-05-18T19:51:48.135Z"
   },
   {
    "duration": 8,
    "start_time": "2024-05-18T19:52:09.577Z"
   },
   {
    "duration": 5,
    "start_time": "2024-05-18T19:57:37.007Z"
   },
   {
    "duration": 7,
    "start_time": "2024-05-18T20:06:12.517Z"
   },
   {
    "duration": 22,
    "start_time": "2024-05-18T20:06:28.944Z"
   },
   {
    "duration": 25,
    "start_time": "2024-05-18T20:06:36.598Z"
   },
   {
    "duration": 26,
    "start_time": "2024-05-18T20:09:20.738Z"
   },
   {
    "duration": 944,
    "start_time": "2024-05-18T20:11:29.329Z"
   },
   {
    "duration": 153,
    "start_time": "2024-05-18T20:11:30.275Z"
   },
   {
    "duration": 26,
    "start_time": "2024-05-18T20:11:30.430Z"
   },
   {
    "duration": 42,
    "start_time": "2024-05-18T20:11:30.458Z"
   },
   {
    "duration": 66,
    "start_time": "2024-05-18T20:11:30.502Z"
   },
   {
    "duration": 34,
    "start_time": "2024-05-18T20:11:30.569Z"
   },
   {
    "duration": 149,
    "start_time": "2024-05-18T20:11:30.604Z"
   },
   {
    "duration": 125,
    "start_time": "2024-05-18T20:11:30.754Z"
   },
   {
    "duration": 148,
    "start_time": "2024-05-18T20:11:30.881Z"
   },
   {
    "duration": 919,
    "start_time": "2024-05-18T20:11:31.031Z"
   },
   {
    "duration": 3,
    "start_time": "2024-05-18T20:11:31.951Z"
   },
   {
    "duration": 42,
    "start_time": "2024-05-18T20:11:31.955Z"
   },
   {
    "duration": 19,
    "start_time": "2024-05-18T20:11:31.998Z"
   },
   {
    "duration": 89,
    "start_time": "2024-05-18T20:11:32.019Z"
   },
   {
    "duration": 15,
    "start_time": "2024-05-18T20:11:32.109Z"
   },
   {
    "duration": 33,
    "start_time": "2024-05-18T20:11:32.125Z"
   },
   {
    "duration": 307,
    "start_time": "2024-05-18T20:11:32.159Z"
   },
   {
    "duration": 46,
    "start_time": "2024-05-18T20:11:32.468Z"
   },
   {
    "duration": 14,
    "start_time": "2024-05-18T20:11:32.515Z"
   },
   {
    "duration": 57,
    "start_time": "2024-05-18T20:11:32.530Z"
   },
   {
    "duration": 144,
    "start_time": "2024-05-18T20:11:32.589Z"
   },
   {
    "duration": 57,
    "start_time": "2024-05-18T20:11:32.736Z"
   },
   {
    "duration": 8,
    "start_time": "2024-05-18T20:11:32.794Z"
   },
   {
    "duration": 9,
    "start_time": "2024-05-18T20:11:32.804Z"
   },
   {
    "duration": 8,
    "start_time": "2024-05-18T20:11:32.814Z"
   },
   {
    "duration": 28,
    "start_time": "2024-05-18T20:11:32.823Z"
   },
   {
    "duration": 26,
    "start_time": "2024-05-18T20:13:33.575Z"
   },
   {
    "duration": 26,
    "start_time": "2024-05-18T20:14:20.006Z"
   },
   {
    "duration": 26,
    "start_time": "2024-05-18T20:14:28.209Z"
   },
   {
    "duration": 25,
    "start_time": "2024-05-18T20:14:38.946Z"
   },
   {
    "duration": 1328,
    "start_time": "2024-05-19T12:42:51.972Z"
   },
   {
    "duration": 308,
    "start_time": "2024-05-19T12:42:53.302Z"
   },
   {
    "duration": 30,
    "start_time": "2024-05-19T12:42:53.611Z"
   },
   {
    "duration": 8,
    "start_time": "2024-05-19T12:42:53.643Z"
   },
   {
    "duration": 41,
    "start_time": "2024-05-19T12:42:53.653Z"
   },
   {
    "duration": 16,
    "start_time": "2024-05-19T12:42:53.695Z"
   },
   {
    "duration": 74,
    "start_time": "2024-05-19T12:42:53.713Z"
   },
   {
    "duration": 143,
    "start_time": "2024-05-19T12:42:53.789Z"
   },
   {
    "duration": 197,
    "start_time": "2024-05-19T12:42:53.933Z"
   },
   {
    "duration": 1091,
    "start_time": "2024-05-19T12:42:54.132Z"
   },
   {
    "duration": 3,
    "start_time": "2024-05-19T12:42:55.225Z"
   },
   {
    "duration": 37,
    "start_time": "2024-05-19T12:42:55.230Z"
   },
   {
    "duration": 27,
    "start_time": "2024-05-19T12:42:55.268Z"
   },
   {
    "duration": 9,
    "start_time": "2024-05-19T12:42:55.298Z"
   },
   {
    "duration": 19,
    "start_time": "2024-05-19T12:42:55.309Z"
   },
   {
    "duration": 59,
    "start_time": "2024-05-19T12:42:55.330Z"
   },
   {
    "duration": 404,
    "start_time": "2024-05-19T12:42:55.391Z"
   },
   {
    "duration": 69,
    "start_time": "2024-05-19T12:42:55.797Z"
   },
   {
    "duration": 17,
    "start_time": "2024-05-19T12:42:55.868Z"
   },
   {
    "duration": 74,
    "start_time": "2024-05-19T12:42:55.887Z"
   },
   {
    "duration": 168,
    "start_time": "2024-05-19T12:42:55.963Z"
   },
   {
    "duration": 72,
    "start_time": "2024-05-19T12:42:56.133Z"
   },
   {
    "duration": 10,
    "start_time": "2024-05-19T12:42:56.207Z"
   },
   {
    "duration": 24,
    "start_time": "2024-05-19T12:42:56.219Z"
   },
   {
    "duration": 20,
    "start_time": "2024-05-19T12:42:56.246Z"
   },
   {
    "duration": 49,
    "start_time": "2024-05-19T12:42:56.268Z"
   },
   {
    "duration": 134,
    "start_time": "2024-05-19T12:42:56.319Z"
   },
   {
    "duration": 1076,
    "start_time": "2024-05-19T14:15:46.722Z"
   },
   {
    "duration": 258,
    "start_time": "2024-05-19T14:15:47.800Z"
   },
   {
    "duration": 38,
    "start_time": "2024-05-19T14:15:48.060Z"
   },
   {
    "duration": 9,
    "start_time": "2024-05-19T14:15:48.099Z"
   },
   {
    "duration": 61,
    "start_time": "2024-05-19T14:15:48.110Z"
   },
   {
    "duration": 18,
    "start_time": "2024-05-19T14:15:48.173Z"
   },
   {
    "duration": 86,
    "start_time": "2024-05-19T14:15:48.193Z"
   },
   {
    "duration": 129,
    "start_time": "2024-05-19T14:15:48.281Z"
   },
   {
    "duration": 224,
    "start_time": "2024-05-19T14:15:48.412Z"
   },
   {
    "duration": 1038,
    "start_time": "2024-05-19T14:15:48.638Z"
   },
   {
    "duration": 4,
    "start_time": "2024-05-19T14:15:49.678Z"
   },
   {
    "duration": 41,
    "start_time": "2024-05-19T14:15:49.684Z"
   },
   {
    "duration": 42,
    "start_time": "2024-05-19T14:15:49.727Z"
   },
   {
    "duration": 7,
    "start_time": "2024-05-19T14:15:49.773Z"
   },
   {
    "duration": 29,
    "start_time": "2024-05-19T14:15:49.781Z"
   },
   {
    "duration": 60,
    "start_time": "2024-05-19T14:15:49.812Z"
   },
   {
    "duration": 447,
    "start_time": "2024-05-19T14:15:49.873Z"
   },
   {
    "duration": 73,
    "start_time": "2024-05-19T14:15:50.322Z"
   },
   {
    "duration": 15,
    "start_time": "2024-05-19T14:15:50.397Z"
   },
   {
    "duration": 68,
    "start_time": "2024-05-19T14:15:50.413Z"
   },
   {
    "duration": 163,
    "start_time": "2024-05-19T14:15:50.483Z"
   },
   {
    "duration": 67,
    "start_time": "2024-05-19T14:15:50.648Z"
   },
   {
    "duration": 9,
    "start_time": "2024-05-19T14:15:50.717Z"
   },
   {
    "duration": 14,
    "start_time": "2024-05-19T14:15:50.728Z"
   },
   {
    "duration": 7,
    "start_time": "2024-05-19T14:15:50.761Z"
   },
   {
    "duration": 30,
    "start_time": "2024-05-19T14:15:50.771Z"
   },
   {
    "duration": 114,
    "start_time": "2024-05-19T14:15:50.802Z"
   },
   {
    "duration": 0,
    "start_time": "2024-05-19T14:15:50.917Z"
   },
   {
    "duration": 56,
    "start_time": "2024-05-19T14:18:17.917Z"
   },
   {
    "duration": 1020,
    "start_time": "2024-05-19T14:18:30.211Z"
   },
   {
    "duration": 259,
    "start_time": "2024-05-19T14:18:31.233Z"
   },
   {
    "duration": 30,
    "start_time": "2024-05-19T14:18:31.493Z"
   },
   {
    "duration": 10,
    "start_time": "2024-05-19T14:18:31.525Z"
   },
   {
    "duration": 64,
    "start_time": "2024-05-19T14:18:31.537Z"
   },
   {
    "duration": 17,
    "start_time": "2024-05-19T14:18:31.602Z"
   },
   {
    "duration": 77,
    "start_time": "2024-05-19T14:18:31.621Z"
   },
   {
    "duration": 124,
    "start_time": "2024-05-19T14:18:31.699Z"
   },
   {
    "duration": 209,
    "start_time": "2024-05-19T14:18:31.826Z"
   },
   {
    "duration": 1043,
    "start_time": "2024-05-19T14:18:32.038Z"
   },
   {
    "duration": 4,
    "start_time": "2024-05-19T14:18:33.083Z"
   },
   {
    "duration": 127,
    "start_time": "2024-05-19T14:18:33.088Z"
   },
   {
    "duration": 0,
    "start_time": "2024-05-19T14:18:33.217Z"
   },
   {
    "duration": 0,
    "start_time": "2024-05-19T14:18:33.218Z"
   },
   {
    "duration": 0,
    "start_time": "2024-05-19T14:18:33.219Z"
   },
   {
    "duration": 0,
    "start_time": "2024-05-19T14:18:33.220Z"
   },
   {
    "duration": 0,
    "start_time": "2024-05-19T14:18:33.221Z"
   },
   {
    "duration": 0,
    "start_time": "2024-05-19T14:18:33.222Z"
   },
   {
    "duration": 0,
    "start_time": "2024-05-19T14:18:33.223Z"
   },
   {
    "duration": 0,
    "start_time": "2024-05-19T14:18:33.225Z"
   },
   {
    "duration": 0,
    "start_time": "2024-05-19T14:18:33.226Z"
   },
   {
    "duration": 0,
    "start_time": "2024-05-19T14:18:33.227Z"
   },
   {
    "duration": 0,
    "start_time": "2024-05-19T14:18:33.228Z"
   },
   {
    "duration": 0,
    "start_time": "2024-05-19T14:18:33.229Z"
   },
   {
    "duration": 0,
    "start_time": "2024-05-19T14:18:33.230Z"
   },
   {
    "duration": 0,
    "start_time": "2024-05-19T14:18:33.232Z"
   },
   {
    "duration": 0,
    "start_time": "2024-05-19T14:18:33.261Z"
   },
   {
    "duration": 0,
    "start_time": "2024-05-19T14:18:33.262Z"
   },
   {
    "duration": 25,
    "start_time": "2024-05-19T14:18:39.164Z"
   },
   {
    "duration": 1084,
    "start_time": "2024-05-19T14:18:43.776Z"
   },
   {
    "duration": 226,
    "start_time": "2024-05-19T14:18:44.862Z"
   },
   {
    "duration": 30,
    "start_time": "2024-05-19T14:18:45.090Z"
   },
   {
    "duration": 23,
    "start_time": "2024-05-19T14:18:45.123Z"
   },
   {
    "duration": 80,
    "start_time": "2024-05-19T14:18:45.148Z"
   },
   {
    "duration": 16,
    "start_time": "2024-05-19T14:18:45.230Z"
   },
   {
    "duration": 86,
    "start_time": "2024-05-19T14:18:45.248Z"
   },
   {
    "duration": 127,
    "start_time": "2024-05-19T14:18:45.336Z"
   },
   {
    "duration": 197,
    "start_time": "2024-05-19T14:18:45.465Z"
   },
   {
    "duration": 1138,
    "start_time": "2024-05-19T14:18:45.664Z"
   },
   {
    "duration": 3,
    "start_time": "2024-05-19T14:18:46.804Z"
   },
   {
    "duration": 20,
    "start_time": "2024-05-19T14:18:46.808Z"
   },
   {
    "duration": 52,
    "start_time": "2024-05-19T14:18:46.830Z"
   },
   {
    "duration": 6,
    "start_time": "2024-05-19T14:18:46.884Z"
   },
   {
    "duration": 26,
    "start_time": "2024-05-19T14:18:46.891Z"
   },
   {
    "duration": 59,
    "start_time": "2024-05-19T14:18:46.919Z"
   },
   {
    "duration": 447,
    "start_time": "2024-05-19T14:18:46.980Z"
   },
   {
    "duration": 69,
    "start_time": "2024-05-19T14:18:47.429Z"
   },
   {
    "duration": 17,
    "start_time": "2024-05-19T14:18:47.500Z"
   },
   {
    "duration": 79,
    "start_time": "2024-05-19T14:18:47.518Z"
   },
   {
    "duration": 268,
    "start_time": "2024-05-19T14:18:47.599Z"
   },
   {
    "duration": 135,
    "start_time": "2024-05-19T14:18:47.869Z"
   },
   {
    "duration": 61,
    "start_time": "2024-05-19T14:18:48.006Z"
   },
   {
    "duration": 10,
    "start_time": "2024-05-19T14:18:48.069Z"
   },
   {
    "duration": 14,
    "start_time": "2024-05-19T14:18:48.080Z"
   },
   {
    "duration": 287,
    "start_time": "2024-05-19T14:18:48.096Z"
   },
   {
    "duration": 0,
    "start_time": "2024-05-19T14:18:48.384Z"
   },
   {
    "duration": 0,
    "start_time": "2024-05-19T14:18:48.385Z"
   },
   {
    "duration": 16,
    "start_time": "2024-05-19T14:18:57.106Z"
   },
   {
    "duration": 7,
    "start_time": "2024-05-19T14:19:01.363Z"
   },
   {
    "duration": 7,
    "start_time": "2024-05-19T14:19:49.285Z"
   },
   {
    "duration": 19,
    "start_time": "2024-05-19T14:20:00.841Z"
   },
   {
    "duration": 19,
    "start_time": "2024-05-19T14:20:13.007Z"
   },
   {
    "duration": 8,
    "start_time": "2024-05-19T14:20:30.966Z"
   },
   {
    "duration": 20,
    "start_time": "2024-05-19T14:22:01.722Z"
   },
   {
    "duration": 34,
    "start_time": "2024-05-19T14:22:33.066Z"
   },
   {
    "duration": 35,
    "start_time": "2024-05-19T14:22:56.491Z"
   },
   {
    "duration": 37,
    "start_time": "2024-05-19T14:23:23.373Z"
   },
   {
    "duration": 38,
    "start_time": "2024-05-19T14:23:49.265Z"
   },
   {
    "duration": 40,
    "start_time": "2024-05-19T14:28:37.220Z"
   },
   {
    "duration": 14,
    "start_time": "2024-05-19T14:38:11.024Z"
   },
   {
    "duration": 5,
    "start_time": "2024-05-19T14:42:07.498Z"
   },
   {
    "duration": 13,
    "start_time": "2024-05-19T14:42:07.652Z"
   },
   {
    "duration": 31,
    "start_time": "2024-05-19T14:42:21.562Z"
   },
   {
    "duration": 54,
    "start_time": "2024-05-19T14:44:43.909Z"
   },
   {
    "duration": 11,
    "start_time": "2024-05-19T14:44:49.304Z"
   },
   {
    "duration": 1052,
    "start_time": "2024-05-19T14:45:18.594Z"
   },
   {
    "duration": 246,
    "start_time": "2024-05-19T14:45:19.649Z"
   },
   {
    "duration": 30,
    "start_time": "2024-05-19T14:45:19.897Z"
   },
   {
    "duration": 8,
    "start_time": "2024-05-19T14:45:19.929Z"
   },
   {
    "duration": 63,
    "start_time": "2024-05-19T14:45:19.938Z"
   },
   {
    "duration": 18,
    "start_time": "2024-05-19T14:45:20.002Z"
   },
   {
    "duration": 84,
    "start_time": "2024-05-19T14:45:20.021Z"
   },
   {
    "duration": 139,
    "start_time": "2024-05-19T14:45:20.107Z"
   },
   {
    "duration": 201,
    "start_time": "2024-05-19T14:45:20.248Z"
   },
   {
    "duration": 1067,
    "start_time": "2024-05-19T14:45:20.451Z"
   },
   {
    "duration": 3,
    "start_time": "2024-05-19T14:45:21.520Z"
   },
   {
    "duration": 36,
    "start_time": "2024-05-19T14:45:21.525Z"
   },
   {
    "duration": 27,
    "start_time": "2024-05-19T14:45:21.563Z"
   },
   {
    "duration": 9,
    "start_time": "2024-05-19T14:45:21.592Z"
   },
   {
    "duration": 21,
    "start_time": "2024-05-19T14:45:21.602Z"
   },
   {
    "duration": 71,
    "start_time": "2024-05-19T14:45:21.624Z"
   },
   {
    "duration": 444,
    "start_time": "2024-05-19T14:45:21.697Z"
   },
   {
    "duration": 67,
    "start_time": "2024-05-19T14:45:22.142Z"
   },
   {
    "duration": 23,
    "start_time": "2024-05-19T14:45:22.211Z"
   },
   {
    "duration": 71,
    "start_time": "2024-05-19T14:45:22.236Z"
   },
   {
    "duration": 173,
    "start_time": "2024-05-19T14:45:22.309Z"
   },
   {
    "duration": 65,
    "start_time": "2024-05-19T14:45:22.484Z"
   },
   {
    "duration": 20,
    "start_time": "2024-05-19T14:45:22.550Z"
   },
   {
    "duration": 22,
    "start_time": "2024-05-19T14:45:22.572Z"
   },
   {
    "duration": 14,
    "start_time": "2024-05-19T14:45:22.596Z"
   },
   {
    "duration": 50,
    "start_time": "2024-05-19T14:45:22.611Z"
   },
   {
    "duration": 65,
    "start_time": "2024-05-19T14:45:22.663Z"
   },
   {
    "duration": 113,
    "start_time": "2024-05-19T14:45:22.733Z"
   },
   {
    "duration": 4,
    "start_time": "2024-05-19T14:45:53.696Z"
   },
   {
    "duration": 1108,
    "start_time": "2024-05-19T14:46:00.461Z"
   },
   {
    "duration": 240,
    "start_time": "2024-05-19T14:46:01.571Z"
   },
   {
    "duration": 31,
    "start_time": "2024-05-19T14:46:01.812Z"
   },
   {
    "duration": 26,
    "start_time": "2024-05-19T14:46:01.845Z"
   },
   {
    "duration": 42,
    "start_time": "2024-05-19T14:46:01.873Z"
   },
   {
    "duration": 17,
    "start_time": "2024-05-19T14:46:01.917Z"
   },
   {
    "duration": 123,
    "start_time": "2024-05-19T14:46:01.961Z"
   },
   {
    "duration": 129,
    "start_time": "2024-05-19T14:46:02.086Z"
   },
   {
    "duration": 220,
    "start_time": "2024-05-19T14:46:02.217Z"
   },
   {
    "duration": 1447,
    "start_time": "2024-05-19T14:46:02.439Z"
   },
   {
    "duration": 4,
    "start_time": "2024-05-19T14:46:03.887Z"
   },
   {
    "duration": 78,
    "start_time": "2024-05-19T14:46:03.892Z"
   },
   {
    "duration": 107,
    "start_time": "2024-05-19T14:46:03.972Z"
   },
   {
    "duration": 32,
    "start_time": "2024-05-19T14:46:04.083Z"
   },
   {
    "duration": 73,
    "start_time": "2024-05-19T14:46:04.117Z"
   },
   {
    "duration": 108,
    "start_time": "2024-05-19T14:46:04.192Z"
   },
   {
    "duration": 671,
    "start_time": "2024-05-19T14:46:04.302Z"
   },
   {
    "duration": 59,
    "start_time": "2024-05-19T14:46:04.975Z"
   },
   {
    "duration": 37,
    "start_time": "2024-05-19T14:46:05.035Z"
   },
   {
    "duration": 60,
    "start_time": "2024-05-19T14:46:05.074Z"
   },
   {
    "duration": 176,
    "start_time": "2024-05-19T14:46:05.135Z"
   },
   {
    "duration": 86,
    "start_time": "2024-05-19T14:46:05.313Z"
   },
   {
    "duration": 11,
    "start_time": "2024-05-19T14:46:05.401Z"
   },
   {
    "duration": 44,
    "start_time": "2024-05-19T14:46:05.413Z"
   },
   {
    "duration": 43,
    "start_time": "2024-05-19T14:46:05.459Z"
   },
   {
    "duration": 52,
    "start_time": "2024-05-19T14:46:05.504Z"
   },
   {
    "duration": 51,
    "start_time": "2024-05-19T14:46:05.558Z"
   },
   {
    "duration": 7,
    "start_time": "2024-05-19T14:46:05.611Z"
   },
   {
    "duration": 1042,
    "start_time": "2024-05-19T14:46:19.708Z"
   },
   {
    "duration": 230,
    "start_time": "2024-05-19T14:46:20.752Z"
   },
   {
    "duration": 28,
    "start_time": "2024-05-19T14:46:20.984Z"
   },
   {
    "duration": 7,
    "start_time": "2024-05-19T14:46:21.014Z"
   },
   {
    "duration": 58,
    "start_time": "2024-05-19T14:46:21.023Z"
   },
   {
    "duration": 17,
    "start_time": "2024-05-19T14:46:21.082Z"
   },
   {
    "duration": 83,
    "start_time": "2024-05-19T14:46:21.101Z"
   },
   {
    "duration": 130,
    "start_time": "2024-05-19T14:46:21.186Z"
   },
   {
    "duration": 191,
    "start_time": "2024-05-19T14:46:21.318Z"
   },
   {
    "duration": 1555,
    "start_time": "2024-05-19T14:46:21.510Z"
   },
   {
    "duration": 4,
    "start_time": "2024-05-19T14:46:23.066Z"
   },
   {
    "duration": 41,
    "start_time": "2024-05-19T14:46:23.072Z"
   },
   {
    "duration": 77,
    "start_time": "2024-05-19T14:46:23.114Z"
   },
   {
    "duration": 12,
    "start_time": "2024-05-19T14:46:23.194Z"
   },
   {
    "duration": 70,
    "start_time": "2024-05-19T14:46:23.207Z"
   },
   {
    "duration": 92,
    "start_time": "2024-05-19T14:46:23.278Z"
   },
   {
    "duration": 583,
    "start_time": "2024-05-19T14:46:23.372Z"
   },
   {
    "duration": 61,
    "start_time": "2024-05-19T14:46:23.957Z"
   },
   {
    "duration": 24,
    "start_time": "2024-05-19T14:46:24.019Z"
   },
   {
    "duration": 52,
    "start_time": "2024-05-19T14:46:24.061Z"
   },
   {
    "duration": 162,
    "start_time": "2024-05-19T14:46:24.115Z"
   },
   {
    "duration": 58,
    "start_time": "2024-05-19T14:46:24.278Z"
   },
   {
    "duration": 8,
    "start_time": "2024-05-19T14:46:24.338Z"
   },
   {
    "duration": 9,
    "start_time": "2024-05-19T14:46:24.361Z"
   },
   {
    "duration": 9,
    "start_time": "2024-05-19T14:46:24.371Z"
   },
   {
    "duration": 29,
    "start_time": "2024-05-19T14:46:24.381Z"
   },
   {
    "duration": 65,
    "start_time": "2024-05-19T14:46:24.412Z"
   },
   {
    "duration": 7,
    "start_time": "2024-05-19T14:46:24.479Z"
   },
   {
    "duration": 1280,
    "start_time": "2024-05-19T18:44:02.691Z"
   },
   {
    "duration": 386,
    "start_time": "2024-05-19T18:44:03.976Z"
   },
   {
    "duration": 47,
    "start_time": "2024-05-19T18:44:04.367Z"
   },
   {
    "duration": 11,
    "start_time": "2024-05-19T18:44:04.416Z"
   },
   {
    "duration": 65,
    "start_time": "2024-05-19T18:44:04.428Z"
   },
   {
    "duration": 22,
    "start_time": "2024-05-19T18:44:04.495Z"
   },
   {
    "duration": 93,
    "start_time": "2024-05-19T18:44:04.518Z"
   },
   {
    "duration": 160,
    "start_time": "2024-05-19T18:44:04.612Z"
   },
   {
    "duration": 215,
    "start_time": "2024-05-19T18:44:04.778Z"
   },
   {
    "duration": 1189,
    "start_time": "2024-05-19T18:44:04.996Z"
   },
   {
    "duration": 5,
    "start_time": "2024-05-19T18:44:06.186Z"
   },
   {
    "duration": 30,
    "start_time": "2024-05-19T18:44:06.193Z"
   },
   {
    "duration": 64,
    "start_time": "2024-05-19T18:44:06.225Z"
   },
   {
    "duration": 10,
    "start_time": "2024-05-19T18:44:06.291Z"
   },
   {
    "duration": 31,
    "start_time": "2024-05-19T18:44:06.303Z"
   },
   {
    "duration": 88,
    "start_time": "2024-05-19T18:44:06.336Z"
   },
   {
    "duration": 455,
    "start_time": "2024-05-19T18:44:06.426Z"
   },
   {
    "duration": 59,
    "start_time": "2024-05-19T18:44:06.883Z"
   },
   {
    "duration": 30,
    "start_time": "2024-05-19T18:44:06.957Z"
   },
   {
    "duration": 48,
    "start_time": "2024-05-19T18:44:06.988Z"
   },
   {
    "duration": 190,
    "start_time": "2024-05-19T18:44:07.038Z"
   },
   {
    "duration": 69,
    "start_time": "2024-05-19T18:44:07.230Z"
   },
   {
    "duration": 10,
    "start_time": "2024-05-19T18:44:07.301Z"
   },
   {
    "duration": 14,
    "start_time": "2024-05-19T18:44:07.312Z"
   },
   {
    "duration": 7,
    "start_time": "2024-05-19T18:44:07.327Z"
   },
   {
    "duration": 46,
    "start_time": "2024-05-19T18:44:07.335Z"
   },
   {
    "duration": 18,
    "start_time": "2024-05-19T18:44:07.383Z"
   },
   {
    "duration": 23,
    "start_time": "2024-05-19T18:44:07.404Z"
   },
   {
    "duration": 82,
    "start_time": "2024-05-19T18:44:07.428Z"
   },
   {
    "duration": 12,
    "start_time": "2024-05-19T18:44:07.512Z"
   },
   {
    "duration": 19,
    "start_time": "2024-05-19T18:44:07.525Z"
   },
   {
    "duration": 97,
    "start_time": "2024-05-19T18:47:27.561Z"
   },
   {
    "duration": 20,
    "start_time": "2024-05-19T18:47:35.412Z"
   },
   {
    "duration": 10,
    "start_time": "2024-05-19T18:47:47.413Z"
   },
   {
    "duration": 69,
    "start_time": "2024-05-19T18:48:32.220Z"
   },
   {
    "duration": 66,
    "start_time": "2024-05-19T18:49:36.727Z"
   },
   {
    "duration": 64,
    "start_time": "2024-05-19T18:49:46.129Z"
   },
   {
    "duration": 60,
    "start_time": "2024-05-19T18:52:35.706Z"
   },
   {
    "duration": 51,
    "start_time": "2024-05-19T18:57:42.755Z"
   },
   {
    "duration": 31,
    "start_time": "2024-05-19T18:58:36.313Z"
   },
   {
    "duration": 62,
    "start_time": "2024-05-19T18:59:21.713Z"
   },
   {
    "duration": 71,
    "start_time": "2024-05-19T18:59:31.186Z"
   },
   {
    "duration": 78,
    "start_time": "2024-05-19T19:00:03.940Z"
   },
   {
    "duration": 48,
    "start_time": "2024-05-19T19:00:57.464Z"
   },
   {
    "duration": 17,
    "start_time": "2024-05-19T19:01:20.350Z"
   },
   {
    "duration": 9,
    "start_time": "2024-05-19T19:01:25.574Z"
   },
   {
    "duration": 64,
    "start_time": "2024-05-19T19:01:56.767Z"
   },
   {
    "duration": 66,
    "start_time": "2024-05-19T19:02:29.294Z"
   },
   {
    "duration": 69,
    "start_time": "2024-05-19T19:03:10.329Z"
   },
   {
    "duration": 59,
    "start_time": "2024-05-19T19:03:50.286Z"
   },
   {
    "duration": 19,
    "start_time": "2024-05-19T19:05:08.537Z"
   },
   {
    "duration": 68,
    "start_time": "2024-05-19T19:05:32.026Z"
   },
   {
    "duration": 69,
    "start_time": "2024-05-19T19:06:24.418Z"
   },
   {
    "duration": 68,
    "start_time": "2024-05-19T19:06:31.324Z"
   },
   {
    "duration": 86,
    "start_time": "2024-05-19T19:07:06.814Z"
   },
   {
    "duration": 66,
    "start_time": "2024-05-19T19:07:18.026Z"
   },
   {
    "duration": 115,
    "start_time": "2024-05-19T19:07:27.056Z"
   },
   {
    "duration": 68,
    "start_time": "2024-05-19T19:07:57.244Z"
   },
   {
    "duration": 66,
    "start_time": "2024-05-19T19:08:04.400Z"
   },
   {
    "duration": 50,
    "start_time": "2024-05-19T19:08:35.495Z"
   },
   {
    "duration": 1134,
    "start_time": "2024-05-19T19:08:42.162Z"
   },
   {
    "duration": 240,
    "start_time": "2024-05-19T19:08:43.298Z"
   },
   {
    "duration": 37,
    "start_time": "2024-05-19T19:08:43.540Z"
   },
   {
    "duration": 8,
    "start_time": "2024-05-19T19:08:43.579Z"
   },
   {
    "duration": 41,
    "start_time": "2024-05-19T19:08:43.588Z"
   },
   {
    "duration": 52,
    "start_time": "2024-05-19T19:08:43.631Z"
   },
   {
    "duration": 90,
    "start_time": "2024-05-19T19:08:43.684Z"
   },
   {
    "duration": 150,
    "start_time": "2024-05-19T19:08:43.777Z"
   },
   {
    "duration": 19,
    "start_time": "2024-05-19T19:08:43.928Z"
   },
   {
    "duration": 1205,
    "start_time": "2024-05-19T19:08:43.957Z"
   },
   {
    "duration": 8,
    "start_time": "2024-05-19T19:08:45.167Z"
   },
   {
    "duration": 57,
    "start_time": "2024-05-19T19:08:45.177Z"
   },
   {
    "duration": 38,
    "start_time": "2024-05-19T19:08:45.236Z"
   },
   {
    "duration": 17,
    "start_time": "2024-05-19T19:08:45.276Z"
   },
   {
    "duration": 27,
    "start_time": "2024-05-19T19:08:45.295Z"
   },
   {
    "duration": 67,
    "start_time": "2024-05-19T19:08:45.323Z"
   },
   {
    "duration": 415,
    "start_time": "2024-05-19T19:08:45.397Z"
   },
   {
    "duration": 79,
    "start_time": "2024-05-19T19:08:45.814Z"
   },
   {
    "duration": 28,
    "start_time": "2024-05-19T19:08:45.895Z"
   },
   {
    "duration": 65,
    "start_time": "2024-05-19T19:08:45.924Z"
   },
   {
    "duration": 184,
    "start_time": "2024-05-19T19:08:45.990Z"
   },
   {
    "duration": 70,
    "start_time": "2024-05-19T19:08:46.176Z"
   },
   {
    "duration": 21,
    "start_time": "2024-05-19T19:08:46.248Z"
   },
   {
    "duration": 14,
    "start_time": "2024-05-19T19:08:46.273Z"
   },
   {
    "duration": 13,
    "start_time": "2024-05-19T19:08:46.288Z"
   },
   {
    "duration": 37,
    "start_time": "2024-05-19T19:08:46.303Z"
   },
   {
    "duration": 25,
    "start_time": "2024-05-19T19:08:46.358Z"
   },
   {
    "duration": 47,
    "start_time": "2024-05-19T19:08:46.387Z"
   },
   {
    "duration": 0,
    "start_time": "2024-05-19T19:08:46.436Z"
   },
   {
    "duration": 0,
    "start_time": "2024-05-19T19:08:46.438Z"
   },
   {
    "duration": 0,
    "start_time": "2024-05-19T19:08:46.439Z"
   },
   {
    "duration": 175,
    "start_time": "2024-05-19T19:09:09.900Z"
   },
   {
    "duration": 65,
    "start_time": "2024-05-19T19:09:19.016Z"
   },
   {
    "duration": 62,
    "start_time": "2024-05-19T19:11:13.839Z"
   },
   {
    "duration": 12,
    "start_time": "2024-05-19T19:13:24.707Z"
   },
   {
    "duration": 9,
    "start_time": "2024-05-19T19:13:30.021Z"
   },
   {
    "duration": 30,
    "start_time": "2024-05-19T19:14:14.716Z"
   },
   {
    "duration": 45,
    "start_time": "2024-05-19T19:14:41.068Z"
   },
   {
    "duration": 44,
    "start_time": "2024-05-19T19:14:49.234Z"
   },
   {
    "duration": 9,
    "start_time": "2024-05-19T19:15:02.126Z"
   },
   {
    "duration": 742,
    "start_time": "2024-05-19T19:18:40.718Z"
   },
   {
    "duration": 43,
    "start_time": "2024-05-19T19:18:52.028Z"
   },
   {
    "duration": 48,
    "start_time": "2024-05-19T19:19:28.418Z"
   },
   {
    "duration": 47,
    "start_time": "2024-05-19T19:19:44.772Z"
   },
   {
    "duration": 15,
    "start_time": "2024-05-19T19:27:21.129Z"
   },
   {
    "duration": 11,
    "start_time": "2024-05-19T19:27:34.389Z"
   },
   {
    "duration": 19,
    "start_time": "2024-05-19T19:27:44.851Z"
   },
   {
    "duration": 17,
    "start_time": "2024-05-19T19:28:17.815Z"
   },
   {
    "duration": 11,
    "start_time": "2024-05-19T19:28:29.407Z"
   },
   {
    "duration": 15,
    "start_time": "2024-05-19T19:28:46.757Z"
   },
   {
    "duration": 1090,
    "start_time": "2024-05-19T19:29:01.562Z"
   },
   {
    "duration": 214,
    "start_time": "2024-05-19T19:29:02.654Z"
   },
   {
    "duration": 33,
    "start_time": "2024-05-19T19:29:02.871Z"
   },
   {
    "duration": 20,
    "start_time": "2024-05-19T19:29:02.906Z"
   },
   {
    "duration": 66,
    "start_time": "2024-05-19T19:29:02.929Z"
   },
   {
    "duration": 15,
    "start_time": "2024-05-19T19:29:02.997Z"
   },
   {
    "duration": 79,
    "start_time": "2024-05-19T19:29:03.013Z"
   },
   {
    "duration": 128,
    "start_time": "2024-05-19T19:29:03.093Z"
   },
   {
    "duration": 17,
    "start_time": "2024-05-19T19:29:03.223Z"
   },
   {
    "duration": 1064,
    "start_time": "2024-05-19T19:29:03.241Z"
   },
   {
    "duration": 3,
    "start_time": "2024-05-19T19:29:04.307Z"
   },
   {
    "duration": 43,
    "start_time": "2024-05-19T19:29:04.311Z"
   },
   {
    "duration": 40,
    "start_time": "2024-05-19T19:29:04.356Z"
   },
   {
    "duration": 6,
    "start_time": "2024-05-19T19:29:04.399Z"
   },
   {
    "duration": 32,
    "start_time": "2024-05-19T19:29:04.406Z"
   },
   {
    "duration": 51,
    "start_time": "2024-05-19T19:29:04.440Z"
   },
   {
    "duration": 393,
    "start_time": "2024-05-19T19:29:04.492Z"
   },
   {
    "duration": 88,
    "start_time": "2024-05-19T19:29:04.887Z"
   },
   {
    "duration": 23,
    "start_time": "2024-05-19T19:29:04.977Z"
   },
   {
    "duration": 79,
    "start_time": "2024-05-19T19:29:05.002Z"
   },
   {
    "duration": 164,
    "start_time": "2024-05-19T19:29:05.082Z"
   },
   {
    "duration": 70,
    "start_time": "2024-05-19T19:29:05.248Z"
   },
   {
    "duration": 10,
    "start_time": "2024-05-19T19:29:05.319Z"
   },
   {
    "duration": 33,
    "start_time": "2024-05-19T19:29:05.330Z"
   },
   {
    "duration": 29,
    "start_time": "2024-05-19T19:29:05.364Z"
   },
   {
    "duration": 37,
    "start_time": "2024-05-19T19:29:05.394Z"
   },
   {
    "duration": 110,
    "start_time": "2024-05-19T19:29:05.433Z"
   },
   {
    "duration": 0,
    "start_time": "2024-05-19T19:29:05.545Z"
   },
   {
    "duration": 0,
    "start_time": "2024-05-19T19:29:05.547Z"
   },
   {
    "duration": 0,
    "start_time": "2024-05-19T19:29:05.555Z"
   },
   {
    "duration": 0,
    "start_time": "2024-05-19T19:29:05.556Z"
   },
   {
    "duration": 30,
    "start_time": "2024-05-19T19:36:30.157Z"
   },
   {
    "duration": 41,
    "start_time": "2024-05-19T19:36:50.606Z"
   },
   {
    "duration": 238,
    "start_time": "2024-05-19T19:37:35.727Z"
   },
   {
    "duration": 36,
    "start_time": "2024-05-19T19:37:54.619Z"
   },
   {
    "duration": 34,
    "start_time": "2024-05-19T19:39:01.994Z"
   },
   {
    "duration": 52,
    "start_time": "2024-05-19T19:39:42.627Z"
   },
   {
    "duration": 42,
    "start_time": "2024-05-19T19:39:53.591Z"
   },
   {
    "duration": 34,
    "start_time": "2024-05-19T19:41:09.020Z"
   },
   {
    "duration": 50,
    "start_time": "2024-05-19T19:41:24.634Z"
   },
   {
    "duration": 51,
    "start_time": "2024-05-19T19:42:28.782Z"
   },
   {
    "duration": 75,
    "start_time": "2024-05-19T19:43:21.561Z"
   },
   {
    "duration": 74,
    "start_time": "2024-05-19T19:43:26.770Z"
   },
   {
    "duration": 1074,
    "start_time": "2024-05-19T19:44:59.205Z"
   },
   {
    "duration": 269,
    "start_time": "2024-05-19T19:45:00.282Z"
   },
   {
    "duration": 51,
    "start_time": "2024-05-19T19:45:00.552Z"
   },
   {
    "duration": 14,
    "start_time": "2024-05-19T19:45:00.605Z"
   },
   {
    "duration": 153,
    "start_time": "2024-05-19T19:45:00.621Z"
   },
   {
    "duration": 30,
    "start_time": "2024-05-19T19:45:00.776Z"
   },
   {
    "duration": 106,
    "start_time": "2024-05-19T19:45:00.809Z"
   },
   {
    "duration": 136,
    "start_time": "2024-05-19T19:45:00.917Z"
   },
   {
    "duration": 32,
    "start_time": "2024-05-19T19:45:01.055Z"
   },
   {
    "duration": 1190,
    "start_time": "2024-05-19T19:45:01.092Z"
   },
   {
    "duration": 9,
    "start_time": "2024-05-19T19:45:02.286Z"
   },
   {
    "duration": 54,
    "start_time": "2024-05-19T19:45:02.297Z"
   },
   {
    "duration": 54,
    "start_time": "2024-05-19T19:45:02.353Z"
   },
   {
    "duration": 27,
    "start_time": "2024-05-19T19:45:02.409Z"
   },
   {
    "duration": 65,
    "start_time": "2024-05-19T19:45:02.438Z"
   },
   {
    "duration": 50,
    "start_time": "2024-05-19T19:45:02.505Z"
   },
   {
    "duration": 439,
    "start_time": "2024-05-19T19:45:02.557Z"
   },
   {
    "duration": 87,
    "start_time": "2024-05-19T19:45:02.998Z"
   },
   {
    "duration": 22,
    "start_time": "2024-05-19T19:45:03.090Z"
   },
   {
    "duration": 46,
    "start_time": "2024-05-19T19:45:03.114Z"
   },
   {
    "duration": 176,
    "start_time": "2024-05-19T19:45:03.169Z"
   },
   {
    "duration": 77,
    "start_time": "2024-05-19T19:45:03.346Z"
   },
   {
    "duration": 9,
    "start_time": "2024-05-19T19:45:03.425Z"
   },
   {
    "duration": 29,
    "start_time": "2024-05-19T19:45:03.435Z"
   },
   {
    "duration": 15,
    "start_time": "2024-05-19T19:45:03.473Z"
   },
   {
    "duration": 42,
    "start_time": "2024-05-19T19:45:03.489Z"
   },
   {
    "duration": 76,
    "start_time": "2024-05-19T19:45:03.532Z"
   },
   {
    "duration": 49,
    "start_time": "2024-05-19T19:45:03.613Z"
   },
   {
    "duration": 32,
    "start_time": "2024-05-19T19:45:03.668Z"
   },
   {
    "duration": 25,
    "start_time": "2024-05-19T19:45:03.702Z"
   },
   {
    "duration": 6,
    "start_time": "2024-05-19T19:45:03.729Z"
   },
   {
    "duration": 67,
    "start_time": "2024-05-19T19:45:09.132Z"
   },
   {
    "duration": 55,
    "start_time": "2024-05-19T19:45:18.289Z"
   },
   {
    "duration": 79,
    "start_time": "2024-05-19T19:49:48.065Z"
   },
   {
    "duration": 61,
    "start_time": "2024-05-19T19:50:28.688Z"
   },
   {
    "duration": 78,
    "start_time": "2024-05-19T19:50:33.110Z"
   },
   {
    "duration": 82,
    "start_time": "2024-05-19T19:51:24.966Z"
   },
   {
    "duration": 119,
    "start_time": "2024-05-19T19:55:01.416Z"
   },
   {
    "duration": 105,
    "start_time": "2024-05-19T19:55:12.640Z"
   },
   {
    "duration": 1090,
    "start_time": "2024-05-19T19:55:21.209Z"
   },
   {
    "duration": 221,
    "start_time": "2024-05-19T19:55:22.301Z"
   },
   {
    "duration": 41,
    "start_time": "2024-05-19T19:55:22.524Z"
   },
   {
    "duration": 8,
    "start_time": "2024-05-19T19:55:22.567Z"
   },
   {
    "duration": 50,
    "start_time": "2024-05-19T19:55:22.578Z"
   },
   {
    "duration": 15,
    "start_time": "2024-05-19T19:55:22.630Z"
   },
   {
    "duration": 83,
    "start_time": "2024-05-19T19:55:22.646Z"
   },
   {
    "duration": 127,
    "start_time": "2024-05-19T19:55:22.730Z"
   },
   {
    "duration": 31,
    "start_time": "2024-05-19T19:55:22.859Z"
   },
   {
    "duration": 1218,
    "start_time": "2024-05-19T19:55:22.892Z"
   },
   {
    "duration": 4,
    "start_time": "2024-05-19T19:55:24.112Z"
   },
   {
    "duration": 18,
    "start_time": "2024-05-19T19:55:24.118Z"
   },
   {
    "duration": 64,
    "start_time": "2024-05-19T19:55:24.138Z"
   },
   {
    "duration": 7,
    "start_time": "2024-05-19T19:55:24.205Z"
   },
   {
    "duration": 19,
    "start_time": "2024-05-19T19:55:24.213Z"
   },
   {
    "duration": 69,
    "start_time": "2024-05-19T19:55:24.234Z"
   },
   {
    "duration": 431,
    "start_time": "2024-05-19T19:55:24.305Z"
   },
   {
    "duration": 78,
    "start_time": "2024-05-19T19:55:24.738Z"
   },
   {
    "duration": 24,
    "start_time": "2024-05-19T19:55:24.817Z"
   },
   {
    "duration": 52,
    "start_time": "2024-05-19T19:55:24.843Z"
   },
   {
    "duration": 182,
    "start_time": "2024-05-19T19:55:24.897Z"
   },
   {
    "duration": 66,
    "start_time": "2024-05-19T19:55:25.080Z"
   },
   {
    "duration": 13,
    "start_time": "2024-05-19T19:55:25.148Z"
   },
   {
    "duration": 21,
    "start_time": "2024-05-19T19:55:25.163Z"
   },
   {
    "duration": 10,
    "start_time": "2024-05-19T19:55:25.187Z"
   },
   {
    "duration": 33,
    "start_time": "2024-05-19T19:55:25.199Z"
   },
   {
    "duration": 115,
    "start_time": "2024-05-19T19:55:25.234Z"
   },
   {
    "duration": 56,
    "start_time": "2024-05-19T19:55:25.366Z"
   },
   {
    "duration": 12,
    "start_time": "2024-05-19T19:55:25.424Z"
   },
   {
    "duration": 37,
    "start_time": "2024-05-19T19:55:25.438Z"
   },
   {
    "duration": 10,
    "start_time": "2024-05-19T19:55:25.478Z"
   },
   {
    "duration": 77,
    "start_time": "2024-05-19T19:55:47.736Z"
   },
   {
    "duration": 840,
    "start_time": "2024-05-19T19:58:30.586Z"
   },
   {
    "duration": 59,
    "start_time": "2024-05-19T19:59:19.910Z"
   },
   {
    "duration": 753,
    "start_time": "2024-05-19T19:59:50.321Z"
   },
   {
    "duration": 62,
    "start_time": "2024-05-19T20:00:01.489Z"
   },
   {
    "duration": 71,
    "start_time": "2024-05-19T20:00:15.744Z"
   },
   {
    "duration": 68,
    "start_time": "2024-05-19T20:00:23.152Z"
   },
   {
    "duration": 739,
    "start_time": "2024-05-19T20:00:36.691Z"
   },
   {
    "duration": 13,
    "start_time": "2024-05-19T20:00:52.453Z"
   },
   {
    "duration": 6,
    "start_time": "2024-05-19T20:01:03.034Z"
   },
   {
    "duration": 7,
    "start_time": "2024-05-19T20:01:26.446Z"
   },
   {
    "duration": 6,
    "start_time": "2024-05-19T20:01:29.441Z"
   },
   {
    "duration": 11,
    "start_time": "2024-05-19T20:02:29.772Z"
   },
   {
    "duration": 11,
    "start_time": "2024-05-19T20:04:41.352Z"
   },
   {
    "duration": 7,
    "start_time": "2024-05-19T20:04:41.547Z"
   },
   {
    "duration": 7,
    "start_time": "2024-05-19T20:05:06.550Z"
   },
   {
    "duration": 12,
    "start_time": "2024-05-19T20:05:06.750Z"
   },
   {
    "duration": 7,
    "start_time": "2024-05-19T20:05:35.538Z"
   },
   {
    "duration": 1044,
    "start_time": "2024-05-19T20:17:16.608Z"
   },
   {
    "duration": 266,
    "start_time": "2024-05-19T20:17:17.653Z"
   },
   {
    "duration": 39,
    "start_time": "2024-05-19T20:17:17.921Z"
   },
   {
    "duration": 12,
    "start_time": "2024-05-19T20:17:17.970Z"
   },
   {
    "duration": 55,
    "start_time": "2024-05-19T20:17:17.984Z"
   },
   {
    "duration": 21,
    "start_time": "2024-05-19T20:17:18.040Z"
   },
   {
    "duration": 64,
    "start_time": "2024-05-19T20:17:18.062Z"
   },
   {
    "duration": 141,
    "start_time": "2024-05-19T20:17:18.127Z"
   },
   {
    "duration": 17,
    "start_time": "2024-05-19T20:17:18.270Z"
   },
   {
    "duration": 1084,
    "start_time": "2024-05-19T20:17:18.290Z"
   },
   {
    "duration": 4,
    "start_time": "2024-05-19T20:17:19.375Z"
   },
   {
    "duration": 20,
    "start_time": "2024-05-19T20:17:19.380Z"
   },
   {
    "duration": 29,
    "start_time": "2024-05-19T20:17:19.401Z"
   },
   {
    "duration": 37,
    "start_time": "2024-05-19T20:17:19.432Z"
   },
   {
    "duration": 18,
    "start_time": "2024-05-19T20:17:19.472Z"
   },
   {
    "duration": 36,
    "start_time": "2024-05-19T20:17:19.491Z"
   },
   {
    "duration": 413,
    "start_time": "2024-05-19T20:17:19.528Z"
   },
   {
    "duration": 73,
    "start_time": "2024-05-19T20:17:19.942Z"
   },
   {
    "duration": 21,
    "start_time": "2024-05-19T20:17:20.017Z"
   },
   {
    "duration": 55,
    "start_time": "2024-05-19T20:17:20.039Z"
   },
   {
    "duration": 155,
    "start_time": "2024-05-19T20:17:20.096Z"
   },
   {
    "duration": 69,
    "start_time": "2024-05-19T20:17:20.252Z"
   },
   {
    "duration": 8,
    "start_time": "2024-05-19T20:17:20.323Z"
   },
   {
    "duration": 30,
    "start_time": "2024-05-19T20:17:20.333Z"
   },
   {
    "duration": 6,
    "start_time": "2024-05-19T20:17:20.364Z"
   },
   {
    "duration": 51,
    "start_time": "2024-05-19T20:17:20.372Z"
   },
   {
    "duration": 96,
    "start_time": "2024-05-19T20:17:20.425Z"
   },
   {
    "duration": 60,
    "start_time": "2024-05-19T20:17:20.525Z"
   },
   {
    "duration": 6,
    "start_time": "2024-05-19T20:17:20.587Z"
   },
   {
    "duration": 19,
    "start_time": "2024-05-19T20:17:20.594Z"
   },
   {
    "duration": 190,
    "start_time": "2024-05-19T20:18:58.420Z"
   },
   {
    "duration": 89,
    "start_time": "2024-05-19T20:19:10.253Z"
   },
   {
    "duration": 99,
    "start_time": "2024-05-19T20:19:16.729Z"
   },
   {
    "duration": 91,
    "start_time": "2024-05-19T20:19:52.352Z"
   },
   {
    "duration": 89,
    "start_time": "2024-05-19T20:20:04.303Z"
   },
   {
    "duration": 37,
    "start_time": "2024-05-19T20:20:58.030Z"
   },
   {
    "duration": 49,
    "start_time": "2024-05-19T20:22:16.512Z"
   },
   {
    "duration": 42,
    "start_time": "2024-05-19T20:22:28.940Z"
   },
   {
    "duration": 39,
    "start_time": "2024-05-19T20:22:33.316Z"
   },
   {
    "duration": 42,
    "start_time": "2024-05-19T20:25:36.754Z"
   },
   {
    "duration": 73,
    "start_time": "2024-05-19T20:26:26.555Z"
   },
   {
    "duration": 94,
    "start_time": "2024-05-19T20:26:56.406Z"
   },
   {
    "duration": 81,
    "start_time": "2024-05-19T20:28:45.939Z"
   },
   {
    "duration": 799,
    "start_time": "2024-05-19T20:30:52.610Z"
   },
   {
    "duration": 3,
    "start_time": "2024-05-19T20:31:04.820Z"
   },
   {
    "duration": 734,
    "start_time": "2024-05-19T20:31:18.110Z"
   },
   {
    "duration": 79,
    "start_time": "2024-05-19T20:31:45.423Z"
   },
   {
    "duration": 83,
    "start_time": "2024-05-19T20:32:03.483Z"
   },
   {
    "duration": 79,
    "start_time": "2024-05-19T20:32:09.212Z"
   },
   {
    "duration": 83,
    "start_time": "2024-05-19T20:32:45.276Z"
   },
   {
    "duration": 81,
    "start_time": "2024-05-19T20:33:38.095Z"
   },
   {
    "duration": 77,
    "start_time": "2024-05-19T20:33:49.103Z"
   },
   {
    "duration": 76,
    "start_time": "2024-05-19T20:34:59.283Z"
   },
   {
    "duration": 92,
    "start_time": "2024-05-19T20:35:17.745Z"
   },
   {
    "duration": 79,
    "start_time": "2024-05-19T20:37:34.695Z"
   },
   {
    "duration": 74,
    "start_time": "2024-05-19T20:37:42.587Z"
   },
   {
    "duration": 78,
    "start_time": "2024-05-19T20:38:06.736Z"
   },
   {
    "duration": 75,
    "start_time": "2024-05-19T20:38:36.932Z"
   },
   {
    "duration": 75,
    "start_time": "2024-05-19T20:39:08.537Z"
   },
   {
    "duration": 81,
    "start_time": "2024-05-19T20:39:18.422Z"
   },
   {
    "duration": 75,
    "start_time": "2024-05-19T20:39:42.001Z"
   },
   {
    "duration": 77,
    "start_time": "2024-05-19T20:40:02.036Z"
   },
   {
    "duration": 80,
    "start_time": "2024-05-19T20:40:27.344Z"
   },
   {
    "duration": 79,
    "start_time": "2024-05-19T20:41:39.886Z"
   },
   {
    "duration": 79,
    "start_time": "2024-05-19T20:41:59.114Z"
   },
   {
    "duration": 105,
    "start_time": "2024-05-19T20:42:08.515Z"
   },
   {
    "duration": 95,
    "start_time": "2024-05-19T20:42:39.722Z"
   },
   {
    "duration": 81,
    "start_time": "2024-05-19T20:42:48.548Z"
   },
   {
    "duration": 79,
    "start_time": "2024-05-19T20:44:35.302Z"
   },
   {
    "duration": 92,
    "start_time": "2024-05-19T20:44:42.420Z"
   },
   {
    "duration": 81,
    "start_time": "2024-05-19T20:44:55.869Z"
   },
   {
    "duration": 115,
    "start_time": "2024-05-19T20:46:01.776Z"
   },
   {
    "duration": 88,
    "start_time": "2024-05-19T20:46:08.622Z"
   },
   {
    "duration": 86,
    "start_time": "2024-05-19T20:46:15.026Z"
   },
   {
    "duration": 1019,
    "start_time": "2024-05-19T20:48:27.491Z"
   },
   {
    "duration": 231,
    "start_time": "2024-05-19T20:48:28.512Z"
   },
   {
    "duration": 30,
    "start_time": "2024-05-19T20:48:28.745Z"
   },
   {
    "duration": 8,
    "start_time": "2024-05-19T20:48:28.777Z"
   },
   {
    "duration": 51,
    "start_time": "2024-05-19T20:48:28.786Z"
   },
   {
    "duration": 28,
    "start_time": "2024-05-19T20:48:28.838Z"
   },
   {
    "duration": 67,
    "start_time": "2024-05-19T20:48:28.868Z"
   },
   {
    "duration": 135,
    "start_time": "2024-05-19T20:48:28.937Z"
   },
   {
    "duration": 17,
    "start_time": "2024-05-19T20:48:29.073Z"
   },
   {
    "duration": 1026,
    "start_time": "2024-05-19T20:48:29.092Z"
   },
   {
    "duration": 4,
    "start_time": "2024-05-19T20:48:30.119Z"
   },
   {
    "duration": 44,
    "start_time": "2024-05-19T20:48:30.125Z"
   },
   {
    "duration": 41,
    "start_time": "2024-05-19T20:48:30.170Z"
   },
   {
    "duration": 46,
    "start_time": "2024-05-19T20:48:30.213Z"
   },
   {
    "duration": 55,
    "start_time": "2024-05-19T20:48:30.261Z"
   },
   {
    "duration": 74,
    "start_time": "2024-05-19T20:48:30.318Z"
   },
   {
    "duration": 402,
    "start_time": "2024-05-19T20:48:30.393Z"
   },
   {
    "duration": 78,
    "start_time": "2024-05-19T20:48:30.797Z"
   },
   {
    "duration": 25,
    "start_time": "2024-05-19T20:48:30.876Z"
   },
   {
    "duration": 35,
    "start_time": "2024-05-19T20:48:30.903Z"
   },
   {
    "duration": 181,
    "start_time": "2024-05-19T20:48:30.939Z"
   },
   {
    "duration": 76,
    "start_time": "2024-05-19T20:48:31.122Z"
   },
   {
    "duration": 10,
    "start_time": "2024-05-19T20:48:31.200Z"
   },
   {
    "duration": 63,
    "start_time": "2024-05-19T20:48:31.212Z"
   },
   {
    "duration": 79,
    "start_time": "2024-05-19T20:48:31.277Z"
   },
   {
    "duration": 53,
    "start_time": "2024-05-19T20:48:31.358Z"
   },
   {
    "duration": 0,
    "start_time": "2024-05-19T20:48:31.413Z"
   },
   {
    "duration": 0,
    "start_time": "2024-05-19T20:48:31.415Z"
   },
   {
    "duration": 0,
    "start_time": "2024-05-19T20:48:31.416Z"
   },
   {
    "duration": 0,
    "start_time": "2024-05-19T20:48:31.418Z"
   },
   {
    "duration": 0,
    "start_time": "2024-05-19T20:48:31.419Z"
   },
   {
    "duration": 58,
    "start_time": "2024-05-19T20:49:04.640Z"
   },
   {
    "duration": 37,
    "start_time": "2024-05-19T20:49:06.919Z"
   },
   {
    "duration": 80,
    "start_time": "2024-05-19T20:49:08.056Z"
   },
   {
    "duration": 156,
    "start_time": "2024-05-19T20:54:17.278Z"
   },
   {
    "duration": 8,
    "start_time": "2024-05-19T20:54:22.056Z"
   },
   {
    "duration": 72,
    "start_time": "2024-05-19T20:55:19.901Z"
   },
   {
    "duration": 12,
    "start_time": "2024-05-19T20:55:31.836Z"
   },
   {
    "duration": 11,
    "start_time": "2024-05-19T20:56:06.293Z"
   },
   {
    "duration": 82,
    "start_time": "2024-05-19T21:03:58.724Z"
   },
   {
    "duration": 78,
    "start_time": "2024-05-19T21:04:25.939Z"
   },
   {
    "duration": 83,
    "start_time": "2024-05-19T21:04:33.829Z"
   },
   {
    "duration": 85,
    "start_time": "2024-05-19T21:04:39.477Z"
   },
   {
    "duration": 75,
    "start_time": "2024-05-19T21:04:54.825Z"
   },
   {
    "duration": 84,
    "start_time": "2024-05-19T21:05:00.719Z"
   },
   {
    "duration": 81,
    "start_time": "2024-05-19T21:05:05.917Z"
   },
   {
    "duration": 79,
    "start_time": "2024-05-19T21:05:10.554Z"
   },
   {
    "duration": 9,
    "start_time": "2024-05-19T21:05:20.306Z"
   },
   {
    "duration": 77,
    "start_time": "2024-05-19T21:05:28.662Z"
   },
   {
    "duration": 76,
    "start_time": "2024-05-19T21:05:42.378Z"
   },
   {
    "duration": 75,
    "start_time": "2024-05-19T21:05:53.005Z"
   },
   {
    "duration": 50,
    "start_time": "2024-05-19T21:08:49.867Z"
   },
   {
    "duration": 82,
    "start_time": "2024-05-19T21:11:07.188Z"
   },
   {
    "duration": 14,
    "start_time": "2024-05-19T21:12:42.989Z"
   },
   {
    "duration": 5,
    "start_time": "2024-05-19T21:13:25.093Z"
   },
   {
    "duration": 6,
    "start_time": "2024-05-19T21:27:06.933Z"
   },
   {
    "duration": 23,
    "start_time": "2024-05-19T21:28:47.095Z"
   },
   {
    "duration": 89,
    "start_time": "2024-05-19T21:29:59.644Z"
   },
   {
    "duration": 83,
    "start_time": "2024-05-19T21:35:55.091Z"
   },
   {
    "duration": 9,
    "start_time": "2024-05-19T21:36:09.935Z"
   },
   {
    "duration": 12,
    "start_time": "2024-05-19T21:36:18.277Z"
   },
   {
    "duration": 5,
    "start_time": "2024-05-19T21:36:25.177Z"
   },
   {
    "duration": 28,
    "start_time": "2024-05-19T21:40:21.978Z"
   },
   {
    "duration": 5,
    "start_time": "2024-05-19T21:40:49.350Z"
   },
   {
    "duration": 121,
    "start_time": "2024-05-19T21:40:50.708Z"
   },
   {
    "duration": 6,
    "start_time": "2024-05-19T21:43:25.797Z"
   },
   {
    "duration": 116,
    "start_time": "2024-05-19T21:43:29.268Z"
   },
   {
    "duration": 6,
    "start_time": "2024-05-19T21:43:45.167Z"
   },
   {
    "duration": 130,
    "start_time": "2024-05-19T21:43:45.476Z"
   },
   {
    "duration": 115,
    "start_time": "2024-05-19T21:44:28.464Z"
   },
   {
    "duration": 123,
    "start_time": "2024-05-19T21:46:23.675Z"
   },
   {
    "duration": 78,
    "start_time": "2024-05-19T21:46:46.046Z"
   },
   {
    "duration": 96,
    "start_time": "2024-05-19T21:47:24.261Z"
   },
   {
    "duration": 11,
    "start_time": "2024-05-19T21:47:24.544Z"
   },
   {
    "duration": 60,
    "start_time": "2024-05-19T21:51:22.259Z"
   },
   {
    "duration": 9,
    "start_time": "2024-05-19T21:52:22.446Z"
   },
   {
    "duration": 125,
    "start_time": "2024-05-19T21:52:23.094Z"
   },
   {
    "duration": 119,
    "start_time": "2024-05-19T21:53:40.478Z"
   },
   {
    "duration": 134,
    "start_time": "2024-05-19T21:57:08.306Z"
   },
   {
    "duration": 123,
    "start_time": "2024-05-19T21:57:24.670Z"
   },
   {
    "duration": 181,
    "start_time": "2024-05-19T21:58:48.976Z"
   },
   {
    "duration": 134,
    "start_time": "2024-05-19T22:00:22.820Z"
   },
   {
    "duration": 123,
    "start_time": "2024-05-19T22:00:23.012Z"
   },
   {
    "duration": 188,
    "start_time": "2024-05-19T22:00:23.209Z"
   },
   {
    "duration": 48,
    "start_time": "2024-05-19T22:04:09.531Z"
   },
   {
    "duration": 1285,
    "start_time": "2024-05-20T04:35:17.193Z"
   },
   {
    "duration": 375,
    "start_time": "2024-05-20T04:35:18.480Z"
   },
   {
    "duration": 31,
    "start_time": "2024-05-20T04:35:18.856Z"
   },
   {
    "duration": 9,
    "start_time": "2024-05-20T04:35:18.889Z"
   },
   {
    "duration": 38,
    "start_time": "2024-05-20T04:35:18.900Z"
   },
   {
    "duration": 37,
    "start_time": "2024-05-20T04:35:18.939Z"
   },
   {
    "duration": 79,
    "start_time": "2024-05-20T04:35:18.977Z"
   },
   {
    "duration": 124,
    "start_time": "2024-05-20T04:35:19.057Z"
   },
   {
    "duration": 18,
    "start_time": "2024-05-20T04:35:19.183Z"
   },
   {
    "duration": 1083,
    "start_time": "2024-05-20T04:35:19.202Z"
   },
   {
    "duration": 3,
    "start_time": "2024-05-20T04:35:20.287Z"
   },
   {
    "duration": 37,
    "start_time": "2024-05-20T04:35:20.292Z"
   },
   {
    "duration": 32,
    "start_time": "2024-05-20T04:35:20.330Z"
   },
   {
    "duration": 10,
    "start_time": "2024-05-20T04:35:20.366Z"
   },
   {
    "duration": 23,
    "start_time": "2024-05-20T04:35:20.377Z"
   },
   {
    "duration": 40,
    "start_time": "2024-05-20T04:35:20.402Z"
   },
   {
    "duration": 409,
    "start_time": "2024-05-20T04:35:20.444Z"
   },
   {
    "duration": 64,
    "start_time": "2024-05-20T04:35:20.855Z"
   },
   {
    "duration": 23,
    "start_time": "2024-05-20T04:35:20.921Z"
   },
   {
    "duration": 38,
    "start_time": "2024-05-20T04:35:20.962Z"
   },
   {
    "duration": 178,
    "start_time": "2024-05-20T04:35:21.002Z"
   },
   {
    "duration": 918,
    "start_time": "2024-05-20T04:35:21.181Z"
   },
   {
    "duration": 0,
    "start_time": "2024-05-20T04:35:22.102Z"
   },
   {
    "duration": 0,
    "start_time": "2024-05-20T04:35:22.103Z"
   },
   {
    "duration": 0,
    "start_time": "2024-05-20T04:35:22.104Z"
   },
   {
    "duration": 0,
    "start_time": "2024-05-20T04:35:22.106Z"
   },
   {
    "duration": 0,
    "start_time": "2024-05-20T04:35:22.107Z"
   },
   {
    "duration": 0,
    "start_time": "2024-05-20T04:35:22.109Z"
   },
   {
    "duration": 0,
    "start_time": "2024-05-20T04:35:22.110Z"
   },
   {
    "duration": 0,
    "start_time": "2024-05-20T04:35:22.112Z"
   },
   {
    "duration": 0,
    "start_time": "2024-05-20T04:35:22.113Z"
   },
   {
    "duration": 0,
    "start_time": "2024-05-20T04:35:22.114Z"
   },
   {
    "duration": 0,
    "start_time": "2024-05-20T04:35:22.116Z"
   },
   {
    "duration": 0,
    "start_time": "2024-05-20T04:35:22.117Z"
   },
   {
    "duration": 0,
    "start_time": "2024-05-20T04:35:22.118Z"
   },
   {
    "duration": 0,
    "start_time": "2024-05-20T04:35:22.120Z"
   },
   {
    "duration": 0,
    "start_time": "2024-05-20T04:35:22.121Z"
   },
   {
    "duration": 842,
    "start_time": "2024-05-20T04:35:40.115Z"
   },
   {
    "duration": 57,
    "start_time": "2024-05-20T04:35:59.603Z"
   },
   {
    "duration": 790,
    "start_time": "2024-05-20T04:37:04.124Z"
   },
   {
    "duration": 778,
    "start_time": "2024-05-20T04:37:16.654Z"
   },
   {
    "duration": 1103,
    "start_time": "2024-05-20T04:37:22.845Z"
   },
   {
    "duration": 253,
    "start_time": "2024-05-20T04:37:23.951Z"
   },
   {
    "duration": 31,
    "start_time": "2024-05-20T04:37:24.205Z"
   },
   {
    "duration": 23,
    "start_time": "2024-05-20T04:37:24.238Z"
   },
   {
    "duration": 37,
    "start_time": "2024-05-20T04:37:24.263Z"
   },
   {
    "duration": 17,
    "start_time": "2024-05-20T04:37:24.302Z"
   },
   {
    "duration": 82,
    "start_time": "2024-05-20T04:37:24.320Z"
   },
   {
    "duration": 130,
    "start_time": "2024-05-20T04:37:24.404Z"
   },
   {
    "duration": 26,
    "start_time": "2024-05-20T04:37:24.535Z"
   },
   {
    "duration": 1057,
    "start_time": "2024-05-20T04:37:24.564Z"
   },
   {
    "duration": 3,
    "start_time": "2024-05-20T04:37:25.623Z"
   },
   {
    "duration": 33,
    "start_time": "2024-05-20T04:37:25.628Z"
   },
   {
    "duration": 28,
    "start_time": "2024-05-20T04:37:25.663Z"
   },
   {
    "duration": 7,
    "start_time": "2024-05-20T04:37:25.692Z"
   },
   {
    "duration": 28,
    "start_time": "2024-05-20T04:37:25.701Z"
   },
   {
    "duration": 67,
    "start_time": "2024-05-20T04:37:25.731Z"
   },
   {
    "duration": 420,
    "start_time": "2024-05-20T04:37:25.800Z"
   },
   {
    "duration": 76,
    "start_time": "2024-05-20T04:37:26.222Z"
   },
   {
    "duration": 24,
    "start_time": "2024-05-20T04:37:26.300Z"
   },
   {
    "duration": 58,
    "start_time": "2024-05-20T04:37:26.327Z"
   },
   {
    "duration": 164,
    "start_time": "2024-05-20T04:37:26.386Z"
   },
   {
    "duration": 940,
    "start_time": "2024-05-20T04:37:26.552Z"
   },
   {
    "duration": 0,
    "start_time": "2024-05-20T04:37:27.494Z"
   },
   {
    "duration": 0,
    "start_time": "2024-05-20T04:37:27.495Z"
   },
   {
    "duration": 0,
    "start_time": "2024-05-20T04:37:27.496Z"
   },
   {
    "duration": 0,
    "start_time": "2024-05-20T04:37:27.497Z"
   },
   {
    "duration": 0,
    "start_time": "2024-05-20T04:37:27.498Z"
   },
   {
    "duration": 0,
    "start_time": "2024-05-20T04:37:27.499Z"
   },
   {
    "duration": 0,
    "start_time": "2024-05-20T04:37:27.500Z"
   },
   {
    "duration": 0,
    "start_time": "2024-05-20T04:37:27.501Z"
   },
   {
    "duration": 0,
    "start_time": "2024-05-20T04:37:27.502Z"
   },
   {
    "duration": 0,
    "start_time": "2024-05-20T04:37:27.503Z"
   },
   {
    "duration": 0,
    "start_time": "2024-05-20T04:37:27.504Z"
   },
   {
    "duration": 0,
    "start_time": "2024-05-20T04:37:27.505Z"
   },
   {
    "duration": 0,
    "start_time": "2024-05-20T04:37:27.506Z"
   },
   {
    "duration": 0,
    "start_time": "2024-05-20T04:37:27.507Z"
   },
   {
    "duration": 0,
    "start_time": "2024-05-20T04:37:27.508Z"
   },
   {
    "duration": 90,
    "start_time": "2024-05-20T04:38:57.087Z"
   },
   {
    "duration": 1099,
    "start_time": "2024-05-20T04:39:12.055Z"
   },
   {
    "duration": 234,
    "start_time": "2024-05-20T04:39:13.156Z"
   },
   {
    "duration": 31,
    "start_time": "2024-05-20T04:39:13.392Z"
   },
   {
    "duration": 30,
    "start_time": "2024-05-20T04:39:13.425Z"
   },
   {
    "duration": 65,
    "start_time": "2024-05-20T04:39:13.457Z"
   },
   {
    "duration": 16,
    "start_time": "2024-05-20T04:39:13.523Z"
   },
   {
    "duration": 76,
    "start_time": "2024-05-20T04:39:13.540Z"
   },
   {
    "duration": 128,
    "start_time": "2024-05-20T04:39:13.617Z"
   },
   {
    "duration": 26,
    "start_time": "2024-05-20T04:39:13.746Z"
   },
   {
    "duration": 1041,
    "start_time": "2024-05-20T04:39:13.774Z"
   },
   {
    "duration": 4,
    "start_time": "2024-05-20T04:39:14.816Z"
   },
   {
    "duration": 24,
    "start_time": "2024-05-20T04:39:14.821Z"
   },
   {
    "duration": 36,
    "start_time": "2024-05-20T04:39:14.846Z"
   },
   {
    "duration": 7,
    "start_time": "2024-05-20T04:39:14.885Z"
   },
   {
    "duration": 20,
    "start_time": "2024-05-20T04:39:14.894Z"
   },
   {
    "duration": 64,
    "start_time": "2024-05-20T04:39:14.916Z"
   },
   {
    "duration": 398,
    "start_time": "2024-05-20T04:39:14.982Z"
   },
   {
    "duration": 59,
    "start_time": "2024-05-20T04:39:15.382Z"
   },
   {
    "duration": 34,
    "start_time": "2024-05-20T04:39:15.442Z"
   },
   {
    "duration": 35,
    "start_time": "2024-05-20T04:39:15.478Z"
   },
   {
    "duration": 180,
    "start_time": "2024-05-20T04:39:15.514Z"
   },
   {
    "duration": 93,
    "start_time": "2024-05-20T04:39:15.696Z"
   },
   {
    "duration": 11,
    "start_time": "2024-05-20T04:39:15.790Z"
   },
   {
    "duration": 11,
    "start_time": "2024-05-20T04:39:15.802Z"
   },
   {
    "duration": 8,
    "start_time": "2024-05-20T04:39:15.814Z"
   },
   {
    "duration": 79,
    "start_time": "2024-05-20T04:39:15.823Z"
   },
   {
    "duration": 29,
    "start_time": "2024-05-20T04:39:15.904Z"
   },
   {
    "duration": 101,
    "start_time": "2024-05-20T04:39:15.936Z"
   },
   {
    "duration": 23,
    "start_time": "2024-05-20T04:39:16.038Z"
   },
   {
    "duration": 17,
    "start_time": "2024-05-20T04:39:16.063Z"
   },
   {
    "duration": 136,
    "start_time": "2024-05-20T04:39:16.082Z"
   },
   {
    "duration": 163,
    "start_time": "2024-05-20T04:39:16.220Z"
   },
   {
    "duration": 141,
    "start_time": "2024-05-20T04:39:16.384Z"
   },
   {
    "duration": 277,
    "start_time": "2024-05-20T04:39:16.526Z"
   },
   {
    "duration": 302,
    "start_time": "2024-05-20T04:39:16.805Z"
   },
   {
    "duration": 300,
    "start_time": "2024-05-20T04:39:17.161Z"
   },
   {
    "duration": 410,
    "start_time": "2024-05-20T04:39:17.462Z"
   },
   {
    "duration": 1026,
    "start_time": "2024-05-20T05:19:07.582Z"
   },
   {
    "duration": 235,
    "start_time": "2024-05-20T05:19:08.610Z"
   },
   {
    "duration": 33,
    "start_time": "2024-05-20T05:19:08.846Z"
   },
   {
    "duration": 54,
    "start_time": "2024-05-20T05:19:08.881Z"
   },
   {
    "duration": 77,
    "start_time": "2024-05-20T05:19:08.937Z"
   },
   {
    "duration": 18,
    "start_time": "2024-05-20T05:19:09.015Z"
   },
   {
    "duration": 111,
    "start_time": "2024-05-20T05:19:09.034Z"
   },
   {
    "duration": 140,
    "start_time": "2024-05-20T05:19:09.146Z"
   },
   {
    "duration": 40,
    "start_time": "2024-05-20T05:19:09.287Z"
   },
   {
    "duration": 1148,
    "start_time": "2024-05-20T05:19:09.329Z"
   },
   {
    "duration": 4,
    "start_time": "2024-05-20T05:19:10.480Z"
   },
   {
    "duration": 38,
    "start_time": "2024-05-20T05:19:10.486Z"
   },
   {
    "duration": 42,
    "start_time": "2024-05-20T05:19:10.526Z"
   },
   {
    "duration": 10,
    "start_time": "2024-05-20T05:19:10.571Z"
   },
   {
    "duration": 20,
    "start_time": "2024-05-20T05:19:10.583Z"
   },
   {
    "duration": 64,
    "start_time": "2024-05-20T05:19:10.604Z"
   },
   {
    "duration": 425,
    "start_time": "2024-05-20T05:19:10.669Z"
   },
   {
    "duration": 69,
    "start_time": "2024-05-20T05:19:11.096Z"
   },
   {
    "duration": 26,
    "start_time": "2024-05-20T05:19:11.167Z"
   },
   {
    "duration": 36,
    "start_time": "2024-05-20T05:19:11.194Z"
   },
   {
    "duration": 189,
    "start_time": "2024-05-20T05:19:11.232Z"
   },
   {
    "duration": 99,
    "start_time": "2024-05-20T05:19:11.423Z"
   },
   {
    "duration": 9,
    "start_time": "2024-05-20T05:19:11.523Z"
   },
   {
    "duration": 30,
    "start_time": "2024-05-20T05:19:11.534Z"
   },
   {
    "duration": 19,
    "start_time": "2024-05-20T05:19:11.566Z"
   },
   {
    "duration": 62,
    "start_time": "2024-05-20T05:19:11.587Z"
   },
   {
    "duration": 29,
    "start_time": "2024-05-20T05:19:11.651Z"
   },
   {
    "duration": 95,
    "start_time": "2024-05-20T05:19:11.682Z"
   },
   {
    "duration": 11,
    "start_time": "2024-05-20T05:19:11.779Z"
   },
   {
    "duration": 12,
    "start_time": "2024-05-20T05:19:11.791Z"
   },
   {
    "duration": 157,
    "start_time": "2024-05-20T05:19:11.804Z"
   },
   {
    "duration": 141,
    "start_time": "2024-05-20T05:19:11.962Z"
   },
   {
    "duration": 165,
    "start_time": "2024-05-20T05:19:12.105Z"
   },
   {
    "duration": 209,
    "start_time": "2024-05-20T05:19:12.271Z"
   },
   {
    "duration": 161,
    "start_time": "2024-05-20T05:19:12.482Z"
   },
   {
    "duration": 160,
    "start_time": "2024-05-20T05:19:12.644Z"
   },
   {
    "duration": 211,
    "start_time": "2024-05-20T05:19:12.805Z"
   },
   {
    "duration": 1188,
    "start_time": "2024-05-20T15:09:03.300Z"
   },
   {
    "duration": 875,
    "start_time": "2024-05-20T15:09:04.490Z"
   },
   {
    "duration": 31,
    "start_time": "2024-05-20T15:09:05.367Z"
   },
   {
    "duration": 133,
    "start_time": "2024-05-20T15:09:05.399Z"
   },
   {
    "duration": 274,
    "start_time": "2024-05-20T15:09:05.534Z"
   },
   {
    "duration": 98,
    "start_time": "2024-05-20T15:09:05.809Z"
   },
   {
    "duration": 83,
    "start_time": "2024-05-20T15:09:05.908Z"
   },
   {
    "duration": 133,
    "start_time": "2024-05-20T15:09:05.992Z"
   },
   {
    "duration": 18,
    "start_time": "2024-05-20T15:09:06.126Z"
   },
   {
    "duration": 1053,
    "start_time": "2024-05-20T15:09:06.145Z"
   },
   {
    "duration": 4,
    "start_time": "2024-05-20T15:09:07.199Z"
   },
   {
    "duration": 51,
    "start_time": "2024-05-20T15:09:07.204Z"
   },
   {
    "duration": 26,
    "start_time": "2024-05-20T15:09:07.257Z"
   },
   {
    "duration": 23,
    "start_time": "2024-05-20T15:09:07.285Z"
   },
   {
    "duration": 67,
    "start_time": "2024-05-20T15:09:07.310Z"
   },
   {
    "duration": 44,
    "start_time": "2024-05-20T15:09:07.379Z"
   },
   {
    "duration": 414,
    "start_time": "2024-05-20T15:09:07.424Z"
   },
   {
    "duration": 66,
    "start_time": "2024-05-20T15:09:07.840Z"
   },
   {
    "duration": 29,
    "start_time": "2024-05-20T15:09:07.908Z"
   },
   {
    "duration": 43,
    "start_time": "2024-05-20T15:09:07.939Z"
   },
   {
    "duration": 184,
    "start_time": "2024-05-20T15:09:07.993Z"
   },
   {
    "duration": 83,
    "start_time": "2024-05-20T15:09:08.179Z"
   },
   {
    "duration": 112,
    "start_time": "2024-05-20T15:09:08.264Z"
   },
   {
    "duration": 46,
    "start_time": "2024-05-20T15:09:08.378Z"
   },
   {
    "duration": 36,
    "start_time": "2024-05-20T15:09:08.425Z"
   },
   {
    "duration": 164,
    "start_time": "2024-05-20T15:09:08.462Z"
   },
   {
    "duration": 103,
    "start_time": "2024-05-20T15:09:08.628Z"
   },
   {
    "duration": 137,
    "start_time": "2024-05-20T15:09:08.732Z"
   },
   {
    "duration": 57,
    "start_time": "2024-05-20T15:09:08.871Z"
   },
   {
    "duration": 98,
    "start_time": "2024-05-20T15:09:08.930Z"
   },
   {
    "duration": 305,
    "start_time": "2024-05-20T15:09:09.031Z"
   },
   {
    "duration": 135,
    "start_time": "2024-05-20T15:09:09.337Z"
   },
   {
    "duration": 137,
    "start_time": "2024-05-20T15:09:09.473Z"
   },
   {
    "duration": 208,
    "start_time": "2024-05-20T15:09:09.611Z"
   },
   {
    "duration": 140,
    "start_time": "2024-05-20T15:09:09.820Z"
   },
   {
    "duration": 139,
    "start_time": "2024-05-20T15:09:09.962Z"
   },
   {
    "duration": 201,
    "start_time": "2024-05-20T15:09:10.103Z"
   },
   {
    "duration": 1085,
    "start_time": "2024-05-20T15:26:04.781Z"
   },
   {
    "duration": 235,
    "start_time": "2024-05-20T15:26:05.868Z"
   },
   {
    "duration": 35,
    "start_time": "2024-05-20T15:26:06.106Z"
   },
   {
    "duration": 9,
    "start_time": "2024-05-20T15:26:06.142Z"
   },
   {
    "duration": 68,
    "start_time": "2024-05-20T15:26:06.153Z"
   },
   {
    "duration": 15,
    "start_time": "2024-05-20T15:26:06.222Z"
   },
   {
    "duration": 213,
    "start_time": "2024-05-20T15:26:06.239Z"
   },
   {
    "duration": 527,
    "start_time": "2024-05-20T15:26:06.454Z"
   },
   {
    "duration": 136,
    "start_time": "2024-05-20T15:26:06.983Z"
   },
   {
    "duration": 1123,
    "start_time": "2024-05-20T15:26:07.120Z"
   },
   {
    "duration": 3,
    "start_time": "2024-05-20T15:26:08.245Z"
   },
   {
    "duration": 30,
    "start_time": "2024-05-20T15:26:08.250Z"
   },
   {
    "duration": 57,
    "start_time": "2024-05-20T15:26:08.282Z"
   },
   {
    "duration": 108,
    "start_time": "2024-05-20T15:26:08.342Z"
   },
   {
    "duration": 36,
    "start_time": "2024-05-20T15:26:08.451Z"
   },
   {
    "duration": 45,
    "start_time": "2024-05-20T15:26:08.489Z"
   },
   {
    "duration": 406,
    "start_time": "2024-05-20T15:26:08.535Z"
   },
   {
    "duration": 94,
    "start_time": "2024-05-20T15:26:08.943Z"
   },
   {
    "duration": 25,
    "start_time": "2024-05-20T15:26:09.039Z"
   },
   {
    "duration": 56,
    "start_time": "2024-05-20T15:26:09.065Z"
   },
   {
    "duration": 171,
    "start_time": "2024-05-20T15:26:09.123Z"
   },
   {
    "duration": 82,
    "start_time": "2024-05-20T15:26:09.296Z"
   },
   {
    "duration": 19,
    "start_time": "2024-05-20T15:26:09.380Z"
   },
   {
    "duration": 32,
    "start_time": "2024-05-20T15:26:09.401Z"
   },
   {
    "duration": 29,
    "start_time": "2024-05-20T15:26:09.435Z"
   },
   {
    "duration": 87,
    "start_time": "2024-05-20T15:26:09.465Z"
   },
   {
    "duration": 29,
    "start_time": "2024-05-20T15:26:09.554Z"
   },
   {
    "duration": 130,
    "start_time": "2024-05-20T15:26:09.585Z"
   },
   {
    "duration": 19,
    "start_time": "2024-05-20T15:26:09.717Z"
   },
   {
    "duration": 59,
    "start_time": "2024-05-20T15:26:09.738Z"
   },
   {
    "duration": 195,
    "start_time": "2024-05-20T15:26:09.799Z"
   },
   {
    "duration": 151,
    "start_time": "2024-05-20T15:26:09.995Z"
   },
   {
    "duration": 154,
    "start_time": "2024-05-20T15:26:10.148Z"
   },
   {
    "duration": 220,
    "start_time": "2024-05-20T15:26:10.304Z"
   },
   {
    "duration": 154,
    "start_time": "2024-05-20T15:26:10.527Z"
   },
   {
    "duration": 162,
    "start_time": "2024-05-20T15:26:10.683Z"
   },
   {
    "duration": 224,
    "start_time": "2024-05-20T15:26:10.847Z"
   },
   {
    "duration": 1301,
    "start_time": "2024-05-21T07:27:20.572Z"
   },
   {
    "duration": 913,
    "start_time": "2024-05-21T07:27:21.876Z"
   },
   {
    "duration": 32,
    "start_time": "2024-05-21T07:27:22.790Z"
   },
   {
    "duration": 8,
    "start_time": "2024-05-21T07:27:22.824Z"
   },
   {
    "duration": 52,
    "start_time": "2024-05-21T07:27:22.834Z"
   },
   {
    "duration": 18,
    "start_time": "2024-05-21T07:27:22.888Z"
   },
   {
    "duration": 108,
    "start_time": "2024-05-21T07:27:22.907Z"
   },
   {
    "duration": 163,
    "start_time": "2024-05-21T07:27:23.017Z"
   },
   {
    "duration": 20,
    "start_time": "2024-05-21T07:27:23.182Z"
   },
   {
    "duration": 1193,
    "start_time": "2024-05-21T07:27:23.204Z"
   },
   {
    "duration": 4,
    "start_time": "2024-05-21T07:27:24.399Z"
   },
   {
    "duration": 62,
    "start_time": "2024-05-21T07:27:24.405Z"
   },
   {
    "duration": 29,
    "start_time": "2024-05-21T07:27:24.469Z"
   },
   {
    "duration": 26,
    "start_time": "2024-05-21T07:27:24.501Z"
   },
   {
    "duration": 52,
    "start_time": "2024-05-21T07:27:24.528Z"
   },
   {
    "duration": 59,
    "start_time": "2024-05-21T07:27:24.582Z"
   },
   {
    "duration": 421,
    "start_time": "2024-05-21T07:27:24.643Z"
   },
   {
    "duration": 66,
    "start_time": "2024-05-21T07:27:25.066Z"
   },
   {
    "duration": 40,
    "start_time": "2024-05-21T07:27:25.134Z"
   },
   {
    "duration": 38,
    "start_time": "2024-05-21T07:27:25.176Z"
   },
   {
    "duration": 183,
    "start_time": "2024-05-21T07:27:25.216Z"
   },
   {
    "duration": 89,
    "start_time": "2024-05-21T07:27:25.400Z"
   },
   {
    "duration": 10,
    "start_time": "2024-05-21T07:27:25.490Z"
   },
   {
    "duration": 12,
    "start_time": "2024-05-21T07:27:25.501Z"
   },
   {
    "duration": 9,
    "start_time": "2024-05-21T07:27:25.515Z"
   },
   {
    "duration": 73,
    "start_time": "2024-05-21T07:27:25.526Z"
   },
   {
    "duration": 28,
    "start_time": "2024-05-21T07:27:25.601Z"
   },
   {
    "duration": 206,
    "start_time": "2024-05-21T07:27:25.631Z"
   },
   {
    "duration": 18,
    "start_time": "2024-05-21T07:27:25.839Z"
   },
   {
    "duration": 110,
    "start_time": "2024-05-21T07:27:25.859Z"
   },
   {
    "duration": 136,
    "start_time": "2024-05-21T07:27:25.971Z"
   },
   {
    "duration": 152,
    "start_time": "2024-05-21T07:27:26.109Z"
   },
   {
    "duration": 142,
    "start_time": "2024-05-21T07:27:26.263Z"
   },
   {
    "duration": 207,
    "start_time": "2024-05-21T07:27:26.407Z"
   },
   {
    "duration": 149,
    "start_time": "2024-05-21T07:27:26.615Z"
   },
   {
    "duration": 148,
    "start_time": "2024-05-21T07:27:26.765Z"
   },
   {
    "duration": 214,
    "start_time": "2024-05-21T07:27:26.915Z"
   },
   {
    "duration": 1105,
    "start_time": "2024-05-21T07:32:40.253Z"
   },
   {
    "duration": 248,
    "start_time": "2024-05-21T07:32:41.360Z"
   },
   {
    "duration": 31,
    "start_time": "2024-05-21T07:32:41.610Z"
   },
   {
    "duration": 130,
    "start_time": "2024-05-21T07:32:41.642Z"
   },
   {
    "duration": 40,
    "start_time": "2024-05-21T07:32:41.774Z"
   },
   {
    "duration": 18,
    "start_time": "2024-05-21T07:32:41.816Z"
   },
   {
    "duration": 221,
    "start_time": "2024-05-21T07:32:41.835Z"
   },
   {
    "duration": 127,
    "start_time": "2024-05-21T07:32:42.058Z"
   },
   {
    "duration": 20,
    "start_time": "2024-05-21T07:32:42.187Z"
   },
   {
    "duration": 1148,
    "start_time": "2024-05-21T07:32:42.210Z"
   },
   {
    "duration": 4,
    "start_time": "2024-05-21T07:32:43.359Z"
   },
   {
    "duration": 47,
    "start_time": "2024-05-21T07:32:43.372Z"
   },
   {
    "duration": 62,
    "start_time": "2024-05-21T07:32:43.421Z"
   },
   {
    "duration": 24,
    "start_time": "2024-05-21T07:32:43.485Z"
   },
   {
    "duration": 30,
    "start_time": "2024-05-21T07:32:43.511Z"
   },
   {
    "duration": 39,
    "start_time": "2024-05-21T07:32:43.543Z"
   },
   {
    "duration": 594,
    "start_time": "2024-05-21T07:32:43.584Z"
   },
   {
    "duration": 66,
    "start_time": "2024-05-21T07:32:44.180Z"
   },
   {
    "duration": 43,
    "start_time": "2024-05-21T07:32:44.247Z"
   },
   {
    "duration": 78,
    "start_time": "2024-05-21T07:32:44.292Z"
   },
   {
    "duration": 181,
    "start_time": "2024-05-21T07:32:44.372Z"
   },
   {
    "duration": 89,
    "start_time": "2024-05-21T07:32:44.555Z"
   },
   {
    "duration": 11,
    "start_time": "2024-05-21T07:32:44.646Z"
   },
   {
    "duration": 12,
    "start_time": "2024-05-21T07:32:44.673Z"
   },
   {
    "duration": 25,
    "start_time": "2024-05-21T07:32:44.687Z"
   },
   {
    "duration": 58,
    "start_time": "2024-05-21T07:32:44.714Z"
   },
   {
    "duration": 29,
    "start_time": "2024-05-21T07:32:44.774Z"
   },
   {
    "duration": 99,
    "start_time": "2024-05-21T07:32:44.808Z"
   },
   {
    "duration": 13,
    "start_time": "2024-05-21T07:32:44.909Z"
   },
   {
    "duration": 7,
    "start_time": "2024-05-21T07:32:44.923Z"
   },
   {
    "duration": 156,
    "start_time": "2024-05-21T07:32:44.932Z"
   },
   {
    "duration": 136,
    "start_time": "2024-05-21T07:32:45.090Z"
   },
   {
    "duration": 149,
    "start_time": "2024-05-21T07:32:45.227Z"
   },
   {
    "duration": 208,
    "start_time": "2024-05-21T07:32:45.377Z"
   },
   {
    "duration": 157,
    "start_time": "2024-05-21T07:32:45.587Z"
   },
   {
    "duration": 161,
    "start_time": "2024-05-21T07:32:45.746Z"
   },
   {
    "duration": 227,
    "start_time": "2024-05-21T07:32:45.908Z"
   },
   {
    "duration": 49,
    "start_time": "2024-05-29T18:59:59.628Z"
   }
  ],
  "kernelspec": {
   "display_name": "Python 3 (ipykernel)",
   "language": "python",
   "name": "python3"
  },
  "language_info": {
   "codemirror_mode": {
    "name": "ipython",
    "version": 3
   },
   "file_extension": ".py",
   "mimetype": "text/x-python",
   "name": "python",
   "nbconvert_exporter": "python",
   "pygments_lexer": "ipython3",
   "version": "3.11.5"
  },
  "toc": {
   "base_numbering": 1,
   "nav_menu": {
    "height": "152.309px",
    "width": "403.299px"
   },
   "number_sections": true,
   "sideBar": true,
   "skip_h1_title": true,
   "title_cell": "Table of Contents",
   "title_sidebar": "Contents",
   "toc_cell": false,
   "toc_position": {
    "height": "calc(100% - 180px)",
    "left": "10px",
    "top": "150px",
    "width": "291px"
   },
   "toc_section_display": true,
   "toc_window_display": true
  }
 },
 "nbformat": 4,
 "nbformat_minor": 2
}
