{
 "cells": [
  {
   "cell_type": "markdown",
   "metadata": {},
   "source": [
    "### Загрузка данных"
   ]
  },
  {
   "cell_type": "code",
   "execution_count": 1,
   "metadata": {},
   "outputs": [],
   "source": [
    "# импортируем библиотеки\n",
    "import pandas as pd\n",
    "from sqlalchemy import text, create_engine"
   ]
  },
  {
   "cell_type": "code",
   "execution_count": 2,
   "metadata": {},
   "outputs": [],
   "source": [
    "# устанавливаем параметры\n",
    "db_config = {'user': 'praktikum_student', # имя пользователя\n",
    "'pwd': 'Sdf4$2;d-d30pp', # пароль\n",
    "'host': 'rc1b-wcoijxj3yxfsf3fs.mdb.yandexcloud.net',\n",
    "'port': 6432, # порт подключения\n",
    "'db': 'data-analyst-final-project-db'} # название базы данных\n",
    "connection_string = 'postgresql://{user}:{pwd}@{host}:{port}/{db}'.format(**db_config)\n",
    "# сохраняем коннектор\n",
    "engine = create_engine(connection_string, connect_args={'sslmode':'require'})\n",
    "con=engine.connect()"
   ]
  },
  {
   "cell_type": "markdown",
   "metadata": {},
   "source": [
    "Исследуем таблицы — выведем первые строки."
   ]
  },
  {
   "cell_type": "code",
   "execution_count": 3,
   "metadata": {},
   "outputs": [
    {
     "name": "stdout",
     "output_type": "stream",
     "text": [
      "<class 'pandas.core.frame.DataFrame'>\n",
      "RangeIndex: 1000 entries, 0 to 999\n",
      "Data columns (total 6 columns):\n",
      " #   Column            Non-Null Count  Dtype \n",
      "---  ------            --------------  ----- \n",
      " 0   book_id           1000 non-null   int64 \n",
      " 1   author_id         1000 non-null   int64 \n",
      " 2   title             1000 non-null   object\n",
      " 3   num_pages         1000 non-null   int64 \n",
      " 4   publication_date  1000 non-null   object\n",
      " 5   publisher_id      1000 non-null   int64 \n",
      "dtypes: int64(4), object(2)\n",
      "memory usage: 47.0+ KB\n"
     ]
    },
    {
     "data": {
      "text/html": [
       "<div>\n",
       "<style scoped>\n",
       "    .dataframe tbody tr th:only-of-type {\n",
       "        vertical-align: middle;\n",
       "    }\n",
       "\n",
       "    .dataframe tbody tr th {\n",
       "        vertical-align: top;\n",
       "    }\n",
       "\n",
       "    .dataframe thead th {\n",
       "        text-align: right;\n",
       "    }\n",
       "</style>\n",
       "<table border=\"1\" class=\"dataframe\">\n",
       "  <thead>\n",
       "    <tr style=\"text-align: right;\">\n",
       "      <th></th>\n",
       "      <th>book_id</th>\n",
       "      <th>author_id</th>\n",
       "      <th>title</th>\n",
       "      <th>num_pages</th>\n",
       "      <th>publication_date</th>\n",
       "      <th>publisher_id</th>\n",
       "    </tr>\n",
       "  </thead>\n",
       "  <tbody>\n",
       "    <tr>\n",
       "      <th>0</th>\n",
       "      <td>1</td>\n",
       "      <td>546</td>\n",
       "      <td>'Salem's Lot</td>\n",
       "      <td>594</td>\n",
       "      <td>2005-11-01</td>\n",
       "      <td>93</td>\n",
       "    </tr>\n",
       "    <tr>\n",
       "      <th>1</th>\n",
       "      <td>2</td>\n",
       "      <td>465</td>\n",
       "      <td>1 000 Places to See Before You Die</td>\n",
       "      <td>992</td>\n",
       "      <td>2003-05-22</td>\n",
       "      <td>336</td>\n",
       "    </tr>\n",
       "    <tr>\n",
       "      <th>2</th>\n",
       "      <td>3</td>\n",
       "      <td>407</td>\n",
       "      <td>13 Little Blue Envelopes (Little Blue Envelope...</td>\n",
       "      <td>322</td>\n",
       "      <td>2010-12-21</td>\n",
       "      <td>135</td>\n",
       "    </tr>\n",
       "    <tr>\n",
       "      <th>3</th>\n",
       "      <td>4</td>\n",
       "      <td>82</td>\n",
       "      <td>1491: New Revelations of the Americas Before C...</td>\n",
       "      <td>541</td>\n",
       "      <td>2006-10-10</td>\n",
       "      <td>309</td>\n",
       "    </tr>\n",
       "    <tr>\n",
       "      <th>4</th>\n",
       "      <td>5</td>\n",
       "      <td>125</td>\n",
       "      <td>1776</td>\n",
       "      <td>386</td>\n",
       "      <td>2006-07-04</td>\n",
       "      <td>268</td>\n",
       "    </tr>\n",
       "  </tbody>\n",
       "</table>\n",
       "</div>"
      ],
      "text/plain": [
       "   book_id  author_id                                              title  \\\n",
       "0        1        546                                       'Salem's Lot   \n",
       "1        2        465                 1 000 Places to See Before You Die   \n",
       "2        3        407  13 Little Blue Envelopes (Little Blue Envelope...   \n",
       "3        4         82  1491: New Revelations of the Americas Before C...   \n",
       "4        5        125                                               1776   \n",
       "\n",
       "   num_pages publication_date  publisher_id  \n",
       "0        594       2005-11-01            93  \n",
       "1        992       2003-05-22           336  \n",
       "2        322       2010-12-21           135  \n",
       "3        541       2006-10-10           309  \n",
       "4        386       2006-07-04           268  "
      ]
     },
     "execution_count": 3,
     "metadata": {},
     "output_type": "execute_result"
    }
   ],
   "source": [
    "# чтобы выполнить SQL-запрос, используем Pandas\n",
    "query = '''SELECT * FROM books'''\n",
    "pd.io.sql.read_sql(sql=text(query), con = con).info()\n",
    "pd.io.sql.read_sql(sql=text(query), con = con).head()"
   ]
  },
  {
   "cell_type": "code",
   "execution_count": 4,
   "metadata": {},
   "outputs": [
    {
     "name": "stdout",
     "output_type": "stream",
     "text": [
      "<class 'pandas.core.frame.DataFrame'>\n",
      "RangeIndex: 636 entries, 0 to 635\n",
      "Data columns (total 2 columns):\n",
      " #   Column     Non-Null Count  Dtype \n",
      "---  ------     --------------  ----- \n",
      " 0   author_id  636 non-null    int64 \n",
      " 1   author     636 non-null    object\n",
      "dtypes: int64(1), object(1)\n",
      "memory usage: 10.1+ KB\n"
     ]
    },
    {
     "data": {
      "text/html": [
       "<div>\n",
       "<style scoped>\n",
       "    .dataframe tbody tr th:only-of-type {\n",
       "        vertical-align: middle;\n",
       "    }\n",
       "\n",
       "    .dataframe tbody tr th {\n",
       "        vertical-align: top;\n",
       "    }\n",
       "\n",
       "    .dataframe thead th {\n",
       "        text-align: right;\n",
       "    }\n",
       "</style>\n",
       "<table border=\"1\" class=\"dataframe\">\n",
       "  <thead>\n",
       "    <tr style=\"text-align: right;\">\n",
       "      <th></th>\n",
       "      <th>author_id</th>\n",
       "      <th>author</th>\n",
       "    </tr>\n",
       "  </thead>\n",
       "  <tbody>\n",
       "    <tr>\n",
       "      <th>0</th>\n",
       "      <td>1</td>\n",
       "      <td>A.S. Byatt</td>\n",
       "    </tr>\n",
       "    <tr>\n",
       "      <th>1</th>\n",
       "      <td>2</td>\n",
       "      <td>Aesop/Laura Harris/Laura Gibbs</td>\n",
       "    </tr>\n",
       "    <tr>\n",
       "      <th>2</th>\n",
       "      <td>3</td>\n",
       "      <td>Agatha Christie</td>\n",
       "    </tr>\n",
       "    <tr>\n",
       "      <th>3</th>\n",
       "      <td>4</td>\n",
       "      <td>Alan Brennert</td>\n",
       "    </tr>\n",
       "    <tr>\n",
       "      <th>4</th>\n",
       "      <td>5</td>\n",
       "      <td>Alan Moore/David   Lloyd</td>\n",
       "    </tr>\n",
       "  </tbody>\n",
       "</table>\n",
       "</div>"
      ],
      "text/plain": [
       "   author_id                          author\n",
       "0          1                      A.S. Byatt\n",
       "1          2  Aesop/Laura Harris/Laura Gibbs\n",
       "2          3                 Agatha Christie\n",
       "3          4                   Alan Brennert\n",
       "4          5        Alan Moore/David   Lloyd"
      ]
     },
     "execution_count": 4,
     "metadata": {},
     "output_type": "execute_result"
    }
   ],
   "source": [
    "query = '''SELECT * FROM authors'''\n",
    "pd.io.sql.read_sql(sql=text(query), con = con).info()\n",
    "pd.io.sql.read_sql(sql=text(query), con = con).head()"
   ]
  },
  {
   "cell_type": "code",
   "execution_count": 5,
   "metadata": {},
   "outputs": [
    {
     "name": "stdout",
     "output_type": "stream",
     "text": [
      "<class 'pandas.core.frame.DataFrame'>\n",
      "RangeIndex: 340 entries, 0 to 339\n",
      "Data columns (total 2 columns):\n",
      " #   Column        Non-Null Count  Dtype \n",
      "---  ------        --------------  ----- \n",
      " 0   publisher_id  340 non-null    int64 \n",
      " 1   publisher     340 non-null    object\n",
      "dtypes: int64(1), object(1)\n",
      "memory usage: 5.4+ KB\n"
     ]
    },
    {
     "data": {
      "text/html": [
       "<div>\n",
       "<style scoped>\n",
       "    .dataframe tbody tr th:only-of-type {\n",
       "        vertical-align: middle;\n",
       "    }\n",
       "\n",
       "    .dataframe tbody tr th {\n",
       "        vertical-align: top;\n",
       "    }\n",
       "\n",
       "    .dataframe thead th {\n",
       "        text-align: right;\n",
       "    }\n",
       "</style>\n",
       "<table border=\"1\" class=\"dataframe\">\n",
       "  <thead>\n",
       "    <tr style=\"text-align: right;\">\n",
       "      <th></th>\n",
       "      <th>publisher_id</th>\n",
       "      <th>publisher</th>\n",
       "    </tr>\n",
       "  </thead>\n",
       "  <tbody>\n",
       "    <tr>\n",
       "      <th>0</th>\n",
       "      <td>1</td>\n",
       "      <td>Ace</td>\n",
       "    </tr>\n",
       "    <tr>\n",
       "      <th>1</th>\n",
       "      <td>2</td>\n",
       "      <td>Ace Book</td>\n",
       "    </tr>\n",
       "    <tr>\n",
       "      <th>2</th>\n",
       "      <td>3</td>\n",
       "      <td>Ace Books</td>\n",
       "    </tr>\n",
       "    <tr>\n",
       "      <th>3</th>\n",
       "      <td>4</td>\n",
       "      <td>Ace Hardcover</td>\n",
       "    </tr>\n",
       "    <tr>\n",
       "      <th>4</th>\n",
       "      <td>5</td>\n",
       "      <td>Addison Wesley Publishing Company</td>\n",
       "    </tr>\n",
       "  </tbody>\n",
       "</table>\n",
       "</div>"
      ],
      "text/plain": [
       "   publisher_id                          publisher\n",
       "0             1                                Ace\n",
       "1             2                           Ace Book\n",
       "2             3                          Ace Books\n",
       "3             4                      Ace Hardcover\n",
       "4             5  Addison Wesley Publishing Company"
      ]
     },
     "execution_count": 5,
     "metadata": {},
     "output_type": "execute_result"
    }
   ],
   "source": [
    "query = '''SELECT * FROM publishers'''\n",
    "pd.io.sql.read_sql(sql=text(query), con = con).info()\n",
    "pd.io.sql.read_sql(sql=text(query), con = con).head()"
   ]
  },
  {
   "cell_type": "code",
   "execution_count": 6,
   "metadata": {},
   "outputs": [
    {
     "name": "stdout",
     "output_type": "stream",
     "text": [
      "<class 'pandas.core.frame.DataFrame'>\n",
      "RangeIndex: 6456 entries, 0 to 6455\n",
      "Data columns (total 4 columns):\n",
      " #   Column     Non-Null Count  Dtype \n",
      "---  ------     --------------  ----- \n",
      " 0   rating_id  6456 non-null   int64 \n",
      " 1   book_id    6456 non-null   int64 \n",
      " 2   username   6456 non-null   object\n",
      " 3   rating     6456 non-null   int64 \n",
      "dtypes: int64(3), object(1)\n",
      "memory usage: 201.9+ KB\n"
     ]
    },
    {
     "data": {
      "text/html": [
       "<div>\n",
       "<style scoped>\n",
       "    .dataframe tbody tr th:only-of-type {\n",
       "        vertical-align: middle;\n",
       "    }\n",
       "\n",
       "    .dataframe tbody tr th {\n",
       "        vertical-align: top;\n",
       "    }\n",
       "\n",
       "    .dataframe thead th {\n",
       "        text-align: right;\n",
       "    }\n",
       "</style>\n",
       "<table border=\"1\" class=\"dataframe\">\n",
       "  <thead>\n",
       "    <tr style=\"text-align: right;\">\n",
       "      <th></th>\n",
       "      <th>rating_id</th>\n",
       "      <th>book_id</th>\n",
       "      <th>username</th>\n",
       "      <th>rating</th>\n",
       "    </tr>\n",
       "  </thead>\n",
       "  <tbody>\n",
       "    <tr>\n",
       "      <th>0</th>\n",
       "      <td>1</td>\n",
       "      <td>1</td>\n",
       "      <td>ryanfranco</td>\n",
       "      <td>4</td>\n",
       "    </tr>\n",
       "    <tr>\n",
       "      <th>1</th>\n",
       "      <td>2</td>\n",
       "      <td>1</td>\n",
       "      <td>grantpatricia</td>\n",
       "      <td>2</td>\n",
       "    </tr>\n",
       "    <tr>\n",
       "      <th>2</th>\n",
       "      <td>3</td>\n",
       "      <td>1</td>\n",
       "      <td>brandtandrea</td>\n",
       "      <td>5</td>\n",
       "    </tr>\n",
       "    <tr>\n",
       "      <th>3</th>\n",
       "      <td>4</td>\n",
       "      <td>2</td>\n",
       "      <td>lorichen</td>\n",
       "      <td>3</td>\n",
       "    </tr>\n",
       "    <tr>\n",
       "      <th>4</th>\n",
       "      <td>5</td>\n",
       "      <td>2</td>\n",
       "      <td>mariokeller</td>\n",
       "      <td>2</td>\n",
       "    </tr>\n",
       "  </tbody>\n",
       "</table>\n",
       "</div>"
      ],
      "text/plain": [
       "   rating_id  book_id       username  rating\n",
       "0          1        1     ryanfranco       4\n",
       "1          2        1  grantpatricia       2\n",
       "2          3        1   brandtandrea       5\n",
       "3          4        2       lorichen       3\n",
       "4          5        2    mariokeller       2"
      ]
     },
     "execution_count": 6,
     "metadata": {},
     "output_type": "execute_result"
    }
   ],
   "source": [
    "query = '''SELECT * FROM ratings'''\n",
    "pd.io.sql.read_sql(sql=text(query), con = con).info()\n",
    "pd.io.sql.read_sql(sql=text(query), con = con).head()"
   ]
  },
  {
   "cell_type": "code",
   "execution_count": 7,
   "metadata": {},
   "outputs": [
    {
     "name": "stdout",
     "output_type": "stream",
     "text": [
      "<class 'pandas.core.frame.DataFrame'>\n",
      "RangeIndex: 2793 entries, 0 to 2792\n",
      "Data columns (total 4 columns):\n",
      " #   Column     Non-Null Count  Dtype \n",
      "---  ------     --------------  ----- \n",
      " 0   review_id  2793 non-null   int64 \n",
      " 1   book_id    2793 non-null   int64 \n",
      " 2   username   2793 non-null   object\n",
      " 3   text       2793 non-null   object\n",
      "dtypes: int64(2), object(2)\n",
      "memory usage: 87.4+ KB\n"
     ]
    },
    {
     "data": {
      "text/html": [
       "<div>\n",
       "<style scoped>\n",
       "    .dataframe tbody tr th:only-of-type {\n",
       "        vertical-align: middle;\n",
       "    }\n",
       "\n",
       "    .dataframe tbody tr th {\n",
       "        vertical-align: top;\n",
       "    }\n",
       "\n",
       "    .dataframe thead th {\n",
       "        text-align: right;\n",
       "    }\n",
       "</style>\n",
       "<table border=\"1\" class=\"dataframe\">\n",
       "  <thead>\n",
       "    <tr style=\"text-align: right;\">\n",
       "      <th></th>\n",
       "      <th>review_id</th>\n",
       "      <th>book_id</th>\n",
       "      <th>username</th>\n",
       "      <th>text</th>\n",
       "    </tr>\n",
       "  </thead>\n",
       "  <tbody>\n",
       "    <tr>\n",
       "      <th>0</th>\n",
       "      <td>1</td>\n",
       "      <td>1</td>\n",
       "      <td>brandtandrea</td>\n",
       "      <td>Mention society tell send professor analysis. ...</td>\n",
       "    </tr>\n",
       "    <tr>\n",
       "      <th>1</th>\n",
       "      <td>2</td>\n",
       "      <td>1</td>\n",
       "      <td>ryanfranco</td>\n",
       "      <td>Foot glass pretty audience hit themselves. Amo...</td>\n",
       "    </tr>\n",
       "    <tr>\n",
       "      <th>2</th>\n",
       "      <td>3</td>\n",
       "      <td>2</td>\n",
       "      <td>lorichen</td>\n",
       "      <td>Listen treat keep worry. Miss husband tax but ...</td>\n",
       "    </tr>\n",
       "    <tr>\n",
       "      <th>3</th>\n",
       "      <td>4</td>\n",
       "      <td>3</td>\n",
       "      <td>johnsonamanda</td>\n",
       "      <td>Finally month interesting blue could nature cu...</td>\n",
       "    </tr>\n",
       "    <tr>\n",
       "      <th>4</th>\n",
       "      <td>5</td>\n",
       "      <td>3</td>\n",
       "      <td>scotttamara</td>\n",
       "      <td>Nation purpose heavy give wait song will. List...</td>\n",
       "    </tr>\n",
       "  </tbody>\n",
       "</table>\n",
       "</div>"
      ],
      "text/plain": [
       "   review_id  book_id       username  \\\n",
       "0          1        1   brandtandrea   \n",
       "1          2        1     ryanfranco   \n",
       "2          3        2       lorichen   \n",
       "3          4        3  johnsonamanda   \n",
       "4          5        3    scotttamara   \n",
       "\n",
       "                                                text  \n",
       "0  Mention society tell send professor analysis. ...  \n",
       "1  Foot glass pretty audience hit themselves. Amo...  \n",
       "2  Listen treat keep worry. Miss husband tax but ...  \n",
       "3  Finally month interesting blue could nature cu...  \n",
       "4  Nation purpose heavy give wait song will. List...  "
      ]
     },
     "execution_count": 7,
     "metadata": {},
     "output_type": "execute_result"
    }
   ],
   "source": [
    "query = '''SELECT * FROM reviews'''\n",
    "pd.io.sql.read_sql(sql=text(query), con = con).info()\n",
    "pd.io.sql.read_sql(sql=text(query), con = con).head()"
   ]
  },
  {
   "cell_type": "markdown",
   "metadata": {},
   "source": [
    "**Вывод**\n",
    "\n",
    "По результатам изучения общей информации можно сделать следующие выводы: \n",
    "- База данных содержит информацию о 1000 книг.\n",
    "- Количество строк в столбцах не различается. Значит, в данных нет пропущенных значений. \n",
    "- Данные соответствуют описанию. При этом в таблице `books` присутствует некорректный тип данных в столбце `publication_date`."
   ]
  },
  {
   "cell_type": "markdown",
   "metadata": {},
   "source": [
    "### Задания\n",
    "#### Посчитайте, сколько книг вышло после 1 января 2000 года"
   ]
  },
  {
   "cell_type": "code",
   "execution_count": 8,
   "metadata": {},
   "outputs": [
    {
     "data": {
      "text/html": [
       "<div>\n",
       "<style scoped>\n",
       "    .dataframe tbody tr th:only-of-type {\n",
       "        vertical-align: middle;\n",
       "    }\n",
       "\n",
       "    .dataframe tbody tr th {\n",
       "        vertical-align: top;\n",
       "    }\n",
       "\n",
       "    .dataframe thead th {\n",
       "        text-align: right;\n",
       "    }\n",
       "</style>\n",
       "<table border=\"1\" class=\"dataframe\">\n",
       "  <thead>\n",
       "    <tr style=\"text-align: right;\">\n",
       "      <th></th>\n",
       "      <th>number_of_books</th>\n",
       "    </tr>\n",
       "  </thead>\n",
       "  <tbody>\n",
       "    <tr>\n",
       "      <th>0</th>\n",
       "      <td>819</td>\n",
       "    </tr>\n",
       "  </tbody>\n",
       "</table>\n",
       "</div>"
      ],
      "text/plain": [
       "   number_of_books\n",
       "0              819"
      ]
     },
     "execution_count": 8,
     "metadata": {},
     "output_type": "execute_result"
    }
   ],
   "source": [
    "query1 = '''\n",
    "SELECT COUNT(*) number_of_books\n",
    "FROM books\n",
    "WHERE publication_date::date > '2000-01-01';\n",
    "'''\n",
    "pd.io.sql.read_sql(sql=text(query1), con = con)"
   ]
  },
  {
   "cell_type": "markdown",
   "metadata": {},
   "source": [
    "После 1 января 2000 года вышло 819 книг."
   ]
  },
  {
   "cell_type": "markdown",
   "metadata": {},
   "source": [
    "#### Для каждой книги посчитайте количество обзоров и среднюю оценку"
   ]
  },
  {
   "cell_type": "code",
   "execution_count": 9,
   "metadata": {
    "scrolled": false
   },
   "outputs": [
    {
     "data": {
      "text/html": [
       "<div>\n",
       "<style scoped>\n",
       "    .dataframe tbody tr th:only-of-type {\n",
       "        vertical-align: middle;\n",
       "    }\n",
       "\n",
       "    .dataframe tbody tr th {\n",
       "        vertical-align: top;\n",
       "    }\n",
       "\n",
       "    .dataframe thead th {\n",
       "        text-align: right;\n",
       "    }\n",
       "</style>\n",
       "<table border=\"1\" class=\"dataframe\">\n",
       "  <thead>\n",
       "    <tr style=\"text-align: right;\">\n",
       "      <th></th>\n",
       "      <th>book_id</th>\n",
       "      <th>title</th>\n",
       "      <th>number_of_reviews</th>\n",
       "      <th>average_rating</th>\n",
       "    </tr>\n",
       "  </thead>\n",
       "  <tbody>\n",
       "    <tr>\n",
       "      <th>0</th>\n",
       "      <td>1</td>\n",
       "      <td>'Salem's Lot</td>\n",
       "      <td>2</td>\n",
       "      <td>3.666667</td>\n",
       "    </tr>\n",
       "    <tr>\n",
       "      <th>1</th>\n",
       "      <td>2</td>\n",
       "      <td>1 000 Places to See Before You Die</td>\n",
       "      <td>1</td>\n",
       "      <td>2.500000</td>\n",
       "    </tr>\n",
       "    <tr>\n",
       "      <th>2</th>\n",
       "      <td>3</td>\n",
       "      <td>13 Little Blue Envelopes (Little Blue Envelope...</td>\n",
       "      <td>3</td>\n",
       "      <td>4.666667</td>\n",
       "    </tr>\n",
       "    <tr>\n",
       "      <th>3</th>\n",
       "      <td>4</td>\n",
       "      <td>1491: New Revelations of the Americas Before C...</td>\n",
       "      <td>2</td>\n",
       "      <td>4.500000</td>\n",
       "    </tr>\n",
       "    <tr>\n",
       "      <th>4</th>\n",
       "      <td>5</td>\n",
       "      <td>1776</td>\n",
       "      <td>4</td>\n",
       "      <td>4.000000</td>\n",
       "    </tr>\n",
       "    <tr>\n",
       "      <th>...</th>\n",
       "      <td>...</td>\n",
       "      <td>...</td>\n",
       "      <td>...</td>\n",
       "      <td>...</td>\n",
       "    </tr>\n",
       "    <tr>\n",
       "      <th>995</th>\n",
       "      <td>996</td>\n",
       "      <td>Wyrd Sisters (Discworld  #6; Witches #2)</td>\n",
       "      <td>3</td>\n",
       "      <td>3.666667</td>\n",
       "    </tr>\n",
       "    <tr>\n",
       "      <th>996</th>\n",
       "      <td>997</td>\n",
       "      <td>Xenocide (Ender's Saga  #3)</td>\n",
       "      <td>3</td>\n",
       "      <td>3.400000</td>\n",
       "    </tr>\n",
       "    <tr>\n",
       "      <th>997</th>\n",
       "      <td>998</td>\n",
       "      <td>Year of Wonders</td>\n",
       "      <td>4</td>\n",
       "      <td>3.200000</td>\n",
       "    </tr>\n",
       "    <tr>\n",
       "      <th>998</th>\n",
       "      <td>999</td>\n",
       "      <td>You Suck (A Love Story  #2)</td>\n",
       "      <td>2</td>\n",
       "      <td>4.500000</td>\n",
       "    </tr>\n",
       "    <tr>\n",
       "      <th>999</th>\n",
       "      <td>1000</td>\n",
       "      <td>Zen and the Art of Motorcycle Maintenance: An ...</td>\n",
       "      <td>4</td>\n",
       "      <td>3.833333</td>\n",
       "    </tr>\n",
       "  </tbody>\n",
       "</table>\n",
       "<p>1000 rows × 4 columns</p>\n",
       "</div>"
      ],
      "text/plain": [
       "     book_id                                              title  \\\n",
       "0          1                                       'Salem's Lot   \n",
       "1          2                 1 000 Places to See Before You Die   \n",
       "2          3  13 Little Blue Envelopes (Little Blue Envelope...   \n",
       "3          4  1491: New Revelations of the Americas Before C...   \n",
       "4          5                                               1776   \n",
       "..       ...                                                ...   \n",
       "995      996           Wyrd Sisters (Discworld  #6; Witches #2)   \n",
       "996      997                        Xenocide (Ender's Saga  #3)   \n",
       "997      998                                    Year of Wonders   \n",
       "998      999                        You Suck (A Love Story  #2)   \n",
       "999     1000  Zen and the Art of Motorcycle Maintenance: An ...   \n",
       "\n",
       "     number_of_reviews  average_rating  \n",
       "0                    2        3.666667  \n",
       "1                    1        2.500000  \n",
       "2                    3        4.666667  \n",
       "3                    2        4.500000  \n",
       "4                    4        4.000000  \n",
       "..                 ...             ...  \n",
       "995                  3        3.666667  \n",
       "996                  3        3.400000  \n",
       "997                  4        3.200000  \n",
       "998                  2        4.500000  \n",
       "999                  4        3.833333  \n",
       "\n",
       "[1000 rows x 4 columns]"
      ]
     },
     "execution_count": 9,
     "metadata": {},
     "output_type": "execute_result"
    }
   ],
   "source": [
    "query2 = '''\n",
    "WITH review_data AS (SELECT b.book_id,\n",
    "    b.title,\n",
    "    COUNT(DISTINCT rev.review_id) number_of_reviews\n",
    "FROM books b\n",
    "LEFT JOIN reviews rev ON b.book_id = rev.book_id\n",
    "GROUP BY b.book_id)\n",
    "\n",
    "SELECT rd.book_id,\n",
    "    rd.title,\n",
    "    rd.number_of_reviews,\n",
    "    AVG(rat.rating) average_rating\n",
    "FROM review_data rd\n",
    "LEFT JOIN ratings rat ON rd.book_id = rat.book_id\n",
    "GROUP BY rd.book_id, rd.title, rd.number_of_reviews\n",
    "ORDER BY book_id;\n",
    "'''\n",
    "pd.io.sql.read_sql(sql=text(query2), con = con)"
   ]
  },
  {
   "cell_type": "markdown",
   "metadata": {},
   "source": [
    "Для каждой книги посчитали количество обзоров и среднюю оценку."
   ]
  },
  {
   "cell_type": "markdown",
   "metadata": {},
   "source": [
    "#### Определите издательство, которое выпустило наибольшее число книг толще 50 страниц — так вы исключите из анализа брошюры"
   ]
  },
  {
   "cell_type": "code",
   "execution_count": 10,
   "metadata": {},
   "outputs": [
    {
     "data": {
      "text/html": [
       "<div>\n",
       "<style scoped>\n",
       "    .dataframe tbody tr th:only-of-type {\n",
       "        vertical-align: middle;\n",
       "    }\n",
       "\n",
       "    .dataframe tbody tr th {\n",
       "        vertical-align: top;\n",
       "    }\n",
       "\n",
       "    .dataframe thead th {\n",
       "        text-align: right;\n",
       "    }\n",
       "</style>\n",
       "<table border=\"1\" class=\"dataframe\">\n",
       "  <thead>\n",
       "    <tr style=\"text-align: right;\">\n",
       "      <th></th>\n",
       "      <th>publisher_id</th>\n",
       "      <th>publisher</th>\n",
       "      <th>number_of_books</th>\n",
       "    </tr>\n",
       "  </thead>\n",
       "  <tbody>\n",
       "    <tr>\n",
       "      <th>0</th>\n",
       "      <td>212</td>\n",
       "      <td>Penguin Books</td>\n",
       "      <td>42</td>\n",
       "    </tr>\n",
       "  </tbody>\n",
       "</table>\n",
       "</div>"
      ],
      "text/plain": [
       "   publisher_id      publisher  number_of_books\n",
       "0           212  Penguin Books               42"
      ]
     },
     "execution_count": 10,
     "metadata": {},
     "output_type": "execute_result"
    }
   ],
   "source": [
    "query3 = '''\n",
    "WITH big_books AS (SELECT publisher_id,\n",
    "    COUNT(book_id) number_of_books\n",
    "FROM books\n",
    "WHERE num_pages > 50\n",
    "GROUP BY publisher_id)\n",
    "\n",
    "SELECT p.publisher_id,\n",
    "    p.publisher,\n",
    "    bb.number_of_books\n",
    "FROM big_books bb\n",
    "LEFT JOIN publishers p ON bb.publisher_id = p.publisher_id\n",
    "ORDER BY bb.number_of_books DESC\n",
    "LIMIT 1;\n",
    "'''\n",
    "pd.io.sql.read_sql(sql=text(query3), con = con)"
   ]
  },
  {
   "cell_type": "markdown",
   "metadata": {},
   "source": [
    "Издательство Penguin Books выпустило 42 книги – это наибольшее число книг толще 50 страниц."
   ]
  },
  {
   "cell_type": "markdown",
   "metadata": {},
   "source": [
    "#### Определите автора с самой высокой средней оценкой книг — учитывайте только книги с 50 и более оценками"
   ]
  },
  {
   "cell_type": "code",
   "execution_count": 11,
   "metadata": {},
   "outputs": [
    {
     "data": {
      "text/html": [
       "<div>\n",
       "<style scoped>\n",
       "    .dataframe tbody tr th:only-of-type {\n",
       "        vertical-align: middle;\n",
       "    }\n",
       "\n",
       "    .dataframe tbody tr th {\n",
       "        vertical-align: top;\n",
       "    }\n",
       "\n",
       "    .dataframe thead th {\n",
       "        text-align: right;\n",
       "    }\n",
       "</style>\n",
       "<table border=\"1\" class=\"dataframe\">\n",
       "  <thead>\n",
       "    <tr style=\"text-align: right;\">\n",
       "      <th></th>\n",
       "      <th>author_id</th>\n",
       "      <th>author</th>\n",
       "      <th>author_avg_rating</th>\n",
       "    </tr>\n",
       "  </thead>\n",
       "  <tbody>\n",
       "    <tr>\n",
       "      <th>0</th>\n",
       "      <td>236</td>\n",
       "      <td>J.K. Rowling/Mary GrandPré</td>\n",
       "      <td>4.283844</td>\n",
       "    </tr>\n",
       "  </tbody>\n",
       "</table>\n",
       "</div>"
      ],
      "text/plain": [
       "   author_id                      author  author_avg_rating\n",
       "0        236  J.K. Rowling/Mary GrandPré           4.283844"
      ]
     },
     "execution_count": 11,
     "metadata": {},
     "output_type": "execute_result"
    }
   ],
   "source": [
    "query4 = '''\n",
    "WITH book_avg_rating AS (SELECT book_id, \n",
    "    AVG(rating) avg_rating\n",
    "FROM ratings\n",
    "GROUP BY book_id\n",
    "HAVING COUNT(rating) >= 50)\n",
    "\n",
    "SELECT a.author_id,\n",
    "    a.author, \n",
    "    AVG(bar.avg_rating) author_avg_rating\n",
    "FROM books b\n",
    "JOIN authors a ON b.author_id = a.author_id\n",
    "JOIN book_avg_rating bar ON b.book_id = bar.book_id\n",
    "GROUP BY a.author_id, a.author\n",
    "ORDER BY author_avg_rating DESC\n",
    "LIMIT 1;\n",
    "'''\n",
    "pd.io.sql.read_sql(sql=text(query4), con = con)"
   ]
  },
  {
   "cell_type": "markdown",
   "metadata": {},
   "source": [
    "Если учитывать только книги с 50 и более оценками, то у J.K. Rowling самая высокая средняя оценка книг."
   ]
  },
  {
   "cell_type": "markdown",
   "metadata": {},
   "source": [
    "#### Посчитайте среднее количество обзоров от пользователей, которые поставили больше 48 оценок"
   ]
  },
  {
   "cell_type": "code",
   "execution_count": 12,
   "metadata": {},
   "outputs": [
    {
     "data": {
      "text/html": [
       "<div>\n",
       "<style scoped>\n",
       "    .dataframe tbody tr th:only-of-type {\n",
       "        vertical-align: middle;\n",
       "    }\n",
       "\n",
       "    .dataframe tbody tr th {\n",
       "        vertical-align: top;\n",
       "    }\n",
       "\n",
       "    .dataframe thead th {\n",
       "        text-align: right;\n",
       "    }\n",
       "</style>\n",
       "<table border=\"1\" class=\"dataframe\">\n",
       "  <thead>\n",
       "    <tr style=\"text-align: right;\">\n",
       "      <th></th>\n",
       "      <th>average_reviews</th>\n",
       "    </tr>\n",
       "  </thead>\n",
       "  <tbody>\n",
       "    <tr>\n",
       "      <th>0</th>\n",
       "      <td>24.0</td>\n",
       "    </tr>\n",
       "  </tbody>\n",
       "</table>\n",
       "</div>"
      ],
      "text/plain": [
       "   average_reviews\n",
       "0             24.0"
      ]
     },
     "execution_count": 12,
     "metadata": {},
     "output_type": "execute_result"
    }
   ],
   "source": [
    "query5 = '''\n",
    "WITH users_48_ratings AS (SELECT username\n",
    "FROM ratings\n",
    "GROUP BY username \n",
    "HAVING COUNT(rating_id) > 48),\n",
    "\n",
    "user_review_count AS (SELECT username, \n",
    "COUNT(*) AS review_count\n",
    "FROM reviews\n",
    "WHERE username IN (SELECT username FROM users_48_ratings)\n",
    "GROUP BY username)\n",
    "\n",
    "SELECT AVG(review_count) average_reviews \n",
    "FROM user_review_count;\n",
    "'''\n",
    "pd.io.sql.read_sql(sql=text(query5), con = con)"
   ]
  },
  {
   "cell_type": "markdown",
   "metadata": {},
   "source": [
    "У пользователей, которые поставили больше 48 оценок, в среднем 24 обзора."
   ]
  },
  {
   "cell_type": "markdown",
   "metadata": {},
   "source": [
    "### Общий вывод"
   ]
  },
  {
   "cell_type": "markdown",
   "metadata": {},
   "source": [
    "Был проведен анализ базы данных и получены следующие результаты:\n",
    "- после 1 января 2000 года вышло 819 книг;\n",
    "- для каждой книги были посчитаны количество обзоров и средняя оценка;\n",
    "- издательство Penguin Books выпустило 42 книги – это наибольшее число книг толще 50 страниц;\n",
    "- если учитывать только книги с 50 и более оценками, то у J.K. Rowling самая высокая средняя оценка книг;\n",
    "- у пользователей, которые поставили больше 48 оценок, в среднем 24 обзора.\n",
    "\n",
    "Чтобы стимулировать приобретать подписку на сервис, в ценностном предложении рекомендуем упомянуть о том, что в сервисе представлена большая подборка книг издательства Penguin Books, а также книги J.K. Rowling, у которой самая высокая средняя оценка книг. Также необходимо привлекать пользователей к написанию обзоров на книги, так как количество обзоров уступает количеству оценок."
   ]
  }
 ],
 "metadata": {
  "ExecuteTimeLog": [
   {
    "duration": 7602,
    "start_time": "2024-07-10T11:29:28.798Z"
   },
   {
    "duration": 8825,
    "start_time": "2024-07-10T11:58:35.413Z"
   },
   {
    "duration": 3,
    "start_time": "2024-07-10T11:59:47.831Z"
   },
   {
    "duration": 30,
    "start_time": "2024-07-10T11:59:58.741Z"
   },
   {
    "duration": 30,
    "start_time": "2024-07-10T12:00:30.086Z"
   },
   {
    "duration": 197,
    "start_time": "2024-07-10T12:39:19.015Z"
   },
   {
    "duration": 44,
    "start_time": "2024-07-10T12:39:37.809Z"
   },
   {
    "duration": 9142,
    "start_time": "2024-07-10T12:39:43.006Z"
   },
   {
    "duration": 50,
    "start_time": "2024-07-10T12:39:52.150Z"
   },
   {
    "duration": 29,
    "start_time": "2024-07-10T12:39:52.202Z"
   },
   {
    "duration": 30,
    "start_time": "2024-07-10T12:39:52.232Z"
   },
   {
    "duration": 29,
    "start_time": "2024-07-10T12:39:52.265Z"
   },
   {
    "duration": 31,
    "start_time": "2024-07-10T12:40:02.298Z"
   },
   {
    "duration": 32,
    "start_time": "2024-07-10T12:40:24.658Z"
   },
   {
    "duration": 108,
    "start_time": "2024-07-10T13:01:44.944Z"
   },
   {
    "duration": 41,
    "start_time": "2024-07-10T13:02:15.513Z"
   },
   {
    "duration": 29,
    "start_time": "2024-07-10T13:02:37.239Z"
   },
   {
    "duration": 61,
    "start_time": "2024-07-10T14:00:42.864Z"
   },
   {
    "duration": 59,
    "start_time": "2024-07-10T14:00:56.680Z"
   },
   {
    "duration": 60,
    "start_time": "2024-07-10T14:01:10.383Z"
   },
   {
    "duration": 29,
    "start_time": "2024-07-10T14:04:08.465Z"
   },
   {
    "duration": 29,
    "start_time": "2024-07-10T14:04:18.294Z"
   },
   {
    "duration": 28,
    "start_time": "2024-07-10T14:04:52.871Z"
   },
   {
    "duration": 58,
    "start_time": "2024-07-10T14:05:14.826Z"
   },
   {
    "duration": 59,
    "start_time": "2024-07-10T14:05:36.890Z"
   },
   {
    "duration": 60,
    "start_time": "2024-07-10T14:05:45.011Z"
   },
   {
    "duration": 60,
    "start_time": "2024-07-10T14:05:49.281Z"
   },
   {
    "duration": 59,
    "start_time": "2024-07-10T14:05:55.373Z"
   },
   {
    "duration": 126,
    "start_time": "2024-07-10T14:08:15.697Z"
   },
   {
    "duration": 132,
    "start_time": "2024-07-10T14:08:34.914Z"
   },
   {
    "duration": 61,
    "start_time": "2024-07-10T14:08:43.419Z"
   },
   {
    "duration": 96,
    "start_time": "2024-07-10T14:08:55.690Z"
   },
   {
    "duration": 74,
    "start_time": "2024-07-10T14:09:00.954Z"
   },
   {
    "duration": 93,
    "start_time": "2024-07-10T14:09:11.170Z"
   },
   {
    "duration": 7874,
    "start_time": "2024-07-10T14:10:00.006Z"
   },
   {
    "duration": 122,
    "start_time": "2024-07-10T14:10:07.882Z"
   },
   {
    "duration": 63,
    "start_time": "2024-07-10T14:10:08.006Z"
   },
   {
    "duration": 61,
    "start_time": "2024-07-10T14:10:08.070Z"
   },
   {
    "duration": 98,
    "start_time": "2024-07-10T14:10:08.133Z"
   },
   {
    "duration": 73,
    "start_time": "2024-07-10T14:10:08.232Z"
   },
   {
    "duration": 30,
    "start_time": "2024-07-10T14:10:08.306Z"
   },
   {
    "duration": 111,
    "start_time": "2024-07-10T14:10:08.337Z"
   },
   {
    "duration": 0,
    "start_time": "2024-07-10T14:10:08.449Z"
   },
   {
    "duration": 0,
    "start_time": "2024-07-10T14:10:08.450Z"
   },
   {
    "duration": 0,
    "start_time": "2024-07-10T14:10:08.451Z"
   },
   {
    "duration": 7475,
    "start_time": "2024-07-10T15:12:24.793Z"
   },
   {
    "duration": 118,
    "start_time": "2024-07-10T15:12:32.270Z"
   },
   {
    "duration": 69,
    "start_time": "2024-07-10T15:12:32.389Z"
   },
   {
    "duration": 66,
    "start_time": "2024-07-10T15:12:32.460Z"
   },
   {
    "duration": 94,
    "start_time": "2024-07-10T15:12:32.527Z"
   },
   {
    "duration": 71,
    "start_time": "2024-07-10T15:12:32.623Z"
   },
   {
    "duration": 29,
    "start_time": "2024-07-10T15:12:32.696Z"
   },
   {
    "duration": 108,
    "start_time": "2024-07-10T15:12:32.726Z"
   },
   {
    "duration": 0,
    "start_time": "2024-07-10T15:12:32.836Z"
   },
   {
    "duration": 0,
    "start_time": "2024-07-10T15:12:32.837Z"
   },
   {
    "duration": 0,
    "start_time": "2024-07-10T15:12:32.838Z"
   },
   {
    "duration": 61,
    "start_time": "2024-07-10T15:12:45.070Z"
   },
   {
    "duration": 62,
    "start_time": "2024-07-10T15:14:59.664Z"
   },
   {
    "duration": 59,
    "start_time": "2024-07-10T15:15:26.249Z"
   },
   {
    "duration": 78,
    "start_time": "2024-07-10T15:15:40.929Z"
   },
   {
    "duration": 69,
    "start_time": "2024-07-10T15:16:55.765Z"
   },
   {
    "duration": 68,
    "start_time": "2024-07-10T15:17:45.456Z"
   },
   {
    "duration": 69,
    "start_time": "2024-07-10T15:18:23.305Z"
   },
   {
    "duration": 63,
    "start_time": "2024-07-10T15:18:49.809Z"
   },
   {
    "duration": 64,
    "start_time": "2024-07-10T15:19:45.875Z"
   },
   {
    "duration": 67,
    "start_time": "2024-07-10T15:21:24.767Z"
   },
   {
    "duration": 109,
    "start_time": "2024-07-10T15:21:40.519Z"
   },
   {
    "duration": 73,
    "start_time": "2024-07-10T15:28:24.015Z"
   },
   {
    "duration": 74,
    "start_time": "2024-07-10T15:29:01.072Z"
   },
   {
    "duration": 63,
    "start_time": "2024-07-10T15:32:05.964Z"
   },
   {
    "duration": 60,
    "start_time": "2024-07-10T15:44:27.998Z"
   },
   {
    "duration": 8144,
    "start_time": "2024-07-10T16:00:29.465Z"
   },
   {
    "duration": 117,
    "start_time": "2024-07-10T16:00:37.611Z"
   },
   {
    "duration": 69,
    "start_time": "2024-07-10T16:00:37.731Z"
   },
   {
    "duration": 62,
    "start_time": "2024-07-10T16:00:37.802Z"
   },
   {
    "duration": 98,
    "start_time": "2024-07-10T16:00:37.866Z"
   },
   {
    "duration": 74,
    "start_time": "2024-07-10T16:00:37.966Z"
   },
   {
    "duration": 29,
    "start_time": "2024-07-10T16:00:38.042Z"
   },
   {
    "duration": 107,
    "start_time": "2024-07-10T16:00:38.073Z"
   },
   {
    "duration": 0,
    "start_time": "2024-07-10T16:00:38.182Z"
   },
   {
    "duration": 0,
    "start_time": "2024-07-10T16:00:38.183Z"
   },
   {
    "duration": 0,
    "start_time": "2024-07-10T16:00:38.184Z"
   },
   {
    "duration": 60,
    "start_time": "2024-07-10T16:01:09.446Z"
   },
   {
    "duration": 77,
    "start_time": "2024-07-10T16:01:53.529Z"
   },
   {
    "duration": 49,
    "start_time": "2024-07-10T16:02:02.535Z"
   },
   {
    "duration": 76,
    "start_time": "2024-07-10T16:02:13.721Z"
   },
   {
    "duration": 50,
    "start_time": "2024-07-10T16:08:16.994Z"
   },
   {
    "duration": 76,
    "start_time": "2024-07-10T16:09:08.599Z"
   },
   {
    "duration": 62,
    "start_time": "2024-07-10T16:09:38.470Z"
   },
   {
    "duration": 65,
    "start_time": "2024-07-10T16:10:58.412Z"
   },
   {
    "duration": 51,
    "start_time": "2024-07-10T16:14:17.584Z"
   },
   {
    "duration": 82,
    "start_time": "2024-07-10T16:14:37.940Z"
   },
   {
    "duration": 65,
    "start_time": "2024-07-10T16:15:01.420Z"
   },
   {
    "duration": 49,
    "start_time": "2024-07-10T16:22:22.332Z"
   },
   {
    "duration": 6662,
    "start_time": "2024-07-10T17:52:07.541Z"
   },
   {
    "duration": 31,
    "start_time": "2024-07-10T17:52:14.205Z"
   },
   {
    "duration": 18,
    "start_time": "2024-07-10T17:52:14.237Z"
   },
   {
    "duration": 16,
    "start_time": "2024-07-10T17:52:14.256Z"
   },
   {
    "duration": 42,
    "start_time": "2024-07-10T17:52:14.274Z"
   },
   {
    "duration": 29,
    "start_time": "2024-07-10T17:52:14.318Z"
   },
   {
    "duration": 8,
    "start_time": "2024-07-10T17:52:14.348Z"
   },
   {
    "duration": 49,
    "start_time": "2024-07-10T17:52:14.357Z"
   },
   {
    "duration": 76,
    "start_time": "2024-07-10T17:52:14.408Z"
   },
   {
    "duration": 0,
    "start_time": "2024-07-10T17:52:14.485Z"
   },
   {
    "duration": 0,
    "start_time": "2024-07-10T17:52:14.486Z"
   },
   {
    "duration": 10,
    "start_time": "2024-07-10T17:52:43.664Z"
   },
   {
    "duration": 19,
    "start_time": "2024-07-10T17:53:38.406Z"
   },
   {
    "duration": 12,
    "start_time": "2024-07-10T17:54:01.297Z"
   },
   {
    "duration": 9,
    "start_time": "2024-07-10T17:56:36.292Z"
   },
   {
    "duration": 18,
    "start_time": "2024-07-10T17:58:19.735Z"
   },
   {
    "duration": 23,
    "start_time": "2024-07-10T17:59:32.962Z"
   },
   {
    "duration": 9,
    "start_time": "2024-07-10T18:00:18.585Z"
   },
   {
    "duration": 23,
    "start_time": "2024-07-10T18:18:46.839Z"
   },
   {
    "duration": 22,
    "start_time": "2024-07-10T18:18:58.706Z"
   },
   {
    "duration": 12,
    "start_time": "2024-07-10T18:34:23.297Z"
   },
   {
    "duration": 12,
    "start_time": "2024-07-10T18:34:58.010Z"
   },
   {
    "duration": 9,
    "start_time": "2024-07-10T18:37:19.683Z"
   },
   {
    "duration": 15,
    "start_time": "2024-07-10T18:38:07.669Z"
   },
   {
    "duration": 12,
    "start_time": "2024-07-10T18:47:19.546Z"
   },
   {
    "duration": 12,
    "start_time": "2024-07-10T18:47:26.708Z"
   },
   {
    "duration": 17,
    "start_time": "2024-07-10T18:48:22.149Z"
   },
   {
    "duration": 19,
    "start_time": "2024-07-10T18:48:40.912Z"
   },
   {
    "duration": 12,
    "start_time": "2024-07-10T18:52:04.212Z"
   },
   {
    "duration": 15,
    "start_time": "2024-07-10T19:02:26.168Z"
   },
   {
    "duration": 15,
    "start_time": "2024-07-10T19:03:09.327Z"
   },
   {
    "duration": 17,
    "start_time": "2024-07-10T19:04:22.771Z"
   },
   {
    "duration": 14,
    "start_time": "2024-07-10T19:06:52.413Z"
   },
   {
    "duration": 9,
    "start_time": "2024-07-10T19:13:53.701Z"
   },
   {
    "duration": 14,
    "start_time": "2024-07-10T19:15:51.798Z"
   },
   {
    "duration": 17,
    "start_time": "2024-07-10T19:17:41.258Z"
   },
   {
    "duration": 11,
    "start_time": "2024-07-10T19:18:46.676Z"
   },
   {
    "duration": 15,
    "start_time": "2024-07-10T19:19:33.485Z"
   },
   {
    "duration": 16,
    "start_time": "2024-07-10T19:19:51.149Z"
   },
   {
    "duration": 17,
    "start_time": "2024-07-10T19:20:11.456Z"
   },
   {
    "duration": 16,
    "start_time": "2024-07-10T19:20:31.272Z"
   },
   {
    "duration": 26,
    "start_time": "2024-07-10T19:20:53.206Z"
   },
   {
    "duration": 18,
    "start_time": "2024-07-10T19:21:43.791Z"
   },
   {
    "duration": 19,
    "start_time": "2024-07-10T19:22:09.531Z"
   },
   {
    "duration": 17,
    "start_time": "2024-07-10T19:22:32.964Z"
   },
   {
    "duration": 18,
    "start_time": "2024-07-10T19:24:53.099Z"
   },
   {
    "duration": 18,
    "start_time": "2024-07-10T19:25:11.861Z"
   },
   {
    "duration": 17,
    "start_time": "2024-07-10T19:27:21.236Z"
   },
   {
    "duration": 13,
    "start_time": "2024-07-10T19:27:57.488Z"
   },
   {
    "duration": 18,
    "start_time": "2024-07-10T19:28:24.821Z"
   },
   {
    "duration": 17,
    "start_time": "2024-07-10T19:29:04.524Z"
   },
   {
    "duration": 18,
    "start_time": "2024-07-10T19:29:23.602Z"
   },
   {
    "duration": 18,
    "start_time": "2024-07-10T19:29:53.875Z"
   },
   {
    "duration": 18,
    "start_time": "2024-07-10T19:30:10.662Z"
   },
   {
    "duration": 12,
    "start_time": "2024-07-10T19:30:27.966Z"
   },
   {
    "duration": 13,
    "start_time": "2024-07-10T19:38:26.260Z"
   },
   {
    "duration": 13,
    "start_time": "2024-07-10T19:38:41.657Z"
   },
   {
    "duration": 18,
    "start_time": "2024-07-10T19:40:57.465Z"
   },
   {
    "duration": 19,
    "start_time": "2024-07-10T19:41:17.752Z"
   },
   {
    "duration": 14,
    "start_time": "2024-07-10T19:41:29.768Z"
   },
   {
    "duration": 17,
    "start_time": "2024-07-10T19:48:53.654Z"
   },
   {
    "duration": 18,
    "start_time": "2024-07-10T19:49:36.106Z"
   },
   {
    "duration": 18,
    "start_time": "2024-07-10T19:49:55.149Z"
   },
   {
    "duration": 17,
    "start_time": "2024-07-10T19:50:10.814Z"
   },
   {
    "duration": 17,
    "start_time": "2024-07-10T19:50:18.702Z"
   },
   {
    "duration": 26,
    "start_time": "2024-07-10T19:53:40.048Z"
   },
   {
    "duration": 15,
    "start_time": "2024-07-10T19:54:07.036Z"
   },
   {
    "duration": 17,
    "start_time": "2024-07-10T19:59:33.716Z"
   },
   {
    "duration": 14,
    "start_time": "2024-07-10T20:00:11.580Z"
   },
   {
    "duration": 18,
    "start_time": "2024-07-10T20:04:34.429Z"
   },
   {
    "duration": 55,
    "start_time": "2024-07-10T20:04:46.822Z"
   },
   {
    "duration": 18,
    "start_time": "2024-07-10T20:04:57.638Z"
   },
   {
    "duration": 18,
    "start_time": "2024-07-10T20:05:12.704Z"
   },
   {
    "duration": 16,
    "start_time": "2024-07-10T20:05:25.511Z"
   },
   {
    "duration": 19,
    "start_time": "2024-07-10T20:05:49.899Z"
   },
   {
    "duration": 13,
    "start_time": "2024-07-10T20:06:10.640Z"
   },
   {
    "duration": 14,
    "start_time": "2024-07-10T20:06:31.426Z"
   },
   {
    "duration": 18,
    "start_time": "2024-07-10T20:10:03.121Z"
   },
   {
    "duration": 15,
    "start_time": "2024-07-10T20:10:25.821Z"
   },
   {
    "duration": 13,
    "start_time": "2024-07-10T20:11:59.857Z"
   },
   {
    "duration": 15,
    "start_time": "2024-07-10T20:13:13.442Z"
   },
   {
    "duration": 15,
    "start_time": "2024-07-10T20:13:30.385Z"
   },
   {
    "duration": 13,
    "start_time": "2024-07-10T20:13:51.988Z"
   },
   {
    "duration": 15,
    "start_time": "2024-07-10T20:14:34.418Z"
   },
   {
    "duration": 14,
    "start_time": "2024-07-10T20:14:50.397Z"
   },
   {
    "duration": 11,
    "start_time": "2024-07-10T20:20:11.502Z"
   },
   {
    "duration": 19,
    "start_time": "2024-07-10T20:24:39.903Z"
   },
   {
    "duration": 12,
    "start_time": "2024-07-10T20:25:18.622Z"
   },
   {
    "duration": 11,
    "start_time": "2024-07-10T20:25:40.966Z"
   },
   {
    "duration": 12,
    "start_time": "2024-07-10T20:26:11.684Z"
   },
   {
    "duration": 11,
    "start_time": "2024-07-10T20:26:22.442Z"
   },
   {
    "duration": 18,
    "start_time": "2024-07-10T20:27:39.939Z"
   },
   {
    "duration": 12,
    "start_time": "2024-07-10T20:29:55.882Z"
   },
   {
    "duration": 18,
    "start_time": "2024-07-10T20:31:33.136Z"
   },
   {
    "duration": 23,
    "start_time": "2024-07-10T20:31:38.197Z"
   },
   {
    "duration": 11,
    "start_time": "2024-07-10T20:31:43.155Z"
   },
   {
    "duration": 11,
    "start_time": "2024-07-10T20:31:52.179Z"
   },
   {
    "duration": 18,
    "start_time": "2024-07-10T20:32:04.829Z"
   },
   {
    "duration": 12,
    "start_time": "2024-07-10T20:32:17.238Z"
   },
   {
    "duration": 18,
    "start_time": "2024-07-10T20:37:04.513Z"
   },
   {
    "duration": 17,
    "start_time": "2024-07-10T20:37:50.483Z"
   },
   {
    "duration": 18,
    "start_time": "2024-07-10T20:38:06.115Z"
   },
   {
    "duration": 19,
    "start_time": "2024-07-10T20:41:01.344Z"
   },
   {
    "duration": 10,
    "start_time": "2024-07-10T20:41:04.602Z"
   },
   {
    "duration": 17,
    "start_time": "2024-07-10T20:43:11.545Z"
   },
   {
    "duration": 11,
    "start_time": "2024-07-10T20:43:19.000Z"
   },
   {
    "duration": 25,
    "start_time": "2024-07-10T20:48:50.215Z"
   },
   {
    "duration": 10,
    "start_time": "2024-07-10T20:51:24.594Z"
   },
   {
    "duration": 17,
    "start_time": "2024-07-10T20:52:10.539Z"
   },
   {
    "duration": 17,
    "start_time": "2024-07-10T20:53:53.901Z"
   },
   {
    "duration": 38,
    "start_time": "2024-07-10T20:54:00.447Z"
   },
   {
    "duration": 37,
    "start_time": "2024-07-10T20:54:20.791Z"
   },
   {
    "duration": 34,
    "start_time": "2024-07-10T20:56:13.444Z"
   },
   {
    "duration": 10,
    "start_time": "2024-07-10T20:57:25.302Z"
   },
   {
    "duration": 18,
    "start_time": "2024-07-10T20:59:45.965Z"
   },
   {
    "duration": 18,
    "start_time": "2024-07-10T21:04:37.282Z"
   },
   {
    "duration": 18,
    "start_time": "2024-07-10T21:04:46.625Z"
   },
   {
    "duration": 17,
    "start_time": "2024-07-10T21:05:56.790Z"
   },
   {
    "duration": 18,
    "start_time": "2024-07-10T21:09:36.172Z"
   },
   {
    "duration": 18,
    "start_time": "2024-07-10T21:09:53.754Z"
   },
   {
    "duration": 11,
    "start_time": "2024-07-10T21:10:13.533Z"
   },
   {
    "duration": 11,
    "start_time": "2024-07-10T21:10:20.243Z"
   },
   {
    "duration": 10,
    "start_time": "2024-07-10T21:11:17.614Z"
   },
   {
    "duration": 11,
    "start_time": "2024-07-10T21:13:43.974Z"
   },
   {
    "duration": 10,
    "start_time": "2024-07-10T21:14:34.015Z"
   },
   {
    "duration": 6554,
    "start_time": "2024-07-10T21:16:32.646Z"
   },
   {
    "duration": 31,
    "start_time": "2024-07-10T21:16:39.202Z"
   },
   {
    "duration": 19,
    "start_time": "2024-07-10T21:16:39.234Z"
   },
   {
    "duration": 16,
    "start_time": "2024-07-10T21:16:39.254Z"
   },
   {
    "duration": 41,
    "start_time": "2024-07-10T21:16:39.272Z"
   },
   {
    "duration": 29,
    "start_time": "2024-07-10T21:16:39.314Z"
   },
   {
    "duration": 7,
    "start_time": "2024-07-10T21:16:39.345Z"
   },
   {
    "duration": 32,
    "start_time": "2024-07-10T21:16:39.353Z"
   },
   {
    "duration": 9,
    "start_time": "2024-07-10T21:16:39.387Z"
   },
   {
    "duration": 10,
    "start_time": "2024-07-10T21:16:39.398Z"
   },
   {
    "duration": 9,
    "start_time": "2024-07-10T21:16:39.410Z"
   },
   {
    "duration": 5911,
    "start_time": "2024-07-11T17:12:12.772Z"
   },
   {
    "duration": 36,
    "start_time": "2024-07-11T17:12:18.685Z"
   },
   {
    "duration": 21,
    "start_time": "2024-07-11T17:12:18.722Z"
   },
   {
    "duration": 22,
    "start_time": "2024-07-11T17:12:18.746Z"
   },
   {
    "duration": 67,
    "start_time": "2024-07-11T17:12:18.769Z"
   },
   {
    "duration": 32,
    "start_time": "2024-07-11T17:12:18.837Z"
   },
   {
    "duration": 8,
    "start_time": "2024-07-11T17:12:18.870Z"
   },
   {
    "duration": 51,
    "start_time": "2024-07-11T17:12:18.880Z"
   },
   {
    "duration": 9,
    "start_time": "2024-07-11T17:12:18.932Z"
   },
   {
    "duration": 12,
    "start_time": "2024-07-11T17:12:18.944Z"
   },
   {
    "duration": 10,
    "start_time": "2024-07-11T17:12:18.958Z"
   },
   {
    "duration": 483,
    "start_time": "2024-07-11T18:19:19.942Z"
   },
   {
    "duration": 5778,
    "start_time": "2024-07-11T18:19:20.426Z"
   },
   {
    "duration": 34,
    "start_time": "2024-07-11T18:19:26.206Z"
   },
   {
    "duration": 18,
    "start_time": "2024-07-11T18:19:26.242Z"
   },
   {
    "duration": 16,
    "start_time": "2024-07-11T18:19:26.262Z"
   },
   {
    "duration": 40,
    "start_time": "2024-07-11T18:19:26.280Z"
   },
   {
    "duration": 28,
    "start_time": "2024-07-11T18:19:26.322Z"
   },
   {
    "duration": 7,
    "start_time": "2024-07-11T18:19:26.351Z"
   },
   {
    "duration": 29,
    "start_time": "2024-07-11T18:19:26.360Z"
   },
   {
    "duration": 9,
    "start_time": "2024-07-11T18:19:26.391Z"
   },
   {
    "duration": 28,
    "start_time": "2024-07-11T18:19:26.401Z"
   },
   {
    "duration": 12,
    "start_time": "2024-07-11T18:19:26.430Z"
   }
  ],
  "kernelspec": {
   "display_name": "Python 3 (ipykernel)",
   "language": "python",
   "name": "python3"
  },
  "language_info": {
   "codemirror_mode": {
    "name": "ipython",
    "version": 3
   },
   "file_extension": ".py",
   "mimetype": "text/x-python",
   "name": "python",
   "nbconvert_exporter": "python",
   "pygments_lexer": "ipython3",
   "version": "3.11.5"
  },
  "toc": {
   "base_numbering": 1,
   "nav_menu": {},
   "number_sections": true,
   "sideBar": true,
   "skip_h1_title": true,
   "title_cell": "Table of Contents",
   "title_sidebar": "Contents",
   "toc_cell": false,
   "toc_position": {},
   "toc_section_display": true,
   "toc_window_display": true
  }
 },
 "nbformat": 4,
 "nbformat_minor": 2
}
